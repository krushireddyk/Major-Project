{
  "nbformat": 4,
  "nbformat_minor": 0,
  "metadata": {
    "colab": {
      "provenance": []
    },
    "kernelspec": {
      "name": "python3",
      "display_name": "Python 3"
    },
    "language_info": {
      "name": "python"
    },
    "widgets": {
      "application/vnd.jupyter.widget-state+json": {
        "8af26d9cad1f42bfbd35a939599e1843": {
          "model_module": "@jupyter-widgets/controls",
          "model_name": "HBoxModel",
          "model_module_version": "1.5.0",
          "state": {
            "_dom_classes": [],
            "_model_module": "@jupyter-widgets/controls",
            "_model_module_version": "1.5.0",
            "_model_name": "HBoxModel",
            "_view_count": null,
            "_view_module": "@jupyter-widgets/controls",
            "_view_module_version": "1.5.0",
            "_view_name": "HBoxView",
            "box_style": "",
            "children": [
              "IPY_MODEL_b9d9189a66034dbfb90b0ec027f2141b",
              "IPY_MODEL_1c1553a438774f93a9226658d1b09293",
              "IPY_MODEL_b72cf540cccc4fdca139e84021f09c23"
            ],
            "layout": "IPY_MODEL_b272ae276d174b9483659ff6ca3cecb1"
          }
        },
        "b9d9189a66034dbfb90b0ec027f2141b": {
          "model_module": "@jupyter-widgets/controls",
          "model_name": "HTMLModel",
          "model_module_version": "1.5.0",
          "state": {
            "_dom_classes": [],
            "_model_module": "@jupyter-widgets/controls",
            "_model_module_version": "1.5.0",
            "_model_name": "HTMLModel",
            "_view_count": null,
            "_view_module": "@jupyter-widgets/controls",
            "_view_module_version": "1.5.0",
            "_view_name": "HTMLView",
            "description": "",
            "description_tooltip": null,
            "layout": "IPY_MODEL_5c9c0e48e76843e79eb134c50e031fe8",
            "placeholder": "​",
            "style": "IPY_MODEL_b54255fc5e91407b9c6996bd6a827504",
            "value": "config.json: 100%"
          }
        },
        "1c1553a438774f93a9226658d1b09293": {
          "model_module": "@jupyter-widgets/controls",
          "model_name": "FloatProgressModel",
          "model_module_version": "1.5.0",
          "state": {
            "_dom_classes": [],
            "_model_module": "@jupyter-widgets/controls",
            "_model_module_version": "1.5.0",
            "_model_name": "FloatProgressModel",
            "_view_count": null,
            "_view_module": "@jupyter-widgets/controls",
            "_view_module_version": "1.5.0",
            "_view_name": "ProgressView",
            "bar_style": "success",
            "description": "",
            "description_tooltip": null,
            "layout": "IPY_MODEL_cc0f95e45e3a42fa858872aa9e7e9c0c",
            "max": 135543,
            "min": 0,
            "orientation": "horizontal",
            "style": "IPY_MODEL_df1aa0d62d3f4e16a553c8cd7000e4ce",
            "value": 135543
          }
        },
        "b72cf540cccc4fdca139e84021f09c23": {
          "model_module": "@jupyter-widgets/controls",
          "model_name": "HTMLModel",
          "model_module_version": "1.5.0",
          "state": {
            "_dom_classes": [],
            "_model_module": "@jupyter-widgets/controls",
            "_model_module_version": "1.5.0",
            "_model_name": "HTMLModel",
            "_view_count": null,
            "_view_module": "@jupyter-widgets/controls",
            "_view_module_version": "1.5.0",
            "_view_name": "HTMLView",
            "description": "",
            "description_tooltip": null,
            "layout": "IPY_MODEL_55c5a65e6eb0460a8e16284ffd0af271",
            "placeholder": "​",
            "style": "IPY_MODEL_ccd92bcb936c4dea9c6bf38377a69f37",
            "value": " 136k/136k [00:00&lt;00:00, 1.71MB/s]"
          }
        },
        "b272ae276d174b9483659ff6ca3cecb1": {
          "model_module": "@jupyter-widgets/base",
          "model_name": "LayoutModel",
          "model_module_version": "1.2.0",
          "state": {
            "_model_module": "@jupyter-widgets/base",
            "_model_module_version": "1.2.0",
            "_model_name": "LayoutModel",
            "_view_count": null,
            "_view_module": "@jupyter-widgets/base",
            "_view_module_version": "1.2.0",
            "_view_name": "LayoutView",
            "align_content": null,
            "align_items": null,
            "align_self": null,
            "border": null,
            "bottom": null,
            "display": null,
            "flex": null,
            "flex_flow": null,
            "grid_area": null,
            "grid_auto_columns": null,
            "grid_auto_flow": null,
            "grid_auto_rows": null,
            "grid_column": null,
            "grid_gap": null,
            "grid_row": null,
            "grid_template_areas": null,
            "grid_template_columns": null,
            "grid_template_rows": null,
            "height": null,
            "justify_content": null,
            "justify_items": null,
            "left": null,
            "margin": null,
            "max_height": null,
            "max_width": null,
            "min_height": null,
            "min_width": null,
            "object_fit": null,
            "object_position": null,
            "order": null,
            "overflow": null,
            "overflow_x": null,
            "overflow_y": null,
            "padding": null,
            "right": null,
            "top": null,
            "visibility": null,
            "width": null
          }
        },
        "5c9c0e48e76843e79eb134c50e031fe8": {
          "model_module": "@jupyter-widgets/base",
          "model_name": "LayoutModel",
          "model_module_version": "1.2.0",
          "state": {
            "_model_module": "@jupyter-widgets/base",
            "_model_module_version": "1.2.0",
            "_model_name": "LayoutModel",
            "_view_count": null,
            "_view_module": "@jupyter-widgets/base",
            "_view_module_version": "1.2.0",
            "_view_name": "LayoutView",
            "align_content": null,
            "align_items": null,
            "align_self": null,
            "border": null,
            "bottom": null,
            "display": null,
            "flex": null,
            "flex_flow": null,
            "grid_area": null,
            "grid_auto_columns": null,
            "grid_auto_flow": null,
            "grid_auto_rows": null,
            "grid_column": null,
            "grid_gap": null,
            "grid_row": null,
            "grid_template_areas": null,
            "grid_template_columns": null,
            "grid_template_rows": null,
            "height": null,
            "justify_content": null,
            "justify_items": null,
            "left": null,
            "margin": null,
            "max_height": null,
            "max_width": null,
            "min_height": null,
            "min_width": null,
            "object_fit": null,
            "object_position": null,
            "order": null,
            "overflow": null,
            "overflow_x": null,
            "overflow_y": null,
            "padding": null,
            "right": null,
            "top": null,
            "visibility": null,
            "width": null
          }
        },
        "b54255fc5e91407b9c6996bd6a827504": {
          "model_module": "@jupyter-widgets/controls",
          "model_name": "DescriptionStyleModel",
          "model_module_version": "1.5.0",
          "state": {
            "_model_module": "@jupyter-widgets/controls",
            "_model_module_version": "1.5.0",
            "_model_name": "DescriptionStyleModel",
            "_view_count": null,
            "_view_module": "@jupyter-widgets/base",
            "_view_module_version": "1.2.0",
            "_view_name": "StyleView",
            "description_width": ""
          }
        },
        "cc0f95e45e3a42fa858872aa9e7e9c0c": {
          "model_module": "@jupyter-widgets/base",
          "model_name": "LayoutModel",
          "model_module_version": "1.2.0",
          "state": {
            "_model_module": "@jupyter-widgets/base",
            "_model_module_version": "1.2.0",
            "_model_name": "LayoutModel",
            "_view_count": null,
            "_view_module": "@jupyter-widgets/base",
            "_view_module_version": "1.2.0",
            "_view_name": "LayoutView",
            "align_content": null,
            "align_items": null,
            "align_self": null,
            "border": null,
            "bottom": null,
            "display": null,
            "flex": null,
            "flex_flow": null,
            "grid_area": null,
            "grid_auto_columns": null,
            "grid_auto_flow": null,
            "grid_auto_rows": null,
            "grid_column": null,
            "grid_gap": null,
            "grid_row": null,
            "grid_template_areas": null,
            "grid_template_columns": null,
            "grid_template_rows": null,
            "height": null,
            "justify_content": null,
            "justify_items": null,
            "left": null,
            "margin": null,
            "max_height": null,
            "max_width": null,
            "min_height": null,
            "min_width": null,
            "object_fit": null,
            "object_position": null,
            "order": null,
            "overflow": null,
            "overflow_x": null,
            "overflow_y": null,
            "padding": null,
            "right": null,
            "top": null,
            "visibility": null,
            "width": null
          }
        },
        "df1aa0d62d3f4e16a553c8cd7000e4ce": {
          "model_module": "@jupyter-widgets/controls",
          "model_name": "ProgressStyleModel",
          "model_module_version": "1.5.0",
          "state": {
            "_model_module": "@jupyter-widgets/controls",
            "_model_module_version": "1.5.0",
            "_model_name": "ProgressStyleModel",
            "_view_count": null,
            "_view_module": "@jupyter-widgets/base",
            "_view_module_version": "1.2.0",
            "_view_name": "StyleView",
            "bar_color": null,
            "description_width": ""
          }
        },
        "55c5a65e6eb0460a8e16284ffd0af271": {
          "model_module": "@jupyter-widgets/base",
          "model_name": "LayoutModel",
          "model_module_version": "1.2.0",
          "state": {
            "_model_module": "@jupyter-widgets/base",
            "_model_module_version": "1.2.0",
            "_model_name": "LayoutModel",
            "_view_count": null,
            "_view_module": "@jupyter-widgets/base",
            "_view_module_version": "1.2.0",
            "_view_name": "LayoutView",
            "align_content": null,
            "align_items": null,
            "align_self": null,
            "border": null,
            "bottom": null,
            "display": null,
            "flex": null,
            "flex_flow": null,
            "grid_area": null,
            "grid_auto_columns": null,
            "grid_auto_flow": null,
            "grid_auto_rows": null,
            "grid_column": null,
            "grid_gap": null,
            "grid_row": null,
            "grid_template_areas": null,
            "grid_template_columns": null,
            "grid_template_rows": null,
            "height": null,
            "justify_content": null,
            "justify_items": null,
            "left": null,
            "margin": null,
            "max_height": null,
            "max_width": null,
            "min_height": null,
            "min_width": null,
            "object_fit": null,
            "object_position": null,
            "order": null,
            "overflow": null,
            "overflow_x": null,
            "overflow_y": null,
            "padding": null,
            "right": null,
            "top": null,
            "visibility": null,
            "width": null
          }
        },
        "ccd92bcb936c4dea9c6bf38377a69f37": {
          "model_module": "@jupyter-widgets/controls",
          "model_name": "DescriptionStyleModel",
          "model_module_version": "1.5.0",
          "state": {
            "_model_module": "@jupyter-widgets/controls",
            "_model_module_version": "1.5.0",
            "_model_name": "DescriptionStyleModel",
            "_view_count": null,
            "_view_module": "@jupyter-widgets/base",
            "_view_module_version": "1.2.0",
            "_view_name": "StyleView",
            "description_width": ""
          }
        },
        "08c1cd39321841ed8a40835d8cbf2294": {
          "model_module": "@jupyter-widgets/controls",
          "model_name": "HBoxModel",
          "model_module_version": "1.5.0",
          "state": {
            "_dom_classes": [],
            "_model_module": "@jupyter-widgets/controls",
            "_model_module_version": "1.5.0",
            "_model_name": "HBoxModel",
            "_view_count": null,
            "_view_module": "@jupyter-widgets/controls",
            "_view_module_version": "1.5.0",
            "_view_name": "HBoxView",
            "box_style": "",
            "children": [
              "IPY_MODEL_d5e11ec554f24718bd95b42633ef3f79",
              "IPY_MODEL_1b4a029647d34744a9a207223526c5be",
              "IPY_MODEL_742fdae9cd3e4040b6682b3bb250d31b"
            ],
            "layout": "IPY_MODEL_43e4fcf9383e47d6a5d7deee1d38e7a5"
          }
        },
        "d5e11ec554f24718bd95b42633ef3f79": {
          "model_module": "@jupyter-widgets/controls",
          "model_name": "HTMLModel",
          "model_module_version": "1.5.0",
          "state": {
            "_dom_classes": [],
            "_model_module": "@jupyter-widgets/controls",
            "_model_module_version": "1.5.0",
            "_model_name": "HTMLModel",
            "_view_count": null,
            "_view_module": "@jupyter-widgets/controls",
            "_view_module_version": "1.5.0",
            "_view_name": "HTMLView",
            "description": "",
            "description_tooltip": null,
            "layout": "IPY_MODEL_782cb4988d414b379a5627842013ddf4",
            "placeholder": "​",
            "style": "IPY_MODEL_eee041317a7547a39993c6d710a4b3f2",
            "value": "pytorch_model.bin: 100%"
          }
        },
        "1b4a029647d34744a9a207223526c5be": {
          "model_module": "@jupyter-widgets/controls",
          "model_name": "FloatProgressModel",
          "model_module_version": "1.5.0",
          "state": {
            "_dom_classes": [],
            "_model_module": "@jupyter-widgets/controls",
            "_model_module_version": "1.5.0",
            "_model_name": "FloatProgressModel",
            "_view_count": null,
            "_view_module": "@jupyter-widgets/controls",
            "_view_module_version": "1.5.0",
            "_view_name": "ProgressView",
            "bar_style": "success",
            "description": "",
            "description_tooltip": null,
            "layout": "IPY_MODEL_77c890ad7c0e4b8ab3d4485f78db5190",
            "max": 470435927,
            "min": 0,
            "orientation": "horizontal",
            "style": "IPY_MODEL_3edd8dc33d184c6099979aa47fe60dd5",
            "value": 470435927
          }
        },
        "742fdae9cd3e4040b6682b3bb250d31b": {
          "model_module": "@jupyter-widgets/controls",
          "model_name": "HTMLModel",
          "model_module_version": "1.5.0",
          "state": {
            "_dom_classes": [],
            "_model_module": "@jupyter-widgets/controls",
            "_model_module_version": "1.5.0",
            "_model_name": "HTMLModel",
            "_view_count": null,
            "_view_module": "@jupyter-widgets/controls",
            "_view_module_version": "1.5.0",
            "_view_name": "HTMLView",
            "description": "",
            "description_tooltip": null,
            "layout": "IPY_MODEL_09b3f5d9b5314c20a266a3066ae21a75",
            "placeholder": "​",
            "style": "IPY_MODEL_81bd59e1c9134b039d664861c12475e4",
            "value": " 470M/470M [00:05&lt;00:00, 132MB/s]"
          }
        },
        "43e4fcf9383e47d6a5d7deee1d38e7a5": {
          "model_module": "@jupyter-widgets/base",
          "model_name": "LayoutModel",
          "model_module_version": "1.2.0",
          "state": {
            "_model_module": "@jupyter-widgets/base",
            "_model_module_version": "1.2.0",
            "_model_name": "LayoutModel",
            "_view_count": null,
            "_view_module": "@jupyter-widgets/base",
            "_view_module_version": "1.2.0",
            "_view_name": "LayoutView",
            "align_content": null,
            "align_items": null,
            "align_self": null,
            "border": null,
            "bottom": null,
            "display": null,
            "flex": null,
            "flex_flow": null,
            "grid_area": null,
            "grid_auto_columns": null,
            "grid_auto_flow": null,
            "grid_auto_rows": null,
            "grid_column": null,
            "grid_gap": null,
            "grid_row": null,
            "grid_template_areas": null,
            "grid_template_columns": null,
            "grid_template_rows": null,
            "height": null,
            "justify_content": null,
            "justify_items": null,
            "left": null,
            "margin": null,
            "max_height": null,
            "max_width": null,
            "min_height": null,
            "min_width": null,
            "object_fit": null,
            "object_position": null,
            "order": null,
            "overflow": null,
            "overflow_x": null,
            "overflow_y": null,
            "padding": null,
            "right": null,
            "top": null,
            "visibility": null,
            "width": null
          }
        },
        "782cb4988d414b379a5627842013ddf4": {
          "model_module": "@jupyter-widgets/base",
          "model_name": "LayoutModel",
          "model_module_version": "1.2.0",
          "state": {
            "_model_module": "@jupyter-widgets/base",
            "_model_module_version": "1.2.0",
            "_model_name": "LayoutModel",
            "_view_count": null,
            "_view_module": "@jupyter-widgets/base",
            "_view_module_version": "1.2.0",
            "_view_name": "LayoutView",
            "align_content": null,
            "align_items": null,
            "align_self": null,
            "border": null,
            "bottom": null,
            "display": null,
            "flex": null,
            "flex_flow": null,
            "grid_area": null,
            "grid_auto_columns": null,
            "grid_auto_flow": null,
            "grid_auto_rows": null,
            "grid_column": null,
            "grid_gap": null,
            "grid_row": null,
            "grid_template_areas": null,
            "grid_template_columns": null,
            "grid_template_rows": null,
            "height": null,
            "justify_content": null,
            "justify_items": null,
            "left": null,
            "margin": null,
            "max_height": null,
            "max_width": null,
            "min_height": null,
            "min_width": null,
            "object_fit": null,
            "object_position": null,
            "order": null,
            "overflow": null,
            "overflow_x": null,
            "overflow_y": null,
            "padding": null,
            "right": null,
            "top": null,
            "visibility": null,
            "width": null
          }
        },
        "eee041317a7547a39993c6d710a4b3f2": {
          "model_module": "@jupyter-widgets/controls",
          "model_name": "DescriptionStyleModel",
          "model_module_version": "1.5.0",
          "state": {
            "_model_module": "@jupyter-widgets/controls",
            "_model_module_version": "1.5.0",
            "_model_name": "DescriptionStyleModel",
            "_view_count": null,
            "_view_module": "@jupyter-widgets/base",
            "_view_module_version": "1.2.0",
            "_view_name": "StyleView",
            "description_width": ""
          }
        },
        "77c890ad7c0e4b8ab3d4485f78db5190": {
          "model_module": "@jupyter-widgets/base",
          "model_name": "LayoutModel",
          "model_module_version": "1.2.0",
          "state": {
            "_model_module": "@jupyter-widgets/base",
            "_model_module_version": "1.2.0",
            "_model_name": "LayoutModel",
            "_view_count": null,
            "_view_module": "@jupyter-widgets/base",
            "_view_module_version": "1.2.0",
            "_view_name": "LayoutView",
            "align_content": null,
            "align_items": null,
            "align_self": null,
            "border": null,
            "bottom": null,
            "display": null,
            "flex": null,
            "flex_flow": null,
            "grid_area": null,
            "grid_auto_columns": null,
            "grid_auto_flow": null,
            "grid_auto_rows": null,
            "grid_column": null,
            "grid_gap": null,
            "grid_row": null,
            "grid_template_areas": null,
            "grid_template_columns": null,
            "grid_template_rows": null,
            "height": null,
            "justify_content": null,
            "justify_items": null,
            "left": null,
            "margin": null,
            "max_height": null,
            "max_width": null,
            "min_height": null,
            "min_width": null,
            "object_fit": null,
            "object_position": null,
            "order": null,
            "overflow": null,
            "overflow_x": null,
            "overflow_y": null,
            "padding": null,
            "right": null,
            "top": null,
            "visibility": null,
            "width": null
          }
        },
        "3edd8dc33d184c6099979aa47fe60dd5": {
          "model_module": "@jupyter-widgets/controls",
          "model_name": "ProgressStyleModel",
          "model_module_version": "1.5.0",
          "state": {
            "_model_module": "@jupyter-widgets/controls",
            "_model_module_version": "1.5.0",
            "_model_name": "ProgressStyleModel",
            "_view_count": null,
            "_view_module": "@jupyter-widgets/base",
            "_view_module_version": "1.2.0",
            "_view_name": "StyleView",
            "bar_color": null,
            "description_width": ""
          }
        },
        "09b3f5d9b5314c20a266a3066ae21a75": {
          "model_module": "@jupyter-widgets/base",
          "model_name": "LayoutModel",
          "model_module_version": "1.2.0",
          "state": {
            "_model_module": "@jupyter-widgets/base",
            "_model_module_version": "1.2.0",
            "_model_name": "LayoutModel",
            "_view_count": null,
            "_view_module": "@jupyter-widgets/base",
            "_view_module_version": "1.2.0",
            "_view_name": "LayoutView",
            "align_content": null,
            "align_items": null,
            "align_self": null,
            "border": null,
            "bottom": null,
            "display": null,
            "flex": null,
            "flex_flow": null,
            "grid_area": null,
            "grid_auto_columns": null,
            "grid_auto_flow": null,
            "grid_auto_rows": null,
            "grid_column": null,
            "grid_gap": null,
            "grid_row": null,
            "grid_template_areas": null,
            "grid_template_columns": null,
            "grid_template_rows": null,
            "height": null,
            "justify_content": null,
            "justify_items": null,
            "left": null,
            "margin": null,
            "max_height": null,
            "max_width": null,
            "min_height": null,
            "min_width": null,
            "object_fit": null,
            "object_position": null,
            "order": null,
            "overflow": null,
            "overflow_x": null,
            "overflow_y": null,
            "padding": null,
            "right": null,
            "top": null,
            "visibility": null,
            "width": null
          }
        },
        "81bd59e1c9134b039d664861c12475e4": {
          "model_module": "@jupyter-widgets/controls",
          "model_name": "DescriptionStyleModel",
          "model_module_version": "1.5.0",
          "state": {
            "_model_module": "@jupyter-widgets/controls",
            "_model_module_version": "1.5.0",
            "_model_name": "DescriptionStyleModel",
            "_view_count": null,
            "_view_module": "@jupyter-widgets/base",
            "_view_module_version": "1.2.0",
            "_view_name": "StyleView",
            "description_width": ""
          }
        },
        "5315393111aa49a8875c00acd852373a": {
          "model_module": "@jupyter-widgets/controls",
          "model_name": "HBoxModel",
          "model_module_version": "1.5.0",
          "state": {
            "_dom_classes": [],
            "_model_module": "@jupyter-widgets/controls",
            "_model_module_version": "1.5.0",
            "_model_name": "HBoxModel",
            "_view_count": null,
            "_view_module": "@jupyter-widgets/controls",
            "_view_module_version": "1.5.0",
            "_view_name": "HBoxView",
            "box_style": "",
            "children": [
              "IPY_MODEL_83151d7349de49a39bdb27ff017c217b",
              "IPY_MODEL_868347717eec49f79684cdc9bec126d3",
              "IPY_MODEL_640fee41763541e28d781db77e6b2d63"
            ],
            "layout": "IPY_MODEL_60cf13050c864d30bbbd945aa8246a40"
          }
        },
        "83151d7349de49a39bdb27ff017c217b": {
          "model_module": "@jupyter-widgets/controls",
          "model_name": "HTMLModel",
          "model_module_version": "1.5.0",
          "state": {
            "_dom_classes": [],
            "_model_module": "@jupyter-widgets/controls",
            "_model_module_version": "1.5.0",
            "_model_name": "HTMLModel",
            "_view_count": null,
            "_view_module": "@jupyter-widgets/controls",
            "_view_module_version": "1.5.0",
            "_view_name": "HTMLView",
            "description": "",
            "description_tooltip": null,
            "layout": "IPY_MODEL_3867c734425b4b2eba80a9063f6433e1",
            "placeholder": "​",
            "style": "IPY_MODEL_544b70f1a897438a9b8c5188150091f9",
            "value": "tokenizer_config.json: 100%"
          }
        },
        "868347717eec49f79684cdc9bec126d3": {
          "model_module": "@jupyter-widgets/controls",
          "model_name": "FloatProgressModel",
          "model_module_version": "1.5.0",
          "state": {
            "_dom_classes": [],
            "_model_module": "@jupyter-widgets/controls",
            "_model_module_version": "1.5.0",
            "_model_name": "FloatProgressModel",
            "_view_count": null,
            "_view_module": "@jupyter-widgets/controls",
            "_view_module_version": "1.5.0",
            "_view_name": "ProgressView",
            "bar_style": "success",
            "description": "",
            "description_tooltip": null,
            "layout": "IPY_MODEL_bc38542b85564ba8b9fd914cda668ad9",
            "max": 320,
            "min": 0,
            "orientation": "horizontal",
            "style": "IPY_MODEL_5550e7c5478f41d08a588a35ce05ce10",
            "value": 320
          }
        },
        "640fee41763541e28d781db77e6b2d63": {
          "model_module": "@jupyter-widgets/controls",
          "model_name": "HTMLModel",
          "model_module_version": "1.5.0",
          "state": {
            "_dom_classes": [],
            "_model_module": "@jupyter-widgets/controls",
            "_model_module_version": "1.5.0",
            "_model_name": "HTMLModel",
            "_view_count": null,
            "_view_module": "@jupyter-widgets/controls",
            "_view_module_version": "1.5.0",
            "_view_name": "HTMLView",
            "description": "",
            "description_tooltip": null,
            "layout": "IPY_MODEL_e52b7d8dd3fb450cb315e97c90a8d2f2",
            "placeholder": "​",
            "style": "IPY_MODEL_9be98d38d1c14b0f85115aaee79a71f3",
            "value": " 320/320 [00:00&lt;00:00, 14.9kB/s]"
          }
        },
        "60cf13050c864d30bbbd945aa8246a40": {
          "model_module": "@jupyter-widgets/base",
          "model_name": "LayoutModel",
          "model_module_version": "1.2.0",
          "state": {
            "_model_module": "@jupyter-widgets/base",
            "_model_module_version": "1.2.0",
            "_model_name": "LayoutModel",
            "_view_count": null,
            "_view_module": "@jupyter-widgets/base",
            "_view_module_version": "1.2.0",
            "_view_name": "LayoutView",
            "align_content": null,
            "align_items": null,
            "align_self": null,
            "border": null,
            "bottom": null,
            "display": null,
            "flex": null,
            "flex_flow": null,
            "grid_area": null,
            "grid_auto_columns": null,
            "grid_auto_flow": null,
            "grid_auto_rows": null,
            "grid_column": null,
            "grid_gap": null,
            "grid_row": null,
            "grid_template_areas": null,
            "grid_template_columns": null,
            "grid_template_rows": null,
            "height": null,
            "justify_content": null,
            "justify_items": null,
            "left": null,
            "margin": null,
            "max_height": null,
            "max_width": null,
            "min_height": null,
            "min_width": null,
            "object_fit": null,
            "object_position": null,
            "order": null,
            "overflow": null,
            "overflow_x": null,
            "overflow_y": null,
            "padding": null,
            "right": null,
            "top": null,
            "visibility": null,
            "width": null
          }
        },
        "3867c734425b4b2eba80a9063f6433e1": {
          "model_module": "@jupyter-widgets/base",
          "model_name": "LayoutModel",
          "model_module_version": "1.2.0",
          "state": {
            "_model_module": "@jupyter-widgets/base",
            "_model_module_version": "1.2.0",
            "_model_name": "LayoutModel",
            "_view_count": null,
            "_view_module": "@jupyter-widgets/base",
            "_view_module_version": "1.2.0",
            "_view_name": "LayoutView",
            "align_content": null,
            "align_items": null,
            "align_self": null,
            "border": null,
            "bottom": null,
            "display": null,
            "flex": null,
            "flex_flow": null,
            "grid_area": null,
            "grid_auto_columns": null,
            "grid_auto_flow": null,
            "grid_auto_rows": null,
            "grid_column": null,
            "grid_gap": null,
            "grid_row": null,
            "grid_template_areas": null,
            "grid_template_columns": null,
            "grid_template_rows": null,
            "height": null,
            "justify_content": null,
            "justify_items": null,
            "left": null,
            "margin": null,
            "max_height": null,
            "max_width": null,
            "min_height": null,
            "min_width": null,
            "object_fit": null,
            "object_position": null,
            "order": null,
            "overflow": null,
            "overflow_x": null,
            "overflow_y": null,
            "padding": null,
            "right": null,
            "top": null,
            "visibility": null,
            "width": null
          }
        },
        "544b70f1a897438a9b8c5188150091f9": {
          "model_module": "@jupyter-widgets/controls",
          "model_name": "DescriptionStyleModel",
          "model_module_version": "1.5.0",
          "state": {
            "_model_module": "@jupyter-widgets/controls",
            "_model_module_version": "1.5.0",
            "_model_name": "DescriptionStyleModel",
            "_view_count": null,
            "_view_module": "@jupyter-widgets/base",
            "_view_module_version": "1.2.0",
            "_view_name": "StyleView",
            "description_width": ""
          }
        },
        "bc38542b85564ba8b9fd914cda668ad9": {
          "model_module": "@jupyter-widgets/base",
          "model_name": "LayoutModel",
          "model_module_version": "1.2.0",
          "state": {
            "_model_module": "@jupyter-widgets/base",
            "_model_module_version": "1.2.0",
            "_model_name": "LayoutModel",
            "_view_count": null,
            "_view_module": "@jupyter-widgets/base",
            "_view_module_version": "1.2.0",
            "_view_name": "LayoutView",
            "align_content": null,
            "align_items": null,
            "align_self": null,
            "border": null,
            "bottom": null,
            "display": null,
            "flex": null,
            "flex_flow": null,
            "grid_area": null,
            "grid_auto_columns": null,
            "grid_auto_flow": null,
            "grid_auto_rows": null,
            "grid_column": null,
            "grid_gap": null,
            "grid_row": null,
            "grid_template_areas": null,
            "grid_template_columns": null,
            "grid_template_rows": null,
            "height": null,
            "justify_content": null,
            "justify_items": null,
            "left": null,
            "margin": null,
            "max_height": null,
            "max_width": null,
            "min_height": null,
            "min_width": null,
            "object_fit": null,
            "object_position": null,
            "order": null,
            "overflow": null,
            "overflow_x": null,
            "overflow_y": null,
            "padding": null,
            "right": null,
            "top": null,
            "visibility": null,
            "width": null
          }
        },
        "5550e7c5478f41d08a588a35ce05ce10": {
          "model_module": "@jupyter-widgets/controls",
          "model_name": "ProgressStyleModel",
          "model_module_version": "1.5.0",
          "state": {
            "_model_module": "@jupyter-widgets/controls",
            "_model_module_version": "1.5.0",
            "_model_name": "ProgressStyleModel",
            "_view_count": null,
            "_view_module": "@jupyter-widgets/base",
            "_view_module_version": "1.2.0",
            "_view_name": "StyleView",
            "bar_color": null,
            "description_width": ""
          }
        },
        "e52b7d8dd3fb450cb315e97c90a8d2f2": {
          "model_module": "@jupyter-widgets/base",
          "model_name": "LayoutModel",
          "model_module_version": "1.2.0",
          "state": {
            "_model_module": "@jupyter-widgets/base",
            "_model_module_version": "1.2.0",
            "_model_name": "LayoutModel",
            "_view_count": null,
            "_view_module": "@jupyter-widgets/base",
            "_view_module_version": "1.2.0",
            "_view_name": "LayoutView",
            "align_content": null,
            "align_items": null,
            "align_self": null,
            "border": null,
            "bottom": null,
            "display": null,
            "flex": null,
            "flex_flow": null,
            "grid_area": null,
            "grid_auto_columns": null,
            "grid_auto_flow": null,
            "grid_auto_rows": null,
            "grid_column": null,
            "grid_gap": null,
            "grid_row": null,
            "grid_template_areas": null,
            "grid_template_columns": null,
            "grid_template_rows": null,
            "height": null,
            "justify_content": null,
            "justify_items": null,
            "left": null,
            "margin": null,
            "max_height": null,
            "max_width": null,
            "min_height": null,
            "min_width": null,
            "object_fit": null,
            "object_position": null,
            "order": null,
            "overflow": null,
            "overflow_x": null,
            "overflow_y": null,
            "padding": null,
            "right": null,
            "top": null,
            "visibility": null,
            "width": null
          }
        },
        "9be98d38d1c14b0f85115aaee79a71f3": {
          "model_module": "@jupyter-widgets/controls",
          "model_name": "DescriptionStyleModel",
          "model_module_version": "1.5.0",
          "state": {
            "_model_module": "@jupyter-widgets/controls",
            "_model_module_version": "1.5.0",
            "_model_name": "DescriptionStyleModel",
            "_view_count": null,
            "_view_module": "@jupyter-widgets/base",
            "_view_module_version": "1.2.0",
            "_view_name": "StyleView",
            "description_width": ""
          }
        },
        "5248c861ad1f40aaa15ba5a3fd658030": {
          "model_module": "@jupyter-widgets/controls",
          "model_name": "HBoxModel",
          "model_module_version": "1.5.0",
          "state": {
            "_dom_classes": [],
            "_model_module": "@jupyter-widgets/controls",
            "_model_module_version": "1.5.0",
            "_model_name": "HBoxModel",
            "_view_count": null,
            "_view_module": "@jupyter-widgets/controls",
            "_view_module_version": "1.5.0",
            "_view_name": "HBoxView",
            "box_style": "",
            "children": [
              "IPY_MODEL_32dd7b8bb628406e8c3438ea41f67ae9",
              "IPY_MODEL_996a28d4ff8446e0a02b28691e9142ed",
              "IPY_MODEL_f5a4b80ff97a4eb388ac1e8dfbb32da5"
            ],
            "layout": "IPY_MODEL_b8fc32e19c1746caa688c57b8a4d8d16"
          }
        },
        "32dd7b8bb628406e8c3438ea41f67ae9": {
          "model_module": "@jupyter-widgets/controls",
          "model_name": "HTMLModel",
          "model_module_version": "1.5.0",
          "state": {
            "_dom_classes": [],
            "_model_module": "@jupyter-widgets/controls",
            "_model_module_version": "1.5.0",
            "_model_name": "HTMLModel",
            "_view_count": null,
            "_view_module": "@jupyter-widgets/controls",
            "_view_module_version": "1.5.0",
            "_view_name": "HTMLView",
            "description": "",
            "description_tooltip": null,
            "layout": "IPY_MODEL_8fc2024f82444f77af23efaad0b5ea6c",
            "placeholder": "​",
            "style": "IPY_MODEL_f211abaa66194acf89120e993c812343",
            "value": "vocab.txt: 100%"
          }
        },
        "996a28d4ff8446e0a02b28691e9142ed": {
          "model_module": "@jupyter-widgets/controls",
          "model_name": "FloatProgressModel",
          "model_module_version": "1.5.0",
          "state": {
            "_dom_classes": [],
            "_model_module": "@jupyter-widgets/controls",
            "_model_module_version": "1.5.0",
            "_model_name": "FloatProgressModel",
            "_view_count": null,
            "_view_module": "@jupyter-widgets/controls",
            "_view_module_version": "1.5.0",
            "_view_name": "ProgressView",
            "bar_style": "success",
            "description": "",
            "description_tooltip": null,
            "layout": "IPY_MODEL_40a3bb087c484db4aef93e2daa6bbf3b",
            "max": 231508,
            "min": 0,
            "orientation": "horizontal",
            "style": "IPY_MODEL_8f73e061d8604df1b4c076b0254b6a12",
            "value": 231508
          }
        },
        "f5a4b80ff97a4eb388ac1e8dfbb32da5": {
          "model_module": "@jupyter-widgets/controls",
          "model_name": "HTMLModel",
          "model_module_version": "1.5.0",
          "state": {
            "_dom_classes": [],
            "_model_module": "@jupyter-widgets/controls",
            "_model_module_version": "1.5.0",
            "_model_name": "HTMLModel",
            "_view_count": null,
            "_view_module": "@jupyter-widgets/controls",
            "_view_module_version": "1.5.0",
            "_view_name": "HTMLView",
            "description": "",
            "description_tooltip": null,
            "layout": "IPY_MODEL_0eb8748b97cf42fb8b3983d27441bfc5",
            "placeholder": "​",
            "style": "IPY_MODEL_60c10bf3f4b04935b9be95ba06da2720",
            "value": " 232k/232k [00:00&lt;00:00, 2.47MB/s]"
          }
        },
        "b8fc32e19c1746caa688c57b8a4d8d16": {
          "model_module": "@jupyter-widgets/base",
          "model_name": "LayoutModel",
          "model_module_version": "1.2.0",
          "state": {
            "_model_module": "@jupyter-widgets/base",
            "_model_module_version": "1.2.0",
            "_model_name": "LayoutModel",
            "_view_count": null,
            "_view_module": "@jupyter-widgets/base",
            "_view_module_version": "1.2.0",
            "_view_name": "LayoutView",
            "align_content": null,
            "align_items": null,
            "align_self": null,
            "border": null,
            "bottom": null,
            "display": null,
            "flex": null,
            "flex_flow": null,
            "grid_area": null,
            "grid_auto_columns": null,
            "grid_auto_flow": null,
            "grid_auto_rows": null,
            "grid_column": null,
            "grid_gap": null,
            "grid_row": null,
            "grid_template_areas": null,
            "grid_template_columns": null,
            "grid_template_rows": null,
            "height": null,
            "justify_content": null,
            "justify_items": null,
            "left": null,
            "margin": null,
            "max_height": null,
            "max_width": null,
            "min_height": null,
            "min_width": null,
            "object_fit": null,
            "object_position": null,
            "order": null,
            "overflow": null,
            "overflow_x": null,
            "overflow_y": null,
            "padding": null,
            "right": null,
            "top": null,
            "visibility": null,
            "width": null
          }
        },
        "8fc2024f82444f77af23efaad0b5ea6c": {
          "model_module": "@jupyter-widgets/base",
          "model_name": "LayoutModel",
          "model_module_version": "1.2.0",
          "state": {
            "_model_module": "@jupyter-widgets/base",
            "_model_module_version": "1.2.0",
            "_model_name": "LayoutModel",
            "_view_count": null,
            "_view_module": "@jupyter-widgets/base",
            "_view_module_version": "1.2.0",
            "_view_name": "LayoutView",
            "align_content": null,
            "align_items": null,
            "align_self": null,
            "border": null,
            "bottom": null,
            "display": null,
            "flex": null,
            "flex_flow": null,
            "grid_area": null,
            "grid_auto_columns": null,
            "grid_auto_flow": null,
            "grid_auto_rows": null,
            "grid_column": null,
            "grid_gap": null,
            "grid_row": null,
            "grid_template_areas": null,
            "grid_template_columns": null,
            "grid_template_rows": null,
            "height": null,
            "justify_content": null,
            "justify_items": null,
            "left": null,
            "margin": null,
            "max_height": null,
            "max_width": null,
            "min_height": null,
            "min_width": null,
            "object_fit": null,
            "object_position": null,
            "order": null,
            "overflow": null,
            "overflow_x": null,
            "overflow_y": null,
            "padding": null,
            "right": null,
            "top": null,
            "visibility": null,
            "width": null
          }
        },
        "f211abaa66194acf89120e993c812343": {
          "model_module": "@jupyter-widgets/controls",
          "model_name": "DescriptionStyleModel",
          "model_module_version": "1.5.0",
          "state": {
            "_model_module": "@jupyter-widgets/controls",
            "_model_module_version": "1.5.0",
            "_model_name": "DescriptionStyleModel",
            "_view_count": null,
            "_view_module": "@jupyter-widgets/base",
            "_view_module_version": "1.2.0",
            "_view_name": "StyleView",
            "description_width": ""
          }
        },
        "40a3bb087c484db4aef93e2daa6bbf3b": {
          "model_module": "@jupyter-widgets/base",
          "model_name": "LayoutModel",
          "model_module_version": "1.2.0",
          "state": {
            "_model_module": "@jupyter-widgets/base",
            "_model_module_version": "1.2.0",
            "_model_name": "LayoutModel",
            "_view_count": null,
            "_view_module": "@jupyter-widgets/base",
            "_view_module_version": "1.2.0",
            "_view_name": "LayoutView",
            "align_content": null,
            "align_items": null,
            "align_self": null,
            "border": null,
            "bottom": null,
            "display": null,
            "flex": null,
            "flex_flow": null,
            "grid_area": null,
            "grid_auto_columns": null,
            "grid_auto_flow": null,
            "grid_auto_rows": null,
            "grid_column": null,
            "grid_gap": null,
            "grid_row": null,
            "grid_template_areas": null,
            "grid_template_columns": null,
            "grid_template_rows": null,
            "height": null,
            "justify_content": null,
            "justify_items": null,
            "left": null,
            "margin": null,
            "max_height": null,
            "max_width": null,
            "min_height": null,
            "min_width": null,
            "object_fit": null,
            "object_position": null,
            "order": null,
            "overflow": null,
            "overflow_x": null,
            "overflow_y": null,
            "padding": null,
            "right": null,
            "top": null,
            "visibility": null,
            "width": null
          }
        },
        "8f73e061d8604df1b4c076b0254b6a12": {
          "model_module": "@jupyter-widgets/controls",
          "model_name": "ProgressStyleModel",
          "model_module_version": "1.5.0",
          "state": {
            "_model_module": "@jupyter-widgets/controls",
            "_model_module_version": "1.5.0",
            "_model_name": "ProgressStyleModel",
            "_view_count": null,
            "_view_module": "@jupyter-widgets/base",
            "_view_module_version": "1.2.0",
            "_view_name": "StyleView",
            "bar_color": null,
            "description_width": ""
          }
        },
        "0eb8748b97cf42fb8b3983d27441bfc5": {
          "model_module": "@jupyter-widgets/base",
          "model_name": "LayoutModel",
          "model_module_version": "1.2.0",
          "state": {
            "_model_module": "@jupyter-widgets/base",
            "_model_module_version": "1.2.0",
            "_model_name": "LayoutModel",
            "_view_count": null,
            "_view_module": "@jupyter-widgets/base",
            "_view_module_version": "1.2.0",
            "_view_name": "LayoutView",
            "align_content": null,
            "align_items": null,
            "align_self": null,
            "border": null,
            "bottom": null,
            "display": null,
            "flex": null,
            "flex_flow": null,
            "grid_area": null,
            "grid_auto_columns": null,
            "grid_auto_flow": null,
            "grid_auto_rows": null,
            "grid_column": null,
            "grid_gap": null,
            "grid_row": null,
            "grid_template_areas": null,
            "grid_template_columns": null,
            "grid_template_rows": null,
            "height": null,
            "justify_content": null,
            "justify_items": null,
            "left": null,
            "margin": null,
            "max_height": null,
            "max_width": null,
            "min_height": null,
            "min_width": null,
            "object_fit": null,
            "object_position": null,
            "order": null,
            "overflow": null,
            "overflow_x": null,
            "overflow_y": null,
            "padding": null,
            "right": null,
            "top": null,
            "visibility": null,
            "width": null
          }
        },
        "60c10bf3f4b04935b9be95ba06da2720": {
          "model_module": "@jupyter-widgets/controls",
          "model_name": "DescriptionStyleModel",
          "model_module_version": "1.5.0",
          "state": {
            "_model_module": "@jupyter-widgets/controls",
            "_model_module_version": "1.5.0",
            "_model_name": "DescriptionStyleModel",
            "_view_count": null,
            "_view_module": "@jupyter-widgets/base",
            "_view_module_version": "1.2.0",
            "_view_name": "StyleView",
            "description_width": ""
          }
        },
        "1eaaa7b0669f43b7ac83a42f32b0b47e": {
          "model_module": "@jupyter-widgets/controls",
          "model_name": "HBoxModel",
          "model_module_version": "1.5.0",
          "state": {
            "_dom_classes": [],
            "_model_module": "@jupyter-widgets/controls",
            "_model_module_version": "1.5.0",
            "_model_name": "HBoxModel",
            "_view_count": null,
            "_view_module": "@jupyter-widgets/controls",
            "_view_module_version": "1.5.0",
            "_view_name": "HBoxView",
            "box_style": "",
            "children": [
              "IPY_MODEL_7e6c6dfc237c4e9d8cc37196655ccff2",
              "IPY_MODEL_6215ebe3f5a949caa7291ce3afbd5a0d",
              "IPY_MODEL_39815c4ea5e74b2c813518cb0f415820"
            ],
            "layout": "IPY_MODEL_de7916c18fe64920af44ce781cfa4424"
          }
        },
        "7e6c6dfc237c4e9d8cc37196655ccff2": {
          "model_module": "@jupyter-widgets/controls",
          "model_name": "HTMLModel",
          "model_module_version": "1.5.0",
          "state": {
            "_dom_classes": [],
            "_model_module": "@jupyter-widgets/controls",
            "_model_module_version": "1.5.0",
            "_model_name": "HTMLModel",
            "_view_count": null,
            "_view_module": "@jupyter-widgets/controls",
            "_view_module_version": "1.5.0",
            "_view_name": "HTMLView",
            "description": "",
            "description_tooltip": null,
            "layout": "IPY_MODEL_05eef4181fe44829b2254447a99291a1",
            "placeholder": "​",
            "style": "IPY_MODEL_32bacc79e38b47588a166e5a9a8e9e93",
            "value": "tokenizer.json: 100%"
          }
        },
        "6215ebe3f5a949caa7291ce3afbd5a0d": {
          "model_module": "@jupyter-widgets/controls",
          "model_name": "FloatProgressModel",
          "model_module_version": "1.5.0",
          "state": {
            "_dom_classes": [],
            "_model_module": "@jupyter-widgets/controls",
            "_model_module_version": "1.5.0",
            "_model_name": "FloatProgressModel",
            "_view_count": null,
            "_view_module": "@jupyter-widgets/controls",
            "_view_module_version": "1.5.0",
            "_view_name": "ProgressView",
            "bar_style": "success",
            "description": "",
            "description_tooltip": null,
            "layout": "IPY_MODEL_2c3f9520eec84716abd667431243ea53",
            "max": 466081,
            "min": 0,
            "orientation": "horizontal",
            "style": "IPY_MODEL_201a6ae799ff443b9a56fefaf10a9193",
            "value": 466081
          }
        },
        "39815c4ea5e74b2c813518cb0f415820": {
          "model_module": "@jupyter-widgets/controls",
          "model_name": "HTMLModel",
          "model_module_version": "1.5.0",
          "state": {
            "_dom_classes": [],
            "_model_module": "@jupyter-widgets/controls",
            "_model_module_version": "1.5.0",
            "_model_name": "HTMLModel",
            "_view_count": null,
            "_view_module": "@jupyter-widgets/controls",
            "_view_module_version": "1.5.0",
            "_view_name": "HTMLView",
            "description": "",
            "description_tooltip": null,
            "layout": "IPY_MODEL_9ab7006e2c954d1da0e37b563278de2f",
            "placeholder": "​",
            "style": "IPY_MODEL_29fbdf51d23d4ca798a4ea86347053aa",
            "value": " 466k/466k [00:00&lt;00:00, 3.62MB/s]"
          }
        },
        "de7916c18fe64920af44ce781cfa4424": {
          "model_module": "@jupyter-widgets/base",
          "model_name": "LayoutModel",
          "model_module_version": "1.2.0",
          "state": {
            "_model_module": "@jupyter-widgets/base",
            "_model_module_version": "1.2.0",
            "_model_name": "LayoutModel",
            "_view_count": null,
            "_view_module": "@jupyter-widgets/base",
            "_view_module_version": "1.2.0",
            "_view_name": "LayoutView",
            "align_content": null,
            "align_items": null,
            "align_self": null,
            "border": null,
            "bottom": null,
            "display": null,
            "flex": null,
            "flex_flow": null,
            "grid_area": null,
            "grid_auto_columns": null,
            "grid_auto_flow": null,
            "grid_auto_rows": null,
            "grid_column": null,
            "grid_gap": null,
            "grid_row": null,
            "grid_template_areas": null,
            "grid_template_columns": null,
            "grid_template_rows": null,
            "height": null,
            "justify_content": null,
            "justify_items": null,
            "left": null,
            "margin": null,
            "max_height": null,
            "max_width": null,
            "min_height": null,
            "min_width": null,
            "object_fit": null,
            "object_position": null,
            "order": null,
            "overflow": null,
            "overflow_x": null,
            "overflow_y": null,
            "padding": null,
            "right": null,
            "top": null,
            "visibility": null,
            "width": null
          }
        },
        "05eef4181fe44829b2254447a99291a1": {
          "model_module": "@jupyter-widgets/base",
          "model_name": "LayoutModel",
          "model_module_version": "1.2.0",
          "state": {
            "_model_module": "@jupyter-widgets/base",
            "_model_module_version": "1.2.0",
            "_model_name": "LayoutModel",
            "_view_count": null,
            "_view_module": "@jupyter-widgets/base",
            "_view_module_version": "1.2.0",
            "_view_name": "LayoutView",
            "align_content": null,
            "align_items": null,
            "align_self": null,
            "border": null,
            "bottom": null,
            "display": null,
            "flex": null,
            "flex_flow": null,
            "grid_area": null,
            "grid_auto_columns": null,
            "grid_auto_flow": null,
            "grid_auto_rows": null,
            "grid_column": null,
            "grid_gap": null,
            "grid_row": null,
            "grid_template_areas": null,
            "grid_template_columns": null,
            "grid_template_rows": null,
            "height": null,
            "justify_content": null,
            "justify_items": null,
            "left": null,
            "margin": null,
            "max_height": null,
            "max_width": null,
            "min_height": null,
            "min_width": null,
            "object_fit": null,
            "object_position": null,
            "order": null,
            "overflow": null,
            "overflow_x": null,
            "overflow_y": null,
            "padding": null,
            "right": null,
            "top": null,
            "visibility": null,
            "width": null
          }
        },
        "32bacc79e38b47588a166e5a9a8e9e93": {
          "model_module": "@jupyter-widgets/controls",
          "model_name": "DescriptionStyleModel",
          "model_module_version": "1.5.0",
          "state": {
            "_model_module": "@jupyter-widgets/controls",
            "_model_module_version": "1.5.0",
            "_model_name": "DescriptionStyleModel",
            "_view_count": null,
            "_view_module": "@jupyter-widgets/base",
            "_view_module_version": "1.2.0",
            "_view_name": "StyleView",
            "description_width": ""
          }
        },
        "2c3f9520eec84716abd667431243ea53": {
          "model_module": "@jupyter-widgets/base",
          "model_name": "LayoutModel",
          "model_module_version": "1.2.0",
          "state": {
            "_model_module": "@jupyter-widgets/base",
            "_model_module_version": "1.2.0",
            "_model_name": "LayoutModel",
            "_view_count": null,
            "_view_module": "@jupyter-widgets/base",
            "_view_module_version": "1.2.0",
            "_view_name": "LayoutView",
            "align_content": null,
            "align_items": null,
            "align_self": null,
            "border": null,
            "bottom": null,
            "display": null,
            "flex": null,
            "flex_flow": null,
            "grid_area": null,
            "grid_auto_columns": null,
            "grid_auto_flow": null,
            "grid_auto_rows": null,
            "grid_column": null,
            "grid_gap": null,
            "grid_row": null,
            "grid_template_areas": null,
            "grid_template_columns": null,
            "grid_template_rows": null,
            "height": null,
            "justify_content": null,
            "justify_items": null,
            "left": null,
            "margin": null,
            "max_height": null,
            "max_width": null,
            "min_height": null,
            "min_width": null,
            "object_fit": null,
            "object_position": null,
            "order": null,
            "overflow": null,
            "overflow_x": null,
            "overflow_y": null,
            "padding": null,
            "right": null,
            "top": null,
            "visibility": null,
            "width": null
          }
        },
        "201a6ae799ff443b9a56fefaf10a9193": {
          "model_module": "@jupyter-widgets/controls",
          "model_name": "ProgressStyleModel",
          "model_module_version": "1.5.0",
          "state": {
            "_model_module": "@jupyter-widgets/controls",
            "_model_module_version": "1.5.0",
            "_model_name": "ProgressStyleModel",
            "_view_count": null,
            "_view_module": "@jupyter-widgets/base",
            "_view_module_version": "1.2.0",
            "_view_name": "StyleView",
            "bar_color": null,
            "description_width": ""
          }
        },
        "9ab7006e2c954d1da0e37b563278de2f": {
          "model_module": "@jupyter-widgets/base",
          "model_name": "LayoutModel",
          "model_module_version": "1.2.0",
          "state": {
            "_model_module": "@jupyter-widgets/base",
            "_model_module_version": "1.2.0",
            "_model_name": "LayoutModel",
            "_view_count": null,
            "_view_module": "@jupyter-widgets/base",
            "_view_module_version": "1.2.0",
            "_view_name": "LayoutView",
            "align_content": null,
            "align_items": null,
            "align_self": null,
            "border": null,
            "bottom": null,
            "display": null,
            "flex": null,
            "flex_flow": null,
            "grid_area": null,
            "grid_auto_columns": null,
            "grid_auto_flow": null,
            "grid_auto_rows": null,
            "grid_column": null,
            "grid_gap": null,
            "grid_row": null,
            "grid_template_areas": null,
            "grid_template_columns": null,
            "grid_template_rows": null,
            "height": null,
            "justify_content": null,
            "justify_items": null,
            "left": null,
            "margin": null,
            "max_height": null,
            "max_width": null,
            "min_height": null,
            "min_width": null,
            "object_fit": null,
            "object_position": null,
            "order": null,
            "overflow": null,
            "overflow_x": null,
            "overflow_y": null,
            "padding": null,
            "right": null,
            "top": null,
            "visibility": null,
            "width": null
          }
        },
        "29fbdf51d23d4ca798a4ea86347053aa": {
          "model_module": "@jupyter-widgets/controls",
          "model_name": "DescriptionStyleModel",
          "model_module_version": "1.5.0",
          "state": {
            "_model_module": "@jupyter-widgets/controls",
            "_model_module_version": "1.5.0",
            "_model_name": "DescriptionStyleModel",
            "_view_count": null,
            "_view_module": "@jupyter-widgets/base",
            "_view_module_version": "1.2.0",
            "_view_name": "StyleView",
            "description_width": ""
          }
        },
        "625036afd0b44882bf87ef1971d5093f": {
          "model_module": "@jupyter-widgets/controls",
          "model_name": "HBoxModel",
          "model_module_version": "1.5.0",
          "state": {
            "_dom_classes": [],
            "_model_module": "@jupyter-widgets/controls",
            "_model_module_version": "1.5.0",
            "_model_name": "HBoxModel",
            "_view_count": null,
            "_view_module": "@jupyter-widgets/controls",
            "_view_module_version": "1.5.0",
            "_view_name": "HBoxView",
            "box_style": "",
            "children": [
              "IPY_MODEL_de2c961dc8ae496fb26bade313d2fa7f",
              "IPY_MODEL_c1980cd6f03b42d4a00a409729011396",
              "IPY_MODEL_123417ed3e274bf8b2a96e2ff7a7f24e"
            ],
            "layout": "IPY_MODEL_f654496a19ae4c97ad559c984599a309"
          }
        },
        "de2c961dc8ae496fb26bade313d2fa7f": {
          "model_module": "@jupyter-widgets/controls",
          "model_name": "HTMLModel",
          "model_module_version": "1.5.0",
          "state": {
            "_dom_classes": [],
            "_model_module": "@jupyter-widgets/controls",
            "_model_module_version": "1.5.0",
            "_model_name": "HTMLModel",
            "_view_count": null,
            "_view_module": "@jupyter-widgets/controls",
            "_view_module_version": "1.5.0",
            "_view_name": "HTMLView",
            "description": "",
            "description_tooltip": null,
            "layout": "IPY_MODEL_79ad7bd0ee204d23ae54ac62baee49f3",
            "placeholder": "​",
            "style": "IPY_MODEL_e31472df838a437582945e5365da3f7e",
            "value": "special_tokens_map.json: 100%"
          }
        },
        "c1980cd6f03b42d4a00a409729011396": {
          "model_module": "@jupyter-widgets/controls",
          "model_name": "FloatProgressModel",
          "model_module_version": "1.5.0",
          "state": {
            "_dom_classes": [],
            "_model_module": "@jupyter-widgets/controls",
            "_model_module_version": "1.5.0",
            "_model_name": "FloatProgressModel",
            "_view_count": null,
            "_view_module": "@jupyter-widgets/controls",
            "_view_module_version": "1.5.0",
            "_view_name": "ProgressView",
            "bar_style": "success",
            "description": "",
            "description_tooltip": null,
            "layout": "IPY_MODEL_7182c042567e48928fd1e7b55b76cb14",
            "max": 112,
            "min": 0,
            "orientation": "horizontal",
            "style": "IPY_MODEL_9aef411624714ad59ddf70f001a69b67",
            "value": 112
          }
        },
        "123417ed3e274bf8b2a96e2ff7a7f24e": {
          "model_module": "@jupyter-widgets/controls",
          "model_name": "HTMLModel",
          "model_module_version": "1.5.0",
          "state": {
            "_dom_classes": [],
            "_model_module": "@jupyter-widgets/controls",
            "_model_module_version": "1.5.0",
            "_model_name": "HTMLModel",
            "_view_count": null,
            "_view_module": "@jupyter-widgets/controls",
            "_view_module_version": "1.5.0",
            "_view_name": "HTMLView",
            "description": "",
            "description_tooltip": null,
            "layout": "IPY_MODEL_5ff2a08755694f4cb8067e705e1fec9d",
            "placeholder": "​",
            "style": "IPY_MODEL_4da0b0e92f624809994646593817eb84",
            "value": " 112/112 [00:00&lt;00:00, 3.94kB/s]"
          }
        },
        "f654496a19ae4c97ad559c984599a309": {
          "model_module": "@jupyter-widgets/base",
          "model_name": "LayoutModel",
          "model_module_version": "1.2.0",
          "state": {
            "_model_module": "@jupyter-widgets/base",
            "_model_module_version": "1.2.0",
            "_model_name": "LayoutModel",
            "_view_count": null,
            "_view_module": "@jupyter-widgets/base",
            "_view_module_version": "1.2.0",
            "_view_name": "LayoutView",
            "align_content": null,
            "align_items": null,
            "align_self": null,
            "border": null,
            "bottom": null,
            "display": null,
            "flex": null,
            "flex_flow": null,
            "grid_area": null,
            "grid_auto_columns": null,
            "grid_auto_flow": null,
            "grid_auto_rows": null,
            "grid_column": null,
            "grid_gap": null,
            "grid_row": null,
            "grid_template_areas": null,
            "grid_template_columns": null,
            "grid_template_rows": null,
            "height": null,
            "justify_content": null,
            "justify_items": null,
            "left": null,
            "margin": null,
            "max_height": null,
            "max_width": null,
            "min_height": null,
            "min_width": null,
            "object_fit": null,
            "object_position": null,
            "order": null,
            "overflow": null,
            "overflow_x": null,
            "overflow_y": null,
            "padding": null,
            "right": null,
            "top": null,
            "visibility": null,
            "width": null
          }
        },
        "79ad7bd0ee204d23ae54ac62baee49f3": {
          "model_module": "@jupyter-widgets/base",
          "model_name": "LayoutModel",
          "model_module_version": "1.2.0",
          "state": {
            "_model_module": "@jupyter-widgets/base",
            "_model_module_version": "1.2.0",
            "_model_name": "LayoutModel",
            "_view_count": null,
            "_view_module": "@jupyter-widgets/base",
            "_view_module_version": "1.2.0",
            "_view_name": "LayoutView",
            "align_content": null,
            "align_items": null,
            "align_self": null,
            "border": null,
            "bottom": null,
            "display": null,
            "flex": null,
            "flex_flow": null,
            "grid_area": null,
            "grid_auto_columns": null,
            "grid_auto_flow": null,
            "grid_auto_rows": null,
            "grid_column": null,
            "grid_gap": null,
            "grid_row": null,
            "grid_template_areas": null,
            "grid_template_columns": null,
            "grid_template_rows": null,
            "height": null,
            "justify_content": null,
            "justify_items": null,
            "left": null,
            "margin": null,
            "max_height": null,
            "max_width": null,
            "min_height": null,
            "min_width": null,
            "object_fit": null,
            "object_position": null,
            "order": null,
            "overflow": null,
            "overflow_x": null,
            "overflow_y": null,
            "padding": null,
            "right": null,
            "top": null,
            "visibility": null,
            "width": null
          }
        },
        "e31472df838a437582945e5365da3f7e": {
          "model_module": "@jupyter-widgets/controls",
          "model_name": "DescriptionStyleModel",
          "model_module_version": "1.5.0",
          "state": {
            "_model_module": "@jupyter-widgets/controls",
            "_model_module_version": "1.5.0",
            "_model_name": "DescriptionStyleModel",
            "_view_count": null,
            "_view_module": "@jupyter-widgets/base",
            "_view_module_version": "1.2.0",
            "_view_name": "StyleView",
            "description_width": ""
          }
        },
        "7182c042567e48928fd1e7b55b76cb14": {
          "model_module": "@jupyter-widgets/base",
          "model_name": "LayoutModel",
          "model_module_version": "1.2.0",
          "state": {
            "_model_module": "@jupyter-widgets/base",
            "_model_module_version": "1.2.0",
            "_model_name": "LayoutModel",
            "_view_count": null,
            "_view_module": "@jupyter-widgets/base",
            "_view_module_version": "1.2.0",
            "_view_name": "LayoutView",
            "align_content": null,
            "align_items": null,
            "align_self": null,
            "border": null,
            "bottom": null,
            "display": null,
            "flex": null,
            "flex_flow": null,
            "grid_area": null,
            "grid_auto_columns": null,
            "grid_auto_flow": null,
            "grid_auto_rows": null,
            "grid_column": null,
            "grid_gap": null,
            "grid_row": null,
            "grid_template_areas": null,
            "grid_template_columns": null,
            "grid_template_rows": null,
            "height": null,
            "justify_content": null,
            "justify_items": null,
            "left": null,
            "margin": null,
            "max_height": null,
            "max_width": null,
            "min_height": null,
            "min_width": null,
            "object_fit": null,
            "object_position": null,
            "order": null,
            "overflow": null,
            "overflow_x": null,
            "overflow_y": null,
            "padding": null,
            "right": null,
            "top": null,
            "visibility": null,
            "width": null
          }
        },
        "9aef411624714ad59ddf70f001a69b67": {
          "model_module": "@jupyter-widgets/controls",
          "model_name": "ProgressStyleModel",
          "model_module_version": "1.5.0",
          "state": {
            "_model_module": "@jupyter-widgets/controls",
            "_model_module_version": "1.5.0",
            "_model_name": "ProgressStyleModel",
            "_view_count": null,
            "_view_module": "@jupyter-widgets/base",
            "_view_module_version": "1.2.0",
            "_view_name": "StyleView",
            "bar_color": null,
            "description_width": ""
          }
        },
        "5ff2a08755694f4cb8067e705e1fec9d": {
          "model_module": "@jupyter-widgets/base",
          "model_name": "LayoutModel",
          "model_module_version": "1.2.0",
          "state": {
            "_model_module": "@jupyter-widgets/base",
            "_model_module_version": "1.2.0",
            "_model_name": "LayoutModel",
            "_view_count": null,
            "_view_module": "@jupyter-widgets/base",
            "_view_module_version": "1.2.0",
            "_view_name": "LayoutView",
            "align_content": null,
            "align_items": null,
            "align_self": null,
            "border": null,
            "bottom": null,
            "display": null,
            "flex": null,
            "flex_flow": null,
            "grid_area": null,
            "grid_auto_columns": null,
            "grid_auto_flow": null,
            "grid_auto_rows": null,
            "grid_column": null,
            "grid_gap": null,
            "grid_row": null,
            "grid_template_areas": null,
            "grid_template_columns": null,
            "grid_template_rows": null,
            "height": null,
            "justify_content": null,
            "justify_items": null,
            "left": null,
            "margin": null,
            "max_height": null,
            "max_width": null,
            "min_height": null,
            "min_width": null,
            "object_fit": null,
            "object_position": null,
            "order": null,
            "overflow": null,
            "overflow_x": null,
            "overflow_y": null,
            "padding": null,
            "right": null,
            "top": null,
            "visibility": null,
            "width": null
          }
        },
        "4da0b0e92f624809994646593817eb84": {
          "model_module": "@jupyter-widgets/controls",
          "model_name": "DescriptionStyleModel",
          "model_module_version": "1.5.0",
          "state": {
            "_model_module": "@jupyter-widgets/controls",
            "_model_module_version": "1.5.0",
            "_model_name": "DescriptionStyleModel",
            "_view_count": null,
            "_view_module": "@jupyter-widgets/base",
            "_view_module_version": "1.2.0",
            "_view_name": "StyleView",
            "description_width": ""
          }
        },
        "42a05f6224704ae383de702fc0d2068b": {
          "model_module": "@jupyter-widgets/controls",
          "model_name": "HBoxModel",
          "model_module_version": "1.5.0",
          "state": {
            "_dom_classes": [],
            "_model_module": "@jupyter-widgets/controls",
            "_model_module_version": "1.5.0",
            "_model_name": "HBoxModel",
            "_view_count": null,
            "_view_module": "@jupyter-widgets/controls",
            "_view_module_version": "1.5.0",
            "_view_name": "HBoxView",
            "box_style": "",
            "children": [
              "IPY_MODEL_c04112ce228a4c08870d2083b6f1c9a5",
              "IPY_MODEL_352b10852fbd4a5b95d711e3c0c21e16",
              "IPY_MODEL_5694820d199d4db2a4da7795b1f6f1ec"
            ],
            "layout": "IPY_MODEL_4738beb6469d4ed5b8d4ff9fe3b1b31d"
          }
        },
        "c04112ce228a4c08870d2083b6f1c9a5": {
          "model_module": "@jupyter-widgets/controls",
          "model_name": "HTMLModel",
          "model_module_version": "1.5.0",
          "state": {
            "_dom_classes": [],
            "_model_module": "@jupyter-widgets/controls",
            "_model_module_version": "1.5.0",
            "_model_name": "HTMLModel",
            "_view_count": null,
            "_view_module": "@jupyter-widgets/controls",
            "_view_module_version": "1.5.0",
            "_view_name": "HTMLView",
            "description": "",
            "description_tooltip": null,
            "layout": "IPY_MODEL_1b4340b3675d4eda8ac5e9cd1d1d50bd",
            "placeholder": "​",
            "style": "IPY_MODEL_bd6dc8a14022449eb7d2673b3a015411",
            "value": "preprocessor_config.json: 100%"
          }
        },
        "352b10852fbd4a5b95d711e3c0c21e16": {
          "model_module": "@jupyter-widgets/controls",
          "model_name": "FloatProgressModel",
          "model_module_version": "1.5.0",
          "state": {
            "_dom_classes": [],
            "_model_module": "@jupyter-widgets/controls",
            "_model_module_version": "1.5.0",
            "_model_name": "FloatProgressModel",
            "_view_count": null,
            "_view_module": "@jupyter-widgets/controls",
            "_view_module_version": "1.5.0",
            "_view_name": "ProgressView",
            "bar_style": "success",
            "description": "",
            "description_tooltip": null,
            "layout": "IPY_MODEL_dc77eb5521184c4e8f3a9acc724a9e03",
            "max": 251,
            "min": 0,
            "orientation": "horizontal",
            "style": "IPY_MODEL_efdcbc956816419992e239f83d9cba52",
            "value": 251
          }
        },
        "5694820d199d4db2a4da7795b1f6f1ec": {
          "model_module": "@jupyter-widgets/controls",
          "model_name": "HTMLModel",
          "model_module_version": "1.5.0",
          "state": {
            "_dom_classes": [],
            "_model_module": "@jupyter-widgets/controls",
            "_model_module_version": "1.5.0",
            "_model_name": "HTMLModel",
            "_view_count": null,
            "_view_module": "@jupyter-widgets/controls",
            "_view_module_version": "1.5.0",
            "_view_name": "HTMLView",
            "description": "",
            "description_tooltip": null,
            "layout": "IPY_MODEL_945a5334af2f465da3cded91e9c95ed9",
            "placeholder": "​",
            "style": "IPY_MODEL_0db86f469f284d09bd1cb3859cc6c4f2",
            "value": " 251/251 [00:00&lt;00:00, 8.00kB/s]"
          }
        },
        "4738beb6469d4ed5b8d4ff9fe3b1b31d": {
          "model_module": "@jupyter-widgets/base",
          "model_name": "LayoutModel",
          "model_module_version": "1.2.0",
          "state": {
            "_model_module": "@jupyter-widgets/base",
            "_model_module_version": "1.2.0",
            "_model_name": "LayoutModel",
            "_view_count": null,
            "_view_module": "@jupyter-widgets/base",
            "_view_module_version": "1.2.0",
            "_view_name": "LayoutView",
            "align_content": null,
            "align_items": null,
            "align_self": null,
            "border": null,
            "bottom": null,
            "display": null,
            "flex": null,
            "flex_flow": null,
            "grid_area": null,
            "grid_auto_columns": null,
            "grid_auto_flow": null,
            "grid_auto_rows": null,
            "grid_column": null,
            "grid_gap": null,
            "grid_row": null,
            "grid_template_areas": null,
            "grid_template_columns": null,
            "grid_template_rows": null,
            "height": null,
            "justify_content": null,
            "justify_items": null,
            "left": null,
            "margin": null,
            "max_height": null,
            "max_width": null,
            "min_height": null,
            "min_width": null,
            "object_fit": null,
            "object_position": null,
            "order": null,
            "overflow": null,
            "overflow_x": null,
            "overflow_y": null,
            "padding": null,
            "right": null,
            "top": null,
            "visibility": null,
            "width": null
          }
        },
        "1b4340b3675d4eda8ac5e9cd1d1d50bd": {
          "model_module": "@jupyter-widgets/base",
          "model_name": "LayoutModel",
          "model_module_version": "1.2.0",
          "state": {
            "_model_module": "@jupyter-widgets/base",
            "_model_module_version": "1.2.0",
            "_model_name": "LayoutModel",
            "_view_count": null,
            "_view_module": "@jupyter-widgets/base",
            "_view_module_version": "1.2.0",
            "_view_name": "LayoutView",
            "align_content": null,
            "align_items": null,
            "align_self": null,
            "border": null,
            "bottom": null,
            "display": null,
            "flex": null,
            "flex_flow": null,
            "grid_area": null,
            "grid_auto_columns": null,
            "grid_auto_flow": null,
            "grid_auto_rows": null,
            "grid_column": null,
            "grid_gap": null,
            "grid_row": null,
            "grid_template_areas": null,
            "grid_template_columns": null,
            "grid_template_rows": null,
            "height": null,
            "justify_content": null,
            "justify_items": null,
            "left": null,
            "margin": null,
            "max_height": null,
            "max_width": null,
            "min_height": null,
            "min_width": null,
            "object_fit": null,
            "object_position": null,
            "order": null,
            "overflow": null,
            "overflow_x": null,
            "overflow_y": null,
            "padding": null,
            "right": null,
            "top": null,
            "visibility": null,
            "width": null
          }
        },
        "bd6dc8a14022449eb7d2673b3a015411": {
          "model_module": "@jupyter-widgets/controls",
          "model_name": "DescriptionStyleModel",
          "model_module_version": "1.5.0",
          "state": {
            "_model_module": "@jupyter-widgets/controls",
            "_model_module_version": "1.5.0",
            "_model_name": "DescriptionStyleModel",
            "_view_count": null,
            "_view_module": "@jupyter-widgets/base",
            "_view_module_version": "1.2.0",
            "_view_name": "StyleView",
            "description_width": ""
          }
        },
        "dc77eb5521184c4e8f3a9acc724a9e03": {
          "model_module": "@jupyter-widgets/base",
          "model_name": "LayoutModel",
          "model_module_version": "1.2.0",
          "state": {
            "_model_module": "@jupyter-widgets/base",
            "_model_module_version": "1.2.0",
            "_model_name": "LayoutModel",
            "_view_count": null,
            "_view_module": "@jupyter-widgets/base",
            "_view_module_version": "1.2.0",
            "_view_name": "LayoutView",
            "align_content": null,
            "align_items": null,
            "align_self": null,
            "border": null,
            "bottom": null,
            "display": null,
            "flex": null,
            "flex_flow": null,
            "grid_area": null,
            "grid_auto_columns": null,
            "grid_auto_flow": null,
            "grid_auto_rows": null,
            "grid_column": null,
            "grid_gap": null,
            "grid_row": null,
            "grid_template_areas": null,
            "grid_template_columns": null,
            "grid_template_rows": null,
            "height": null,
            "justify_content": null,
            "justify_items": null,
            "left": null,
            "margin": null,
            "max_height": null,
            "max_width": null,
            "min_height": null,
            "min_width": null,
            "object_fit": null,
            "object_position": null,
            "order": null,
            "overflow": null,
            "overflow_x": null,
            "overflow_y": null,
            "padding": null,
            "right": null,
            "top": null,
            "visibility": null,
            "width": null
          }
        },
        "efdcbc956816419992e239f83d9cba52": {
          "model_module": "@jupyter-widgets/controls",
          "model_name": "ProgressStyleModel",
          "model_module_version": "1.5.0",
          "state": {
            "_model_module": "@jupyter-widgets/controls",
            "_model_module_version": "1.5.0",
            "_model_name": "ProgressStyleModel",
            "_view_count": null,
            "_view_module": "@jupyter-widgets/base",
            "_view_module_version": "1.2.0",
            "_view_name": "StyleView",
            "bar_color": null,
            "description_width": ""
          }
        },
        "945a5334af2f465da3cded91e9c95ed9": {
          "model_module": "@jupyter-widgets/base",
          "model_name": "LayoutModel",
          "model_module_version": "1.2.0",
          "state": {
            "_model_module": "@jupyter-widgets/base",
            "_model_module_version": "1.2.0",
            "_model_name": "LayoutModel",
            "_view_count": null,
            "_view_module": "@jupyter-widgets/base",
            "_view_module_version": "1.2.0",
            "_view_name": "LayoutView",
            "align_content": null,
            "align_items": null,
            "align_self": null,
            "border": null,
            "bottom": null,
            "display": null,
            "flex": null,
            "flex_flow": null,
            "grid_area": null,
            "grid_auto_columns": null,
            "grid_auto_flow": null,
            "grid_auto_rows": null,
            "grid_column": null,
            "grid_gap": null,
            "grid_row": null,
            "grid_template_areas": null,
            "grid_template_columns": null,
            "grid_template_rows": null,
            "height": null,
            "justify_content": null,
            "justify_items": null,
            "left": null,
            "margin": null,
            "max_height": null,
            "max_width": null,
            "min_height": null,
            "min_width": null,
            "object_fit": null,
            "object_position": null,
            "order": null,
            "overflow": null,
            "overflow_x": null,
            "overflow_y": null,
            "padding": null,
            "right": null,
            "top": null,
            "visibility": null,
            "width": null
          }
        },
        "0db86f469f284d09bd1cb3859cc6c4f2": {
          "model_module": "@jupyter-widgets/controls",
          "model_name": "DescriptionStyleModel",
          "model_module_version": "1.5.0",
          "state": {
            "_model_module": "@jupyter-widgets/controls",
            "_model_module_version": "1.5.0",
            "_model_name": "DescriptionStyleModel",
            "_view_count": null,
            "_view_module": "@jupyter-widgets/base",
            "_view_module_version": "1.2.0",
            "_view_name": "StyleView",
            "description_width": ""
          }
        }
      }
    }
  },
  "cells": [
    {
      "cell_type": "code",
      "source": [
        "!pip install transformers"
      ],
      "metadata": {
        "colab": {
          "base_uri": "https://localhost:8080/"
        },
        "id": "tKI9bu1XvnDZ",
        "outputId": "9efc5df0-92a4-46ae-d840-261fa5e8d0ac"
      },
      "execution_count": null,
      "outputs": [
        {
          "output_type": "stream",
          "name": "stdout",
          "text": [
            "Requirement already satisfied: transformers in /usr/local/lib/python3.10/dist-packages (4.35.2)\n",
            "Requirement already satisfied: filelock in /usr/local/lib/python3.10/dist-packages (from transformers) (3.13.1)\n",
            "Requirement already satisfied: huggingface-hub<1.0,>=0.16.4 in /usr/local/lib/python3.10/dist-packages (from transformers) (0.19.3)\n",
            "Requirement already satisfied: numpy>=1.17 in /usr/local/lib/python3.10/dist-packages (from transformers) (1.23.5)\n",
            "Requirement already satisfied: packaging>=20.0 in /usr/local/lib/python3.10/dist-packages (from transformers) (23.2)\n",
            "Requirement already satisfied: pyyaml>=5.1 in /usr/local/lib/python3.10/dist-packages (from transformers) (6.0.1)\n",
            "Requirement already satisfied: regex!=2019.12.17 in /usr/local/lib/python3.10/dist-packages (from transformers) (2023.6.3)\n",
            "Requirement already satisfied: requests in /usr/local/lib/python3.10/dist-packages (from transformers) (2.31.0)\n",
            "Requirement already satisfied: tokenizers<0.19,>=0.14 in /usr/local/lib/python3.10/dist-packages (from transformers) (0.15.0)\n",
            "Requirement already satisfied: safetensors>=0.3.1 in /usr/local/lib/python3.10/dist-packages (from transformers) (0.4.0)\n",
            "Requirement already satisfied: tqdm>=4.27 in /usr/local/lib/python3.10/dist-packages (from transformers) (4.66.1)\n",
            "Requirement already satisfied: fsspec>=2023.5.0 in /usr/local/lib/python3.10/dist-packages (from huggingface-hub<1.0,>=0.16.4->transformers) (2023.6.0)\n",
            "Requirement already satisfied: typing-extensions>=3.7.4.3 in /usr/local/lib/python3.10/dist-packages (from huggingface-hub<1.0,>=0.16.4->transformers) (4.5.0)\n",
            "Requirement already satisfied: charset-normalizer<4,>=2 in /usr/local/lib/python3.10/dist-packages (from requests->transformers) (3.3.2)\n",
            "Requirement already satisfied: idna<4,>=2.5 in /usr/local/lib/python3.10/dist-packages (from requests->transformers) (3.4)\n",
            "Requirement already satisfied: urllib3<3,>=1.21.1 in /usr/local/lib/python3.10/dist-packages (from requests->transformers) (2.0.7)\n",
            "Requirement already satisfied: certifi>=2017.4.17 in /usr/local/lib/python3.10/dist-packages (from requests->transformers) (2023.7.22)\n"
          ]
        }
      ]
    },
    {
      "cell_type": "code",
      "execution_count": null,
      "metadata": {
        "colab": {
          "base_uri": "https://localhost:8080/",
          "height": 315,
          "referenced_widgets": [
            "8af26d9cad1f42bfbd35a939599e1843",
            "b9d9189a66034dbfb90b0ec027f2141b",
            "1c1553a438774f93a9226658d1b09293",
            "b72cf540cccc4fdca139e84021f09c23",
            "b272ae276d174b9483659ff6ca3cecb1",
            "5c9c0e48e76843e79eb134c50e031fe8",
            "b54255fc5e91407b9c6996bd6a827504",
            "cc0f95e45e3a42fa858872aa9e7e9c0c",
            "df1aa0d62d3f4e16a553c8cd7000e4ce",
            "55c5a65e6eb0460a8e16284ffd0af271",
            "ccd92bcb936c4dea9c6bf38377a69f37",
            "08c1cd39321841ed8a40835d8cbf2294",
            "d5e11ec554f24718bd95b42633ef3f79",
            "1b4a029647d34744a9a207223526c5be",
            "742fdae9cd3e4040b6682b3bb250d31b",
            "43e4fcf9383e47d6a5d7deee1d38e7a5",
            "782cb4988d414b379a5627842013ddf4",
            "eee041317a7547a39993c6d710a4b3f2",
            "77c890ad7c0e4b8ab3d4485f78db5190",
            "3edd8dc33d184c6099979aa47fe60dd5",
            "09b3f5d9b5314c20a266a3066ae21a75",
            "81bd59e1c9134b039d664861c12475e4",
            "5315393111aa49a8875c00acd852373a",
            "83151d7349de49a39bdb27ff017c217b",
            "868347717eec49f79684cdc9bec126d3",
            "640fee41763541e28d781db77e6b2d63",
            "60cf13050c864d30bbbd945aa8246a40",
            "3867c734425b4b2eba80a9063f6433e1",
            "544b70f1a897438a9b8c5188150091f9",
            "bc38542b85564ba8b9fd914cda668ad9",
            "5550e7c5478f41d08a588a35ce05ce10",
            "e52b7d8dd3fb450cb315e97c90a8d2f2",
            "9be98d38d1c14b0f85115aaee79a71f3",
            "5248c861ad1f40aaa15ba5a3fd658030",
            "32dd7b8bb628406e8c3438ea41f67ae9",
            "996a28d4ff8446e0a02b28691e9142ed",
            "f5a4b80ff97a4eb388ac1e8dfbb32da5",
            "b8fc32e19c1746caa688c57b8a4d8d16",
            "8fc2024f82444f77af23efaad0b5ea6c",
            "f211abaa66194acf89120e993c812343",
            "40a3bb087c484db4aef93e2daa6bbf3b",
            "8f73e061d8604df1b4c076b0254b6a12",
            "0eb8748b97cf42fb8b3983d27441bfc5",
            "60c10bf3f4b04935b9be95ba06da2720",
            "1eaaa7b0669f43b7ac83a42f32b0b47e",
            "7e6c6dfc237c4e9d8cc37196655ccff2",
            "6215ebe3f5a949caa7291ce3afbd5a0d",
            "39815c4ea5e74b2c813518cb0f415820",
            "de7916c18fe64920af44ce781cfa4424",
            "05eef4181fe44829b2254447a99291a1",
            "32bacc79e38b47588a166e5a9a8e9e93",
            "2c3f9520eec84716abd667431243ea53",
            "201a6ae799ff443b9a56fefaf10a9193",
            "9ab7006e2c954d1da0e37b563278de2f",
            "29fbdf51d23d4ca798a4ea86347053aa",
            "625036afd0b44882bf87ef1971d5093f",
            "de2c961dc8ae496fb26bade313d2fa7f",
            "c1980cd6f03b42d4a00a409729011396",
            "123417ed3e274bf8b2a96e2ff7a7f24e",
            "f654496a19ae4c97ad559c984599a309",
            "79ad7bd0ee204d23ae54ac62baee49f3",
            "e31472df838a437582945e5365da3f7e",
            "7182c042567e48928fd1e7b55b76cb14",
            "9aef411624714ad59ddf70f001a69b67",
            "5ff2a08755694f4cb8067e705e1fec9d",
            "4da0b0e92f624809994646593817eb84",
            "42a05f6224704ae383de702fc0d2068b",
            "c04112ce228a4c08870d2083b6f1c9a5",
            "352b10852fbd4a5b95d711e3c0c21e16",
            "5694820d199d4db2a4da7795b1f6f1ec",
            "4738beb6469d4ed5b8d4ff9fe3b1b31d",
            "1b4340b3675d4eda8ac5e9cd1d1d50bd",
            "bd6dc8a14022449eb7d2673b3a015411",
            "dc77eb5521184c4e8f3a9acc724a9e03",
            "efdcbc956816419992e239f83d9cba52",
            "945a5334af2f465da3cded91e9c95ed9",
            "0db86f469f284d09bd1cb3859cc6c4f2"
          ]
        },
        "id": "KCuRJnXBtnS8",
        "outputId": "3587cb79-36cd-4ba4-e52c-cf0c8a686d36"
      },
      "outputs": [
        {
          "output_type": "stream",
          "name": "stderr",
          "text": [
            "No model was supplied, defaulted to dandelin/vilt-b32-finetuned-vqa and revision 4355f59 (https://huggingface.co/dandelin/vilt-b32-finetuned-vqa).\n",
            "Using a pipeline without specifying a model name and revision in production is not recommended.\n"
          ]
        },
        {
          "output_type": "display_data",
          "data": {
            "text/plain": [
              "config.json:   0%|          | 0.00/136k [00:00<?, ?B/s]"
            ],
            "application/vnd.jupyter.widget-view+json": {
              "version_major": 2,
              "version_minor": 0,
              "model_id": "8af26d9cad1f42bfbd35a939599e1843"
            }
          },
          "metadata": {}
        },
        {
          "output_type": "display_data",
          "data": {
            "text/plain": [
              "pytorch_model.bin:   0%|          | 0.00/470M [00:00<?, ?B/s]"
            ],
            "application/vnd.jupyter.widget-view+json": {
              "version_major": 2,
              "version_minor": 0,
              "model_id": "08c1cd39321841ed8a40835d8cbf2294"
            }
          },
          "metadata": {}
        },
        {
          "output_type": "display_data",
          "data": {
            "text/plain": [
              "tokenizer_config.json:   0%|          | 0.00/320 [00:00<?, ?B/s]"
            ],
            "application/vnd.jupyter.widget-view+json": {
              "version_major": 2,
              "version_minor": 0,
              "model_id": "5315393111aa49a8875c00acd852373a"
            }
          },
          "metadata": {}
        },
        {
          "output_type": "display_data",
          "data": {
            "text/plain": [
              "vocab.txt:   0%|          | 0.00/232k [00:00<?, ?B/s]"
            ],
            "application/vnd.jupyter.widget-view+json": {
              "version_major": 2,
              "version_minor": 0,
              "model_id": "5248c861ad1f40aaa15ba5a3fd658030"
            }
          },
          "metadata": {}
        },
        {
          "output_type": "display_data",
          "data": {
            "text/plain": [
              "tokenizer.json:   0%|          | 0.00/466k [00:00<?, ?B/s]"
            ],
            "application/vnd.jupyter.widget-view+json": {
              "version_major": 2,
              "version_minor": 0,
              "model_id": "1eaaa7b0669f43b7ac83a42f32b0b47e"
            }
          },
          "metadata": {}
        },
        {
          "output_type": "display_data",
          "data": {
            "text/plain": [
              "special_tokens_map.json:   0%|          | 0.00/112 [00:00<?, ?B/s]"
            ],
            "application/vnd.jupyter.widget-view+json": {
              "version_major": 2,
              "version_minor": 0,
              "model_id": "625036afd0b44882bf87ef1971d5093f"
            }
          },
          "metadata": {}
        },
        {
          "output_type": "display_data",
          "data": {
            "text/plain": [
              "preprocessor_config.json:   0%|          | 0.00/251 [00:00<?, ?B/s]"
            ],
            "application/vnd.jupyter.widget-view+json": {
              "version_major": 2,
              "version_minor": 0,
              "model_id": "42a05f6224704ae383de702fc0d2068b"
            }
          },
          "metadata": {}
        },
        {
          "output_type": "stream",
          "name": "stderr",
          "text": [
            "Could not find image processor class in the image processor config or the model config. Loading based on pattern matching with the model's feature extractor configuration.\n"
          ]
        }
      ],
      "source": [
        "from PIL import Image\n",
        "from transformers import pipeline\n",
        "import torch\n",
        "import os\n",
        "import cv2\n",
        "from tqdm import tqdm\n",
        "from google.colab.patches import cv2_imshow\n",
        "\n",
        "vqa_pipeline = pipeline(\"visual-question-answering\")"
      ]
    },
    {
      "cell_type": "code",
      "source": [
        "!mkdir visualqa_output"
      ],
      "metadata": {
        "id": "YGACaAAl4Eou"
      },
      "execution_count": null,
      "outputs": []
    },
    {
      "cell_type": "code",
      "source": [
        "directory_path = '/content/videos'\n",
        "directory_files = os.listdir(directory_path)\n",
        "#video_list = ['1.mp4','2.mp4','3.mp4','4.mp4']\n",
        "#The input and outputAppend sentences must match.\n",
        "inputSentences = [\"In which area did this accident happen?\", \"What is the time of the day when this accident happened?\", \"What is the weather condition in this accident?\",\n",
        "                  \"What is the season of\",\n",
        "                  \"How many vehicles are in involved in this accident?\", \"What type of vehicles are in the provided image?\",\n",
        "                  \"What is the damaged vehicle in the provided image?\",\n",
        "                  \"Which side of vehicle is damaged in the provided image? Front or Back?\"]\n",
        "outputAppendText = [\"The accident occurred on \", \"The accident took place at \",\n",
        "                    \"The accident happened under weather condition, \", \"The incident took place during \",\n",
        "                    \"The number of vehicles are \",\n",
        "                    \"The road had \", \"The vehicle involved in the accident was \",\n",
        "                    \"The vehicle sustained damage on its \"]\n",
        "#outputSentence = []\n",
        "for video in directory_files:\n",
        "  #outputText = []\n",
        "  outputText = set()\n",
        "  array_of_dict = [{},{},{},{}]\n",
        "  print(video)\n",
        "  # Create a VideoCapture object and read from input file\n",
        "  cap = cv2.VideoCapture(\"/content/videos/\" + video)\n",
        "\n",
        "  # Get the frame rate of the video\n",
        "  fps = cap.get(cv2.CAP_PROP_FPS)\n",
        "\n",
        "  # Define the desired frame interval (e.g., every second)\n",
        "  frame_interval = int(fps)  # Extract one frame per second\n",
        "\n",
        "  # Get the total number of frames in the video\n",
        "  total_frames = int(cap.get(cv2.CAP_PROP_FRAME_COUNT))\n",
        "\n",
        "  # Create a tqdm progress bar\n",
        "  progress_bar = tqdm(total=total_frames, desc='Processing Frames', unit='frame')\n",
        "\n",
        "  if (cap.isOpened()== False):\n",
        "  # Give a error message\n",
        "    print(\"Error opening video file\")\n",
        "\n",
        "  progress = 0\n",
        "  frame_count = 0\n",
        "  final_caption = \"\"\n",
        "  final_frames_output = \"\"\n",
        "  # Read until video is completed\n",
        "  while(cap.isOpened()):\n",
        "\n",
        "  # Capture frame-by-frame\n",
        "      ret, frame = cap.read()\n",
        "      if ret == True:\n",
        "        progress_bar.update(1)\n",
        "        progress = progress + 1\n",
        "        if(progress > total_frames):\n",
        "          break\n",
        "        frame_count = frame_count + 1\n",
        "        if frame_count%(frame_interval) == 0:\n",
        "          # process image to text\n",
        "          device = \"cuda\" if torch.cuda.is_available() else \"cpu\"\n",
        "          #cv2_imshow(frame)\n",
        "          #outputFrameCount = 0\n",
        "          frame_output = \"\"\n",
        "          for i in range(0, len(inputSentences)):\n",
        "            # Convert from OpenCV image (BGR) to RGB\n",
        "            frame_rgb = cv2.cvtColor(frame, cv2.COLOR_BGR2RGB)\n",
        "\n",
        "            # Convert the frame to a PIL Image\n",
        "            pil_image = Image.fromarray(frame_rgb)\n",
        "            outputs = vqa_pipeline(pil_image, inputSentences[i], top_k=1)\n",
        "            #print(processor.decode(outputs[0], skip_special_tokens=True))\n",
        "            outputLabel = outputs[0].get(\"answer\")\n",
        "            if i <= 3:\n",
        "              if outputLabel not in array_of_dict[i]:\n",
        "                array_of_dict[i][outputLabel] = 0\n",
        "              array_of_dict[i][outputLabel] = array_of_dict[i][outputLabel] + 1\n",
        "            else:\n",
        "              if outputLabel == 'none' or outputLabel == 'no' or outputLabel == 'no vehicle' or outputLabel == 0 or outputLabel == '0' or outputLabel == 'no car' or outputLabel == 1 or outputLabel == '1' or outputLabel == 'unknown':\n",
        "                print(\"\")\n",
        "              else:\n",
        "                outputText.add(outputAppendText[i] + outputLabel + \".\")\n",
        "                frame_output = frame_output + outputAppendText[i] + outputLabel + \".\"\n",
        "            #if(outputFrameCount <= 1):\n",
        "              #if not outputText:\n",
        "                #new_dict = {outputLabel: 1}\n",
        "              #else:\n",
        "                #new_dict = {outputLabel: 1}\n",
        "              #outputText.append(new_dict)\n",
        "            #else:\n",
        "              #for dictionary in outputText:\n",
        "                #if outputLabel not in dictionary:\n",
        "                  #dictionary[outputLabel] = 0\n",
        "                #dictionary[outputLabel] = dictionary[outputLabel] + 1\n",
        "            #final_caption = final_caption + generated_caption\n",
        "            cv2.waitKey(0)\n",
        "          final_frames_output = final_frames_output + \"frame \" + str(frame_count) + \", \" + frame_output\n",
        "      # Press Q on keyboard to exit\n",
        "          if cv2.waitKey(25) & 0xFF == ord('q'):\n",
        "              break\n",
        "\n",
        "  # Break the loop\n",
        "      else:\n",
        "          break\n",
        "  #print(final_caption)\n",
        "  #Iterate through each dictionary and find the key with the highest value\n",
        "  if array_of_dict:\n",
        "    outputLabelText = [max(d, key=d.get) for d in array_of_dict]\n",
        "    for text, appendText in zip(outputLabelText, outputAppendText):\n",
        "      outputText.add(appendText + text + \".\")\n",
        "      final_frames_output = final_frames_output + \"common for all frames, \" + appendText + text + \".\"\n",
        "  # When everything done, release\n",
        "  # the video capture object\n",
        "  cap.release()\n",
        "\n",
        "  # Closes all the frames\n",
        "  cv2.destroyAllWindows()\n",
        "  # Iterate through the dictionaries in the input list\n",
        "  #for dictionary in outputText:\n",
        "      # Remove the \"none\" key if it exists\n",
        "  #    dictionary.pop(\"none\", None)\n",
        "\n",
        "  # Iterate through each dictionary and find the key with the highest value\n",
        "  #outputLabelText = [max(d, key=d.get) if d else None for d in outputText]\n",
        "  #for text, appendText in zip(outputLabelText, outputAppendText):\n",
        "  #  outputSentence.append(appendText + text)\n",
        "  #print('\\n')\n",
        "  #print(''.join(outputSentence))\n",
        "  print(outputText)\n",
        "  f = open(\"/content/visualqa_output/\" + video.split(\".\")[0] + \".txt\", \"w\")\n",
        "  f.write(final_frames_output)\n",
        "  f.close()\n",
        "  print(final_frames_output)"
      ],
      "metadata": {
        "colab": {
          "base_uri": "https://localhost:8080/"
        },
        "id": "aG16QwqEv7dG",
        "outputId": "b18e2305-e849-4f6a-d8b1-7c4dbf880c31"
      },
      "execution_count": null,
      "outputs": [
        {
          "output_type": "stream",
          "name": "stdout",
          "text": [
            "CLIP_322.mp4\n"
          ]
        },
        {
          "output_type": "stream",
          "name": "stderr",
          "text": [
            "Processing Frames:   2%|▏         | 28/1348 [00:00<00:27, 47.72frame/s]"
          ]
        },
        {
          "output_type": "stream",
          "name": "stdout",
          "text": [
            "\n"
          ]
        },
        {
          "output_type": "stream",
          "name": "stderr",
          "text": [
            "Processing Frames:   4%|▍         | 57/1348 [00:16<06:40,  3.23frame/s]"
          ]
        },
        {
          "output_type": "stream",
          "name": "stdout",
          "text": [
            "\n"
          ]
        },
        {
          "output_type": "stream",
          "name": "stderr",
          "text": [
            "\rProcessing Frames:   5%|▌         | 69/1348 [00:23<08:27,  2.52frame/s]"
          ]
        },
        {
          "output_type": "stream",
          "name": "stdout",
          "text": [
            "\n"
          ]
        },
        {
          "output_type": "stream",
          "name": "stderr",
          "text": [
            "Processing Frames:   8%|▊         | 114/1348 [00:32<04:52,  4.21frame/s]"
          ]
        },
        {
          "output_type": "stream",
          "name": "stdout",
          "text": [
            "\n"
          ]
        },
        {
          "output_type": "stream",
          "name": "stderr",
          "text": [
            "Processing Frames:  10%|█         | 140/1348 [00:40<05:02,  3.99frame/s]"
          ]
        },
        {
          "output_type": "stream",
          "name": "stdout",
          "text": [
            "\n"
          ]
        },
        {
          "output_type": "stream",
          "name": "stderr",
          "text": [
            "Processing Frames:  13%|█▎        | 172/1348 [00:49<04:31,  4.33frame/s]"
          ]
        },
        {
          "output_type": "stream",
          "name": "stdout",
          "text": [
            "\n"
          ]
        },
        {
          "output_type": "stream",
          "name": "stderr",
          "text": [
            "Processing Frames:  15%|█▌        | 206/1348 [00:57<03:32,  5.37frame/s]"
          ]
        },
        {
          "output_type": "stream",
          "name": "stdout",
          "text": [
            "\n"
          ]
        },
        {
          "output_type": "stream",
          "name": "stderr",
          "text": [
            "Processing Frames:  17%|█▋        | 235/1348 [01:05<03:47,  4.90frame/s]"
          ]
        },
        {
          "output_type": "stream",
          "name": "stdout",
          "text": [
            "\n"
          ]
        },
        {
          "output_type": "stream",
          "name": "stderr",
          "text": [
            "Processing Frames:  20%|█▉        | 269/1348 [01:13<03:13,  5.59frame/s]"
          ]
        },
        {
          "output_type": "stream",
          "name": "stdout",
          "text": [
            "\n"
          ]
        },
        {
          "output_type": "stream",
          "name": "stderr",
          "text": [
            "\rProcessing Frames:  21%|██        | 279/1348 [01:21<05:45,  3.09frame/s]"
          ]
        },
        {
          "output_type": "stream",
          "name": "stdout",
          "text": [
            "\n"
          ]
        },
        {
          "output_type": "stream",
          "name": "stderr",
          "text": [
            "Processing Frames:  24%|██▎       | 317/1348 [01:29<04:10,  4.12frame/s]"
          ]
        },
        {
          "output_type": "stream",
          "name": "stdout",
          "text": [
            "\n"
          ]
        },
        {
          "output_type": "stream",
          "name": "stderr",
          "text": [
            "Processing Frames:  26%|██▋       | 355/1348 [01:36<03:06,  5.32frame/s]"
          ]
        },
        {
          "output_type": "stream",
          "name": "stdout",
          "text": [
            "\n"
          ]
        },
        {
          "output_type": "stream",
          "name": "stderr",
          "text": [
            "\rProcessing Frames:  27%|██▋       | 366/1348 [01:45<05:08,  3.19frame/s]"
          ]
        },
        {
          "output_type": "stream",
          "name": "stdout",
          "text": [
            "\n"
          ]
        },
        {
          "output_type": "stream",
          "name": "stderr",
          "text": [
            "Processing Frames:  33%|███▎      | 445/1348 [02:02<03:10,  4.73frame/s]"
          ]
        },
        {
          "output_type": "stream",
          "name": "stdout",
          "text": [
            "\n"
          ]
        },
        {
          "output_type": "stream",
          "name": "stderr",
          "text": [
            "\rProcessing Frames:  34%|███▍      | 457/1348 [02:09<04:18,  3.44frame/s]"
          ]
        },
        {
          "output_type": "stream",
          "name": "stdout",
          "text": [
            "\n"
          ]
        },
        {
          "output_type": "stream",
          "name": "stderr",
          "text": [
            "Processing Frames:  37%|███▋      | 503/1348 [02:18<03:01,  4.66frame/s]"
          ]
        },
        {
          "output_type": "stream",
          "name": "stdout",
          "text": [
            "\n"
          ]
        },
        {
          "output_type": "stream",
          "name": "stderr",
          "text": [
            "Processing Frames:  39%|███▉      | 530/1348 [02:25<02:59,  4.55frame/s]"
          ]
        },
        {
          "output_type": "stream",
          "name": "stdout",
          "text": [
            "\n"
          ]
        },
        {
          "output_type": "stream",
          "name": "stderr",
          "text": [
            "Processing Frames:  42%|████▏     | 570/1348 [02:34<02:24,  5.38frame/s]"
          ]
        },
        {
          "output_type": "stream",
          "name": "stdout",
          "text": [
            "\n"
          ]
        },
        {
          "output_type": "stream",
          "name": "stderr",
          "text": [
            "Processing Frames:  44%|████▍     | 598/1348 [02:42<02:36,  4.79frame/s]"
          ]
        },
        {
          "output_type": "stream",
          "name": "stdout",
          "text": [
            "\n"
          ]
        },
        {
          "output_type": "stream",
          "name": "stderr",
          "text": [
            "Processing Frames:  46%|████▋     | 624/1348 [02:49<02:40,  4.50frame/s]"
          ]
        },
        {
          "output_type": "stream",
          "name": "stdout",
          "text": [
            "\n"
          ]
        },
        {
          "output_type": "stream",
          "name": "stderr",
          "text": [
            "Processing Frames:  49%|████▊     | 656/1348 [02:58<02:17,  5.03frame/s]"
          ]
        },
        {
          "output_type": "stream",
          "name": "stdout",
          "text": [
            "\n"
          ]
        },
        {
          "output_type": "stream",
          "name": "stderr",
          "text": [
            "Processing Frames:  51%|█████     | 684/1348 [03:05<02:12,  5.01frame/s]"
          ]
        },
        {
          "output_type": "stream",
          "name": "stdout",
          "text": [
            "\n"
          ]
        },
        {
          "output_type": "stream",
          "name": "stderr",
          "text": [
            "Processing Frames:  53%|█████▎    | 715/1348 [03:14<02:13,  4.74frame/s]"
          ]
        },
        {
          "output_type": "stream",
          "name": "stdout",
          "text": [
            "\n"
          ]
        },
        {
          "output_type": "stream",
          "name": "stderr",
          "text": [
            "Processing Frames:  55%|█████▌    | 747/1348 [03:21<01:55,  5.18frame/s]"
          ]
        },
        {
          "output_type": "stream",
          "name": "stdout",
          "text": [
            "\n"
          ]
        },
        {
          "output_type": "stream",
          "name": "stderr",
          "text": [
            "Processing Frames:  58%|█████▊    | 780/1348 [03:30<01:55,  4.92frame/s]"
          ]
        },
        {
          "output_type": "stream",
          "name": "stdout",
          "text": [
            "\n"
          ]
        },
        {
          "output_type": "stream",
          "name": "stderr",
          "text": [
            "\rProcessing Frames:  59%|█████▉    | 792/1348 [03:37<02:43,  3.40frame/s]"
          ]
        },
        {
          "output_type": "stream",
          "name": "stdout",
          "text": [
            "\n"
          ]
        },
        {
          "output_type": "stream",
          "name": "stderr",
          "text": [
            "Processing Frames:  62%|██████▏   | 831/1348 [03:46<02:00,  4.30frame/s]"
          ]
        },
        {
          "output_type": "stream",
          "name": "stdout",
          "text": [
            "\n"
          ]
        },
        {
          "output_type": "stream",
          "name": "stderr",
          "text": [
            "Processing Frames:  64%|██████▍   | 862/1348 [03:53<01:39,  4.89frame/s]"
          ]
        },
        {
          "output_type": "stream",
          "name": "stdout",
          "text": [
            "\n"
          ]
        },
        {
          "output_type": "stream",
          "name": "stderr",
          "text": [
            "Processing Frames:  66%|██████▋   | 895/1348 [04:02<01:34,  4.81frame/s]"
          ]
        },
        {
          "output_type": "stream",
          "name": "stdout",
          "text": [
            "\n"
          ]
        },
        {
          "output_type": "stream",
          "name": "stderr",
          "text": [
            "Processing Frames:  68%|██████▊   | 919/1348 [04:09<01:38,  4.36frame/s]"
          ]
        },
        {
          "output_type": "stream",
          "name": "stdout",
          "text": [
            "\n"
          ]
        },
        {
          "output_type": "stream",
          "name": "stderr",
          "text": [
            "Processing Frames:  71%|███████   | 953/1348 [04:18<01:21,  4.83frame/s]"
          ]
        },
        {
          "output_type": "stream",
          "name": "stdout",
          "text": [
            "\n"
          ]
        },
        {
          "output_type": "stream",
          "name": "stderr",
          "text": [
            "Processing Frames:  73%|███████▎  | 986/1348 [04:26<01:06,  5.43frame/s]"
          ]
        },
        {
          "output_type": "stream",
          "name": "stdout",
          "text": [
            "\n"
          ]
        },
        {
          "output_type": "stream",
          "name": "stderr",
          "text": [
            "Processing Frames:  79%|███████▉  | 1070/1348 [04:49<00:55,  4.99frame/s]"
          ]
        },
        {
          "output_type": "stream",
          "name": "stdout",
          "text": [
            "\n"
          ]
        },
        {
          "output_type": "stream",
          "name": "stderr",
          "text": [
            "Processing Frames:  82%|████████▏ | 1102/1348 [04:58<00:51,  4.80frame/s]"
          ]
        },
        {
          "output_type": "stream",
          "name": "stdout",
          "text": [
            "\n"
          ]
        },
        {
          "output_type": "stream",
          "name": "stderr",
          "text": [
            "Processing Frames:  84%|████████▍ | 1136/1348 [05:05<00:38,  5.51frame/s]"
          ]
        },
        {
          "output_type": "stream",
          "name": "stdout",
          "text": [
            "\n"
          ]
        },
        {
          "output_type": "stream",
          "name": "stderr",
          "text": [
            "\rProcessing Frames:  85%|████████▌ | 1148/1348 [05:13<01:01,  3.25frame/s]"
          ]
        },
        {
          "output_type": "stream",
          "name": "stdout",
          "text": [
            "\n"
          ]
        },
        {
          "output_type": "stream",
          "name": "stderr",
          "text": [
            "Processing Frames:  88%|████████▊ | 1192/1348 [05:20<00:31,  4.92frame/s]"
          ]
        },
        {
          "output_type": "stream",
          "name": "stdout",
          "text": [
            "\n"
          ]
        },
        {
          "output_type": "stream",
          "name": "stderr",
          "text": [
            "Processing Frames:  91%|█████████ | 1225/1348 [05:29<00:25,  4.92frame/s]"
          ]
        },
        {
          "output_type": "stream",
          "name": "stdout",
          "text": [
            "\n"
          ]
        },
        {
          "output_type": "stream",
          "name": "stderr",
          "text": [
            "Processing Frames:  93%|█████████▎| 1260/1348 [05:36<00:15,  5.57frame/s]"
          ]
        },
        {
          "output_type": "stream",
          "name": "stdout",
          "text": [
            "\n"
          ]
        },
        {
          "output_type": "stream",
          "name": "stderr",
          "text": [
            "\rProcessing Frames:  94%|█████████▍| 1273/1348 [05:45<00:21,  3.43frame/s]"
          ]
        },
        {
          "output_type": "stream",
          "name": "stdout",
          "text": [
            "\n"
          ]
        },
        {
          "output_type": "stream",
          "name": "stderr",
          "text": [
            "\rProcessing Frames:  96%|█████████▌| 1291/1348 [05:52<00:18,  3.13frame/s]"
          ]
        },
        {
          "output_type": "stream",
          "name": "stdout",
          "text": [
            "{'The vehicle sustained damage on its back.', 'The number of vehicles are 3.', 'The accident took place at morning.', 'The accident happened under weather condition, clear.', 'The vehicle sustained damage on its front.', 'The road had truck.', 'The number of vehicles are 2.', 'The accident occurred on highway.', 'The road had car.', 'The incident took place during winter.', 'The road had motorcycle.', 'The vehicle involved in the accident was truck.', 'The vehicle sustained damage on its left.', 'The vehicle involved in the accident was car.', 'The road had cars.', 'The road had bus.'}\n",
            "frame 30, The road had cars.The vehicle involved in the accident was car.The vehicle sustained damage on its left.frame 60, The road had cars.The vehicle involved in the accident was car.The vehicle sustained damage on its left.frame 90, The road had cars.The vehicle involved in the accident was car.The vehicle sustained damage on its left.frame 120, The road had cars.The vehicle involved in the accident was car.The vehicle sustained damage on its left.frame 150, The road had cars.The vehicle involved in the accident was car.The vehicle sustained damage on its left.frame 180, The road had cars.The vehicle involved in the accident was car.The vehicle sustained damage on its left.frame 210, The road had cars.The vehicle involved in the accident was car.The vehicle sustained damage on its front.frame 240, The road had cars.The vehicle involved in the accident was car.The vehicle sustained damage on its left.frame 270, The road had cars.The vehicle involved in the accident was car.The vehicle sustained damage on its front.frame 300, The road had truck.The vehicle involved in the accident was truck.The vehicle sustained damage on its front.frame 330, The road had bus.The vehicle involved in the accident was car.The vehicle sustained damage on its front.frame 360, The road had cars.The vehicle involved in the accident was car.The vehicle sustained damage on its left.frame 390, The road had cars.The vehicle involved in the accident was car.The vehicle sustained damage on its front.frame 420, The number of vehicles are 3.The road had cars.The vehicle involved in the accident was car.The vehicle sustained damage on its front.frame 450, The road had cars.The vehicle involved in the accident was car.The vehicle sustained damage on its front.frame 480, The road had cars.The vehicle involved in the accident was car.The vehicle sustained damage on its left.frame 510, The road had cars.The vehicle involved in the accident was car.The vehicle sustained damage on its back.frame 540, The road had cars.The vehicle involved in the accident was car.The vehicle sustained damage on its front.frame 570, The road had cars.The vehicle involved in the accident was car.The vehicle sustained damage on its front.frame 600, The road had car.The vehicle involved in the accident was car.The vehicle sustained damage on its front.frame 630, The road had car.The vehicle involved in the accident was car.The vehicle sustained damage on its front.frame 660, The road had car.The vehicle involved in the accident was car.The vehicle sustained damage on its front.frame 690, The road had car.The vehicle involved in the accident was car.The vehicle sustained damage on its front.frame 720, The road had truck.The vehicle involved in the accident was truck.The vehicle sustained damage on its front.frame 750, The road had truck.The vehicle involved in the accident was truck.The vehicle sustained damage on its front.frame 780, The road had truck.The vehicle involved in the accident was truck.The vehicle sustained damage on its front.frame 810, The road had truck.The vehicle involved in the accident was truck.The vehicle sustained damage on its front.frame 840, The road had motorcycle.The vehicle involved in the accident was car.The vehicle sustained damage on its left.frame 870, The road had motorcycle.The vehicle involved in the accident was car.The vehicle sustained damage on its front.frame 900, The road had car.The vehicle involved in the accident was car.The vehicle sustained damage on its left.frame 930, The road had cars.The vehicle involved in the accident was car.The vehicle sustained damage on its front.frame 960, The road had cars.The vehicle involved in the accident was car.The vehicle sustained damage on its front.frame 990, The road had cars.The vehicle involved in the accident was car.The vehicle sustained damage on its front.frame 1020, The number of vehicles are 2.The road had cars.The vehicle involved in the accident was car.The vehicle sustained damage on its front.frame 1050, The number of vehicles are 2.The road had cars.The vehicle involved in the accident was car.The vehicle sustained damage on its front.frame 1080, The road had cars.The vehicle involved in the accident was car.The vehicle sustained damage on its left.frame 1110, The road had cars.The vehicle involved in the accident was car.The vehicle sustained damage on its left.frame 1140, The road had cars.The vehicle involved in the accident was car.The vehicle sustained damage on its front.frame 1170, The road had cars.The vehicle involved in the accident was car.The vehicle sustained damage on its left.frame 1200, The road had cars.The vehicle involved in the accident was car.The vehicle sustained damage on its front.frame 1230, The road had cars.The vehicle involved in the accident was car.The vehicle sustained damage on its front.frame 1260, The road had cars.The vehicle involved in the accident was car.The vehicle sustained damage on its front.frame 1290, The road had truck.The vehicle involved in the accident was truck.The vehicle sustained damage on its front.common for all frames, The accident occurred on highway.common for all frames, The accident took place at morning.common for all frames, The accident happened under weather condition, clear.common for all frames, The incident took place during winter.\n",
            "CLIP_308.mp4\n"
          ]
        },
        {
          "output_type": "stream",
          "name": "stderr",
          "text": [
            "\n",
            "Processing Frames:   0%|          | 0/1350 [00:00<?, ?frame/s]\u001b[A\n",
            "Processing Frames:  96%|█████████▌| 1291/1348 [05:52<00:15,  3.67frame/s]\n",
            "\n",
            "Processing Frames:   2%|▏         | 25/1350 [00:00<00:15, 88.00frame/s] \u001b[A"
          ]
        },
        {
          "output_type": "stream",
          "name": "stdout",
          "text": [
            "\n"
          ]
        },
        {
          "output_type": "stream",
          "name": "stderr",
          "text": [
            "\n",
            "Processing Frames:   3%|▎         | 35/1350 [00:08<07:45,  2.82frame/s]\u001b[A\n",
            "Processing Frames:   4%|▎         | 50/1350 [00:08<04:11,  5.17frame/s]\u001b[A"
          ]
        },
        {
          "output_type": "stream",
          "name": "stdout",
          "text": [
            "\n"
          ]
        },
        {
          "output_type": "stream",
          "name": "stderr",
          "text": [
            "\n",
            "Processing Frames:   4%|▍         | 59/1350 [00:16<08:07,  2.65frame/s]\u001b[A\n",
            "Processing Frames:   5%|▍         | 67/1350 [00:16<05:59,  3.56frame/s]\u001b[A\n",
            "Processing Frames:   6%|▌         | 76/1350 [00:16<04:15,  4.99frame/s]\u001b[A\n",
            "Processing Frames:   6%|▋         | 86/1350 [00:16<02:56,  7.18frame/s]\u001b[A"
          ]
        },
        {
          "output_type": "stream",
          "name": "stdout",
          "text": [
            "\n"
          ]
        },
        {
          "output_type": "stream",
          "name": "stderr",
          "text": [
            "\n",
            "Processing Frames:   7%|▋         | 94/1350 [00:24<07:42,  2.72frame/s]\u001b[A\n",
            "Processing Frames:   8%|▊         | 105/1350 [00:24<05:03,  4.10frame/s]\u001b[A\n",
            "Processing Frames:   9%|▊         | 117/1350 [00:32<08:05,  2.54frame/s]\u001b[A\n",
            "Processing Frames:   9%|▉         | 126/1350 [00:33<05:54,  3.46frame/s]\u001b[A\n",
            "Processing Frames:  10%|█         | 135/1350 [00:33<04:17,  4.72frame/s]\u001b[A\n",
            "Processing Frames:  11%|█         | 144/1350 [00:33<03:06,  6.46frame/s]\u001b[A\n",
            "Processing Frames:  11%|█         | 151/1350 [00:40<07:22,  2.71frame/s]\u001b[A\n",
            "Processing Frames:  12%|█▏        | 166/1350 [00:40<04:15,  4.64frame/s]\u001b[A\n",
            "Processing Frames:  13%|█▎        | 175/1350 [00:49<08:04,  2.43frame/s]\u001b[A\n",
            "Processing Frames:  14%|█▎        | 184/1350 [00:49<05:51,  3.31frame/s]\u001b[A\n",
            "Processing Frames:  14%|█▍        | 194/1350 [00:49<04:06,  4.70frame/s]\u001b[A\n",
            "Processing Frames:  15%|█▌        | 204/1350 [00:56<06:49,  2.80frame/s]\u001b[A\n",
            "Processing Frames:  16%|█▋        | 220/1350 [00:56<04:01,  4.69frame/s]\u001b[A\n",
            "Processing Frames:  17%|█▋        | 233/1350 [01:05<06:41,  2.78frame/s]\u001b[A\n",
            "Processing Frames:  18%|█▊        | 247/1350 [01:05<04:27,  4.12frame/s]\u001b[A\n",
            "Processing Frames:  19%|█▉        | 260/1350 [01:05<03:06,  5.84frame/s]\u001b[A\n",
            "Processing Frames:  20%|██        | 270/1350 [01:12<05:24,  3.32frame/s]\u001b[A\n",
            "Processing Frames:  21%|██        | 284/1350 [01:12<03:36,  4.93frame/s]\u001b[A\n",
            "Processing Frames:  22%|██▏       | 293/1350 [01:20<06:43,  2.62frame/s]\u001b[A\n",
            "Processing Frames:  23%|██▎       | 306/1350 [01:21<04:30,  3.85frame/s]\u001b[A\n",
            "Processing Frames:  24%|██▎       | 320/1350 [01:28<05:52,  2.92frame/s]\u001b[A\n",
            "Processing Frames:  25%|██▍       | 333/1350 [01:28<04:03,  4.18frame/s]\u001b[A\n",
            "Processing Frames:  26%|██▌       | 346/1350 [01:28<02:49,  5.92frame/s]\u001b[A\n",
            "Processing Frames:  26%|██▋       | 356/1350 [01:37<05:48,  2.85frame/s]\u001b[A\n",
            "Processing Frames:  27%|██▋       | 368/1350 [01:37<04:03,  4.04frame/s]\u001b[A\n",
            "Processing Frames:  28%|██▊       | 378/1350 [01:45<06:11,  2.62frame/s]\u001b[A\n",
            "Processing Frames:  29%|██▊       | 385/1350 [01:45<04:54,  3.27frame/s]\u001b[A\n",
            "Processing Frames:  29%|██▉       | 393/1350 [01:45<03:41,  4.33frame/s]\u001b[A\n",
            "Processing Frames:  30%|██▉       | 402/1350 [01:45<02:38,  5.96frame/s]\u001b[A"
          ]
        },
        {
          "output_type": "stream",
          "name": "stdout",
          "text": [
            "\n"
          ]
        },
        {
          "output_type": "stream",
          "name": "stderr",
          "text": [
            "\n",
            "Processing Frames:  30%|███       | 409/1350 [01:53<06:32,  2.40frame/s]\u001b[A\n",
            "Processing Frames:  31%|███▏      | 423/1350 [01:53<03:50,  4.02frame/s]\u001b[A"
          ]
        },
        {
          "output_type": "stream",
          "name": "stdout",
          "text": [
            "\n"
          ]
        },
        {
          "output_type": "stream",
          "name": "stderr",
          "text": [
            "\n",
            "Processing Frames:  32%|███▏      | 436/1350 [02:01<05:43,  2.66frame/s]\u001b[A\n",
            "Processing Frames:  33%|███▎      | 446/1350 [02:01<04:07,  3.66frame/s]\u001b[A\n",
            "Processing Frames:  34%|███▍      | 458/1350 [02:01<02:47,  5.32frame/s]\u001b[A"
          ]
        },
        {
          "output_type": "stream",
          "name": "stdout",
          "text": [
            "\n"
          ]
        },
        {
          "output_type": "stream",
          "name": "stderr",
          "text": [
            "\n",
            "Processing Frames:  35%|███▍      | 466/1350 [02:09<05:28,  2.69frame/s]\u001b[A\n",
            "Processing Frames:  36%|███▌      | 484/1350 [02:09<03:05,  4.67frame/s]\u001b[A\n",
            "Processing Frames:  37%|███▋      | 494/1350 [02:18<05:24,  2.64frame/s]\u001b[A\n",
            "Processing Frames:  37%|███▋      | 503/1350 [02:18<04:03,  3.47frame/s]\u001b[A\n",
            "Processing Frames:  38%|███▊      | 514/1350 [02:18<02:50,  4.89frame/s]\u001b[A\n",
            "Processing Frames:  39%|███▊      | 523/1350 [02:25<04:53,  2.82frame/s]\u001b[A\n",
            "Processing Frames:  40%|████      | 540/1350 [02:25<02:51,  4.73frame/s]\u001b[A\n",
            "Processing Frames:  41%|████      | 552/1350 [02:34<04:50,  2.75frame/s]\u001b[A\n",
            "Processing Frames:  42%|████▏     | 566/1350 [02:34<03:13,  4.06frame/s]\u001b[A\n",
            "Processing Frames:  43%|████▎     | 581/1350 [02:41<04:06,  3.12frame/s]\u001b[A\n",
            "Processing Frames:  44%|████▍     | 595/1350 [02:41<02:48,  4.47frame/s]\u001b[A\n",
            "Processing Frames:  45%|████▌     | 609/1350 [02:41<01:56,  6.35frame/s]\u001b[A\n",
            "Processing Frames:  46%|████▌     | 619/1350 [02:50<03:59,  3.06frame/s]\u001b[A\n",
            "Processing Frames:  47%|████▋     | 633/1350 [02:50<02:40,  4.46frame/s]\u001b[A\n",
            "Processing Frames:  48%|████▊     | 642/1350 [02:57<04:06,  2.87frame/s]\u001b[A\n",
            "Processing Frames:  49%|████▊     | 657/1350 [02:57<02:38,  4.39frame/s]\u001b[A\n",
            "Processing Frames:  49%|████▉     | 668/1350 [03:06<04:20,  2.62frame/s]\u001b[A\n",
            "Processing Frames:  50%|█████     | 681/1350 [03:06<02:57,  3.77frame/s]\u001b[A\n",
            "Processing Frames:  51%|█████▏    | 694/1350 [03:06<02:01,  5.39frame/s]\u001b[A"
          ]
        },
        {
          "output_type": "stream",
          "name": "stdout",
          "text": [
            "\n"
          ]
        },
        {
          "output_type": "stream",
          "name": "stderr",
          "text": [
            "\n",
            "Processing Frames:  52%|█████▏    | 704/1350 [03:13<03:24,  3.16frame/s]\u001b[A\n",
            "Processing Frames:  53%|█████▎    | 714/1350 [03:13<02:29,  4.25frame/s]\u001b[A"
          ]
        },
        {
          "output_type": "stream",
          "name": "stdout",
          "text": [
            "\n"
          ]
        },
        {
          "output_type": "stream",
          "name": "stderr",
          "text": [
            "\n",
            "Processing Frames:  54%|█████▍    | 726/1350 [03:22<04:00,  2.59frame/s]\u001b[A\n",
            "Processing Frames:  55%|█████▌    | 744/1350 [03:22<02:21,  4.29frame/s]\u001b[A"
          ]
        },
        {
          "output_type": "stream",
          "name": "stdout",
          "text": [
            "\n"
          ]
        },
        {
          "output_type": "stream",
          "name": "stderr",
          "text": [
            "\n",
            "Processing Frames:  56%|█████▌    | 755/1350 [03:30<03:30,  2.83frame/s]\u001b[A\n",
            "Processing Frames:  57%|█████▋    | 766/1350 [03:30<02:31,  3.84frame/s]\u001b[A\n",
            "Processing Frames:  57%|█████▋    | 776/1350 [03:30<01:52,  5.12frame/s]\u001b[A"
          ]
        },
        {
          "output_type": "stream",
          "name": "stdout",
          "text": [
            "\n"
          ]
        },
        {
          "output_type": "stream",
          "name": "stderr",
          "text": [
            "\n",
            "Processing Frames:  58%|█████▊    | 785/1350 [03:38<03:27,  2.72frame/s]\u001b[A\n",
            "Processing Frames:  59%|█████▉    | 803/1350 [03:38<01:58,  4.62frame/s]\u001b[A"
          ]
        },
        {
          "output_type": "stream",
          "name": "stdout",
          "text": [
            "\n"
          ]
        },
        {
          "output_type": "stream",
          "name": "stderr",
          "text": [
            "\n",
            "Processing Frames:  60%|██████    | 813/1350 [03:46<03:16,  2.73frame/s]\u001b[A\n",
            "Processing Frames:  61%|██████    | 826/1350 [03:46<02:12,  3.94frame/s]\u001b[A\n",
            "Processing Frames:  62%|██████▏   | 838/1350 [03:46<01:33,  5.50frame/s]\u001b[A"
          ]
        },
        {
          "output_type": "stream",
          "name": "stdout",
          "text": [
            "\n"
          ]
        },
        {
          "output_type": "stream",
          "name": "stderr",
          "text": [
            "\n",
            "Processing Frames:  63%|██████▎   | 847/1350 [03:54<02:47,  3.00frame/s]\u001b[A\n",
            "Processing Frames:  64%|██████▍   | 868/1350 [03:54<01:30,  5.33frame/s]\u001b[A"
          ]
        },
        {
          "output_type": "stream",
          "name": "stdout",
          "text": [
            "\n"
          ]
        },
        {
          "output_type": "stream",
          "name": "stderr",
          "text": [
            "\n",
            "Processing Frames:  65%|██████▌   | 879/1350 [04:02<02:40,  2.94frame/s]\u001b[A\n",
            "Processing Frames:  67%|██████▋   | 899/1350 [04:03<01:34,  4.80frame/s]\u001b[A"
          ]
        },
        {
          "output_type": "stream",
          "name": "stdout",
          "text": [
            "\n"
          ]
        },
        {
          "output_type": "stream",
          "name": "stderr",
          "text": [
            "\n",
            "Processing Frames:  67%|██████▋   | 911/1350 [04:10<02:13,  3.30frame/s]\u001b[A\n",
            "Processing Frames:  69%|██████▊   | 925/1350 [04:10<01:31,  4.63frame/s]\u001b[A\n",
            "Processing Frames:  69%|██████▉   | 935/1350 [04:18<02:33,  2.71frame/s]\u001b[A\n",
            "Processing Frames:  71%|███████   | 953/1350 [04:19<01:32,  4.29frame/s]\u001b[A"
          ]
        },
        {
          "output_type": "stream",
          "name": "stdout",
          "text": [
            "\n"
          ]
        },
        {
          "output_type": "stream",
          "name": "stderr",
          "text": [
            "\n",
            "Processing Frames:  71%|███████▏  | 963/1350 [04:26<02:11,  2.94frame/s]\u001b[A\n",
            "Processing Frames:  73%|███████▎  | 979/1350 [04:26<01:23,  4.43frame/s]\u001b[A"
          ]
        },
        {
          "output_type": "stream",
          "name": "stdout",
          "text": [
            "\n"
          ]
        },
        {
          "output_type": "stream",
          "name": "stderr",
          "text": [
            "\n",
            "Processing Frames:  73%|███████▎  | 989/1350 [04:34<02:16,  2.65frame/s]\u001b[A\n",
            "Processing Frames:  75%|███████▍  | 1006/1350 [04:34<01:23,  4.13frame/s]\u001b[A"
          ]
        },
        {
          "output_type": "stream",
          "name": "stdout",
          "text": [
            "\n"
          ]
        },
        {
          "output_type": "stream",
          "name": "stderr",
          "text": [
            "\n",
            "Processing Frames:  75%|███████▌  | 1016/1350 [04:41<01:56,  2.88frame/s]\u001b[A\n",
            "Processing Frames:  77%|███████▋  | 1033/1350 [04:41<01:11,  4.46frame/s]\u001b[A\n",
            "Processing Frames:  77%|███████▋  | 1045/1350 [04:50<01:49,  2.79frame/s]\u001b[A\n",
            "Processing Frames:  79%|███████▊  | 1060/1350 [04:50<01:10,  4.09frame/s]\u001b[A\n",
            "Processing Frames:  80%|███████▉  | 1074/1350 [04:57<01:29,  3.07frame/s]\u001b[A\n",
            "Processing Frames:  80%|████████  | 1085/1350 [04:58<01:05,  4.07frame/s]\u001b[A\n",
            "Processing Frames:  81%|████████  | 1095/1350 [04:58<00:47,  5.33frame/s]\u001b[A"
          ]
        },
        {
          "output_type": "stream",
          "name": "stdout",
          "text": [
            "\n"
          ]
        },
        {
          "output_type": "stream",
          "name": "stderr",
          "text": [
            "\n",
            "Processing Frames:  82%|████████▏ | 1103/1350 [05:06<01:33,  2.65frame/s]\u001b[A\n",
            "Processing Frames:  83%|████████▎ | 1121/1350 [05:06<00:51,  4.48frame/s]\u001b[A"
          ]
        },
        {
          "output_type": "stream",
          "name": "stdout",
          "text": [
            "\n"
          ]
        },
        {
          "output_type": "stream",
          "name": "stderr",
          "text": [
            "\n",
            "Processing Frames:  84%|████████▍ | 1132/1350 [05:14<01:16,  2.83frame/s]\u001b[A\n",
            "Processing Frames:  84%|████████▍ | 1139/1350 [05:14<01:00,  3.48frame/s]\u001b[A\n",
            "Processing Frames:  85%|████████▌ | 1149/1350 [05:14<00:41,  4.79frame/s]\u001b[A\n",
            "Processing Frames:  86%|████████▌ | 1159/1350 [05:14<00:28,  6.61frame/s]\u001b[A"
          ]
        },
        {
          "output_type": "stream",
          "name": "stdout",
          "text": [
            "\n"
          ]
        },
        {
          "output_type": "stream",
          "name": "stderr",
          "text": [
            "\n",
            "Processing Frames:  87%|████████▋ | 1168/1350 [05:22<01:01,  2.94frame/s]\u001b[A\n",
            "Processing Frames:  88%|████████▊ | 1186/1350 [05:22<00:31,  5.14frame/s]\u001b[A"
          ]
        },
        {
          "output_type": "stream",
          "name": "stdout",
          "text": [
            "\n"
          ]
        },
        {
          "output_type": "stream",
          "name": "stderr",
          "text": [
            "\n",
            "Processing Frames:  89%|████████▊ | 1196/1350 [05:31<00:55,  2.76frame/s]\u001b[A\n",
            "Processing Frames:  89%|████████▉ | 1206/1350 [05:31<00:38,  3.73frame/s]\u001b[A\n",
            "Processing Frames:  90%|█████████ | 1216/1350 [05:31<00:26,  5.09frame/s]\u001b[A"
          ]
        },
        {
          "output_type": "stream",
          "name": "stdout",
          "text": [
            "\n"
          ]
        },
        {
          "output_type": "stream",
          "name": "stderr",
          "text": [
            "\n",
            "Processing Frames:  91%|█████████ | 1224/1350 [05:38<00:45,  2.76frame/s]\u001b[A\n",
            "Processing Frames:  92%|█████████▏| 1240/1350 [05:38<00:23,  4.60frame/s]\u001b[A"
          ]
        },
        {
          "output_type": "stream",
          "name": "stdout",
          "text": [
            "\n"
          ]
        },
        {
          "output_type": "stream",
          "name": "stderr",
          "text": [
            "\n",
            "Processing Frames:  93%|█████████▎| 1249/1350 [05:47<00:40,  2.49frame/s]\u001b[A\n",
            "Processing Frames:  94%|█████████▍| 1267/1350 [05:47<00:19,  4.21frame/s]\u001b[A"
          ]
        },
        {
          "output_type": "stream",
          "name": "stdout",
          "text": [
            "\n"
          ]
        },
        {
          "output_type": "stream",
          "name": "stderr",
          "text": [
            "\n",
            "Processing Frames:  95%|█████████▍| 1277/1350 [05:54<00:25,  2.84frame/s]\u001b[A\n",
            "Processing Frames:  96%|█████████▌| 1295/1350 [05:54<00:11,  4.60frame/s]\u001b[A"
          ]
        },
        {
          "output_type": "stream",
          "name": "stdout",
          "text": [
            "\n"
          ]
        },
        {
          "output_type": "stream",
          "name": "stderr",
          "text": [
            "\n",
            "Processing Frames:  97%|█████████▋| 1306/1350 [06:03<00:15,  2.76frame/s]\u001b[A\n",
            "Processing Frames:  98%|█████████▊| 1329/1350 [06:03<00:04,  4.80frame/s]\u001b[A"
          ]
        },
        {
          "output_type": "stream",
          "name": "stdout",
          "text": [
            "\n"
          ]
        },
        {
          "output_type": "stream",
          "name": "stderr",
          "text": [
            "\n",
            "Processing Frames:  99%|█████████▉| 1341/1350 [06:10<00:02,  3.34frame/s]\u001b[A"
          ]
        },
        {
          "output_type": "stream",
          "name": "stdout",
          "text": [
            "{'The vehicle sustained damage on its back.', 'The number of vehicles are 3.', 'The accident took place at morning.', 'The road had airplane.', 'The vehicle sustained damage on its front.', 'The accident happened under weather condition, clear.', 'The number of vehicles are 2.', 'The road had buses.', 'The road had car.', 'The incident took place during fall.', 'The road had motorcycle.', 'The vehicle involved in the accident was truck.', 'The vehicle sustained damage on its left.', 'The vehicle involved in the accident was car.', 'The road had cars.', 'The accident occurred on road.'}\n",
            "frame 29, The road had buses.The vehicle involved in the accident was car.The vehicle sustained damage on its left.frame 58, The road had cars.The vehicle involved in the accident was car.The vehicle sustained damage on its left.frame 87, The road had buses.The vehicle involved in the accident was truck.The vehicle sustained damage on its left.frame 116, The number of vehicles are 2.The road had cars.The vehicle involved in the accident was truck.The vehicle sustained damage on its left.frame 145, The number of vehicles are 2.The road had cars.The vehicle involved in the accident was car.The vehicle sustained damage on its left.frame 174, The number of vehicles are 2.The road had cars.The vehicle involved in the accident was car.The vehicle sustained damage on its left.frame 203, The number of vehicles are 3.The road had cars.The vehicle involved in the accident was car.The vehicle sustained damage on its left.frame 232, The number of vehicles are 3.The road had cars.The vehicle involved in the accident was car.The vehicle sustained damage on its left.frame 261, The number of vehicles are 3.The road had cars.The vehicle involved in the accident was car.The vehicle sustained damage on its left.frame 290, The number of vehicles are 3.The road had cars.The vehicle involved in the accident was car.The vehicle sustained damage on its left.frame 319, The number of vehicles are 3.The road had cars.The vehicle involved in the accident was car.The vehicle sustained damage on its left.frame 348, The number of vehicles are 3.The road had cars.The vehicle involved in the accident was car.The vehicle sustained damage on its left.frame 377, The number of vehicles are 3.The road had cars.The vehicle involved in the accident was car.The vehicle sustained damage on its left.frame 406, The road had cars.The vehicle involved in the accident was car.The vehicle sustained damage on its left.frame 435, The road had cars.The vehicle involved in the accident was car.The vehicle sustained damage on its left.frame 464, The road had cars.The vehicle involved in the accident was car.The vehicle sustained damage on its left.frame 493, The number of vehicles are 3.The road had cars.The vehicle involved in the accident was car.The vehicle sustained damage on its left.frame 522, The number of vehicles are 3.The road had cars.The vehicle involved in the accident was car.The vehicle sustained damage on its left.frame 551, The number of vehicles are 3.The road had cars.The vehicle involved in the accident was car.The vehicle sustained damage on its left.frame 580, The number of vehicles are 3.The road had cars.The vehicle involved in the accident was car.The vehicle sustained damage on its left.frame 609, The number of vehicles are 3.The road had cars.The vehicle involved in the accident was car.The vehicle sustained damage on its left.frame 638, The number of vehicles are 3.The road had cars.The vehicle involved in the accident was car.The vehicle sustained damage on its left.frame 667, The number of vehicles are 2.The road had cars.The vehicle involved in the accident was car.The vehicle sustained damage on its left.frame 696, The road had cars.The vehicle involved in the accident was car.The vehicle sustained damage on its left.frame 725, The road had cars.The vehicle involved in the accident was car.The vehicle sustained damage on its left.frame 754, The road had cars.The vehicle involved in the accident was car.The vehicle sustained damage on its left.frame 783, The road had cars.The vehicle involved in the accident was car.The vehicle sustained damage on its left.frame 812, The road had cars.The vehicle involved in the accident was car.The vehicle sustained damage on its left.frame 841, The road had cars.The vehicle involved in the accident was car.The vehicle sustained damage on its back.frame 870, The road had airplane.The vehicle involved in the accident was car.The vehicle sustained damage on its back.frame 899, The road had cars.The vehicle involved in the accident was car.The vehicle sustained damage on its back.frame 928, The number of vehicles are 2.The road had cars.The vehicle involved in the accident was car.The vehicle sustained damage on its front.frame 957, The road had car.The vehicle involved in the accident was car.The vehicle sustained damage on its front.frame 986, The road had cars.The vehicle involved in the accident was car.The vehicle sustained damage on its front.frame 1015, The road had cars.The vehicle involved in the accident was car.The vehicle sustained damage on its back.frame 1044, The number of vehicles are 2.The road had cars.The vehicle involved in the accident was car.The vehicle sustained damage on its back.frame 1073, The number of vehicles are 2.The road had car.The vehicle involved in the accident was car.The vehicle sustained damage on its front.frame 1102, The road had car.The vehicle involved in the accident was car.The vehicle sustained damage on its front.frame 1131, The road had car.The vehicle involved in the accident was car.The vehicle sustained damage on its front.frame 1160, The road had car.The vehicle involved in the accident was car.The vehicle sustained damage on its front.frame 1189, The road had motorcycle.The vehicle involved in the accident was car.The vehicle sustained damage on its front.frame 1218, The road had car.The vehicle involved in the accident was car.The vehicle sustained damage on its front.frame 1247, The road had car.The vehicle involved in the accident was car.The vehicle sustained damage on its front.frame 1276, The road had car.The vehicle involved in the accident was car.The vehicle sustained damage on its front.frame 1305, The road had car.The vehicle involved in the accident was car.The vehicle sustained damage on its front.frame 1334, The road had cars.The vehicle involved in the accident was car.The vehicle sustained damage on its left.common for all frames, The accident occurred on road.common for all frames, The accident took place at morning.common for all frames, The accident happened under weather condition, clear.common for all frames, The incident took place during fall.\n",
            "CLIP_341.mp4\n"
          ]
        },
        {
          "output_type": "stream",
          "name": "stderr",
          "text": [
            "Processing Frames: 100%|██████████| 1350/1350 [06:10<00:00,  3.65frame/s]\n",
            "Processing Frames:   1%|▏         | 25/1990 [00:00<00:18, 103.77frame/s]"
          ]
        },
        {
          "output_type": "stream",
          "name": "stdout",
          "text": [
            "\n"
          ]
        },
        {
          "output_type": "stream",
          "name": "stderr",
          "text": [
            "Processing Frames:   4%|▍         | 82/1990 [00:16<06:27,  4.92frame/s]"
          ]
        },
        {
          "output_type": "stream",
          "name": "stdout",
          "text": [
            "\n",
            "\n"
          ]
        },
        {
          "output_type": "stream",
          "name": "stderr",
          "text": [
            "Processing Frames:   6%|▌         | 111/1990 [00:25<07:01,  4.46frame/s]"
          ]
        },
        {
          "output_type": "stream",
          "name": "stdout",
          "text": [
            "\n"
          ]
        },
        {
          "output_type": "stream",
          "name": "stderr",
          "text": [
            "Processing Frames:   7%|▋         | 145/1990 [00:33<05:49,  5.27frame/s]"
          ]
        },
        {
          "output_type": "stream",
          "name": "stdout",
          "text": [
            "\n"
          ]
        },
        {
          "output_type": "stream",
          "name": "stderr",
          "text": [
            "Processing Frames:   9%|▉         | 175/1990 [00:41<06:07,  4.93frame/s]"
          ]
        },
        {
          "output_type": "stream",
          "name": "stdout",
          "text": [
            "\n"
          ]
        },
        {
          "output_type": "stream",
          "name": "stderr",
          "text": [
            "Processing Frames:  10%|█         | 200/1990 [00:50<07:12,  4.14frame/s]"
          ]
        },
        {
          "output_type": "stream",
          "name": "stdout",
          "text": [
            "\n"
          ]
        },
        {
          "output_type": "stream",
          "name": "stderr",
          "text": [
            "Processing Frames:  12%|█▏        | 233/1990 [00:57<05:51,  5.00frame/s]"
          ]
        },
        {
          "output_type": "stream",
          "name": "stdout",
          "text": [
            "\n"
          ]
        },
        {
          "output_type": "stream",
          "name": "stderr",
          "text": [
            "Processing Frames:  13%|█▎        | 264/1990 [01:06<06:05,  4.72frame/s]"
          ]
        },
        {
          "output_type": "stream",
          "name": "stdout",
          "text": [
            "\n"
          ]
        },
        {
          "output_type": "stream",
          "name": "stderr",
          "text": [
            "Processing Frames:  15%|█▍        | 296/1990 [01:13<05:25,  5.21frame/s]"
          ]
        },
        {
          "output_type": "stream",
          "name": "stdout",
          "text": [
            "\n"
          ]
        },
        {
          "output_type": "stream",
          "name": "stderr",
          "text": [
            "Processing Frames:  17%|█▋        | 330/1990 [01:22<05:28,  5.05frame/s]"
          ]
        },
        {
          "output_type": "stream",
          "name": "stdout",
          "text": [
            "\n"
          ]
        },
        {
          "output_type": "stream",
          "name": "stderr",
          "text": [
            "\rProcessing Frames:  17%|█▋        | 342/1990 [01:29<07:51,  3.50frame/s]"
          ]
        },
        {
          "output_type": "stream",
          "name": "stdout",
          "text": [
            "\n"
          ]
        },
        {
          "output_type": "stream",
          "name": "stderr",
          "text": [
            "Processing Frames:  19%|█▉        | 379/1990 [01:37<06:23,  4.21frame/s]"
          ]
        },
        {
          "output_type": "stream",
          "name": "stdout",
          "text": [
            "\n"
          ]
        },
        {
          "output_type": "stream",
          "name": "stderr",
          "text": [
            "Processing Frames:  21%|██        | 411/1990 [01:45<05:24,  4.86frame/s]"
          ]
        },
        {
          "output_type": "stream",
          "name": "stdout",
          "text": [
            "\n"
          ]
        },
        {
          "output_type": "stream",
          "name": "stderr",
          "text": [
            "Processing Frames:  22%|██▏       | 442/1990 [01:53<05:33,  4.64frame/s]"
          ]
        },
        {
          "output_type": "stream",
          "name": "stdout",
          "text": [
            "\n"
          ]
        },
        {
          "output_type": "stream",
          "name": "stderr",
          "text": [
            "Processing Frames:  24%|██▍       | 486/1990 [02:09<08:21,  3.00frame/s]"
          ]
        },
        {
          "output_type": "stream",
          "name": "stdout",
          "text": [
            "\n"
          ]
        },
        {
          "output_type": "stream",
          "name": "stderr",
          "text": [
            "Processing Frames:  27%|██▋       | 532/1990 [02:17<04:49,  5.03frame/s]"
          ]
        },
        {
          "output_type": "stream",
          "name": "stdout",
          "text": [
            "\n"
          ]
        },
        {
          "output_type": "stream",
          "name": "stderr",
          "text": [
            "Processing Frames:  28%|██▊       | 567/1990 [02:25<04:16,  5.56frame/s]"
          ]
        },
        {
          "output_type": "stream",
          "name": "stdout",
          "text": [
            "\n"
          ]
        },
        {
          "output_type": "stream",
          "name": "stderr",
          "text": [
            "Processing Frames:  30%|██▉       | 593/1990 [02:34<05:08,  4.53frame/s]"
          ]
        },
        {
          "output_type": "stream",
          "name": "stdout",
          "text": [
            "\n"
          ]
        },
        {
          "output_type": "stream",
          "name": "stderr",
          "text": [
            "Processing Frames:  32%|███▏      | 629/1990 [02:41<04:06,  5.51frame/s]"
          ]
        },
        {
          "output_type": "stream",
          "name": "stdout",
          "text": [
            "\n"
          ]
        },
        {
          "output_type": "stream",
          "name": "stderr",
          "text": [
            "Processing Frames:  34%|███▍      | 684/1990 [02:56<04:27,  4.88frame/s]"
          ]
        },
        {
          "output_type": "stream",
          "name": "stdout",
          "text": [
            "\n"
          ]
        },
        {
          "output_type": "stream",
          "name": "stderr",
          "text": [
            "Processing Frames:  36%|███▌      | 719/1990 [03:05<04:13,  5.02frame/s]"
          ]
        },
        {
          "output_type": "stream",
          "name": "stdout",
          "text": [
            "\n"
          ]
        },
        {
          "output_type": "stream",
          "name": "stderr",
          "text": [
            "\rProcessing Frames:  37%|███▋      | 732/1990 [03:12<05:46,  3.63frame/s]"
          ]
        },
        {
          "output_type": "stream",
          "name": "stdout",
          "text": [
            "\n"
          ]
        },
        {
          "output_type": "stream",
          "name": "stderr",
          "text": [
            "Processing Frames:  39%|███▉      | 773/1990 [03:21<04:26,  4.57frame/s]"
          ]
        },
        {
          "output_type": "stream",
          "name": "stdout",
          "text": [
            "\n"
          ]
        },
        {
          "output_type": "stream",
          "name": "stderr",
          "text": [
            "Processing Frames:  40%|████      | 803/1990 [03:28<04:00,  4.93frame/s]"
          ]
        },
        {
          "output_type": "stream",
          "name": "stdout",
          "text": [
            "\n"
          ]
        },
        {
          "output_type": "stream",
          "name": "stderr",
          "text": [
            "Processing Frames:  42%|████▏     | 837/1990 [03:36<03:53,  4.94frame/s]"
          ]
        },
        {
          "output_type": "stream",
          "name": "stdout",
          "text": [
            "\n"
          ]
        },
        {
          "output_type": "stream",
          "name": "stderr",
          "text": [
            "Processing Frames:  43%|████▎     | 863/1990 [03:43<03:57,  4.75frame/s]"
          ]
        },
        {
          "output_type": "stream",
          "name": "stdout",
          "text": [
            "\n"
          ]
        },
        {
          "output_type": "stream",
          "name": "stderr",
          "text": [
            "Processing Frames:  45%|████▌     | 896/1990 [03:52<03:47,  4.81frame/s]"
          ]
        },
        {
          "output_type": "stream",
          "name": "stdout",
          "text": [
            "\n"
          ]
        },
        {
          "output_type": "stream",
          "name": "stderr",
          "text": [
            "Processing Frames:  50%|████▉     | 986/1990 [04:16<03:04,  5.45frame/s]"
          ]
        },
        {
          "output_type": "stream",
          "name": "stdout",
          "text": [
            "\n"
          ]
        },
        {
          "output_type": "stream",
          "name": "stderr",
          "text": [
            "Processing Frames:  59%|█████▊    | 1169/1990 [05:04<02:44,  5.00frame/s]"
          ]
        },
        {
          "output_type": "stream",
          "name": "stdout",
          "text": [
            "\n"
          ]
        },
        {
          "output_type": "stream",
          "name": "stderr",
          "text": [
            "\rProcessing Frames:  59%|█████▉    | 1181/1990 [05:11<03:53,  3.46frame/s]"
          ]
        },
        {
          "output_type": "stream",
          "name": "stdout",
          "text": [
            "\n"
          ]
        },
        {
          "output_type": "stream",
          "name": "stderr",
          "text": [
            "Processing Frames:  61%|██████▏   | 1221/1990 [05:20<02:55,  4.38frame/s]"
          ]
        },
        {
          "output_type": "stream",
          "name": "stdout",
          "text": [
            "\n"
          ]
        },
        {
          "output_type": "stream",
          "name": "stderr",
          "text": [
            "Processing Frames:  63%|██████▎   | 1252/1990 [05:27<02:32,  4.84frame/s]"
          ]
        },
        {
          "output_type": "stream",
          "name": "stdout",
          "text": [
            "\n"
          ]
        },
        {
          "output_type": "stream",
          "name": "stderr",
          "text": [
            "Processing Frames:  64%|██████▍   | 1282/1990 [05:36<02:35,  4.55frame/s]"
          ]
        },
        {
          "output_type": "stream",
          "name": "stdout",
          "text": [
            "\n"
          ]
        },
        {
          "output_type": "stream",
          "name": "stderr",
          "text": [
            "Processing Frames:  66%|██████▌   | 1316/1990 [05:44<02:03,  5.45frame/s]"
          ]
        },
        {
          "output_type": "stream",
          "name": "stdout",
          "text": [
            "\n"
          ]
        },
        {
          "output_type": "stream",
          "name": "stderr",
          "text": [
            "Processing Frames:  67%|██████▋   | 1343/1990 [05:52<02:18,  4.67frame/s]"
          ]
        },
        {
          "output_type": "stream",
          "name": "stdout",
          "text": [
            "\n"
          ]
        },
        {
          "output_type": "stream",
          "name": "stderr",
          "text": [
            "Processing Frames:  69%|██████▉   | 1373/1990 [06:00<02:03,  4.99frame/s]"
          ]
        },
        {
          "output_type": "stream",
          "name": "stdout",
          "text": [
            "\n"
          ]
        },
        {
          "output_type": "stream",
          "name": "stderr",
          "text": [
            "Processing Frames:  72%|███████▏  | 1428/1990 [06:17<02:09,  4.33frame/s]"
          ]
        },
        {
          "output_type": "stream",
          "name": "stdout",
          "text": [
            "\n"
          ]
        },
        {
          "output_type": "stream",
          "name": "stderr",
          "text": [
            "Processing Frames:  73%|███████▎  | 1458/1990 [06:24<01:52,  4.75frame/s]"
          ]
        },
        {
          "output_type": "stream",
          "name": "stdout",
          "text": [
            "\n"
          ]
        },
        {
          "output_type": "stream",
          "name": "stderr",
          "text": [
            "Processing Frames:  75%|███████▍  | 1488/1990 [06:33<01:54,  4.39frame/s]"
          ]
        },
        {
          "output_type": "stream",
          "name": "stdout",
          "text": [
            "\n"
          ]
        },
        {
          "output_type": "stream",
          "name": "stderr",
          "text": [
            "Processing Frames:  78%|███████▊  | 1550/1990 [06:49<01:37,  4.53frame/s]"
          ]
        },
        {
          "output_type": "stream",
          "name": "stdout",
          "text": [
            "\n"
          ]
        },
        {
          "output_type": "stream",
          "name": "stderr",
          "text": [
            "Processing Frames:  80%|███████▉  | 1586/1990 [06:57<01:09,  5.82frame/s]"
          ]
        },
        {
          "output_type": "stream",
          "name": "stdout",
          "text": [
            "\n"
          ]
        },
        {
          "output_type": "stream",
          "name": "stderr",
          "text": [
            "Processing Frames:  81%|████████  | 1613/1990 [07:06<01:22,  4.55frame/s]"
          ]
        },
        {
          "output_type": "stream",
          "name": "stdout",
          "text": [
            "\n"
          ]
        },
        {
          "output_type": "stream",
          "name": "stderr",
          "text": [
            "Processing Frames:  86%|████████▌ | 1705/1990 [07:31<00:54,  5.23frame/s]"
          ]
        },
        {
          "output_type": "stream",
          "name": "stdout",
          "text": [
            "\n"
          ]
        },
        {
          "output_type": "stream",
          "name": "stderr",
          "text": [
            "Processing Frames:  87%|████████▋ | 1738/1990 [07:38<00:45,  5.56frame/s]"
          ]
        },
        {
          "output_type": "stream",
          "name": "stdout",
          "text": [
            "\n"
          ]
        },
        {
          "output_type": "stream",
          "name": "stderr",
          "text": [
            "\rProcessing Frames:  88%|████████▊ | 1750/1990 [07:47<01:18,  3.07frame/s]"
          ]
        },
        {
          "output_type": "stream",
          "name": "stdout",
          "text": [
            "\n"
          ]
        },
        {
          "output_type": "stream",
          "name": "stderr",
          "text": [
            "Processing Frames:  90%|█████████ | 1793/1990 [07:54<00:41,  4.73frame/s]"
          ]
        },
        {
          "output_type": "stream",
          "name": "stdout",
          "text": [
            "\n"
          ]
        },
        {
          "output_type": "stream",
          "name": "stderr",
          "text": [
            "Processing Frames:  92%|█████████▏| 1826/1990 [08:03<00:34,  4.72frame/s]"
          ]
        },
        {
          "output_type": "stream",
          "name": "stdout",
          "text": [
            "\n"
          ]
        },
        {
          "output_type": "stream",
          "name": "stderr",
          "text": [
            "Processing Frames:  93%|█████████▎| 1858/1990 [08:11<00:25,  5.10frame/s]"
          ]
        },
        {
          "output_type": "stream",
          "name": "stdout",
          "text": [
            "\n"
          ]
        },
        {
          "output_type": "stream",
          "name": "stderr",
          "text": [
            "Processing Frames:  96%|█████████▋| 1916/1990 [08:27<00:14,  5.16frame/s]"
          ]
        },
        {
          "output_type": "stream",
          "name": "stdout",
          "text": [
            "\n",
            "{'The road had trucks.', 'The road had scooter.', 'The road had car.', 'The vehicle involved in the accident was bus.', 'The road had motorcycle.', 'The road had suv.', 'The vehicle involved in the accident was car.', 'The vehicle sustained damage on its back.', 'The accident occurred on street.', 'The road had moped.', 'The accident took place at evening.', 'The vehicle involved in the accident was chair.', 'The road had motorcycles.', 'The vehicle involved in the accident was truck.', 'The incident took place during summer.', 'The vehicle involved in the accident was plane.', 'The vehicle sustained damage on its front.', 'The road had truck.', 'The road had plane.', 'The vehicle involved in the accident was sign.', 'The number of vehicles are 2.', 'The vehicle involved in the accident was motorcycle.', 'The accident happened under weather condition, sunny.', 'The vehicle sustained damage on its left.', 'The road had cars.', 'The road had bus.'}\n",
            "frame 30, The road had bus.The vehicle involved in the accident was car.The vehicle sustained damage on its left.frame 60, The number of vehicles are 2.The road had cars.The vehicle involved in the accident was car.The vehicle sustained damage on its left.frame 90, The road had cars.The vehicle sustained damage on its left.frame 120, The road had cars.The vehicle involved in the accident was car.The vehicle sustained damage on its front.frame 150, The road had suv.The vehicle involved in the accident was car.The vehicle sustained damage on its back.frame 180, The road had suv.The vehicle involved in the accident was car.The vehicle sustained damage on its front.frame 210, The road had bus.The vehicle involved in the accident was bus.The vehicle sustained damage on its left.frame 240, The road had motorcycles.The vehicle involved in the accident was car.The vehicle sustained damage on its left.frame 270, The road had truck.The vehicle involved in the accident was car.The vehicle sustained damage on its left.frame 300, The road had trucks.The vehicle involved in the accident was car.The vehicle sustained damage on its left.frame 330, The road had motorcycles.The vehicle involved in the accident was plane.The vehicle sustained damage on its left.frame 360, The road had motorcycles.The vehicle involved in the accident was car.The vehicle sustained damage on its left.frame 390, The road had truck.The vehicle involved in the accident was truck.The vehicle sustained damage on its left.frame 420, The road had cars.The vehicle involved in the accident was car.The vehicle sustained damage on its left.frame 450, The road had truck.The vehicle involved in the accident was truck.The vehicle sustained damage on its left.frame 480, The number of vehicles are 2.The road had cars.The vehicle involved in the accident was car.The vehicle sustained damage on its left.frame 510, The road had plane.The vehicle involved in the accident was plane.The vehicle sustained damage on its back.frame 540, The road had motorcycles.The vehicle involved in the accident was motorcycle.The vehicle sustained damage on its back.frame 570, The road had cars.The vehicle involved in the accident was car.The vehicle sustained damage on its left.frame 600, The road had bus.The vehicle involved in the accident was chair.The vehicle sustained damage on its back.frame 630, The road had cars.The vehicle involved in the accident was car.The vehicle sustained damage on its left.frame 660, The number of vehicles are 2.The road had cars.The vehicle involved in the accident was car.The vehicle sustained damage on its left.frame 690, The road had cars.The vehicle involved in the accident was car.The vehicle sustained damage on its back.frame 720, The road had cars.The vehicle involved in the accident was car.The vehicle sustained damage on its left.frame 750, The road had cars.The vehicle involved in the accident was car.The vehicle sustained damage on its back.frame 780, The road had car.The vehicle involved in the accident was car.The vehicle sustained damage on its back.frame 810, The road had cars.The vehicle involved in the accident was car.The vehicle sustained damage on its back.frame 840, The road had cars.The vehicle involved in the accident was car.The vehicle sustained damage on its back.frame 870, The road had bus.The vehicle involved in the accident was bus.The vehicle sustained damage on its back.frame 900, The road had cars.The vehicle involved in the accident was car.The vehicle sustained damage on its back.frame 930, The number of vehicles are 2.The road had cars.The vehicle involved in the accident was car.The vehicle sustained damage on its back.frame 960, The number of vehicles are 2.The road had suv.The vehicle involved in the accident was car.The vehicle sustained damage on its back.frame 990, The road had car.The vehicle involved in the accident was car.The vehicle sustained damage on its back.frame 1020, The number of vehicles are 2.The road had moped.The vehicle involved in the accident was car.The vehicle sustained damage on its back.frame 1050, The number of vehicles are 2.The road had scooter.The vehicle involved in the accident was car.The vehicle sustained damage on its back.frame 1080, The number of vehicles are 2.The road had motorcycles.The vehicle involved in the accident was car.The vehicle sustained damage on its back.frame 1110, The number of vehicles are 2.The road had scooter.The vehicle involved in the accident was car.The vehicle sustained damage on its back.frame 1140, The number of vehicles are 2.The road had scooter.The vehicle involved in the accident was car.The vehicle sustained damage on its back.frame 1170, The road had cars.The vehicle involved in the accident was car.The vehicle sustained damage on its back.frame 1200, The road had cars.The vehicle involved in the accident was car.The vehicle sustained damage on its front.frame 1230, The road had cars.The vehicle involved in the accident was car.The vehicle sustained damage on its front.frame 1260, The road had cars.The vehicle involved in the accident was car.The vehicle sustained damage on its front.frame 1290, The road had cars.The vehicle involved in the accident was car.The vehicle sustained damage on its front.frame 1320, The road had cars.The vehicle involved in the accident was car.The vehicle sustained damage on its front.frame 1350, The road had motorcycles.The vehicle involved in the accident was motorcycle.The vehicle sustained damage on its front.frame 1380, The road had motorcycles.The vehicle involved in the accident was motorcycle.The vehicle sustained damage on its front.frame 1410, The number of vehicles are 2.The road had motorcycles.The vehicle involved in the accident was motorcycle.The vehicle sustained damage on its front.frame 1440, The road had motorcycles.The vehicle involved in the accident was motorcycle.The vehicle sustained damage on its front.frame 1470, The road had motorcycles.The vehicle involved in the accident was motorcycle.The vehicle sustained damage on its front.frame 1500, The road had motorcycle.The vehicle involved in the accident was motorcycle.The vehicle sustained damage on its front.frame 1530, The number of vehicles are 2.The road had truck.The vehicle involved in the accident was truck.The vehicle sustained damage on its back.frame 1560, The road had truck.The vehicle involved in the accident was truck.The vehicle sustained damage on its back.frame 1590, The road had cars.The vehicle involved in the accident was car.The vehicle sustained damage on its left.frame 1620, The road had cars.The vehicle involved in the accident was car.The vehicle sustained damage on its left.frame 1650, The number of vehicles are 2.The road had cars.The vehicle involved in the accident was car.The vehicle sustained damage on its left.frame 1680, The number of vehicles are 2.The road had cars.The vehicle involved in the accident was plane.The vehicle sustained damage on its back.frame 1710, The road had cars.The vehicle involved in the accident was plane.The vehicle sustained damage on its back.frame 1740, The road had cars.The vehicle involved in the accident was bus.The vehicle sustained damage on its back.frame 1770, The road had motorcycle.The vehicle involved in the accident was motorcycle.The vehicle sustained damage on its back.frame 1800, The road had cars.The vehicle involved in the accident was car.The vehicle sustained damage on its back.frame 1830, The road had car.The vehicle involved in the accident was car.The vehicle sustained damage on its back.frame 1860, The road had suv.The vehicle involved in the accident was car.The vehicle sustained damage on its back.frame 1890, The number of vehicles are 2.The road had suv.The vehicle involved in the accident was car.The vehicle sustained damage on its back.frame 1920, The road had cars.The vehicle involved in the accident was sign.The vehicle sustained damage on its left.common for all frames, The accident occurred on street.common for all frames, The accident took place at evening.common for all frames, The accident happened under weather condition, sunny.common for all frames, The incident took place during summer.\n",
            "CLIP_311.mp4\n"
          ]
        },
        {
          "output_type": "stream",
          "name": "stderr",
          "text": [
            "\n",
            "Processing Frames:  97%|█████████▋| 1921/1990 [08:36<00:18,  3.72frame/s]\n",
            "\n",
            "Processing Frames:   2%|▏         | 19/974 [00:00<00:05, 185.25frame/s]\u001b[A"
          ]
        },
        {
          "output_type": "stream",
          "name": "stdout",
          "text": [
            "\n"
          ]
        },
        {
          "output_type": "stream",
          "name": "stderr",
          "text": [
            "\n",
            "Processing Frames:   4%|▍         | 38/974 [00:08<04:05,  3.81frame/s] \u001b[A\n",
            "Processing Frames:   6%|▌         | 57/974 [00:08<02:13,  6.89frame/s]\u001b[A"
          ]
        },
        {
          "output_type": "stream",
          "name": "stdout",
          "text": [
            "\n"
          ]
        },
        {
          "output_type": "stream",
          "name": "stderr",
          "text": [
            "\n",
            "Processing Frames:   7%|▋         | 70/974 [00:16<04:15,  3.54frame/s]\u001b[A"
          ]
        },
        {
          "output_type": "stream",
          "name": "stdout",
          "text": [
            "\n"
          ]
        },
        {
          "output_type": "stream",
          "name": "stderr",
          "text": [
            "\n",
            "Processing Frames:   9%|▉         | 88/974 [00:25<05:20,  2.76frame/s]\u001b[A"
          ]
        },
        {
          "output_type": "stream",
          "name": "stdout",
          "text": [
            "\n"
          ]
        },
        {
          "output_type": "stream",
          "name": "stderr",
          "text": [
            "\n",
            "Processing Frames:  12%|█▏        | 117/974 [00:32<04:20,  3.29frame/s]\u001b[A\n",
            "Processing Frames:  14%|█▍        | 139/974 [00:32<02:50,  4.91frame/s]\u001b[A"
          ]
        },
        {
          "output_type": "stream",
          "name": "stdout",
          "text": [
            "\n"
          ]
        },
        {
          "output_type": "stream",
          "name": "stderr",
          "text": [
            "\n",
            "Processing Frames:  15%|█▌        | 149/974 [00:40<04:25,  3.11frame/s]\u001b[A\n",
            "Processing Frames:  17%|█▋        | 169/974 [00:40<02:52,  4.66frame/s]\u001b[A"
          ]
        },
        {
          "output_type": "stream",
          "name": "stdout",
          "text": [
            "\n"
          ]
        },
        {
          "output_type": "stream",
          "name": "stderr",
          "text": [
            "\n",
            "Processing Frames:  18%|█▊        | 180/974 [00:47<04:00,  3.30frame/s]\u001b[A\n",
            "Processing Frames:  20%|██        | 198/974 [00:47<02:39,  4.88frame/s]\u001b[A"
          ]
        },
        {
          "output_type": "stream",
          "name": "stdout",
          "text": [
            "\n"
          ]
        },
        {
          "output_type": "stream",
          "name": "stderr",
          "text": [
            "\n",
            "Processing Frames:  21%|██▏       | 209/974 [00:56<04:16,  2.99frame/s]\u001b[A\n",
            "Processing Frames:  24%|██▎       | 231/974 [00:56<02:33,  4.84frame/s]\u001b[A"
          ]
        },
        {
          "output_type": "stream",
          "name": "stdout",
          "text": [
            "\n"
          ]
        },
        {
          "output_type": "stream",
          "name": "stderr",
          "text": [
            "\n",
            "Processing Frames:  25%|██▍       | 243/974 [01:03<03:33,  3.42frame/s]\u001b[A"
          ]
        },
        {
          "output_type": "stream",
          "name": "stdout",
          "text": [
            "\n"
          ]
        },
        {
          "output_type": "stream",
          "name": "stderr",
          "text": [
            "\n",
            "Processing Frames:  27%|██▋       | 262/974 [01:12<04:08,  2.87frame/s]\u001b[A\n",
            "Processing Frames:  29%|██▉       | 282/974 [01:12<02:39,  4.33frame/s]\u001b[A"
          ]
        },
        {
          "output_type": "stream",
          "name": "stdout",
          "text": [
            "\n"
          ]
        },
        {
          "output_type": "stream",
          "name": "stderr",
          "text": [
            "\n",
            "Processing Frames:  30%|██▉       | 292/974 [01:19<03:39,  3.10frame/s]\u001b[A\n",
            "Processing Frames:  32%|███▏      | 312/974 [01:19<02:17,  4.80frame/s]\u001b[A"
          ]
        },
        {
          "output_type": "stream",
          "name": "stdout",
          "text": [
            "\n"
          ]
        },
        {
          "output_type": "stream",
          "name": "stderr",
          "text": [
            "\n",
            "Processing Frames:  33%|███▎      | 323/974 [01:28<03:37,  2.99frame/s]\u001b[A\n",
            "Processing Frames:  35%|███▌      | 344/974 [01:28<02:12,  4.74frame/s]\u001b[A"
          ]
        },
        {
          "output_type": "stream",
          "name": "stdout",
          "text": [
            "\n"
          ]
        },
        {
          "output_type": "stream",
          "name": "stderr",
          "text": [
            "\n",
            "Processing Frames:  37%|███▋      | 356/974 [01:35<03:08,  3.28frame/s]\u001b[A\n",
            "Processing Frames:  38%|███▊      | 369/974 [01:35<02:16,  4.42frame/s]\u001b[A"
          ]
        },
        {
          "output_type": "stream",
          "name": "stdout",
          "text": [
            "\n"
          ]
        },
        {
          "output_type": "stream",
          "name": "stderr",
          "text": [
            "\n",
            "Processing Frames:  39%|███▉      | 379/974 [01:43<03:36,  2.75frame/s]\u001b[A\n",
            "Processing Frames:  41%|████      | 400/974 [01:44<02:05,  4.57frame/s]\u001b[A"
          ]
        },
        {
          "output_type": "stream",
          "name": "stdout",
          "text": [
            "\n"
          ]
        },
        {
          "output_type": "stream",
          "name": "stderr",
          "text": [
            "\n",
            "Processing Frames:  42%|████▏     | 411/974 [01:52<03:09,  2.97frame/s]\u001b[A\n",
            "Processing Frames:  43%|████▎     | 421/974 [01:52<02:24,  3.83frame/s]\u001b[A\n",
            "Processing Frames:  45%|████▍     | 434/974 [01:52<01:39,  5.40frame/s]\u001b[A"
          ]
        },
        {
          "output_type": "stream",
          "name": "stdout",
          "text": [
            "\n"
          ]
        },
        {
          "output_type": "stream",
          "name": "stderr",
          "text": [
            "\n",
            "Processing Frames:  46%|████▌     | 444/974 [01:59<02:52,  3.07frame/s]\u001b[A"
          ]
        },
        {
          "output_type": "stream",
          "name": "stdout",
          "text": [
            "\n"
          ]
        },
        {
          "output_type": "stream",
          "name": "stderr",
          "text": [
            "\n",
            "Processing Frames:  48%|████▊     | 465/974 [02:08<03:03,  2.78frame/s]\u001b[A\n",
            "Processing Frames:  49%|████▉     | 476/974 [02:08<02:17,  3.63frame/s]\u001b[A\n",
            "Processing Frames:  50%|█████     | 488/974 [02:08<01:38,  4.95frame/s]\u001b[A"
          ]
        },
        {
          "output_type": "stream",
          "name": "stdout",
          "text": [
            "\n"
          ]
        },
        {
          "output_type": "stream",
          "name": "stderr",
          "text": [
            "\n",
            "Processing Frames:  51%|█████     | 496/974 [02:15<02:42,  2.93frame/s]\u001b[A\n",
            "Processing Frames:  53%|█████▎    | 515/974 [02:15<01:32,  4.94frame/s]\u001b[A"
          ]
        },
        {
          "output_type": "stream",
          "name": "stdout",
          "text": [
            "\n"
          ]
        },
        {
          "output_type": "stream",
          "name": "stderr",
          "text": [
            "\n",
            "Processing Frames:  54%|█████▍    | 525/974 [02:24<02:42,  2.77frame/s]\u001b[A\n",
            "Processing Frames:  56%|█████▋    | 549/974 [02:24<01:25,  4.97frame/s]\u001b[A"
          ]
        },
        {
          "output_type": "stream",
          "name": "stdout",
          "text": [
            "\n"
          ]
        },
        {
          "output_type": "stream",
          "name": "stderr",
          "text": [
            "\n",
            "Processing Frames:  58%|█████▊    | 561/974 [02:31<02:00,  3.42frame/s]\u001b[A"
          ]
        },
        {
          "output_type": "stream",
          "name": "stdout",
          "text": [
            "\n"
          ]
        },
        {
          "output_type": "stream",
          "name": "stderr",
          "text": [
            "\n",
            "Processing Frames:  60%|█████▉    | 581/974 [02:40<02:15,  2.90frame/s]\u001b[A\n",
            "Processing Frames:  62%|██████▏   | 605/974 [02:40<01:18,  4.68frame/s]\u001b[A"
          ]
        },
        {
          "output_type": "stream",
          "name": "stdout",
          "text": [
            "\n"
          ]
        },
        {
          "output_type": "stream",
          "name": "stderr",
          "text": [
            "\n",
            "Processing Frames:  63%|██████▎   | 617/974 [02:47<01:44,  3.41frame/s]\u001b[A"
          ]
        },
        {
          "output_type": "stream",
          "name": "stdout",
          "text": [
            "\n"
          ]
        },
        {
          "output_type": "stream",
          "name": "stderr",
          "text": [
            "\n",
            "Processing Frames:  66%|██████▌   | 639/974 [02:55<01:51,  3.02frame/s]\u001b[A\n",
            "Processing Frames:  68%|██████▊   | 663/974 [02:56<01:06,  4.68frame/s]\u001b[A"
          ]
        },
        {
          "output_type": "stream",
          "name": "stdout",
          "text": [
            "\n"
          ]
        },
        {
          "output_type": "stream",
          "name": "stderr",
          "text": [
            "\n",
            "Processing Frames:  69%|██████▉   | 674/974 [03:03<01:28,  3.39frame/s]\u001b[A"
          ]
        },
        {
          "output_type": "stream",
          "name": "stdout",
          "text": [
            "\n"
          ]
        },
        {
          "output_type": "stream",
          "name": "stderr",
          "text": [
            "\n",
            "Processing Frames:  72%|███████▏  | 697/974 [03:11<01:29,  3.08frame/s]\u001b[A\n",
            "Processing Frames:  74%|███████▍  | 721/974 [03:11<00:53,  4.71frame/s]\u001b[A"
          ]
        },
        {
          "output_type": "stream",
          "name": "stdout",
          "text": [
            "\n"
          ]
        },
        {
          "output_type": "stream",
          "name": "stderr",
          "text": [
            "\n",
            "Processing Frames:  75%|███████▌  | 732/974 [03:19<01:11,  3.36frame/s]\u001b[A\n",
            "Processing Frames:  76%|███████▋  | 744/974 [03:19<00:53,  4.31frame/s]\u001b[A"
          ]
        },
        {
          "output_type": "stream",
          "name": "stdout",
          "text": [
            "\n"
          ]
        },
        {
          "output_type": "stream",
          "name": "stderr",
          "text": [
            "\n",
            "Processing Frames:  78%|███████▊  | 755/974 [03:27<01:16,  2.87frame/s]\u001b[A\n",
            "Processing Frames:  80%|████████  | 780/974 [03:27<00:39,  4.95frame/s]\u001b[A"
          ]
        },
        {
          "output_type": "stream",
          "name": "stdout",
          "text": [
            "\n"
          ]
        },
        {
          "output_type": "stream",
          "name": "stderr",
          "text": [
            "\n",
            "Processing Frames:  81%|████████▏ | 792/974 [03:35<00:55,  3.31frame/s]\u001b[A\n",
            "Processing Frames:  83%|████████▎ | 808/974 [03:35<00:35,  4.69frame/s]\u001b[A"
          ]
        },
        {
          "output_type": "stream",
          "name": "stdout",
          "text": [
            "\n"
          ]
        },
        {
          "output_type": "stream",
          "name": "stderr",
          "text": [
            "\n",
            "Processing Frames:  84%|████████▍ | 819/974 [03:43<00:50,  3.09frame/s]\u001b[A"
          ]
        },
        {
          "output_type": "stream",
          "name": "stdout",
          "text": [
            "\n"
          ]
        },
        {
          "output_type": "stream",
          "name": "stderr",
          "text": [
            "\n",
            "Processing Frames:  86%|████████▋ | 842/974 [03:51<00:44,  2.96frame/s]\u001b[A\n",
            "Processing Frames:  88%|████████▊ | 858/974 [03:51<00:28,  4.12frame/s]\u001b[A"
          ]
        },
        {
          "output_type": "stream",
          "name": "stdout",
          "text": [
            "\n"
          ]
        },
        {
          "output_type": "stream",
          "name": "stderr",
          "text": [
            "\n",
            "Processing Frames:  89%|████████▉ | 871/974 [03:58<00:33,  3.10frame/s]\u001b[A\n",
            "Processing Frames:  92%|█████████▏| 896/974 [03:58<00:15,  5.19frame/s]\u001b[A"
          ]
        },
        {
          "output_type": "stream",
          "name": "stdout",
          "text": [
            "\n"
          ]
        },
        {
          "output_type": "stream",
          "name": "stderr",
          "text": [
            "\n",
            "Processing Frames:  93%|█████████▎| 908/974 [04:07<00:20,  3.26frame/s]\u001b[A"
          ]
        },
        {
          "output_type": "stream",
          "name": "stdout",
          "text": [
            "\n"
          ]
        },
        {
          "output_type": "stream",
          "name": "stderr",
          "text": [
            "\n",
            "Processing Frames:  95%|█████████▌| 929/974 [04:14<00:14,  3.18frame/s]\u001b[A"
          ]
        },
        {
          "output_type": "stream",
          "name": "stdout",
          "text": [
            "\n"
          ]
        },
        {
          "output_type": "stream",
          "name": "stderr",
          "text": [
            "\n",
            "Processing Frames:  98%|█████████▊| 958/974 [04:23<00:04,  3.24frame/s]\u001b[A"
          ]
        },
        {
          "output_type": "stream",
          "name": "stdout",
          "text": [
            "{'The vehicle sustained damage on its back.', 'The road had truck.', 'The accident happened under weather condition, cloudy.', 'The road had trucks.', 'The accident took place at evening.', 'The accident occurred on highway.', 'The vehicle involved in the accident was nothing.', 'The road had motorcycles.', 'The vehicle sustained damage on its left.', 'The vehicle involved in the accident was car.', 'The incident took place during summer.', 'The road had cars.'}\n",
            "frame 29, The road had cars.The vehicle involved in the accident was car.The vehicle sustained damage on its left.frame 58, The road had trucks.The vehicle involved in the accident was car.The vehicle sustained damage on its back.frame 87, The road had trucks.The vehicle involved in the accident was car.The vehicle sustained damage on its left.frame 116, The road had trucks.The vehicle involved in the accident was car.The vehicle sustained damage on its left.frame 145, The road had truck.The vehicle involved in the accident was car.The vehicle sustained damage on its left.frame 174, The road had cars.The vehicle involved in the accident was car.The vehicle sustained damage on its left.frame 203, The road had motorcycles.The vehicle involved in the accident was car.The vehicle sustained damage on its left.frame 232, The road had cars.The vehicle involved in the accident was car.The vehicle sustained damage on its left.frame 261, The road had motorcycles.The vehicle involved in the accident was car.The vehicle sustained damage on its left.frame 290, The road had cars.The vehicle involved in the accident was car.The vehicle sustained damage on its left.frame 319, The road had cars.The vehicle involved in the accident was car.The vehicle sustained damage on its left.frame 348, The road had cars.The vehicle involved in the accident was car.The vehicle sustained damage on its left.frame 377, The road had cars.The vehicle involved in the accident was car.The vehicle sustained damage on its left.frame 406, The road had cars.The vehicle involved in the accident was car.The vehicle sustained damage on its left.frame 435, The road had motorcycles.The vehicle involved in the accident was car.The vehicle sustained damage on its left.frame 464, The road had cars.The vehicle involved in the accident was car.The vehicle sustained damage on its left.frame 493, The road had cars.The vehicle involved in the accident was car.The vehicle sustained damage on its left.frame 522, The road had cars.The vehicle involved in the accident was car.The vehicle sustained damage on its left.frame 551, The road had cars.The vehicle involved in the accident was car.The vehicle sustained damage on its left.frame 580, The road had cars.The vehicle involved in the accident was car.The vehicle sustained damage on its left.frame 609, The road had cars.The vehicle involved in the accident was car.The vehicle sustained damage on its left.frame 638, The road had cars.The vehicle involved in the accident was car.The vehicle sustained damage on its left.frame 667, The road had cars.The vehicle involved in the accident was car.The vehicle sustained damage on its left.frame 696, The road had cars.The vehicle involved in the accident was car.The vehicle sustained damage on its left.frame 725, The road had cars.The vehicle involved in the accident was car.The vehicle sustained damage on its left.frame 754, The road had motorcycles.The vehicle involved in the accident was car.The vehicle sustained damage on its left.frame 783, The road had motorcycles.The vehicle involved in the accident was car.The vehicle sustained damage on its left.frame 812, The road had motorcycles.The vehicle involved in the accident was car.The vehicle sustained damage on its left.frame 841, The road had motorcycles.The vehicle involved in the accident was nothing.The vehicle sustained damage on its left.frame 870, The road had motorcycles.The vehicle involved in the accident was car.The vehicle sustained damage on its left.frame 899, The road had motorcycles.The vehicle involved in the accident was car.The vehicle sustained damage on its left.frame 928, The road had cars.The vehicle involved in the accident was car.The vehicle sustained damage on its left.frame 957, The road had cars.The vehicle involved in the accident was car.The vehicle sustained damage on its left.common for all frames, The accident occurred on highway.common for all frames, The accident took place at evening.common for all frames, The accident happened under weather condition, cloudy.common for all frames, The incident took place during summer.\n",
            "CLIP_289.mp4\n"
          ]
        },
        {
          "output_type": "stream",
          "name": "stderr",
          "text": [
            "Processing Frames:  99%|█████████▊| 960/974 [04:23<00:03,  3.65frame/s]\n",
            "Processing Frames:  14%|█▍        | 121/865 [00:37<04:09,  2.98frame/s]"
          ]
        },
        {
          "output_type": "stream",
          "name": "stdout",
          "text": [
            "\n"
          ]
        },
        {
          "output_type": "stream",
          "name": "stderr",
          "text": [
            "Processing Frames:  32%|███▏      | 280/865 [01:25<02:31,  3.87frame/s]"
          ]
        },
        {
          "output_type": "stream",
          "name": "stdout",
          "text": [
            "\n"
          ]
        },
        {
          "output_type": "stream",
          "name": "stderr",
          "text": [
            "Processing Frames:  36%|███▌      | 312/865 [01:33<02:04,  4.44frame/s]"
          ]
        },
        {
          "output_type": "stream",
          "name": "stdout",
          "text": [
            "\n"
          ]
        },
        {
          "output_type": "stream",
          "name": "stderr",
          "text": [
            "Processing Frames:  45%|████▍     | 387/865 [02:03<02:52,  2.77frame/s]"
          ]
        },
        {
          "output_type": "stream",
          "name": "stdout",
          "text": [
            "\n"
          ]
        },
        {
          "output_type": "stream",
          "name": "stderr",
          "text": [
            "\rProcessing Frames:  47%|████▋     | 409/865 [02:12<02:50,  2.67frame/s]"
          ]
        },
        {
          "output_type": "stream",
          "name": "stdout",
          "text": [
            "\n"
          ]
        },
        {
          "output_type": "stream",
          "name": "stderr",
          "text": [
            "Processing Frames:  53%|█████▎    | 456/865 [02:19<01:33,  4.36frame/s]"
          ]
        },
        {
          "output_type": "stream",
          "name": "stdout",
          "text": [
            "\n"
          ]
        },
        {
          "output_type": "stream",
          "name": "stderr",
          "text": [
            "\rProcessing Frames:  54%|█████▍    | 465/865 [02:28<02:19,  2.86frame/s]"
          ]
        },
        {
          "output_type": "stream",
          "name": "stdout",
          "text": [
            "\n"
          ]
        },
        {
          "output_type": "stream",
          "name": "stderr",
          "text": [
            "\rProcessing Frames:  56%|█████▌    | 481/865 [02:35<02:23,  2.67frame/s]"
          ]
        },
        {
          "output_type": "stream",
          "name": "stdout",
          "text": [
            "\n"
          ]
        },
        {
          "output_type": "stream",
          "name": "stderr",
          "text": [
            "\rProcessing Frames:  58%|█████▊    | 505/865 [02:44<02:12,  2.71frame/s]"
          ]
        },
        {
          "output_type": "stream",
          "name": "stdout",
          "text": [
            "\n"
          ]
        },
        {
          "output_type": "stream",
          "name": "stderr",
          "text": [
            "Processing Frames:  86%|████████▌ | 745/865 [04:02<00:47,  2.55frame/s]"
          ]
        },
        {
          "output_type": "stream",
          "name": "stdout",
          "text": [
            "\n"
          ]
        },
        {
          "output_type": "stream",
          "name": "stderr",
          "text": [
            "Processing Frames: 100%|██████████| 865/865 [04:42<00:00,  2.70frame/s]"
          ]
        },
        {
          "output_type": "stream",
          "name": "stdout",
          "text": [
            "{'The vehicle sustained damage on its back.', 'The number of vehicles are 3.', 'The accident occurred on intersection.', 'The accident took place at morning.', 'The vehicle sustained damage on its front.', 'The road had truck.', 'The number of vehicles are 2.', 'The road had car.', 'The vehicle involved in the accident was truck.', 'The accident happened under weather condition, sunny.', 'The vehicle sustained damage on its left.', 'The vehicle involved in the accident was car.', 'The incident took place during summer.', 'The road had cars.'}\n",
            "frame 24, The number of vehicles are 2.The road had cars.The vehicle involved in the accident was car.The vehicle sustained damage on its left.frame 48, The number of vehicles are 2.The road had cars.The vehicle involved in the accident was car.The vehicle sustained damage on its front.frame 72, The number of vehicles are 2.The road had cars.The vehicle involved in the accident was car.The vehicle sustained damage on its front.frame 96, The number of vehicles are 2.The road had cars.The vehicle involved in the accident was car.The vehicle sustained damage on its front.frame 120, The number of vehicles are 2.The road had cars.The vehicle involved in the accident was car.The vehicle sustained damage on its front.frame 144, The road had cars.The vehicle involved in the accident was car.The vehicle sustained damage on its front.frame 168, The number of vehicles are 2.The road had cars.The vehicle involved in the accident was car.The vehicle sustained damage on its front.frame 192, The number of vehicles are 2.The road had cars.The vehicle involved in the accident was car.The vehicle sustained damage on its front.frame 216, The number of vehicles are 3.The road had cars.The vehicle involved in the accident was car.The vehicle sustained damage on its front.frame 240, The number of vehicles are 3.The road had cars.The vehicle involved in the accident was car.The vehicle sustained damage on its front.frame 264, The number of vehicles are 2.The road had cars.The vehicle involved in the accident was car.The vehicle sustained damage on its front.frame 288, The road had cars.The vehicle involved in the accident was car.The vehicle sustained damage on its front.frame 312, The road had cars.The vehicle involved in the accident was car.The vehicle sustained damage on its front.frame 336, The number of vehicles are 2.The road had cars.The vehicle involved in the accident was car.The vehicle sustained damage on its left.frame 360, The number of vehicles are 2.The road had cars.The vehicle involved in the accident was car.The vehicle sustained damage on its front.frame 384, The number of vehicles are 2.The road had cars.The vehicle involved in the accident was car.The vehicle sustained damage on its front.frame 408, The road had car.The vehicle involved in the accident was car.The vehicle sustained damage on its front.frame 432, The road had car.The vehicle involved in the accident was car.The vehicle sustained damage on its front.frame 456, The road had cars.The vehicle involved in the accident was car.The vehicle sustained damage on its front.frame 480, The road had cars.The vehicle involved in the accident was car.The vehicle sustained damage on its front.frame 504, The road had cars.The vehicle involved in the accident was car.The vehicle sustained damage on its front.frame 528, The road had cars.The vehicle involved in the accident was car.The vehicle sustained damage on its front.frame 552, The number of vehicles are 2.The road had truck.The vehicle involved in the accident was truck.The vehicle sustained damage on its front.frame 576, The number of vehicles are 2.The road had cars.The vehicle involved in the accident was car.The vehicle sustained damage on its front.frame 600, The number of vehicles are 2.The road had truck.The vehicle involved in the accident was car.The vehicle sustained damage on its front.frame 624, The number of vehicles are 2.The road had cars.The vehicle involved in the accident was car.The vehicle sustained damage on its front.frame 648, The number of vehicles are 2.The road had cars.The vehicle involved in the accident was car.The vehicle sustained damage on its back.frame 672, The number of vehicles are 3.The road had cars.The vehicle involved in the accident was car.The vehicle sustained damage on its back.frame 696, The number of vehicles are 3.The road had cars.The vehicle involved in the accident was car.The vehicle sustained damage on its back.frame 720, The number of vehicles are 3.The road had cars.The vehicle involved in the accident was car.The vehicle sustained damage on its back.frame 744, The number of vehicles are 2.The road had cars.The vehicle involved in the accident was car.The vehicle sustained damage on its back.frame 768, The road had car.The vehicle involved in the accident was car.The vehicle sustained damage on its front.frame 792, The number of vehicles are 2.The road had cars.The vehicle involved in the accident was car.The vehicle sustained damage on its front.frame 816, The number of vehicles are 2.The road had cars.The vehicle involved in the accident was car.The vehicle sustained damage on its front.frame 840, The number of vehicles are 2.The road had cars.The vehicle involved in the accident was car.The vehicle sustained damage on its front.frame 864, The number of vehicles are 2.The road had cars.The vehicle involved in the accident was car.The vehicle sustained damage on its front.common for all frames, The accident occurred on intersection.common for all frames, The accident took place at morning.common for all frames, The accident happened under weather condition, sunny.common for all frames, The incident took place during summer.\n",
            "CLIP_336.mp4\n"
          ]
        },
        {
          "output_type": "stream",
          "name": "stderr",
          "text": [
            "\n",
            "Processing Frames: 100%|██████████| 865/865 [04:42<00:00,  3.07frame/s]\n",
            "\n",
            "Processing Frames:   0%|          | 1/924 [00:00<08:39,  1.78frame/s]\u001b[A\n",
            "Processing Frames:   3%|▎         | 29/924 [00:00<00:15, 57.84frame/s]\u001b[A"
          ]
        },
        {
          "output_type": "stream",
          "name": "stdout",
          "text": [
            "\n"
          ]
        },
        {
          "output_type": "stream",
          "name": "stderr",
          "text": [
            "\n",
            "Processing Frames:   5%|▍         | 46/924 [00:07<02:50,  5.16frame/s]\u001b[A"
          ]
        },
        {
          "output_type": "stream",
          "name": "stdout",
          "text": [
            "\n"
          ]
        },
        {
          "output_type": "stream",
          "name": "stderr",
          "text": [
            "\n",
            "Processing Frames:   7%|▋         | 61/924 [00:16<04:47,  3.00frame/s]\u001b[A\n",
            "Processing Frames:   9%|▊         | 80/924 [00:16<02:51,  4.93frame/s]\u001b[A"
          ]
        },
        {
          "output_type": "stream",
          "name": "stdout",
          "text": [
            "\n"
          ]
        },
        {
          "output_type": "stream",
          "name": "stderr",
          "text": [
            "\n",
            "Processing Frames:  10%|▉         | 91/924 [00:23<04:15,  3.26frame/s]\u001b[A\n",
            "Processing Frames:  12%|█▏        | 109/924 [00:23<02:39,  5.09frame/s]\u001b[A"
          ]
        },
        {
          "output_type": "stream",
          "name": "stdout",
          "text": [
            "\n"
          ]
        },
        {
          "output_type": "stream",
          "name": "stderr",
          "text": [
            "\n",
            "Processing Frames:  13%|█▎        | 121/924 [00:31<04:26,  3.02frame/s]\u001b[A\n",
            "Processing Frames:  15%|█▌        | 139/924 [00:31<02:48,  4.65frame/s]\u001b[A"
          ]
        },
        {
          "output_type": "stream",
          "name": "stdout",
          "text": [
            "\n"
          ]
        },
        {
          "output_type": "stream",
          "name": "stderr",
          "text": [
            "\n",
            "Processing Frames:  16%|█▋        | 151/924 [00:38<03:58,  3.23frame/s]\u001b[A\n",
            "Processing Frames:  17%|█▋        | 161/924 [00:39<03:03,  4.17frame/s]\u001b[A\n",
            "Processing Frames:  19%|█▊        | 173/924 [00:39<02:10,  5.74frame/s]\u001b[A"
          ]
        },
        {
          "output_type": "stream",
          "name": "stdout",
          "text": [
            "\n"
          ]
        },
        {
          "output_type": "stream",
          "name": "stderr",
          "text": [
            "\n",
            "Processing Frames:  20%|█▉        | 182/924 [00:47<04:19,  2.86frame/s]\u001b[A\n",
            "Processing Frames:  22%|██▏       | 200/924 [00:47<02:33,  4.71frame/s]\u001b[A"
          ]
        },
        {
          "output_type": "stream",
          "name": "stdout",
          "text": [
            "\n"
          ]
        },
        {
          "output_type": "stream",
          "name": "stderr",
          "text": [
            "\n",
            "Processing Frames:  23%|██▎       | 211/924 [00:55<04:00,  2.97frame/s]\u001b[A\n",
            "Processing Frames:  24%|██▍       | 222/924 [00:55<02:54,  4.02frame/s]\u001b[A\n",
            "Processing Frames:  25%|██▌       | 233/924 [00:55<02:05,  5.49frame/s]\u001b[A"
          ]
        },
        {
          "output_type": "stream",
          "name": "stdout",
          "text": [
            "\n"
          ]
        },
        {
          "output_type": "stream",
          "name": "stderr",
          "text": [
            "\n",
            "Processing Frames:  26%|██▌       | 242/924 [01:03<03:59,  2.85frame/s]\u001b[A\n",
            "Processing Frames:  28%|██▊       | 258/924 [01:03<02:25,  4.58frame/s]\u001b[A"
          ]
        },
        {
          "output_type": "stream",
          "name": "stdout",
          "text": [
            "\n"
          ]
        },
        {
          "output_type": "stream",
          "name": "stderr",
          "text": [
            "\n",
            "Processing Frames:  29%|██▉       | 271/924 [01:11<03:43,  2.92frame/s]\u001b[A\n",
            "Processing Frames:  30%|███       | 281/924 [01:11<02:46,  3.87frame/s]\u001b[A\n",
            "Processing Frames:  32%|███▏      | 293/924 [01:11<01:55,  5.46frame/s]\u001b[A"
          ]
        },
        {
          "output_type": "stream",
          "name": "stdout",
          "text": [
            "\n"
          ]
        },
        {
          "output_type": "stream",
          "name": "stderr",
          "text": [
            "\n",
            "Processing Frames:  33%|███▎      | 302/924 [01:18<03:29,  2.97frame/s]\u001b[A\n",
            "Processing Frames:  35%|███▍      | 319/924 [01:19<02:04,  4.87frame/s]\u001b[A"
          ]
        },
        {
          "output_type": "stream",
          "name": "stdout",
          "text": [
            "\n"
          ]
        },
        {
          "output_type": "stream",
          "name": "stderr",
          "text": [
            "\n",
            "Processing Frames:  36%|███▌      | 331/924 [01:27<03:27,  2.85frame/s]\u001b[A\n",
            "Processing Frames:  37%|███▋      | 341/924 [01:27<02:33,  3.79frame/s]\u001b[A\n",
            "Processing Frames:  38%|███▊      | 352/924 [01:27<01:49,  5.23frame/s]\u001b[A"
          ]
        },
        {
          "output_type": "stream",
          "name": "stdout",
          "text": [
            "\n"
          ]
        },
        {
          "output_type": "stream",
          "name": "stderr",
          "text": [
            "\n",
            "Processing Frames:  39%|███▉      | 361/924 [01:34<03:09,  2.98frame/s]\u001b[A\n",
            "Processing Frames:  41%|████      | 379/924 [01:34<01:48,  5.04frame/s]\u001b[A"
          ]
        },
        {
          "output_type": "stream",
          "name": "stdout",
          "text": [
            "\n"
          ]
        },
        {
          "output_type": "stream",
          "name": "stderr",
          "text": [
            "\n",
            "Processing Frames:  42%|████▏     | 391/924 [01:43<03:05,  2.88frame/s]\u001b[A\n",
            "Processing Frames:  44%|████▍     | 411/924 [01:43<01:47,  4.78frame/s]\u001b[A"
          ]
        },
        {
          "output_type": "stream",
          "name": "stdout",
          "text": [
            "\n"
          ]
        },
        {
          "output_type": "stream",
          "name": "stderr",
          "text": [
            "\n",
            "Processing Frames:  46%|████▌     | 422/924 [01:50<02:35,  3.23frame/s]\u001b[A\n",
            "Processing Frames:  48%|████▊     | 440/924 [01:50<01:36,  5.00frame/s]\u001b[A"
          ]
        },
        {
          "output_type": "stream",
          "name": "stdout",
          "text": [
            "\n"
          ]
        },
        {
          "output_type": "stream",
          "name": "stderr",
          "text": [
            "\n",
            "Processing Frames:  49%|████▉     | 451/924 [01:59<02:40,  2.95frame/s]\u001b[A\n",
            "Processing Frames:  51%|█████     | 468/924 [01:59<01:42,  4.46frame/s]\u001b[A"
          ]
        },
        {
          "output_type": "stream",
          "name": "stdout",
          "text": [
            "\n"
          ]
        },
        {
          "output_type": "stream",
          "name": "stderr",
          "text": [
            "\n",
            "Processing Frames:  52%|█████▏    | 481/924 [02:06<02:15,  3.26frame/s]\u001b[A\n",
            "Processing Frames:  54%|█████▍    | 498/924 [02:06<01:27,  4.88frame/s]\u001b[A"
          ]
        },
        {
          "output_type": "stream",
          "name": "stdout",
          "text": [
            "\n"
          ]
        },
        {
          "output_type": "stream",
          "name": "stderr",
          "text": [
            "\n",
            "Processing Frames:  55%|█████▌    | 511/924 [02:14<02:15,  3.05frame/s]\u001b[A\n",
            "Processing Frames:  57%|█████▋    | 529/924 [02:14<01:25,  4.63frame/s]\u001b[A"
          ]
        },
        {
          "output_type": "stream",
          "name": "stdout",
          "text": [
            "\n"
          ]
        },
        {
          "output_type": "stream",
          "name": "stderr",
          "text": [
            "\n",
            "Processing Frames:  59%|█████▊    | 541/924 [02:21<01:56,  3.27frame/s]\u001b[A\n",
            "Processing Frames:  61%|██████    | 560/924 [02:21<01:11,  5.07frame/s]\u001b[A"
          ]
        },
        {
          "output_type": "stream",
          "name": "stdout",
          "text": [
            "\n"
          ]
        },
        {
          "output_type": "stream",
          "name": "stderr",
          "text": [
            "\n",
            "Processing Frames:  62%|██████▏   | 571/924 [02:30<01:57,  3.00frame/s]\u001b[A\n",
            "Processing Frames:  64%|██████▍   | 591/924 [02:30<01:10,  4.74frame/s]\u001b[A"
          ]
        },
        {
          "output_type": "stream",
          "name": "stdout",
          "text": [
            "\n"
          ]
        },
        {
          "output_type": "stream",
          "name": "stderr",
          "text": [
            "\n",
            "Processing Frames:  65%|██████▌   | 603/924 [02:38<01:39,  3.22frame/s]\u001b[A\n",
            "Processing Frames:  67%|██████▋   | 616/924 [02:38<01:10,  4.39frame/s]\u001b[A\n",
            "Processing Frames:  68%|██████▊   | 628/924 [02:38<00:50,  5.87frame/s]\u001b[A"
          ]
        },
        {
          "output_type": "stream",
          "name": "stdout",
          "text": [
            "\n"
          ]
        },
        {
          "output_type": "stream",
          "name": "stderr",
          "text": [
            "\n",
            "Processing Frames:  69%|██████▉   | 638/924 [02:46<01:32,  3.08frame/s]\u001b[A\n",
            "Processing Frames:  71%|███████   | 657/924 [02:46<00:53,  5.02frame/s]\u001b[A"
          ]
        },
        {
          "output_type": "stream",
          "name": "stdout",
          "text": [
            "\n"
          ]
        },
        {
          "output_type": "stream",
          "name": "stderr",
          "text": [
            "\n",
            "Processing Frames:  72%|███████▏  | 668/924 [02:54<01:22,  3.09frame/s]\u001b[A\n",
            "Processing Frames:  73%|███████▎  | 677/924 [02:54<01:02,  3.94frame/s]\u001b[A\n",
            "Processing Frames:  74%|███████▍  | 688/924 [02:54<00:43,  5.40frame/s]\u001b[A"
          ]
        },
        {
          "output_type": "stream",
          "name": "stdout",
          "text": [
            "\n"
          ]
        },
        {
          "output_type": "stream",
          "name": "stderr",
          "text": [
            "\n",
            "Processing Frames:  75%|███████▌  | 697/924 [03:02<01:19,  2.86frame/s]\u001b[A\n",
            "Processing Frames:  78%|███████▊  | 717/924 [03:02<00:41,  5.05frame/s]\u001b[A"
          ]
        },
        {
          "output_type": "stream",
          "name": "stdout",
          "text": [
            "\n"
          ]
        },
        {
          "output_type": "stream",
          "name": "stderr",
          "text": [
            "\n",
            "Processing Frames:  79%|███████▉  | 728/924 [03:10<01:06,  2.94frame/s]\u001b[A\n",
            "Processing Frames:  81%|████████  | 746/924 [03:10<00:38,  4.65frame/s]\u001b[A"
          ]
        },
        {
          "output_type": "stream",
          "name": "stdout",
          "text": [
            "\n",
            "{'The accident took place at morning.', 'The accident happened under weather condition, clear.', 'The road had buses.', 'The road had car.', 'The road had motorcycles.', 'The accident occurred on city.', 'The vehicle sustained damage on its left.', 'The vehicle involved in the accident was car.', 'The incident took place during summer.', 'The road had cars.'}\n",
            "frame 30, The road had cars.The vehicle involved in the accident was car.The vehicle sustained damage on its left.frame 60, The road had cars.The vehicle involved in the accident was car.The vehicle sustained damage on its left.frame 90, The road had cars.The vehicle involved in the accident was car.The vehicle sustained damage on its left.frame 120, The road had cars.The vehicle involved in the accident was car.The vehicle sustained damage on its left.frame 150, The road had cars.The vehicle involved in the accident was car.The vehicle sustained damage on its left.frame 180, The road had cars.The vehicle involved in the accident was car.The vehicle sustained damage on its left.frame 210, The road had cars.The vehicle involved in the accident was car.The vehicle sustained damage on its left.frame 240, The road had cars.The vehicle involved in the accident was car.The vehicle sustained damage on its left.frame 270, The road had cars.The vehicle involved in the accident was car.The vehicle sustained damage on its left.frame 300, The road had cars.The vehicle involved in the accident was car.The vehicle sustained damage on its left.frame 330, The road had car.The vehicle involved in the accident was car.The vehicle sustained damage on its left.frame 360, The road had cars.The vehicle involved in the accident was car.The vehicle sustained damage on its left.frame 390, The road had cars.The vehicle involved in the accident was car.The vehicle sustained damage on its left.frame 420, The road had cars.The vehicle involved in the accident was car.The vehicle sustained damage on its left.frame 450, The road had car.The vehicle involved in the accident was car.The vehicle sustained damage on its left.frame 480, The road had car.The vehicle involved in the accident was car.The vehicle sustained damage on its left.frame 510, The road had cars.The vehicle involved in the accident was car.The vehicle sustained damage on its left.frame 540, The road had cars.The vehicle involved in the accident was car.The vehicle sustained damage on its left.frame 570, The road had cars.The vehicle involved in the accident was car.The vehicle sustained damage on its left.frame 600, The road had cars.The vehicle involved in the accident was car.The vehicle sustained damage on its left.frame 630, The road had cars.The vehicle involved in the accident was car.The vehicle sustained damage on its left.frame 660, The road had buses.The vehicle involved in the accident was car.The vehicle sustained damage on its left.frame 690, The road had cars.The vehicle involved in the accident was car.The vehicle sustained damage on its left.frame 720, The road had motorcycles.The vehicle involved in the accident was car.The vehicle sustained damage on its left.frame 750, The road had cars.The vehicle involved in the accident was car.The vehicle sustained damage on its left.common for all frames, The accident occurred on city.common for all frames, The accident took place at morning.common for all frames, The accident happened under weather condition, clear.common for all frames, The incident took place during summer.\n",
            "CLIP_307.mp4\n"
          ]
        },
        {
          "output_type": "stream",
          "name": "stderr",
          "text": [
            "Processing Frames:  81%|████████▏ | 751/924 [03:17<00:45,  3.79frame/s]\n",
            "Processing Frames:  13%|█▎        | 128/957 [00:40<05:05,  2.71frame/s]"
          ]
        },
        {
          "output_type": "stream",
          "name": "stdout",
          "text": [
            "\n"
          ]
        },
        {
          "output_type": "stream",
          "name": "stderr",
          "text": [
            "Processing Frames:  17%|█▋        | 166/957 [00:47<03:11,  4.14frame/s]"
          ]
        },
        {
          "output_type": "stream",
          "name": "stdout",
          "text": [
            "\n"
          ]
        },
        {
          "output_type": "stream",
          "name": "stderr",
          "text": [
            "\rProcessing Frames:  18%|█▊        | 176/957 [00:56<04:49,  2.70frame/s]"
          ]
        },
        {
          "output_type": "stream",
          "name": "stdout",
          "text": [
            "\n"
          ]
        },
        {
          "output_type": "stream",
          "name": "stderr",
          "text": [
            "Processing Frames:  22%|██▏       | 208/957 [01:03<03:26,  3.64frame/s]"
          ]
        },
        {
          "output_type": "stream",
          "name": "stdout",
          "text": [
            "\n"
          ]
        },
        {
          "output_type": "stream",
          "name": "stderr",
          "text": [
            "Processing Frames:  25%|██▍       | 239/957 [01:12<02:56,  4.08frame/s]"
          ]
        },
        {
          "output_type": "stream",
          "name": "stdout",
          "text": [
            "\n"
          ]
        },
        {
          "output_type": "stream",
          "name": "stderr",
          "text": [
            "Processing Frames:  36%|███▌      | 345/957 [01:52<03:47,  2.69frame/s]"
          ]
        },
        {
          "output_type": "stream",
          "name": "stdout",
          "text": [
            "\n"
          ]
        },
        {
          "output_type": "stream",
          "name": "stderr",
          "text": [
            "Processing Frames:  51%|█████     | 487/957 [02:39<02:53,  2.70frame/s]"
          ]
        },
        {
          "output_type": "stream",
          "name": "stdout",
          "text": [
            "\n"
          ]
        },
        {
          "output_type": "stream",
          "name": "stderr",
          "text": [
            "Processing Frames:  55%|█████▍    | 526/957 [02:46<01:43,  4.18frame/s]"
          ]
        },
        {
          "output_type": "stream",
          "name": "stdout",
          "text": [
            "\n"
          ]
        },
        {
          "output_type": "stream",
          "name": "stderr",
          "text": [
            "\rProcessing Frames:  56%|█████▌    | 536/957 [02:54<02:32,  2.76frame/s]"
          ]
        },
        {
          "output_type": "stream",
          "name": "stdout",
          "text": [
            "\n"
          ]
        },
        {
          "output_type": "stream",
          "name": "stderr",
          "text": [
            "Processing Frames:  59%|█████▉    | 569/957 [03:01<01:42,  3.79frame/s]"
          ]
        },
        {
          "output_type": "stream",
          "name": "stdout",
          "text": [
            "\n"
          ]
        },
        {
          "output_type": "stream",
          "name": "stderr",
          "text": [
            "Processing Frames:  76%|███████▌  | 728/957 [03:57<01:24,  2.70frame/s]"
          ]
        },
        {
          "output_type": "stream",
          "name": "stdout",
          "text": [
            "\n"
          ]
        },
        {
          "output_type": "stream",
          "name": "stderr",
          "text": [
            "\rProcessing Frames:  78%|███████▊  | 745/957 [04:05<01:29,  2.37frame/s]"
          ]
        },
        {
          "output_type": "stream",
          "name": "stdout",
          "text": [
            "\n"
          ]
        },
        {
          "output_type": "stream",
          "name": "stderr",
          "text": [
            "Processing Frames:  82%|████████▏ | 789/957 [04:12<00:41,  4.09frame/s]"
          ]
        },
        {
          "output_type": "stream",
          "name": "stdout",
          "text": [
            "\n"
          ]
        },
        {
          "output_type": "stream",
          "name": "stderr",
          "text": [
            "\rProcessing Frames:  83%|████████▎ | 798/957 [04:21<00:59,  2.66frame/s]"
          ]
        },
        {
          "output_type": "stream",
          "name": "stdout",
          "text": [
            "\n"
          ]
        },
        {
          "output_type": "stream",
          "name": "stderr",
          "text": [
            "Processing Frames:  88%|████████▊ | 838/957 [04:29<00:29,  4.09frame/s]"
          ]
        },
        {
          "output_type": "stream",
          "name": "stdout",
          "text": [
            "\n"
          ]
        },
        {
          "output_type": "stream",
          "name": "stderr",
          "text": [
            "\rProcessing Frames:  89%|████████▊ | 847/957 [04:37<00:41,  2.64frame/s]"
          ]
        },
        {
          "output_type": "stream",
          "name": "stdout",
          "text": [
            "\n"
          ]
        },
        {
          "output_type": "stream",
          "name": "stderr",
          "text": [
            "Processing Frames:  92%|█████████▏| 885/957 [04:45<00:18,  3.98frame/s]"
          ]
        },
        {
          "output_type": "stream",
          "name": "stdout",
          "text": [
            "\n"
          ]
        },
        {
          "output_type": "stream",
          "name": "stderr",
          "text": [
            "\rProcessing Frames:  93%|█████████▎| 894/957 [04:53<00:23,  2.63frame/s]"
          ]
        },
        {
          "output_type": "stream",
          "name": "stdout",
          "text": [
            "\n"
          ]
        },
        {
          "output_type": "stream",
          "name": "stderr",
          "text": [
            "Processing Frames:  98%|█████████▊| 934/957 [05:00<00:05,  4.10frame/s]"
          ]
        },
        {
          "output_type": "stream",
          "name": "stdout",
          "text": [
            "\n",
            "{'The vehicle sustained damage on its back.', 'The number of vehicles are 3.', 'The vehicle sustained damage on its front.', 'The road had truck.', 'The number of vehicles are 2.', 'The road had trucks.', 'The accident occurred on street.', 'The accident took place at afternoon.', 'The road had motorcycles.', 'The vehicle involved in the accident was truck.', 'The accident happened under weather condition, sunny.', 'The vehicle sustained damage on its left.', 'The vehicle involved in the accident was car.', 'The incident took place during summer.', 'The road had cars.'}\n",
            "frame 24, The number of vehicles are 3.The road had cars.The vehicle involved in the accident was car.The vehicle sustained damage on its left.frame 48, The number of vehicles are 3.The road had cars.The vehicle involved in the accident was car.The vehicle sustained damage on its left.frame 72, The number of vehicles are 2.The road had cars.The vehicle involved in the accident was car.The vehicle sustained damage on its left.frame 96, The number of vehicles are 2.The road had cars.The vehicle involved in the accident was car.The vehicle sustained damage on its front.frame 120, The number of vehicles are 2.The road had cars.The vehicle involved in the accident was truck.The vehicle sustained damage on its left.frame 144, The road had cars.The vehicle involved in the accident was car.The vehicle sustained damage on its left.frame 168, The road had cars.The vehicle involved in the accident was car.The vehicle sustained damage on its left.frame 192, The road had motorcycles.The vehicle involved in the accident was car.The vehicle sustained damage on its left.frame 216, The road had truck.The vehicle involved in the accident was car.The vehicle sustained damage on its left.frame 240, The road had truck.The vehicle involved in the accident was truck.The vehicle sustained damage on its left.frame 264, The number of vehicles are 2.The road had motorcycles.The vehicle involved in the accident was car.The vehicle sustained damage on its left.frame 288, The number of vehicles are 3.The road had motorcycles.The vehicle involved in the accident was car.The vehicle sustained damage on its left.frame 312, The number of vehicles are 3.The road had trucks.The vehicle involved in the accident was car.The vehicle sustained damage on its left.frame 336, The number of vehicles are 2.The road had cars.The vehicle involved in the accident was car.The vehicle sustained damage on its left.frame 360, The road had cars.The vehicle involved in the accident was car.The vehicle sustained damage on its left.frame 384, The number of vehicles are 3.The road had cars.The vehicle involved in the accident was car.The vehicle sustained damage on its left.frame 408, The number of vehicles are 3.The road had cars.The vehicle involved in the accident was truck.The vehicle sustained damage on its left.frame 432, The number of vehicles are 2.The road had cars.The vehicle involved in the accident was car.The vehicle sustained damage on its left.frame 456, The number of vehicles are 3.The road had cars.The vehicle involved in the accident was car.The vehicle sustained damage on its left.frame 480, The number of vehicles are 3.The road had cars.The vehicle involved in the accident was car.The vehicle sustained damage on its left.frame 504, The road had cars.The vehicle involved in the accident was car.The vehicle sustained damage on its front.frame 528, The road had truck.The vehicle involved in the accident was truck.The vehicle sustained damage on its left.frame 552, The road had cars.The vehicle involved in the accident was car.The vehicle sustained damage on its left.frame 576, The road had cars.The vehicle involved in the accident was car.The vehicle sustained damage on its left.frame 600, The number of vehicles are 3.The road had cars.The vehicle involved in the accident was car.The vehicle sustained damage on its front.frame 624, The number of vehicles are 3.The road had cars.The vehicle involved in the accident was car.The vehicle sustained damage on its back.frame 648, The number of vehicles are 2.The road had cars.The vehicle involved in the accident was car.The vehicle sustained damage on its front.frame 672, The number of vehicles are 2.The road had cars.The vehicle involved in the accident was car.The vehicle sustained damage on its front.frame 696, The number of vehicles are 2.The road had cars.The vehicle involved in the accident was car.The vehicle sustained damage on its front.frame 720, The number of vehicles are 2.The road had cars.The vehicle involved in the accident was truck.The vehicle sustained damage on its front.frame 744, The road had cars.The vehicle involved in the accident was truck.The vehicle sustained damage on its left.frame 768, The road had cars.The vehicle involved in the accident was truck.The vehicle sustained damage on its front.frame 792, The road had cars.The vehicle involved in the accident was truck.The vehicle sustained damage on its left.frame 816, The road had cars.The vehicle involved in the accident was truck.The vehicle sustained damage on its front.frame 840, The road had cars.The vehicle involved in the accident was truck.The vehicle sustained damage on its left.frame 864, The road had truck.The vehicle involved in the accident was truck.The vehicle sustained damage on its left.frame 888, The road had truck.The vehicle involved in the accident was truck.The vehicle sustained damage on its left.frame 912, The road had truck.The vehicle involved in the accident was truck.The vehicle sustained damage on its left.frame 936, The road had trucks.The vehicle involved in the accident was car.The vehicle sustained damage on its left.common for all frames, The accident occurred on street.common for all frames, The accident took place at afternoon.common for all frames, The accident happened under weather condition, sunny.common for all frames, The incident took place during summer.\n",
            "CLIP_304.mp4\n"
          ]
        },
        {
          "output_type": "stream",
          "name": "stderr",
          "text": [
            "\n",
            "Processing Frames:  98%|█████████▊| 936/957 [05:09<00:06,  3.02frame/s]\n",
            "\n",
            "Processing Frames:   0%|          | 1/592 [00:00<02:11,  4.49frame/s]\u001b[A"
          ]
        },
        {
          "output_type": "stream",
          "name": "stdout",
          "text": [
            "\n"
          ]
        },
        {
          "output_type": "stream",
          "name": "stderr",
          "text": [
            "\n",
            "Processing Frames:   4%|▍         | 25/592 [00:07<03:01,  3.12frame/s]\u001b[A\n",
            "Processing Frames:   6%|▌         | 36/592 [00:08<01:50,  5.01frame/s]\u001b[A"
          ]
        },
        {
          "output_type": "stream",
          "name": "stdout",
          "text": [
            "\n"
          ]
        },
        {
          "output_type": "stream",
          "name": "stderr",
          "text": [
            "\n",
            "Processing Frames:   8%|▊         | 49/592 [00:15<03:15,  2.78frame/s]\u001b[A\n",
            "Processing Frames:  11%|█▏        | 67/592 [00:16<01:46,  4.91frame/s]\u001b[A\n",
            "Processing Frames:  13%|█▎        | 76/592 [00:24<03:12,  2.68frame/s]\u001b[A\n",
            "Processing Frames:  15%|█▍        | 86/592 [00:24<02:18,  3.66frame/s]\u001b[A"
          ]
        },
        {
          "output_type": "stream",
          "name": "stdout",
          "text": [
            "\n"
          ]
        },
        {
          "output_type": "stream",
          "name": "stderr",
          "text": [
            "\n",
            "Processing Frames:  16%|█▋        | 97/592 [00:31<03:13,  2.55frame/s]\u001b[A\n",
            "Processing Frames:  20%|█▉        | 118/592 [00:31<01:42,  4.61frame/s]\u001b[A"
          ]
        },
        {
          "output_type": "stream",
          "name": "stdout",
          "text": [
            "\n"
          ]
        },
        {
          "output_type": "stream",
          "name": "stderr",
          "text": [
            "\n",
            "Processing Frames:  22%|██▏       | 128/592 [00:40<02:50,  2.72frame/s]\u001b[A\n",
            "Processing Frames:  24%|██▍       | 141/592 [00:40<01:56,  3.87frame/s]\u001b[A"
          ]
        },
        {
          "output_type": "stream",
          "name": "stdout",
          "text": [
            "\n"
          ]
        },
        {
          "output_type": "stream",
          "name": "stderr",
          "text": [
            "\n",
            "Processing Frames:  25%|██▌       | 150/592 [00:47<02:46,  2.65frame/s]\u001b[A"
          ]
        },
        {
          "output_type": "stream",
          "name": "stdout",
          "text": [
            "\n"
          ]
        },
        {
          "output_type": "stream",
          "name": "stderr",
          "text": [
            "\n",
            "Processing Frames:  29%|██▊       | 169/592 [00:56<02:53,  2.44frame/s]\u001b[A\n",
            "Processing Frames:  32%|███▏      | 189/592 [00:56<01:42,  3.92frame/s]\u001b[A"
          ]
        },
        {
          "output_type": "stream",
          "name": "stdout",
          "text": [
            "\n"
          ]
        },
        {
          "output_type": "stream",
          "name": "stderr",
          "text": [
            "\n",
            "Processing Frames:  33%|███▎      | 198/592 [01:03<02:20,  2.81frame/s]\u001b[A"
          ]
        },
        {
          "output_type": "stream",
          "name": "stdout",
          "text": [
            "\n"
          ]
        },
        {
          "output_type": "stream",
          "name": "stderr",
          "text": [
            "\n",
            "Processing Frames:  37%|███▋      | 217/592 [01:11<02:27,  2.55frame/s]\u001b[A\n",
            "Processing Frames:  40%|███▉      | 236/592 [01:11<01:31,  3.88frame/s]\u001b[A"
          ]
        },
        {
          "output_type": "stream",
          "name": "stdout",
          "text": [
            "\n"
          ]
        },
        {
          "output_type": "stream",
          "name": "stderr",
          "text": [
            "\n",
            "Processing Frames:  41%|████▏     | 245/592 [01:18<02:02,  2.83frame/s]\u001b[A\n",
            "Processing Frames:  45%|████▍     | 264/592 [01:18<01:14,  4.41frame/s]\u001b[A"
          ]
        },
        {
          "output_type": "stream",
          "name": "stdout",
          "text": [
            "\n"
          ]
        },
        {
          "output_type": "stream",
          "name": "stderr",
          "text": [
            "\n",
            "Processing Frames:  46%|████▋     | 274/592 [01:27<01:55,  2.76frame/s]\u001b[A"
          ]
        },
        {
          "output_type": "stream",
          "name": "stdout",
          "text": [
            "\n"
          ]
        },
        {
          "output_type": "stream",
          "name": "stderr",
          "text": [
            "\n",
            "Processing Frames:  49%|████▉     | 289/592 [01:34<01:59,  2.54frame/s]\u001b[A\n",
            "Processing Frames:  52%|█████▏    | 308/592 [01:34<01:11,  3.97frame/s]\u001b[A"
          ]
        },
        {
          "output_type": "stream",
          "name": "stdout",
          "text": [
            "\n"
          ]
        },
        {
          "output_type": "stream",
          "name": "stderr",
          "text": [
            "\n",
            "Processing Frames:  54%|█████▎    | 318/592 [01:42<01:44,  2.62frame/s]\u001b[A"
          ]
        },
        {
          "output_type": "stream",
          "name": "stdout",
          "text": [
            "\n"
          ]
        },
        {
          "output_type": "stream",
          "name": "stderr",
          "text": [
            "\n",
            "Processing Frames:  57%|█████▋    | 337/592 [01:49<01:36,  2.65frame/s]\u001b[A\n",
            "Processing Frames:  59%|█████▉    | 348/592 [01:49<01:11,  3.43frame/s]\u001b[A"
          ]
        },
        {
          "output_type": "stream",
          "name": "stdout",
          "text": [
            "\n"
          ]
        },
        {
          "output_type": "stream",
          "name": "stderr",
          "text": [
            "\n",
            "Processing Frames:  61%|██████    | 361/592 [01:58<01:30,  2.54frame/s]\u001b[A\n",
            "Processing Frames:  65%|██████▍   | 383/592 [01:58<00:49,  4.25frame/s]\u001b[A"
          ]
        },
        {
          "output_type": "stream",
          "name": "stdout",
          "text": [
            "\n"
          ]
        },
        {
          "output_type": "stream",
          "name": "stderr",
          "text": [
            "\n",
            "Processing Frames:  66%|██████▋   | 393/592 [02:06<01:08,  2.92frame/s]\u001b[A\n",
            "Processing Frames:  69%|██████▉   | 407/592 [02:06<00:45,  4.10frame/s]\u001b[A"
          ]
        },
        {
          "output_type": "stream",
          "name": "stdout",
          "text": [
            "\n"
          ]
        },
        {
          "output_type": "stream",
          "name": "stderr",
          "text": [
            "\n",
            "Processing Frames:  70%|███████   | 416/592 [02:14<01:07,  2.63frame/s]\u001b[A"
          ]
        },
        {
          "output_type": "stream",
          "name": "stdout",
          "text": [
            "\n"
          ]
        },
        {
          "output_type": "stream",
          "name": "stderr",
          "text": [
            "\n",
            "Processing Frames:  73%|███████▎  | 433/592 [02:22<01:05,  2.42frame/s]\u001b[A\n",
            "Processing Frames:  75%|███████▌  | 444/592 [02:22<00:46,  3.21frame/s]\u001b[A"
          ]
        },
        {
          "output_type": "stream",
          "name": "stdout",
          "text": [
            "\n"
          ]
        },
        {
          "output_type": "stream",
          "name": "stderr",
          "text": [
            "\n",
            "Processing Frames:  77%|███████▋  | 457/592 [02:29<00:53,  2.55frame/s]\u001b[A\n",
            "Processing Frames:  81%|████████  | 479/592 [02:29<00:25,  4.35frame/s]\u001b[A\n",
            "Processing Frames:  83%|████████▎ | 489/592 [02:38<00:37,  2.77frame/s]\u001b[A"
          ]
        },
        {
          "output_type": "stream",
          "name": "stdout",
          "text": [
            "\n",
            "{'The number of vehicles are 3.', 'The vehicle sustained damage on its front.', 'The number of vehicles are 2.', 'The vehicle involved in the accident was boat.', 'The incident took place during summer.', 'The road had car.', 'The road had motorcycles.', 'The accident took place at afternoon.', 'The accident happened under weather condition, sunny.', 'The vehicle sustained damage on its left.', 'The vehicle involved in the accident was car.', 'The vehicle involved in the accident was sign.', 'The road had cars.', 'The accident occurred on road.'}\n",
            "frame 24, The road had cars.The vehicle involved in the accident was sign.The vehicle sustained damage on its left.frame 48, The road had car.The vehicle involved in the accident was car.The vehicle sustained damage on its front.frame 72, The number of vehicles are 2.The road had cars.The vehicle involved in the accident was car.The vehicle sustained damage on its front.frame 96, The road had car.The vehicle involved in the accident was car.The vehicle sustained damage on its front.frame 120, The road had cars.The vehicle involved in the accident was boat.The vehicle sustained damage on its front.frame 144, The road had cars.The vehicle involved in the accident was car.The vehicle sustained damage on its front.frame 168, The road had cars.The vehicle involved in the accident was car.The vehicle sustained damage on its front.frame 192, The road had cars.The vehicle involved in the accident was car.The vehicle sustained damage on its front.frame 216, The road had cars.The vehicle involved in the accident was car.The vehicle sustained damage on its front.frame 240, The road had cars.The vehicle involved in the accident was car.The vehicle sustained damage on its front.frame 264, The road had cars.The vehicle involved in the accident was car.The vehicle sustained damage on its front.frame 288, The road had cars.The vehicle involved in the accident was car.The vehicle sustained damage on its front.frame 312, The road had cars.The vehicle involved in the accident was car.The vehicle sustained damage on its front.frame 336, The road had motorcycles.The vehicle involved in the accident was car.The vehicle sustained damage on its left.frame 360, The road had cars.The vehicle involved in the accident was car.The vehicle sustained damage on its left.frame 384, The road had motorcycles.The vehicle involved in the accident was car.The vehicle sustained damage on its front.frame 408, The road had cars.The vehicle involved in the accident was car.The vehicle sustained damage on its left.frame 432, The road had cars.The vehicle involved in the accident was car.The vehicle sustained damage on its left.frame 456, The road had cars.The vehicle involved in the accident was car.The vehicle sustained damage on its left.frame 480, The number of vehicles are 3.The road had cars.The vehicle involved in the accident was car.The vehicle sustained damage on its left.frame 504, The road had cars.The vehicle involved in the accident was car.The vehicle sustained damage on its left.common for all frames, The accident occurred on road.common for all frames, The accident took place at afternoon.common for all frames, The accident happened under weather condition, sunny.common for all frames, The incident took place during summer.\n",
            "CLIP_271.mp4\n"
          ]
        },
        {
          "output_type": "stream",
          "name": "stderr",
          "text": [
            "Processing Frames:  85%|████████▌ | 504/592 [02:45<00:28,  3.04frame/s]\n",
            "Processing Frames:   2%|▏         | 17/871 [00:00<00:10, 83.61frame/s]"
          ]
        },
        {
          "output_type": "stream",
          "name": "stdout",
          "text": [
            "\n"
          ]
        },
        {
          "output_type": "stream",
          "name": "stderr",
          "text": [
            "Processing Frames:   6%|▌         | 48/871 [00:09<02:28,  5.55frame/s]"
          ]
        },
        {
          "output_type": "stream",
          "name": "stdout",
          "text": [
            "\n"
          ]
        },
        {
          "output_type": "stream",
          "name": "stderr",
          "text": [
            "Processing Frames:   9%|▉         | 81/871 [00:16<02:16,  5.78frame/s]"
          ]
        },
        {
          "output_type": "stream",
          "name": "stdout",
          "text": [
            "\n"
          ]
        },
        {
          "output_type": "stream",
          "name": "stderr",
          "text": [
            "Processing Frames:  13%|█▎        | 112/871 [00:24<02:31,  5.02frame/s]"
          ]
        },
        {
          "output_type": "stream",
          "name": "stdout",
          "text": [
            "\n"
          ]
        },
        {
          "output_type": "stream",
          "name": "stderr",
          "text": [
            "Processing Frames:  17%|█▋        | 144/871 [00:31<02:14,  5.42frame/s]"
          ]
        },
        {
          "output_type": "stream",
          "name": "stdout",
          "text": [
            "\n"
          ]
        },
        {
          "output_type": "stream",
          "name": "stderr",
          "text": [
            "Processing Frames:  20%|██        | 175/871 [00:40<02:22,  4.87frame/s]"
          ]
        },
        {
          "output_type": "stream",
          "name": "stdout",
          "text": [
            "\n"
          ]
        },
        {
          "output_type": "stream",
          "name": "stderr",
          "text": [
            "Processing Frames:  24%|██▎       | 206/871 [00:47<02:08,  5.17frame/s]"
          ]
        },
        {
          "output_type": "stream",
          "name": "stdout",
          "text": [
            "\n"
          ]
        },
        {
          "output_type": "stream",
          "name": "stderr",
          "text": [
            "Processing Frames:  30%|███       | 264/871 [01:04<01:58,  5.11frame/s]"
          ]
        },
        {
          "output_type": "stream",
          "name": "stdout",
          "text": [
            "\n"
          ]
        },
        {
          "output_type": "stream",
          "name": "stderr",
          "text": [
            "Processing Frames:  33%|███▎      | 289/871 [01:12<02:14,  4.32frame/s]"
          ]
        },
        {
          "output_type": "stream",
          "name": "stdout",
          "text": [
            "\n"
          ]
        },
        {
          "output_type": "stream",
          "name": "stderr",
          "text": [
            "Processing Frames:  51%|█████     | 444/871 [01:53<01:30,  4.74frame/s]"
          ]
        },
        {
          "output_type": "stream",
          "name": "stdout",
          "text": [
            "\n"
          ]
        },
        {
          "output_type": "stream",
          "name": "stderr",
          "text": [
            "Processing Frames:  55%|█████▍    | 476/871 [02:00<01:15,  5.24frame/s]"
          ]
        },
        {
          "output_type": "stream",
          "name": "stdout",
          "text": [
            "\n"
          ]
        },
        {
          "output_type": "stream",
          "name": "stderr",
          "text": [
            "Processing Frames:  62%|██████▏   | 539/871 [02:16<01:02,  5.34frame/s]"
          ]
        },
        {
          "output_type": "stream",
          "name": "stdout",
          "text": [
            "\n"
          ]
        },
        {
          "output_type": "stream",
          "name": "stderr",
          "text": [
            "\rProcessing Frames:  63%|██████▎   | 551/871 [02:24<01:40,  3.19frame/s]"
          ]
        },
        {
          "output_type": "stream",
          "name": "stdout",
          "text": [
            "\n"
          ]
        },
        {
          "output_type": "stream",
          "name": "stderr",
          "text": [
            "Processing Frames:  79%|███████▊  | 684/871 [02:56<00:40,  4.62frame/s]"
          ]
        },
        {
          "output_type": "stream",
          "name": "stdout",
          "text": [
            "\n"
          ]
        },
        {
          "output_type": "stream",
          "name": "stderr",
          "text": [
            "Processing Frames:  81%|████████▏ | 708/871 [03:04<00:39,  4.15frame/s]"
          ]
        },
        {
          "output_type": "stream",
          "name": "stdout",
          "text": [
            "\n"
          ]
        },
        {
          "output_type": "stream",
          "name": "stderr",
          "text": [
            "Processing Frames:  85%|████████▌ | 743/871 [03:12<00:25,  4.93frame/s]"
          ]
        },
        {
          "output_type": "stream",
          "name": "stdout",
          "text": [
            "\n"
          ]
        },
        {
          "output_type": "stream",
          "name": "stderr",
          "text": [
            "Processing Frames:  88%|████████▊ | 769/871 [03:20<00:23,  4.38frame/s]"
          ]
        },
        {
          "output_type": "stream",
          "name": "stdout",
          "text": [
            "\n"
          ]
        },
        {
          "output_type": "stream",
          "name": "stderr",
          "text": [
            "\rProcessing Frames:  90%|████████▉ | 781/871 [03:27<00:28,  3.10frame/s]"
          ]
        },
        {
          "output_type": "stream",
          "name": "stdout",
          "text": [
            "\n"
          ]
        },
        {
          "output_type": "stream",
          "name": "stderr",
          "text": [
            "\rProcessing Frames:  93%|█████████▎| 811/871 [03:36<00:18,  3.23frame/s]"
          ]
        },
        {
          "output_type": "stream",
          "name": "stdout",
          "text": [
            "{'The vehicle sustained damage on its back.', 'The number of vehicles are 3.', 'The vehicle sustained damage on its front.', 'The number of vehicles are 5.', 'The number of vehicles are 2.', 'The accident happened under weather condition, cloudy.', 'The accident occurred on street.', 'The accident took place at evening.', 'The road had car.', 'The vehicle sustained damage on its left.', 'The vehicle involved in the accident was car.', 'The vehicle involved in the accident was sign.', 'The road had cars.', 'The incident took place during summer.'}\n",
            "frame 30, The road had cars.The vehicle involved in the accident was car.The vehicle sustained damage on its left.frame 60, The road had cars.The vehicle involved in the accident was car.The vehicle sustained damage on its left.frame 90, The road had cars.The vehicle involved in the accident was car.The vehicle sustained damage on its left.frame 120, The road had cars.The vehicle involved in the accident was car.The vehicle sustained damage on its left.frame 150, The road had cars.The vehicle involved in the accident was car.The vehicle sustained damage on its left.frame 180, The road had cars.The vehicle involved in the accident was car.The vehicle sustained damage on its left.frame 210, The road had cars.The vehicle involved in the accident was car.The vehicle sustained damage on its left.frame 240, The number of vehicles are 2.The road had cars.The vehicle involved in the accident was car.The vehicle sustained damage on its left.frame 270, The road had cars.The vehicle involved in the accident was car.The vehicle sustained damage on its left.frame 300, The road had cars.The vehicle involved in the accident was car.The vehicle sustained damage on its left.frame 330, The number of vehicles are 2.The road had cars.The vehicle involved in the accident was car.The vehicle sustained damage on its front.frame 360, The number of vehicles are 2.The road had cars.The vehicle involved in the accident was car.The vehicle sustained damage on its back.frame 390, The number of vehicles are 3.The road had cars.The vehicle involved in the accident was car.The vehicle sustained damage on its back.frame 420, The number of vehicles are 5.The road had cars.The vehicle involved in the accident was car.The vehicle sustained damage on its back.frame 450, The road had cars.The vehicle involved in the accident was car.The vehicle sustained damage on its left.frame 480, The road had cars.The vehicle involved in the accident was car.The vehicle sustained damage on its left.frame 510, The number of vehicles are 3.The road had cars.The vehicle involved in the accident was car.The vehicle sustained damage on its front.frame 540, The road had cars.The vehicle involved in the accident was car.The vehicle sustained damage on its left.frame 570, The road had car.The vehicle involved in the accident was car.The vehicle sustained damage on its front.frame 600, The number of vehicles are 3.The road had cars.The vehicle involved in the accident was car.The vehicle sustained damage on its left.frame 630, The number of vehicles are 3.The road had cars.The vehicle involved in the accident was car.The vehicle sustained damage on its left.frame 660, The number of vehicles are 3.The road had cars.The vehicle involved in the accident was car.The vehicle sustained damage on its left.frame 690, The road had cars.The vehicle involved in the accident was car.The vehicle sustained damage on its left.frame 720, The road had cars.The vehicle involved in the accident was car.The vehicle sustained damage on its left.frame 750, The road had cars.The vehicle involved in the accident was car.The vehicle sustained damage on its left.frame 780, The road had cars.The vehicle involved in the accident was sign.The vehicle sustained damage on its left.frame 810, The road had cars.The vehicle involved in the accident was sign.The vehicle sustained damage on its left.common for all frames, The accident occurred on street.common for all frames, The accident took place at evening.common for all frames, The accident happened under weather condition, cloudy.common for all frames, The incident took place during summer.\n",
            "CLIP_264.mp4\n"
          ]
        },
        {
          "output_type": "stream",
          "name": "stderr",
          "text": [
            "\n",
            "Processing Frames:  93%|█████████▎| 811/871 [03:36<00:16,  3.74frame/s]\n",
            "\n",
            "Processing Frames:   0%|          | 1/894 [00:00<10:36,  1.40frame/s]\u001b[A\n",
            "Processing Frames:   3%|▎         | 25/894 [00:00<00:21, 41.14frame/s]\u001b[A\n",
            "Processing Frames:   4%|▍         | 39/894 [00:07<03:22,  4.22frame/s]\u001b[A\n",
            "Processing Frames:   7%|▋         | 61/894 [00:16<04:21,  3.19frame/s]\u001b[A\n",
            "Processing Frames:   9%|▉         | 84/894 [00:16<02:26,  5.51frame/s]\u001b[A\n",
            "Processing Frames:  11%|█         | 96/894 [00:23<03:39,  3.63frame/s]\u001b[A\n",
            "Processing Frames:  13%|█▎        | 114/894 [00:23<02:22,  5.46frame/s]\u001b[A"
          ]
        },
        {
          "output_type": "stream",
          "name": "stdout",
          "text": [
            "\n"
          ]
        },
        {
          "output_type": "stream",
          "name": "stderr",
          "text": [
            "\n",
            "Processing Frames:  14%|█▍        | 125/894 [00:32<04:07,  3.10frame/s]\u001b[A\n",
            "Processing Frames:  17%|█▋        | 150/894 [00:32<02:18,  5.36frame/s]\u001b[A"
          ]
        },
        {
          "output_type": "stream",
          "name": "stdout",
          "text": [
            "\n"
          ]
        },
        {
          "output_type": "stream",
          "name": "stderr",
          "text": [
            "\n",
            "Processing Frames:  18%|█▊        | 163/894 [00:39<03:16,  3.71frame/s]\u001b[A"
          ]
        },
        {
          "output_type": "stream",
          "name": "stdout",
          "text": [
            "\n"
          ]
        },
        {
          "output_type": "stream",
          "name": "stderr",
          "text": [
            "\n",
            "Processing Frames:  20%|██        | 181/894 [00:47<04:01,  2.95frame/s]\u001b[A\n",
            "Processing Frames:  23%|██▎       | 208/894 [00:47<02:18,  4.96frame/s]\u001b[A"
          ]
        },
        {
          "output_type": "stream",
          "name": "stdout",
          "text": [
            "\n"
          ]
        },
        {
          "output_type": "stream",
          "name": "stderr",
          "text": [
            "\n",
            "Processing Frames:  25%|██▍       | 221/894 [00:55<03:10,  3.54frame/s]\u001b[A\n",
            "Processing Frames:  26%|██▋       | 235/894 [00:55<02:20,  4.69frame/s]\u001b[A\n",
            "Processing Frames:  28%|██▊       | 246/894 [01:03<03:36,  3.00frame/s]\u001b[A\n",
            "Processing Frames:  30%|██▉       | 268/894 [01:03<02:09,  4.84frame/s]\u001b[A\n",
            "Processing Frames:  31%|███▏      | 280/894 [01:11<03:10,  3.23frame/s]\u001b[A\n",
            "Processing Frames:  33%|███▎      | 295/894 [01:11<02:12,  4.52frame/s]\u001b[A\n",
            "Processing Frames:  34%|███▍      | 306/894 [01:19<03:16,  2.99frame/s]\u001b[A\n",
            "Processing Frames:  37%|███▋      | 331/894 [01:28<03:09,  2.98frame/s]\u001b[A\n",
            "Processing Frames:  39%|███▉      | 348/894 [01:28<02:10,  4.19frame/s]\u001b[A\n",
            "Processing Frames:  40%|████      | 361/894 [01:35<02:47,  3.18frame/s]\u001b[A\n",
            "Processing Frames:  43%|████▎     | 386/894 [01:35<01:36,  5.27frame/s]\u001b[A\n",
            "Processing Frames:  45%|████▍     | 398/894 [01:43<02:30,  3.30frame/s]\u001b[A\n",
            "Processing Frames:  47%|████▋     | 417/894 [01:44<01:38,  4.87frame/s]\u001b[A"
          ]
        },
        {
          "output_type": "stream",
          "name": "stdout",
          "text": [
            "\n"
          ]
        },
        {
          "output_type": "stream",
          "name": "stderr",
          "text": [
            "\n",
            "Processing Frames:  48%|████▊     | 429/894 [01:51<02:15,  3.44frame/s]\u001b[A\n",
            "Processing Frames:  50%|████▉     | 446/894 [01:51<01:29,  4.98frame/s]\u001b[A\n",
            "Processing Frames:  51%|█████     | 457/894 [01:59<02:26,  2.98frame/s]\u001b[A\n",
            "Processing Frames:  52%|█████▏    | 469/894 [02:00<01:46,  3.99frame/s]\u001b[A"
          ]
        },
        {
          "output_type": "stream",
          "name": "stdout",
          "text": [
            "\n"
          ]
        },
        {
          "output_type": "stream",
          "name": "stderr",
          "text": [
            "\n",
            "Processing Frames:  54%|█████▍    | 481/894 [02:07<02:21,  2.91frame/s]\u001b[A\n",
            "Processing Frames:  55%|█████▌    | 494/894 [02:07<01:37,  4.10frame/s]\u001b[A"
          ]
        },
        {
          "output_type": "stream",
          "name": "stdout",
          "text": [
            "\n"
          ]
        },
        {
          "output_type": "stream",
          "name": "stderr",
          "text": [
            "\n",
            "Processing Frames:  57%|█████▋    | 511/894 [02:16<02:10,  2.93frame/s]\u001b[A\n",
            "Processing Frames:  60%|█████▉    | 535/894 [02:16<01:11,  4.99frame/s]\u001b[A\n",
            "Processing Frames:  61%|██████    | 546/894 [02:23<01:41,  3.41frame/s]\u001b[A\n",
            "Processing Frames:  64%|██████▍   | 570/894 [02:23<00:57,  5.64frame/s]\u001b[A\n",
            "Processing Frames:  65%|██████▌   | 583/894 [02:31<01:31,  3.39frame/s]\u001b[A\n",
            "Processing Frames:  67%|██████▋   | 601/894 [02:39<01:36,  3.04frame/s]\u001b[A\n",
            "Processing Frames:  69%|██████▉   | 618/894 [02:39<01:03,  4.32frame/s]\u001b[A\n",
            "Processing Frames:  71%|███████   | 631/894 [02:47<01:28,  2.96frame/s]\u001b[A\n",
            "Processing Frames:  73%|███████▎  | 656/894 [02:47<00:48,  4.93frame/s]\u001b[A\n",
            "Processing Frames:  75%|███████▍  | 669/894 [02:55<01:06,  3.38frame/s]\u001b[A\n",
            "Processing Frames:  77%|███████▋  | 686/894 [02:55<00:43,  4.80frame/s]\u001b[A\n",
            "Processing Frames:  78%|███████▊  | 697/894 [03:03<01:03,  3.11frame/s]\u001b[A"
          ]
        },
        {
          "output_type": "stream",
          "name": "stdout",
          "text": [
            "\n"
          ]
        },
        {
          "output_type": "stream",
          "name": "stderr",
          "text": [
            "\n",
            "Processing Frames:  81%|████████  | 721/894 [03:12<00:57,  2.99frame/s]\u001b[A"
          ]
        },
        {
          "output_type": "stream",
          "name": "stdout",
          "text": [
            "{'The vehicle sustained damage on its back.', 'The number of vehicles are 3.', 'The accident took place at morning.', 'The road had airplane.', 'The vehicle sustained damage on its front.', 'The road had truck.', 'The number of vehicles are 2.', 'The accident happened under weather condition, cloudy.', 'The accident occurred on highway.', 'The vehicle involved in the accident was truck.', 'The vehicle sustained damage on its left.', 'The vehicle involved in the accident was car.', 'The vehicle involved in the accident was sign.', 'The road had cars.', 'The incident took place during summer.'}\n",
            "frame 30, The number of vehicles are 3.The road had cars.The vehicle involved in the accident was car.The vehicle sustained damage on its left.frame 60, The number of vehicles are 3.The road had cars.The vehicle involved in the accident was car.The vehicle sustained damage on its left.frame 90, The number of vehicles are 2.The road had truck.The vehicle involved in the accident was truck.The vehicle sustained damage on its left.frame 120, The road had cars.The vehicle involved in the accident was truck.The vehicle sustained damage on its front.frame 150, The road had truck.The vehicle involved in the accident was truck.The vehicle sustained damage on its front.frame 180, The road had truck.The vehicle involved in the accident was truck.The vehicle sustained damage on its front.frame 210, The road had cars.The vehicle involved in the accident was truck.The vehicle sustained damage on its front.frame 240, The number of vehicles are 3.The road had cars.The vehicle involved in the accident was car.The vehicle sustained damage on its left.frame 270, The number of vehicles are 3.The road had cars.The vehicle involved in the accident was car.The vehicle sustained damage on its left.frame 300, The number of vehicles are 3.The road had cars.The vehicle involved in the accident was car.The vehicle sustained damage on its left.frame 330, The number of vehicles are 3.The road had cars.The vehicle involved in the accident was car.The vehicle sustained damage on its left.frame 360, The number of vehicles are 3.The road had cars.The vehicle involved in the accident was car.The vehicle sustained damage on its left.frame 390, The number of vehicles are 3.The road had cars.The vehicle involved in the accident was car.The vehicle sustained damage on its left.frame 420, The road had cars.The vehicle involved in the accident was car.The vehicle sustained damage on its front.frame 450, The number of vehicles are 2.The road had cars.The vehicle involved in the accident was car.The vehicle sustained damage on its front.frame 480, The road had cars.The vehicle involved in the accident was car.The vehicle sustained damage on its front.frame 510, The road had airplane.The vehicle involved in the accident was car.The vehicle sustained damage on its back.frame 540, The number of vehicles are 3.The road had cars.The vehicle involved in the accident was car.The vehicle sustained damage on its front.frame 570, The number of vehicles are 3.The road had cars.The vehicle involved in the accident was car.The vehicle sustained damage on its left.frame 600, The number of vehicles are 3.The road had cars.The vehicle involved in the accident was car.The vehicle sustained damage on its left.frame 630, The number of vehicles are 3.The road had cars.The vehicle involved in the accident was car.The vehicle sustained damage on its left.frame 660, The number of vehicles are 3.The road had cars.The vehicle involved in the accident was car.The vehicle sustained damage on its left.frame 690, The number of vehicles are 3.The road had cars.The vehicle involved in the accident was car.The vehicle sustained damage on its left.frame 720, The road had cars.The vehicle involved in the accident was sign.The vehicle sustained damage on its left.common for all frames, The accident occurred on highway.common for all frames, The accident took place at morning.common for all frames, The accident happened under weather condition, cloudy.common for all frames, The incident took place during summer.\n",
            "CLIP_283.mp4\n"
          ]
        },
        {
          "output_type": "stream",
          "name": "stderr",
          "text": [
            "Processing Frames:  81%|████████  | 721/894 [03:12<00:46,  3.74frame/s]\n",
            "Processing Frames:   3%|▎         | 25/830 [00:00<00:06, 128.38frame/s]"
          ]
        },
        {
          "output_type": "stream",
          "name": "stdout",
          "text": [
            "\n"
          ]
        },
        {
          "output_type": "stream",
          "name": "stderr",
          "text": [
            "\rProcessing Frames:   5%|▍         | 38/830 [00:07<03:18,  3.99frame/s] "
          ]
        },
        {
          "output_type": "stream",
          "name": "stdout",
          "text": [
            "\n"
          ]
        },
        {
          "output_type": "stream",
          "name": "stderr",
          "text": [
            "Processing Frames:  10%|█         | 87/830 [00:16<02:09,  5.75frame/s]"
          ]
        },
        {
          "output_type": "stream",
          "name": "stdout",
          "text": [
            "\n"
          ]
        },
        {
          "output_type": "stream",
          "name": "stderr",
          "text": [
            "\rProcessing Frames:  12%|█▏        | 100/830 [00:23<03:13,  3.76frame/s]"
          ]
        },
        {
          "output_type": "stream",
          "name": "stdout",
          "text": [
            "\n"
          ]
        },
        {
          "output_type": "stream",
          "name": "stderr",
          "text": [
            "Processing Frames:  18%|█▊        | 149/830 [00:32<02:10,  5.22frame/s]"
          ]
        },
        {
          "output_type": "stream",
          "name": "stdout",
          "text": [
            "\n"
          ]
        },
        {
          "output_type": "stream",
          "name": "stderr",
          "text": [
            "\rProcessing Frames:  20%|█▉        | 162/830 [00:39<02:56,  3.78frame/s]"
          ]
        },
        {
          "output_type": "stream",
          "name": "stdout",
          "text": [
            "\n"
          ]
        },
        {
          "output_type": "stream",
          "name": "stderr",
          "text": [
            "Processing Frames:  25%|██▍       | 204/830 [00:48<02:14,  4.64frame/s]"
          ]
        },
        {
          "output_type": "stream",
          "name": "stdout",
          "text": [
            "\n"
          ]
        },
        {
          "output_type": "stream",
          "name": "stderr",
          "text": [
            "\rProcessing Frames:  26%|██▌       | 216/830 [00:55<02:57,  3.45frame/s]"
          ]
        },
        {
          "output_type": "stream",
          "name": "stdout",
          "text": [
            "\n"
          ]
        },
        {
          "output_type": "stream",
          "name": "stderr",
          "text": [
            "Processing Frames:  32%|███▏      | 269/830 [01:03<01:49,  5.12frame/s]"
          ]
        },
        {
          "output_type": "stream",
          "name": "stdout",
          "text": [
            "\n"
          ]
        },
        {
          "output_type": "stream",
          "name": "stderr",
          "text": [
            "Processing Frames:  35%|███▌      | 294/830 [01:11<01:53,  4.70frame/s]"
          ]
        },
        {
          "output_type": "stream",
          "name": "stdout",
          "text": [
            "\n"
          ]
        },
        {
          "output_type": "stream",
          "name": "stderr",
          "text": [
            "Processing Frames:  39%|███▉      | 323/830 [01:19<01:52,  4.49frame/s]"
          ]
        },
        {
          "output_type": "stream",
          "name": "stdout",
          "text": [
            "\n"
          ]
        },
        {
          "output_type": "stream",
          "name": "stderr",
          "text": [
            "Processing Frames:  43%|████▎     | 355/830 [01:27<01:32,  5.16frame/s]"
          ]
        },
        {
          "output_type": "stream",
          "name": "stdout",
          "text": [
            "\n"
          ]
        },
        {
          "output_type": "stream",
          "name": "stderr",
          "text": [
            "Processing Frames:  46%|████▌     | 381/830 [01:35<01:38,  4.55frame/s]"
          ]
        },
        {
          "output_type": "stream",
          "name": "stdout",
          "text": [
            "\n"
          ]
        },
        {
          "output_type": "stream",
          "name": "stderr",
          "text": [
            "Processing Frames:  90%|█████████ | 749/830 [03:11<00:13,  6.02frame/s]"
          ]
        },
        {
          "output_type": "stream",
          "name": "stdout",
          "text": [
            "\n"
          ]
        },
        {
          "output_type": "stream",
          "name": "stderr",
          "text": [
            "Processing Frames:  94%|█████████▍| 780/830 [03:19<00:09,  5.31frame/s]"
          ]
        },
        {
          "output_type": "stream",
          "name": "stdout",
          "text": [
            "\n"
          ]
        },
        {
          "output_type": "stream",
          "name": "stderr",
          "text": [
            "Processing Frames:  97%|█████████▋| 803/830 [03:27<00:06,  4.21frame/s]"
          ]
        },
        {
          "output_type": "stream",
          "name": "stdout",
          "text": [
            "{'The vehicle sustained damage on its back.', 'The number of vehicles are 3.', 'The vehicle sustained damage on its front.', 'The road had truck.', 'The number of vehicles are 2.', 'The road had trucks.', 'The accident occurred on street.', 'The accident took place at afternoon.', 'The vehicle involved in the accident was truck.', 'The accident happened under weather condition, sunny.', 'The vehicle sustained damage on its left.', 'The vehicle involved in the accident was car.', 'The vehicle involved in the accident was sign.', 'The road had cars.', 'The incident took place during summer.'}\n",
            "frame 30, The road had cars.The vehicle involved in the accident was sign.The vehicle sustained damage on its left.frame 60, The road had truck.The vehicle involved in the accident was truck.The vehicle sustained damage on its left.frame 90, The road had truck.The vehicle involved in the accident was truck.The vehicle sustained damage on its left.frame 120, The road had truck.The vehicle involved in the accident was truck.The vehicle sustained damage on its left.frame 150, The road had truck.The vehicle involved in the accident was truck.The vehicle sustained damage on its left.frame 180, The road had truck.The vehicle involved in the accident was truck.The vehicle sustained damage on its left.frame 210, The road had truck.The vehicle involved in the accident was truck.The vehicle sustained damage on its left.frame 240, The road had truck.The vehicle involved in the accident was truck.The vehicle sustained damage on its left.frame 270, The road had truck.The vehicle involved in the accident was truck.The vehicle sustained damage on its front.frame 300, The road had truck.The vehicle involved in the accident was truck.The vehicle sustained damage on its front.frame 330, The road had truck.The vehicle involved in the accident was truck.The vehicle sustained damage on its left.frame 360, The road had cars.The vehicle involved in the accident was car.The vehicle sustained damage on its left.frame 390, The road had cars.The vehicle involved in the accident was truck.The vehicle sustained damage on its left.frame 420, The number of vehicles are 2.The road had trucks.The vehicle involved in the accident was truck.The vehicle sustained damage on its left.frame 450, The number of vehicles are 3.The road had cars.The vehicle involved in the accident was car.The vehicle sustained damage on its left.frame 480, The number of vehicles are 3.The road had cars.The vehicle involved in the accident was car.The vehicle sustained damage on its front.frame 510, The number of vehicles are 3.The road had cars.The vehicle involved in the accident was car.The vehicle sustained damage on its left.frame 540, The number of vehicles are 3.The road had cars.The vehicle involved in the accident was car.The vehicle sustained damage on its left.frame 570, The number of vehicles are 3.The road had cars.The vehicle involved in the accident was car.The vehicle sustained damage on its left.frame 600, The number of vehicles are 3.The road had trucks.The vehicle involved in the accident was car.The vehicle sustained damage on its left.frame 630, The number of vehicles are 3.The road had cars.The vehicle involved in the accident was car.The vehicle sustained damage on its left.frame 660, The number of vehicles are 2.The road had cars.The vehicle involved in the accident was car.The vehicle sustained damage on its left.frame 690, The number of vehicles are 2.The road had cars.The vehicle involved in the accident was car.The vehicle sustained damage on its front.frame 720, The number of vehicles are 3.The road had cars.The vehicle involved in the accident was car.The vehicle sustained damage on its back.frame 750, The road had cars.The vehicle involved in the accident was car.The vehicle sustained damage on its left.frame 780, The road had cars.The vehicle involved in the accident was car.The vehicle sustained damage on its left.frame 810, The number of vehicles are 2.The road had cars.The vehicle involved in the accident was car.The vehicle sustained damage on its left.common for all frames, The accident occurred on street.common for all frames, The accident took place at afternoon.common for all frames, The accident happened under weather condition, sunny.common for all frames, The incident took place during summer.\n",
            "CLIP_315.mp4\n"
          ]
        },
        {
          "output_type": "stream",
          "name": "stderr",
          "text": [
            "\n",
            "Processing Frames:  98%|█████████▊| 811/830 [03:35<00:05,  3.77frame/s]\n",
            "\n",
            "Processing Frames:   1%|▏         | 13/922 [00:00<00:07, 128.85frame/s]\u001b[A\n",
            "Processing Frames:   3%|▎         | 30/922 [00:08<05:03,  2.94frame/s] \u001b[A\n",
            "Processing Frames:   5%|▍         | 46/922 [00:09<02:41,  5.42frame/s]\u001b[A\n",
            "Processing Frames:   6%|▋         | 59/922 [00:16<04:30,  3.20frame/s]\u001b[A\n",
            "Processing Frames:   8%|▊         | 76/922 [00:16<02:41,  5.23frame/s]\u001b[A\n",
            "Processing Frames:  10%|▉         | 88/922 [00:25<04:47,  2.90frame/s]\u001b[A\n",
            "Processing Frames:  11%|█▏        | 104/922 [00:25<03:04,  4.44frame/s]\u001b[A\n",
            "Processing Frames:  13%|█▎        | 117/922 [00:32<04:15,  3.15frame/s]\u001b[A\n",
            "Processing Frames:  14%|█▍        | 133/922 [00:32<02:47,  4.70frame/s]\u001b[A\n",
            "Processing Frames:  16%|█▌        | 146/922 [00:41<04:26,  2.91frame/s]\u001b[A\n",
            "Processing Frames:  18%|█▊        | 162/922 [00:41<02:56,  4.31frame/s]\u001b[A\n",
            "Processing Frames:  19%|█▉        | 175/922 [00:48<03:57,  3.14frame/s]\u001b[A\n",
            "Processing Frames:  21%|██        | 191/922 [00:48<02:37,  4.63frame/s]\u001b[A\n",
            "Processing Frames:  22%|██▏       | 203/922 [00:48<01:56,  6.17frame/s]\u001b[A"
          ]
        },
        {
          "output_type": "stream",
          "name": "stdout",
          "text": [
            "\n"
          ]
        },
        {
          "output_type": "stream",
          "name": "stderr",
          "text": [
            "\n",
            "Processing Frames:  23%|██▎       | 213/922 [00:57<03:55,  3.01frame/s]\u001b[A\n",
            "Processing Frames:  25%|██▍       | 226/922 [00:57<02:42,  4.29frame/s]\u001b[A"
          ]
        },
        {
          "output_type": "stream",
          "name": "stdout",
          "text": [
            "\n"
          ]
        },
        {
          "output_type": "stream",
          "name": "stderr",
          "text": [
            "\n",
            "Processing Frames:  25%|██▌       | 235/922 [01:05<04:21,  2.63frame/s]\u001b[A\n",
            "Processing Frames:  26%|██▋       | 244/922 [01:05<03:15,  3.46frame/s]\u001b[A\n",
            "Processing Frames:  28%|██▊       | 254/922 [01:05<02:20,  4.76frame/s]\u001b[A"
          ]
        },
        {
          "output_type": "stream",
          "name": "stdout",
          "text": [
            "\n"
          ]
        },
        {
          "output_type": "stream",
          "name": "stderr",
          "text": [
            "\n",
            "Processing Frames:  28%|██▊       | 262/922 [01:13<04:26,  2.47frame/s]\u001b[A\n",
            "Processing Frames:  30%|███       | 278/922 [01:13<02:34,  4.16frame/s]\u001b[A"
          ]
        },
        {
          "output_type": "stream",
          "name": "stdout",
          "text": [
            "\n"
          ]
        },
        {
          "output_type": "stream",
          "name": "stderr",
          "text": [
            "\n",
            "Processing Frames:  32%|███▏      | 291/922 [01:21<03:54,  2.69frame/s]\u001b[A\n",
            "Processing Frames:  33%|███▎      | 302/922 [01:22<02:47,  3.70frame/s]\u001b[A\n",
            "Processing Frames:  34%|███▎      | 311/922 [01:22<02:06,  4.85frame/s]\u001b[A"
          ]
        },
        {
          "output_type": "stream",
          "name": "stdout",
          "text": [
            "\n"
          ]
        },
        {
          "output_type": "stream",
          "name": "stderr",
          "text": [
            "\n",
            "Processing Frames:  35%|███▍      | 320/922 [01:29<03:39,  2.74frame/s]\u001b[A\n",
            "Processing Frames:  36%|███▋      | 336/922 [01:29<02:10,  4.50frame/s]\u001b[A"
          ]
        },
        {
          "output_type": "stream",
          "name": "stdout",
          "text": [
            "\n"
          ]
        },
        {
          "output_type": "stream",
          "name": "stderr",
          "text": [
            "\n",
            "Processing Frames:  38%|███▊      | 349/922 [01:38<03:29,  2.73frame/s]\u001b[A\n",
            "Processing Frames:  40%|███▉      | 365/922 [01:38<02:12,  4.21frame/s]\u001b[A"
          ]
        },
        {
          "output_type": "stream",
          "name": "stdout",
          "text": [
            "\n"
          ]
        },
        {
          "output_type": "stream",
          "name": "stderr",
          "text": [
            "\n",
            "Processing Frames:  41%|████      | 378/922 [01:45<02:58,  3.05frame/s]\u001b[A\n",
            "Processing Frames:  43%|████▎     | 395/922 [01:45<01:52,  4.67frame/s]\u001b[A"
          ]
        },
        {
          "output_type": "stream",
          "name": "stdout",
          "text": [
            "\n"
          ]
        },
        {
          "output_type": "stream",
          "name": "stderr",
          "text": [
            "\n",
            "Processing Frames:  44%|████▍     | 407/922 [01:54<03:01,  2.84frame/s]\u001b[A\n",
            "Processing Frames:  46%|████▌     | 425/922 [01:54<01:53,  4.40frame/s]\u001b[A"
          ]
        },
        {
          "output_type": "stream",
          "name": "stdout",
          "text": [
            "\n"
          ]
        },
        {
          "output_type": "stream",
          "name": "stderr",
          "text": [
            "\n",
            "Processing Frames:  47%|████▋     | 436/922 [02:01<02:38,  3.06frame/s]\u001b[A\n",
            "Processing Frames:  49%|████▉     | 451/922 [02:01<01:46,  4.44frame/s]\u001b[A"
          ]
        },
        {
          "output_type": "stream",
          "name": "stdout",
          "text": [
            "\n"
          ]
        },
        {
          "output_type": "stream",
          "name": "stderr",
          "text": [
            "\n",
            "Processing Frames:  50%|█████     | 465/922 [02:10<02:37,  2.90frame/s]\u001b[A\n",
            "Processing Frames:  52%|█████▏    | 482/922 [02:10<01:40,  4.36frame/s]\u001b[A"
          ]
        },
        {
          "output_type": "stream",
          "name": "stdout",
          "text": [
            "\n"
          ]
        },
        {
          "output_type": "stream",
          "name": "stderr",
          "text": [
            "\n",
            "Processing Frames:  54%|█████▎    | 494/922 [02:17<02:17,  3.10frame/s]\u001b[A\n",
            "Processing Frames:  55%|█████▌    | 508/922 [02:17<01:34,  4.38frame/s]\u001b[A\n",
            "Processing Frames:  56%|█████▋    | 519/922 [02:18<01:09,  5.77frame/s]\u001b[A"
          ]
        },
        {
          "output_type": "stream",
          "name": "stdout",
          "text": [
            "\n"
          ]
        },
        {
          "output_type": "stream",
          "name": "stderr",
          "text": [
            "\n",
            "Processing Frames:  57%|█████▋    | 528/922 [02:26<02:18,  2.83frame/s]\u001b[A\n",
            "Processing Frames:  59%|█████▉    | 544/922 [02:26<01:25,  4.42frame/s]\u001b[A"
          ]
        },
        {
          "output_type": "stream",
          "name": "stdout",
          "text": [
            "\n"
          ]
        },
        {
          "output_type": "stream",
          "name": "stderr",
          "text": [
            "\n",
            "Processing Frames:  60%|██████    | 554/922 [02:34<02:11,  2.81frame/s]\u001b[A\n",
            "Processing Frames:  61%|██████    | 564/922 [02:34<01:35,  3.75frame/s]\u001b[A\n",
            "Processing Frames:  62%|██████▏   | 576/922 [02:34<01:04,  5.35frame/s]\u001b[A"
          ]
        },
        {
          "output_type": "stream",
          "name": "stdout",
          "text": [
            "\n"
          ]
        },
        {
          "output_type": "stream",
          "name": "stderr",
          "text": [
            "\n",
            "Processing Frames:  63%|██████▎   | 585/922 [02:42<02:03,  2.74frame/s]\u001b[A\n",
            "Processing Frames:  65%|██████▌   | 600/922 [02:42<01:14,  4.31frame/s]\u001b[A"
          ]
        },
        {
          "output_type": "stream",
          "name": "stdout",
          "text": [
            "\n"
          ]
        },
        {
          "output_type": "stream",
          "name": "stderr",
          "text": [
            "\n",
            "Processing Frames:  66%|██████▌   | 610/922 [02:51<02:00,  2.60frame/s]\u001b[A\n",
            "Processing Frames:  67%|██████▋   | 622/922 [02:51<01:20,  3.72frame/s]\u001b[A\n",
            "Processing Frames:  69%|██████▊   | 633/922 [02:51<00:56,  5.15frame/s]\u001b[A"
          ]
        },
        {
          "output_type": "stream",
          "name": "stdout",
          "text": [
            "\n"
          ]
        },
        {
          "output_type": "stream",
          "name": "stderr",
          "text": [
            "\n",
            "Processing Frames:  70%|██████▉   | 642/922 [02:58<01:39,  2.82frame/s]\u001b[A\n",
            "Processing Frames:  71%|███████▏  | 657/922 [02:58<00:59,  4.45frame/s]\u001b[A\n",
            "Processing Frames:  72%|███████▏  | 668/922 [03:07<01:37,  2.61frame/s]\u001b[A\n",
            "Processing Frames:  74%|███████▍  | 681/922 [03:07<01:03,  3.81frame/s]\u001b[A\n",
            "Processing Frames:  75%|███████▌  | 696/922 [03:07<00:39,  5.76frame/s]\u001b[A"
          ]
        },
        {
          "output_type": "stream",
          "name": "stdout",
          "text": [
            "\n"
          ]
        },
        {
          "output_type": "stream",
          "name": "stderr",
          "text": [
            "\n",
            "Processing Frames:  77%|███████▋  | 706/922 [03:14<01:05,  3.29frame/s]\u001b[A\n",
            "Processing Frames:  79%|███████▊  | 724/922 [03:14<00:37,  5.33frame/s]\u001b[A"
          ]
        },
        {
          "output_type": "stream",
          "name": "stdout",
          "text": [
            "\n"
          ]
        },
        {
          "output_type": "stream",
          "name": "stderr",
          "text": [
            "\n",
            "Processing Frames:  80%|███████▉  | 734/922 [03:23<01:05,  2.87frame/s]\u001b[A\n",
            "Processing Frames:  81%|████████▏ | 751/922 [03:23<00:38,  4.47frame/s]\u001b[A"
          ]
        },
        {
          "output_type": "stream",
          "name": "stdout",
          "text": [
            "\n"
          ]
        },
        {
          "output_type": "stream",
          "name": "stderr",
          "text": [
            "\n",
            "Processing Frames:  83%|████████▎ | 761/922 [03:30<00:53,  3.00frame/s]\u001b[A\n",
            "Processing Frames:  85%|████████▍ | 780/922 [03:30<00:29,  4.86frame/s]\u001b[A"
          ]
        },
        {
          "output_type": "stream",
          "name": "stdout",
          "text": [
            "\n"
          ]
        },
        {
          "output_type": "stream",
          "name": "stderr",
          "text": [
            "\n",
            "Processing Frames:  86%|████████▌ | 791/922 [03:39<00:45,  2.87frame/s]\u001b[A\n",
            "Processing Frames:  88%|████████▊ | 810/922 [03:39<00:24,  4.55frame/s]\u001b[A"
          ]
        },
        {
          "output_type": "stream",
          "name": "stdout",
          "text": [
            "\n"
          ]
        },
        {
          "output_type": "stream",
          "name": "stderr",
          "text": [
            "\n",
            "Processing Frames:  89%|████████▉ | 821/922 [03:46<00:32,  3.15frame/s]\u001b[A\n",
            "Processing Frames:  91%|█████████ | 840/922 [03:46<00:16,  4.95frame/s]\u001b[A"
          ]
        },
        {
          "output_type": "stream",
          "name": "stdout",
          "text": [
            "\n"
          ]
        },
        {
          "output_type": "stream",
          "name": "stderr",
          "text": [
            "\n",
            "Processing Frames:  92%|█████████▏| 851/922 [03:55<00:23,  2.96frame/s]\u001b[A"
          ]
        },
        {
          "output_type": "stream",
          "name": "stdout",
          "text": [
            "\n"
          ]
        },
        {
          "output_type": "stream",
          "name": "stderr",
          "text": [
            "\n",
            "Processing Frames:  94%|█████████▍| 871/922 [04:01<00:17,  2.94frame/s]\u001b[A\n",
            "Processing Frames:  97%|█████████▋| 897/922 [04:02<00:05,  4.97frame/s]\u001b[A"
          ]
        },
        {
          "output_type": "stream",
          "name": "stdout",
          "text": [
            "\n",
            "{'The vehicle sustained damage on its back.', 'The number of vehicles are 3.', 'The vehicle sustained damage on its front.', 'The number of vehicles are 5.', 'The accident happened under weather condition, cloudy.', 'The accident took place at afternoon.', 'The accident occurred on city.', 'The vehicle sustained damage on its left.', 'The vehicle involved in the accident was car.', 'The incident took place during summer.', 'The road had cars.'}\n",
            "frame 29, The number of vehicles are 3.The road had cars.The vehicle involved in the accident was car.The vehicle sustained damage on its front.frame 58, The number of vehicles are 3.The road had cars.The vehicle involved in the accident was car.The vehicle sustained damage on its back.frame 87, The number of vehicles are 5.The road had cars.The vehicle involved in the accident was car.The vehicle sustained damage on its back.frame 116, The number of vehicles are 3.The road had cars.The vehicle involved in the accident was car.The vehicle sustained damage on its back.frame 145, The number of vehicles are 5.The road had cars.The vehicle involved in the accident was car.The vehicle sustained damage on its back.frame 174, The number of vehicles are 5.The road had cars.The vehicle involved in the accident was car.The vehicle sustained damage on its left.frame 203, The road had cars.The vehicle involved in the accident was car.The vehicle sustained damage on its back.frame 232, The road had cars.The vehicle involved in the accident was car.The vehicle sustained damage on its left.frame 261, The road had cars.The vehicle involved in the accident was car.The vehicle sustained damage on its front.frame 290, The road had cars.The vehicle involved in the accident was car.The vehicle sustained damage on its front.frame 319, The road had cars.The vehicle involved in the accident was car.The vehicle sustained damage on its front.frame 348, The road had cars.The vehicle involved in the accident was car.The vehicle sustained damage on its front.frame 377, The road had cars.The vehicle involved in the accident was car.The vehicle sustained damage on its front.frame 406, The road had cars.The vehicle involved in the accident was car.The vehicle sustained damage on its front.frame 435, The road had cars.The vehicle involved in the accident was car.The vehicle sustained damage on its front.frame 464, The road had cars.The vehicle involved in the accident was car.The vehicle sustained damage on its front.frame 493, The road had cars.The vehicle involved in the accident was car.The vehicle sustained damage on its front.frame 522, The road had cars.The vehicle involved in the accident was car.The vehicle sustained damage on its front.frame 551, The road had cars.The vehicle involved in the accident was car.The vehicle sustained damage on its front.frame 580, The road had cars.The vehicle involved in the accident was car.The vehicle sustained damage on its left.frame 609, The road had cars.The vehicle involved in the accident was car.The vehicle sustained damage on its left.frame 638, The road had cars.The vehicle involved in the accident was car.The vehicle sustained damage on its front.frame 667, The number of vehicles are 5.The road had cars.The vehicle involved in the accident was car.The vehicle sustained damage on its back.frame 696, The road had cars.The vehicle involved in the accident was car.The vehicle sustained damage on its front.frame 725, The road had cars.The vehicle involved in the accident was car.The vehicle sustained damage on its front.frame 754, The road had cars.The vehicle involved in the accident was car.The vehicle sustained damage on its front.frame 783, The road had cars.The vehicle involved in the accident was car.The vehicle sustained damage on its front.frame 812, The road had cars.The vehicle involved in the accident was car.The vehicle sustained damage on its front.frame 841, The road had cars.The vehicle involved in the accident was car.The vehicle sustained damage on its front.frame 870, The road had cars.The vehicle involved in the accident was car.The vehicle sustained damage on its left.frame 899, The road had cars.The vehicle involved in the accident was car.The vehicle sustained damage on its front.common for all frames, The accident occurred on city.common for all frames, The accident took place at afternoon.common for all frames, The accident happened under weather condition, cloudy.common for all frames, The incident took place during summer.\n",
            "CLIP_298.mp4\n"
          ]
        },
        {
          "output_type": "stream",
          "name": "stderr",
          "text": [
            "Processing Frames:  98%|█████████▊| 900/922 [04:10<00:06,  3.59frame/s]\n",
            "Processing Frames:   3%|▎         | 19/622 [00:00<00:09, 61.10frame/s]"
          ]
        },
        {
          "output_type": "stream",
          "name": "stdout",
          "text": [
            "\n"
          ]
        },
        {
          "output_type": "stream",
          "name": "stderr",
          "text": [
            "Processing Frames:   8%|▊         | 48/622 [00:07<01:22,  6.99frame/s]"
          ]
        },
        {
          "output_type": "stream",
          "name": "stdout",
          "text": [
            "\n"
          ]
        },
        {
          "output_type": "stream",
          "name": "stderr",
          "text": [
            "\rProcessing Frames:   9%|▉         | 56/622 [00:15<03:43,  2.53frame/s]"
          ]
        },
        {
          "output_type": "stream",
          "name": "stdout",
          "text": [
            "\n"
          ]
        },
        {
          "output_type": "stream",
          "name": "stderr",
          "text": [
            "Processing Frames:  14%|█▍        | 86/622 [00:23<02:31,  3.55frame/s]"
          ]
        },
        {
          "output_type": "stream",
          "name": "stdout",
          "text": [
            "\n"
          ]
        },
        {
          "output_type": "stream",
          "name": "stderr",
          "text": [
            "Processing Frames:  19%|█▉        | 119/622 [00:31<01:51,  4.51frame/s]"
          ]
        },
        {
          "output_type": "stream",
          "name": "stdout",
          "text": [
            "\n"
          ]
        },
        {
          "output_type": "stream",
          "name": "stderr",
          "text": [
            "Processing Frames:  23%|██▎       | 141/622 [00:39<02:05,  3.85frame/s]"
          ]
        },
        {
          "output_type": "stream",
          "name": "stdout",
          "text": [
            "\n"
          ]
        },
        {
          "output_type": "stream",
          "name": "stderr",
          "text": [
            "\rProcessing Frames:  24%|██▍       | 150/622 [00:46<03:00,  2.61frame/s]"
          ]
        },
        {
          "output_type": "stream",
          "name": "stdout",
          "text": [
            "\n"
          ]
        },
        {
          "output_type": "stream",
          "name": "stderr",
          "text": [
            "Processing Frames:  30%|██▉       | 184/622 [00:55<02:03,  3.53frame/s]"
          ]
        },
        {
          "output_type": "stream",
          "name": "stdout",
          "text": [
            "\n"
          ]
        },
        {
          "output_type": "stream",
          "name": "stderr",
          "text": [
            "Processing Frames:  34%|███▍      | 214/622 [01:02<01:33,  4.36frame/s]"
          ]
        },
        {
          "output_type": "stream",
          "name": "stdout",
          "text": [
            "\n"
          ]
        },
        {
          "output_type": "stream",
          "name": "stderr",
          "text": [
            "\rProcessing Frames:  36%|███▌      | 224/622 [01:11<02:27,  2.71frame/s]"
          ]
        },
        {
          "output_type": "stream",
          "name": "stdout",
          "text": [
            "\n"
          ]
        },
        {
          "output_type": "stream",
          "name": "stderr",
          "text": [
            "Processing Frames:  42%|████▏     | 260/622 [01:18<01:29,  4.04frame/s]"
          ]
        },
        {
          "output_type": "stream",
          "name": "stdout",
          "text": [
            "\n"
          ]
        },
        {
          "output_type": "stream",
          "name": "stderr",
          "text": [
            "\rProcessing Frames:  43%|████▎     | 270/622 [01:27<02:13,  2.64frame/s]"
          ]
        },
        {
          "output_type": "stream",
          "name": "stdout",
          "text": [
            "\n"
          ]
        },
        {
          "output_type": "stream",
          "name": "stderr",
          "text": [
            "Processing Frames:  51%|█████▏    | 320/622 [01:42<01:49,  2.76frame/s]"
          ]
        },
        {
          "output_type": "stream",
          "name": "stdout",
          "text": [
            "\n"
          ]
        },
        {
          "output_type": "stream",
          "name": "stderr",
          "text": [
            "Processing Frames:  58%|█████▊    | 360/622 [01:49<01:01,  4.28frame/s]"
          ]
        },
        {
          "output_type": "stream",
          "name": "stdout",
          "text": [
            "\n"
          ]
        },
        {
          "output_type": "stream",
          "name": "stderr",
          "text": [
            "\rProcessing Frames:  60%|█████▉    | 371/622 [01:58<01:27,  2.86frame/s]"
          ]
        },
        {
          "output_type": "stream",
          "name": "stdout",
          "text": [
            "\n"
          ]
        },
        {
          "output_type": "stream",
          "name": "stderr",
          "text": [
            "Processing Frames:  64%|██████▍   | 400/622 [02:05<01:01,  3.60frame/s]"
          ]
        },
        {
          "output_type": "stream",
          "name": "stdout",
          "text": [
            "\n"
          ]
        },
        {
          "output_type": "stream",
          "name": "stderr",
          "text": [
            "Processing Frames:  69%|██████▉   | 432/622 [02:14<00:45,  4.16frame/s]"
          ]
        },
        {
          "output_type": "stream",
          "name": "stdout",
          "text": [
            "\n"
          ]
        },
        {
          "output_type": "stream",
          "name": "stderr",
          "text": [
            "Processing Frames:  73%|███████▎  | 456/622 [02:22<00:41,  3.98frame/s]"
          ]
        },
        {
          "output_type": "stream",
          "name": "stdout",
          "text": [
            "\n"
          ]
        },
        {
          "output_type": "stream",
          "name": "stderr",
          "text": [
            "\rProcessing Frames:  75%|███████▍  | 466/622 [02:29<00:58,  2.65frame/s]"
          ]
        },
        {
          "output_type": "stream",
          "name": "stdout",
          "text": [
            "\n"
          ]
        },
        {
          "output_type": "stream",
          "name": "stderr",
          "text": [
            "Processing Frames:  80%|███████▉  | 496/622 [02:38<00:37,  3.35frame/s]"
          ]
        },
        {
          "output_type": "stream",
          "name": "stdout",
          "text": [
            "\n"
          ]
        },
        {
          "output_type": "stream",
          "name": "stderr",
          "text": [
            "\rProcessing Frames:  81%|████████  | 505/622 [02:45<00:48,  2.43frame/s]"
          ]
        },
        {
          "output_type": "stream",
          "name": "stdout",
          "text": [
            "{'The vehicle sustained damage on its back.', 'The accident occurred on intersection.', 'The vehicle sustained damage on its front.', 'The road had truck.', 'The number of vehicles are 2.', 'The road had trucks.', 'The road had scooter.', 'The road had car.', 'The accident took place at afternoon.', 'The accident happened under weather condition, sunny.', 'The vehicle involved in the accident was truck.', 'The road had suv.', 'The road had van.', 'The vehicle sustained damage on its left.', 'The vehicle involved in the accident was car.', 'The incident took place during summer.', 'The road had cars.'}\n",
            "frame 24, The road had cars.The vehicle involved in the accident was car.The vehicle sustained damage on its left.frame 48, The road had cars.The vehicle involved in the accident was car.The vehicle sustained damage on its left.frame 72, The road had cars.The vehicle involved in the accident was car.The vehicle sustained damage on its left.frame 96, The road had cars.The vehicle involved in the accident was car.The vehicle sustained damage on its left.frame 120, The road had truck.The vehicle involved in the accident was truck.The vehicle sustained damage on its left.frame 144, The road had cars.The vehicle involved in the accident was car.The vehicle sustained damage on its left.frame 168, The road had cars.The vehicle involved in the accident was car.The vehicle sustained damage on its front.frame 192, The road had truck.The vehicle involved in the accident was car.The vehicle sustained damage on its left.frame 216, The road had truck.The vehicle involved in the accident was car.The vehicle sustained damage on its left.frame 240, The road had van.The vehicle involved in the accident was car.The vehicle sustained damage on its left.frame 264, The road had cars.The vehicle involved in the accident was car.The vehicle sustained damage on its left.frame 288, The road had trucks.The vehicle involved in the accident was car.The vehicle sustained damage on its left.frame 312, The number of vehicles are 2.The road had cars.The vehicle involved in the accident was car.The vehicle sustained damage on its left.frame 336, The road had trucks.The vehicle involved in the accident was car.The vehicle sustained damage on its left.frame 360, The road had suv.The vehicle involved in the accident was car.The vehicle sustained damage on its left.frame 384, The road had suv.The vehicle involved in the accident was car.The vehicle sustained damage on its left.frame 408, The road had car.The vehicle involved in the accident was car.The vehicle sustained damage on its back.frame 432, The road had car.The vehicle involved in the accident was car.The vehicle sustained damage on its back.frame 456, The road had scooter.The vehicle involved in the accident was car.The vehicle sustained damage on its left.frame 480, The road had cars.The vehicle involved in the accident was car.The vehicle sustained damage on its left.frame 504, The road had cars.The vehicle involved in the accident was car.The vehicle sustained damage on its left.common for all frames, The accident occurred on intersection.common for all frames, The accident took place at afternoon.common for all frames, The accident happened under weather condition, sunny.common for all frames, The incident took place during summer.\n",
            "CLIP_261.mp4\n"
          ]
        },
        {
          "output_type": "stream",
          "name": "stderr",
          "text": [
            "\n",
            "Processing Frames:  81%|████████  | 505/622 [02:45<00:38,  3.04frame/s]\n",
            "\n",
            "Processing Frames:   1%|          | 6/1048 [00:00<00:17, 59.70frame/s]\u001b[A\n",
            "Processing Frames:   2%|▏         | 26/1048 [00:00<00:07, 141.10frame/s]\u001b[A\n",
            "Processing Frames:   4%|▍         | 41/1048 [00:08<04:40,  3.59frame/s] \u001b[A\n",
            "Processing Frames:   5%|▌         | 55/1048 [00:09<02:53,  5.74frame/s]\u001b[A\n",
            "Processing Frames:   6%|▌         | 65/1048 [00:16<05:16,  3.11frame/s]\u001b[A\n",
            "Processing Frames:   8%|▊         | 79/1048 [00:16<03:21,  4.80frame/s]\u001b[A\n",
            "Processing Frames:   9%|▊         | 91/1048 [00:24<05:53,  2.70frame/s]\u001b[A\n",
            "Processing Frames:  10%|█         | 107/1048 [00:25<03:42,  4.24frame/s]\u001b[A\n",
            "Processing Frames:  12%|█▏        | 121/1048 [00:32<04:54,  3.15frame/s]\u001b[A\n",
            "Processing Frames:  13%|█▎        | 135/1048 [00:32<03:22,  4.52frame/s]\u001b[A\n",
            "Processing Frames:  14%|█▍        | 150/1048 [00:32<02:16,  6.57frame/s]\u001b[A"
          ]
        },
        {
          "output_type": "stream",
          "name": "stdout",
          "text": [
            "\n"
          ]
        },
        {
          "output_type": "stream",
          "name": "stderr",
          "text": [
            "\n",
            "Processing Frames:  15%|█▌        | 161/1048 [00:41<04:39,  3.17frame/s]\u001b[A\n",
            "Processing Frames:  17%|█▋        | 177/1048 [00:41<03:02,  4.78frame/s]\u001b[A\n",
            "Processing Frames:  18%|█▊        | 187/1048 [00:48<04:40,  3.07frame/s]\u001b[A\n",
            "Processing Frames:  19%|█▉        | 202/1048 [00:48<03:05,  4.57frame/s]\u001b[A\n",
            "Processing Frames:  20%|██        | 211/1048 [00:56<05:22,  2.60frame/s]\u001b[A\n",
            "Processing Frames:  22%|██▏       | 226/1048 [00:57<03:28,  3.94frame/s]\u001b[A"
          ]
        },
        {
          "output_type": "stream",
          "name": "stdout",
          "text": [
            "\n"
          ]
        },
        {
          "output_type": "stream",
          "name": "stderr",
          "text": [
            "\n",
            "Processing Frames:  23%|██▎       | 241/1048 [01:04<04:27,  3.01frame/s]\u001b[A\n",
            "Processing Frames:  24%|██▍       | 251/1048 [01:04<03:23,  3.93frame/s]\u001b[A\n",
            "Processing Frames:  25%|██▍       | 260/1048 [01:04<02:35,  5.07frame/s]\u001b[A\n",
            "Processing Frames:  26%|██▌       | 269/1048 [01:04<01:57,  6.64frame/s]\u001b[A\n",
            "Processing Frames:  26%|██▋       | 277/1048 [01:12<04:36,  2.79frame/s]\u001b[A\n",
            "Processing Frames:  28%|██▊       | 295/1048 [01:12<02:33,  4.90frame/s]\u001b[A"
          ]
        },
        {
          "output_type": "stream",
          "name": "stdout",
          "text": [
            "\n"
          ]
        },
        {
          "output_type": "stream",
          "name": "stderr",
          "text": [
            "\n",
            "Processing Frames:  29%|██▉       | 305/1048 [01:20<04:24,  2.81frame/s]\u001b[A\n",
            "Processing Frames:  30%|██▉       | 313/1048 [01:20<03:24,  3.59frame/s]\u001b[A\n",
            "Processing Frames:  31%|███       | 323/1048 [01:21<02:25,  4.97frame/s]\u001b[A\n",
            "Processing Frames:  32%|███▏      | 331/1048 [01:28<04:38,  2.57frame/s]\u001b[A\n",
            "Processing Frames:  33%|███▎      | 346/1048 [01:28<02:45,  4.24frame/s]\u001b[A\n",
            "Processing Frames:  34%|███▍      | 361/1048 [01:37<04:03,  2.82frame/s]\u001b[A\n",
            "Processing Frames:  35%|███▌      | 371/1048 [01:37<02:59,  3.76frame/s]\u001b[A\n",
            "Processing Frames:  36%|███▋      | 381/1048 [01:37<02:11,  5.07frame/s]\u001b[A\n",
            "Processing Frames:  37%|███▋      | 391/1048 [01:44<03:44,  2.93frame/s]\u001b[A\n",
            "Processing Frames:  39%|███▉      | 408/1048 [01:44<02:12,  4.84frame/s]\u001b[A\n",
            "Processing Frames:  40%|████      | 420/1048 [01:44<01:33,  6.69frame/s]\u001b[A\n",
            "Processing Frames:  41%|████      | 430/1048 [01:53<03:25,  3.00frame/s]\u001b[A\n",
            "Processing Frames:  43%|████▎     | 446/1048 [01:53<02:07,  4.71frame/s]\u001b[A"
          ]
        },
        {
          "output_type": "stream",
          "name": "stdout",
          "text": [
            "\n"
          ]
        },
        {
          "output_type": "stream",
          "name": "stderr",
          "text": [
            "\n",
            "Processing Frames:  44%|████▎     | 456/1048 [02:00<03:15,  3.03frame/s]\u001b[A\n",
            "Processing Frames:  45%|████▍     | 471/1048 [02:00<02:05,  4.58frame/s]\u001b[A"
          ]
        },
        {
          "output_type": "stream",
          "name": "stdout",
          "text": [
            "\n"
          ]
        },
        {
          "output_type": "stream",
          "name": "stderr",
          "text": [
            "\n",
            "Processing Frames:  46%|████▌     | 481/1048 [02:09<03:35,  2.63frame/s]\u001b[A\n",
            "Processing Frames:  47%|████▋     | 497/1048 [02:09<02:15,  4.08frame/s]\u001b[A"
          ]
        },
        {
          "output_type": "stream",
          "name": "stdout",
          "text": [
            "\n"
          ]
        },
        {
          "output_type": "stream",
          "name": "stderr",
          "text": [
            "\n",
            "Processing Frames:  49%|████▉     | 511/1048 [02:16<02:54,  3.08frame/s]\u001b[A\n",
            "Processing Frames:  50%|█████     | 527/1048 [02:16<01:53,  4.60frame/s]\u001b[A"
          ]
        },
        {
          "output_type": "stream",
          "name": "stdout",
          "text": [
            "\n"
          ]
        },
        {
          "output_type": "stream",
          "name": "stderr",
          "text": [
            "\n",
            "Processing Frames:  52%|█████▏    | 541/1048 [02:25<02:50,  2.98frame/s]\u001b[A\n",
            "Processing Frames:  53%|█████▎    | 557/1048 [02:25<01:52,  4.38frame/s]\u001b[A\n",
            "Processing Frames:  54%|█████▍    | 571/1048 [02:32<02:24,  3.30frame/s]\u001b[A\n",
            "Processing Frames:  56%|█████▌    | 586/1048 [02:32<01:38,  4.71frame/s]\u001b[A\n",
            "Processing Frames:  57%|█████▋    | 601/1048 [02:40<02:24,  3.10frame/s]\u001b[A\n",
            "Processing Frames:  59%|█████▉    | 617/1048 [02:40<01:35,  4.50frame/s]\u001b[A\n",
            "Processing Frames:  60%|██████    | 631/1048 [02:48<02:07,  3.27frame/s]\u001b[A\n",
            "Processing Frames:  61%|██████    | 641/1048 [02:48<01:37,  4.17frame/s]\u001b[A\n",
            "Processing Frames:  62%|██████▏   | 652/1048 [02:48<01:11,  5.56frame/s]\u001b[A\n",
            "Processing Frames:  63%|██████▎   | 661/1048 [02:56<02:16,  2.83frame/s]\u001b[A\n",
            "Processing Frames:  65%|██████▍   | 679/1048 [02:56<01:19,  4.66frame/s]\u001b[A\n",
            "Processing Frames:  66%|██████▌   | 691/1048 [03:04<02:00,  2.96frame/s]\u001b[A\n",
            "Processing Frames:  67%|██████▋   | 703/1048 [03:04<01:24,  4.08frame/s]\u001b[A\n",
            "Processing Frames:  68%|██████▊   | 713/1048 [03:04<01:02,  5.38frame/s]\u001b[A"
          ]
        },
        {
          "output_type": "stream",
          "name": "stdout",
          "text": [
            "\n"
          ]
        },
        {
          "output_type": "stream",
          "name": "stderr",
          "text": [
            "\n",
            "Processing Frames:  69%|██████▉   | 722/1048 [03:12<01:53,  2.86frame/s]\u001b[A\n",
            "Processing Frames:  71%|███████   | 740/1048 [03:12<01:03,  4.81frame/s]\u001b[A"
          ]
        },
        {
          "output_type": "stream",
          "name": "stdout",
          "text": [
            "\n"
          ]
        },
        {
          "output_type": "stream",
          "name": "stderr",
          "text": [
            "\n",
            "Processing Frames:  72%|███████▏  | 751/1048 [03:20<01:44,  2.84frame/s]\u001b[A\n",
            "Processing Frames:  73%|███████▎  | 763/1048 [03:21<01:11,  3.98frame/s]\u001b[A\n",
            "Processing Frames:  74%|███████▍  | 775/1048 [03:21<00:49,  5.55frame/s]\u001b[A"
          ]
        },
        {
          "output_type": "stream",
          "name": "stdout",
          "text": [
            "\n"
          ]
        },
        {
          "output_type": "stream",
          "name": "stderr",
          "text": [
            "\n",
            "Processing Frames:  75%|███████▍  | 784/1048 [03:28<01:26,  3.05frame/s]\u001b[A\n",
            "Processing Frames:  76%|███████▋  | 800/1048 [03:28<00:51,  4.85frame/s]\u001b[A\n",
            "Processing Frames:  77%|███████▋  | 811/1048 [03:36<01:25,  2.77frame/s]\u001b[A\n",
            "Processing Frames:  79%|███████▉  | 828/1048 [03:37<00:50,  4.38frame/s]\u001b[A\n",
            "Processing Frames:  80%|████████  | 841/1048 [03:44<01:05,  3.16frame/s]\u001b[A\n",
            "Processing Frames:  82%|████████▏ | 858/1048 [03:44<00:39,  4.82frame/s]\u001b[A\n",
            "Processing Frames:  83%|████████▎ | 871/1048 [03:52<00:59,  2.97frame/s]\u001b[A\n",
            "Processing Frames:  85%|████████▍ | 887/1048 [03:52<00:36,  4.39frame/s]\u001b[A\n",
            "Processing Frames:  86%|████████▌ | 901/1048 [03:59<00:45,  3.25frame/s]\u001b[A\n",
            "Processing Frames:  88%|████████▊ | 918/1048 [04:00<00:26,  4.83frame/s]\u001b[A\n",
            "Processing Frames:  89%|████████▉ | 931/1048 [04:08<00:39,  3.00frame/s]\u001b[A\n",
            "Processing Frames:  90%|█████████ | 946/1048 [04:09<00:23,  4.29frame/s]\u001b[A\n",
            "Processing Frames:  92%|█████████▏| 961/1048 [04:16<00:26,  3.27frame/s]\u001b[A\n",
            "Processing Frames:  93%|█████████▎| 976/1048 [04:16<00:15,  4.65frame/s]\u001b[A\n",
            "Processing Frames:  95%|█████████▍| 991/1048 [04:24<00:18,  3.07frame/s]\u001b[A\n",
            "Processing Frames:  97%|█████████▋| 1020/1048 [04:24<00:05,  5.58frame/s]\u001b[A"
          ]
        },
        {
          "output_type": "stream",
          "name": "stdout",
          "text": [
            "\n",
            "{'The vehicle sustained damage on its back.', 'The number of vehicles are 3.', 'The accident happened under weather condition, clear.', 'The vehicle sustained damage on its front.', 'The number of vehicles are 5.', 'The number of vehicles are 6.', 'The number of vehicles are 2.', 'The road had trucks.', 'The accident took place at evening.', 'The accident occurred on highway.', 'The number of vehicles are 10.', 'The incident took place during fall.', 'The vehicle involved in the accident was truck.', 'The vehicle sustained damage on its left.', 'The vehicle involved in the accident was car.', 'The number of vehicles are 4.', 'The road had cars.'}\n",
            "frame 30, The number of vehicles are 3.The road had cars.The vehicle involved in the accident was car.The vehicle sustained damage on its left.frame 60, The number of vehicles are 3.The road had cars.The vehicle involved in the accident was car.The vehicle sustained damage on its left.frame 90, The number of vehicles are 2.The road had cars.The vehicle involved in the accident was car.The vehicle sustained damage on its left.frame 120, The number of vehicles are 2.The road had cars.The vehicle involved in the accident was car.The vehicle sustained damage on its left.frame 150, The road had cars.The vehicle involved in the accident was car.The vehicle sustained damage on its back.frame 180, The number of vehicles are 2.The road had cars.The vehicle involved in the accident was car.The vehicle sustained damage on its left.frame 210, The number of vehicles are 2.The road had cars.The vehicle involved in the accident was car.The vehicle sustained damage on its front.frame 240, The road had cars.The vehicle involved in the accident was car.The vehicle sustained damage on its left.frame 270, The number of vehicles are 3.The road had cars.The vehicle involved in the accident was car.The vehicle sustained damage on its left.frame 300, The road had cars.The vehicle involved in the accident was car.The vehicle sustained damage on its left.frame 330, The number of vehicles are 3.The road had cars.The vehicle involved in the accident was truck.The vehicle sustained damage on its left.frame 360, The number of vehicles are 5.The road had cars.The vehicle involved in the accident was truck.The vehicle sustained damage on its left.frame 390, The number of vehicles are 3.The road had cars.The vehicle involved in the accident was car.The vehicle sustained damage on its left.frame 420, The number of vehicles are 5.The road had cars.The vehicle involved in the accident was car.The vehicle sustained damage on its left.frame 450, The road had cars.The vehicle involved in the accident was car.The vehicle sustained damage on its left.frame 480, The road had cars.The vehicle involved in the accident was car.The vehicle sustained damage on its left.frame 510, The road had cars.The vehicle involved in the accident was car.The vehicle sustained damage on its left.frame 540, The road had cars.The vehicle involved in the accident was car.The vehicle sustained damage on its left.frame 570, The number of vehicles are 3.The road had cars.The vehicle involved in the accident was truck.The vehicle sustained damage on its left.frame 600, The number of vehicles are 3.The road had trucks.The vehicle involved in the accident was truck.The vehicle sustained damage on its left.frame 630, The number of vehicles are 3.The road had cars.The vehicle involved in the accident was car.The vehicle sustained damage on its left.frame 660, The number of vehicles are 5.The road had cars.The vehicle involved in the accident was car.The vehicle sustained damage on its left.frame 690, The number of vehicles are 3.The road had cars.The vehicle involved in the accident was car.The vehicle sustained damage on its left.frame 720, The road had cars.The vehicle involved in the accident was car.The vehicle sustained damage on its left.frame 750, The road had cars.The vehicle involved in the accident was car.The vehicle sustained damage on its left.frame 780, The road had cars.The vehicle involved in the accident was car.The vehicle sustained damage on its left.frame 810, The number of vehicles are 3.The road had cars.The vehicle involved in the accident was car.The vehicle sustained damage on its left.frame 840, The number of vehicles are 4.The road had cars.The vehicle involved in the accident was car.The vehicle sustained damage on its left.frame 870, The number of vehicles are 5.The road had cars.The vehicle involved in the accident was car.The vehicle sustained damage on its left.frame 900, The number of vehicles are 5.The road had cars.The vehicle involved in the accident was car.The vehicle sustained damage on its left.frame 930, The number of vehicles are 6.The road had cars.The vehicle involved in the accident was car.The vehicle sustained damage on its left.frame 960, The number of vehicles are 5.The road had cars.The vehicle involved in the accident was car.The vehicle sustained damage on its left.frame 990, The number of vehicles are 10.The road had cars.The vehicle involved in the accident was car.The vehicle sustained damage on its back.frame 1020, The road had cars.The vehicle involved in the accident was car.The vehicle sustained damage on its left.common for all frames, The accident occurred on highway.common for all frames, The accident took place at evening.common for all frames, The accident happened under weather condition, clear.common for all frames, The incident took place during fall.\n",
            "CLIP_252.mp4\n"
          ]
        },
        {
          "output_type": "stream",
          "name": "stderr",
          "text": [
            "Processing Frames:  97%|█████████▋| 1020/1048 [04:32<00:07,  3.75frame/s]\n",
            "Processing Frames:   1%|▏         | 18/1286 [00:00<00:12, 101.75frame/s]"
          ]
        },
        {
          "output_type": "stream",
          "name": "stdout",
          "text": [
            "\n"
          ]
        },
        {
          "output_type": "stream",
          "name": "stderr",
          "text": [
            "Processing Frames:   4%|▍         | 53/1286 [00:08<03:08,  6.55frame/s]"
          ]
        },
        {
          "output_type": "stream",
          "name": "stdout",
          "text": [
            "\n",
            "\n"
          ]
        },
        {
          "output_type": "stream",
          "name": "stderr",
          "text": [
            "Processing Frames:   8%|▊         | 100/1286 [00:24<06:13,  3.18frame/s]"
          ]
        },
        {
          "output_type": "stream",
          "name": "stdout",
          "text": [
            "\n"
          ]
        },
        {
          "output_type": "stream",
          "name": "stderr",
          "text": [
            "Processing Frames:  11%|█▏        | 146/1286 [00:33<03:35,  5.28frame/s]"
          ]
        },
        {
          "output_type": "stream",
          "name": "stdout",
          "text": [
            "\n",
            "\n"
          ]
        },
        {
          "output_type": "stream",
          "name": "stderr",
          "text": [
            "Processing Frames:  14%|█▎        | 174/1286 [00:40<03:40,  5.04frame/s]"
          ]
        },
        {
          "output_type": "stream",
          "name": "stdout",
          "text": [
            "\n",
            "\n"
          ]
        },
        {
          "output_type": "stream",
          "name": "stderr",
          "text": [
            "Processing Frames:  16%|█▌        | 203/1286 [00:49<04:02,  4.46frame/s]"
          ]
        },
        {
          "output_type": "stream",
          "name": "stdout",
          "text": [
            "\n",
            "\n"
          ]
        },
        {
          "output_type": "stream",
          "name": "stderr",
          "text": [
            "Processing Frames:  18%|█▊        | 232/1286 [00:57<03:44,  4.69frame/s]"
          ]
        },
        {
          "output_type": "stream",
          "name": "stdout",
          "text": [
            "\n",
            "\n"
          ]
        },
        {
          "output_type": "stream",
          "name": "stderr",
          "text": [
            "Processing Frames:  25%|██▌       | 322/1286 [01:22<03:34,  4.50frame/s]"
          ]
        },
        {
          "output_type": "stream",
          "name": "stdout",
          "text": [
            "\n"
          ]
        },
        {
          "output_type": "stream",
          "name": "stderr",
          "text": [
            "Processing Frames:  28%|██▊       | 357/1286 [01:30<02:48,  5.51frame/s]"
          ]
        },
        {
          "output_type": "stream",
          "name": "stdout",
          "text": [
            "\n",
            "\n"
          ]
        },
        {
          "output_type": "stream",
          "name": "stderr",
          "text": [
            "Processing Frames:  30%|██▉       | 384/1286 [01:38<03:16,  4.60frame/s]"
          ]
        },
        {
          "output_type": "stream",
          "name": "stdout",
          "text": [
            "\n"
          ]
        },
        {
          "output_type": "stream",
          "name": "stderr",
          "text": [
            "Processing Frames:  32%|███▏      | 407/1286 [01:47<03:44,  3.91frame/s]"
          ]
        },
        {
          "output_type": "stream",
          "name": "stdout",
          "text": [
            "\n"
          ]
        },
        {
          "output_type": "stream",
          "name": "stderr",
          "text": [
            "Processing Frames:  34%|███▍      | 441/1286 [01:54<02:59,  4.71frame/s]"
          ]
        },
        {
          "output_type": "stream",
          "name": "stdout",
          "text": [
            "\n"
          ]
        },
        {
          "output_type": "stream",
          "name": "stderr",
          "text": [
            "Processing Frames:  39%|███▉      | 503/1286 [02:11<02:36,  5.01frame/s]"
          ]
        },
        {
          "output_type": "stream",
          "name": "stdout",
          "text": [
            "\n"
          ]
        },
        {
          "output_type": "stream",
          "name": "stderr",
          "text": [
            "Processing Frames:  42%|████▏     | 534/1286 [02:20<02:41,  4.64frame/s]"
          ]
        },
        {
          "output_type": "stream",
          "name": "stdout",
          "text": [
            "\n"
          ]
        },
        {
          "output_type": "stream",
          "name": "stderr",
          "text": [
            "Processing Frames:  44%|████▍     | 565/1286 [02:27<02:24,  4.98frame/s]"
          ]
        },
        {
          "output_type": "stream",
          "name": "stdout",
          "text": [
            "\n"
          ]
        },
        {
          "output_type": "stream",
          "name": "stderr",
          "text": [
            "Processing Frames:  46%|████▋     | 597/1286 [02:36<02:26,  4.72frame/s]"
          ]
        },
        {
          "output_type": "stream",
          "name": "stdout",
          "text": [
            "\n"
          ]
        },
        {
          "output_type": "stream",
          "name": "stderr",
          "text": [
            "Processing Frames:  48%|████▊     | 621/1286 [02:43<02:33,  4.33frame/s]"
          ]
        },
        {
          "output_type": "stream",
          "name": "stdout",
          "text": [
            "\n"
          ]
        },
        {
          "output_type": "stream",
          "name": "stderr",
          "text": [
            "Processing Frames:  51%|█████     | 650/1286 [02:52<02:29,  4.27frame/s]"
          ]
        },
        {
          "output_type": "stream",
          "name": "stdout",
          "text": [
            "\n"
          ]
        },
        {
          "output_type": "stream",
          "name": "stderr",
          "text": [
            "Processing Frames:  62%|██████▏   | 802/1286 [03:33<01:46,  4.56frame/s]"
          ]
        },
        {
          "output_type": "stream",
          "name": "stdout",
          "text": [
            "\n"
          ]
        },
        {
          "output_type": "stream",
          "name": "stderr",
          "text": [
            "Processing Frames:  65%|██████▍   | 834/1286 [03:40<01:28,  5.09frame/s]"
          ]
        },
        {
          "output_type": "stream",
          "name": "stdout",
          "text": [
            "\n"
          ]
        },
        {
          "output_type": "stream",
          "name": "stderr",
          "text": [
            "Processing Frames:  67%|██████▋   | 865/1286 [03:49<01:29,  4.69frame/s]"
          ]
        },
        {
          "output_type": "stream",
          "name": "stdout",
          "text": [
            "\n"
          ]
        },
        {
          "output_type": "stream",
          "name": "stderr",
          "text": [
            "\rProcessing Frames:  68%|██████▊   | 877/1286 [03:56<02:03,  3.31frame/s]"
          ]
        },
        {
          "output_type": "stream",
          "name": "stdout",
          "text": [
            "\n"
          ]
        },
        {
          "output_type": "stream",
          "name": "stderr",
          "text": [
            "Processing Frames:  71%|███████▏  | 919/1286 [04:05<01:24,  4.33frame/s]"
          ]
        },
        {
          "output_type": "stream",
          "name": "stdout",
          "text": [
            "\n"
          ]
        },
        {
          "output_type": "stream",
          "name": "stderr",
          "text": [
            "Processing Frames:  74%|███████▍  | 950/1286 [04:12<01:10,  4.79frame/s]"
          ]
        },
        {
          "output_type": "stream",
          "name": "stdout",
          "text": [
            "\n"
          ]
        },
        {
          "output_type": "stream",
          "name": "stderr",
          "text": [
            "Processing Frames:  79%|███████▉  | 1017/1286 [04:29<00:48,  5.53frame/s]"
          ]
        },
        {
          "output_type": "stream",
          "name": "stdout",
          "text": [
            "\n"
          ]
        },
        {
          "output_type": "stream",
          "name": "stderr",
          "text": [
            "Processing Frames:  88%|████████▊ | 1130/1286 [05:02<00:38,  4.03frame/s]"
          ]
        },
        {
          "output_type": "stream",
          "name": "stdout",
          "text": [
            "\n"
          ]
        },
        {
          "output_type": "stream",
          "name": "stderr",
          "text": [
            "Processing Frames:  90%|█████████ | 1162/1286 [05:09<00:25,  4.83frame/s]"
          ]
        },
        {
          "output_type": "stream",
          "name": "stdout",
          "text": [
            "\n"
          ]
        },
        {
          "output_type": "stream",
          "name": "stderr",
          "text": [
            "Processing Frames:  93%|█████████▎| 1196/1286 [05:18<00:18,  4.86frame/s]"
          ]
        },
        {
          "output_type": "stream",
          "name": "stdout",
          "text": [
            "\n",
            "\n"
          ]
        },
        {
          "output_type": "stream",
          "name": "stderr",
          "text": [
            "Processing Frames:  96%|█████████▌| 1230/1286 [05:25<00:10,  5.47frame/s]"
          ]
        },
        {
          "output_type": "stream",
          "name": "stdout",
          "text": [
            "\n",
            "\n"
          ]
        },
        {
          "output_type": "stream",
          "name": "stderr",
          "text": [
            "\rProcessing Frames:  97%|█████████▋| 1243/1286 [05:34<00:12,  3.33frame/s]"
          ]
        },
        {
          "output_type": "stream",
          "name": "stdout",
          "text": [
            "\n",
            "{'The vehicle sustained damage on its back.', 'The number of vehicles are 3.', 'The vehicle involved in the accident was plane.', 'The vehicle sustained damage on its front.', 'The number of vehicles are 5.', 'The number of vehicles are 2.', 'The road had trucks.', 'The vehicle involved in the accident was boat.', 'The accident took place at night.', 'The accident happened under weather condition, rainy.', 'The accident occurred on highway.', 'The road had car.', 'The incident took place during winter.', 'The road had boats.', 'The vehicle sustained damage on its left.', 'The vehicle involved in the accident was car.', 'The road had cars.'}\n",
            "frame 30, The road had cars.The vehicle involved in the accident was car.The vehicle sustained damage on its left.frame 60, The road had cars.The vehicle sustained damage on its left.frame 90, The number of vehicles are 3.The road had cars.The vehicle involved in the accident was car.The vehicle sustained damage on its left.frame 120, The number of vehicles are 2.The road had cars.The vehicle sustained damage on its left.frame 150, The road had cars.The vehicle sustained damage on its left.frame 180, The road had cars.The vehicle sustained damage on its left.frame 210, The road had cars.The vehicle sustained damage on its front.frame 240, The road had cars.The vehicle sustained damage on its left.frame 270, The number of vehicles are 3.The road had cars.The vehicle involved in the accident was car.The vehicle sustained damage on its left.frame 300, The number of vehicles are 5.The road had cars.The vehicle involved in the accident was car.The vehicle sustained damage on its left.frame 330, The road had cars.The vehicle involved in the accident was car.The vehicle sustained damage on its front.frame 360, The road had cars.The vehicle sustained damage on its left.frame 390, The road had cars.The vehicle involved in the accident was car.The vehicle sustained damage on its left.frame 420, The road had cars.The vehicle involved in the accident was car.The vehicle sustained damage on its left.frame 450, The road had cars.The vehicle involved in the accident was car.The vehicle sustained damage on its left.frame 480, The number of vehicles are 3.The road had cars.The vehicle involved in the accident was car.The vehicle sustained damage on its back.frame 510, The road had cars.The vehicle involved in the accident was car.The vehicle sustained damage on its front.frame 540, The road had cars.The vehicle involved in the accident was car.The vehicle sustained damage on its left.frame 570, The road had cars.The vehicle involved in the accident was car.The vehicle sustained damage on its left.frame 600, The road had cars.The vehicle involved in the accident was car.The vehicle sustained damage on its left.frame 630, The road had cars.The vehicle involved in the accident was car.The vehicle sustained damage on its left.frame 660, The road had trucks.The vehicle involved in the accident was boat.The vehicle sustained damage on its left.frame 690, The number of vehicles are 3.The road had trucks.The vehicle involved in the accident was plane.The vehicle sustained damage on its front.frame 720, The number of vehicles are 3.The road had boats.The vehicle involved in the accident was plane.The vehicle sustained damage on its front.frame 750, The number of vehicles are 3.The road had trucks.The vehicle involved in the accident was plane.The vehicle sustained damage on its front.frame 780, The number of vehicles are 3.The road had trucks.The vehicle involved in the accident was plane.The vehicle sustained damage on its front.frame 810, The road had car.The vehicle involved in the accident was car.The vehicle sustained damage on its left.frame 840, The road had car.The vehicle involved in the accident was car.The vehicle sustained damage on its left.frame 870, The road had car.The vehicle involved in the accident was car.The vehicle sustained damage on its left.frame 900, The road had cars.The vehicle involved in the accident was car.The vehicle sustained damage on its left.frame 930, The road had cars.The vehicle involved in the accident was car.The vehicle sustained damage on its back.frame 960, The road had cars.The vehicle involved in the accident was car.The vehicle sustained damage on its back.frame 990, The number of vehicles are 3.The road had cars.The vehicle involved in the accident was car.The vehicle sustained damage on its left.frame 1020, The road had cars.The vehicle involved in the accident was car.The vehicle sustained damage on its left.frame 1050, The number of vehicles are 3.The road had cars.The vehicle involved in the accident was car.The vehicle sustained damage on its left.frame 1080, The number of vehicles are 3.The road had cars.The vehicle involved in the accident was car.The vehicle sustained damage on its left.frame 1110, The number of vehicles are 3.The road had cars.The vehicle involved in the accident was car.The vehicle sustained damage on its left.frame 1140, The road had cars.The vehicle involved in the accident was car.The vehicle sustained damage on its front.frame 1170, The road had cars.The vehicle involved in the accident was car.The vehicle sustained damage on its left.frame 1200, The road had cars.The vehicle sustained damage on its left.frame 1230, The road had cars.The vehicle sustained damage on its left.frame 1260, The road had cars.The vehicle involved in the accident was car.The vehicle sustained damage on its left.common for all frames, The accident occurred on highway.common for all frames, The accident took place at night.common for all frames, The accident happened under weather condition, rainy.common for all frames, The incident took place during winter.\n",
            "CLIP_324.mp4\n"
          ]
        },
        {
          "output_type": "stream",
          "name": "stderr",
          "text": [
            "\n",
            "Processing Frames:  98%|█████████▊| 1260/1286 [05:40<00:07,  3.70frame/s]\n",
            "\n",
            "Processing Frames:   0%|          | 7/1408 [00:00<00:21, 66.71frame/s]\u001b[A"
          ]
        },
        {
          "output_type": "stream",
          "name": "stdout",
          "text": [
            "\n"
          ]
        },
        {
          "output_type": "stream",
          "name": "stderr",
          "text": [
            "\n",
            "Processing Frames:   2%|▏         | 31/1408 [00:08<06:55,  3.32frame/s]\u001b[A\n",
            "Processing Frames:   3%|▎         | 48/1408 [00:08<03:46,  6.00frame/s]\u001b[A"
          ]
        },
        {
          "output_type": "stream",
          "name": "stdout",
          "text": [
            "\n",
            "\n"
          ]
        },
        {
          "output_type": "stream",
          "name": "stderr",
          "text": [
            "\n",
            "Processing Frames:   4%|▍         | 61/1408 [00:15<06:25,  3.49frame/s]\u001b[A\n",
            "Processing Frames:   6%|▌         | 80/1408 [00:15<03:47,  5.84frame/s]\u001b[A"
          ]
        },
        {
          "output_type": "stream",
          "name": "stdout",
          "text": [
            "\n"
          ]
        },
        {
          "output_type": "stream",
          "name": "stderr",
          "text": [
            "\n",
            "Processing Frames:   6%|▋         | 91/1408 [00:24<07:12,  3.04frame/s]\u001b[A\n",
            "Processing Frames:   8%|▊         | 109/1408 [00:24<04:30,  4.79frame/s]\u001b[A"
          ]
        },
        {
          "output_type": "stream",
          "name": "stdout",
          "text": [
            "\n"
          ]
        },
        {
          "output_type": "stream",
          "name": "stderr",
          "text": [
            "\n",
            "Processing Frames:   9%|▊         | 121/1408 [00:32<06:45,  3.18frame/s]\u001b[A\n",
            "Processing Frames:   9%|▉         | 131/1408 [00:32<05:09,  4.12frame/s]\u001b[A\n",
            "Processing Frames:  10%|▉         | 140/1408 [00:32<03:58,  5.31frame/s]\u001b[A"
          ]
        },
        {
          "output_type": "stream",
          "name": "stdout",
          "text": [
            "\n"
          ]
        },
        {
          "output_type": "stream",
          "name": "stderr",
          "text": [
            "\n",
            "Processing Frames:  11%|█         | 151/1408 [00:40<07:23,  2.83frame/s]\u001b[A\n",
            "Processing Frames:  12%|█▏        | 168/1408 [00:40<04:29,  4.60frame/s]\u001b[A"
          ]
        },
        {
          "output_type": "stream",
          "name": "stdout",
          "text": [
            "\n"
          ]
        },
        {
          "output_type": "stream",
          "name": "stderr",
          "text": [
            "\n",
            "Processing Frames:  13%|█▎        | 181/1408 [00:48<06:43,  3.04frame/s]\u001b[A\n",
            "Processing Frames:  14%|█▎        | 192/1408 [00:48<04:56,  4.10frame/s]\u001b[A\n",
            "Processing Frames:  14%|█▍        | 202/1408 [00:48<03:42,  5.43frame/s]\u001b[A"
          ]
        },
        {
          "output_type": "stream",
          "name": "stdout",
          "text": [
            "\n"
          ]
        },
        {
          "output_type": "stream",
          "name": "stderr",
          "text": [
            "\n",
            "Processing Frames:  15%|█▍        | 211/1408 [00:56<06:57,  2.87frame/s]\u001b[A\n",
            "Processing Frames:  16%|█▋        | 229/1408 [00:56<04:03,  4.84frame/s]\u001b[A"
          ]
        },
        {
          "output_type": "stream",
          "name": "stdout",
          "text": [
            "\n",
            "\n"
          ]
        },
        {
          "output_type": "stream",
          "name": "stderr",
          "text": [
            "\n",
            "Processing Frames:  17%|█▋        | 241/1408 [01:04<06:36,  2.94frame/s]\u001b[A\n",
            "Processing Frames:  18%|█▊        | 253/1408 [01:04<04:42,  4.09frame/s]\u001b[A\n",
            "Processing Frames:  19%|█▉        | 265/1408 [01:04<03:21,  5.68frame/s]\u001b[A"
          ]
        },
        {
          "output_type": "stream",
          "name": "stdout",
          "text": [
            "\n",
            "\n"
          ]
        },
        {
          "output_type": "stream",
          "name": "stderr",
          "text": [
            "\n",
            "Processing Frames:  19%|█▉        | 274/1408 [01:11<06:09,  3.07frame/s]\u001b[A\n",
            "Processing Frames:  21%|██        | 291/1408 [01:11<03:44,  4.98frame/s]\u001b[A"
          ]
        },
        {
          "output_type": "stream",
          "name": "stdout",
          "text": [
            "\n",
            "\n"
          ]
        },
        {
          "output_type": "stream",
          "name": "stderr",
          "text": [
            "\n",
            "Processing Frames:  21%|██▏       | 301/1408 [01:20<06:39,  2.77frame/s]\u001b[A\n",
            "Processing Frames:  22%|██▏       | 313/1408 [01:20<04:40,  3.91frame/s]\u001b[A\n",
            "Processing Frames:  23%|██▎       | 324/1408 [01:20<03:22,  5.35frame/s]\u001b[A"
          ]
        },
        {
          "output_type": "stream",
          "name": "stdout",
          "text": [
            "\n"
          ]
        },
        {
          "output_type": "stream",
          "name": "stderr",
          "text": [
            "\n",
            "Processing Frames:  24%|██▎       | 333/1408 [01:27<05:54,  3.03frame/s]\u001b[A\n",
            "Processing Frames:  25%|██▍       | 351/1408 [01:27<03:26,  5.11frame/s]\u001b[A"
          ]
        },
        {
          "output_type": "stream",
          "name": "stdout",
          "text": [
            "\n"
          ]
        },
        {
          "output_type": "stream",
          "name": "stderr",
          "text": [
            "\n",
            "Processing Frames:  26%|██▌       | 361/1408 [01:36<06:18,  2.76frame/s]\u001b[A\n",
            "Processing Frames:  27%|██▋       | 378/1408 [01:36<03:55,  4.38frame/s]\u001b[A\n",
            "Processing Frames:  28%|██▊       | 391/1408 [01:43<05:19,  3.18frame/s]\u001b[A\n",
            "Processing Frames:  29%|██▉       | 408/1408 [01:43<03:25,  4.86frame/s]\u001b[A\n",
            "Processing Frames:  30%|██▉       | 421/1408 [01:51<05:29,  3.00frame/s]\u001b[A\n",
            "Processing Frames:  31%|███▏      | 440/1408 [01:52<03:26,  4.69frame/s]\u001b[A"
          ]
        },
        {
          "output_type": "stream",
          "name": "stdout",
          "text": [
            "\n"
          ]
        },
        {
          "output_type": "stream",
          "name": "stderr",
          "text": [
            "\n",
            "Processing Frames:  32%|███▏      | 451/1408 [01:58<04:53,  3.26frame/s]\u001b[A\n",
            "Processing Frames:  33%|███▎      | 465/1408 [01:58<03:25,  4.59frame/s]\u001b[A\n",
            "Processing Frames:  34%|███▍      | 481/1408 [02:07<04:58,  3.11frame/s]\u001b[A\n",
            "Processing Frames:  35%|███▌      | 498/1408 [02:07<03:17,  4.61frame/s]\u001b[A"
          ]
        },
        {
          "output_type": "stream",
          "name": "stdout",
          "text": [
            "\n"
          ]
        },
        {
          "output_type": "stream",
          "name": "stderr",
          "text": [
            "\n",
            "Processing Frames:  36%|███▋      | 511/1408 [02:14<04:28,  3.34frame/s]\u001b[A\n",
            "Processing Frames:  37%|███▋      | 526/1408 [02:14<03:05,  4.76frame/s]\u001b[A"
          ]
        },
        {
          "output_type": "stream",
          "name": "stdout",
          "text": [
            "\n"
          ]
        },
        {
          "output_type": "stream",
          "name": "stderr",
          "text": [
            "\n",
            "Processing Frames:  38%|███▊      | 541/1408 [02:23<04:36,  3.13frame/s]\u001b[A\n",
            "Processing Frames:  40%|███▉      | 557/1408 [02:23<03:07,  4.54frame/s]\u001b[A"
          ]
        },
        {
          "output_type": "stream",
          "name": "stdout",
          "text": [
            "\n"
          ]
        },
        {
          "output_type": "stream",
          "name": "stderr",
          "text": [
            "\n",
            "Processing Frames:  41%|████      | 571/1408 [02:30<04:12,  3.32frame/s]\u001b[A\n",
            "Processing Frames:  41%|████▏     | 583/1408 [02:30<03:06,  4.42frame/s]\u001b[A\n",
            "Processing Frames:  42%|████▏     | 594/1408 [02:30<02:19,  5.84frame/s]\u001b[A"
          ]
        },
        {
          "output_type": "stream",
          "name": "stdout",
          "text": [
            "\n"
          ]
        },
        {
          "output_type": "stream",
          "name": "stderr",
          "text": [
            "\n",
            "Processing Frames:  43%|████▎     | 603/1408 [02:39<04:39,  2.88frame/s]\u001b[A\n",
            "Processing Frames:  44%|████▍     | 621/1408 [02:39<02:47,  4.70frame/s]\u001b[A"
          ]
        },
        {
          "output_type": "stream",
          "name": "stdout",
          "text": [
            "\n"
          ]
        },
        {
          "output_type": "stream",
          "name": "stderr",
          "text": [
            "\n",
            "Processing Frames:  45%|████▍     | 631/1408 [02:46<04:26,  2.92frame/s]\u001b[A\n",
            "Processing Frames:  46%|████▌     | 642/1408 [02:46<03:12,  3.97frame/s]\u001b[A\n",
            "Processing Frames:  46%|████▋     | 654/1408 [02:46<02:15,  5.57frame/s]\u001b[A"
          ]
        },
        {
          "output_type": "stream",
          "name": "stdout",
          "text": [
            "\n"
          ]
        },
        {
          "output_type": "stream",
          "name": "stderr",
          "text": [
            "\n",
            "Processing Frames:  47%|████▋     | 663/1408 [02:54<04:18,  2.88frame/s]\u001b[A\n",
            "Processing Frames:  48%|████▊     | 680/1408 [02:54<02:34,  4.71frame/s]\u001b[A"
          ]
        },
        {
          "output_type": "stream",
          "name": "stdout",
          "text": [
            "\n"
          ]
        },
        {
          "output_type": "stream",
          "name": "stderr",
          "text": [
            "\n",
            "Processing Frames:  49%|████▉     | 691/1408 [03:02<04:09,  2.88frame/s]\u001b[A\n",
            "Processing Frames:  50%|████▉     | 703/1408 [03:02<02:54,  4.03frame/s]\u001b[A\n",
            "Processing Frames:  51%|█████     | 718/1408 [03:03<01:53,  6.06frame/s]\u001b[A"
          ]
        },
        {
          "output_type": "stream",
          "name": "stdout",
          "text": [
            "\n"
          ]
        },
        {
          "output_type": "stream",
          "name": "stderr",
          "text": [
            "\n",
            "Processing Frames:  52%|█████▏    | 728/1408 [03:10<03:29,  3.24frame/s]\u001b[A\n",
            "Processing Frames:  53%|█████▎    | 747/1408 [03:10<02:03,  5.35frame/s]\u001b[A"
          ]
        },
        {
          "output_type": "stream",
          "name": "stdout",
          "text": [
            "\n",
            "\n"
          ]
        },
        {
          "output_type": "stream",
          "name": "stderr",
          "text": [
            "\n",
            "Processing Frames:  54%|█████▍    | 758/1408 [03:18<03:33,  3.05frame/s]\u001b[A\n",
            "Processing Frames:  55%|█████▍    | 771/1408 [03:18<02:28,  4.28frame/s]\u001b[A"
          ]
        },
        {
          "output_type": "stream",
          "name": "stdout",
          "text": [
            "\n"
          ]
        },
        {
          "output_type": "stream",
          "name": "stderr",
          "text": [
            "\n",
            "Processing Frames:  55%|█████▌    | 781/1408 [03:26<03:40,  2.84frame/s]\u001b[A\n",
            "Processing Frames:  57%|█████▋    | 798/1408 [03:26<02:16,  4.48frame/s]\u001b[A"
          ]
        },
        {
          "output_type": "stream",
          "name": "stdout",
          "text": [
            "\n"
          ]
        },
        {
          "output_type": "stream",
          "name": "stderr",
          "text": [
            "\n",
            "Processing Frames:  58%|█████▊    | 811/1408 [03:35<03:31,  2.82frame/s]\u001b[A\n",
            "Processing Frames:  59%|█████▉    | 832/1408 [03:35<02:03,  4.66frame/s]\u001b[A"
          ]
        },
        {
          "output_type": "stream",
          "name": "stdout",
          "text": [
            "\n"
          ]
        },
        {
          "output_type": "stream",
          "name": "stderr",
          "text": [
            "\n",
            "Processing Frames:  60%|█████▉    | 843/1408 [03:42<02:57,  3.19frame/s]\u001b[A\n",
            "Processing Frames:  61%|██████    | 860/1408 [03:42<01:54,  4.77frame/s]\u001b[A"
          ]
        },
        {
          "output_type": "stream",
          "name": "stdout",
          "text": [
            "\n"
          ]
        },
        {
          "output_type": "stream",
          "name": "stderr",
          "text": [
            "\n",
            "Processing Frames:  62%|██████▏   | 871/1408 [03:51<03:08,  2.85frame/s]\u001b[A\n",
            "Processing Frames:  63%|██████▎   | 889/1408 [03:51<01:57,  4.40frame/s]\u001b[A"
          ]
        },
        {
          "output_type": "stream",
          "name": "stdout",
          "text": [
            "\n"
          ]
        },
        {
          "output_type": "stream",
          "name": "stderr",
          "text": [
            "\n",
            "Processing Frames:  64%|██████▍   | 901/1408 [03:58<02:42,  3.13frame/s]\u001b[A\n",
            "Processing Frames:  65%|██████▌   | 921/1408 [03:58<01:37,  4.97frame/s]\u001b[A"
          ]
        },
        {
          "output_type": "stream",
          "name": "stdout",
          "text": [
            "\n"
          ]
        },
        {
          "output_type": "stream",
          "name": "stderr",
          "text": [
            "\n",
            "Processing Frames:  66%|██████▋   | 933/1408 [04:07<02:37,  3.02frame/s]\u001b[A\n",
            "Processing Frames:  68%|██████▊   | 953/1408 [04:07<01:36,  4.73frame/s]\u001b[A\n",
            "Processing Frames:  69%|██████▊   | 965/1408 [04:14<02:11,  3.38frame/s]\u001b[A\n",
            "Processing Frames:  70%|██████▉   | 984/1408 [04:14<01:22,  5.16frame/s]\u001b[A\n",
            "Processing Frames:  71%|███████   | 996/1408 [04:22<02:11,  3.12frame/s]\u001b[A\n",
            "Processing Frames:  72%|███████▏  | 1014/1408 [04:22<01:23,  4.69frame/s]\u001b[A\n",
            "Processing Frames:  73%|███████▎  | 1025/1408 [04:30<02:01,  3.15frame/s]\u001b[A\n",
            "Processing Frames:  74%|███████▍  | 1039/1408 [04:30<01:23,  4.42frame/s]\u001b[A"
          ]
        },
        {
          "output_type": "stream",
          "name": "stdout",
          "text": [
            "\n"
          ]
        },
        {
          "output_type": "stream",
          "name": "stderr",
          "text": [
            "\n",
            "Processing Frames:  75%|███████▍  | 1051/1408 [04:38<02:04,  2.87frame/s]\u001b[A\n",
            "Processing Frames:  76%|███████▌  | 1072/1408 [04:38<01:11,  4.72frame/s]\u001b[A"
          ]
        },
        {
          "output_type": "stream",
          "name": "stdout",
          "text": [
            "\n"
          ]
        },
        {
          "output_type": "stream",
          "name": "stderr",
          "text": [
            "\n",
            "Processing Frames:  77%|███████▋  | 1083/1408 [04:46<01:45,  3.07frame/s]\u001b[A\n",
            "Processing Frames:  78%|███████▊  | 1095/1408 [04:46<01:15,  4.12frame/s]\u001b[A\n",
            "Processing Frames:  79%|███████▊  | 1108/1408 [04:46<00:52,  5.73frame/s]\u001b[A"
          ]
        },
        {
          "output_type": "stream",
          "name": "stdout",
          "text": [
            "\n"
          ]
        },
        {
          "output_type": "stream",
          "name": "stderr",
          "text": [
            "\n",
            "Processing Frames:  79%|███████▉  | 1118/1408 [04:54<01:32,  3.14frame/s]\u001b[A\n",
            "Processing Frames:  81%|████████  | 1138/1408 [04:54<00:51,  5.25frame/s]\u001b[A\n",
            "Processing Frames:  82%|████████▏ | 1149/1408 [05:02<01:24,  3.07frame/s]\u001b[A\n",
            "Processing Frames:  82%|████████▏ | 1160/1408 [05:02<01:00,  4.10frame/s]\u001b[A\n",
            "Processing Frames:  83%|████████▎ | 1171/1408 [05:10<01:24,  2.81frame/s]\u001b[A\n",
            "Processing Frames:  85%|████████▍ | 1190/1408 [05:10<00:47,  4.63frame/s]\u001b[A"
          ]
        },
        {
          "output_type": "stream",
          "name": "stdout",
          "text": [
            "\n"
          ]
        },
        {
          "output_type": "stream",
          "name": "stderr",
          "text": [
            "\n",
            "Processing Frames:  85%|████████▌ | 1201/1408 [05:18<01:14,  2.80frame/s]\u001b[A\n",
            "Processing Frames:  86%|████████▋ | 1215/1408 [05:19<00:47,  4.02frame/s]\u001b[A"
          ]
        },
        {
          "output_type": "stream",
          "name": "stdout",
          "text": [
            "\n"
          ]
        },
        {
          "output_type": "stream",
          "name": "stderr",
          "text": [
            "\n",
            "Processing Frames:  87%|████████▋ | 1231/1408 [05:26<00:55,  3.20frame/s]\u001b[A\n",
            "Processing Frames:  88%|████████▊ | 1246/1408 [05:26<00:35,  4.60frame/s]\u001b[A\n",
            "Processing Frames:  90%|████████▉ | 1261/1408 [05:34<00:48,  3.02frame/s]\u001b[A\n",
            "Processing Frames:  91%|█████████ | 1278/1408 [05:35<00:29,  4.48frame/s]\u001b[A"
          ]
        },
        {
          "output_type": "stream",
          "name": "stdout",
          "text": [
            "\n"
          ]
        },
        {
          "output_type": "stream",
          "name": "stderr",
          "text": [
            "\n",
            "Processing Frames:  92%|█████████▏| 1291/1408 [05:42<00:35,  3.26frame/s]\u001b[A\n",
            "Processing Frames:  93%|█████████▎| 1305/1408 [05:42<00:22,  4.55frame/s]\u001b[A"
          ]
        },
        {
          "output_type": "stream",
          "name": "stdout",
          "text": [
            "\n"
          ]
        },
        {
          "output_type": "stream",
          "name": "stderr",
          "text": [
            "\n",
            "Processing Frames:  94%|█████████▍| 1321/1408 [05:50<00:27,  3.11frame/s]\u001b[A\n",
            "Processing Frames:  95%|█████████▌| 1340/1408 [05:50<00:14,  4.77frame/s]\u001b[A"
          ]
        },
        {
          "output_type": "stream",
          "name": "stdout",
          "text": [
            "\n"
          ]
        },
        {
          "output_type": "stream",
          "name": "stderr",
          "text": [
            "\n",
            "Processing Frames:  96%|█████████▌| 1351/1408 [05:57<00:17,  3.30frame/s]\u001b[A\n",
            "Processing Frames:  98%|█████████▊| 1375/1408 [05:57<00:05,  5.58frame/s]\u001b[A"
          ]
        },
        {
          "output_type": "stream",
          "name": "stdout",
          "text": [
            "\n",
            "{'The road had skis.', 'The road had airplane.', 'The vehicle involved in the accident was skis.', 'The road had car.', 'The road had motorcycle.', 'The vehicle involved in the accident was car.', 'The vehicle sustained damage on its back.', 'The number of vehicles are 3.', 'The accident happened under weather condition, clear.', 'The road had planes.', 'The vehicle involved in the accident was plane.', 'The vehicle sustained damage on its front.', 'The road had truck.', 'The road had plane.', 'The number of vehicles are 2.', 'The accident took place at night.', 'The accident occurred on highway.', 'The vehicle involved in the accident was motorcycle.', 'The vehicle sustained damage on its left.', 'The incident took place during winter.', 'The road had cars.'}\n",
            "frame 30, The road had cars.The vehicle involved in the accident was car.The vehicle sustained damage on its left.frame 60, The road had cars.The vehicle sustained damage on its front.frame 90, The road had skis.The vehicle involved in the accident was skis.The vehicle sustained damage on its front.frame 120, The road had skis.The vehicle involved in the accident was skis.The vehicle sustained damage on its back.frame 150, The road had cars.The vehicle involved in the accident was skis.The vehicle sustained damage on its back.frame 180, The road had truck.The vehicle involved in the accident was plane.The vehicle sustained damage on its front.frame 210, The road had truck.The vehicle involved in the accident was plane.The vehicle sustained damage on its front.frame 240, The road had truck.The vehicle sustained damage on its front.frame 270, The road had plane.The vehicle sustained damage on its front.frame 300, The road had truck.The vehicle sustained damage on its front.frame 330, The road had cars.The vehicle involved in the accident was car.The vehicle sustained damage on its front.frame 360, The road had cars.The vehicle involved in the accident was car.The vehicle sustained damage on its left.frame 390, The number of vehicles are 3.The road had cars.The vehicle involved in the accident was car.The vehicle sustained damage on its front.frame 420, The number of vehicles are 2.The road had cars.The vehicle involved in the accident was car.The vehicle sustained damage on its left.frame 450, The road had cars.The vehicle involved in the accident was car.The vehicle sustained damage on its left.frame 480, The number of vehicles are 3.The road had cars.The vehicle involved in the accident was car.The vehicle sustained damage on its front.frame 510, The road had cars.The vehicle involved in the accident was car.The vehicle sustained damage on its front.frame 540, The road had airplane.The vehicle involved in the accident was plane.The vehicle sustained damage on its back.frame 570, The road had motorcycle.The vehicle involved in the accident was motorcycle.The vehicle sustained damage on its left.frame 600, The road had motorcycle.The vehicle involved in the accident was car.The vehicle sustained damage on its left.frame 630, The road had motorcycle.The vehicle involved in the accident was motorcycle.The vehicle sustained damage on its left.frame 660, The road had motorcycle.The vehicle involved in the accident was car.The vehicle sustained damage on its left.frame 690, The road had motorcycle.The vehicle involved in the accident was car.The vehicle sustained damage on its left.frame 720, The road had plane.The vehicle involved in the accident was car.The vehicle sustained damage on its left.frame 750, The road had truck.The vehicle sustained damage on its front.frame 780, The road had truck.The vehicle involved in the accident was car.The vehicle sustained damage on its front.frame 810, The road had truck.The vehicle involved in the accident was car.The vehicle sustained damage on its front.frame 840, The road had cars.The vehicle involved in the accident was car.The vehicle sustained damage on its front.frame 870, The number of vehicles are 3.The road had cars.The vehicle sustained damage on its front.frame 900, The road had cars.The vehicle involved in the accident was car.The vehicle sustained damage on its left.frame 930, The road had cars.The vehicle involved in the accident was car.The vehicle sustained damage on its front.frame 960, The number of vehicles are 3.The road had cars.The vehicle involved in the accident was car.The vehicle sustained damage on its left.frame 990, The number of vehicles are 3.The road had cars.The vehicle involved in the accident was car.The vehicle sustained damage on its left.frame 1020, The number of vehicles are 3.The road had cars.The vehicle involved in the accident was car.The vehicle sustained damage on its left.frame 1050, The road had cars.The vehicle involved in the accident was car.The vehicle sustained damage on its left.frame 1080, The road had cars.The vehicle involved in the accident was car.The vehicle sustained damage on its front.frame 1110, The road had cars.The vehicle involved in the accident was car.The vehicle sustained damage on its left.frame 1140, The number of vehicles are 3.The road had cars.The vehicle involved in the accident was car.The vehicle sustained damage on its front.frame 1170, The number of vehicles are 2.The road had cars.The vehicle involved in the accident was car.The vehicle sustained damage on its front.frame 1200, The road had cars.The vehicle involved in the accident was car.The vehicle sustained damage on its front.frame 1230, The road had cars.The vehicle involved in the accident was car.The vehicle sustained damage on its left.frame 1260, The number of vehicles are 2.The road had car.The vehicle involved in the accident was car.The vehicle sustained damage on its front.frame 1290, The road had airplane.The vehicle involved in the accident was plane.The vehicle sustained damage on its left.frame 1320, The road had planes.The vehicle involved in the accident was plane.The vehicle sustained damage on its left.frame 1350, The road had cars.The vehicle involved in the accident was plane.The vehicle sustained damage on its left.frame 1380, The road had cars.The vehicle involved in the accident was car.The vehicle sustained damage on its left.common for all frames, The accident occurred on highway.common for all frames, The accident took place at night.common for all frames, The accident happened under weather condition, clear.common for all frames, The incident took place during winter.\n",
            "CLIP_312.mp4\n"
          ]
        },
        {
          "output_type": "stream",
          "name": "stderr",
          "text": [
            "Processing Frames:  98%|█████████▊| 1380/1408 [06:06<00:07,  3.77frame/s]\n",
            "Processing Frames:   4%|▍         | 26/677 [00:00<00:05, 123.43frame/s]"
          ]
        },
        {
          "output_type": "stream",
          "name": "stdout",
          "text": [
            "\n"
          ]
        },
        {
          "output_type": "stream",
          "name": "stderr",
          "text": [
            "\rProcessing Frames:   6%|▌         | 41/677 [00:06<02:12,  4.79frame/s] "
          ]
        },
        {
          "output_type": "stream",
          "name": "stdout",
          "text": [
            "\n"
          ]
        },
        {
          "output_type": "stream",
          "name": "stderr",
          "text": [
            "\rProcessing Frames:   9%|▊         | 59/677 [00:15<03:22,  3.05frame/s]"
          ]
        },
        {
          "output_type": "stream",
          "name": "stdout",
          "text": [
            "\n"
          ]
        },
        {
          "output_type": "stream",
          "name": "stderr",
          "text": [
            "Processing Frames:  20%|██        | 136/677 [00:31<01:57,  4.62frame/s]"
          ]
        },
        {
          "output_type": "stream",
          "name": "stdout",
          "text": [
            "\n"
          ]
        },
        {
          "output_type": "stream",
          "name": "stderr",
          "text": [
            "Processing Frames:  25%|██▍       | 168/677 [00:39<01:34,  5.39frame/s]"
          ]
        },
        {
          "output_type": "stream",
          "name": "stdout",
          "text": [
            "\n"
          ]
        },
        {
          "output_type": "stream",
          "name": "stderr",
          "text": [
            "Processing Frames:  46%|████▌     | 313/677 [01:18<01:13,  4.99frame/s]"
          ]
        },
        {
          "output_type": "stream",
          "name": "stdout",
          "text": [
            "\n"
          ]
        },
        {
          "output_type": "stream",
          "name": "stderr",
          "text": [
            "Processing Frames:  85%|████████▌ | 578/677 [02:29<00:20,  4.94frame/s]"
          ]
        },
        {
          "output_type": "stream",
          "name": "stdout",
          "text": [
            "\n"
          ]
        },
        {
          "output_type": "stream",
          "name": "stderr",
          "text": [
            "\rProcessing Frames:  87%|████████▋ | 591/677 [02:36<00:24,  3.49frame/s]"
          ]
        },
        {
          "output_type": "stream",
          "name": "stdout",
          "text": [
            "{'The vehicle sustained damage on its back.', 'The number of vehicles are 3.', 'The vehicle sustained damage on its front.', 'The number of vehicles are 5.', 'The number of vehicles are 2.', 'The accident happened under weather condition, cloudy.', 'The road had trucks.', 'The accident occurred on street.', 'The road had car.', 'The accident took place at afternoon.', 'The vehicle sustained damage on its left.', 'The vehicle involved in the accident was car.', 'The vehicle involved in the accident was sign.', 'The road had cars.', 'The incident took place during summer.'}\n",
            "frame 29, The road had trucks.The vehicle involved in the accident was car.The vehicle sustained damage on its back.frame 58, The road had trucks.The vehicle involved in the accident was car.The vehicle sustained damage on its back.frame 87, The road had trucks.The vehicle involved in the accident was car.The vehicle sustained damage on its back.frame 116, The number of vehicles are 2.The road had cars.The vehicle involved in the accident was car.The vehicle sustained damage on its left.frame 145, The road had cars.The vehicle involved in the accident was car.The vehicle sustained damage on its left.frame 174, The road had car.The vehicle involved in the accident was car.The vehicle sustained damage on its front.frame 203, The number of vehicles are 2.The road had cars.The vehicle involved in the accident was car.The vehicle sustained damage on its front.frame 232, The number of vehicles are 2.The road had cars.The vehicle involved in the accident was car.The vehicle sustained damage on its front.frame 261, The number of vehicles are 2.The road had cars.The vehicle involved in the accident was car.The vehicle sustained damage on its front.frame 290, The number of vehicles are 2.The road had cars.The vehicle involved in the accident was car.The vehicle sustained damage on its front.frame 319, The road had cars.The vehicle involved in the accident was car.The vehicle sustained damage on its left.frame 348, The number of vehicles are 2.The road had cars.The vehicle involved in the accident was car.The vehicle sustained damage on its left.frame 377, The number of vehicles are 2.The road had cars.The vehicle involved in the accident was car.The vehicle sustained damage on its front.frame 406, The number of vehicles are 2.The road had cars.The vehicle involved in the accident was car.The vehicle sustained damage on its left.frame 435, The number of vehicles are 2.The road had cars.The vehicle involved in the accident was car.The vehicle sustained damage on its left.frame 464, The number of vehicles are 3.The road had cars.The vehicle involved in the accident was car.The vehicle sustained damage on its left.frame 493, The number of vehicles are 5.The road had cars.The vehicle involved in the accident was car.The vehicle sustained damage on its left.frame 522, The number of vehicles are 3.The road had cars.The vehicle involved in the accident was car.The vehicle sustained damage on its front.frame 551, The number of vehicles are 3.The road had cars.The vehicle involved in the accident was car.The vehicle sustained damage on its left.frame 580, The road had cars.The vehicle involved in the accident was sign.The vehicle sustained damage on its left.common for all frames, The accident occurred on street.common for all frames, The accident took place at afternoon.common for all frames, The accident happened under weather condition, cloudy.common for all frames, The incident took place during summer.\n",
            "CLIP_286.mp4\n"
          ]
        },
        {
          "output_type": "stream",
          "name": "stderr",
          "text": [
            "\n",
            "Processing Frames:   0%|          | 0/946 [00:00<?, ?frame/s]\u001b[A\n",
            "Processing Frames:  89%|████████▉ | 601/677 [02:36<00:19,  3.84frame/s]\n",
            "\n",
            "Processing Frames:   2%|▏         | 21/946 [00:00<00:08, 109.65frame/s]\u001b[A"
          ]
        },
        {
          "output_type": "stream",
          "name": "stdout",
          "text": [
            "\n"
          ]
        },
        {
          "output_type": "stream",
          "name": "stderr",
          "text": [
            "\n",
            "Processing Frames:   3%|▎         | 32/946 [00:08<05:13,  2.92frame/s] \u001b[A\n",
            "Processing Frames:   5%|▍         | 47/946 [00:08<02:46,  5.38frame/s]\u001b[A"
          ]
        },
        {
          "output_type": "stream",
          "name": "stdout",
          "text": [
            "\n"
          ]
        },
        {
          "output_type": "stream",
          "name": "stderr",
          "text": [
            "\n",
            "Processing Frames:   6%|▋         | 61/946 [00:16<04:56,  2.98frame/s]\u001b[A\n",
            "Processing Frames:   8%|▊         | 75/946 [00:16<03:10,  4.56frame/s]\u001b[A\n",
            "Processing Frames:   9%|▉         | 89/946 [00:16<02:06,  6.75frame/s]\u001b[A"
          ]
        },
        {
          "output_type": "stream",
          "name": "stdout",
          "text": [
            "\n"
          ]
        },
        {
          "output_type": "stream",
          "name": "stderr",
          "text": [
            "\n",
            "Processing Frames:  11%|█         | 100/946 [00:24<04:07,  3.41frame/s]\u001b[A"
          ]
        },
        {
          "output_type": "stream",
          "name": "stdout",
          "text": [
            "\n"
          ]
        },
        {
          "output_type": "stream",
          "name": "stderr",
          "text": [
            "\n",
            "Processing Frames:  13%|█▎        | 121/946 [00:32<04:38,  2.96frame/s]\u001b[A\n",
            "Processing Frames:  14%|█▍        | 137/946 [00:32<03:07,  4.30frame/s]\u001b[A"
          ]
        },
        {
          "output_type": "stream",
          "name": "stdout",
          "text": [
            "\n"
          ]
        },
        {
          "output_type": "stream",
          "name": "stderr",
          "text": [
            "\n",
            "Processing Frames:  16%|█▌        | 151/946 [00:39<04:08,  3.20frame/s]\u001b[A\n",
            "Processing Frames:  18%|█▊        | 171/946 [00:40<02:34,  5.01frame/s]\u001b[A"
          ]
        },
        {
          "output_type": "stream",
          "name": "stdout",
          "text": [
            "\n"
          ]
        },
        {
          "output_type": "stream",
          "name": "stderr",
          "text": [
            "\n",
            "Processing Frames:  19%|█▉        | 182/946 [00:48<04:12,  3.03frame/s]\u001b[A\n",
            "Processing Frames:  22%|██▏       | 205/946 [00:48<02:28,  5.00frame/s]\u001b[A"
          ]
        },
        {
          "output_type": "stream",
          "name": "stdout",
          "text": [
            "\n"
          ]
        },
        {
          "output_type": "stream",
          "name": "stderr",
          "text": [
            "\n",
            "Processing Frames:  23%|██▎       | 217/946 [00:55<03:29,  3.48frame/s]\u001b[A"
          ]
        },
        {
          "output_type": "stream",
          "name": "stdout",
          "text": [
            "\n"
          ]
        },
        {
          "output_type": "stream",
          "name": "stderr",
          "text": [
            "\n",
            "Processing Frames:  25%|██▌       | 241/946 [01:04<03:43,  3.16frame/s]\u001b[A\n",
            "Processing Frames:  28%|██▊       | 263/946 [01:04<02:23,  4.76frame/s]\u001b[A"
          ]
        },
        {
          "output_type": "stream",
          "name": "stdout",
          "text": [
            "\n"
          ]
        },
        {
          "output_type": "stream",
          "name": "stderr",
          "text": [
            "\n",
            "Processing Frames:  29%|██▉       | 274/946 [01:11<03:16,  3.43frame/s]\u001b[A\n",
            "Processing Frames:  31%|███▏      | 296/946 [01:11<02:02,  5.30frame/s]\u001b[A"
          ]
        },
        {
          "output_type": "stream",
          "name": "stdout",
          "text": [
            "\n"
          ]
        },
        {
          "output_type": "stream",
          "name": "stderr",
          "text": [
            "\n",
            "Processing Frames:  33%|███▎      | 308/946 [01:20<03:14,  3.28frame/s]\u001b[A\n",
            "Processing Frames:  35%|███▍      | 327/946 [01:20<02:07,  4.86frame/s]\u001b[A"
          ]
        },
        {
          "output_type": "stream",
          "name": "stdout",
          "text": [
            "\n"
          ]
        },
        {
          "output_type": "stream",
          "name": "stderr",
          "text": [
            "\n",
            "Processing Frames:  36%|███▌      | 339/946 [01:27<02:57,  3.43frame/s]\u001b[A"
          ]
        },
        {
          "output_type": "stream",
          "name": "stdout",
          "text": [
            "\n"
          ]
        },
        {
          "output_type": "stream",
          "name": "stderr",
          "text": [
            "\n",
            "Processing Frames:  38%|███▊      | 361/946 [01:36<03:14,  3.00frame/s]\u001b[A\n",
            "Processing Frames:  40%|████      | 382/946 [01:36<02:05,  4.51frame/s]\u001b[A"
          ]
        },
        {
          "output_type": "stream",
          "name": "stdout",
          "text": [
            "\n"
          ]
        },
        {
          "output_type": "stream",
          "name": "stderr",
          "text": [
            "\n",
            "Processing Frames:  42%|████▏     | 393/946 [01:43<02:51,  3.23frame/s]\u001b[A\n",
            "Processing Frames:  43%|████▎     | 407/946 [01:43<02:03,  4.38frame/s]\u001b[A"
          ]
        },
        {
          "output_type": "stream",
          "name": "stdout",
          "text": [
            "\n"
          ]
        },
        {
          "output_type": "stream",
          "name": "stderr",
          "text": [
            "\n",
            "Processing Frames:  45%|████▍     | 421/946 [01:52<02:57,  2.96frame/s]\u001b[A\n",
            "Processing Frames:  47%|████▋     | 445/946 [01:52<01:41,  4.93frame/s]\u001b[A"
          ]
        },
        {
          "output_type": "stream",
          "name": "stdout",
          "text": [
            "\n"
          ]
        },
        {
          "output_type": "stream",
          "name": "stderr",
          "text": [
            "\n",
            "Processing Frames:  48%|████▊     | 457/946 [02:00<02:28,  3.30frame/s]\u001b[A\n",
            "Processing Frames:  50%|████▉     | 471/946 [02:00<01:45,  4.49frame/s]\u001b[A"
          ]
        },
        {
          "output_type": "stream",
          "name": "stdout",
          "text": [
            "\n"
          ]
        },
        {
          "output_type": "stream",
          "name": "stderr",
          "text": [
            "\n",
            "Processing Frames:  51%|█████     | 481/946 [02:08<02:41,  2.88frame/s]\u001b[A\n",
            "Processing Frames:  53%|█████▎    | 500/946 [02:08<01:38,  4.54frame/s]\u001b[A"
          ]
        },
        {
          "output_type": "stream",
          "name": "stdout",
          "text": [
            "\n"
          ]
        },
        {
          "output_type": "stream",
          "name": "stderr",
          "text": [
            "\n",
            "Processing Frames:  54%|█████▍    | 511/946 [02:16<02:31,  2.87frame/s]\u001b[A\n",
            "Processing Frames:  55%|█████▌    | 524/946 [02:16<01:46,  3.97frame/s]\u001b[A\n",
            "Processing Frames:  57%|█████▋    | 540/946 [02:16<01:09,  5.88frame/s]\u001b[A"
          ]
        },
        {
          "output_type": "stream",
          "name": "stdout",
          "text": [
            "\n"
          ]
        },
        {
          "output_type": "stream",
          "name": "stderr",
          "text": [
            "\n",
            "Processing Frames:  58%|█████▊    | 551/946 [02:24<01:55,  3.43frame/s]\u001b[A"
          ]
        },
        {
          "output_type": "stream",
          "name": "stdout",
          "text": [
            "\n"
          ]
        },
        {
          "output_type": "stream",
          "name": "stderr",
          "text": [
            "\n",
            "Processing Frames:  60%|██████    | 571/946 [02:32<02:10,  2.87frame/s]\u001b[A\n",
            "Processing Frames:  62%|██████▏   | 591/946 [02:32<01:19,  4.44frame/s]\u001b[A"
          ]
        },
        {
          "output_type": "stream",
          "name": "stdout",
          "text": [
            "\n"
          ]
        },
        {
          "output_type": "stream",
          "name": "stderr",
          "text": [
            "\n",
            "Processing Frames:  64%|██████▎   | 601/946 [02:40<01:51,  3.09frame/s]\u001b[A\n",
            "Processing Frames:  66%|██████▌   | 624/946 [02:40<01:02,  5.11frame/s]\u001b[A"
          ]
        },
        {
          "output_type": "stream",
          "name": "stdout",
          "text": [
            "\n"
          ]
        },
        {
          "output_type": "stream",
          "name": "stderr",
          "text": [
            "\n",
            "Processing Frames:  67%|██████▋   | 636/946 [02:48<01:38,  3.13frame/s]\u001b[A\n",
            "Processing Frames:  70%|██████▉   | 659/946 [02:49<00:56,  5.06frame/s]\u001b[A"
          ]
        },
        {
          "output_type": "stream",
          "name": "stdout",
          "text": [
            "\n"
          ]
        },
        {
          "output_type": "stream",
          "name": "stderr",
          "text": [
            "\n",
            "Processing Frames:  71%|███████   | 672/946 [02:56<01:16,  3.59frame/s]\u001b[A"
          ]
        },
        {
          "output_type": "stream",
          "name": "stdout",
          "text": [
            "\n"
          ]
        },
        {
          "output_type": "stream",
          "name": "stderr",
          "text": [
            "\n",
            "Processing Frames:  73%|███████▎  | 691/946 [03:04<01:26,  2.95frame/s]\u001b[A\n",
            "Processing Frames:  76%|███████▌  | 715/946 [03:04<00:49,  4.69frame/s]\u001b[A"
          ]
        },
        {
          "output_type": "stream",
          "name": "stdout",
          "text": [
            "\n"
          ]
        },
        {
          "output_type": "stream",
          "name": "stderr",
          "text": [
            "\n",
            "Processing Frames:  77%|███████▋  | 727/946 [03:11<01:03,  3.45frame/s]\u001b[A\n",
            "Processing Frames:  79%|███████▉  | 750/946 [03:11<00:36,  5.39frame/s]\u001b[A"
          ]
        },
        {
          "output_type": "stream",
          "name": "stdout",
          "text": [
            "\n"
          ]
        },
        {
          "output_type": "stream",
          "name": "stderr",
          "text": [
            "\n",
            "Processing Frames:  81%|████████  | 763/946 [03:20<00:54,  3.37frame/s]\u001b[A"
          ]
        },
        {
          "output_type": "stream",
          "name": "stdout",
          "text": [
            "\n"
          ]
        },
        {
          "output_type": "stream",
          "name": "stderr",
          "text": [
            "\n",
            "Processing Frames:  83%|████████▎ | 781/946 [03:28<00:54,  3.00frame/s]\u001b[A\n",
            "Processing Frames:  84%|████████▍ | 798/946 [03:28<00:35,  4.23frame/s]\u001b[A"
          ]
        },
        {
          "output_type": "stream",
          "name": "stdout",
          "text": [
            "\n"
          ]
        },
        {
          "output_type": "stream",
          "name": "stderr",
          "text": [
            "\n",
            "Processing Frames:  86%|████████▌ | 811/946 [03:36<00:45,  2.98frame/s]\u001b[A\n",
            "Processing Frames:  88%|████████▊ | 830/946 [03:36<00:25,  4.46frame/s]\u001b[A"
          ]
        },
        {
          "output_type": "stream",
          "name": "stdout",
          "text": [
            "\n"
          ]
        },
        {
          "output_type": "stream",
          "name": "stderr",
          "text": [
            "\n",
            "Processing Frames:  89%|████████▉ | 841/946 [03:44<00:34,  3.03frame/s]\u001b[A\n",
            "Processing Frames:  91%|█████████ | 857/946 [03:44<00:20,  4.36frame/s]\u001b[A"
          ]
        },
        {
          "output_type": "stream",
          "name": "stdout",
          "text": [
            "\n"
          ]
        },
        {
          "output_type": "stream",
          "name": "stderr",
          "text": [
            "\n",
            "Processing Frames:  92%|█████████▏| 871/946 [03:52<00:24,  3.10frame/s]\u001b[A\n",
            "Processing Frames:  95%|█████████▍| 896/946 [03:52<00:09,  5.28frame/s]\u001b[A"
          ]
        },
        {
          "output_type": "stream",
          "name": "stdout",
          "text": [
            "\n"
          ]
        },
        {
          "output_type": "stream",
          "name": "stderr",
          "text": [
            "\n",
            "Processing Frames:  96%|█████████▌| 909/946 [04:00<00:10,  3.38frame/s]\u001b[A\n",
            "Processing Frames:  98%|█████████▊| 926/946 [04:00<00:04,  4.82frame/s]\u001b[A"
          ]
        },
        {
          "output_type": "stream",
          "name": "stdout",
          "text": [
            "{'The vehicle sustained damage on its back.', 'The accident happened under weather condition, clear.', 'The vehicle sustained damage on its front.', 'The number of vehicles are 2.', 'The accident took place at evening.', 'The accident occurred on highway.', 'The road had car.', 'The vehicle involved in the accident was bus.', 'The incident took place during winter.', 'The vehicle sustained damage on its left.', 'The vehicle involved in the accident was car.', 'The vehicle involved in the accident was sign.', 'The road had cars.', 'The road had bus.'}\n",
            "frame 30, The road had cars.The vehicle involved in the accident was sign.The vehicle sustained damage on its left.frame 60, The road had car.The vehicle involved in the accident was car.The vehicle sustained damage on its front.frame 90, The road had car.The vehicle involved in the accident was car.The vehicle sustained damage on its front.frame 120, The road had car.The vehicle involved in the accident was car.The vehicle sustained damage on its front.frame 150, The road had car.The vehicle involved in the accident was car.The vehicle sustained damage on its front.frame 180, The road had car.The vehicle involved in the accident was car.The vehicle sustained damage on its front.frame 210, The road had car.The vehicle involved in the accident was car.The vehicle sustained damage on its front.frame 240, The road had car.The vehicle involved in the accident was car.The vehicle sustained damage on its front.frame 270, The road had car.The vehicle involved in the accident was car.The vehicle sustained damage on its front.frame 300, The road had car.The vehicle involved in the accident was car.The vehicle sustained damage on its front.frame 330, The road had car.The vehicle involved in the accident was car.The vehicle sustained damage on its front.frame 360, The road had car.The vehicle involved in the accident was car.The vehicle sustained damage on its front.frame 390, The road had car.The vehicle involved in the accident was car.The vehicle sustained damage on its front.frame 420, The road had car.The vehicle involved in the accident was car.The vehicle sustained damage on its front.frame 450, The road had car.The vehicle involved in the accident was car.The vehicle sustained damage on its front.frame 480, The road had car.The vehicle involved in the accident was car.The vehicle sustained damage on its front.frame 510, The road had car.The vehicle involved in the accident was car.The vehicle sustained damage on its front.frame 540, The road had car.The vehicle involved in the accident was car.The vehicle sustained damage on its front.frame 570, The road had car.The vehicle involved in the accident was car.The vehicle sustained damage on its front.frame 600, The road had car.The vehicle involved in the accident was car.The vehicle sustained damage on its front.frame 630, The road had car.The vehicle involved in the accident was car.The vehicle sustained damage on its front.frame 660, The road had car.The vehicle involved in the accident was car.The vehicle sustained damage on its front.frame 690, The road had car.The vehicle involved in the accident was car.The vehicle sustained damage on its front.frame 720, The road had car.The vehicle involved in the accident was car.The vehicle sustained damage on its front.frame 750, The road had car.The vehicle involved in the accident was car.The vehicle sustained damage on its front.frame 780, The road had car.The vehicle involved in the accident was car.The vehicle sustained damage on its front.frame 810, The road had car.The vehicle involved in the accident was car.The vehicle sustained damage on its front.frame 840, The road had car.The vehicle involved in the accident was car.The vehicle sustained damage on its front.frame 870, The road had car.The vehicle involved in the accident was car.The vehicle sustained damage on its front.frame 900, The road had cars.The vehicle involved in the accident was car.The vehicle sustained damage on its left.frame 930, The number of vehicles are 2.The road had bus.The vehicle involved in the accident was bus.The vehicle sustained damage on its back.common for all frames, The accident occurred on highway.common for all frames, The accident took place at evening.common for all frames, The accident happened under weather condition, clear.common for all frames, The incident took place during winter.\n",
            "CLIP_301.mp4\n"
          ]
        },
        {
          "output_type": "stream",
          "name": "stderr",
          "text": [
            "Processing Frames:  98%|█████████▊| 931/946 [04:08<00:03,  3.75frame/s]\n",
            "Processing Frames:   3%|▎         | 23/890 [00:00<00:07, 116.09frame/s]"
          ]
        },
        {
          "output_type": "stream",
          "name": "stdout",
          "text": [
            "\n"
          ]
        },
        {
          "output_type": "stream",
          "name": "stderr",
          "text": [
            "\rProcessing Frames:   4%|▍         | 36/890 [00:08<04:16,  3.33frame/s] "
          ]
        },
        {
          "output_type": "stream",
          "name": "stdout",
          "text": [
            "\n"
          ]
        },
        {
          "output_type": "stream",
          "name": "stderr",
          "text": [
            "Processing Frames:  12%|█▏        | 106/890 [00:31<04:07,  3.17frame/s]"
          ]
        },
        {
          "output_type": "stream",
          "name": "stdout",
          "text": [
            "\n"
          ]
        },
        {
          "output_type": "stream",
          "name": "stderr",
          "text": [
            "\rProcessing Frames:  14%|█▎        | 121/890 [00:39<05:03,  2.54frame/s]"
          ]
        },
        {
          "output_type": "stream",
          "name": "stdout",
          "text": [
            "\n"
          ]
        },
        {
          "output_type": "stream",
          "name": "stderr",
          "text": [
            "Processing Frames:  39%|███▉      | 347/890 [01:51<03:08,  2.88frame/s]"
          ]
        },
        {
          "output_type": "stream",
          "name": "stdout",
          "text": [
            "\n"
          ]
        },
        {
          "output_type": "stream",
          "name": "stderr",
          "text": [
            "Processing Frames:  78%|███████▊  | 695/890 [03:41<00:45,  4.31frame/s]"
          ]
        },
        {
          "output_type": "stream",
          "name": "stdout",
          "text": [
            "\n"
          ]
        },
        {
          "output_type": "stream",
          "name": "stderr",
          "text": [
            "Processing Frames:  81%|████████  | 720/890 [03:49<00:41,  4.09frame/s]"
          ]
        },
        {
          "output_type": "stream",
          "name": "stdout",
          "text": [
            "\n"
          ]
        },
        {
          "output_type": "stream",
          "name": "stderr",
          "text": [
            "\rProcessing Frames:  82%|████████▏ | 730/890 [03:57<00:56,  2.81frame/s]"
          ]
        },
        {
          "output_type": "stream",
          "name": "stdout",
          "text": [
            "\n"
          ]
        },
        {
          "output_type": "stream",
          "name": "stderr",
          "text": [
            "Processing Frames:  85%|████████▌ | 760/890 [04:05<00:37,  3.44frame/s]"
          ]
        },
        {
          "output_type": "stream",
          "name": "stdout",
          "text": [
            "\n"
          ]
        },
        {
          "output_type": "stream",
          "name": "stderr",
          "text": [
            "\rProcessing Frames:  86%|████████▋ | 769/890 [04:12<00:47,  2.53frame/s]"
          ]
        },
        {
          "output_type": "stream",
          "name": "stdout",
          "text": [
            "\n"
          ]
        },
        {
          "output_type": "stream",
          "name": "stderr",
          "text": [
            "\rProcessing Frames:  89%|████████▉ | 793/890 [04:21<00:37,  2.61frame/s]"
          ]
        },
        {
          "output_type": "stream",
          "name": "stdout",
          "text": [
            "\n"
          ]
        },
        {
          "output_type": "stream",
          "name": "stderr",
          "text": [
            "\rProcessing Frames:  92%|█████████▏| 817/890 [04:28<00:25,  2.87frame/s]"
          ]
        },
        {
          "output_type": "stream",
          "name": "stdout",
          "text": [
            "\n"
          ]
        },
        {
          "output_type": "stream",
          "name": "stderr",
          "text": [
            "\rProcessing Frames:  94%|█████████▍| 841/890 [04:37<00:17,  2.82frame/s]"
          ]
        },
        {
          "output_type": "stream",
          "name": "stdout",
          "text": [
            "{'The vehicle sustained damage on its back.', 'The number of vehicles are 3.', 'The vehicle sustained damage on its front.', 'The number of vehicles are 2.', 'The vehicle involved in the accident was sign.', 'The road had trucks.', 'The accident happened under weather condition, cloudy.', 'The accident took place at evening.', 'The accident occurred on highway.', 'The vehicle involved in the accident was motorcycle.', 'The road had motorcycles.', 'The vehicle sustained damage on its left.', 'The vehicle involved in the accident was car.', 'The number of vehicles are 4.', 'The road had cars.', 'The incident took place during summer.'}\n",
            "frame 24, The road had cars.The vehicle involved in the accident was car.The vehicle sustained damage on its front.frame 48, The road had cars.The vehicle involved in the accident was car.The vehicle sustained damage on its back.frame 72, The number of vehicles are 3.The road had cars.The vehicle involved in the accident was car.The vehicle sustained damage on its back.frame 96, The number of vehicles are 3.The road had cars.The vehicle involved in the accident was car.The vehicle sustained damage on its back.frame 120, The road had cars.The vehicle involved in the accident was car.The vehicle sustained damage on its back.frame 144, The road had cars.The vehicle involved in the accident was car.The vehicle sustained damage on its back.frame 168, The number of vehicles are 2.The road had cars.The vehicle involved in the accident was car.The vehicle sustained damage on its left.frame 192, The number of vehicles are 3.The road had cars.The vehicle involved in the accident was car.The vehicle sustained damage on its left.frame 216, The number of vehicles are 3.The road had trucks.The vehicle involved in the accident was car.The vehicle sustained damage on its left.frame 240, The number of vehicles are 4.The road had cars.The vehicle involved in the accident was car.The vehicle sustained damage on its left.frame 264, The number of vehicles are 2.The road had cars.The vehicle involved in the accident was car.The vehicle sustained damage on its left.frame 288, The number of vehicles are 3.The road had cars.The vehicle involved in the accident was car.The vehicle sustained damage on its left.frame 312, The number of vehicles are 3.The road had trucks.The vehicle involved in the accident was car.The vehicle sustained damage on its left.frame 336, The number of vehicles are 2.The road had motorcycles.The vehicle involved in the accident was motorcycle.The vehicle sustained damage on its front.frame 360, The road had cars.The vehicle involved in the accident was car.The vehicle sustained damage on its front.frame 384, The number of vehicles are 3.The road had cars.The vehicle involved in the accident was car.The vehicle sustained damage on its left.frame 408, The number of vehicles are 3.The road had cars.The vehicle involved in the accident was car.The vehicle sustained damage on its front.frame 432, The number of vehicles are 3.The road had cars.The vehicle involved in the accident was car.The vehicle sustained damage on its left.frame 456, The number of vehicles are 3.The road had cars.The vehicle involved in the accident was car.The vehicle sustained damage on its left.frame 480, The number of vehicles are 4.The road had cars.The vehicle involved in the accident was car.The vehicle sustained damage on its left.frame 504, The number of vehicles are 3.The road had cars.The vehicle involved in the accident was car.The vehicle sustained damage on its left.frame 528, The number of vehicles are 2.The road had cars.The vehicle involved in the accident was car.The vehicle sustained damage on its left.frame 552, The number of vehicles are 3.The road had cars.The vehicle involved in the accident was car.The vehicle sustained damage on its left.frame 576, The number of vehicles are 3.The road had cars.The vehicle involved in the accident was car.The vehicle sustained damage on its left.frame 600, The number of vehicles are 3.The road had trucks.The vehicle involved in the accident was car.The vehicle sustained damage on its front.frame 624, The number of vehicles are 2.The road had cars.The vehicle involved in the accident was car.The vehicle sustained damage on its left.frame 648, The number of vehicles are 2.The road had cars.The vehicle involved in the accident was car.The vehicle sustained damage on its front.frame 672, The number of vehicles are 2.The road had cars.The vehicle involved in the accident was car.The vehicle sustained damage on its front.frame 696, The road had cars.The vehicle involved in the accident was car.The vehicle sustained damage on its front.frame 720, The road had cars.The vehicle involved in the accident was car.The vehicle sustained damage on its left.frame 744, The road had cars.The vehicle involved in the accident was car.The vehicle sustained damage on its back.frame 768, The road had cars.The vehicle involved in the accident was car.The vehicle sustained damage on its left.frame 792, The road had cars.The vehicle involved in the accident was car.The vehicle sustained damage on its back.frame 816, The road had cars.The vehicle involved in the accident was car.The vehicle sustained damage on its back.frame 840, The road had cars.The vehicle involved in the accident was sign.The vehicle sustained damage on its left.common for all frames, The accident occurred on highway.common for all frames, The accident took place at evening.common for all frames, The accident happened under weather condition, cloudy.common for all frames, The incident took place during summer.\n"
          ]
        }
      ]
    },
    {
      "cell_type": "code",
      "source": [
        "!zip -r /content/visualqa_output.zip /content/visualqa_output/"
      ],
      "metadata": {
        "colab": {
          "base_uri": "https://localhost:8080/"
        },
        "id": "g88BSIOu4qvM",
        "outputId": "b0c7b190-3ce5-4378-dcd1-a8781833d597"
      },
      "execution_count": null,
      "outputs": [
        {
          "output_type": "stream",
          "name": "stdout",
          "text": [
            "  adding: content/visualqa_output/ (stored 0%)\n",
            "  adding: content/visualqa_output/CLIP_298.txt (deflated 87%)\n",
            "  adding: content/visualqa_output/CLIP_322.txt (deflated 92%)\n",
            "  adding: content/visualqa_output/CLIP_315.txt (deflated 91%)\n",
            "  adding: content/visualqa_output/CLIP_286.txt (deflated 91%)\n",
            "  adding: content/visualqa_output/CLIP_341.txt (deflated 92%)\n",
            "  adding: content/visualqa_output/CLIP_261.txt (deflated 92%)\n",
            "  adding: content/visualqa_output/CLIP_289.txt (deflated 92%)\n",
            "  adding: content/visualqa_output/CLIP_283.txt (deflated 90%)\n",
            "  adding: content/visualqa_output/CLIP_324.txt (deflated 91%)\n",
            "  adding: content/visualqa_output/CLIP_304.txt (deflated 87%)\n",
            "  adding: content/visualqa_output/CLIP_264.txt (deflated 90%)\n",
            "  adding: content/visualqa_output/CLIP_301.txt (deflated 91%)\n",
            "  adding: content/visualqa_output/CLIP_308.txt (deflated 92%)\n",
            "  adding: content/visualqa_output/CLIP_312.txt (deflated 89%)\n",
            "  adding: content/visualqa_output/CLIP_336.txt (deflated 91%)\n",
            "  adding: content/visualqa_output/CLIP_271.txt (deflated 91%)\n",
            "  adding: content/visualqa_output/CLIP_311.txt (deflated 91%)\n",
            "  adding: content/visualqa_output/CLIP_307.txt (deflated 91%)\n",
            "  adding: content/visualqa_output/CLIP_252.txt (deflated 92%)\n"
          ]
        }
      ]
    }
  ]
}