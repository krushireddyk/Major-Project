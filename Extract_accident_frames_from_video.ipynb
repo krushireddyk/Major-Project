{
  "nbformat": 4,
  "nbformat_minor": 0,
  "metadata": {
    "colab": {
      "provenance": []
    },
    "kernelspec": {
      "name": "python3",
      "display_name": "Python 3"
    },
    "language_info": {
      "name": "python"
    }
  },
  "cells": [
    {
      "cell_type": "code",
      "source": [
        "!rm -rf appendFrames/\n",
        "!rm -rf appendedFrames/\n",
        "!rm -rf videos/\n",
        "!rm appendFrames.zip\n",
        "!rm appendedFrames.zip"
      ],
      "metadata": {
        "colab": {
          "base_uri": "https://localhost:8080/"
        },
        "id": "OOBGtz0U1_Ns",
        "outputId": "dc06b86f-78a4-46f7-c35e-472a1435302f"
      },
      "execution_count": null,
      "outputs": [
        {
          "output_type": "stream",
          "name": "stdout",
          "text": [
            "rm: cannot remove 'appendFrames.zip': No such file or directory\n",
            "rm: cannot remove 'appendedFrames.zip': No such file or directory\n"
          ]
        }
      ]
    },
    {
      "cell_type": "code",
      "source": [
        "!rm -rf appendFrames/CLIP_289/\n",
        "!rm -rf appendFrames/CLIP_298/\n",
        "!rm -rf appendFrames/CLIP_301/\n",
        "!rm -rf appendFrames/CLIP_304/\n",
        "!rm -rf appendFrames/CLIP_307/\n",
        "!rm -rf appendFrames/CLIP_308/\n",
        "!rm -rf appendFrames/CLIP_312/"
      ],
      "metadata": {
        "id": "3WdndUyDzfFF"
      },
      "execution_count": null,
      "outputs": []
    },
    {
      "cell_type": "code",
      "source": [
        "!mkdir appendFrames"
      ],
      "metadata": {
        "id": "vfb-C9CTnsRa"
      },
      "execution_count": null,
      "outputs": []
    },
    {
      "cell_type": "code",
      "execution_count": null,
      "metadata": {
        "colab": {
          "base_uri": "https://localhost:8080/"
        },
        "id": "cQiCzfp-hlIg",
        "outputId": "d54a940d-1498-4dbb-cbef-bd7926f219ca"
      },
      "outputs": [
        {
          "output_type": "stream",
          "name": "stdout",
          "text": [
            "CLIP_298.txt\n"
          ]
        },
        {
          "output_type": "stream",
          "name": "stderr",
          "text": [
            "\rProcessing Frames: 0frame [00:00, ?frame/s]"
          ]
        },
        {
          "output_type": "stream",
          "name": "stdout",
          "text": [
            "CLIP_322.mp4\n"
          ]
        },
        {
          "output_type": "stream",
          "name": "stderr",
          "text": [
            "\n",
            "Processing Frames: 0frame [00:00, ?frame/s]\n",
            "\n",
            "Processing Frames:   0%|          | 1/1348 [00:01<23:50,  1.06s/frame]\u001b[A\n",
            "Processing Frames:   1%|          | 16/1348 [00:01<01:11, 18.53frame/s]\u001b[A\n",
            "Processing Frames:   3%|▎         | 34/1348 [00:01<00:31, 41.63frame/s]\u001b[A\n",
            "Processing Frames:   4%|▍         | 51/1348 [00:01<00:20, 63.27frame/s]\u001b[A"
          ]
        },
        {
          "output_type": "stream",
          "name": "stdout",
          "text": [
            "CLIP_322.txt\n",
            "[Errno 17] File exists: '/content/appendFrames/CLIP_322/'\n"
          ]
        },
        {
          "output_type": "stream",
          "name": "stderr",
          "text": [
            "\rProcessing Frames: 0frame [00:00, ?frame/s]"
          ]
        },
        {
          "output_type": "stream",
          "name": "stdout",
          "text": [
            "CLIP_308.mp4\n"
          ]
        },
        {
          "output_type": "stream",
          "name": "stderr",
          "text": [
            "\n",
            "\n",
            "Processing Frames: 0frame [00:00, ?frame/s]\n",
            "Processing Frames:   5%|▍         | 61/1348 [00:01<00:33, 38.99frame/s]\n",
            "\n",
            "\n",
            "Processing Frames:   0%|          | 1/1350 [00:01<39:43,  1.77s/frame]\u001b[A\u001b[A\n",
            "\n",
            "Processing Frames:   1%|          | 14/1350 [00:01<02:10, 10.20frame/s]\u001b[A\u001b[A\n",
            "\n",
            "Processing Frames:   2%|▏         | 27/1350 [00:01<01:01, 21.66frame/s]\u001b[A\u001b[A\n",
            "\n",
            "Processing Frames:   3%|▎         | 37/1350 [00:02<00:42, 31.05frame/s]\u001b[A\u001b[A\n",
            "\n",
            "Processing Frames:   4%|▍         | 51/1350 [00:02<00:27, 46.96frame/s]\u001b[A\u001b[A"
          ]
        },
        {
          "output_type": "stream",
          "name": "stdout",
          "text": [
            "CLIP_315.txt\n"
          ]
        },
        {
          "output_type": "stream",
          "name": "stderr",
          "text": [
            "Processing Frames:   4%|▍         | 60/1350 [00:02<00:49, 26.08frame/s]\n"
          ]
        },
        {
          "output_type": "stream",
          "name": "stdout",
          "text": [
            "CLIP_311.mp4\n"
          ]
        },
        {
          "output_type": "stream",
          "name": "stderr",
          "text": [
            "\n",
            "Processing Frames: 0frame [00:00, ?frame/s]\n",
            "\n",
            "Processing Frames:   0%|          | 1/974 [00:00<14:05,  1.15frame/s]\u001b[A\n",
            "Processing Frames:   2%|▏         | 22/974 [00:00<00:31, 30.61frame/s]\u001b[A\n",
            "Processing Frames:   4%|▍         | 41/974 [00:01<00:16, 57.26frame/s]\u001b[A\n",
            "Processing Frames:   6%|▌         | 59/974 [00:01<00:11, 80.89frame/s]\u001b[A"
          ]
        },
        {
          "output_type": "stream",
          "name": "stdout",
          "text": [
            "CLIP_286.txt\n"
          ]
        },
        {
          "output_type": "stream",
          "name": "stderr",
          "text": [
            "\rProcessing Frames: 0frame [00:00, ?frame/s]"
          ]
        },
        {
          "output_type": "stream",
          "name": "stdout",
          "text": [
            "CLIP_289.mp4\n"
          ]
        },
        {
          "output_type": "stream",
          "name": "stderr",
          "text": [
            "\n",
            "\n",
            "Processing Frames:   6%|▌         | 60/974 [00:01<00:18, 49.30frame/s]\n",
            "Processing Frames: 0frame [00:00, ?frame/s]\n",
            "\n",
            "\n",
            "Processing Frames:   0%|          | 1/865 [00:00<09:05,  1.59frame/s]\u001b[A\u001b[A\n",
            "\n",
            "Processing Frames:   3%|▎         | 25/865 [00:00<00:19, 43.12frame/s]\u001b[A\u001b[A\n",
            "\n",
            "Processing Frames:   5%|▌         | 47/865 [00:00<00:10, 78.25frame/s]\u001b[A\u001b[A"
          ]
        },
        {
          "output_type": "stream",
          "name": "stdout",
          "text": [
            "CLIP_336.mp4\n"
          ]
        },
        {
          "output_type": "stream",
          "name": "stderr",
          "text": [
            "Processing Frames:   6%|▌         | 49/865 [00:01<00:16, 48.60frame/s]\n",
            "Processing Frames:   5%|▌         | 49/924 [00:02<00:20, 43.16frame/s]"
          ]
        },
        {
          "output_type": "stream",
          "name": "stdout",
          "text": [
            "CLIP_307.mp4\n"
          ]
        },
        {
          "output_type": "stream",
          "name": "stderr",
          "text": [
            "\n",
            "Processing Frames:   7%|▋         | 61/924 [00:02<00:32, 26.62frame/s]\n",
            "\n",
            "Processing Frames:   0%|          | 1/957 [00:01<25:06,  1.58s/frame]\u001b[A\n",
            "Processing Frames:   2%|▏         | 19/957 [00:01<01:00, 15.55frame/s]\u001b[A\n",
            "Processing Frames:   4%|▍         | 37/957 [00:01<00:28, 32.09frame/s]\u001b[A"
          ]
        },
        {
          "output_type": "stream",
          "name": "stdout",
          "text": [
            "CLIP_304.mp4\n"
          ]
        },
        {
          "output_type": "stream",
          "name": "stderr",
          "text": [
            "Processing Frames:   5%|▌         | 49/957 [00:01<00:36, 24.77frame/s]\n",
            "Processing Frames:   8%|▊         | 49/592 [00:02<00:12, 43.98frame/s]"
          ]
        },
        {
          "output_type": "stream",
          "name": "stdout",
          "text": [
            "CLIP_271.mp4\n"
          ]
        },
        {
          "output_type": "stream",
          "name": "stderr",
          "text": [
            "\n",
            "Processing Frames:   8%|▊         | 49/592 [00:02<00:25, 21.54frame/s]\n",
            "\n",
            "Processing Frames:   0%|          | 1/871 [00:02<31:16,  2.16s/frame]\u001b[A\n",
            "Processing Frames:   1%|          | 10/871 [00:02<02:23,  6.01frame/s]\u001b[A\n",
            "Processing Frames:   2%|▏         | 16/871 [00:02<01:22, 10.38frame/s]\u001b[A\n",
            "Processing Frames:   3%|▎         | 26/871 [00:02<00:43, 19.42frame/s]\u001b[A\n",
            "Processing Frames:   4%|▍         | 33/871 [00:02<00:32, 25.87frame/s]\u001b[A\n",
            "Processing Frames:   5%|▌         | 45/871 [00:02<00:20, 39.36frame/s]\u001b[A\n",
            "Processing Frames:   6%|▌         | 54/871 [00:02<00:17, 46.64frame/s]\u001b[A"
          ]
        },
        {
          "output_type": "stream",
          "name": "stdout",
          "text": [
            "CLIP_264.mp4\n"
          ]
        },
        {
          "output_type": "stream",
          "name": "stderr",
          "text": [
            "Processing Frames:   7%|▋         | 61/871 [00:02<00:39, 20.52frame/s]\n",
            "Processing Frames:   5%|▌         | 49/894 [00:01<00:17, 48.84frame/s]"
          ]
        },
        {
          "output_type": "stream",
          "name": "stdout",
          "text": [
            "CLIP_261.txt\n"
          ]
        },
        {
          "output_type": "stream",
          "name": "stderr",
          "text": [
            "\n",
            "Processing Frames: 0frame [00:00, ?frame/s]\u001b[A"
          ]
        },
        {
          "output_type": "stream",
          "name": "stdout",
          "text": [
            "CLIP_289.txt\n",
            "[Errno 17] File exists: '/content/appendFrames/CLIP_289/'\n"
          ]
        },
        {
          "output_type": "stream",
          "name": "stderr",
          "text": [
            "\n",
            "\n",
            "Processing Frames: 0frame [00:00, ?frame/s]\n"
          ]
        },
        {
          "output_type": "stream",
          "name": "stdout",
          "text": [
            "CLIP_283.mp4\n"
          ]
        },
        {
          "output_type": "stream",
          "name": "stderr",
          "text": [
            "\n",
            "Processing Frames: 0frame [00:00, ?frame/s]\n",
            "Processing Frames:   7%|▋         | 61/894 [00:01<00:22, 36.60frame/s]\n",
            "\n",
            "Processing Frames:   0%|          | 1/830 [00:01<14:07,  1.02s/frame]\u001b[A\n",
            "Processing Frames:   2%|▏         | 16/830 [00:01<00:42, 19.17frame/s]\u001b[A\n",
            "Processing Frames:   4%|▎         | 31/830 [00:01<00:20, 38.37frame/s]\u001b[A\n",
            "Processing Frames:   6%|▌         | 47/830 [00:01<00:13, 59.09frame/s]\u001b[A\n",
            "Processing Frames:   7%|▋         | 61/830 [00:01<00:10, 74.25frame/s]\u001b[A"
          ]
        },
        {
          "output_type": "stream",
          "name": "stdout",
          "text": [
            "CLIP_315.mp4\n",
            "[Errno 17] File exists: '/content/appendFrames/CLIP_315/'\n"
          ]
        },
        {
          "output_type": "stream",
          "name": "stderr",
          "text": [
            "Processing Frames:   7%|▋         | 61/830 [00:01<00:20, 37.26frame/s]\n",
            "Processing Frames:   6%|▋         | 59/922 [00:01<00:12, 66.99frame/s]"
          ]
        },
        {
          "output_type": "stream",
          "name": "stdout",
          "text": [
            "CLIP_283.txt\n",
            "[Errno 17] File exists: '/content/appendFrames/CLIP_283/'\n"
          ]
        },
        {
          "output_type": "stream",
          "name": "stderr",
          "text": [
            "\n",
            "Processing Frames: 0frame [00:00, ?frame/s]\u001b[A"
          ]
        },
        {
          "output_type": "stream",
          "name": "stdout",
          "text": [
            "CLIP_324.txt\n"
          ]
        },
        {
          "output_type": "stream",
          "name": "stderr",
          "text": [
            "\n",
            "\n",
            "Processing Frames: 0frame [00:00, ?frame/s]\n"
          ]
        },
        {
          "output_type": "stream",
          "name": "stdout",
          "text": [
            "CLIP_304.txt\n",
            "[Errno 17] File exists: '/content/appendFrames/CLIP_304/'\n"
          ]
        },
        {
          "output_type": "stream",
          "name": "stderr",
          "text": [
            "\n",
            "Processing Frames: 0frame [00:00, ?frame/s]\n"
          ]
        },
        {
          "output_type": "stream",
          "name": "stdout",
          "text": [
            "CLIP_298.mp4\n",
            "[Errno 17] File exists: '/content/appendFrames/CLIP_298/'\n"
          ]
        },
        {
          "output_type": "stream",
          "name": "stderr",
          "text": [
            "\n",
            "\n",
            "Processing Frames: 0frame [00:00, ?frame/s]\n",
            "Processing Frames:   7%|▋         | 60/922 [00:01<00:22, 37.84frame/s]\n",
            "\n",
            "\n",
            "Processing Frames:   0%|          | 1/622 [00:00<09:50,  1.05frame/s]\u001b[A\u001b[A\n",
            "\n",
            "Processing Frames:   3%|▎         | 20/622 [00:01<00:23, 25.59frame/s]\u001b[A\u001b[A\n",
            "\n",
            "Processing Frames:   6%|▌         | 37/622 [00:01<00:12, 47.05frame/s]\u001b[A\u001b[A"
          ]
        },
        {
          "output_type": "stream",
          "name": "stdout",
          "text": [
            "CLIP_261.mp4\n",
            "[Errno 17] File exists: '/content/appendFrames/CLIP_261/'\n"
          ]
        },
        {
          "output_type": "stream",
          "name": "stderr",
          "text": [
            "Processing Frames:   8%|▊         | 49/622 [00:01<00:16, 34.42frame/s]\n",
            "Processing Frames:   6%|▌         | 59/1048 [00:01<00:18, 53.17frame/s]"
          ]
        },
        {
          "output_type": "stream",
          "name": "stdout",
          "text": [
            "CLIP_264.txt\n",
            "[Errno 17] File exists: '/content/appendFrames/CLIP_264/'\n"
          ]
        },
        {
          "output_type": "stream",
          "name": "stderr",
          "text": [
            "\n",
            "Processing Frames: 0frame [00:00, ?frame/s]\u001b[A"
          ]
        },
        {
          "output_type": "stream",
          "name": "stdout",
          "text": [
            "CLIP_301.txt\n"
          ]
        },
        {
          "output_type": "stream",
          "name": "stderr",
          "text": [
            "\n",
            "\n",
            "Processing Frames: 0frame [00:00, ?frame/s]\n"
          ]
        },
        {
          "output_type": "stream",
          "name": "stdout",
          "text": [
            "CLIP_252.mp4\n"
          ]
        },
        {
          "output_type": "stream",
          "name": "stderr",
          "text": [
            "\n",
            "Processing Frames: 0frame [00:00, ?frame/s]\n",
            "Processing Frames:   6%|▌         | 61/1048 [00:02<00:34, 28.23frame/s]\n",
            "\n",
            "Processing Frames:   0%|          | 1/1286 [00:00<19:39,  1.09frame/s]\u001b[A\n",
            "Processing Frames:   1%|▏         | 19/1286 [00:01<00:50, 25.07frame/s]\u001b[A\n",
            "Processing Frames:   3%|▎         | 38/1286 [00:01<00:24, 51.34frame/s]\u001b[A\n",
            "Processing Frames:   4%|▍         | 57/1286 [00:01<00:15, 76.88frame/s]\u001b[A"
          ]
        },
        {
          "output_type": "stream",
          "name": "stdout",
          "text": [
            "CLIP_308.txt\n",
            "[Errno 17] File exists: '/content/appendFrames/CLIP_308/'\n"
          ]
        },
        {
          "output_type": "stream",
          "name": "stderr",
          "text": [
            "\rProcessing Frames: 0frame [00:00, ?frame/s]"
          ]
        },
        {
          "output_type": "stream",
          "name": "stdout",
          "text": [
            "CLIP_324.mp4\n",
            "[Errno 17] File exists: '/content/appendFrames/CLIP_324/'\n"
          ]
        },
        {
          "output_type": "stream",
          "name": "stderr",
          "text": [
            "\n",
            "\n",
            "Processing Frames:   5%|▍         | 61/1286 [00:01<00:26, 46.58frame/s]\n",
            "Processing Frames: 0frame [00:00, ?frame/s]\n",
            "\n",
            "\n",
            "Processing Frames:   0%|          | 1/1408 [00:02<1:03:37,  2.71s/frame]\u001b[A\u001b[A\n",
            "\n",
            "Processing Frames:   1%|          | 15/1408 [00:02<03:09,  7.33frame/s] \u001b[A\u001b[A\n",
            "\n",
            "Processing Frames:   2%|▏         | 25/1408 [00:02<01:42, 13.44frame/s]\u001b[A\u001b[A\n",
            "\n",
            "Processing Frames:   2%|▏         | 34/1408 [00:03<01:09, 19.88frame/s]\u001b[A\u001b[A\n",
            "\n",
            "Processing Frames:   3%|▎         | 46/1408 [00:03<00:45, 29.88frame/s]\u001b[A\u001b[A\n",
            "\n",
            "Processing Frames:   4%|▍         | 57/1408 [00:03<00:33, 40.25frame/s]\u001b[A\u001b[A"
          ]
        },
        {
          "output_type": "stream",
          "name": "stdout",
          "text": [
            "CLIP_312.mp4\n"
          ]
        },
        {
          "output_type": "stream",
          "name": "stderr",
          "text": [
            "Processing Frames:   4%|▍         | 61/1408 [00:03<01:15, 17.80frame/s]\n",
            "Processing Frames:   9%|▊         | 59/677 [00:02<00:10, 58.17frame/s]"
          ]
        },
        {
          "output_type": "stream",
          "name": "stdout",
          "text": [
            "CLIP_312.txt\n",
            "[Errno 17] File exists: '/content/appendFrames/CLIP_312/'\n"
          ]
        },
        {
          "output_type": "stream",
          "name": "stderr",
          "text": [
            "\n",
            "Processing Frames:   9%|▉         | 60/677 [00:02<00:21, 28.81frame/s]\n"
          ]
        },
        {
          "output_type": "stream",
          "name": "stdout",
          "text": [
            "CLIP_286.mp4\n",
            "[Errno 17] File exists: '/content/appendFrames/CLIP_286/'\n"
          ]
        },
        {
          "output_type": "stream",
          "name": "stderr",
          "text": [
            "Processing Frames: 0frame [00:00, ?frame/s]\n",
            "Processing Frames:   5%|▍         | 46/946 [00:00<00:12, 70.99frame/s]"
          ]
        },
        {
          "output_type": "stream",
          "name": "stdout",
          "text": [
            "CLIP_336.txt\n",
            "[Errno 17] File exists: '/content/appendFrames/CLIP_336/'\n"
          ]
        },
        {
          "output_type": "stream",
          "name": "stderr",
          "text": [
            "\n",
            "Processing Frames:   6%|▋         | 61/946 [00:01<00:14, 60.74frame/s]\n"
          ]
        },
        {
          "output_type": "stream",
          "name": "stdout",
          "text": [
            "CLIP_301.mp4\n",
            "[Errno 17] File exists: '/content/appendFrames/CLIP_301/'\n"
          ]
        },
        {
          "output_type": "stream",
          "name": "stderr",
          "text": [
            "Processing Frames: 0frame [00:00, ?frame/s]\n",
            "Processing Frames:   4%|▍         | 40/890 [00:01<00:14, 59.11frame/s]"
          ]
        },
        {
          "output_type": "stream",
          "name": "stdout",
          "text": [
            "CLIP_271.txt\n",
            "[Errno 17] File exists: '/content/appendFrames/CLIP_271/'\n"
          ]
        },
        {
          "output_type": "stream",
          "name": "stderr",
          "text": [
            "\n",
            "Processing Frames: 0frame [00:00, ?frame/s]\u001b[A"
          ]
        },
        {
          "output_type": "stream",
          "name": "stdout",
          "text": [
            "CLIP_311.txt\n",
            "[Errno 17] File exists: '/content/appendFrames/CLIP_311/'\n"
          ]
        },
        {
          "output_type": "stream",
          "name": "stderr",
          "text": [
            "\n",
            "\n",
            "Processing Frames: 0frame [00:00, ?frame/s]\n"
          ]
        },
        {
          "output_type": "stream",
          "name": "stdout",
          "text": [
            "CLIP_307.txt\n",
            "[Errno 17] File exists: '/content/appendFrames/CLIP_307/'\n"
          ]
        },
        {
          "output_type": "stream",
          "name": "stderr",
          "text": [
            "\n",
            "Processing Frames: 0frame [00:00, ?frame/s]\n"
          ]
        },
        {
          "output_type": "stream",
          "name": "stdout",
          "text": [
            "CLIP_252.txt\n",
            "[Errno 17] File exists: '/content/appendFrames/CLIP_252/'\n"
          ]
        },
        {
          "output_type": "stream",
          "name": "stderr",
          "text": [
            "\n",
            "\n",
            "Processing Frames: 0frame [00:00, ?frame/s]\n"
          ]
        }
      ],
      "source": [
        "import cv2\n",
        "from tqdm import tqdm\n",
        "import os\n",
        "\n",
        "directory_path = '/content/videos'\n",
        "directory_files = os.listdir(directory_path)\n",
        "for video in directory_files:\n",
        "  print(video)\n",
        "  try:\n",
        "    os.mkdir(\"/content/appendFrames/\"+video.split(\".\")[0]+\"/\")\n",
        "  except OSError as error:\n",
        "    print(error)\n",
        "  with open(directory_path + \"/\" + video.split(\".\")[0] + \".txt\") as f:\n",
        "      times = f.readlines()\n",
        "\n",
        "  times = [x.strip() for x in times]\n",
        "  times = times[0]\n",
        "  times = times.split(\",\")\n",
        "  start_time_ms = int(times[0])\n",
        "  stop_time_ms = int(times[1])\n",
        "  second = 100\n",
        "  vidcap = cv2.VideoCapture(directory_path+\"/\" + video)\n",
        "\n",
        "  # Get the frame rate of the video\n",
        "  fps = vidcap.get(cv2.CAP_PROP_FPS)\n",
        "\n",
        "  # Define the desired frame interval (e.g., every second)\n",
        "  frame_interval = int(fps)  # Extract one frame per second\n",
        "  frame_interval = frame_interval/2\n",
        "\n",
        "  # Get the total number of frames in the video\n",
        "  total_frames = int(vidcap.get(cv2.CAP_PROP_FRAME_COUNT))\n",
        "\n",
        "  # Create a tqdm progress bar\n",
        "  progress_bar = tqdm(total=total_frames, desc='Processing Frames', unit='frame')\n",
        "\n",
        "  count = 0\n",
        "  success = True\n",
        "  progress = 0\n",
        "  while success and vidcap.get(cv2.CAP_PROP_POS_MSEC) < start_time_ms:\n",
        "      success, image = vidcap.read()\n",
        "  #print(start_time_ms)\n",
        "  #print(vidcap.get(cv2.CAP_PROP_POS_MSEC))\n",
        "  #print(stop_time_ms)\n",
        "  while success and vidcap.get(cv2.CAP_PROP_POS_MSEC) <= stop_time_ms:\n",
        "    count = count + 1\n",
        "    #print(vidcap.get(cv2.CAP_PROP_POS_MSEC))\n",
        "    time = vidcap.get(cv2.CAP_PROP_POS_MSEC)\n",
        "    success, image = vidcap.read()\n",
        "    if success == True:\n",
        "      progress_bar.update(1)\n",
        "      progress = progress + 1\n",
        "      if(progress > total_frames):\n",
        "        break\n",
        "      if count%(frame_interval) == 0:\n",
        "        cv2.imwrite(\"/content/appendFrames/\"+video.split(\".\")[0]+\"/frame\"+str(count)+\".jpg\", image)\n",
        "        start_time_ms = start_time_ms + second\n",
        "\n",
        "  # When everything done, release\n",
        "  # the video capture object\n",
        "  vidcap.release()\n",
        "\n",
        "  # Closes all the frames\n",
        "  cv2.destroyAllWindows()"
      ]
    },
    {
      "cell_type": "code",
      "source": [
        "!zip -r /content/appendFrames.zip /content/appendFrames/"
      ],
      "metadata": {
        "colab": {
          "base_uri": "https://localhost:8080/"
        },
        "id": "OjuEOl1Q0aGj",
        "outputId": "ac8ad7f7-d0c0-4c69-b207-d1b3010954a6"
      },
      "execution_count": null,
      "outputs": [
        {
          "output_type": "stream",
          "name": "stdout",
          "text": [
            "  adding: content/appendFrames/ (stored 0%)\n",
            "  adding: content/appendFrames/CLIP_286/ (stored 0%)\n",
            "  adding: content/appendFrames/CLIP_286/frame60.jpg (deflated 0%)\n",
            "  adding: content/appendFrames/CLIP_286/frame45.jpg (deflated 0%)\n",
            "  adding: content/appendFrames/CLIP_286/frame30.jpg (deflated 0%)\n",
            "  adding: content/appendFrames/CLIP_286/frame15.jpg (deflated 0%)\n",
            "  adding: content/appendFrames/CLIP_308/ (stored 0%)\n",
            "  adding: content/appendFrames/CLIP_308/frame29.jpg (deflated 0%)\n",
            "  adding: content/appendFrames/CLIP_308/frame58.jpg (deflated 0%)\n",
            "  adding: content/appendFrames/CLIP_322/ (stored 0%)\n",
            "  adding: content/appendFrames/CLIP_322/frame60.jpg (deflated 4%)\n",
            "  adding: content/appendFrames/CLIP_322/frame45.jpg (deflated 4%)\n",
            "  adding: content/appendFrames/CLIP_322/frame30.jpg (deflated 4%)\n",
            "  adding: content/appendFrames/CLIP_322/frame15.jpg (deflated 4%)\n",
            "  adding: content/appendFrames/CLIP_312/ (stored 0%)\n",
            "  adding: content/appendFrames/CLIP_312/frame29.jpg (deflated 1%)\n",
            "  adding: content/appendFrames/CLIP_312/frame58.jpg (deflated 0%)\n",
            "  adding: content/appendFrames/CLIP_336/ (stored 0%)\n",
            "  adding: content/appendFrames/CLIP_336/frame60.jpg (deflated 1%)\n",
            "  adding: content/appendFrames/CLIP_336/frame45.jpg (deflated 1%)\n",
            "  adding: content/appendFrames/CLIP_336/frame30.jpg (deflated 1%)\n",
            "  adding: content/appendFrames/CLIP_336/frame15.jpg (deflated 1%)\n",
            "  adding: content/appendFrames/CLIP_271/ (stored 0%)\n",
            "  adding: content/appendFrames/CLIP_271/frame60.jpg (deflated 0%)\n",
            "  adding: content/appendFrames/CLIP_271/frame45.jpg (deflated 0%)\n",
            "  adding: content/appendFrames/CLIP_271/frame30.jpg (deflated 0%)\n",
            "  adding: content/appendFrames/CLIP_271/frame15.jpg (deflated 0%)\n",
            "  adding: content/appendFrames/CLIP_307/ (stored 0%)\n",
            "  adding: content/appendFrames/CLIP_307/frame48.jpg (deflated 1%)\n",
            "  adding: content/appendFrames/CLIP_307/frame24.jpg (deflated 1%)\n",
            "  adding: content/appendFrames/CLIP_307/frame12.jpg (deflated 1%)\n",
            "  adding: content/appendFrames/CLIP_307/frame36.jpg (deflated 1%)\n",
            "  adding: content/appendFrames/CLIP_315/ (stored 0%)\n",
            "  adding: content/appendFrames/CLIP_315/frame29.jpg (deflated 0%)\n",
            "  adding: content/appendFrames/CLIP_315/frame58.jpg (deflated 0%)\n",
            "  adding: content/appendFrames/CLIP_301/ (stored 0%)\n",
            "  adding: content/appendFrames/CLIP_301/frame48.jpg (deflated 1%)\n",
            "  adding: content/appendFrames/CLIP_301/frame24.jpg (deflated 1%)\n",
            "  adding: content/appendFrames/CLIP_301/frame12.jpg (deflated 1%)\n",
            "  adding: content/appendFrames/CLIP_301/frame36.jpg (deflated 1%)\n",
            "  adding: content/appendFrames/CLIP_252/ (stored 0%)\n",
            "  adding: content/appendFrames/CLIP_252/frame60.jpg (deflated 1%)\n",
            "  adding: content/appendFrames/CLIP_252/frame45.jpg (deflated 3%)\n",
            "  adding: content/appendFrames/CLIP_252/frame30.jpg (deflated 1%)\n",
            "  adding: content/appendFrames/CLIP_252/frame15.jpg (deflated 2%)\n",
            "  adding: content/appendFrames/CLIP_264/ (stored 0%)\n",
            "  adding: content/appendFrames/CLIP_264/frame60.jpg (deflated 2%)\n",
            "  adding: content/appendFrames/CLIP_264/frame45.jpg (deflated 2%)\n",
            "  adding: content/appendFrames/CLIP_264/frame30.jpg (deflated 3%)\n",
            "  adding: content/appendFrames/CLIP_264/frame15.jpg (deflated 3%)\n",
            "  adding: content/appendFrames/CLIP_289/ (stored 0%)\n",
            "  adding: content/appendFrames/CLIP_289/frame48.jpg (deflated 0%)\n",
            "  adding: content/appendFrames/CLIP_289/frame24.jpg (deflated 0%)\n",
            "  adding: content/appendFrames/CLIP_289/frame12.jpg (deflated 1%)\n",
            "  adding: content/appendFrames/CLIP_289/frame36.jpg (deflated 0%)\n",
            "  adding: content/appendFrames/CLIP_324/ (stored 0%)\n",
            "  adding: content/appendFrames/CLIP_324/frame60.jpg (deflated 5%)\n",
            "  adding: content/appendFrames/CLIP_324/frame45.jpg (deflated 5%)\n",
            "  adding: content/appendFrames/CLIP_324/frame30.jpg (deflated 5%)\n",
            "  adding: content/appendFrames/CLIP_324/frame15.jpg (deflated 6%)\n",
            "  adding: content/appendFrames/CLIP_283/ (stored 0%)\n",
            "  adding: content/appendFrames/CLIP_283/frame60.jpg (deflated 0%)\n",
            "  adding: content/appendFrames/CLIP_283/frame45.jpg (deflated 0%)\n",
            "  adding: content/appendFrames/CLIP_283/frame30.jpg (deflated 0%)\n",
            "  adding: content/appendFrames/CLIP_283/frame15.jpg (deflated 1%)\n",
            "  adding: content/appendFrames/CLIP_311/ (stored 0%)\n",
            "  adding: content/appendFrames/CLIP_311/frame29.jpg (deflated 3%)\n",
            "  adding: content/appendFrames/CLIP_311/frame58.jpg (deflated 1%)\n",
            "  adding: content/appendFrames/CLIP_261/ (stored 0%)\n",
            "  adding: content/appendFrames/CLIP_261/frame60.jpg (deflated 1%)\n",
            "  adding: content/appendFrames/CLIP_261/frame45.jpg (deflated 1%)\n",
            "  adding: content/appendFrames/CLIP_261/frame30.jpg (deflated 1%)\n",
            "  adding: content/appendFrames/CLIP_261/frame15.jpg (deflated 2%)\n",
            "  adding: content/appendFrames/CLIP_304/ (stored 0%)\n",
            "  adding: content/appendFrames/CLIP_304/frame48.jpg (deflated 0%)\n",
            "  adding: content/appendFrames/CLIP_304/frame24.jpg (deflated 0%)\n",
            "  adding: content/appendFrames/CLIP_304/frame12.jpg (deflated 0%)\n",
            "  adding: content/appendFrames/CLIP_304/frame36.jpg (deflated 0%)\n",
            "  adding: content/appendFrames/CLIP_298/ (stored 0%)\n",
            "  adding: content/appendFrames/CLIP_298/frame48.jpg (deflated 0%)\n",
            "  adding: content/appendFrames/CLIP_298/frame24.jpg (deflated 0%)\n",
            "  adding: content/appendFrames/CLIP_298/frame12.jpg (deflated 1%)\n",
            "  adding: content/appendFrames/CLIP_298/frame36.jpg (deflated 0%)\n"
          ]
        }
      ]
    },
    {
      "cell_type": "code",
      "source": [
        "#side by side 4 images\n",
        "from PIL import Image\n",
        "import matplotlib.pyplot as plt\n",
        "import numpy as np\n",
        "\n",
        "directory_path = '/content/appendFrames'\n",
        "#frame_files = ['frame15.jpg', 'frame30.jpg', 'frame45.jpg', 'frame60.jpg']\n",
        "frame_files = ['frame29.jpg', 'frame58.jpg']\n",
        "#frame_files = ['frame12.jpg', 'frame24.jpg', 'frame36.jpg', 'frame48.jpg']\n",
        "directory_files = os.listdir(directory_path)\n",
        "try:\n",
        "  os.mkdir(\"/content/appendedFrames/\")\n",
        "except OSError as error:\n",
        "  print(error)\n",
        "for video in directory_files:\n",
        "  # Open your images\n",
        "  images = [Image.open(directory_path + \"/\" + video + \"/\" + path) if os.path.exists(directory_path + \"/\" + video + \"/\" + path) else None for path in frame_files]\n",
        "  if images == [None, None, None, None]:\n",
        "    continue\n",
        "  # Set the size of the output image\n",
        "  output_width = sum(img.width for img in images)\n",
        "  output_height = max(img.height for img in images)\n",
        "\n",
        "  # Create a blank image with the calculated size\n",
        "  output_image = Image.new(\"RGB\", (output_width, output_height), (255, 255, 255))\n",
        "\n",
        "  # Paste each image side by side\n",
        "  x_offset = 0\n",
        "  for img in images:\n",
        "      output_image.paste(img, (x_offset, 0))\n",
        "      x_offset += img.width\n",
        "\n",
        "  # Display the output image\n",
        "  output_image.show()\n",
        "\n",
        "  # If you want to save the result\n",
        "  output_image.save(\"/content/appendedFrames/\"+\"AF_\" + video + \".jpg\")\n"
      ],
      "metadata": {
        "id": "yptpbN2OLtDa",
        "colab": {
          "base_uri": "https://localhost:8080/"
        },
        "outputId": "72259301-0734-405b-9a3b-82fc06fdfbc3"
      },
      "execution_count": null,
      "outputs": [
        {
          "output_type": "stream",
          "name": "stdout",
          "text": [
            "[Errno 17] File exists: '/content/appendedFrames/'\n"
          ]
        }
      ]
    },
    {
      "cell_type": "code",
      "source": [
        "!zip -r /content/appendedFrames.zip /content/appendedFrames/"
      ],
      "metadata": {
        "id": "J8-Wis3f8-El",
        "outputId": "cee29ce7-2fbe-46b2-b1ab-41e89f7452d9",
        "colab": {
          "base_uri": "https://localhost:8080/"
        }
      },
      "execution_count": null,
      "outputs": [
        {
          "output_type": "stream",
          "name": "stdout",
          "text": [
            "  adding: content/appendedFrames/ (stored 0%)\n",
            "  adding: content/appendedFrames/AF_CLIP_271.jpg (deflated 0%)\n",
            "  adding: content/appendedFrames/AF_CLIP_312.jpg (deflated 2%)\n",
            "  adding: content/appendedFrames/AF_CLIP_307.jpg (deflated 4%)\n",
            "  adding: content/appendedFrames/AF_CLIP_261.jpg (deflated 6%)\n",
            "  adding: content/appendedFrames/AF_CLIP_252.jpg (deflated 11%)\n",
            "  adding: content/appendedFrames/AF_CLIP_286.jpg (deflated 6%)\n",
            "  adding: content/appendedFrames/AF_CLIP_322.jpg (deflated 11%)\n",
            "  adding: content/appendedFrames/AF_CLIP_324.jpg (deflated 19%)\n",
            "  adding: content/appendedFrames/AF_CLIP_311.jpg (deflated 10%)\n",
            "  adding: content/appendedFrames/AF_CLIP_308.jpg (deflated 1%)\n",
            "  adding: content/appendedFrames/AF_CLIP_298.jpg (deflated 2%)\n",
            "  adding: content/appendedFrames/AF_CLIP_283.jpg (deflated 2%)\n",
            "  adding: content/appendedFrames/AF_CLIP_289.jpg (deflated 10%)\n",
            "  adding: content/appendedFrames/AF_CLIP_336.jpg (deflated 3%)\n",
            "  adding: content/appendedFrames/AF_CLIP_315.jpg (deflated 1%)\n",
            "  adding: content/appendedFrames/AF_CLIP_301.jpg (deflated 8%)\n",
            "  adding: content/appendedFrames/AF_CLIP_304.jpg (deflated 2%)\n",
            "  adding: content/appendedFrames/AF_CLIP_264.jpg (deflated 10%)\n"
          ]
        }
      ]
    }
  ]
}