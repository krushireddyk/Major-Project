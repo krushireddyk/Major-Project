{
  "cells": [
    {
      "cell_type": "code",
      "execution_count": null,
      "metadata": {
        "colab": {
          "base_uri": "https://localhost:8080/"
        },
        "id": "8WhVBLvUeoYs",
        "outputId": "8119334d-b786-49c3-bc80-48f43820cd96"
      },
      "outputs": [
        {
          "output_type": "stream",
          "name": "stdout",
          "text": [
            "Requirement already satisfied: transformers in /usr/local/lib/python3.10/dist-packages (4.35.2)\n",
            "Requirement already satisfied: filelock in /usr/local/lib/python3.10/dist-packages (from transformers) (3.13.1)\n",
            "Requirement already satisfied: huggingface-hub<1.0,>=0.16.4 in /usr/local/lib/python3.10/dist-packages (from transformers) (0.19.3)\n",
            "Requirement already satisfied: numpy>=1.17 in /usr/local/lib/python3.10/dist-packages (from transformers) (1.23.5)\n",
            "Requirement already satisfied: packaging>=20.0 in /usr/local/lib/python3.10/dist-packages (from transformers) (23.2)\n",
            "Requirement already satisfied: pyyaml>=5.1 in /usr/local/lib/python3.10/dist-packages (from transformers) (6.0.1)\n",
            "Requirement already satisfied: regex!=2019.12.17 in /usr/local/lib/python3.10/dist-packages (from transformers) (2023.6.3)\n",
            "Requirement already satisfied: requests in /usr/local/lib/python3.10/dist-packages (from transformers) (2.31.0)\n",
            "Requirement already satisfied: tokenizers<0.19,>=0.14 in /usr/local/lib/python3.10/dist-packages (from transformers) (0.15.0)\n",
            "Requirement already satisfied: safetensors>=0.3.1 in /usr/local/lib/python3.10/dist-packages (from transformers) (0.4.0)\n",
            "Requirement already satisfied: tqdm>=4.27 in /usr/local/lib/python3.10/dist-packages (from transformers) (4.66.1)\n",
            "Requirement already satisfied: fsspec>=2023.5.0 in /usr/local/lib/python3.10/dist-packages (from huggingface-hub<1.0,>=0.16.4->transformers) (2023.6.0)\n",
            "Requirement already satisfied: typing-extensions>=3.7.4.3 in /usr/local/lib/python3.10/dist-packages (from huggingface-hub<1.0,>=0.16.4->transformers) (4.5.0)\n",
            "Requirement already satisfied: charset-normalizer<4,>=2 in /usr/local/lib/python3.10/dist-packages (from requests->transformers) (3.3.2)\n",
            "Requirement already satisfied: idna<4,>=2.5 in /usr/local/lib/python3.10/dist-packages (from requests->transformers) (3.4)\n",
            "Requirement already satisfied: urllib3<3,>=1.21.1 in /usr/local/lib/python3.10/dist-packages (from requests->transformers) (2.0.7)\n",
            "Requirement already satisfied: certifi>=2017.4.17 in /usr/local/lib/python3.10/dist-packages (from requests->transformers) (2023.7.22)\n"
          ]
        }
      ],
      "source": [
        "!pip install transformers"
      ]
    },
    {
      "cell_type": "code",
      "execution_count": null,
      "metadata": {
        "id": "NU4QsIOBexFd"
      },
      "outputs": [],
      "source": [
        "from PIL import Image\n",
        "from transformers import AutoProcessor, BlipForQuestionAnswering\n",
        "import os\n",
        "import cv2\n",
        "from tqdm import tqdm\n",
        "import torch\n",
        "from transformers import AutoModelForCausalLM\n",
        "from google.colab.patches import cv2_imshow"
      ]
    },
    {
      "cell_type": "code",
      "execution_count": null,
      "metadata": {
        "colab": {
          "base_uri": "https://localhost:8080/",
          "height": 241,
          "referenced_widgets": [
            "65109d11bed54760a7c3d87282a5c151",
            "3fcbdf43af5f428cba9ec13b6eb4c4a4",
            "de3594b02f464333ad710c48bba32b4a",
            "b7ed1aee09554cb1998dd9eb894cb691",
            "0781eb6d7fa94288adb420da15d5c3a1",
            "5b24953fce244e5cab01c2b8596f21eb",
            "397c723c34f24597acca39a74b7e1135",
            "aafa8dfb113a4050a2a8f893c4f0cd22",
            "a6a52871d702491d8f7827b11c502036",
            "a29e67c512464108bc99350ec4337ae7",
            "3ff6bc13e57a45da9087c3e385074e71",
            "a8e5606a6a4d47b288c8235c179af837",
            "4773a672281447e8ab1cffcd883e1725",
            "fae7366336ba4b3cb030ce948113c05b",
            "5139320033934bfb8f16d191f14a1cb0",
            "aa133b3f87414f1285c77b5b385b1c4e",
            "4ccb6a9a41024559b7d57bc271a97f47",
            "2efe5a6a60a64310a7726f3551637da5",
            "941bcabc739b4fb091bd328ed2603977",
            "7344d25d0c214e82bb28639c0a9b003b",
            "dd42c136dd4246efa2230ac597221df7",
            "157f55f5c110433d98438b9a25e6bf66",
            "91ea6bac115c47a2b29979b3ed6a6eef",
            "d6c6452871b447b8b283bd0a527baff6",
            "64d409a79a81414e846b1d432a240b05",
            "01497dcddbba4a3a8240c6c2e62f961e",
            "ba9b42b0cfb746eb9e577a811657817a",
            "0c7009bf7b7049329dd56d152bcf1af5",
            "db8a07c399a54f3bb4e9830df92b4e1c",
            "0918821f5f334b61b29a17a81470e3fd",
            "a804f4c23fa74660bccb0a4de8c4e83d",
            "ab07ee272bb846c9972954ad78ca33dd",
            "541ff7cca7e44a08817c7e502cce9d6b",
            "6995844864fa499b94095c93dca68e0c",
            "0088268906ea4b9f9afcd8416c76672f",
            "01ef9cf6e20a4406a1fc9fab321dbe58",
            "ca0ad44883ae4978adff55449b99b5e6",
            "71575d98e04043e68921af6f124dde7b",
            "319baaade86347ea9c76116a2f732c8e",
            "2d53219b42794e8bbb61ec01a128a73d",
            "f4e46044b491422bb40d438dac1eec30",
            "4029de93c76342c6ac99ad6f88027eb1",
            "7e34862e288046ee9e78fcea31cbe2cb",
            "a2529f7cec7b40b487555b7988bd0352",
            "c80f0641426944bc934eda312795d84e",
            "8e9c52d4e1884efeae4aa6afda8f8da8",
            "4f3d733a85204087a0f4e942b11a93cc",
            "1f601dd5fda2477b84717160296de7e6",
            "26b611f5b7164748883abf09fd68a466",
            "3baeecb73c7344a7885270bf679b4285",
            "b3551999e46a405d8133cabe0d589fe3",
            "2f44fd5dd24f4e8e85ef755fd2d5f7f5",
            "8897cf5fcf274c2082aa6727cd9f7f3f",
            "0c433c94fbaf462e812f0ac16ee05060",
            "048e69298c964249807c6bd690db08c8",
            "9972e25c573f402f8d7cf48d445654b4",
            "405560a45e44405894beba31804970e2",
            "efb6def92e6148d7984c2fabfb53a475",
            "ab6f601a5cdb48c5b6f1e7d0fb968976",
            "c44192ca5c5445a297bf5b56f30164ad",
            "58e7165b82294e5a8639f3e71bfe8c8c",
            "1ff481e5d05648158bd6c01e4fe9787d",
            "19ed053732994a269cbd71d8084fa3dc",
            "a73fdc758edc47baa02ff50ca070129e",
            "d074fa1a67784b4b9a1ec98ed890002e",
            "4e4d0e549fae4055830a06798081b25b",
            "47b523d0a56649d18b954facc1b3f79a",
            "0c1156bd36aa47038291971f249ff4aa",
            "976ae67b1de84221bf00a469cfed23e6",
            "1e9d9cbae6df4514b723e6a5846149f6",
            "c4af8ed87cb34bc6837db64b42d834ab",
            "c4fd1ee493ba4aef89ea488e89869c08",
            "8be8f8716690451c8af2aacbb871b494",
            "a5e31823ebeb4664a8742c1f98831d5a",
            "28d4cff6c64643d882de5a4df9f7086a",
            "008a895d64ab411faf7a2027e45795b4",
            "c53835bdd1324a7ebfef458d35dbead2"
          ]
        },
        "id": "TAAEZhwmexdq",
        "outputId": "8ec89f8a-d516-435a-bd39-ae9ec928068b"
      },
      "outputs": [
        {
          "output_type": "display_data",
          "data": {
            "text/plain": [
              "config.json:   0%|          | 0.00/4.56k [00:00<?, ?B/s]"
            ],
            "application/vnd.jupyter.widget-view+json": {
              "version_major": 2,
              "version_minor": 0,
              "model_id": "65109d11bed54760a7c3d87282a5c151"
            }
          },
          "metadata": {}
        },
        {
          "output_type": "display_data",
          "data": {
            "text/plain": [
              "pytorch_model.bin:   0%|          | 0.00/1.54G [00:00<?, ?B/s]"
            ],
            "application/vnd.jupyter.widget-view+json": {
              "version_major": 2,
              "version_minor": 0,
              "model_id": "a8e5606a6a4d47b288c8235c179af837"
            }
          },
          "metadata": {}
        },
        {
          "output_type": "display_data",
          "data": {
            "text/plain": [
              "preprocessor_config.json:   0%|          | 0.00/445 [00:00<?, ?B/s]"
            ],
            "application/vnd.jupyter.widget-view+json": {
              "version_major": 2,
              "version_minor": 0,
              "model_id": "91ea6bac115c47a2b29979b3ed6a6eef"
            }
          },
          "metadata": {}
        },
        {
          "output_type": "display_data",
          "data": {
            "text/plain": [
              "tokenizer_config.json:   0%|          | 0.00/592 [00:00<?, ?B/s]"
            ],
            "application/vnd.jupyter.widget-view+json": {
              "version_major": 2,
              "version_minor": 0,
              "model_id": "6995844864fa499b94095c93dca68e0c"
            }
          },
          "metadata": {}
        },
        {
          "output_type": "display_data",
          "data": {
            "text/plain": [
              "vocab.txt:   0%|          | 0.00/232k [00:00<?, ?B/s]"
            ],
            "application/vnd.jupyter.widget-view+json": {
              "version_major": 2,
              "version_minor": 0,
              "model_id": "c80f0641426944bc934eda312795d84e"
            }
          },
          "metadata": {}
        },
        {
          "output_type": "display_data",
          "data": {
            "text/plain": [
              "tokenizer.json:   0%|          | 0.00/711k [00:00<?, ?B/s]"
            ],
            "application/vnd.jupyter.widget-view+json": {
              "version_major": 2,
              "version_minor": 0,
              "model_id": "9972e25c573f402f8d7cf48d445654b4"
            }
          },
          "metadata": {}
        },
        {
          "output_type": "display_data",
          "data": {
            "text/plain": [
              "special_tokens_map.json:   0%|          | 0.00/125 [00:00<?, ?B/s]"
            ],
            "application/vnd.jupyter.widget-view+json": {
              "version_major": 2,
              "version_minor": 0,
              "model_id": "47b523d0a56649d18b954facc1b3f79a"
            }
          },
          "metadata": {}
        }
      ],
      "source": [
        "model = BlipForQuestionAnswering.from_pretrained(\"Salesforce/blip-vqa-base\")\n",
        "processor = AutoProcessor.from_pretrained(\"Salesforce/blip-vqa-base\")"
      ]
    },
    {
      "cell_type": "code",
      "source": [
        "!mkdir blip_output"
      ],
      "metadata": {
        "id": "7C0iIkEjdREA"
      },
      "execution_count": null,
      "outputs": []
    },
    {
      "cell_type": "code",
      "execution_count": null,
      "metadata": {
        "colab": {
          "base_uri": "https://localhost:8080/"
        },
        "id": "kmJYewEuezQB",
        "outputId": "4a7da03f-500e-4b94-a154-14f5cf15beca"
      },
      "outputs": [
        {
          "output_type": "stream",
          "name": "stdout",
          "text": [
            "CLIP_322.mp4\n"
          ]
        },
        {
          "output_type": "stream",
          "name": "stderr",
          "text": [
            "Processing Frames:   0%|          | 1/1348 [00:00<03:36,  6.23frame/s]/usr/local/lib/python3.10/dist-packages/transformers/generation/utils.py:1273: UserWarning: Using the model-agnostic default `max_length` (=20) to control the generation length. We recommend setting `max_new_tokens` to control the maximum length of the generation.\n",
            "  warnings.warn(\n"
          ]
        },
        {
          "output_type": "stream",
          "name": "stdout",
          "text": [
            "\n",
            "\n"
          ]
        },
        {
          "output_type": "stream",
          "name": "stderr",
          "text": [
            "Processing Frames:   4%|▍         | 59/1348 [00:22<06:55,  3.10frame/s]"
          ]
        },
        {
          "output_type": "stream",
          "name": "stdout",
          "text": [
            "\n"
          ]
        },
        {
          "output_type": "stream",
          "name": "stderr",
          "text": [
            "\rProcessing Frames:   4%|▍         | 60/1348 [00:38<06:55,  3.10frame/s]"
          ]
        },
        {
          "output_type": "stream",
          "name": "stdout",
          "text": [
            "\n"
          ]
        },
        {
          "output_type": "stream",
          "name": "stderr",
          "text": [
            "Processing Frames:   7%|▋         | 90/1348 [00:58<09:58,  2.10frame/s]"
          ]
        },
        {
          "output_type": "stream",
          "name": "stdout",
          "text": [
            "\n"
          ]
        },
        {
          "output_type": "stream",
          "name": "stderr",
          "text": [
            "Processing Frames:   9%|▉         | 120/1348 [01:18<13:24,  1.53frame/s]"
          ]
        },
        {
          "output_type": "stream",
          "name": "stdout",
          "text": [
            "\n"
          ]
        },
        {
          "output_type": "stream",
          "name": "stderr",
          "text": [
            "Processing Frames:  11%|█         | 146/1348 [01:32<10:37,  1.89frame/s]"
          ]
        },
        {
          "output_type": "stream",
          "name": "stdout",
          "text": [
            "\n"
          ]
        },
        {
          "output_type": "stream",
          "name": "stderr",
          "text": [
            "\rProcessing Frames:  11%|█         | 150/1348 [01:48<10:35,  1.89frame/s]"
          ]
        },
        {
          "output_type": "stream",
          "name": "stdout",
          "text": [
            "\n"
          ]
        },
        {
          "output_type": "stream",
          "name": "stderr",
          "text": [
            "Processing Frames:  13%|█▎        | 180/1348 [02:08<11:18,  1.72frame/s]"
          ]
        },
        {
          "output_type": "stream",
          "name": "stdout",
          "text": [
            "\n",
            "\n"
          ]
        },
        {
          "output_type": "stream",
          "name": "stderr",
          "text": [
            "Processing Frames:  16%|█▌        | 210/1348 [02:28<10:42,  1.77frame/s]"
          ]
        },
        {
          "output_type": "stream",
          "name": "stdout",
          "text": [
            "\n"
          ]
        },
        {
          "output_type": "stream",
          "name": "stderr",
          "text": [
            "Processing Frames:  18%|█▊        | 240/1348 [02:50<10:05,  1.83frame/s]"
          ]
        },
        {
          "output_type": "stream",
          "name": "stdout",
          "text": [
            "\n"
          ]
        },
        {
          "output_type": "stream",
          "name": "stderr",
          "text": [
            "Processing Frames:  19%|█▉        | 261/1348 [03:01<10:42,  1.69frame/s]"
          ]
        },
        {
          "output_type": "stream",
          "name": "stdout",
          "text": [
            "\n"
          ]
        },
        {
          "output_type": "stream",
          "name": "stderr",
          "text": [
            "Processing Frames:  22%|██▏       | 300/1348 [03:38<09:31,  1.83frame/s]"
          ]
        },
        {
          "output_type": "stream",
          "name": "stdout",
          "text": [
            "\n"
          ]
        },
        {
          "output_type": "stream",
          "name": "stderr",
          "text": [
            "Processing Frames:  24%|██▍       | 330/1348 [03:58<10:58,  1.55frame/s]"
          ]
        },
        {
          "output_type": "stream",
          "name": "stdout",
          "text": [
            "\n",
            "\n"
          ]
        },
        {
          "output_type": "stream",
          "name": "stderr",
          "text": [
            "Processing Frames:  27%|██▋       | 360/1348 [04:20<08:12,  2.00frame/s]"
          ]
        },
        {
          "output_type": "stream",
          "name": "stdout",
          "text": [
            "\n"
          ]
        },
        {
          "output_type": "stream",
          "name": "stderr",
          "text": [
            "Processing Frames:  28%|██▊       | 380/1348 [04:32<10:08,  1.59frame/s]"
          ]
        },
        {
          "output_type": "stream",
          "name": "stdout",
          "text": [
            "\n"
          ]
        },
        {
          "output_type": "stream",
          "name": "stderr",
          "text": [
            "Processing Frames:  33%|███▎      | 450/1348 [05:30<08:24,  1.78frame/s]"
          ]
        },
        {
          "output_type": "stream",
          "name": "stdout",
          "text": [
            "\n"
          ]
        },
        {
          "output_type": "stream",
          "name": "stderr",
          "text": [
            "Processing Frames:  34%|███▍      | 465/1348 [05:41<10:15,  1.44frame/s]"
          ]
        },
        {
          "output_type": "stream",
          "name": "stdout",
          "text": [
            "\n"
          ]
        },
        {
          "output_type": "stream",
          "name": "stderr",
          "text": [
            "Processing Frames:  36%|███▌      | 481/1348 [06:04<13:39,  1.06frame/s]"
          ]
        },
        {
          "output_type": "stream",
          "name": "stdout",
          "text": [
            "\n"
          ]
        },
        {
          "output_type": "stream",
          "name": "stderr",
          "text": [
            "Processing Frames:  40%|████      | 540/1348 [06:38<08:16,  1.63frame/s]"
          ]
        },
        {
          "output_type": "stream",
          "name": "stdout",
          "text": [
            "\n"
          ]
        },
        {
          "output_type": "stream",
          "name": "stderr",
          "text": [
            "\rProcessing Frames:  40%|████      | 541/1348 [06:49<11:46,  1.14frame/s]"
          ]
        },
        {
          "output_type": "stream",
          "name": "stdout",
          "text": [
            "\n"
          ]
        },
        {
          "output_type": "stream",
          "name": "stderr",
          "text": [
            "Processing Frames:  51%|█████     | 689/1348 [08:20<05:01,  2.18frame/s]"
          ]
        },
        {
          "output_type": "stream",
          "name": "stdout",
          "text": [
            "\n"
          ]
        },
        {
          "output_type": "stream",
          "name": "stderr",
          "text": [
            "Processing Frames:  53%|█████▎    | 715/1348 [08:43<05:45,  1.83frame/s]"
          ]
        },
        {
          "output_type": "stream",
          "name": "stdout",
          "text": [
            "\n"
          ]
        },
        {
          "output_type": "stream",
          "name": "stderr",
          "text": [
            "Processing Frames:  56%|█████▌    | 750/1348 [09:18<05:38,  1.77frame/s]"
          ]
        },
        {
          "output_type": "stream",
          "name": "stdout",
          "text": [
            "\n"
          ]
        },
        {
          "output_type": "stream",
          "name": "stderr",
          "text": [
            "Processing Frames:  58%|█████▊    | 780/1348 [09:38<05:40,  1.67frame/s]"
          ]
        },
        {
          "output_type": "stream",
          "name": "stdout",
          "text": [
            "\n"
          ]
        },
        {
          "output_type": "stream",
          "name": "stderr",
          "text": [
            "Processing Frames:  59%|█████▉    | 802/1348 [09:52<05:23,  1.69frame/s]"
          ]
        },
        {
          "output_type": "stream",
          "name": "stdout",
          "text": [
            "\n"
          ]
        },
        {
          "output_type": "stream",
          "name": "stderr",
          "text": [
            "Processing Frames:  62%|██████▏   | 834/1348 [10:13<04:45,  1.80frame/s]"
          ]
        },
        {
          "output_type": "stream",
          "name": "stdout",
          "text": [
            "\n"
          ]
        },
        {
          "output_type": "stream",
          "name": "stderr",
          "text": [
            "Processing Frames:  65%|██████▍   | 870/1348 [10:48<04:39,  1.71frame/s]"
          ]
        },
        {
          "output_type": "stream",
          "name": "stdout",
          "text": [
            "\n"
          ]
        },
        {
          "output_type": "stream",
          "name": "stderr",
          "text": [
            "Processing Frames:  66%|██████▌   | 883/1348 [11:00<05:34,  1.39frame/s]"
          ]
        },
        {
          "output_type": "stream",
          "name": "stdout",
          "text": [
            "\n"
          ]
        },
        {
          "output_type": "stream",
          "name": "stderr",
          "text": [
            "Processing Frames:  69%|██████▊   | 924/1348 [11:22<03:51,  1.84frame/s]"
          ]
        },
        {
          "output_type": "stream",
          "name": "stdout",
          "text": [
            "\n"
          ]
        },
        {
          "output_type": "stream",
          "name": "stderr",
          "text": [
            "Processing Frames:  80%|████████  | 1080/1348 [13:28<02:40,  1.67frame/s]"
          ]
        },
        {
          "output_type": "stream",
          "name": "stdout",
          "text": [
            "\n",
            "\n"
          ]
        },
        {
          "output_type": "stream",
          "name": "stderr",
          "text": [
            "Processing Frames:  82%|████████▏ | 1100/1348 [13:40<02:32,  1.62frame/s]"
          ]
        },
        {
          "output_type": "stream",
          "name": "stdout",
          "text": [
            "\n"
          ]
        },
        {
          "output_type": "stream",
          "name": "stderr",
          "text": [
            "\rProcessing Frames:  82%|████████▏ | 1110/1348 [13:58<02:26,  1.62frame/s]"
          ]
        },
        {
          "output_type": "stream",
          "name": "stdout",
          "text": [
            "\n"
          ]
        },
        {
          "output_type": "stream",
          "name": "stderr",
          "text": [
            "Processing Frames:  84%|████████▍ | 1132/1348 [14:02<02:03,  1.75frame/s]"
          ]
        },
        {
          "output_type": "stream",
          "name": "stdout",
          "text": [
            "\n"
          ]
        },
        {
          "output_type": "stream",
          "name": "stderr",
          "text": [
            "Processing Frames:  87%|████████▋ | 1170/1348 [14:38<01:38,  1.80frame/s]"
          ]
        },
        {
          "output_type": "stream",
          "name": "stdout",
          "text": [
            "\n"
          ]
        },
        {
          "output_type": "stream",
          "name": "stderr",
          "text": [
            "Processing Frames:  89%|████████▉ | 1200/1348 [14:58<01:18,  1.89frame/s]"
          ]
        },
        {
          "output_type": "stream",
          "name": "stdout",
          "text": [
            "\n"
          ]
        },
        {
          "output_type": "stream",
          "name": "stderr",
          "text": [
            "Processing Frames:  91%|█████████ | 1228/1348 [15:11<01:04,  1.85frame/s]"
          ]
        },
        {
          "output_type": "stream",
          "name": "stdout",
          "text": [
            "\n"
          ]
        },
        {
          "output_type": "stream",
          "name": "stderr",
          "text": [
            "\rProcessing Frames:  91%|█████████ | 1230/1348 [15:28<01:03,  1.85frame/s]"
          ]
        },
        {
          "output_type": "stream",
          "name": "stdout",
          "text": [
            "\n"
          ]
        },
        {
          "output_type": "stream",
          "name": "stderr",
          "text": [
            "Processing Frames:  92%|█████████▏| 1246/1348 [15:33<01:10,  1.45frame/s]"
          ]
        },
        {
          "output_type": "stream",
          "name": "stdout",
          "text": [
            "\n"
          ]
        },
        {
          "output_type": "stream",
          "name": "stderr",
          "text": [
            "\rProcessing Frames:  93%|█████████▎| 1260/1348 [15:48<01:00,  1.45frame/s]"
          ]
        },
        {
          "output_type": "stream",
          "name": "stdout",
          "text": [
            "\n"
          ]
        },
        {
          "output_type": "stream",
          "name": "stderr",
          "text": [
            "Processing Frames:  96%|█████████▌| 1290/1348 [16:08<00:30,  1.93frame/s]"
          ]
        },
        {
          "output_type": "stream",
          "name": "stdout",
          "text": [
            "\n",
            "\n"
          ]
        },
        {
          "output_type": "stream",
          "name": "stderr",
          "text": [
            "\rProcessing Frames:  96%|█████████▌| 1291/1348 [16:19<00:57,  1.00s/frame]"
          ]
        },
        {
          "output_type": "stream",
          "name": "stdout",
          "text": [
            "array_of_dict\n",
            "[{'north': 3, 'miami': 1, 'intersection': 19, 'highway': 7, 'rural': 3, 'accident': 9, 'traffic': 1}, {'night': 19, '7 : 00 am': 11, '6 : 00': 2, 'afternoon': 2, '3 : 00 pm': 4, '2 : 00 pm': 5}, {'clear': 14, 'rainy': 23, 'cloudy': 2, 'sunny': 4}, {'summer': 12, 'winter': 18, 'fall': 13}]\n",
            "{'The vehicle involved in the accident was truck.', 'The accident took place at night.', 'The road had motorcycles.', 'The incident took place during winter.', 'The vehicle involved in the accident was car.', 'The road had car.', 'The road had bus.', 'The vehicle sustained damage on its front.', 'The vehicle involved in the accident was boat.', 'The road had cars.', 'The accident occurred on intersection.', 'The road had suvs.', 'The vehicle involved in the accident was motorcycle.', 'The road had truck.', 'The road had mercedes.', 'The road had trucks.', 'The vehicle sustained damage on its back.', 'The road had suv.', 'The vehicle involved in the accident was suv.', 'The number of vehicles are 2.', 'The road had boats.', 'The accident happened under weather condition, rainy.', 'The vehicle involved in the accident was bus.'}\n",
            "frame 30, The road had car.The vehicle sustained damage on its back.frame 60, The road had cars.The vehicle sustained damage on its back.frame 90, The road had cars.The vehicle involved in the accident was car.The vehicle sustained damage on its back.frame 120, The road had cars.The vehicle involved in the accident was car.The vehicle sustained damage on its back.frame 150, The road had cars.The vehicle sustained damage on its back.frame 180, The road had cars.The vehicle sustained damage on its back.frame 210, The road had cars.The vehicle involved in the accident was car.The vehicle sustained damage on its back.frame 240, The road had truck.The vehicle involved in the accident was car.The vehicle sustained damage on its back.frame 270, The road had truck.The vehicle involved in the accident was truck.The vehicle sustained damage on its back.frame 300, The road had bus.The vehicle involved in the accident was car.The vehicle sustained damage on its back.frame 330, The road had trucks.The vehicle sustained damage on its back.frame 360, The road had truck.The vehicle involved in the accident was car.The vehicle sustained damage on its back.frame 390, The road had cars.The vehicle involved in the accident was car.The vehicle sustained damage on its back.frame 420, The number of vehicles are 2.The road had boats.The vehicle involved in the accident was car.The vehicle sustained damage on its back.frame 450, The road had cars.The vehicle involved in the accident was car.The vehicle sustained damage on its back.frame 480, The road had cars.The vehicle involved in the accident was car.The vehicle sustained damage on its back.frame 510, The road had boats.The vehicle involved in the accident was boat.The vehicle sustained damage on its back.frame 540, The road had trucks.The vehicle involved in the accident was car.The vehicle sustained damage on its back.frame 570, The road had cars.The vehicle involved in the accident was car.The vehicle sustained damage on its back.frame 600, The number of vehicles are 2.The road had motorcycles.The vehicle involved in the accident was motorcycle.The vehicle sustained damage on its back.frame 630, The number of vehicles are 2.The road had car.The vehicle involved in the accident was car.The vehicle sustained damage on its back.frame 660, The number of vehicles are 2.The road had car.The vehicle involved in the accident was car.The vehicle sustained damage on its back.frame 690, The road had car.The vehicle involved in the accident was car.The vehicle sustained damage on its back.frame 720, The road had suv.The vehicle involved in the accident was car.The vehicle sustained damage on its back.frame 750, The road had suvs.The vehicle involved in the accident was car.The vehicle sustained damage on its back.frame 780, The road had suv.The vehicle involved in the accident was suv.The vehicle sustained damage on its back.frame 810, The road had suvs.The vehicle involved in the accident was suv.The vehicle sustained damage on its back.frame 840, The road had motorcycles.The vehicle involved in the accident was motorcycle.The vehicle sustained damage on its back.frame 870, The road had motorcycles.The vehicle involved in the accident was motorcycle.The vehicle sustained damage on its back.frame 900, The road had motorcycles.The vehicle involved in the accident was car.The vehicle sustained damage on its back.frame 930, The road had motorcycles.The vehicle involved in the accident was car.The vehicle sustained damage on its back.frame 960, The number of vehicles are 2.The road had mercedes.The vehicle involved in the accident was car.The vehicle sustained damage on its front.frame 990, The number of vehicles are 2.The road had car.The vehicle involved in the accident was car.The vehicle sustained damage on its front.frame 1020, The number of vehicles are 2.The road had suv.The vehicle involved in the accident was car.The vehicle sustained damage on its front.frame 1050, The number of vehicles are 2.The road had suvs.The vehicle involved in the accident was car.The vehicle sustained damage on its front.frame 1080, The road had cars.The vehicle sustained damage on its back.frame 1110, The road had cars.The vehicle sustained damage on its back.frame 1140, The road had cars.The vehicle involved in the accident was car.The vehicle sustained damage on its back.frame 1170, The road had cars.The vehicle involved in the accident was car.The vehicle sustained damage on its back.frame 1200, The road had truck.The vehicle involved in the accident was bus.The vehicle sustained damage on its back.frame 1230, The road had truck.The vehicle sustained damage on its back.frame 1260, The road had truck.The vehicle sustained damage on its back.frame 1290, The road had truck.The vehicle sustained damage on its back.common for all frames, The accident occurred on intersection.common for all frames, The accident took place at night.common for all frames, The accident happened under weather condition, rainy.common for all frames, The incident took place during winter.\n",
            "CLIP_308.mp4\n"
          ]
        },
        {
          "output_type": "stream",
          "name": "stderr",
          "text": [
            "\n",
            "Processing Frames:  96%|█████████▌| 1291/1348 [16:19<00:43,  1.32frame/s]\n",
            "\n",
            "Processing Frames:   1%|▏         | 17/1350 [00:00<00:08, 162.51frame/s]\u001b[A\n",
            "Processing Frames:   2%|▏         | 29/1350 [00:10<00:08, 162.51frame/s]\u001b[A"
          ]
        },
        {
          "output_type": "stream",
          "name": "stdout",
          "text": [
            "\n"
          ]
        },
        {
          "output_type": "stream",
          "name": "stderr",
          "text": [
            "\n",
            "Processing Frames:   2%|▏         | 30/1350 [00:21<19:14,  1.14frame/s] \u001b[A\n",
            "Processing Frames:   3%|▎         | 45/1350 [00:21<10:17,  2.11frame/s]\u001b[A\n",
            "Processing Frames:   4%|▍         | 58/1350 [00:39<10:11,  2.11frame/s]\u001b[A\n",
            "Processing Frames:   4%|▍         | 59/1350 [00:45<19:59,  1.08frame/s]\u001b[A\n",
            "Processing Frames:   5%|▌         | 72/1350 [00:45<13:11,  1.61frame/s]\u001b[A\n",
            "Processing Frames:   6%|▋         | 87/1350 [00:59<13:02,  1.61frame/s]\u001b[A\n",
            "Processing Frames:   7%|▋         | 88/1350 [01:07<18:53,  1.11frame/s]\u001b[A\n",
            "Processing Frames:   7%|▋         | 96/1350 [01:07<14:53,  1.40frame/s]\u001b[A\n",
            "Processing Frames:   8%|▊         | 108/1350 [01:07<10:15,  2.02frame/s]\u001b[A\n",
            "Processing Frames:   9%|▊         | 116/1350 [01:19<10:11,  2.02frame/s]\u001b[A"
          ]
        },
        {
          "output_type": "stream",
          "name": "stdout",
          "text": [
            "\n"
          ]
        },
        {
          "output_type": "stream",
          "name": "stderr",
          "text": [
            "\n",
            "Processing Frames:   9%|▊         | 117/1350 [01:30<20:47,  1.01s/frame]\u001b[A\n",
            "Processing Frames:  10%|▉         | 134/1350 [01:30<12:18,  1.65frame/s]\u001b[A\n",
            "Processing Frames:  11%|█         | 145/1350 [01:49<12:12,  1.65frame/s]\u001b[A\n",
            "Processing Frames:  11%|█         | 146/1350 [01:54<19:55,  1.01frame/s]\u001b[A\n",
            "Processing Frames:  12%|█▏        | 157/1350 [01:54<14:22,  1.38frame/s]\u001b[A\n",
            "Processing Frames:  13%|█▎        | 173/1350 [01:54<09:04,  2.16frame/s]\u001b[A\n",
            "Processing Frames:  13%|█▎        | 174/1350 [02:09<09:04,  2.16frame/s]\u001b[A\n",
            "Processing Frames:  13%|█▎        | 175/1350 [02:15<21:26,  1.09s/frame]\u001b[A\n",
            "Processing Frames:  14%|█▍        | 190/1350 [02:16<12:51,  1.50frame/s]\u001b[A\n",
            "Processing Frames:  15%|█▌        | 203/1350 [02:29<12:43,  1.50frame/s]\u001b[A"
          ]
        },
        {
          "output_type": "stream",
          "name": "stdout",
          "text": [
            "\n"
          ]
        },
        {
          "output_type": "stream",
          "name": "stderr",
          "text": [
            "\n",
            "Processing Frames:  15%|█▌        | 204/1350 [02:39<19:19,  1.01s/frame]\u001b[A\n",
            "Processing Frames:  17%|█▋        | 223/1350 [02:39<11:25,  1.64frame/s]\u001b[A\n",
            "Processing Frames:  17%|█▋        | 232/1350 [02:49<11:20,  1.64frame/s]\u001b[A\n",
            "Processing Frames:  17%|█▋        | 233/1350 [03:01<18:01,  1.03frame/s]\u001b[A\n",
            "Processing Frames:  18%|█▊        | 246/1350 [03:01<12:30,  1.47frame/s]\u001b[A\n",
            "Processing Frames:  19%|█▉        | 261/1350 [03:01<08:17,  2.19frame/s]\u001b[A\n",
            "Processing Frames:  19%|█▉        | 261/1350 [03:19<08:17,  2.19frame/s]\u001b[A\n",
            "Processing Frames:  19%|█▉        | 262/1350 [03:24<20:57,  1.16s/frame]\u001b[A\n",
            "Processing Frames:  20%|██        | 276/1350 [03:24<12:53,  1.39frame/s]\u001b[A\n",
            "Processing Frames:  21%|██▏       | 290/1350 [03:24<08:17,  2.13frame/s]\u001b[A\n",
            "Processing Frames:  21%|██▏       | 290/1350 [03:39<08:17,  2.13frame/s]\u001b[A\n",
            "Processing Frames:  22%|██▏       | 291/1350 [03:47<21:45,  1.23s/frame]\u001b[A\n",
            "Processing Frames:  22%|██▏       | 299/1350 [03:47<15:32,  1.13frame/s]\u001b[A\n",
            "Processing Frames:  23%|██▎       | 311/1350 [03:47<09:38,  1.80frame/s]\u001b[A\n",
            "Processing Frames:  24%|██▎       | 319/1350 [03:59<09:34,  1.80frame/s]\u001b[A\n",
            "Processing Frames:  24%|██▎       | 320/1350 [04:10<19:04,  1.11s/frame]\u001b[A\n",
            "Processing Frames:  25%|██▍       | 333/1350 [04:10<11:51,  1.43frame/s]\u001b[A\n",
            "Processing Frames:  26%|██▌       | 347/1350 [04:10<07:28,  2.24frame/s]\u001b[A\n",
            "Processing Frames:  26%|██▌       | 348/1350 [04:20<07:28,  2.24frame/s]\u001b[A\n",
            "Processing Frames:  26%|██▌       | 349/1350 [04:33<20:23,  1.22s/frame]\u001b[A\n",
            "Processing Frames:  27%|██▋       | 364/1350 [04:33<11:34,  1.42frame/s]\u001b[A\n",
            "Processing Frames:  28%|██▊       | 377/1350 [04:49<11:25,  1.42frame/s]\u001b[A\n",
            "Processing Frames:  28%|██▊       | 378/1350 [04:55<16:23,  1.01s/frame]\u001b[A\n",
            "Processing Frames:  29%|██▉       | 393/1350 [04:55<10:25,  1.53frame/s]\u001b[A\n",
            "Processing Frames:  30%|███       | 406/1350 [05:09<10:17,  1.53frame/s]\u001b[A\n",
            "Processing Frames:  30%|███       | 407/1350 [05:18<15:24,  1.02frame/s]\u001b[A\n",
            "Processing Frames:  31%|███▏      | 422/1350 [05:18<10:11,  1.52frame/s]\u001b[A\n",
            "Processing Frames:  32%|███▏      | 435/1350 [05:29<10:02,  1.52frame/s]\u001b[A\n",
            "Processing Frames:  32%|███▏      | 436/1350 [05:40<14:14,  1.07frame/s]\u001b[A\n",
            "Processing Frames:  33%|███▎      | 446/1350 [05:40<10:46,  1.40frame/s]\u001b[A\n",
            "Processing Frames:  34%|███▍      | 459/1350 [05:40<07:24,  2.00frame/s]\u001b[A\n",
            "Processing Frames:  34%|███▍      | 464/1350 [05:59<07:21,  2.00frame/s]\u001b[A\n",
            "Processing Frames:  34%|███▍      | 465/1350 [06:04<15:40,  1.06s/frame]\u001b[A\n",
            "Processing Frames:  36%|███▌      | 487/1350 [06:04<08:09,  1.76frame/s]\u001b[A"
          ]
        },
        {
          "output_type": "stream",
          "name": "stdout",
          "text": [
            "\n"
          ]
        },
        {
          "output_type": "stream",
          "name": "stderr",
          "text": [
            "\n",
            "Processing Frames:  37%|███▋      | 493/1350 [06:19<08:06,  1.76frame/s]\u001b[A\n",
            "Processing Frames:  37%|███▋      | 494/1350 [06:27<14:57,  1.05s/frame]\u001b[A\n",
            "Processing Frames:  37%|███▋      | 506/1350 [06:27<10:21,  1.36frame/s]\u001b[A\n",
            "Processing Frames:  39%|███▊      | 520/1350 [06:27<06:49,  2.03frame/s]\u001b[A\n",
            "Processing Frames:  39%|███▊      | 522/1350 [06:39<06:48,  2.03frame/s]\u001b[A\n",
            "Processing Frames:  39%|███▊      | 523/1350 [06:49<15:25,  1.12s/frame]\u001b[A\n",
            "Processing Frames:  40%|████      | 540/1350 [06:49<08:39,  1.56frame/s]\u001b[A\n",
            "Processing Frames:  41%|████      | 551/1350 [06:59<08:32,  1.56frame/s]\u001b[A\n",
            "Processing Frames:  41%|████      | 552/1350 [07:12<13:45,  1.03s/frame]\u001b[A\n",
            "Processing Frames:  42%|████▏     | 569/1350 [07:12<08:23,  1.55frame/s]\u001b[A\n",
            "Processing Frames:  43%|████▎     | 580/1350 [07:29<08:16,  1.55frame/s]\u001b[A\n",
            "Processing Frames:  43%|████▎     | 581/1350 [07:34<12:23,  1.03frame/s]\u001b[A\n",
            "Processing Frames:  44%|████▍     | 597/1350 [07:34<07:58,  1.57frame/s]\u001b[A\n",
            "Processing Frames:  45%|████▌     | 609/1350 [07:49<07:51,  1.57frame/s]\u001b[A\n",
            "Processing Frames:  45%|████▌     | 610/1350 [07:58<11:57,  1.03frame/s]\u001b[A\n",
            "Processing Frames:  46%|████▌     | 624/1350 [07:58<08:10,  1.48frame/s]\u001b[A\n",
            "Processing Frames:  47%|████▋     | 638/1350 [08:09<08:01,  1.48frame/s]\u001b[A\n",
            "Processing Frames:  47%|████▋     | 639/1350 [08:21<11:11,  1.06frame/s]\u001b[A\n",
            "Processing Frames:  48%|████▊     | 647/1350 [08:21<08:56,  1.31frame/s]\u001b[A\n",
            "Processing Frames:  49%|████▉     | 660/1350 [08:21<06:04,  1.90frame/s]\u001b[A\n",
            "Processing Frames:  49%|████▉     | 667/1350 [08:39<06:00,  1.90frame/s]\u001b[A\n",
            "Processing Frames:  49%|████▉     | 668/1350 [08:43<11:30,  1.01s/frame]\u001b[A\n",
            "Processing Frames:  51%|█████     | 685/1350 [08:43<06:48,  1.63frame/s]\u001b[A\n",
            "Processing Frames:  52%|█████▏    | 696/1350 [08:59<06:42,  1.63frame/s]\u001b[A\n",
            "Processing Frames:  52%|█████▏    | 697/1350 [09:07<10:49,  1.01frame/s]\u001b[A\n",
            "Processing Frames:  53%|█████▎    | 712/1350 [09:07<07:02,  1.51frame/s]\u001b[A\n",
            "Processing Frames:  54%|█████▎    | 725/1350 [09:19<06:53,  1.51frame/s]\u001b[A\n",
            "Processing Frames:  54%|█████▍    | 726/1350 [09:28<09:43,  1.07frame/s]\u001b[A\n",
            "Processing Frames:  55%|█████▌    | 744/1350 [09:28<06:02,  1.67frame/s]\u001b[A\n",
            "Processing Frames:  56%|█████▌    | 754/1350 [09:39<05:56,  1.67frame/s]\u001b[A\n",
            "Processing Frames:  56%|█████▌    | 755/1350 [09:52<09:32,  1.04frame/s]\u001b[A\n",
            "Processing Frames:  57%|█████▋    | 774/1350 [09:52<05:49,  1.65frame/s]\u001b[A\n",
            "Processing Frames:  58%|█████▊    | 783/1350 [10:09<05:43,  1.65frame/s]\u001b[A\n",
            "Processing Frames:  58%|█████▊    | 784/1350 [10:13<08:53,  1.06frame/s]\u001b[A\n",
            "Processing Frames:  60%|█████▉    | 805/1350 [10:13<05:11,  1.75frame/s]\u001b[A\n",
            "Processing Frames:  60%|██████    | 812/1350 [10:29<05:07,  1.75frame/s]\u001b[A\n",
            "Processing Frames:  60%|██████    | 813/1350 [10:36<08:47,  1.02frame/s]\u001b[A\n",
            "Processing Frames:  62%|██████▏   | 836/1350 [10:36<04:53,  1.75frame/s]\u001b[A\n",
            "Processing Frames:  62%|██████▏   | 841/1350 [10:49<04:50,  1.75frame/s]\u001b[A\n",
            "Processing Frames:  62%|██████▏   | 842/1350 [10:59<08:32,  1.01s/frame]\u001b[A\n",
            "Processing Frames:  63%|██████▎   | 855/1350 [10:59<05:53,  1.40frame/s]\u001b[A\n",
            "Processing Frames:  64%|██████▍   | 870/1350 [11:10<05:42,  1.40frame/s]\u001b[A\n",
            "Processing Frames:  65%|██████▍   | 871/1350 [11:22<07:33,  1.06frame/s]\u001b[A\n",
            "Processing Frames:  66%|██████▌   | 893/1350 [11:22<04:19,  1.76frame/s]\u001b[A\n",
            "Processing Frames:  67%|██████▋   | 899/1350 [11:39<04:15,  1.76frame/s]\u001b[A\n",
            "Processing Frames:  67%|██████▋   | 900/1350 [11:45<07:28,  1.00frame/s]\u001b[A\n",
            "Processing Frames:  68%|██████▊   | 919/1350 [11:45<04:29,  1.60frame/s]\u001b[A\n",
            "Processing Frames:  69%|██████▊   | 928/1350 [11:59<04:23,  1.60frame/s]\u001b[A"
          ]
        },
        {
          "output_type": "stream",
          "name": "stdout",
          "text": [
            "\n"
          ]
        },
        {
          "output_type": "stream",
          "name": "stderr",
          "text": [
            "\n",
            "Processing Frames:  69%|██████▉   | 929/1350 [12:07<06:46,  1.03frame/s]\u001b[A\n",
            "Processing Frames:  70%|███████   | 949/1350 [12:07<03:58,  1.68frame/s]\u001b[A\n",
            "Processing Frames:  71%|███████   | 957/1350 [12:19<03:54,  1.68frame/s]\u001b[A"
          ]
        },
        {
          "output_type": "stream",
          "name": "stdout",
          "text": [
            "\n"
          ]
        },
        {
          "output_type": "stream",
          "name": "stderr",
          "text": [
            "\n",
            "Processing Frames:  71%|███████   | 958/1350 [12:31<06:29,  1.01frame/s]\u001b[A\n",
            "Processing Frames:  72%|███████▏  | 977/1350 [12:31<03:52,  1.60frame/s]\u001b[A\n",
            "Processing Frames:  73%|███████▎  | 986/1350 [12:49<03:46,  1.60frame/s]\u001b[A\n",
            "Processing Frames:  73%|███████▎  | 987/1350 [12:53<05:57,  1.02frame/s]\u001b[A\n",
            "Processing Frames:  74%|███████▍  | 999/1350 [12:53<04:11,  1.39frame/s]\u001b[A\n",
            "Processing Frames:  75%|███████▌  | 1015/1350 [13:09<04:00,  1.39frame/s]\u001b[A\n",
            "Processing Frames:  75%|███████▌  | 1016/1350 [13:16<05:13,  1.07frame/s]\u001b[A\n",
            "Processing Frames:  77%|███████▋  | 1033/1350 [13:16<03:17,  1.60frame/s]\u001b[A\n",
            "Processing Frames:  77%|███████▋  | 1044/1350 [13:29<03:11,  1.60frame/s]\u001b[A\n",
            "Processing Frames:  77%|███████▋  | 1045/1350 [13:40<04:54,  1.04frame/s]\u001b[A\n",
            "Processing Frames:  78%|███████▊  | 1058/1350 [13:40<03:23,  1.44frame/s]\u001b[A\n",
            "Processing Frames:  79%|███████▉  | 1073/1350 [13:50<03:12,  1.44frame/s]\u001b[A\n",
            "Processing Frames:  80%|███████▉  | 1074/1350 [14:02<04:13,  1.09frame/s]\u001b[A\n",
            "Processing Frames:  81%|████████  | 1092/1350 [14:02<02:35,  1.66frame/s]\u001b[A\n",
            "Processing Frames:  82%|████████▏ | 1102/1350 [14:19<02:29,  1.66frame/s]\u001b[A\n",
            "Processing Frames:  82%|████████▏ | 1103/1350 [14:25<03:56,  1.05frame/s]\u001b[A\n",
            "Processing Frames:  83%|████████▎ | 1122/1350 [14:26<02:18,  1.64frame/s]\u001b[A\n",
            "Processing Frames:  84%|████████▍ | 1131/1350 [14:39<02:13,  1.64frame/s]\u001b[A"
          ]
        },
        {
          "output_type": "stream",
          "name": "stdout",
          "text": [
            "\n"
          ]
        },
        {
          "output_type": "stream",
          "name": "stderr",
          "text": [
            "\n",
            "Processing Frames:  84%|████████▍ | 1132/1350 [14:48<03:28,  1.04frame/s]\u001b[A\n",
            "Processing Frames:  85%|████████▍ | 1142/1350 [14:48<02:32,  1.36frame/s]\u001b[A\n",
            "Processing Frames:  86%|████████▌ | 1157/1350 [14:48<01:34,  2.03frame/s]\u001b[A\n",
            "Processing Frames:  86%|████████▌ | 1160/1350 [14:59<01:33,  2.03frame/s]\u001b[A"
          ]
        },
        {
          "output_type": "stream",
          "name": "stdout",
          "text": [
            "\n"
          ]
        },
        {
          "output_type": "stream",
          "name": "stderr",
          "text": [
            "\n",
            "Processing Frames:  86%|████████▌ | 1161/1350 [15:11<03:25,  1.09s/frame]\u001b[A\n",
            "Processing Frames:  87%|████████▋ | 1181/1350 [15:11<01:41,  1.66frame/s]\u001b[A"
          ]
        },
        {
          "output_type": "stream",
          "name": "stdout",
          "text": [
            "\n"
          ]
        },
        {
          "output_type": "stream",
          "name": "stderr",
          "text": [
            "\n",
            "Processing Frames:  88%|████████▊ | 1189/1350 [15:29<01:37,  1.66frame/s]\u001b[A\n",
            "Processing Frames:  88%|████████▊ | 1190/1350 [15:35<02:48,  1.05s/frame]\u001b[A\n",
            "Processing Frames:  90%|████████▉ | 1210/1350 [15:35<01:26,  1.62frame/s]\u001b[A"
          ]
        },
        {
          "output_type": "stream",
          "name": "stdout",
          "text": [
            "\n"
          ]
        },
        {
          "output_type": "stream",
          "name": "stderr",
          "text": [
            "\n",
            "Processing Frames:  90%|█████████ | 1218/1350 [15:50<01:21,  1.62frame/s]\u001b[A\n",
            "Processing Frames:  90%|█████████ | 1219/1350 [15:56<02:10,  1.01frame/s]\u001b[A\n",
            "Processing Frames:  92%|█████████▏| 1242/1350 [15:56<01:00,  1.77frame/s]\u001b[A\n",
            "Processing Frames:  92%|█████████▏| 1247/1350 [16:10<00:58,  1.77frame/s]\u001b[A"
          ]
        },
        {
          "output_type": "stream",
          "name": "stdout",
          "text": [
            "\n"
          ]
        },
        {
          "output_type": "stream",
          "name": "stderr",
          "text": [
            "\n",
            "Processing Frames:  92%|█████████▏| 1248/1350 [16:20<01:44,  1.02s/frame]\u001b[A\n",
            "Processing Frames:  94%|█████████▍| 1269/1350 [16:20<00:49,  1.65frame/s]\u001b[A\n",
            "Processing Frames:  95%|█████████▍| 1276/1350 [16:30<00:44,  1.65frame/s]\u001b[A"
          ]
        },
        {
          "output_type": "stream",
          "name": "stdout",
          "text": [
            "\n"
          ]
        },
        {
          "output_type": "stream",
          "name": "stderr",
          "text": [
            "\n",
            "Processing Frames:  95%|█████████▍| 1277/1350 [16:41<01:12,  1.01frame/s]\u001b[A\n",
            "Processing Frames:  96%|█████████▌| 1295/1350 [16:41<00:34,  1.60frame/s]\u001b[A"
          ]
        },
        {
          "output_type": "stream",
          "name": "stdout",
          "text": [
            "\n"
          ]
        },
        {
          "output_type": "stream",
          "name": "stderr",
          "text": [
            "\n",
            "Processing Frames:  97%|█████████▋| 1305/1350 [17:00<00:28,  1.60frame/s]\u001b[A\n",
            "Processing Frames:  97%|█████████▋| 1306/1350 [17:05<00:43,  1.00frame/s]\u001b[A\n",
            "Processing Frames:  99%|█████████▉| 1334/1350 [17:05<00:08,  1.89frame/s]\u001b[A"
          ]
        },
        {
          "output_type": "stream",
          "name": "stdout",
          "text": [
            "\n"
          ]
        },
        {
          "output_type": "stream",
          "name": "stderr",
          "text": [
            "\n",
            "Processing Frames:  99%|█████████▉| 1334/1350 [17:20<00:08,  1.89frame/s]\u001b[A"
          ]
        },
        {
          "output_type": "stream",
          "name": "stdout",
          "text": [
            "\n",
            "\n"
          ]
        },
        {
          "output_type": "stream",
          "name": "stderr",
          "text": [
            "\n",
            "Processing Frames:  99%|█████████▉| 1335/1350 [17:28<00:15,  1.05s/frame]\u001b[A"
          ]
        },
        {
          "output_type": "stream",
          "name": "stdout",
          "text": [
            "array_of_dict\n",
            "[{'highway': 20, 'rural': 6, 'freeway': 1, 'intersection': 1, 'accident': 4, 'garage': 9, 'driveway': 3, 'residential': 1, 'airport': 1}, {'dusk': 3, 'evening': 25, 'afternoon': 9, '3 : 00 pm': 4, '3 : 00': 3, '7 : 00 am': 1, 'night': 1}, {'snow': 14, 'rainy': 11, 'snowy': 9, 'cold': 1, 'cloudy': 3, 'sunny': 7, 'fair': 1}, {'winter': 36, 'fall': 7, 'summer': 3}]\n",
            "{'The incident took place during winter.', 'The vehicle involved in the accident was car.', 'The road had bus.', 'The road had car.', 'The vehicle sustained damage on its front.', 'The road had car and motorcycle.', 'The road had cars.', 'The road had mercedes.', 'The road had trucks.', 'The road had car and truck.', 'The accident occurred on highway.', 'The accident happened under weather condition, snow.', 'The vehicle sustained damage on its back.', 'The vehicle involved in the accident was mercedes.', 'The accident took place at evening.', 'The vehicle involved in the accident was suv.', 'The number of vehicles are 2.', 'The road had school bus.', 'The vehicle involved in the accident was bus.', 'The number of vehicles are 3.'}\n",
            "frame 29, The number of vehicles are 2.The road had trucks.The vehicle sustained damage on its back.frame 58, The number of vehicles are 2.The road had cars.The vehicle involved in the accident was bus.The vehicle sustained damage on its back.frame 87, The number of vehicles are 3.The road had cars.The vehicle involved in the accident was car.The vehicle sustained damage on its back.frame 116, The road had bus.The vehicle involved in the accident was bus.The vehicle sustained damage on its back.frame 145, The number of vehicles are 2.The road had cars.The vehicle involved in the accident was bus.The vehicle sustained damage on its back.frame 174, The number of vehicles are 2.The road had school bus.The vehicle involved in the accident was bus.The vehicle sustained damage on its back.frame 203, The road had cars.The vehicle involved in the accident was car.The vehicle sustained damage on its back.frame 232, The number of vehicles are 2.The road had trucks.The vehicle involved in the accident was car.The vehicle sustained damage on its back.frame 261, The number of vehicles are 2.The road had cars.The vehicle involved in the accident was car.The vehicle sustained damage on its back.frame 290, The number of vehicles are 2.The road had cars.The vehicle involved in the accident was suv.The vehicle sustained damage on its back.frame 319, The number of vehicles are 2.The road had cars.The vehicle involved in the accident was car.The vehicle sustained damage on its back.frame 348, The number of vehicles are 3.The road had cars.The vehicle involved in the accident was car.The vehicle sustained damage on its back.frame 377, The number of vehicles are 2.The road had cars.The vehicle involved in the accident was car.The vehicle sustained damage on its back.frame 406, The number of vehicles are 3.The road had cars.The vehicle involved in the accident was car.The vehicle sustained damage on its back.frame 435, The number of vehicles are 2.The road had car.The vehicle involved in the accident was car.The vehicle sustained damage on its back.frame 464, The number of vehicles are 2.The road had car and truck.The vehicle involved in the accident was car.The vehicle sustained damage on its back.frame 493, The road had cars.The vehicle involved in the accident was car.The vehicle sustained damage on its back.frame 522, The number of vehicles are 3.The road had cars.The vehicle involved in the accident was car.The vehicle sustained damage on its back.frame 551, The number of vehicles are 2.The road had cars.The vehicle involved in the accident was car.The vehicle sustained damage on its back.frame 580, The number of vehicles are 2.The road had cars.The vehicle involved in the accident was car.The vehicle sustained damage on its back.frame 609, The number of vehicles are 2.The road had cars.The vehicle involved in the accident was car.The vehicle sustained damage on its back.frame 638, The number of vehicles are 3.The road had cars.The vehicle involved in the accident was car.The vehicle sustained damage on its back.frame 667, The number of vehicles are 3.The road had cars.The vehicle involved in the accident was car.The vehicle sustained damage on its back.frame 696, The number of vehicles are 3.The road had cars.The vehicle involved in the accident was car.The vehicle sustained damage on its back.frame 725, The number of vehicles are 3.The road had cars.The vehicle involved in the accident was suv.The vehicle sustained damage on its back.frame 754, The number of vehicles are 2.The road had car.The vehicle involved in the accident was car.The vehicle sustained damage on its back.frame 783, The number of vehicles are 2.The road had cars.The vehicle involved in the accident was car.The vehicle sustained damage on its back.frame 812, The number of vehicles are 2.The road had cars.The vehicle involved in the accident was suv.The vehicle sustained damage on its back.frame 841, The number of vehicles are 2.The road had cars.The vehicle involved in the accident was car.The vehicle sustained damage on its back.frame 870, The number of vehicles are 2.The road had mercedes.The vehicle involved in the accident was mercedes.The vehicle sustained damage on its back.frame 899, The number of vehicles are 2.The road had mercedes.The vehicle involved in the accident was mercedes.The vehicle sustained damage on its back.frame 928, The road had car.The vehicle involved in the accident was car.The vehicle sustained damage on its front.frame 957, The road had car.The vehicle involved in the accident was car.The vehicle sustained damage on its back.frame 986, The number of vehicles are 2.The road had car.The vehicle involved in the accident was car.The vehicle sustained damage on its back.frame 1015, The number of vehicles are 2.The road had car.The vehicle involved in the accident was car.The vehicle sustained damage on its back.frame 1044, The number of vehicles are 2.The road had car.The vehicle involved in the accident was car.The vehicle sustained damage on its back.frame 1073, The number of vehicles are 2.The road had car and truck.The vehicle involved in the accident was car.The vehicle sustained damage on its back.frame 1102, The number of vehicles are 2.The road had car and motorcycle.The vehicle involved in the accident was car.The vehicle sustained damage on its back.frame 1131, The road had car and motorcycle.The vehicle involved in the accident was car.The vehicle sustained damage on its back.frame 1160, The road had car.The vehicle involved in the accident was car.The vehicle sustained damage on its back.frame 1189, The road had car.The vehicle involved in the accident was car.The vehicle sustained damage on its back.frame 1218, The road had mercedes.The vehicle involved in the accident was mercedes.The vehicle sustained damage on its front.frame 1247, The road had mercedes.The vehicle involved in the accident was mercedes.The vehicle sustained damage on its front.frame 1276, The road had mercedes.The vehicle involved in the accident was mercedes.The vehicle sustained damage on its front.frame 1305, The road had mercedes.The vehicle involved in the accident was mercedes.The vehicle sustained damage on its front.frame 1334, The vehicle sustained damage on its back.common for all frames, The accident occurred on highway.common for all frames, The accident took place at evening.common for all frames, The accident happened under weather condition, snow.common for all frames, The incident took place during winter.\n",
            "CLIP_341.mp4\n"
          ]
        },
        {
          "output_type": "stream",
          "name": "stderr",
          "text": [
            "Processing Frames: 100%|██████████| 1350/1350 [17:28<00:00,  1.29frame/s]\n",
            "Processing Frames:   4%|▍         | 85/1990 [00:46<15:35,  2.04frame/s]"
          ]
        },
        {
          "output_type": "stream",
          "name": "stdout",
          "text": [
            "\n"
          ]
        },
        {
          "output_type": "stream",
          "name": "stderr",
          "text": [
            "Processing Frames:   6%|▌         | 120/1990 [01:21<15:38,  1.99frame/s]"
          ]
        },
        {
          "output_type": "stream",
          "name": "stdout",
          "text": [
            "\n"
          ]
        },
        {
          "output_type": "stream",
          "name": "stderr",
          "text": [
            "Processing Frames:   8%|▊         | 150/1990 [01:42<17:34,  1.74frame/s]"
          ]
        },
        {
          "output_type": "stream",
          "name": "stdout",
          "text": [
            "\n"
          ]
        },
        {
          "output_type": "stream",
          "name": "stderr",
          "text": [
            "Processing Frames:   8%|▊         | 164/1990 [01:55<21:35,  1.41frame/s]"
          ]
        },
        {
          "output_type": "stream",
          "name": "stdout",
          "text": [
            "\n"
          ]
        },
        {
          "output_type": "stream",
          "name": "stderr",
          "text": [
            "Processing Frames:  11%|█         | 210/1990 [02:31<16:39,  1.78frame/s]"
          ]
        },
        {
          "output_type": "stream",
          "name": "stdout",
          "text": [
            "\n"
          ]
        },
        {
          "output_type": "stream",
          "name": "stderr",
          "text": [
            "Processing Frames:  12%|█▏        | 240/1990 [02:51<16:03,  1.82frame/s]"
          ]
        },
        {
          "output_type": "stream",
          "name": "stdout",
          "text": [
            "\n"
          ]
        },
        {
          "output_type": "stream",
          "name": "stderr",
          "text": [
            "Processing Frames:  13%|█▎        | 264/1990 [03:03<16:11,  1.78frame/s]"
          ]
        },
        {
          "output_type": "stream",
          "name": "stdout",
          "text": [
            "\n"
          ]
        },
        {
          "output_type": "stream",
          "name": "stderr",
          "text": [
            "Processing Frames:  18%|█▊        | 360/1990 [04:22<14:55,  1.82frame/s]"
          ]
        },
        {
          "output_type": "stream",
          "name": "stdout",
          "text": [
            "\n"
          ]
        },
        {
          "output_type": "stream",
          "name": "stderr",
          "text": [
            "Processing Frames:  19%|█▉        | 382/1990 [04:35<15:51,  1.69frame/s]"
          ]
        },
        {
          "output_type": "stream",
          "name": "stdout",
          "text": [
            "\n"
          ]
        },
        {
          "output_type": "stream",
          "name": "stderr",
          "text": [
            "Processing Frames:  21%|██        | 420/1990 [05:11<15:02,  1.74frame/s]"
          ]
        },
        {
          "output_type": "stream",
          "name": "stdout",
          "text": [
            "\n"
          ]
        },
        {
          "output_type": "stream",
          "name": "stderr",
          "text": [
            "Processing Frames:  27%|██▋       | 541/1990 [06:50<22:02,  1.10frame/s]"
          ]
        },
        {
          "output_type": "stream",
          "name": "stdout",
          "text": [
            "\n",
            "\n"
          ]
        },
        {
          "output_type": "stream",
          "name": "stderr",
          "text": [
            "Processing Frames:  30%|███       | 597/1990 [07:14<12:30,  1.86frame/s]"
          ]
        },
        {
          "output_type": "stream",
          "name": "stdout",
          "text": [
            "\n",
            "\n"
          ]
        },
        {
          "output_type": "stream",
          "name": "stderr",
          "text": [
            "\rProcessing Frames:  30%|███       | 600/1990 [07:31<12:28,  1.86frame/s]"
          ]
        },
        {
          "output_type": "stream",
          "name": "stdout",
          "text": [
            "\n"
          ]
        },
        {
          "output_type": "stream",
          "name": "stderr",
          "text": [
            "\rProcessing Frames:  30%|███       | 601/1990 [07:36<20:56,  1.11frame/s]"
          ]
        },
        {
          "output_type": "stream",
          "name": "stdout",
          "text": [
            "\n"
          ]
        },
        {
          "output_type": "stream",
          "name": "stderr",
          "text": [
            "\rProcessing Frames:  32%|███▏      | 631/1990 [07:59<19:12,  1.18frame/s]"
          ]
        },
        {
          "output_type": "stream",
          "name": "stdout",
          "text": [
            "\n"
          ]
        },
        {
          "output_type": "stream",
          "name": "stderr",
          "text": [
            "Processing Frames:  36%|███▌      | 717/1990 [08:45<11:18,  1.88frame/s]"
          ]
        },
        {
          "output_type": "stream",
          "name": "stdout",
          "text": [
            "\n"
          ]
        },
        {
          "output_type": "stream",
          "name": "stderr",
          "text": [
            "Processing Frames:  38%|███▊      | 750/1990 [09:21<12:08,  1.70frame/s]"
          ]
        },
        {
          "output_type": "stream",
          "name": "stdout",
          "text": [
            "\n"
          ]
        },
        {
          "output_type": "stream",
          "name": "stderr",
          "text": [
            "Processing Frames:  41%|████▏     | 825/1990 [10:16<12:54,  1.50frame/s]"
          ]
        },
        {
          "output_type": "stream",
          "name": "stdout",
          "text": [
            "\n"
          ]
        },
        {
          "output_type": "stream",
          "name": "stderr",
          "text": [
            "Processing Frames:  50%|████▉     | 990/1990 [12:21<09:08,  1.82frame/s]"
          ]
        },
        {
          "output_type": "stream",
          "name": "stdout",
          "text": [
            "\n"
          ]
        },
        {
          "output_type": "stream",
          "name": "stderr",
          "text": [
            "Processing Frames:  51%|█████     | 1013/1990 [12:34<09:28,  1.72frame/s]"
          ]
        },
        {
          "output_type": "stream",
          "name": "stdout",
          "text": [
            "\n"
          ]
        },
        {
          "output_type": "stream",
          "name": "stderr",
          "text": [
            "Processing Frames:  52%|█████▏    | 1033/1990 [12:57<11:24,  1.40frame/s]"
          ]
        },
        {
          "output_type": "stream",
          "name": "stdout",
          "text": [
            "\n"
          ]
        },
        {
          "output_type": "stream",
          "name": "stderr",
          "text": [
            "Processing Frames:  54%|█████▍    | 1080/1990 [13:31<08:25,  1.80frame/s]"
          ]
        },
        {
          "output_type": "stream",
          "name": "stdout",
          "text": [
            "\n"
          ]
        },
        {
          "output_type": "stream",
          "name": "stderr",
          "text": [
            "Processing Frames:  55%|█████▌    | 1102/1990 [13:43<08:41,  1.70frame/s]"
          ]
        },
        {
          "output_type": "stream",
          "name": "stdout",
          "text": [
            "\n"
          ]
        },
        {
          "output_type": "stream",
          "name": "stderr",
          "text": [
            "Processing Frames:  57%|█████▋    | 1133/1990 [14:05<08:05,  1.77frame/s]"
          ]
        },
        {
          "output_type": "stream",
          "name": "stdout",
          "text": [
            "\n"
          ]
        },
        {
          "output_type": "stream",
          "name": "stderr",
          "text": [
            "Processing Frames:  62%|██████▏   | 1225/1990 [15:14<06:53,  1.85frame/s]"
          ]
        },
        {
          "output_type": "stream",
          "name": "stdout",
          "text": [
            "\n"
          ]
        },
        {
          "output_type": "stream",
          "name": "stderr",
          "text": [
            "Processing Frames:  69%|██████▉   | 1380/1990 [17:21<05:54,  1.72frame/s]"
          ]
        },
        {
          "output_type": "stream",
          "name": "stdout",
          "text": [
            "\n"
          ]
        },
        {
          "output_type": "stream",
          "name": "stderr",
          "text": [
            "Processing Frames:  72%|███████▏  | 1426/1990 [17:53<05:54,  1.59frame/s]"
          ]
        },
        {
          "output_type": "stream",
          "name": "stdout",
          "text": [
            "\n"
          ]
        },
        {
          "output_type": "stream",
          "name": "stderr",
          "text": [
            "Processing Frames:  73%|███████▎  | 1460/1990 [18:17<05:13,  1.69frame/s]"
          ]
        },
        {
          "output_type": "stream",
          "name": "stdout",
          "text": [
            "\n"
          ]
        },
        {
          "output_type": "stream",
          "name": "stderr",
          "text": [
            "Processing Frames:  75%|███████▌  | 1500/1990 [18:51<04:30,  1.81frame/s]"
          ]
        },
        {
          "output_type": "stream",
          "name": "stdout",
          "text": [
            "\n"
          ]
        },
        {
          "output_type": "stream",
          "name": "stderr",
          "text": [
            "Processing Frames:  87%|████████▋ | 1740/1990 [21:51<02:12,  1.88frame/s]"
          ]
        },
        {
          "output_type": "stream",
          "name": "stdout",
          "text": [
            "\n"
          ]
        },
        {
          "output_type": "stream",
          "name": "stderr",
          "text": [
            "Processing Frames:  92%|█████████▏| 1830/1990 [23:01<01:27,  1.83frame/s]"
          ]
        },
        {
          "output_type": "stream",
          "name": "stdout",
          "text": [
            "\n"
          ]
        },
        {
          "output_type": "stream",
          "name": "stderr",
          "text": [
            "Processing Frames:  96%|█████████▋| 1920/1990 [24:12<00:49,  1.42frame/s]"
          ]
        },
        {
          "output_type": "stream",
          "name": "stdout",
          "text": [
            "\n",
            "\n"
          ]
        },
        {
          "output_type": "stream",
          "name": "stderr",
          "text": [
            "\rProcessing Frames:  97%|█████████▋| 1921/1990 [24:21<01:03,  1.09frame/s]"
          ]
        },
        {
          "output_type": "stream",
          "name": "stdout",
          "text": [
            "array_of_dict\n",
            "[{'highway': 24, 'intersection': 5, 'train tracks': 1, 'tunnel': 3, 'garage': 2, 'accident': 4, 'none': 1, 'street': 5, 'airport': 8, 'traffic': 4, 'florida': 1, 'train station': 1, 'india': 4, 'motorcycle': 1}, {'7 : 00 am': 30, 'late afternoon': 1, 'morning': 2, 'evening': 11, 'night': 6, '7 : 00 pm': 1, '3 : 00 pm': 2, '3 : 00': 5, '7 : 00': 5, '11 : 00': 1}, {'rainy': 38, 'sunny': 19, 'clear': 2, 'stormy': 5}, {'summer': 28, 'fall': 29, 'winter': 7}]\n",
            "{'The road had motorcycles.', 'The vehicle involved in the accident was bmw.', 'The vehicle involved in the accident was car.', 'The road had car.', 'The road had bus.', 'The road had trains.', 'The road had truck and suv.', 'The road had cars.', 'The road had suvs.', 'The vehicle involved in the accident was motorcycle.', 'The road had truck.', 'The road had trucks.', 'The accident occurred on highway.', 'The vehicle sustained damage on its back.', 'The road had suv.', 'The road had truck and car.', 'The vehicle involved in the accident was suv.', 'The number of vehicles are 2.', 'The road had bmw.', 'The vehicle involved in the accident was train.', 'The road had train.', 'The vehicle involved in the accident was airplane.', 'The accident happened under weather condition, rainy.', 'The vehicle involved in the accident was bus.', 'The number of vehicles are 3.', 'The accident took place at 7 : 00 am.', 'The incident took place during fall.'}\n",
            "frame 30, The number of vehicles are 2.The road had trucks.The vehicle involved in the accident was car.The vehicle sustained damage on its back.frame 60, The number of vehicles are 2.The road had trucks.The vehicle involved in the accident was car.The vehicle sustained damage on its back.frame 90, The road had cars.The vehicle involved in the accident was car.The vehicle sustained damage on its back.frame 120, The road had truck.The vehicle involved in the accident was suv.The vehicle sustained damage on its back.frame 150, The road had suv.The vehicle involved in the accident was suv.The vehicle sustained damage on its back.frame 180, The road had suv.The vehicle involved in the accident was suv.The vehicle sustained damage on its back.frame 210, The road had car.The vehicle involved in the accident was car.The vehicle sustained damage on its back.frame 240, The road had cars.The vehicle involved in the accident was car.The vehicle sustained damage on its back.frame 270, The road had motorcycles.The vehicle involved in the accident was car.The vehicle sustained damage on its back.frame 300, The number of vehicles are 2.The road had cars.The vehicle involved in the accident was car.The vehicle sustained damage on its back.frame 330, The number of vehicles are 2.The road had cars.The vehicle involved in the accident was car.The vehicle sustained damage on its back.frame 360, The road had motorcycles.The vehicle involved in the accident was car.The vehicle sustained damage on its back.frame 390, The road had motorcycles.The vehicle involved in the accident was car.The vehicle sustained damage on its back.frame 420, The road had truck.The vehicle involved in the accident was suv.The vehicle sustained damage on its back.frame 450, The number of vehicles are 2.The road had truck.The vehicle involved in the accident was car.The vehicle sustained damage on its back.frame 480, The number of vehicles are 3.The road had cars.The vehicle involved in the accident was car.The vehicle sustained damage on its back.frame 510, The number of vehicles are 2.The road had motorcycles.The vehicle involved in the accident was car.The vehicle sustained damage on its back.frame 540, The number of vehicles are 2.The road had motorcycles.The vehicle involved in the accident was car.The vehicle sustained damage on its back.frame 570, The vehicle involved in the accident was car.The vehicle sustained damage on its back.frame 600, The vehicle sustained damage on its back.frame 630, The road had motorcycles.The vehicle involved in the accident was car.The vehicle sustained damage on its back.frame 660, The road had cars.The vehicle involved in the accident was car.The vehicle sustained damage on its back.frame 690, The number of vehicles are 2.The road had truck and car.The vehicle involved in the accident was suv.The vehicle sustained damage on its back.frame 720, The road had motorcycles.The vehicle involved in the accident was suv.The vehicle sustained damage on its back.frame 750, The road had bus.The vehicle involved in the accident was bus.The vehicle sustained damage on its back.frame 780, The number of vehicles are 2.The road had suvs.The vehicle involved in the accident was suv.The vehicle sustained damage on its back.frame 810, The number of vehicles are 2.The road had bus.The vehicle involved in the accident was bus.The vehicle sustained damage on its back.frame 840, The road had trains.The vehicle involved in the accident was train.The vehicle sustained damage on its back.frame 870, The number of vehicles are 2.The road had cars.The vehicle involved in the accident was car.The vehicle sustained damage on its back.frame 900, The number of vehicles are 2.The road had cars.The vehicle involved in the accident was suv.The vehicle sustained damage on its back.frame 930, The number of vehicles are 2.The road had cars.The vehicle involved in the accident was car.The vehicle sustained damage on its back.frame 960, The number of vehicles are 2.The road had suvs.The vehicle involved in the accident was suv.The vehicle sustained damage on its back.frame 990, The road had bmw.The vehicle involved in the accident was bmw.The vehicle sustained damage on its back.frame 1020, The road had bmw.The vehicle involved in the accident was bmw.The vehicle sustained damage on its back.frame 1050, The road had bmw.The vehicle involved in the accident was bmw.The vehicle sustained damage on its back.frame 1080, The road had bmw.The vehicle involved in the accident was bmw.The vehicle sustained damage on its back.frame 1110, The road had bmw.The vehicle involved in the accident was bmw.The vehicle sustained damage on its back.frame 1140, The road had bmw.The vehicle involved in the accident was bmw.The vehicle sustained damage on its back.frame 1170, The number of vehicles are 2.The road had cars.The vehicle involved in the accident was car.The vehicle sustained damage on its back.frame 1200, The number of vehicles are 2.The road had cars.The vehicle involved in the accident was car.The vehicle sustained damage on its back.frame 1230, The road had cars.The vehicle involved in the accident was car.The vehicle sustained damage on its back.frame 1260, The number of vehicles are 2.The road had cars.The vehicle involved in the accident was car.The vehicle sustained damage on its back.frame 1290, The number of vehicles are 2.The road had cars.The vehicle involved in the accident was car.The vehicle sustained damage on its back.frame 1320, The number of vehicles are 2.The road had cars.The vehicle involved in the accident was car.The vehicle sustained damage on its back.frame 1350, The number of vehicles are 2.The road had motorcycles.The vehicle involved in the accident was motorcycle.The vehicle sustained damage on its back.frame 1380, The road had motorcycles.The vehicle involved in the accident was motorcycle.The vehicle sustained damage on its back.frame 1410, The number of vehicles are 2.The road had motorcycles.The vehicle involved in the accident was motorcycle.The vehicle sustained damage on its back.frame 1440, The road had motorcycles.The vehicle involved in the accident was motorcycle.The vehicle sustained damage on its back.frame 1470, The road had motorcycles.The vehicle involved in the accident was motorcycle.The vehicle sustained damage on its back.frame 1500, The road had motorcycles.The vehicle involved in the accident was motorcycle.The vehicle sustained damage on its back.frame 1530, The number of vehicles are 2.The road had cars.The vehicle involved in the accident was car.The vehicle sustained damage on its back.frame 1560, The number of vehicles are 2.The road had truck and suv.The vehicle involved in the accident was car.The vehicle sustained damage on its back.frame 1590, The number of vehicles are 2.The road had truck and suv.The vehicle involved in the accident was suv.The vehicle sustained damage on its back.frame 1620, The number of vehicles are 2.The road had cars.The vehicle involved in the accident was airplane.The vehicle sustained damage on its back.frame 1650, The number of vehicles are 3.The road had suvs.The vehicle involved in the accident was airplane.The vehicle sustained damage on its back.frame 1680, The number of vehicles are 2.The road had cars.The vehicle involved in the accident was car.The vehicle sustained damage on its back.frame 1710, The number of vehicles are 2.The road had cars.The vehicle involved in the accident was bus.The vehicle sustained damage on its back.frame 1740, The road had train.The vehicle involved in the accident was train.The vehicle sustained damage on its back.frame 1770, The number of vehicles are 2.The road had car.The vehicle involved in the accident was car.The vehicle sustained damage on its back.frame 1800, The number of vehicles are 2.The road had cars.The vehicle involved in the accident was car.The vehicle sustained damage on its back.frame 1830, The road had motorcycles.The vehicle involved in the accident was car.The vehicle sustained damage on its back.frame 1860, The number of vehicles are 2.The road had bus.The vehicle involved in the accident was bus.The vehicle sustained damage on its back.frame 1890, The number of vehicles are 2.The road had bus.The vehicle involved in the accident was bus.The vehicle sustained damage on its back.frame 1920, The road had motorcycles.The vehicle sustained damage on its back.common for all frames, The accident occurred on highway.common for all frames, The accident took place at 7 : 00 am.common for all frames, The accident happened under weather condition, rainy.common for all frames, The incident took place during fall.\n",
            "CLIP_311.mp4\n"
          ]
        },
        {
          "output_type": "stream",
          "name": "stderr",
          "text": [
            "\n",
            "Processing Frames:   0%|          | 0/974 [00:00<?, ?frame/s]\u001b[A\n",
            "Processing Frames:  97%|█████████▋| 1921/1990 [24:21<00:52,  1.31frame/s]\n",
            "\n",
            "Processing Frames:   3%|▎         | 29/974 [00:10<00:03, 238.90frame/s]\u001b[A"
          ]
        },
        {
          "output_type": "stream",
          "name": "stdout",
          "text": [
            "\n",
            "\n",
            "\n"
          ]
        },
        {
          "output_type": "stream",
          "name": "stderr",
          "text": [
            "\n",
            "Processing Frames:   3%|▎         | 30/974 [00:23<16:20,  1.04s/frame] \u001b[A"
          ]
        },
        {
          "output_type": "stream",
          "name": "stdout",
          "text": [
            "\n"
          ]
        },
        {
          "output_type": "stream",
          "name": "stderr",
          "text": [
            "\n",
            "Processing Frames:   6%|▌         | 59/974 [00:45<13:02,  1.17frame/s]\u001b[A"
          ]
        },
        {
          "output_type": "stream",
          "name": "stdout",
          "text": [
            "\n"
          ]
        },
        {
          "output_type": "stream",
          "name": "stderr",
          "text": [
            "\n",
            "Processing Frames:   9%|▉         | 88/974 [01:08<12:20,  1.20frame/s]\u001b[A"
          ]
        },
        {
          "output_type": "stream",
          "name": "stdout",
          "text": [
            "\n"
          ]
        },
        {
          "output_type": "stream",
          "name": "stderr",
          "text": [
            "\n",
            "Processing Frames:  12%|█▏        | 117/974 [01:31<11:34,  1.23frame/s]\u001b[A\n",
            "Processing Frames:  14%|█▎        | 132/974 [01:31<08:45,  1.60frame/s]\u001b[A"
          ]
        },
        {
          "output_type": "stream",
          "name": "stdout",
          "text": [
            "\n"
          ]
        },
        {
          "output_type": "stream",
          "name": "stderr",
          "text": [
            "\n",
            "Processing Frames:  15%|█▍        | 145/974 [01:50<08:37,  1.60frame/s]\u001b[A\n",
            "Processing Frames:  15%|█▍        | 146/974 [01:54<11:54,  1.16frame/s]\u001b[A\n",
            "Processing Frames:  17%|█▋        | 168/974 [01:54<07:36,  1.77frame/s]\u001b[A"
          ]
        },
        {
          "output_type": "stream",
          "name": "stdout",
          "text": [
            "\n"
          ]
        },
        {
          "output_type": "stream",
          "name": "stderr",
          "text": [
            "\n",
            "Processing Frames:  18%|█▊        | 174/974 [02:10<07:32,  1.77frame/s]\u001b[A\n",
            "Processing Frames:  18%|█▊        | 175/974 [02:18<12:36,  1.06frame/s]\u001b[A\n",
            "Processing Frames:  20%|██        | 199/974 [02:18<07:21,  1.75frame/s]\u001b[A\n",
            "Processing Frames:  21%|██        | 203/974 [02:30<07:19,  1.75frame/s]\u001b[A"
          ]
        },
        {
          "output_type": "stream",
          "name": "stdout",
          "text": [
            "\n"
          ]
        },
        {
          "output_type": "stream",
          "name": "stderr",
          "text": [
            "\n",
            "Processing Frames:  21%|██        | 204/974 [02:39<12:27,  1.03frame/s]\u001b[A\n",
            "Processing Frames:  23%|██▎       | 227/974 [02:39<07:08,  1.74frame/s]\u001b[A\n",
            "Processing Frames:  24%|██▍       | 232/974 [02:50<07:05,  1.74frame/s]\u001b[A"
          ]
        },
        {
          "output_type": "stream",
          "name": "stdout",
          "text": [
            "\n"
          ]
        },
        {
          "output_type": "stream",
          "name": "stderr",
          "text": [
            "\n",
            "Processing Frames:  24%|██▍       | 233/974 [03:03<12:31,  1.01s/frame]\u001b[A\n",
            "Processing Frames:  26%|██▌       | 255/974 [03:03<07:11,  1.67frame/s]\u001b[A\n",
            "Processing Frames:  27%|██▋       | 261/974 [03:20<07:07,  1.67frame/s]\u001b[A\n",
            "Processing Frames:  27%|██▋       | 262/974 [03:24<11:45,  1.01frame/s]\u001b[A\n",
            "Processing Frames:  29%|██▉       | 285/974 [03:25<06:34,  1.75frame/s]\u001b[A"
          ]
        },
        {
          "output_type": "stream",
          "name": "stdout",
          "text": [
            "\n"
          ]
        },
        {
          "output_type": "stream",
          "name": "stderr",
          "text": [
            "\n",
            "Processing Frames:  30%|██▉       | 290/974 [03:40<06:31,  1.75frame/s]\u001b[A\n",
            "Processing Frames:  30%|██▉       | 291/974 [03:48<11:39,  1.02s/frame]\u001b[A\n",
            "Processing Frames:  32%|███▏      | 314/974 [03:48<06:28,  1.70frame/s]\u001b[A\n",
            "Processing Frames:  33%|███▎      | 319/974 [04:00<06:25,  1.70frame/s]\u001b[A"
          ]
        },
        {
          "output_type": "stream",
          "name": "stdout",
          "text": [
            "\n",
            "\n"
          ]
        },
        {
          "output_type": "stream",
          "name": "stderr",
          "text": [
            "\n",
            "Processing Frames:  33%|███▎      | 320/974 [04:11<11:10,  1.02s/frame]\u001b[A\n",
            "Processing Frames:  34%|███▍      | 335/974 [04:11<07:20,  1.45frame/s]\u001b[A"
          ]
        },
        {
          "output_type": "stream",
          "name": "stdout",
          "text": [
            "\n"
          ]
        },
        {
          "output_type": "stream",
          "name": "stderr",
          "text": [
            "\n",
            "Processing Frames:  36%|███▌      | 348/974 [04:30<07:11,  1.45frame/s]\u001b[A\n",
            "Processing Frames:  36%|███▌      | 349/974 [04:33<10:03,  1.04frame/s]\u001b[A\n",
            "Processing Frames:  38%|███▊      | 372/974 [04:33<05:39,  1.77frame/s]\u001b[A"
          ]
        },
        {
          "output_type": "stream",
          "name": "stdout",
          "text": [
            "\n"
          ]
        },
        {
          "output_type": "stream",
          "name": "stderr",
          "text": [
            "\n",
            "Processing Frames:  39%|███▊      | 377/974 [04:50<05:36,  1.77frame/s]\u001b[A\n",
            "Processing Frames:  39%|███▉      | 378/974 [04:56<10:02,  1.01s/frame]\u001b[A\n",
            "Processing Frames:  41%|████▏     | 403/974 [04:56<05:21,  1.78frame/s]\u001b[A\n",
            "Processing Frames:  42%|████▏     | 406/974 [05:10<05:19,  1.78frame/s]\u001b[A"
          ]
        },
        {
          "output_type": "stream",
          "name": "stdout",
          "text": [
            "\n",
            "\n"
          ]
        },
        {
          "output_type": "stream",
          "name": "stderr",
          "text": [
            "\n",
            "Processing Frames:  42%|████▏     | 407/974 [05:18<09:33,  1.01s/frame]\u001b[A\n",
            "Processing Frames:  44%|████▍     | 432/974 [05:18<05:01,  1.80frame/s]\u001b[A\n",
            "Processing Frames:  45%|████▍     | 435/974 [05:30<04:59,  1.80frame/s]\u001b[A"
          ]
        },
        {
          "output_type": "stream",
          "name": "stdout",
          "text": [
            "\n",
            "\n"
          ]
        },
        {
          "output_type": "stream",
          "name": "stderr",
          "text": [
            "\n",
            "Processing Frames:  45%|████▍     | 436/974 [05:42<09:24,  1.05s/frame]\u001b[A\n",
            "Processing Frames:  47%|████▋     | 461/974 [05:42<04:54,  1.74frame/s]\u001b[A"
          ]
        },
        {
          "output_type": "stream",
          "name": "stdout",
          "text": [
            "\n"
          ]
        },
        {
          "output_type": "stream",
          "name": "stderr",
          "text": [
            "\n",
            "Processing Frames:  48%|████▊     | 464/974 [06:00<04:52,  1.74frame/s]\u001b[A\n",
            "Processing Frames:  48%|████▊     | 465/974 [06:03<08:44,  1.03s/frame]\u001b[A\n",
            "Processing Frames:  49%|████▉     | 479/974 [06:03<05:47,  1.42frame/s]\u001b[A"
          ]
        },
        {
          "output_type": "stream",
          "name": "stdout",
          "text": [
            "\n"
          ]
        },
        {
          "output_type": "stream",
          "name": "stderr",
          "text": [
            "\n",
            "Processing Frames:  51%|█████     | 493/974 [06:20<05:37,  1.42frame/s]\u001b[A"
          ]
        },
        {
          "output_type": "stream",
          "name": "stdout",
          "text": [
            "\n"
          ]
        },
        {
          "output_type": "stream",
          "name": "stderr",
          "text": [
            "\n",
            "Processing Frames:  51%|█████     | 494/974 [06:27<07:50,  1.02frame/s]\u001b[A\n",
            "Processing Frames:  53%|█████▎    | 519/974 [06:27<04:11,  1.81frame/s]\u001b[A\n",
            "Processing Frames:  54%|█████▎    | 522/974 [06:40<04:09,  1.81frame/s]\u001b[A"
          ]
        },
        {
          "output_type": "stream",
          "name": "stdout",
          "text": [
            "\n"
          ]
        },
        {
          "output_type": "stream",
          "name": "stderr",
          "text": [
            "\n",
            "Processing Frames:  54%|█████▎    | 523/974 [06:49<07:39,  1.02s/frame]\u001b[A\n",
            "Processing Frames:  55%|█████▌    | 537/974 [06:50<05:06,  1.42frame/s]\u001b[A\n",
            "Processing Frames:  57%|█████▋    | 551/974 [07:00<04:56,  1.42frame/s]\u001b[A"
          ]
        },
        {
          "output_type": "stream",
          "name": "stdout",
          "text": [
            "\n",
            "\n"
          ]
        },
        {
          "output_type": "stream",
          "name": "stderr",
          "text": [
            "\n",
            "Processing Frames:  57%|█████▋    | 552/974 [07:12<06:42,  1.05frame/s]\u001b[A\n",
            "Processing Frames:  59%|█████▉    | 579/974 [07:12<03:26,  1.92frame/s]\u001b[A"
          ]
        },
        {
          "output_type": "stream",
          "name": "stdout",
          "text": [
            "\n"
          ]
        },
        {
          "output_type": "stream",
          "name": "stderr",
          "text": [
            "\n",
            "Processing Frames:  60%|█████▉    | 580/974 [07:30<03:25,  1.92frame/s]\u001b[A\n",
            "Processing Frames:  60%|█████▉    | 581/974 [07:35<06:45,  1.03s/frame]\u001b[A\n",
            "Processing Frames:  62%|██████▏   | 604/974 [07:35<03:38,  1.70frame/s]\u001b[A"
          ]
        },
        {
          "output_type": "stream",
          "name": "stdout",
          "text": [
            "\n"
          ]
        },
        {
          "output_type": "stream",
          "name": "stderr",
          "text": [
            "\n",
            "Processing Frames:  63%|██████▎   | 609/974 [07:50<03:35,  1.70frame/s]\u001b[A\n",
            "Processing Frames:  63%|██████▎   | 610/974 [07:57<06:06,  1.01s/frame]\u001b[A\n",
            "Processing Frames:  65%|██████▌   | 634/974 [07:57<03:12,  1.77frame/s]\u001b[A\n",
            "Processing Frames:  66%|██████▌   | 638/974 [08:10<03:09,  1.77frame/s]\u001b[A"
          ]
        },
        {
          "output_type": "stream",
          "name": "stdout",
          "text": [
            "\n"
          ]
        },
        {
          "output_type": "stream",
          "name": "stderr",
          "text": [
            "\n",
            "Processing Frames:  66%|██████▌   | 639/974 [08:20<05:49,  1.04s/frame]\u001b[A\n",
            "Processing Frames:  68%|██████▊   | 666/974 [08:20<02:50,  1.81frame/s]\u001b[A\n",
            "Processing Frames:  68%|██████▊   | 667/974 [08:31<02:49,  1.81frame/s]\u001b[A"
          ]
        },
        {
          "output_type": "stream",
          "name": "stdout",
          "text": [
            "\n"
          ]
        },
        {
          "output_type": "stream",
          "name": "stderr",
          "text": [
            "\n",
            "Processing Frames:  69%|██████▊   | 668/974 [08:42<05:20,  1.05s/frame]\u001b[A\n",
            "Processing Frames:  70%|███████   | 683/974 [08:43<03:22,  1.43frame/s]\u001b[A"
          ]
        },
        {
          "output_type": "stream",
          "name": "stdout",
          "text": [
            "\n"
          ]
        },
        {
          "output_type": "stream",
          "name": "stderr",
          "text": [
            "\n",
            "Processing Frames:  71%|███████▏  | 696/974 [09:00<03:13,  1.43frame/s]\u001b[A\n",
            "Processing Frames:  72%|███████▏  | 697/974 [09:06<04:34,  1.01frame/s]\u001b[A\n",
            "Processing Frames:  74%|███████▍  | 724/974 [09:06<02:13,  1.87frame/s]\u001b[A"
          ]
        },
        {
          "output_type": "stream",
          "name": "stdout",
          "text": [
            "\n"
          ]
        },
        {
          "output_type": "stream",
          "name": "stderr",
          "text": [
            "\n",
            "Processing Frames:  74%|███████▍  | 725/974 [09:20<02:13,  1.87frame/s]\u001b[A\n",
            "Processing Frames:  75%|███████▍  | 726/974 [09:28<04:17,  1.04s/frame]\u001b[A\n",
            "Processing Frames:  76%|███████▌  | 741/974 [09:28<02:41,  1.44frame/s]\u001b[A\n",
            "Processing Frames:  77%|███████▋  | 754/974 [09:40<02:32,  1.44frame/s]\u001b[A"
          ]
        },
        {
          "output_type": "stream",
          "name": "stdout",
          "text": [
            "\n",
            "\n"
          ]
        },
        {
          "output_type": "stream",
          "name": "stderr",
          "text": [
            "\n",
            "Processing Frames:  78%|███████▊  | 755/974 [09:50<03:30,  1.04frame/s]\u001b[A"
          ]
        },
        {
          "output_type": "stream",
          "name": "stdout",
          "text": [
            "\n",
            "\n"
          ]
        },
        {
          "output_type": "stream",
          "name": "stderr",
          "text": [
            "\n",
            "Processing Frames:  80%|████████  | 784/974 [10:13<02:47,  1.13frame/s]\u001b[A"
          ]
        },
        {
          "output_type": "stream",
          "name": "stdout",
          "text": [
            "\n",
            "\n"
          ]
        },
        {
          "output_type": "stream",
          "name": "stderr",
          "text": [
            "\n",
            "Processing Frames:  83%|████████▎ | 813/974 [10:35<02:12,  1.21frame/s]\u001b[A"
          ]
        },
        {
          "output_type": "stream",
          "name": "stdout",
          "text": [
            "\n",
            "\n"
          ]
        },
        {
          "output_type": "stream",
          "name": "stderr",
          "text": [
            "\n",
            "Processing Frames:  86%|████████▋ | 842/974 [10:58<01:47,  1.23frame/s]\u001b[A\n",
            "Processing Frames:  89%|████████▉ | 870/974 [10:58<00:56,  1.84frame/s]\u001b[A\n",
            "Processing Frames:  89%|████████▉ | 870/974 [11:10<00:56,  1.84frame/s]\u001b[A"
          ]
        },
        {
          "output_type": "stream",
          "name": "stdout",
          "text": [
            "\n"
          ]
        },
        {
          "output_type": "stream",
          "name": "stderr",
          "text": [
            "\n",
            "Processing Frames:  89%|████████▉ | 871/974 [11:19<01:32,  1.12frame/s]\u001b[A\n",
            "Processing Frames:  92%|█████████▏| 896/974 [11:20<00:43,  1.79frame/s]\u001b[A\n",
            "Processing Frames:  92%|█████████▏| 899/974 [11:30<00:41,  1.79frame/s]\u001b[A"
          ]
        },
        {
          "output_type": "stream",
          "name": "stdout",
          "text": [
            "\n",
            "\n"
          ]
        },
        {
          "output_type": "stream",
          "name": "stderr",
          "text": [
            "\n",
            "Processing Frames:  92%|█████████▏| 900/974 [11:43<01:11,  1.03frame/s]\u001b[A"
          ]
        },
        {
          "output_type": "stream",
          "name": "stdout",
          "text": [
            "\n",
            "\n",
            "\n"
          ]
        },
        {
          "output_type": "stream",
          "name": "stderr",
          "text": [
            "\n",
            "Processing Frames:  95%|█████████▌| 929/974 [12:05<00:39,  1.14frame/s]\u001b[A\n",
            "Processing Frames:  98%|█████████▊| 953/974 [12:05<00:12,  1.74frame/s]\u001b[A"
          ]
        },
        {
          "output_type": "stream",
          "name": "stdout",
          "text": [
            "\n"
          ]
        },
        {
          "output_type": "stream",
          "name": "stderr",
          "text": [
            "\n",
            "Processing Frames:  98%|█████████▊| 957/974 [12:20<00:09,  1.74frame/s]\u001b[A"
          ]
        },
        {
          "output_type": "stream",
          "name": "stdout",
          "text": [
            "\n"
          ]
        },
        {
          "output_type": "stream",
          "name": "stderr",
          "text": [
            "\n",
            "Processing Frames:  98%|█████████▊| 958/974 [12:27<00:15,  1.06frame/s]\u001b[A"
          ]
        },
        {
          "output_type": "stream",
          "name": "stdout",
          "text": [
            "array_of_dict\n",
            "[{'none': 3, 'airport': 3, 'highway': 27}, {'night': 2, '7 : 00 am': 3, 'late afternoon': 8, 'evening': 19, '5 : 00': 1}, {'clear': 3, 'rainy': 4, 'cloudy': 19, 'stormy': 6, 'foggy': 1}, {'winter': 3, 'fall': 21, 'summer': 9}]\n",
            "{'The vehicle involved in the accident was truck.', 'The road had cars.', 'The road had motorcycles.', 'The vehicle involved in the accident was wrecker.', 'The accident happened under weather condition, cloudy.', 'The vehicle sustained damage on its back.', 'The vehicle involved in the accident was van.', 'The road had truck and van.', 'The vehicle involved in the accident was car.', 'The road had truck.', 'The vehicle involved in the accident was bus.', 'The road had van.', 'The accident took place at evening.', 'The incident took place during fall.', 'The road had trucks.', 'The accident occurred on highway.', 'The number of vehicles are 2.'}\n",
            "frame 29, The vehicle sustained damage on its back.frame 58, The road had motorcycles.The vehicle involved in the accident was bus.The vehicle sustained damage on its back.frame 87, The road had motorcycles.The vehicle involved in the accident was bus.The vehicle sustained damage on its back.frame 116, The road had motorcycles.The vehicle involved in the accident was bus.The vehicle sustained damage on its back.frame 145, The road had van.The vehicle involved in the accident was van.The vehicle sustained damage on its back.frame 174, The road had truck and van.The vehicle involved in the accident was truck.The vehicle sustained damage on its back.frame 203, The road had trucks.The vehicle involved in the accident was truck.The vehicle sustained damage on its back.frame 232, The road had cars.The vehicle involved in the accident was car.The vehicle sustained damage on its back.frame 261, The number of vehicles are 2.The road had cars.The vehicle involved in the accident was car.The vehicle sustained damage on its back.frame 290, The road had cars.The vehicle involved in the accident was car.The vehicle sustained damage on its back.frame 319, The road had cars.The vehicle sustained damage on its back.frame 348, The road had truck.The vehicle involved in the accident was truck.The vehicle sustained damage on its back.frame 377, The road had cars.The vehicle involved in the accident was car.The vehicle sustained damage on its back.frame 406, The road had cars.The vehicle sustained damage on its back.frame 435, The road had cars.The vehicle sustained damage on its back.frame 464, The road had cars.The vehicle involved in the accident was car.The vehicle sustained damage on its back.frame 493, The road had truck.The vehicle sustained damage on its back.frame 522, The road had cars.The vehicle involved in the accident was car.The vehicle sustained damage on its back.frame 551, The road had motorcycles.The vehicle sustained damage on its back.frame 580, The road had cars.The vehicle involved in the accident was car.The vehicle sustained damage on its back.frame 609, The road had trucks.The vehicle involved in the accident was car.The vehicle sustained damage on its back.frame 638, The road had trucks.The vehicle involved in the accident was truck.The vehicle sustained damage on its back.frame 667, The road had cars.The vehicle involved in the accident was car.The vehicle sustained damage on its back.frame 696, The road had trucks.The vehicle involved in the accident was wrecker.The vehicle sustained damage on its back.frame 725, The road had truck.The vehicle involved in the accident was truck.The vehicle sustained damage on its back.frame 754, The road had truck.The vehicle sustained damage on its back.frame 783, The road had truck.The vehicle sustained damage on its back.frame 812, The road had truck.The vehicle sustained damage on its back.frame 841, The road had truck.The vehicle sustained damage on its back.frame 870, The road had cars.The vehicle involved in the accident was car.The vehicle sustained damage on its back.frame 899, The road had truck.The vehicle sustained damage on its back.frame 928, The vehicle sustained damage on its back.frame 957, The road had motorcycles.The vehicle sustained damage on its back.common for all frames, The accident occurred on highway.common for all frames, The accident took place at evening.common for all frames, The accident happened under weather condition, cloudy.common for all frames, The incident took place during fall.\n",
            "CLIP_289.mp4\n"
          ]
        },
        {
          "output_type": "stream",
          "name": "stderr",
          "text": [
            "Processing Frames:  99%|█████████▊| 960/974 [12:27<00:10,  1.28frame/s]\n"
          ]
        },
        {
          "output_type": "stream",
          "name": "stdout",
          "text": [
            "\n"
          ]
        },
        {
          "output_type": "stream",
          "name": "stderr",
          "text": [
            "Processing Frames:   6%|▌         | 48/865 [00:33<06:01,  2.26frame/s]"
          ]
        },
        {
          "output_type": "stream",
          "name": "stdout",
          "text": [
            "\n"
          ]
        },
        {
          "output_type": "stream",
          "name": "stderr",
          "text": [
            "\rProcessing Frames:   6%|▌         | 49/865 [00:44<14:40,  1.08s/frame]"
          ]
        },
        {
          "output_type": "stream",
          "name": "stdout",
          "text": [
            "\n"
          ]
        },
        {
          "output_type": "stream",
          "name": "stderr",
          "text": [
            "\rProcessing Frames:   8%|▊         | 73/865 [01:07<13:26,  1.02s/frame]"
          ]
        },
        {
          "output_type": "stream",
          "name": "stdout",
          "text": [
            "\n"
          ]
        },
        {
          "output_type": "stream",
          "name": "stderr",
          "text": [
            "\rProcessing Frames:  11%|█         | 97/865 [01:29<12:21,  1.04frame/s]"
          ]
        },
        {
          "output_type": "stream",
          "name": "stdout",
          "text": [
            "\n"
          ]
        },
        {
          "output_type": "stream",
          "name": "stderr",
          "text": [
            "\rProcessing Frames:  14%|█▍        | 121/865 [01:52<11:57,  1.04frame/s]"
          ]
        },
        {
          "output_type": "stream",
          "name": "stdout",
          "text": [
            "\n"
          ]
        },
        {
          "output_type": "stream",
          "name": "stderr",
          "text": [
            "\rProcessing Frames:  17%|█▋        | 145/865 [02:13<11:15,  1.07frame/s]"
          ]
        },
        {
          "output_type": "stream",
          "name": "stdout",
          "text": [
            "\n"
          ]
        },
        {
          "output_type": "stream",
          "name": "stderr",
          "text": [
            "\rProcessing Frames:  20%|█▉        | 169/865 [02:36<10:58,  1.06frame/s]"
          ]
        },
        {
          "output_type": "stream",
          "name": "stdout",
          "text": [
            "\n"
          ]
        },
        {
          "output_type": "stream",
          "name": "stderr",
          "text": [
            "Processing Frames:  25%|██▍       | 216/865 [03:13<07:14,  1.49frame/s]"
          ]
        },
        {
          "output_type": "stream",
          "name": "stdout",
          "text": [
            "\n"
          ]
        },
        {
          "output_type": "stream",
          "name": "stderr",
          "text": [
            "Processing Frames:  39%|███▉      | 337/865 [05:13<08:33,  1.03frame/s]"
          ]
        },
        {
          "output_type": "stream",
          "name": "stdout",
          "text": [
            "\n"
          ]
        },
        {
          "output_type": "stream",
          "name": "stderr",
          "text": [
            "\rProcessing Frames:  42%|████▏     | 361/865 [05:34<07:56,  1.06frame/s]"
          ]
        },
        {
          "output_type": "stream",
          "name": "stdout",
          "text": [
            "\n"
          ]
        },
        {
          "output_type": "stream",
          "name": "stderr",
          "text": [
            "Processing Frames:  58%|█████▊    | 505/865 [07:50<06:06,  1.02s/frame]"
          ]
        },
        {
          "output_type": "stream",
          "name": "stdout",
          "text": [
            "\n"
          ]
        },
        {
          "output_type": "stream",
          "name": "stderr",
          "text": [
            "Processing Frames:  67%|██████▋   | 576/865 [08:35<03:11,  1.51frame/s]"
          ]
        },
        {
          "output_type": "stream",
          "name": "stdout",
          "text": [
            "\n"
          ]
        },
        {
          "output_type": "stream",
          "name": "stderr",
          "text": [
            "Processing Frames:  69%|██████▉   | 601/865 [09:19<04:31,  1.03s/frame]"
          ]
        },
        {
          "output_type": "stream",
          "name": "stdout",
          "text": [
            "\n"
          ]
        },
        {
          "output_type": "stream",
          "name": "stderr",
          "text": [
            "Processing Frames: 100%|██████████| 865/865 [13:25<00:00,  1.14s/frame]"
          ]
        },
        {
          "output_type": "stream",
          "name": "stdout",
          "text": [
            "array_of_dict\n",
            "[{'intersection': 28, 'high falls': 3, 'city': 1, 'car accident': 3, 'florida': 1}, {'evening': 24, '7 : 00 am': 1, 'afternoon': 11}, {'rainy': 23, 'cloudy': 5, 'sunny': 8}, {'summer': 33, 'fall': 3}]\n",
            "{'The vehicle involved in the accident was truck.', 'The road had cars.', 'The accident occurred on intersection.', 'The road had suvs.', 'The vehicle sustained damage on its back.', 'The accident happened under weather condition, rainy.', 'The incident took place during summer.', 'The vehicle involved in the accident was car.', 'The road had truck.', 'The number of vehicles are 3.', 'The vehicle sustained damage on its front.', 'The accident took place at evening.', 'The road had truck and suv.', 'The vehicle involved in the accident was suv.', 'The number of vehicles are 2.'}\n",
            "frame 24, The road had cars.The vehicle involved in the accident was car.The vehicle sustained damage on its back.frame 48, The road had cars.The vehicle involved in the accident was car.The vehicle sustained damage on its back.frame 72, The road had cars.The vehicle involved in the accident was car.The vehicle sustained damage on its back.frame 96, The road had cars.The vehicle involved in the accident was car.The vehicle sustained damage on its back.frame 120, The road had cars.The vehicle involved in the accident was car.The vehicle sustained damage on its front.frame 144, The road had cars.The vehicle involved in the accident was suv.The vehicle sustained damage on its front.frame 168, The road had cars.The vehicle involved in the accident was car.The vehicle sustained damage on its back.frame 192, The road had cars.The vehicle involved in the accident was car.The vehicle sustained damage on its front.frame 216, The road had cars.The vehicle involved in the accident was car.The vehicle sustained damage on its back.frame 240, The number of vehicles are 3.The road had cars.The vehicle involved in the accident was car.The vehicle sustained damage on its front.frame 264, The number of vehicles are 2.The road had cars.The vehicle involved in the accident was car.The vehicle sustained damage on its front.frame 288, The number of vehicles are 2.The road had cars.The vehicle involved in the accident was car.The vehicle sustained damage on its front.frame 312, The number of vehicles are 2.The road had cars.The vehicle involved in the accident was car.The vehicle sustained damage on its front.frame 336, The number of vehicles are 3.The road had cars.The vehicle involved in the accident was car.The vehicle sustained damage on its front.frame 360, The road had cars.The vehicle involved in the accident was car.The vehicle sustained damage on its front.frame 384, The road had cars.The vehicle involved in the accident was car.The vehicle sustained damage on its front.frame 408, The number of vehicles are 2.The road had cars.The vehicle involved in the accident was car.The vehicle sustained damage on its front.frame 432, The number of vehicles are 2.The road had cars.The vehicle involved in the accident was car.The vehicle sustained damage on its front.frame 456, The number of vehicles are 3.The road had cars.The vehicle involved in the accident was car.The vehicle sustained damage on its front.frame 480, The number of vehicles are 2.The road had cars.The vehicle involved in the accident was car.The vehicle sustained damage on its back.frame 504, The number of vehicles are 2.The road had cars.The vehicle involved in the accident was car.The vehicle sustained damage on its back.frame 528, The road had truck.The vehicle involved in the accident was truck.The vehicle sustained damage on its back.frame 552, The number of vehicles are 2.The road had truck and suv.The vehicle involved in the accident was suv.The vehicle sustained damage on its front.frame 576, The road had suvs.The vehicle involved in the accident was suv.The vehicle sustained damage on its front.frame 600, The number of vehicles are 2.The road had truck and suv.The vehicle involved in the accident was suv.The vehicle sustained damage on its front.frame 624, The road had truck.The vehicle involved in the accident was suv.The vehicle sustained damage on its front.frame 648, The number of vehicles are 2.The road had cars.The vehicle involved in the accident was car.The vehicle sustained damage on its back.frame 672, The number of vehicles are 2.The road had cars.The vehicle involved in the accident was car.The vehicle sustained damage on its back.frame 696, The number of vehicles are 2.The road had cars.The vehicle involved in the accident was car.The vehicle sustained damage on its front.frame 720, The number of vehicles are 2.The road had cars.The vehicle involved in the accident was car.The vehicle sustained damage on its back.frame 744, The number of vehicles are 2.The road had cars.The vehicle involved in the accident was car.The vehicle sustained damage on its back.frame 768, The number of vehicles are 3.The road had cars.The vehicle involved in the accident was car.The vehicle sustained damage on its front.frame 792, The number of vehicles are 3.The road had cars.The vehicle involved in the accident was car.The vehicle sustained damage on its back.frame 816, The number of vehicles are 2.The road had cars.The vehicle involved in the accident was car.The vehicle sustained damage on its front.frame 840, The number of vehicles are 2.The road had cars.The vehicle involved in the accident was car.The vehicle sustained damage on its front.frame 864, The number of vehicles are 2.The road had cars.The vehicle involved in the accident was car.The vehicle sustained damage on its front.common for all frames, The accident occurred on intersection.common for all frames, The accident took place at evening.common for all frames, The accident happened under weather condition, rainy.common for all frames, The incident took place during summer.\n",
            "CLIP_336.mp4\n"
          ]
        },
        {
          "output_type": "stream",
          "name": "stderr",
          "text": [
            "\n",
            "Processing Frames: 100%|██████████| 865/865 [13:25<00:00,  1.07frame/s]\n",
            "\n",
            "Processing Frames:   0%|          | 1/924 [00:00<08:16,  1.86frame/s]\u001b[A"
          ]
        },
        {
          "output_type": "stream",
          "name": "stdout",
          "text": [
            "\n"
          ]
        },
        {
          "output_type": "stream",
          "name": "stderr",
          "text": [
            "\n",
            "Processing Frames:   3%|▎         | 31/924 [00:23<11:22,  1.31frame/s]\u001b[A\n",
            "Processing Frames:   6%|▌         | 56/924 [00:23<05:08,  2.81frame/s]\u001b[A\n",
            "Processing Frames:   6%|▋         | 60/924 [00:37<05:07,  2.81frame/s]\u001b[A"
          ]
        },
        {
          "output_type": "stream",
          "name": "stdout",
          "text": [
            "\n"
          ]
        },
        {
          "output_type": "stream",
          "name": "stderr",
          "text": [
            "\n",
            "Processing Frames:   7%|▋         | 61/924 [00:45<12:42,  1.13frame/s]\u001b[A\n",
            "Processing Frames:   9%|▉         | 84/924 [00:45<06:37,  2.11frame/s]\u001b[A\n",
            "Processing Frames:  10%|▉         | 90/924 [00:57<06:34,  2.11frame/s]\u001b[A"
          ]
        },
        {
          "output_type": "stream",
          "name": "stdout",
          "text": [
            "\n"
          ]
        },
        {
          "output_type": "stream",
          "name": "stderr",
          "text": [
            "\n",
            "Processing Frames:  10%|▉         | 91/924 [01:08<13:14,  1.05frame/s]\u001b[A\n",
            "Processing Frames:  12%|█▏        | 110/924 [01:08<07:51,  1.73frame/s]\u001b[A"
          ]
        },
        {
          "output_type": "stream",
          "name": "stdout",
          "text": [
            "\n"
          ]
        },
        {
          "output_type": "stream",
          "name": "stderr",
          "text": [
            "\n",
            "Processing Frames:  13%|█▎        | 120/924 [01:27<07:45,  1.73frame/s]\u001b[A\n",
            "Processing Frames:  13%|█▎        | 121/924 [01:30<12:20,  1.08frame/s]\u001b[A\n",
            "Processing Frames:  15%|█▌        | 139/924 [01:30<07:40,  1.70frame/s]\u001b[A"
          ]
        },
        {
          "output_type": "stream",
          "name": "stdout",
          "text": [
            "\n"
          ]
        },
        {
          "output_type": "stream",
          "name": "stderr",
          "text": [
            "\n",
            "Processing Frames:  16%|█▌        | 150/924 [01:47<07:34,  1.70frame/s]\u001b[A\n",
            "Processing Frames:  16%|█▋        | 151/924 [01:53<12:05,  1.06frame/s]\u001b[A\n",
            "Processing Frames:  19%|█▊        | 171/924 [01:54<07:19,  1.71frame/s]\u001b[A\n",
            "Processing Frames:  19%|█▉        | 180/924 [02:07<07:14,  1.71frame/s]\u001b[A"
          ]
        },
        {
          "output_type": "stream",
          "name": "stdout",
          "text": [
            "\n"
          ]
        },
        {
          "output_type": "stream",
          "name": "stderr",
          "text": [
            "\n",
            "Processing Frames:  20%|█▉        | 181/924 [02:16<11:38,  1.06frame/s]\u001b[A\n",
            "Processing Frames:  21%|██        | 192/924 [02:16<08:36,  1.42frame/s]\u001b[A\n",
            "Processing Frames:  23%|██▎       | 208/924 [02:16<05:34,  2.14frame/s]\u001b[A\n",
            "Processing Frames:  23%|██▎       | 210/924 [02:27<05:33,  2.14frame/s]\u001b[A"
          ]
        },
        {
          "output_type": "stream",
          "name": "stdout",
          "text": [
            "\n",
            "\n"
          ]
        },
        {
          "output_type": "stream",
          "name": "stderr",
          "text": [
            "\n",
            "Processing Frames:  23%|██▎       | 211/924 [02:38<12:23,  1.04s/frame]\u001b[A\n",
            "Processing Frames:  25%|██▍       | 230/924 [02:38<06:52,  1.68frame/s]\u001b[A"
          ]
        },
        {
          "output_type": "stream",
          "name": "stdout",
          "text": [
            "\n"
          ]
        },
        {
          "output_type": "stream",
          "name": "stderr",
          "text": [
            "\n",
            "Processing Frames:  26%|██▌       | 240/924 [02:57<06:46,  1.68frame/s]\u001b[A\n",
            "Processing Frames:  26%|██▌       | 241/924 [03:02<11:21,  1.00frame/s]\u001b[A\n",
            "Processing Frames:  28%|██▊       | 258/924 [03:02<07:01,  1.58frame/s]\u001b[A"
          ]
        },
        {
          "output_type": "stream",
          "name": "stdout",
          "text": [
            "\n"
          ]
        },
        {
          "output_type": "stream",
          "name": "stderr",
          "text": [
            "\n",
            "Processing Frames:  29%|██▉       | 270/924 [03:17<06:54,  1.58frame/s]\u001b[A\n",
            "Processing Frames:  29%|██▉       | 271/924 [03:24<10:10,  1.07frame/s]\u001b[A\n",
            "Processing Frames:  31%|███▏      | 290/924 [03:24<06:11,  1.71frame/s]\u001b[A\n",
            "Processing Frames:  32%|███▏      | 300/924 [03:37<06:05,  1.71frame/s]\u001b[A"
          ]
        },
        {
          "output_type": "stream",
          "name": "stdout",
          "text": [
            "\n"
          ]
        },
        {
          "output_type": "stream",
          "name": "stderr",
          "text": [
            "\n",
            "Processing Frames:  33%|███▎      | 301/924 [03:47<09:52,  1.05frame/s]\u001b[A\n",
            "Processing Frames:  34%|███▍      | 316/924 [03:47<06:37,  1.53frame/s]\u001b[A"
          ]
        },
        {
          "output_type": "stream",
          "name": "stdout",
          "text": [
            "\n"
          ]
        },
        {
          "output_type": "stream",
          "name": "stderr",
          "text": [
            "\n",
            "Processing Frames:  36%|███▌      | 330/924 [04:07<06:28,  1.53frame/s]\u001b[A\n",
            "Processing Frames:  36%|███▌      | 331/924 [04:09<08:58,  1.10frame/s]\u001b[A\n",
            "Processing Frames:  37%|███▋      | 341/924 [04:10<06:50,  1.42frame/s]\u001b[A\n",
            "Processing Frames:  38%|███▊      | 355/924 [04:10<04:36,  2.06frame/s]\u001b[A"
          ]
        },
        {
          "output_type": "stream",
          "name": "stdout",
          "text": [
            "\n"
          ]
        },
        {
          "output_type": "stream",
          "name": "stderr",
          "text": [
            "\n",
            "Processing Frames:  39%|███▉      | 360/924 [04:27<04:33,  2.06frame/s]\u001b[A\n",
            "Processing Frames:  39%|███▉      | 361/924 [04:33<09:34,  1.02s/frame]\u001b[A\n",
            "Processing Frames:  41%|████      | 381/924 [04:33<05:14,  1.73frame/s]\u001b[A"
          ]
        },
        {
          "output_type": "stream",
          "name": "stdout",
          "text": [
            "\n"
          ]
        },
        {
          "output_type": "stream",
          "name": "stderr",
          "text": [
            "\n",
            "Processing Frames:  42%|████▏     | 390/924 [04:47<05:09,  1.73frame/s]\u001b[A\n",
            "Processing Frames:  42%|████▏     | 391/924 [04:56<08:50,  1.00frame/s]\u001b[A\n",
            "Processing Frames:  45%|████▍     | 412/924 [04:56<04:59,  1.71frame/s]\u001b[A\n",
            "Processing Frames:  45%|████▌     | 420/924 [05:07<04:54,  1.71frame/s]\u001b[A"
          ]
        },
        {
          "output_type": "stream",
          "name": "stdout",
          "text": [
            "\n"
          ]
        },
        {
          "output_type": "stream",
          "name": "stderr",
          "text": [
            "\n",
            "Processing Frames:  46%|████▌     | 421/924 [05:18<08:01,  1.05frame/s]\u001b[A\n",
            "Processing Frames:  48%|████▊     | 440/924 [05:18<04:48,  1.68frame/s]\u001b[A"
          ]
        },
        {
          "output_type": "stream",
          "name": "stdout",
          "text": [
            "\n"
          ]
        },
        {
          "output_type": "stream",
          "name": "stderr",
          "text": [
            "\n",
            "Processing Frames:  49%|████▊     | 450/924 [05:37<04:42,  1.68frame/s]\u001b[A\n",
            "Processing Frames:  49%|████▉     | 451/924 [05:41<07:33,  1.04frame/s]\u001b[A\n",
            "Processing Frames:  51%|█████     | 471/924 [05:41<04:29,  1.68frame/s]\u001b[A"
          ]
        },
        {
          "output_type": "stream",
          "name": "stdout",
          "text": [
            "\n"
          ]
        },
        {
          "output_type": "stream",
          "name": "stderr",
          "text": [
            "\n",
            "Processing Frames:  52%|█████▏    | 480/924 [05:57<04:23,  1.68frame/s]\u001b[A\n",
            "Processing Frames:  52%|█████▏    | 481/924 [06:03<06:54,  1.07frame/s]\u001b[A\n",
            "Processing Frames:  54%|█████▍    | 498/924 [06:03<04:23,  1.62frame/s]\u001b[A\n",
            "Processing Frames:  55%|█████▌    | 510/924 [06:17<04:15,  1.62frame/s]\u001b[A"
          ]
        },
        {
          "output_type": "stream",
          "name": "stdout",
          "text": [
            "\n"
          ]
        },
        {
          "output_type": "stream",
          "name": "stderr",
          "text": [
            "\n",
            "Processing Frames:  55%|█████▌    | 511/924 [06:27<06:27,  1.07frame/s]\u001b[A\n",
            "Processing Frames:  58%|█████▊    | 532/924 [06:27<03:46,  1.73frame/s]\u001b[A\n",
            "Processing Frames:  58%|█████▊    | 540/924 [06:37<03:42,  1.73frame/s]\u001b[A"
          ]
        },
        {
          "output_type": "stream",
          "name": "stdout",
          "text": [
            "\n"
          ]
        },
        {
          "output_type": "stream",
          "name": "stderr",
          "text": [
            "\n",
            "Processing Frames:  59%|█████▊    | 541/924 [06:50<06:06,  1.04frame/s]\u001b[A\n",
            "Processing Frames:  60%|█████▉    | 554/924 [06:50<04:15,  1.45frame/s]\u001b[A"
          ]
        },
        {
          "output_type": "stream",
          "name": "stdout",
          "text": [
            "\n"
          ]
        },
        {
          "output_type": "stream",
          "name": "stderr",
          "text": [
            "\n",
            "Processing Frames:  62%|██████▏   | 570/924 [07:07<04:04,  1.45frame/s]\u001b[A"
          ]
        },
        {
          "output_type": "stream",
          "name": "stdout",
          "text": [
            "\n"
          ]
        },
        {
          "output_type": "stream",
          "name": "stderr",
          "text": [
            "\n",
            "Processing Frames:  62%|██████▏   | 571/924 [07:12<05:18,  1.11frame/s]\u001b[A\n",
            "Processing Frames:  64%|██████▍   | 591/924 [07:12<03:10,  1.75frame/s]\u001b[A"
          ]
        },
        {
          "output_type": "stream",
          "name": "stdout",
          "text": [
            "\n"
          ]
        },
        {
          "output_type": "stream",
          "name": "stderr",
          "text": [
            "\n",
            "Processing Frames:  65%|██████▍   | 600/924 [07:27<03:05,  1.75frame/s]\u001b[A\n",
            "Processing Frames:  65%|██████▌   | 601/924 [07:36<05:02,  1.07frame/s]\u001b[A\n",
            "Processing Frames:  67%|██████▋   | 622/924 [07:36<02:54,  1.73frame/s]\u001b[A\n",
            "Processing Frames:  68%|██████▊   | 630/924 [07:47<02:50,  1.73frame/s]\u001b[A"
          ]
        },
        {
          "output_type": "stream",
          "name": "stdout",
          "text": [
            "\n"
          ]
        },
        {
          "output_type": "stream",
          "name": "stderr",
          "text": [
            "\n",
            "Processing Frames:  68%|██████▊   | 631/924 [07:57<04:32,  1.08frame/s]\u001b[A\n",
            "Processing Frames:  71%|███████   | 652/924 [07:58<02:34,  1.76frame/s]\u001b[A"
          ]
        },
        {
          "output_type": "stream",
          "name": "stdout",
          "text": [
            "\n"
          ]
        },
        {
          "output_type": "stream",
          "name": "stderr",
          "text": [
            "\n",
            "Processing Frames:  71%|███████▏  | 660/924 [08:17<02:30,  1.76frame/s]\u001b[A\n",
            "Processing Frames:  72%|███████▏  | 661/924 [08:21<04:12,  1.04frame/s]\u001b[A\n",
            "Processing Frames:  74%|███████▍  | 682/924 [08:21<02:21,  1.70frame/s]\u001b[A"
          ]
        },
        {
          "output_type": "stream",
          "name": "stdout",
          "text": [
            "\n"
          ]
        },
        {
          "output_type": "stream",
          "name": "stderr",
          "text": [
            "\n",
            "Processing Frames:  75%|███████▍  | 690/924 [08:37<02:17,  1.70frame/s]\u001b[A\n",
            "Processing Frames:  75%|███████▍  | 691/924 [08:43<03:39,  1.06frame/s]\u001b[A\n",
            "Processing Frames:  76%|███████▌  | 703/924 [08:43<02:33,  1.44frame/s]\u001b[A\n",
            "Processing Frames:  78%|███████▊  | 720/924 [08:43<01:32,  2.22frame/s]\u001b[A\n",
            "Processing Frames:  78%|███████▊  | 720/924 [08:57<01:32,  2.22frame/s]\u001b[A"
          ]
        },
        {
          "output_type": "stream",
          "name": "stdout",
          "text": [
            "\n",
            "\n"
          ]
        },
        {
          "output_type": "stream",
          "name": "stderr",
          "text": [
            "\n",
            "Processing Frames:  78%|███████▊  | 721/924 [09:06<03:43,  1.10s/frame]\u001b[A"
          ]
        },
        {
          "output_type": "stream",
          "name": "stdout",
          "text": [
            "\n"
          ]
        },
        {
          "output_type": "stream",
          "name": "stderr",
          "text": [
            "\n",
            "Processing Frames:  81%|████████▏ | 751/924 [09:30<02:39,  1.08frame/s]\u001b[A"
          ]
        },
        {
          "output_type": "stream",
          "name": "stdout",
          "text": [
            "array_of_dict\n",
            "[{'downtown': 19, 'east': 1, 'austin': 3, 'intersection': 1, 'airport': 1}, {'night': 1, '7 : 00 am': 6, 'evening': 17, '7 : 00': 1}, {'cloudy': 3, 'clear': 11, 'overcast': 3, 'rainy': 8}, {'summer': 24, 'winter': 1}]\n",
            "{'The road had cars.', 'The accident happened under weather condition, clear.', 'The road had motorcycles.', 'The vehicle sustained damage on its back.', 'The incident took place during summer.', 'The vehicle involved in the accident was car.', 'The road had bus.', 'The vehicle involved in the accident was bus.', 'The road had car.', 'The vehicle involved in the accident was sedan.', 'The accident occurred on downtown.', 'The accident took place at evening.', 'The road had car and motorcycle.'}\n",
            "frame 30, The road had cars.The vehicle involved in the accident was car.The vehicle sustained damage on its back.frame 60, The road had cars.The vehicle involved in the accident was bus.The vehicle sustained damage on its back.frame 90, The road had cars.The vehicle involved in the accident was car.The vehicle sustained damage on its back.frame 120, The road had cars.The vehicle involved in the accident was car.The vehicle sustained damage on its back.frame 150, The road had cars.The vehicle involved in the accident was car.The vehicle sustained damage on its back.frame 180, The road had cars.The vehicle involved in the accident was car.The vehicle sustained damage on its back.frame 210, The road had cars.The vehicle sustained damage on its back.frame 240, The road had cars.The vehicle involved in the accident was car.The vehicle sustained damage on its back.frame 270, The road had cars.The vehicle involved in the accident was car.The vehicle sustained damage on its back.frame 300, The road had car and motorcycle.The vehicle involved in the accident was car.The vehicle sustained damage on its back.frame 330, The road had cars.The vehicle involved in the accident was car.The vehicle sustained damage on its back.frame 360, The road had bus.The vehicle involved in the accident was bus.The vehicle sustained damage on its back.frame 390, The road had cars.The vehicle involved in the accident was car.The vehicle sustained damage on its back.frame 420, The road had cars.The vehicle involved in the accident was car.The vehicle sustained damage on its back.frame 450, The road had car.The vehicle involved in the accident was car.The vehicle sustained damage on its back.frame 480, The road had car.The vehicle involved in the accident was sedan.The vehicle sustained damage on its back.frame 510, The road had cars.The vehicle involved in the accident was car.The vehicle sustained damage on its back.frame 540, The road had bus.The vehicle involved in the accident was bus.The vehicle sustained damage on its back.frame 570, The road had cars.The vehicle sustained damage on its back.frame 600, The road had cars.The vehicle involved in the accident was car.The vehicle sustained damage on its back.frame 630, The road had cars.The vehicle involved in the accident was car.The vehicle sustained damage on its back.frame 660, The road had cars.The vehicle involved in the accident was bus.The vehicle sustained damage on its back.frame 690, The road had cars.The vehicle involved in the accident was car.The vehicle sustained damage on its back.frame 720, The road had cars.The vehicle sustained damage on its back.frame 750, The road had motorcycles.The vehicle involved in the accident was bus.The vehicle sustained damage on its back.common for all frames, The accident occurred on downtown.common for all frames, The accident took place at evening.common for all frames, The accident happened under weather condition, clear.common for all frames, The incident took place during summer.\n",
            "CLIP_307.mp4\n"
          ]
        },
        {
          "output_type": "stream",
          "name": "stderr",
          "text": [
            "Processing Frames:  81%|████████▏ | 751/924 [09:30<02:11,  1.32frame/s]\n",
            "Processing Frames:  18%|█▊        | 169/957 [02:39<13:33,  1.03s/frame]"
          ]
        },
        {
          "output_type": "stream",
          "name": "stdout",
          "text": [
            "\n"
          ]
        },
        {
          "output_type": "stream",
          "name": "stderr",
          "text": [
            "Processing Frames:  55%|█████▌    | 528/957 [08:07<04:55,  1.45frame/s]"
          ]
        },
        {
          "output_type": "stream",
          "name": "stdout",
          "text": [
            "\n"
          ]
        },
        {
          "output_type": "stream",
          "name": "stderr",
          "text": [
            "\rProcessing Frames:  55%|█████▌    | 529/957 [08:17<08:23,  1.18s/frame]"
          ]
        },
        {
          "output_type": "stream",
          "name": "stdout",
          "text": [
            "\n"
          ]
        },
        {
          "output_type": "stream",
          "name": "stderr",
          "text": [
            "\rProcessing Frames:  58%|█████▊    | 553/957 [08:41<07:19,  1.09s/frame]"
          ]
        },
        {
          "output_type": "stream",
          "name": "stdout",
          "text": [
            "\n"
          ]
        },
        {
          "output_type": "stream",
          "name": "stderr",
          "text": [
            "Processing Frames:  80%|████████  | 768/957 [11:57<02:07,  1.49frame/s]"
          ]
        },
        {
          "output_type": "stream",
          "name": "stdout",
          "text": [
            "\n"
          ]
        },
        {
          "output_type": "stream",
          "name": "stderr",
          "text": [
            "Processing Frames:  93%|█████████▎| 889/957 [14:00<01:11,  1.05s/frame]"
          ]
        },
        {
          "output_type": "stream",
          "name": "stdout",
          "text": [
            "\n"
          ]
        },
        {
          "output_type": "stream",
          "name": "stderr",
          "text": [
            "\rProcessing Frames:  95%|█████████▌| 913/957 [14:23<00:44,  1.02s/frame]"
          ]
        },
        {
          "output_type": "stream",
          "name": "stdout",
          "text": [
            "\n",
            "array_of_dict\n",
            "[{'highway': 33, 'intersection': 2, 'india': 3, 'none': 1}, {'evening': 36, 'night': 1, '7 : 00 am': 1, '7 : 00': 1}, {'cloudy': 25, 'rainy': 9, 'clear': 5}, {'summer': 38, 'winter': 1}]\n",
            "{'The vehicle involved in the accident was truck.', 'The road had motorcycles.', 'The accident happened under weather condition, cloudy.', 'The road had semi truck and car.', 'The vehicle involved in the accident was car.', 'The road had semis.', 'The road had truck and suv.', 'The road had cars.', 'The road had suvs.', 'The vehicle involved in the accident was white car.', 'The road had car and suv.', 'The road had trucks.', 'The road had car and truck.', 'The accident occurred on highway.', 'The road had cars and trucks.', 'The road had semi truck and semi truck.', 'The vehicle sustained damage on its back.', 'The road had truck and car.', 'The accident took place at evening.', 'The vehicle involved in the accident was suv.', 'The number of vehicles are 2.', 'The incident took place during summer.', 'The vehicle involved in the accident was old car.', 'The vehicle involved in the accident was bus.', 'The number of vehicles are 3.', 'The road had semi trucks.'}\n",
            "frame 24, The number of vehicles are 3.The road had suvs.The vehicle involved in the accident was suv.The vehicle sustained damage on its back.frame 48, The number of vehicles are 2.The road had trucks.The vehicle involved in the accident was truck.The vehicle sustained damage on its back.frame 72, The number of vehicles are 2.The road had trucks.The vehicle involved in the accident was truck.The vehicle sustained damage on its back.frame 96, The number of vehicles are 2.The road had trucks.The vehicle involved in the accident was truck.The vehicle sustained damage on its back.frame 120, The number of vehicles are 2.The road had truck and suv.The vehicle involved in the accident was truck.The vehicle sustained damage on its back.frame 144, The number of vehicles are 2.The road had truck and car.The vehicle involved in the accident was suv.The vehicle sustained damage on its back.frame 168, The number of vehicles are 2.The road had trucks.The vehicle involved in the accident was car.The vehicle sustained damage on its back.frame 192, The road had trucks.The vehicle involved in the accident was car.The vehicle sustained damage on its back.frame 216, The number of vehicles are 2.The road had motorcycles.The vehicle involved in the accident was car.The vehicle sustained damage on its back.frame 240, The number of vehicles are 2.The road had trucks.The vehicle involved in the accident was truck.The vehicle sustained damage on its back.frame 264, The number of vehicles are 2.The road had trucks.The vehicle involved in the accident was old car.The vehicle sustained damage on its back.frame 288, The number of vehicles are 3.The road had cars.The vehicle involved in the accident was suv.The vehicle sustained damage on its back.frame 312, The number of vehicles are 3.The road had motorcycles.The vehicle involved in the accident was car.The vehicle sustained damage on its back.frame 336, The number of vehicles are 2.The road had cars.The vehicle involved in the accident was car.The vehicle sustained damage on its back.frame 360, The number of vehicles are 3.The road had cars.The vehicle involved in the accident was car.The vehicle sustained damage on its back.frame 384, The number of vehicles are 3.The road had trucks.The vehicle involved in the accident was truck.The vehicle sustained damage on its back.frame 408, The number of vehicles are 3.The road had semi truck and semi truck.The vehicle involved in the accident was truck.The vehicle sustained damage on its back.frame 432, The number of vehicles are 3.The road had trucks.The vehicle involved in the accident was car.The vehicle sustained damage on its back.frame 456, The number of vehicles are 3.The road had trucks.The vehicle involved in the accident was car.The vehicle sustained damage on its back.frame 480, The number of vehicles are 3.The road had trucks.The vehicle involved in the accident was truck.The vehicle sustained damage on its back.frame 504, The number of vehicles are 3.The road had cars and trucks.The vehicle involved in the accident was car.The vehicle sustained damage on its back.frame 528, The road had trucks.The vehicle involved in the accident was bus.The vehicle sustained damage on its back.frame 552, The road had car and truck.The vehicle involved in the accident was white car.The vehicle sustained damage on its back.frame 576, The road had car and suv.The vehicle involved in the accident was white car.The vehicle sustained damage on its back.frame 600, The number of vehicles are 3.The road had cars.The vehicle involved in the accident was car.The vehicle sustained damage on its back.frame 624, The number of vehicles are 3.The road had cars.The vehicle involved in the accident was suv.The vehicle sustained damage on its back.frame 648, The number of vehicles are 3.The road had cars.The vehicle involved in the accident was car.The vehicle sustained damage on its back.frame 672, The number of vehicles are 3.The road had cars.The vehicle involved in the accident was car.The vehicle sustained damage on its back.frame 696, The number of vehicles are 3.The road had cars.The vehicle involved in the accident was car.The vehicle sustained damage on its back.frame 720, The number of vehicles are 3.The road had cars.The vehicle involved in the accident was car.The vehicle sustained damage on its back.frame 744, The number of vehicles are 2.The road had truck and car.The vehicle involved in the accident was car.The vehicle sustained damage on its back.frame 768, The road had semi truck and car.The vehicle involved in the accident was car.The vehicle sustained damage on its back.frame 792, The number of vehicles are 2.The road had trucks.The vehicle involved in the accident was car.The vehicle sustained damage on its back.frame 816, The number of vehicles are 2.The road had semi truck and car.The vehicle involved in the accident was car.The vehicle sustained damage on its back.frame 840, The number of vehicles are 2.The road had semi truck and car.The vehicle involved in the accident was car.The vehicle sustained damage on its back.frame 864, The number of vehicles are 2.The road had semis.The vehicle involved in the accident was car.The vehicle sustained damage on its back.frame 888, The number of vehicles are 2.The road had semi trucks.The vehicle involved in the accident was truck.The vehicle sustained damage on its back.frame 912, The road had semi trucks.The vehicle involved in the accident was truck.The vehicle sustained damage on its back.frame 936, The road had motorcycles.The vehicle involved in the accident was bus.The vehicle sustained damage on its back.common for all frames, The accident occurred on highway.common for all frames, The accident took place at evening.common for all frames, The accident happened under weather condition, cloudy.common for all frames, The incident took place during summer.\n",
            "CLIP_304.mp4\n"
          ]
        },
        {
          "output_type": "stream",
          "name": "stderr",
          "text": [
            "\n",
            "Processing Frames:  98%|█████████▊| 936/957 [14:45<00:19,  1.06frame/s]\n",
            "\n",
            "Processing Frames:   0%|          | 1/592 [00:00<02:00,  4.89frame/s]\u001b[A"
          ]
        },
        {
          "output_type": "stream",
          "name": "stdout",
          "text": [
            "\n",
            "\n"
          ]
        },
        {
          "output_type": "stream",
          "name": "stderr",
          "text": [
            "\n",
            "Processing Frames:   4%|▍         | 25/592 [00:23<09:01,  1.05frame/s]\u001b[A\n",
            "Processing Frames:   7%|▋         | 44/592 [00:23<04:10,  2.18frame/s]\u001b[A"
          ]
        },
        {
          "output_type": "stream",
          "name": "stdout",
          "text": [
            "\n"
          ]
        },
        {
          "output_type": "stream",
          "name": "stderr",
          "text": [
            "\n",
            "Processing Frames:   8%|▊         | 48/592 [00:41<04:09,  2.18frame/s]\u001b[A\n",
            "Processing Frames:   8%|▊         | 49/592 [00:45<09:58,  1.10s/frame]\u001b[A\n",
            "Processing Frames:  10%|█         | 61/592 [00:45<06:15,  1.41frame/s]\u001b[A\n",
            "Processing Frames:  12%|█▏        | 72/592 [00:45<04:11,  2.07frame/s]\u001b[A"
          ]
        },
        {
          "output_type": "stream",
          "name": "stdout",
          "text": [
            "\n"
          ]
        },
        {
          "output_type": "stream",
          "name": "stderr",
          "text": [
            "\n",
            "Processing Frames:  12%|█▏        | 72/592 [01:01<04:11,  2.07frame/s]\u001b[A\n",
            "Processing Frames:  12%|█▏        | 73/592 [01:09<12:05,  1.40s/frame]\u001b[A\n",
            "Processing Frames:  16%|█▌        | 93/592 [01:09<05:26,  1.53frame/s]\u001b[A\n",
            "Processing Frames:  16%|█▌        | 96/592 [01:21<05:24,  1.53frame/s]\u001b[A"
          ]
        },
        {
          "output_type": "stream",
          "name": "stdout",
          "text": [
            "\n"
          ]
        },
        {
          "output_type": "stream",
          "name": "stderr",
          "text": [
            "\n",
            "Processing Frames:  16%|█▋        | 97/592 [01:32<11:03,  1.34s/frame]\u001b[A\n",
            "Processing Frames:  19%|█▉        | 111/592 [01:32<06:29,  1.24frame/s]\u001b[A"
          ]
        },
        {
          "output_type": "stream",
          "name": "stdout",
          "text": [
            "\n"
          ]
        },
        {
          "output_type": "stream",
          "name": "stderr",
          "text": [
            "\n",
            "Processing Frames:  20%|██        | 120/592 [01:51<06:22,  1.24frame/s]\u001b[A\n",
            "Processing Frames:  20%|██        | 121/592 [01:54<09:30,  1.21s/frame]\u001b[A\n",
            "Processing Frames:  24%|██▍       | 143/592 [01:54<04:46,  1.57frame/s]\u001b[A"
          ]
        },
        {
          "output_type": "stream",
          "name": "stdout",
          "text": [
            "\n"
          ]
        },
        {
          "output_type": "stream",
          "name": "stderr",
          "text": [
            "\n",
            "Processing Frames:  24%|██▍       | 144/592 [02:11<04:45,  1.57frame/s]\u001b[A\n",
            "Processing Frames:  24%|██▍       | 145/592 [02:18<09:34,  1.28s/frame]\u001b[A\n",
            "Processing Frames:  28%|██▊       | 168/592 [02:18<04:39,  1.52frame/s]\u001b[A\n",
            "Processing Frames:  28%|██▊       | 168/592 [02:31<04:39,  1.52frame/s]\u001b[A"
          ]
        },
        {
          "output_type": "stream",
          "name": "stdout",
          "text": [
            "\n"
          ]
        },
        {
          "output_type": "stream",
          "name": "stderr",
          "text": [
            "\n",
            "Processing Frames:  29%|██▊       | 169/592 [02:40<09:03,  1.29s/frame]\u001b[A\n",
            "Processing Frames:  32%|███▏      | 191/592 [02:40<04:28,  1.49frame/s]\u001b[A\n",
            "Processing Frames:  32%|███▏      | 192/592 [02:51<04:27,  1.49frame/s]\u001b[A"
          ]
        },
        {
          "output_type": "stream",
          "name": "stdout",
          "text": [
            "\n"
          ]
        },
        {
          "output_type": "stream",
          "name": "stderr",
          "text": [
            "\n",
            "Processing Frames:  33%|███▎      | 193/592 [03:04<08:49,  1.33s/frame]\u001b[A\n",
            "Processing Frames:  36%|███▌      | 214/592 [03:04<04:27,  1.41frame/s]\u001b[A"
          ]
        },
        {
          "output_type": "stream",
          "name": "stdout",
          "text": [
            "\n"
          ]
        },
        {
          "output_type": "stream",
          "name": "stderr",
          "text": [
            "\n",
            "Processing Frames:  36%|███▋      | 216/592 [03:21<04:26,  1.41frame/s]\u001b[A\n",
            "Processing Frames:  37%|███▋      | 217/592 [03:27<08:12,  1.31s/frame]\u001b[A\n",
            "Processing Frames:  39%|███▉      | 231/592 [03:27<05:00,  1.20frame/s]\u001b[A"
          ]
        },
        {
          "output_type": "stream",
          "name": "stdout",
          "text": [
            "\n"
          ]
        },
        {
          "output_type": "stream",
          "name": "stderr",
          "text": [
            "\n",
            "Processing Frames:  41%|████      | 240/592 [03:41<04:53,  1.20frame/s]\u001b[A\n",
            "Processing Frames:  41%|████      | 241/592 [03:49<07:05,  1.21s/frame]\u001b[A\n",
            "Processing Frames:  44%|████▍     | 261/592 [03:49<03:46,  1.46frame/s]\u001b[A\n",
            "Processing Frames:  45%|████▍     | 264/592 [04:01<03:44,  1.46frame/s]\u001b[A"
          ]
        },
        {
          "output_type": "stream",
          "name": "stdout",
          "text": [
            "\n"
          ]
        },
        {
          "output_type": "stream",
          "name": "stderr",
          "text": [
            "\n",
            "Processing Frames:  45%|████▍     | 265/592 [04:13<06:51,  1.26s/frame]\u001b[A\n",
            "Processing Frames:  48%|████▊     | 285/592 [04:13<03:35,  1.42frame/s]\u001b[A"
          ]
        },
        {
          "output_type": "stream",
          "name": "stdout",
          "text": [
            "\n"
          ]
        },
        {
          "output_type": "stream",
          "name": "stderr",
          "text": [
            "\n",
            "Processing Frames:  49%|████▊     | 288/592 [04:31<03:33,  1.42frame/s]\u001b[A\n",
            "Processing Frames:  49%|████▉     | 289/592 [04:34<06:14,  1.23s/frame]\u001b[A\n",
            "Processing Frames:  52%|█████▏    | 308/592 [04:35<03:19,  1.42frame/s]\u001b[A"
          ]
        },
        {
          "output_type": "stream",
          "name": "stdout",
          "text": [
            "\n"
          ]
        },
        {
          "output_type": "stream",
          "name": "stderr",
          "text": [
            "\n",
            "Processing Frames:  53%|█████▎    | 312/592 [04:52<03:16,  1.42frame/s]\u001b[A\n",
            "Processing Frames:  53%|█████▎    | 313/592 [04:58<05:51,  1.26s/frame]\u001b[A"
          ]
        },
        {
          "output_type": "stream",
          "name": "stdout",
          "text": [
            "\n"
          ]
        },
        {
          "output_type": "stream",
          "name": "stderr",
          "text": [
            "\n",
            "Processing Frames:  57%|█████▋    | 337/592 [05:20<04:40,  1.10s/frame]\u001b[A\n",
            "Processing Frames:  59%|█████▉    | 352/592 [05:20<03:04,  1.30frame/s]\u001b[A\n",
            "Processing Frames:  61%|██████    | 360/592 [05:32<02:58,  1.30frame/s]\u001b[A"
          ]
        },
        {
          "output_type": "stream",
          "name": "stdout",
          "text": [
            "\n"
          ]
        },
        {
          "output_type": "stream",
          "name": "stderr",
          "text": [
            "\n",
            "Processing Frames:  61%|██████    | 361/592 [05:43<04:21,  1.13s/frame]\u001b[A\n",
            "Processing Frames:  64%|██████▍   | 381/592 [05:43<02:24,  1.46frame/s]\u001b[A"
          ]
        },
        {
          "output_type": "stream",
          "name": "stdout",
          "text": [
            "\n"
          ]
        },
        {
          "output_type": "stream",
          "name": "stderr",
          "text": [
            "\n",
            "Processing Frames:  65%|██████▍   | 384/592 [06:02<02:22,  1.46frame/s]\u001b[A\n",
            "Processing Frames:  65%|██████▌   | 385/592 [06:07<04:10,  1.21s/frame]\u001b[A"
          ]
        },
        {
          "output_type": "stream",
          "name": "stdout",
          "text": [
            "\n"
          ]
        },
        {
          "output_type": "stream",
          "name": "stderr",
          "text": [
            "\n",
            "Processing Frames:  69%|██████▉   | 409/592 [06:28<03:15,  1.07s/frame]\u001b[A\n",
            "Processing Frames:  73%|███████▎  | 431/592 [06:29<01:47,  1.50frame/s]\u001b[A\n",
            "Processing Frames:  73%|███████▎  | 432/592 [06:42<01:46,  1.50frame/s]\u001b[A"
          ]
        },
        {
          "output_type": "stream",
          "name": "stdout",
          "text": [
            "\n"
          ]
        },
        {
          "output_type": "stream",
          "name": "stderr",
          "text": [
            "\n",
            "Processing Frames:  73%|███████▎  | 433/592 [06:52<03:08,  1.18s/frame]\u001b[A\n",
            "Processing Frames:  77%|███████▋  | 454/592 [06:52<01:36,  1.44frame/s]\u001b[A"
          ]
        },
        {
          "output_type": "stream",
          "name": "stdout",
          "text": [
            "\n"
          ]
        },
        {
          "output_type": "stream",
          "name": "stderr",
          "text": [
            "\n",
            "Processing Frames:  77%|███████▋  | 456/592 [07:12<01:34,  1.44frame/s]\u001b[A\n",
            "Processing Frames:  77%|███████▋  | 457/592 [07:14<02:42,  1.20s/frame]\u001b[A\n",
            "Processing Frames:  80%|████████  | 476/592 [07:14<01:22,  1.41frame/s]\u001b[A"
          ]
        },
        {
          "output_type": "stream",
          "name": "stdout",
          "text": [
            "\n"
          ]
        },
        {
          "output_type": "stream",
          "name": "stderr",
          "text": [
            "\n",
            "Processing Frames:  81%|████████  | 480/592 [07:32<01:19,  1.41frame/s]\u001b[A"
          ]
        },
        {
          "output_type": "stream",
          "name": "stdout",
          "text": [
            "\n"
          ]
        },
        {
          "output_type": "stream",
          "name": "stderr",
          "text": [
            "\n",
            "Processing Frames:  81%|████████▏ | 481/592 [07:37<02:17,  1.24s/frame]\u001b[A"
          ]
        },
        {
          "output_type": "stream",
          "name": "stdout",
          "text": [
            "\n",
            "array_of_dict\n",
            "[{'highway': 19, 'mountains': 1, 'airport': 1}, {'6 : 00': 1, '7 : 00 am': 7, 'evening': 11, 'night': 1, '7 : 00': 1}, {'rainy': 6, 'snowy': 2, 'snow': 2, 'sunny': 11}, {'winter': 13, 'summer': 8}]\n",
            "{'The road had cars.', 'The accident happened under weather condition, sunny.', 'The road had motorcycles.', 'The vehicle sustained damage on its back.', 'The incident took place during winter.', 'The vehicle involved in the accident was car.', 'The road had car.', 'The vehicle involved in the accident was bus.', 'The vehicle sustained damage on its front.', 'The accident took place at evening.', 'The road had trucks.', 'The accident occurred on highway.'}\n",
            "frame 24, The road had motorcycles.The vehicle sustained damage on its back.frame 48, The road had cars.The vehicle involved in the accident was car.The vehicle sustained damage on its back.frame 72, The road had cars.The vehicle involved in the accident was car.The vehicle sustained damage on its front.frame 96, The road had car.The vehicle involved in the accident was car.The vehicle sustained damage on its back.frame 120, The road had cars.The vehicle involved in the accident was car.The vehicle sustained damage on its back.frame 144, The road had cars.The vehicle involved in the accident was car.The vehicle sustained damage on its back.frame 168, The road had car.The vehicle involved in the accident was car.The vehicle sustained damage on its back.frame 192, The road had cars.The vehicle involved in the accident was car.The vehicle sustained damage on its back.frame 216, The road had cars.The vehicle involved in the accident was car.The vehicle sustained damage on its back.frame 240, The road had cars.The vehicle involved in the accident was car.The vehicle sustained damage on its back.frame 264, The road had cars.The vehicle involved in the accident was car.The vehicle sustained damage on its back.frame 288, The road had cars.The vehicle involved in the accident was car.The vehicle sustained damage on its back.frame 312, The road had cars.The vehicle involved in the accident was car.The vehicle sustained damage on its back.frame 336, The road had cars.The vehicle involved in the accident was car.The vehicle sustained damage on its back.frame 360, The road had cars.The vehicle involved in the accident was car.The vehicle sustained damage on its back.frame 384, The road had cars.The vehicle involved in the accident was car.The vehicle sustained damage on its back.frame 408, The road had cars.The vehicle involved in the accident was car.The vehicle sustained damage on its back.frame 432, The road had cars.The vehicle involved in the accident was car.The vehicle sustained damage on its back.frame 456, The road had trucks.The vehicle involved in the accident was car.The vehicle sustained damage on its back.frame 480, The road had cars.The vehicle sustained damage on its back.frame 504, The road had motorcycles.The vehicle involved in the accident was bus.The vehicle sustained damage on its back.common for all frames, The accident occurred on highway.common for all frames, The accident took place at evening.common for all frames, The accident happened under weather condition, sunny.common for all frames, The incident took place during winter.\n",
            "CLIP_271.mp4\n"
          ]
        },
        {
          "output_type": "stream",
          "name": "stderr",
          "text": [
            "Processing Frames:  85%|████████▌ | 504/592 [08:00<01:23,  1.05frame/s]\n",
            "Processing Frames:   3%|▎         | 30/871 [00:11<00:13, 63.56frame/s]"
          ]
        },
        {
          "output_type": "stream",
          "name": "stdout",
          "text": [
            "\n"
          ]
        },
        {
          "output_type": "stream",
          "name": "stderr",
          "text": [
            "Processing Frames:   6%|▌         | 48/871 [00:23<06:50,  2.00frame/s]"
          ]
        },
        {
          "output_type": "stream",
          "name": "stdout",
          "text": [
            "\n"
          ]
        },
        {
          "output_type": "stream",
          "name": "stderr",
          "text": [
            "Processing Frames:  10%|█         | 90/871 [01:01<06:48,  1.91frame/s]"
          ]
        },
        {
          "output_type": "stream",
          "name": "stdout",
          "text": [
            "\n"
          ]
        },
        {
          "output_type": "stream",
          "name": "stderr",
          "text": [
            "Processing Frames:  14%|█▍        | 120/871 [01:21<06:56,  1.80frame/s]"
          ]
        },
        {
          "output_type": "stream",
          "name": "stdout",
          "text": [
            "\n"
          ]
        },
        {
          "output_type": "stream",
          "name": "stderr",
          "text": [
            "Processing Frames:  16%|█▋        | 143/871 [01:32<06:54,  1.76frame/s]"
          ]
        },
        {
          "output_type": "stream",
          "name": "stdout",
          "text": [
            "\n"
          ]
        },
        {
          "output_type": "stream",
          "name": "stderr",
          "text": [
            "Processing Frames:  20%|██        | 178/871 [01:55<05:27,  2.11frame/s]"
          ]
        },
        {
          "output_type": "stream",
          "name": "stdout",
          "text": [
            "\n"
          ]
        },
        {
          "output_type": "stream",
          "name": "stderr",
          "text": [
            "Processing Frames:  24%|██▍       | 210/871 [02:31<06:21,  1.73frame/s]"
          ]
        },
        {
          "output_type": "stream",
          "name": "stdout",
          "text": [
            "\n"
          ]
        },
        {
          "output_type": "stream",
          "name": "stderr",
          "text": [
            "Processing Frames:  30%|██▉       | 257/871 [03:03<06:28,  1.58frame/s]"
          ]
        },
        {
          "output_type": "stream",
          "name": "stdout",
          "text": [
            "\n"
          ]
        },
        {
          "output_type": "stream",
          "name": "stderr",
          "text": [
            "Processing Frames:  33%|███▎      | 287/871 [03:26<06:10,  1.58frame/s]"
          ]
        },
        {
          "output_type": "stream",
          "name": "stdout",
          "text": [
            "\n"
          ]
        },
        {
          "output_type": "stream",
          "name": "stderr",
          "text": [
            "Processing Frames:  38%|███▊      | 330/871 [04:01<04:13,  2.14frame/s]"
          ]
        },
        {
          "output_type": "stream",
          "name": "stdout",
          "text": [
            "\n"
          ]
        },
        {
          "output_type": "stream",
          "name": "stderr",
          "text": [
            "Processing Frames:  41%|████      | 353/871 [04:11<04:51,  1.78frame/s]"
          ]
        },
        {
          "output_type": "stream",
          "name": "stdout",
          "text": [
            "\n"
          ]
        },
        {
          "output_type": "stream",
          "name": "stderr",
          "text": [
            "Processing Frames:  45%|████▍     | 390/871 [04:35<03:41,  2.17frame/s]"
          ]
        },
        {
          "output_type": "stream",
          "name": "stdout",
          "text": [
            "\n"
          ]
        },
        {
          "output_type": "stream",
          "name": "stderr",
          "text": [
            "Processing Frames:  48%|████▊     | 415/871 [04:57<04:07,  1.84frame/s]"
          ]
        },
        {
          "output_type": "stream",
          "name": "stdout",
          "text": [
            "\n"
          ]
        },
        {
          "output_type": "stream",
          "name": "stderr",
          "text": [
            "Processing Frames:  52%|█████▏    | 450/871 [05:31<03:53,  1.80frame/s]"
          ]
        },
        {
          "output_type": "stream",
          "name": "stdout",
          "text": [
            "\n"
          ]
        },
        {
          "output_type": "stream",
          "name": "stderr",
          "text": [
            "Processing Frames:  54%|█████▍    | 472/871 [05:42<03:56,  1.69frame/s]"
          ]
        },
        {
          "output_type": "stream",
          "name": "stdout",
          "text": [
            "\n"
          ]
        },
        {
          "output_type": "stream",
          "name": "stderr",
          "text": [
            "Processing Frames:  62%|██████▏   | 540/871 [06:41<03:56,  1.40frame/s]"
          ]
        },
        {
          "output_type": "stream",
          "name": "stdout",
          "text": [
            "\n"
          ]
        },
        {
          "output_type": "stream",
          "name": "stderr",
          "text": [
            "Processing Frames:  65%|██████▍   | 566/871 [06:51<02:43,  1.87frame/s]"
          ]
        },
        {
          "output_type": "stream",
          "name": "stdout",
          "text": [
            "\n"
          ]
        },
        {
          "output_type": "stream",
          "name": "stderr",
          "text": [
            "Processing Frames:  68%|██████▊   | 593/871 [07:15<02:43,  1.70frame/s]"
          ]
        },
        {
          "output_type": "stream",
          "name": "stdout",
          "text": [
            "\n"
          ]
        },
        {
          "output_type": "stream",
          "name": "stderr",
          "text": [
            "Processing Frames:  72%|███████▏  | 630/871 [07:51<02:12,  1.81frame/s]"
          ]
        },
        {
          "output_type": "stream",
          "name": "stdout",
          "text": [
            "\n"
          ]
        },
        {
          "output_type": "stream",
          "name": "stderr",
          "text": [
            "Processing Frames:  76%|███████▌  | 660/871 [08:11<02:00,  1.76frame/s]"
          ]
        },
        {
          "output_type": "stream",
          "name": "stdout",
          "text": [
            "\n",
            "\n"
          ]
        },
        {
          "output_type": "stream",
          "name": "stderr",
          "text": [
            "Processing Frames:  82%|████████▏ | 716/871 [08:45<01:22,  1.87frame/s]"
          ]
        },
        {
          "output_type": "stream",
          "name": "stdout",
          "text": [
            "\n"
          ]
        },
        {
          "output_type": "stream",
          "name": "stderr",
          "text": [
            "Processing Frames:  86%|████████▌ | 750/871 [09:21<01:17,  1.56frame/s]"
          ]
        },
        {
          "output_type": "stream",
          "name": "stdout",
          "text": [
            "\n"
          ]
        },
        {
          "output_type": "stream",
          "name": "stderr",
          "text": [
            "Processing Frames:  90%|████████▉ | 780/871 [09:41<00:45,  2.00frame/s]"
          ]
        },
        {
          "output_type": "stream",
          "name": "stdout",
          "text": [
            "\n",
            "\n",
            "\n"
          ]
        },
        {
          "output_type": "stream",
          "name": "stderr",
          "text": [
            "\rProcessing Frames:  90%|████████▉ | 781/871 [09:53<01:30,  1.00s/frame]"
          ]
        },
        {
          "output_type": "stream",
          "name": "stdout",
          "text": [
            "\n",
            "\n",
            "\n"
          ]
        },
        {
          "output_type": "stream",
          "name": "stderr",
          "text": [
            "\rProcessing Frames:  93%|█████████▎| 811/871 [10:15<00:51,  1.15frame/s]"
          ]
        },
        {
          "output_type": "stream",
          "name": "stdout",
          "text": [
            "array_of_dict\n",
            "[{'del mar': 1, 'santa barbara': 2, 'intersection': 19, 'florida': 2, 'los angeles': 1, 'airport': 2}, {'7 : 00 am': 9, '6 : 00 am': 1, 'evening': 14, '3 : 00 pm': 1, '7 : 00': 2}, {'cloudy': 17, 'rain': 1, 'rainy': 8, 'clear': 1}, {'summer': 12, 'fall': 13, 'winter': 2}]\n",
            "{'The road had cars.', 'The accident occurred on intersection.', 'The accident happened under weather condition, cloudy.', 'The vehicle sustained damage on its back.', 'The vehicle involved in the accident was car.', 'The vehicle involved in the accident was bus.', 'The number of vehicles are 3.', 'The vehicle sustained damage on its front.', 'The accident took place at evening.', 'The incident took place during fall.', 'The number of vehicles are 2.'}\n",
            "frame 30, The road had cars.The vehicle involved in the accident was car.The vehicle sustained damage on its back.frame 60, The road had cars.The vehicle involved in the accident was car.The vehicle sustained damage on its back.frame 90, The road had cars.The vehicle involved in the accident was car.The vehicle sustained damage on its back.frame 120, The road had cars.The vehicle involved in the accident was car.The vehicle sustained damage on its back.frame 150, The road had cars.The vehicle involved in the accident was car.The vehicle sustained damage on its back.frame 180, The road had cars.The vehicle involved in the accident was car.The vehicle sustained damage on its back.frame 210, The road had cars.The vehicle involved in the accident was car.The vehicle sustained damage on its back.frame 240, The number of vehicles are 2.The road had cars.The vehicle involved in the accident was car.The vehicle sustained damage on its back.frame 270, The road had cars.The vehicle involved in the accident was car.The vehicle sustained damage on its back.frame 300, The road had cars.The vehicle involved in the accident was car.The vehicle sustained damage on its back.frame 330, The road had cars.The vehicle involved in the accident was bus.The vehicle sustained damage on its back.frame 360, The road had cars.The vehicle involved in the accident was car.The vehicle sustained damage on its back.frame 390, The road had cars.The vehicle involved in the accident was car.The vehicle sustained damage on its back.frame 420, The road had cars.The vehicle involved in the accident was bus.The vehicle sustained damage on its back.frame 450, The road had cars.The vehicle involved in the accident was car.The vehicle sustained damage on its back.frame 480, The road had cars.The vehicle involved in the accident was car.The vehicle sustained damage on its back.frame 510, The number of vehicles are 3.The road had cars.The vehicle involved in the accident was car.The vehicle sustained damage on its front.frame 540, The road had cars.The vehicle involved in the accident was car.The vehicle sustained damage on its back.frame 570, The road had cars.The vehicle involved in the accident was car.The vehicle sustained damage on its front.frame 600, The road had cars.The vehicle involved in the accident was car.The vehicle sustained damage on its back.frame 630, The road had cars.The vehicle involved in the accident was car.The vehicle sustained damage on its back.frame 660, The road had cars.The vehicle sustained damage on its back.frame 690, The number of vehicles are 2.The road had cars.The vehicle involved in the accident was car.The vehicle sustained damage on its back.frame 720, The road had cars.The vehicle involved in the accident was car.The vehicle sustained damage on its back.frame 750, The road had cars.The vehicle involved in the accident was car.The vehicle sustained damage on its back.frame 780, The vehicle sustained damage on its back.frame 810, The vehicle sustained damage on its back.common for all frames, The accident occurred on intersection.common for all frames, The accident took place at evening.common for all frames, The accident happened under weather condition, cloudy.common for all frames, The incident took place during fall.\n",
            "CLIP_264.mp4\n"
          ]
        },
        {
          "output_type": "stream",
          "name": "stderr",
          "text": [
            "\n",
            "Processing Frames:  93%|█████████▎| 811/871 [10:15<00:45,  1.32frame/s]\n",
            "\n",
            "Processing Frames:   0%|          | 1/894 [00:00<10:05,  1.48frame/s]\u001b[A\n",
            "Processing Frames:   3%|▎         | 31/894 [00:23<11:08,  1.29frame/s]\u001b[A\n",
            "Processing Frames:   7%|▋         | 60/894 [00:24<04:36,  3.01frame/s]\u001b[A\n",
            "Processing Frames:   7%|▋         | 60/894 [00:36<04:36,  3.01frame/s]\u001b[A\n",
            "Processing Frames:   7%|▋         | 61/894 [00:46<13:10,  1.05frame/s]\u001b[A\n",
            "Processing Frames:   9%|▊         | 76/894 [00:46<08:10,  1.67frame/s]\u001b[A\n",
            "Processing Frames:  10%|█         | 90/894 [01:06<08:02,  1.67frame/s]\u001b[A\n",
            "Processing Frames:  10%|█         | 91/894 [01:09<12:06,  1.10frame/s]\u001b[A\n",
            "Processing Frames:  13%|█▎        | 116/894 [01:09<06:27,  2.01frame/s]\u001b[A"
          ]
        },
        {
          "output_type": "stream",
          "name": "stdout",
          "text": [
            "\n"
          ]
        },
        {
          "output_type": "stream",
          "name": "stderr",
          "text": [
            "\n",
            "Processing Frames:  13%|█▎        | 120/894 [01:26<06:25,  2.01frame/s]\u001b[A\n",
            "Processing Frames:  14%|█▎        | 121/894 [01:32<12:36,  1.02frame/s]\u001b[A\n",
            "Processing Frames:  16%|█▋        | 147/894 [01:32<06:36,  1.88frame/s]\u001b[A\n",
            "Processing Frames:  17%|█▋        | 150/894 [01:46<06:35,  1.88frame/s]\u001b[A"
          ]
        },
        {
          "output_type": "stream",
          "name": "stdout",
          "text": [
            "\n"
          ]
        },
        {
          "output_type": "stream",
          "name": "stderr",
          "text": [
            "\n",
            "Processing Frames:  17%|█▋        | 151/894 [01:55<12:15,  1.01frame/s]\u001b[A\n",
            "Processing Frames:  20%|█▉        | 178/894 [01:55<06:17,  1.90frame/s]\u001b[A\n",
            "Processing Frames:  20%|██        | 180/894 [02:06<06:16,  1.90frame/s]\u001b[A"
          ]
        },
        {
          "output_type": "stream",
          "name": "stdout",
          "text": [
            "\n"
          ]
        },
        {
          "output_type": "stream",
          "name": "stderr",
          "text": [
            "\n",
            "Processing Frames:  20%|██        | 181/894 [02:18<12:14,  1.03s/frame]\u001b[A\n",
            "Processing Frames:  23%|██▎       | 209/894 [02:18<06:07,  1.86frame/s]\u001b[A"
          ]
        },
        {
          "output_type": "stream",
          "name": "stdout",
          "text": [
            "\n"
          ]
        },
        {
          "output_type": "stream",
          "name": "stderr",
          "text": [
            "\n",
            "Processing Frames:  23%|██▎       | 210/894 [02:36<06:07,  1.86frame/s]\u001b[A\n",
            "Processing Frames:  24%|██▎       | 211/894 [02:41<11:47,  1.04s/frame]\u001b[A\n",
            "Processing Frames:  26%|██▌       | 229/894 [02:41<07:11,  1.54frame/s]\u001b[A"
          ]
        },
        {
          "output_type": "stream",
          "name": "stdout",
          "text": [
            "\n"
          ]
        },
        {
          "output_type": "stream",
          "name": "stderr",
          "text": [
            "\n",
            "Processing Frames:  27%|██▋       | 240/894 [02:56<07:04,  1.54frame/s]\u001b[A\n",
            "Processing Frames:  27%|██▋       | 241/894 [03:03<10:33,  1.03frame/s]\u001b[A\n",
            "Processing Frames:  29%|██▉       | 262/894 [03:03<06:11,  1.70frame/s]\u001b[A\n",
            "Processing Frames:  30%|███       | 270/894 [03:16<06:06,  1.70frame/s]\u001b[A"
          ]
        },
        {
          "output_type": "stream",
          "name": "stdout",
          "text": [
            "\n"
          ]
        },
        {
          "output_type": "stream",
          "name": "stderr",
          "text": [
            "\n",
            "Processing Frames:  30%|███       | 271/894 [03:26<10:08,  1.02frame/s]\u001b[A\n",
            "Processing Frames:  33%|███▎      | 298/894 [03:27<05:17,  1.88frame/s]\u001b[A\n",
            "Processing Frames:  34%|███▎      | 300/894 [03:46<05:16,  1.88frame/s]\u001b[A\n",
            "Processing Frames:  34%|███▎      | 301/894 [03:48<09:43,  1.02frame/s]\u001b[A"
          ]
        },
        {
          "output_type": "stream",
          "name": "stdout",
          "text": [
            "\n"
          ]
        },
        {
          "output_type": "stream",
          "name": "stderr",
          "text": [
            "\n",
            "Processing Frames:  37%|███▋      | 331/894 [04:12<08:17,  1.13frame/s]\u001b[A\n",
            "Processing Frames:  40%|████      | 359/894 [04:12<04:46,  1.87frame/s]\u001b[A\n",
            "Processing Frames:  40%|████      | 360/894 [04:26<04:45,  1.87frame/s]\u001b[A"
          ]
        },
        {
          "output_type": "stream",
          "name": "stdout",
          "text": [
            "\n"
          ]
        },
        {
          "output_type": "stream",
          "name": "stderr",
          "text": [
            "\n",
            "Processing Frames:  40%|████      | 361/894 [04:33<08:18,  1.07frame/s]\u001b[A"
          ]
        },
        {
          "output_type": "stream",
          "name": "stdout",
          "text": [
            "\n"
          ]
        },
        {
          "output_type": "stream",
          "name": "stderr",
          "text": [
            "\n",
            "Processing Frames:  44%|████▎     | 391/894 [04:57<07:15,  1.15frame/s]\u001b[A\n",
            "Processing Frames:  46%|████▋     | 415/894 [04:57<04:33,  1.75frame/s]\u001b[A\n",
            "Processing Frames:  47%|████▋     | 420/894 [05:16<04:31,  1.75frame/s]\u001b[A\n",
            "Processing Frames:  47%|████▋     | 421/894 [05:19<07:14,  1.09frame/s]\u001b[A\n",
            "Processing Frames:  48%|████▊     | 431/894 [05:20<05:38,  1.37frame/s]\u001b[A\n",
            "Processing Frames:  50%|█████     | 450/894 [05:36<05:24,  1.37frame/s]\u001b[A\n",
            "Processing Frames:  50%|█████     | 451/894 [05:42<06:29,  1.14frame/s]\u001b[A\n",
            "Processing Frames:  52%|█████▏    | 465/894 [05:42<04:36,  1.55frame/s]\u001b[A\n",
            "Processing Frames:  54%|█████▎    | 480/894 [05:56<04:26,  1.55frame/s]\u001b[A\n",
            "Processing Frames:  54%|█████▍    | 481/894 [06:06<06:09,  1.12frame/s]\u001b[A\n",
            "Processing Frames:  56%|█████▌    | 502/894 [06:06<03:43,  1.75frame/s]\u001b[A"
          ]
        },
        {
          "output_type": "stream",
          "name": "stdout",
          "text": [
            "\n"
          ]
        },
        {
          "output_type": "stream",
          "name": "stderr",
          "text": [
            "\n",
            "Processing Frames:  57%|█████▋    | 510/894 [06:26<03:39,  1.75frame/s]\u001b[A\n",
            "Processing Frames:  57%|█████▋    | 511/894 [06:28<05:48,  1.10frame/s]\u001b[A\n",
            "Processing Frames:  60%|█████▉    | 534/894 [06:28<03:17,  1.82frame/s]\u001b[A"
          ]
        },
        {
          "output_type": "stream",
          "name": "stdout",
          "text": [
            "\n"
          ]
        },
        {
          "output_type": "stream",
          "name": "stderr",
          "text": [
            "\n",
            "Processing Frames:  60%|██████    | 540/894 [06:46<03:14,  1.82frame/s]\u001b[A\n",
            "Processing Frames:  61%|██████    | 541/894 [06:51<05:39,  1.04frame/s]\u001b[A\n",
            "Processing Frames:  64%|██████▍   | 570/894 [06:51<02:46,  1.95frame/s]\u001b[A"
          ]
        },
        {
          "output_type": "stream",
          "name": "stdout",
          "text": [
            "\n"
          ]
        },
        {
          "output_type": "stream",
          "name": "stderr",
          "text": [
            "\n",
            "Processing Frames:  64%|██████▍   | 570/894 [07:06<02:46,  1.95frame/s]\u001b[A\n",
            "Processing Frames:  64%|██████▍   | 571/894 [07:13<05:21,  1.00frame/s]\u001b[A\n",
            "Processing Frames:  66%|██████▌   | 587/894 [07:13<03:22,  1.51frame/s]\u001b[A\n",
            "Processing Frames:  67%|██████▋   | 600/894 [07:26<03:14,  1.51frame/s]\u001b[A\n",
            "Processing Frames:  67%|██████▋   | 601/894 [07:36<04:38,  1.05frame/s]\u001b[A\n",
            "Processing Frames:  70%|███████   | 628/894 [07:36<02:19,  1.91frame/s]\u001b[A\n",
            "Processing Frames:  70%|███████   | 630/894 [07:56<02:18,  1.91frame/s]\u001b[A\n",
            "Processing Frames:  71%|███████   | 631/894 [08:00<04:24,  1.01s/frame]\u001b[A\n",
            "Processing Frames:  73%|███████▎  | 649/894 [08:00<02:37,  1.56frame/s]\u001b[A"
          ]
        },
        {
          "output_type": "stream",
          "name": "stdout",
          "text": [
            "\n"
          ]
        },
        {
          "output_type": "stream",
          "name": "stderr",
          "text": [
            "\n",
            "Processing Frames:  74%|███████▍  | 660/894 [08:16<02:30,  1.56frame/s]\u001b[A\n",
            "Processing Frames:  74%|███████▍  | 661/894 [08:22<03:39,  1.06frame/s]\u001b[A"
          ]
        },
        {
          "output_type": "stream",
          "name": "stdout",
          "text": [
            "\n"
          ]
        },
        {
          "output_type": "stream",
          "name": "stderr",
          "text": [
            "\n",
            "Processing Frames:  77%|███████▋  | 691/894 [08:45<02:55,  1.16frame/s]\u001b[A"
          ]
        },
        {
          "output_type": "stream",
          "name": "stdout",
          "text": [
            "\n"
          ]
        },
        {
          "output_type": "stream",
          "name": "stderr",
          "text": [
            "\n",
            "Processing Frames:  81%|████████  | 721/894 [09:06<02:19,  1.24frame/s]\u001b[A"
          ]
        },
        {
          "output_type": "stream",
          "name": "stdout",
          "text": [
            "array_of_dict\n",
            "[{'airport': 6, 'san antonio': 2, 'highway': 12, 'intersection': 2, 'downtown': 1, 'florida': 1}, {'evening': 11, '7 : 00 am': 2, 'afternoon': 6, 'late afternoon': 4, 'night': 1}, {'rainy': 23, 'clear': 1}, {'winter': 18, 'fall': 6}]\n",
            "{'The vehicle involved in the accident was truck.', 'The road had cars.', 'The road had motorcycles.', 'The vehicle sustained damage on its back.', 'The accident happened under weather condition, rainy.', 'The incident took place during winter.', 'The accident occurred on highway.', 'The road had trucks and cars.', 'The vehicle involved in the accident was car.', 'The road had truck.', 'The vehicle involved in the accident was bus.', 'The number of vehicles are 3.', 'The road had truck and car.', 'The vehicle sustained damage on its front.', 'The accident took place at evening.', 'The road had trucks.', 'The vehicle involved in the accident was suv.', 'The number of vehicles are 2.'}\n",
            "frame 30, The number of vehicles are 2.The road had cars.The vehicle involved in the accident was suv.The vehicle sustained damage on its back.frame 60, The number of vehicles are 2.The road had trucks and cars.The vehicle involved in the accident was suv.The vehicle sustained damage on its back.frame 90, The number of vehicles are 2.The road had trucks.The vehicle involved in the accident was car.The vehicle sustained damage on its back.frame 120, The road had truck and car.The vehicle involved in the accident was car.The vehicle sustained damage on its back.frame 150, The road had truck and car.The vehicle involved in the accident was car.The vehicle sustained damage on its back.frame 180, The road had truck and car.The vehicle involved in the accident was car.The vehicle sustained damage on its back.frame 210, The road had cars.The vehicle involved in the accident was car.The vehicle sustained damage on its back.frame 240, The road had cars.The vehicle involved in the accident was car.The vehicle sustained damage on its back.frame 270, The road had cars.The vehicle involved in the accident was car.The vehicle sustained damage on its back.frame 300, The number of vehicles are 3.The road had cars.The vehicle involved in the accident was car.The vehicle sustained damage on its back.frame 330, The road had cars.The vehicle involved in the accident was car.The vehicle sustained damage on its back.frame 360, The road had cars.The vehicle involved in the accident was car.The vehicle sustained damage on its back.frame 390, The road had cars.The vehicle involved in the accident was car.The vehicle sustained damage on its back.frame 420, The number of vehicles are 2.The road had trucks.The vehicle involved in the accident was truck.The vehicle sustained damage on its back.frame 450, The number of vehicles are 2.The road had truck and car.The vehicle involved in the accident was truck.The vehicle sustained damage on its back.frame 480, The number of vehicles are 2.The road had truck and car.The vehicle involved in the accident was truck.The vehicle sustained damage on its back.frame 510, The road had truck.The vehicle involved in the accident was truck.The vehicle sustained damage on its back.frame 540, The road had cars.The vehicle involved in the accident was car.The vehicle sustained damage on its back.frame 570, The road had cars.The vehicle involved in the accident was car.The vehicle sustained damage on its back.frame 600, The number of vehicles are 3.The road had cars.The vehicle involved in the accident was car.The vehicle sustained damage on its front.frame 630, The number of vehicles are 2.The road had cars.The vehicle involved in the accident was car.The vehicle sustained damage on its back.frame 660, The road had cars.The vehicle involved in the accident was truck.The vehicle sustained damage on its back.frame 690, The road had cars.The vehicle involved in the accident was car.The vehicle sustained damage on its back.frame 720, The road had motorcycles.The vehicle involved in the accident was bus.The vehicle sustained damage on its back.common for all frames, The accident occurred on highway.common for all frames, The accident took place at evening.common for all frames, The accident happened under weather condition, rainy.common for all frames, The incident took place during winter.\n",
            "CLIP_283.mp4\n"
          ]
        },
        {
          "output_type": "stream",
          "name": "stderr",
          "text": [
            "Processing Frames:  81%|████████  | 721/894 [09:07<02:11,  1.32frame/s]\n"
          ]
        },
        {
          "output_type": "stream",
          "name": "stdout",
          "text": [
            "\n"
          ]
        },
        {
          "output_type": "stream",
          "name": "stderr",
          "text": [
            "\rProcessing Frames:   4%|▎         | 30/830 [00:19<00:03, 258.59frame/s]"
          ]
        },
        {
          "output_type": "stream",
          "name": "stdout",
          "text": [
            "\n"
          ]
        },
        {
          "output_type": "stream",
          "name": "stderr",
          "text": [
            "Processing Frames:   7%|▋         | 54/830 [00:23<05:25,  2.39frame/s]"
          ]
        },
        {
          "output_type": "stream",
          "name": "stdout",
          "text": [
            "\n"
          ]
        },
        {
          "output_type": "stream",
          "name": "stderr",
          "text": [
            "Processing Frames:  11%|█         | 90/830 [00:59<07:15,  1.70frame/s]"
          ]
        },
        {
          "output_type": "stream",
          "name": "stdout",
          "text": [
            "\n"
          ]
        },
        {
          "output_type": "stream",
          "name": "stderr",
          "text": [
            "\rProcessing Frames:  11%|█         | 91/830 [01:08<11:30,  1.07frame/s]"
          ]
        },
        {
          "output_type": "stream",
          "name": "stdout",
          "text": [
            "\n"
          ]
        },
        {
          "output_type": "stream",
          "name": "stderr",
          "text": [
            "Processing Frames:  17%|█▋        | 140/830 [01:31<06:45,  1.70frame/s]"
          ]
        },
        {
          "output_type": "stream",
          "name": "stdout",
          "text": [
            "\n"
          ]
        },
        {
          "output_type": "stream",
          "name": "stderr",
          "text": [
            "Processing Frames:  18%|█▊        | 151/830 [01:53<09:50,  1.15frame/s]"
          ]
        },
        {
          "output_type": "stream",
          "name": "stdout",
          "text": [
            "\n"
          ]
        },
        {
          "output_type": "stream",
          "name": "stderr",
          "text": [
            "\rProcessing Frames:  22%|██▏       | 181/830 [02:16<08:58,  1.20frame/s]"
          ]
        },
        {
          "output_type": "stream",
          "name": "stdout",
          "text": [
            "\n"
          ]
        },
        {
          "output_type": "stream",
          "name": "stderr",
          "text": [
            "Processing Frames:  29%|██▉       | 240/830 [02:49<05:07,  1.92frame/s]"
          ]
        },
        {
          "output_type": "stream",
          "name": "stdout",
          "text": [
            "\n"
          ]
        },
        {
          "output_type": "stream",
          "name": "stderr",
          "text": [
            "\rProcessing Frames:  29%|██▉       | 241/830 [03:01<08:47,  1.12frame/s]"
          ]
        },
        {
          "output_type": "stream",
          "name": "stdout",
          "text": [
            "\n"
          ]
        },
        {
          "output_type": "stream",
          "name": "stderr",
          "text": [
            "Processing Frames:  35%|███▍      | 289/830 [03:24<05:31,  1.63frame/s]"
          ]
        },
        {
          "output_type": "stream",
          "name": "stdout",
          "text": [
            "\n"
          ]
        },
        {
          "output_type": "stream",
          "name": "stderr",
          "text": [
            "Processing Frames:  40%|███▉      | 330/830 [03:59<04:55,  1.69frame/s]"
          ]
        },
        {
          "output_type": "stream",
          "name": "stdout",
          "text": [
            "\n"
          ]
        },
        {
          "output_type": "stream",
          "name": "stderr",
          "text": [
            "Processing Frames:  42%|████▏     | 351/830 [04:10<04:47,  1.67frame/s]"
          ]
        },
        {
          "output_type": "stream",
          "name": "stdout",
          "text": [
            "\n"
          ]
        },
        {
          "output_type": "stream",
          "name": "stderr",
          "text": [
            "Processing Frames:  83%|████████▎ | 690/830 [08:29<01:20,  1.74frame/s]"
          ]
        },
        {
          "output_type": "stream",
          "name": "stdout",
          "text": [
            "\n"
          ]
        },
        {
          "output_type": "stream",
          "name": "stderr",
          "text": [
            "Processing Frames:  90%|████████▉ | 744/830 [09:02<00:46,  1.83frame/s]"
          ]
        },
        {
          "output_type": "stream",
          "name": "stdout",
          "text": [
            "\n"
          ]
        },
        {
          "output_type": "stream",
          "name": "stderr",
          "text": [
            "Processing Frames:  94%|█████████▍| 780/830 [09:25<00:22,  2.21frame/s]"
          ]
        },
        {
          "output_type": "stream",
          "name": "stdout",
          "text": [
            "\n"
          ]
        },
        {
          "output_type": "stream",
          "name": "stderr",
          "text": [
            "Processing Frames:  98%|█████████▊| 810/830 [09:59<00:11,  1.73frame/s]"
          ]
        },
        {
          "output_type": "stream",
          "name": "stdout",
          "text": [
            "\n"
          ]
        },
        {
          "output_type": "stream",
          "name": "stderr",
          "text": [
            "\rProcessing Frames:  98%|█████████▊| 811/830 [10:10<00:19,  1.02s/frame]"
          ]
        },
        {
          "output_type": "stream",
          "name": "stdout",
          "text": [
            "array_of_dict\n",
            "[{'airport': 1, 'intersection': 19, 'highway': 7}, {'night': 1, 'evening': 12, 'late afternoon': 8, 'afternoon': 3, '7 : 00 am': 3}, {'clear': 1, 'sunny': 13, 'cloudy': 1, 'rainy': 12}, {'winter': 14, 'summer': 13}]\n",
            "{'The vehicle involved in the accident was truck.', 'The road had cars.', 'The accident occurred on intersection.', 'The accident happened under weather condition, sunny.', 'The road had motorcycles.', 'The vehicle sustained damage on its back.', 'The incident took place during winter.', 'The road had trucks and cars.', 'The vehicle involved in the accident was car.', 'The number of vehicles are 3.', 'The accident took place at evening.', 'The road had vans.', 'The road had trucks.', 'The vehicle involved in the accident was suv.', 'The number of vehicles are 2.'}\n",
            "frame 30, The road had motorcycles.The vehicle sustained damage on its back.frame 60, The road had trucks.The vehicle involved in the accident was truck.The vehicle sustained damage on its back.frame 90, The road had trucks.The vehicle involved in the accident was truck.The vehicle sustained damage on its back.frame 120, The road had trucks.The vehicle involved in the accident was truck.The vehicle sustained damage on its back.frame 150, The road had trucks.The vehicle involved in the accident was truck.The vehicle sustained damage on its back.frame 180, The road had trucks.The vehicle involved in the accident was truck.The vehicle sustained damage on its back.frame 210, The road had trucks.The vehicle involved in the accident was truck.The vehicle sustained damage on its back.frame 240, The road had trucks.The vehicle involved in the accident was truck.The vehicle sustained damage on its back.frame 270, The road had trucks.The vehicle involved in the accident was truck.The vehicle sustained damage on its back.frame 300, The road had trucks.The vehicle involved in the accident was truck.The vehicle sustained damage on its back.frame 330, The road had trucks.The vehicle involved in the accident was truck.The vehicle sustained damage on its back.frame 360, The road had trucks.The vehicle involved in the accident was truck.The vehicle sustained damage on its back.frame 390, The number of vehicles are 2.The road had trucks.The vehicle involved in the accident was truck.The vehicle sustained damage on its back.frame 420, The number of vehicles are 2.The road had trucks.The vehicle involved in the accident was truck.The vehicle sustained damage on its back.frame 450, The number of vehicles are 2.The road had trucks.The vehicle involved in the accident was car.The vehicle sustained damage on its back.frame 480, The number of vehicles are 2.The road had trucks.The vehicle involved in the accident was truck.The vehicle sustained damage on its back.frame 510, The number of vehicles are 3.The road had trucks.The vehicle involved in the accident was truck.The vehicle sustained damage on its back.frame 540, The number of vehicles are 3.The road had trucks.The vehicle involved in the accident was truck.The vehicle sustained damage on its back.frame 570, The number of vehicles are 2.The road had trucks.The vehicle involved in the accident was truck.The vehicle sustained damage on its back.frame 600, The number of vehicles are 3.The road had trucks and cars.The vehicle involved in the accident was suv.The vehicle sustained damage on its back.frame 630, The number of vehicles are 3.The road had cars.The vehicle involved in the accident was suv.The vehicle sustained damage on its back.frame 660, The number of vehicles are 2.The road had cars.The vehicle involved in the accident was car.The vehicle sustained damage on its back.frame 690, The road had cars.The vehicle involved in the accident was car.The vehicle sustained damage on its back.frame 720, The number of vehicles are 2.The road had cars.The vehicle involved in the accident was car.The vehicle sustained damage on its back.frame 750, The road had cars.The vehicle involved in the accident was car.The vehicle sustained damage on its back.frame 780, The road had vans.The vehicle involved in the accident was car.The vehicle sustained damage on its back.frame 810, The road had cars.The vehicle involved in the accident was car.The vehicle sustained damage on its back.common for all frames, The accident occurred on intersection.common for all frames, The accident took place at evening.common for all frames, The accident happened under weather condition, sunny.common for all frames, The incident took place during winter.\n",
            "CLIP_315.mp4\n"
          ]
        },
        {
          "output_type": "stream",
          "name": "stderr",
          "text": [
            "\n",
            "Processing Frames:   0%|          | 0/922 [00:00<?, ?frame/s]\u001b[A\n",
            "Processing Frames:  98%|█████████▊| 811/830 [10:10<00:14,  1.33frame/s]\n"
          ]
        },
        {
          "output_type": "stream",
          "name": "stdout",
          "text": [
            "\n"
          ]
        },
        {
          "output_type": "stream",
          "name": "stderr",
          "text": [
            "\n",
            "Processing Frames:   3%|▎         | 29/922 [00:18<00:03, 224.73frame/s]\u001b[A\n",
            "Processing Frames:   3%|▎         | 30/922 [00:21<13:54,  1.07frame/s] \u001b[A\n",
            "Processing Frames:   5%|▌         | 50/922 [00:21<06:06,  2.38frame/s]\u001b[A\n",
            "Processing Frames:   6%|▋         | 58/922 [00:38<06:03,  2.38frame/s]\u001b[A\n",
            "Processing Frames:   6%|▋         | 59/922 [00:44<14:07,  1.02frame/s]\u001b[A\n",
            "Processing Frames:   9%|▊         | 79/922 [00:44<07:33,  1.86frame/s]\u001b[A\n",
            "Processing Frames:   9%|▉         | 87/922 [00:58<07:29,  1.86frame/s]\u001b[A\n",
            "Processing Frames:  10%|▉         | 88/922 [01:06<13:14,  1.05frame/s]\u001b[A\n",
            "Processing Frames:  12%|█▏        | 108/922 [01:06<07:33,  1.80frame/s]\u001b[A\n",
            "Processing Frames:  13%|█▎        | 116/922 [01:18<07:28,  1.80frame/s]\u001b[A\n",
            "Processing Frames:  13%|█▎        | 117/922 [01:29<13:11,  1.02frame/s]\u001b[A\n",
            "Processing Frames:  15%|█▍        | 136/922 [01:29<07:53,  1.66frame/s]\u001b[A\n",
            "Processing Frames:  16%|█▌        | 145/922 [01:48<07:47,  1.66frame/s]\u001b[A\n",
            "Processing Frames:  16%|█▌        | 146/922 [01:51<12:29,  1.03frame/s]\u001b[A\n",
            "Processing Frames:  17%|█▋        | 157/922 [01:51<09:06,  1.40frame/s]\u001b[A\n",
            "Processing Frames:  19%|█▉        | 174/922 [01:51<05:40,  2.19frame/s]\u001b[A"
          ]
        },
        {
          "output_type": "stream",
          "name": "stdout",
          "text": [
            "\n"
          ]
        },
        {
          "output_type": "stream",
          "name": "stderr",
          "text": [
            "\n",
            "Processing Frames:  19%|█▉        | 174/922 [02:08<05:40,  2.19frame/s]\u001b[A\n",
            "Processing Frames:  19%|█▉        | 175/922 [02:14<13:48,  1.11s/frame]\u001b[A\n",
            "Processing Frames:  21%|██        | 195/922 [02:14<07:16,  1.67frame/s]\u001b[A"
          ]
        },
        {
          "output_type": "stream",
          "name": "stdout",
          "text": [
            "\n"
          ]
        },
        {
          "output_type": "stream",
          "name": "stderr",
          "text": [
            "\n",
            "Processing Frames:  22%|██▏       | 203/922 [02:29<07:11,  1.67frame/s]\u001b[A\n",
            "Processing Frames:  22%|██▏       | 204/922 [02:37<12:33,  1.05s/frame]\u001b[A\n",
            "Processing Frames:  24%|██▎       | 218/922 [02:37<08:11,  1.43frame/s]\u001b[A\n",
            "Processing Frames:  25%|██▌       | 232/922 [02:49<08:01,  1.43frame/s]\u001b[A"
          ]
        },
        {
          "output_type": "stream",
          "name": "stdout",
          "text": [
            "\n"
          ]
        },
        {
          "output_type": "stream",
          "name": "stderr",
          "text": [
            "\n",
            "Processing Frames:  25%|██▌       | 233/922 [02:59<10:55,  1.05frame/s]\u001b[A\n",
            "Processing Frames:  27%|██▋       | 251/922 [02:59<06:44,  1.66frame/s]\u001b[A"
          ]
        },
        {
          "output_type": "stream",
          "name": "stdout",
          "text": [
            "\n"
          ]
        },
        {
          "output_type": "stream",
          "name": "stderr",
          "text": [
            "\n",
            "Processing Frames:  28%|██▊       | 261/922 [03:19<06:38,  1.66frame/s]\u001b[A\n",
            "Processing Frames:  28%|██▊       | 262/922 [03:22<10:39,  1.03frame/s]\u001b[A\n",
            "Processing Frames:  30%|███       | 279/922 [03:22<06:46,  1.58frame/s]\u001b[A"
          ]
        },
        {
          "output_type": "stream",
          "name": "stdout",
          "text": [
            "\n"
          ]
        },
        {
          "output_type": "stream",
          "name": "stderr",
          "text": [
            "\n",
            "Processing Frames:  31%|███▏      | 290/922 [03:39<06:39,  1.58frame/s]\u001b[A\n",
            "Processing Frames:  32%|███▏      | 291/922 [03:44<09:50,  1.07frame/s]\u001b[A\n",
            "Processing Frames:  33%|███▎      | 308/922 [03:44<06:17,  1.63frame/s]\u001b[A\n",
            "Processing Frames:  35%|███▍      | 319/922 [03:59<06:10,  1.63frame/s]\u001b[A\n",
            "Processing Frames:  35%|███▍      | 320/922 [04:07<09:35,  1.05frame/s]\u001b[A\n",
            "Processing Frames:  37%|███▋      | 338/922 [04:07<06:00,  1.62frame/s]\u001b[A\n",
            "Processing Frames:  38%|███▊      | 348/922 [04:19<05:54,  1.62frame/s]\u001b[A"
          ]
        },
        {
          "output_type": "stream",
          "name": "stdout",
          "text": [
            "\n"
          ]
        },
        {
          "output_type": "stream",
          "name": "stderr",
          "text": [
            "\n",
            "Processing Frames:  38%|███▊      | 349/922 [04:29<09:05,  1.05frame/s]\u001b[A\n",
            "Processing Frames:  39%|███▉      | 361/922 [04:29<06:31,  1.43frame/s]\u001b[A\n",
            "Processing Frames:  41%|████      | 377/922 [04:29<04:12,  2.16frame/s]\u001b[A\n",
            "Processing Frames:  41%|████      | 377/922 [04:49<04:12,  2.16frame/s]\u001b[A\n",
            "Processing Frames:  41%|████      | 378/922 [04:52<10:05,  1.11s/frame]\u001b[A\n",
            "Processing Frames:  43%|████▎     | 395/922 [04:52<05:43,  1.54frame/s]\u001b[A\n",
            "Processing Frames:  44%|████▍     | 406/922 [05:09<05:36,  1.54frame/s]\u001b[A\n",
            "Processing Frames:  44%|████▍     | 407/922 [05:15<08:51,  1.03s/frame]\u001b[A\n",
            "Processing Frames:  46%|████▋     | 427/922 [05:16<05:00,  1.64frame/s]\u001b[A\n",
            "Processing Frames:  47%|████▋     | 435/922 [05:29<04:56,  1.64frame/s]\u001b[A"
          ]
        },
        {
          "output_type": "stream",
          "name": "stdout",
          "text": [
            "\n"
          ]
        },
        {
          "output_type": "stream",
          "name": "stderr",
          "text": [
            "\n",
            "Processing Frames:  47%|████▋     | 436/922 [05:37<07:57,  1.02frame/s]\u001b[A\n",
            "Processing Frames:  49%|████▉     | 455/922 [05:37<04:42,  1.66frame/s]\u001b[A\n",
            "Processing Frames:  50%|█████     | 464/922 [05:49<04:36,  1.66frame/s]\u001b[A"
          ]
        },
        {
          "output_type": "stream",
          "name": "stdout",
          "text": [
            "\n"
          ]
        },
        {
          "output_type": "stream",
          "name": "stderr",
          "text": [
            "\n",
            "Processing Frames:  50%|█████     | 465/922 [06:00<07:34,  1.01frame/s]\u001b[A\n",
            "Processing Frames:  52%|█████▏    | 482/922 [06:01<04:43,  1.55frame/s]\u001b[A"
          ]
        },
        {
          "output_type": "stream",
          "name": "stdout",
          "text": [
            "\n"
          ]
        },
        {
          "output_type": "stream",
          "name": "stderr",
          "text": [
            "\n",
            "Processing Frames:  53%|█████▎    | 493/922 [06:19<04:36,  1.55frame/s]\u001b[A\n",
            "Processing Frames:  54%|█████▎    | 494/922 [06:22<06:44,  1.06frame/s]\u001b[A\n",
            "Processing Frames:  55%|█████▌    | 511/922 [06:22<04:14,  1.62frame/s]\u001b[A"
          ]
        },
        {
          "output_type": "stream",
          "name": "stdout",
          "text": [
            "\n"
          ]
        },
        {
          "output_type": "stream",
          "name": "stderr",
          "text": [
            "\n",
            "Processing Frames:  57%|█████▋    | 522/922 [06:39<04:07,  1.62frame/s]\u001b[A\n",
            "Processing Frames:  57%|█████▋    | 523/922 [06:46<06:25,  1.04frame/s]\u001b[A\n",
            "Processing Frames:  59%|█████▊    | 540/922 [06:46<04:02,  1.57frame/s]\u001b[A\n",
            "Processing Frames:  60%|█████▉    | 551/922 [06:59<03:55,  1.57frame/s]\u001b[A"
          ]
        },
        {
          "output_type": "stream",
          "name": "stdout",
          "text": [
            "\n"
          ]
        },
        {
          "output_type": "stream",
          "name": "stderr",
          "text": [
            "\n",
            "Processing Frames:  60%|█████▉    | 552/922 [07:08<05:53,  1.05frame/s]\u001b[A\n",
            "Processing Frames:  61%|██████    | 560/922 [07:08<04:38,  1.30frame/s]\u001b[A\n",
            "Processing Frames:  62%|██████▏   | 575/922 [07:09<02:55,  1.97frame/s]\u001b[A\n",
            "Processing Frames:  63%|██████▎   | 580/922 [07:19<02:53,  1.97frame/s]\u001b[A"
          ]
        },
        {
          "output_type": "stream",
          "name": "stdout",
          "text": [
            "\n"
          ]
        },
        {
          "output_type": "stream",
          "name": "stderr",
          "text": [
            "\n",
            "Processing Frames:  63%|██████▎   | 581/922 [07:31<05:55,  1.04s/frame]\u001b[A\n",
            "Processing Frames:  65%|██████▍   | 598/922 [07:31<03:23,  1.59frame/s]\u001b[A"
          ]
        },
        {
          "output_type": "stream",
          "name": "stdout",
          "text": [
            "\n"
          ]
        },
        {
          "output_type": "stream",
          "name": "stderr",
          "text": [
            "\n",
            "Processing Frames:  66%|██████▌   | 609/922 [07:49<03:16,  1.59frame/s]\u001b[A\n",
            "Processing Frames:  66%|██████▌   | 610/922 [07:55<05:14,  1.01s/frame]\u001b[A\n",
            "Processing Frames:  68%|██████▊   | 626/922 [07:55<03:13,  1.53frame/s]\u001b[A\n",
            "Processing Frames:  69%|██████▉   | 638/922 [08:09<03:05,  1.53frame/s]\u001b[A"
          ]
        },
        {
          "output_type": "stream",
          "name": "stdout",
          "text": [
            "\n"
          ]
        },
        {
          "output_type": "stream",
          "name": "stderr",
          "text": [
            "\n",
            "Processing Frames:  69%|██████▉   | 639/922 [08:16<04:29,  1.05frame/s]\u001b[A\n",
            "Processing Frames:  71%|███████   | 655/922 [08:17<02:48,  1.58frame/s]\u001b[A\n",
            "Processing Frames:  72%|███████▏  | 667/922 [08:29<02:41,  1.58frame/s]\u001b[A"
          ]
        },
        {
          "output_type": "stream",
          "name": "stdout",
          "text": [
            "\n"
          ]
        },
        {
          "output_type": "stream",
          "name": "stderr",
          "text": [
            "\n",
            "Processing Frames:  72%|███████▏  | 668/922 [08:40<04:03,  1.04frame/s]\u001b[A\n",
            "Processing Frames:  74%|███████▍  | 686/922 [08:40<02:25,  1.62frame/s]\u001b[A"
          ]
        },
        {
          "output_type": "stream",
          "name": "stdout",
          "text": [
            "\n"
          ]
        },
        {
          "output_type": "stream",
          "name": "stderr",
          "text": [
            "\n",
            "Processing Frames:  75%|███████▌  | 696/922 [08:59<02:19,  1.62frame/s]\u001b[A\n",
            "Processing Frames:  76%|███████▌  | 697/922 [09:02<03:32,  1.06frame/s]\u001b[A\n",
            "Processing Frames:  77%|███████▋  | 713/922 [09:02<02:12,  1.57frame/s]\u001b[A"
          ]
        },
        {
          "output_type": "stream",
          "name": "stdout",
          "text": [
            "\n"
          ]
        },
        {
          "output_type": "stream",
          "name": "stderr",
          "text": [
            "\n",
            "Processing Frames:  79%|███████▊  | 725/922 [09:19<02:05,  1.57frame/s]\u001b[A\n",
            "Processing Frames:  79%|███████▊  | 726/922 [09:25<03:07,  1.05frame/s]\u001b[A\n",
            "Processing Frames:  81%|████████  | 745/922 [09:25<01:47,  1.65frame/s]\u001b[A\n",
            "Processing Frames:  82%|████████▏ | 754/922 [09:39<01:42,  1.65frame/s]\u001b[A"
          ]
        },
        {
          "output_type": "stream",
          "name": "stdout",
          "text": [
            "\n"
          ]
        },
        {
          "output_type": "stream",
          "name": "stderr",
          "text": [
            "\n",
            "Processing Frames:  82%|████████▏ | 755/922 [09:49<02:44,  1.01frame/s]\u001b[A\n",
            "Processing Frames:  84%|████████▍ | 777/922 [09:49<01:25,  1.70frame/s]\u001b[A"
          ]
        },
        {
          "output_type": "stream",
          "name": "stdout",
          "text": [
            "\n"
          ]
        },
        {
          "output_type": "stream",
          "name": "stderr",
          "text": [
            "\n",
            "Processing Frames:  85%|████████▍ | 783/922 [10:09<01:21,  1.70frame/s]\u001b[A\n",
            "Processing Frames:  85%|████████▌ | 784/922 [10:11<02:16,  1.01frame/s]\u001b[A\n",
            "Processing Frames:  87%|████████▋ | 805/922 [10:11<01:09,  1.68frame/s]\u001b[A"
          ]
        },
        {
          "output_type": "stream",
          "name": "stdout",
          "text": [
            "\n"
          ]
        },
        {
          "output_type": "stream",
          "name": "stderr",
          "text": [
            "\n",
            "Processing Frames:  88%|████████▊ | 812/922 [10:29<01:05,  1.68frame/s]\u001b[A\n",
            "Processing Frames:  88%|████████▊ | 813/922 [10:35<01:50,  1.02s/frame]\u001b[A\n",
            "Processing Frames:  90%|█████████ | 834/922 [10:35<00:53,  1.64frame/s]\u001b[A\n",
            "Processing Frames:  91%|█████████ | 841/922 [10:49<00:49,  1.64frame/s]\u001b[A"
          ]
        },
        {
          "output_type": "stream",
          "name": "stdout",
          "text": [
            "\n"
          ]
        },
        {
          "output_type": "stream",
          "name": "stderr",
          "text": [
            "\n",
            "Processing Frames:  91%|█████████▏| 842/922 [10:57<01:19,  1.01frame/s]\u001b[A\n",
            "Processing Frames:  94%|█████████▎| 863/922 [10:57<00:34,  1.69frame/s]\u001b[A\n",
            "Processing Frames:  94%|█████████▍| 870/922 [11:09<00:30,  1.69frame/s]\u001b[A"
          ]
        },
        {
          "output_type": "stream",
          "name": "stdout",
          "text": [
            "\n",
            "\n",
            "\n"
          ]
        },
        {
          "output_type": "stream",
          "name": "stderr",
          "text": [
            "\n",
            "Processing Frames:  94%|█████████▍| 871/922 [11:20<00:51,  1.01s/frame]\u001b[A"
          ]
        },
        {
          "output_type": "stream",
          "name": "stdout",
          "text": [
            "\n"
          ]
        },
        {
          "output_type": "stream",
          "name": "stderr",
          "text": [
            "\n",
            "Processing Frames:  98%|█████████▊| 900/922 [11:42<00:19,  1.12frame/s]\u001b[A"
          ]
        },
        {
          "output_type": "stream",
          "name": "stdout",
          "text": [
            "array_of_dict\n",
            "[{'parking lot': 9, 'florida': 20, 'none': 1, 'street': 1}, {'evening': 13, 'afternoon': 6, '7 : 00 am': 9, '3 : 00 pm': 2, 'night': 1}, {'stormy': 22, 'cloudy': 7, 'rainy': 2}, {'summer': 30, 'winter': 1}]\n",
            "{'The road had cars.', 'The number of vehicles are 5.', 'The road had suvs.', 'The vehicle sustained damage on its back.', 'The vehicle involved in the accident was mustang.', 'The incident took place during summer.', 'The vehicle involved in the accident was car.', 'The number of vehicles are 3.', 'The accident occurred on florida.', 'The accident took place at evening.', 'The road had trucks.', 'The vehicle involved in the accident was suv.', 'The accident happened under weather condition, stormy.', 'The road had sports cars.', 'The number of vehicles are 2.'}\n",
            "frame 29, The road had cars.The vehicle involved in the accident was car.The vehicle sustained damage on its back.frame 58, The number of vehicles are 5.The road had cars.The vehicle involved in the accident was suv.The vehicle sustained damage on its back.frame 87, The number of vehicles are 5.The road had cars.The vehicle involved in the accident was suv.The vehicle sustained damage on its back.frame 116, The number of vehicles are 5.The road had cars.The vehicle involved in the accident was suv.The vehicle sustained damage on its back.frame 145, The number of vehicles are 5.The road had suvs.The vehicle involved in the accident was suv.The vehicle sustained damage on its back.frame 174, The road had trucks.The vehicle involved in the accident was car.The vehicle sustained damage on its back.frame 203, The road had cars.The vehicle involved in the accident was car.The vehicle sustained damage on its back.frame 232, The road had cars.The vehicle involved in the accident was suv.The vehicle sustained damage on its back.frame 261, The road had cars.The vehicle involved in the accident was car.The vehicle sustained damage on its back.frame 290, The road had sports cars.The vehicle involved in the accident was car.The vehicle sustained damage on its back.frame 319, The number of vehicles are 2.The road had sports cars.The vehicle involved in the accident was mustang.The vehicle sustained damage on its back.frame 348, The road had sports cars.The vehicle involved in the accident was mustang.The vehicle sustained damage on its back.frame 377, The number of vehicles are 2.The road had sports cars.The vehicle involved in the accident was mustang.The vehicle sustained damage on its back.frame 406, The number of vehicles are 3.The road had sports cars.The vehicle involved in the accident was car.The vehicle sustained damage on its back.frame 435, The road had sports cars.The vehicle involved in the accident was mustang.The vehicle sustained damage on its back.frame 464, The road had sports cars.The vehicle involved in the accident was car.The vehicle sustained damage on its back.frame 493, The road had cars.The vehicle involved in the accident was mustang.The vehicle sustained damage on its back.frame 522, The road had cars.The vehicle involved in the accident was car.The vehicle sustained damage on its back.frame 551, The road had cars.The vehicle involved in the accident was car.The vehicle sustained damage on its back.frame 580, The road had cars.The vehicle involved in the accident was car.The vehicle sustained damage on its back.frame 609, The road had cars.The vehicle involved in the accident was car.The vehicle sustained damage on its back.frame 638, The road had cars.The vehicle involved in the accident was car.The vehicle sustained damage on its back.frame 667, The road had cars.The vehicle involved in the accident was car.The vehicle sustained damage on its back.frame 696, The road had cars.The vehicle involved in the accident was mustang.The vehicle sustained damage on its back.frame 725, The road had sports cars.The vehicle involved in the accident was mustang.The vehicle sustained damage on its back.frame 754, The road had sports cars.The vehicle involved in the accident was mustang.The vehicle sustained damage on its back.frame 783, The road had sports cars.The vehicle involved in the accident was mustang.The vehicle sustained damage on its back.frame 812, The road had sports cars.The vehicle involved in the accident was mustang.The vehicle sustained damage on its back.frame 841, The road had sports cars.The vehicle involved in the accident was mustang.The vehicle sustained damage on its back.frame 870, The vehicle sustained damage on its back.frame 899, The road had cars.The vehicle involved in the accident was car.The vehicle sustained damage on its back.common for all frames, The accident occurred on florida.common for all frames, The accident took place at evening.common for all frames, The accident happened under weather condition, stormy.common for all frames, The incident took place during summer.\n",
            "CLIP_298.mp4\n"
          ]
        },
        {
          "output_type": "stream",
          "name": "stderr",
          "text": [
            "Processing Frames:  98%|█████████▊| 900/922 [11:42<00:17,  1.28frame/s]\n",
            "Processing Frames:   2%|▏         | 13/622 [00:00<00:23, 25.99frame/s]"
          ]
        },
        {
          "output_type": "stream",
          "name": "stdout",
          "text": [
            "\n"
          ]
        },
        {
          "output_type": "stream",
          "name": "stderr",
          "text": [
            "\rProcessing Frames:   4%|▍         | 24/622 [00:16<00:23, 25.99frame/s]"
          ]
        },
        {
          "output_type": "stream",
          "name": "stdout",
          "text": [
            "\n"
          ]
        },
        {
          "output_type": "stream",
          "name": "stderr",
          "text": [
            "Processing Frames:   8%|▊         | 48/622 [00:36<05:21,  1.79frame/s]"
          ]
        },
        {
          "output_type": "stream",
          "name": "stdout",
          "text": [
            "\n"
          ]
        },
        {
          "output_type": "stream",
          "name": "stderr",
          "text": [
            "Processing Frames:  11%|█▏        | 71/622 [00:46<05:10,  1.78frame/s]"
          ]
        },
        {
          "output_type": "stream",
          "name": "stdout",
          "text": [
            "\n",
            "\n"
          ]
        },
        {
          "output_type": "stream",
          "name": "stderr",
          "text": [
            "Processing Frames:  15%|█▌        | 96/622 [01:08<05:14,  1.67frame/s]"
          ]
        },
        {
          "output_type": "stream",
          "name": "stdout",
          "text": [
            "\n"
          ]
        },
        {
          "output_type": "stream",
          "name": "stderr",
          "text": [
            "Processing Frames:  19%|█▉        | 120/622 [01:31<05:24,  1.55frame/s]"
          ]
        },
        {
          "output_type": "stream",
          "name": "stdout",
          "text": [
            "\n"
          ]
        },
        {
          "output_type": "stream",
          "name": "stderr",
          "text": [
            "Processing Frames:  23%|██▎       | 144/622 [02:06<06:36,  1.20frame/s]"
          ]
        },
        {
          "output_type": "stream",
          "name": "stdout",
          "text": [
            "\n"
          ]
        },
        {
          "output_type": "stream",
          "name": "stderr",
          "text": [
            "\rProcessing Frames:  23%|██▎       | 145/622 [02:16<09:36,  1.21s/frame]"
          ]
        },
        {
          "output_type": "stream",
          "name": "stdout",
          "text": [
            "\n"
          ]
        },
        {
          "output_type": "stream",
          "name": "stderr",
          "text": [
            "Processing Frames:  30%|██▉       | 185/622 [02:40<05:27,  1.34frame/s]"
          ]
        },
        {
          "output_type": "stream",
          "name": "stdout",
          "text": [
            "\n"
          ]
        },
        {
          "output_type": "stream",
          "name": "stderr",
          "text": [
            "Processing Frames:  46%|████▋     | 288/622 [04:11<03:44,  1.48frame/s]"
          ]
        },
        {
          "output_type": "stream",
          "name": "stdout",
          "text": [
            "\n"
          ]
        },
        {
          "output_type": "stream",
          "name": "stderr",
          "text": [
            "Processing Frames:  50%|█████     | 312/622 [04:46<04:12,  1.23frame/s]"
          ]
        },
        {
          "output_type": "stream",
          "name": "stdout",
          "text": [
            "\n"
          ]
        },
        {
          "output_type": "stream",
          "name": "stderr",
          "text": [
            "Processing Frames:  76%|███████▋  | 475/622 [07:11<01:43,  1.42frame/s]"
          ]
        },
        {
          "output_type": "stream",
          "name": "stdout",
          "text": [
            "\n"
          ]
        },
        {
          "output_type": "stream",
          "name": "stderr",
          "text": [
            "Processing Frames:  77%|███████▋  | 481/622 [07:34<02:29,  1.06s/frame]"
          ]
        },
        {
          "output_type": "stream",
          "name": "stdout",
          "text": [
            "\n"
          ]
        },
        {
          "output_type": "stream",
          "name": "stderr",
          "text": [
            "\rProcessing Frames:  81%|████████  | 505/622 [07:57<01:58,  1.01s/frame]"
          ]
        },
        {
          "output_type": "stream",
          "name": "stdout",
          "text": [
            "array_of_dict\n",
            "[{'south': 4, 'highway': 14, 'intersection': 1, 'race track': 1, 'airport': 1}, {'7 : 00 am': 7, '12 : 00 am': 1, 'evening': 7, '6 : 00 pm': 2, '3 : 00 pm': 2, 'late afternoon': 1, 'night': 1}, {'cloudy': 18, 'rainy': 3}, {'summer': 19, 'spring': 1, 'winter': 1}]\n",
            "{'The vehicle involved in the accident was truck.', 'The road had motorcycles.', 'The accident happened under weather condition, cloudy.', 'The vehicle involved in the accident was car.', 'The road had bus.', 'The road had cars.', 'The road had truck.', 'The road had vans.', 'The road had trucks.', 'The accident occurred on highway.', 'The vehicle sustained damage on its back.', 'The road had truck and car.', 'The vehicle involved in the accident was suv.', 'The number of vehicles are 2.', 'The incident took place during summer.', 'The vehicle involved in the accident was van.', 'The vehicle involved in the accident was bus.', 'The number of vehicles are 3.', 'The accident took place at 7 : 00 am.', 'The road had van.'}\n",
            "frame 24, The road had bus.The vehicle sustained damage on its back.frame 48, The road had bus.The vehicle involved in the accident was bus.The vehicle sustained damage on its back.frame 72, The road had bus.The vehicle sustained damage on its back.frame 96, The road had bus.The vehicle involved in the accident was bus.The vehicle sustained damage on its back.frame 120, The road had truck.The vehicle involved in the accident was truck.The vehicle sustained damage on its back.frame 144, The road had bus.The vehicle involved in the accident was bus.The vehicle sustained damage on its back.frame 168, The road had truck.The vehicle involved in the accident was car.The vehicle sustained damage on its back.frame 192, The road had trucks.The vehicle involved in the accident was car.The vehicle sustained damage on its back.frame 216, The number of vehicles are 2.The road had trucks.The vehicle involved in the accident was car.The vehicle sustained damage on its back.frame 240, The number of vehicles are 2.The road had van.The vehicle involved in the accident was van.The vehicle sustained damage on its back.frame 264, The number of vehicles are 2.The road had trucks.The vehicle involved in the accident was truck.The vehicle sustained damage on its back.frame 288, The road had trucks.The vehicle involved in the accident was truck.The vehicle sustained damage on its back.frame 312, The road had cars.The vehicle involved in the accident was suv.The vehicle sustained damage on its back.frame 336, The number of vehicles are 2.The road had cars.The vehicle involved in the accident was car.The vehicle sustained damage on its back.frame 360, The number of vehicles are 2.The road had truck and car.The vehicle involved in the accident was truck.The vehicle sustained damage on its back.frame 384, The number of vehicles are 2.The road had cars.The vehicle involved in the accident was car.The vehicle sustained damage on its back.frame 408, The number of vehicles are 3.The road had vans.The vehicle involved in the accident was suv.The vehicle sustained damage on its back.frame 432, The number of vehicles are 2.The road had truck and car.The vehicle involved in the accident was truck.The vehicle sustained damage on its back.frame 456, The number of vehicles are 2.The road had cars.The vehicle involved in the accident was car.The vehicle sustained damage on its back.frame 480, The road had trucks.The vehicle involved in the accident was truck.The vehicle sustained damage on its back.frame 504, The road had motorcycles.The vehicle involved in the accident was bus.The vehicle sustained damage on its back.common for all frames, The accident occurred on highway.common for all frames, The accident took place at 7 : 00 am.common for all frames, The accident happened under weather condition, cloudy.common for all frames, The incident took place during summer.\n",
            "CLIP_261.mp4\n"
          ]
        },
        {
          "output_type": "stream",
          "name": "stderr",
          "text": [
            "\n",
            "Processing Frames:  81%|████████  | 505/622 [07:57<01:50,  1.06frame/s]\n",
            "\n",
            "Processing Frames:   0%|          | 1/1048 [00:00<02:00,  8.69frame/s]\u001b[A\n",
            "Processing Frames:   2%|▏         | 20/1048 [00:00<00:09, 108.30frame/s]\u001b[A"
          ]
        },
        {
          "output_type": "stream",
          "name": "stdout",
          "text": [
            "\n"
          ]
        },
        {
          "output_type": "stream",
          "name": "stderr",
          "text": [
            "\n",
            "Processing Frames:   3%|▎         | 30/1048 [00:19<00:09, 108.30frame/s]\u001b[A\n",
            "Processing Frames:   3%|▎         | 31/1048 [00:22<15:21,  1.10frame/s] \u001b[A\n",
            "Processing Frames:   4%|▍         | 44/1048 [00:22<08:43,  1.92frame/s]\u001b[A\n",
            "Processing Frames:   6%|▌         | 60/1048 [00:22<04:56,  3.33frame/s]\u001b[A"
          ]
        },
        {
          "output_type": "stream",
          "name": "stdout",
          "text": [
            "\n"
          ]
        },
        {
          "output_type": "stream",
          "name": "stderr",
          "text": [
            "\n",
            "Processing Frames:   6%|▌         | 60/1048 [00:39<04:56,  3.33frame/s]\u001b[A\n",
            "Processing Frames:   6%|▌         | 61/1048 [00:46<18:54,  1.15s/frame]\u001b[A\n",
            "Processing Frames:   7%|▋         | 77/1048 [00:46<10:08,  1.60frame/s]\u001b[A\n",
            "Processing Frames:   9%|▊         | 90/1048 [00:59<09:59,  1.60frame/s]\u001b[A"
          ]
        },
        {
          "output_type": "stream",
          "name": "stdout",
          "text": [
            "\n"
          ]
        },
        {
          "output_type": "stream",
          "name": "stderr",
          "text": [
            "\n",
            "Processing Frames:   9%|▊         | 91/1048 [01:07<15:22,  1.04frame/s]\u001b[A\n",
            "Processing Frames:  10%|█         | 108/1048 [01:08<09:17,  1.69frame/s]\u001b[A\n",
            "Processing Frames:  11%|█▏        | 120/1048 [01:19<09:10,  1.69frame/s]\u001b[A\n",
            "Processing Frames:  12%|█▏        | 121/1048 [01:31<14:42,  1.05frame/s]\u001b[A\n",
            "Processing Frames:  13%|█▎        | 137/1048 [01:31<09:31,  1.59frame/s]\u001b[A\n",
            "Processing Frames:  14%|█▍        | 150/1048 [01:49<09:23,  1.59frame/s]\u001b[A\n",
            "Processing Frames:  14%|█▍        | 151/1048 [01:54<13:46,  1.09frame/s]\u001b[A\n",
            "Processing Frames:  15%|█▌        | 158/1048 [01:54<11:17,  1.31frame/s]\u001b[A\n",
            "Processing Frames:  16%|█▋        | 171/1048 [01:54<07:37,  1.92frame/s]\u001b[A"
          ]
        },
        {
          "output_type": "stream",
          "name": "stdout",
          "text": [
            "\n"
          ]
        },
        {
          "output_type": "stream",
          "name": "stderr",
          "text": [
            "\n",
            "Processing Frames:  17%|█▋        | 180/1048 [02:09<07:32,  1.92frame/s]\u001b[A\n",
            "Processing Frames:  17%|█▋        | 181/1048 [02:16<14:02,  1.03frame/s]\u001b[A\n",
            "Processing Frames:  19%|█▉        | 198/1048 [02:16<08:28,  1.67frame/s]\u001b[A\n",
            "Processing Frames:  20%|██        | 210/1048 [02:29<08:21,  1.67frame/s]\u001b[A"
          ]
        },
        {
          "output_type": "stream",
          "name": "stdout",
          "text": [
            "\n"
          ]
        },
        {
          "output_type": "stream",
          "name": "stderr",
          "text": [
            "\n",
            "Processing Frames:  20%|██        | 211/1048 [02:40<13:16,  1.05frame/s]\u001b[A\n",
            "Processing Frames:  22%|██▏       | 231/1048 [02:40<07:52,  1.73frame/s]\u001b[A\n",
            "Processing Frames:  23%|██▎       | 240/1048 [02:59<07:47,  1.73frame/s]\u001b[A\n",
            "Processing Frames:  23%|██▎       | 241/1048 [03:01<12:29,  1.08frame/s]\u001b[A\n",
            "Processing Frames:  25%|██▍       | 258/1048 [03:02<07:59,  1.65frame/s]\u001b[A"
          ]
        },
        {
          "output_type": "stream",
          "name": "stdout",
          "text": [
            "\n"
          ]
        },
        {
          "output_type": "stream",
          "name": "stderr",
          "text": [
            "\n",
            "Processing Frames:  26%|██▌       | 270/1048 [03:19<07:52,  1.65frame/s]\u001b[A\n",
            "Processing Frames:  26%|██▌       | 271/1048 [03:25<12:01,  1.08frame/s]\u001b[A\n",
            "Processing Frames:  28%|██▊       | 290/1048 [03:25<07:27,  1.69frame/s]\u001b[A\n",
            "Processing Frames:  29%|██▊       | 300/1048 [03:39<07:22,  1.69frame/s]\u001b[A"
          ]
        },
        {
          "output_type": "stream",
          "name": "stdout",
          "text": [
            "\n"
          ]
        },
        {
          "output_type": "stream",
          "name": "stderr",
          "text": [
            "\n",
            "Processing Frames:  29%|██▊       | 301/1048 [03:46<11:21,  1.10frame/s]\u001b[A\n",
            "Processing Frames:  30%|███       | 317/1048 [03:47<07:31,  1.62frame/s]\u001b[A\n",
            "Processing Frames:  31%|███▏      | 330/1048 [03:59<07:23,  1.62frame/s]\u001b[A"
          ]
        },
        {
          "output_type": "stream",
          "name": "stdout",
          "text": [
            "\n"
          ]
        },
        {
          "output_type": "stream",
          "name": "stderr",
          "text": [
            "\n",
            "Processing Frames:  32%|███▏      | 331/1048 [04:10<10:57,  1.09frame/s]\u001b[A\n",
            "Processing Frames:  33%|███▎      | 349/1048 [04:10<06:59,  1.66frame/s]\u001b[A"
          ]
        },
        {
          "output_type": "stream",
          "name": "stdout",
          "text": [
            "\n"
          ]
        },
        {
          "output_type": "stream",
          "name": "stderr",
          "text": [
            "\n",
            "Processing Frames:  34%|███▍      | 360/1048 [04:29<06:53,  1.66frame/s]\u001b[A\n",
            "Processing Frames:  34%|███▍      | 361/1048 [04:32<10:24,  1.10frame/s]\u001b[A\n",
            "Processing Frames:  35%|███▌      | 371/1048 [04:32<07:56,  1.42frame/s]\u001b[A\n",
            "Processing Frames:  37%|███▋      | 386/1048 [04:32<05:14,  2.10frame/s]\u001b[A"
          ]
        },
        {
          "output_type": "stream",
          "name": "stdout",
          "text": [
            "\n"
          ]
        },
        {
          "output_type": "stream",
          "name": "stderr",
          "text": [
            "\n",
            "Processing Frames:  37%|███▋      | 390/1048 [04:49<05:13,  2.10frame/s]\u001b[A\n",
            "Processing Frames:  37%|███▋      | 391/1048 [04:54<11:05,  1.01s/frame]\u001b[A\n",
            "Processing Frames:  39%|███▉      | 407/1048 [04:55<06:43,  1.59frame/s]\u001b[A"
          ]
        },
        {
          "output_type": "stream",
          "name": "stdout",
          "text": [
            "\n"
          ]
        },
        {
          "output_type": "stream",
          "name": "stderr",
          "text": [
            "\n",
            "Processing Frames:  40%|████      | 420/1048 [05:09<06:34,  1.59frame/s]\u001b[A\n",
            "Processing Frames:  40%|████      | 421/1048 [05:18<10:01,  1.04frame/s]\u001b[A\n",
            "Processing Frames:  41%|████      | 432/1048 [05:18<07:15,  1.41frame/s]\u001b[A\n",
            "Processing Frames:  43%|████▎     | 446/1048 [05:18<04:48,  2.09frame/s]\u001b[A\n",
            "Processing Frames:  43%|████▎     | 450/1048 [05:29<04:46,  2.09frame/s]\u001b[A"
          ]
        },
        {
          "output_type": "stream",
          "name": "stdout",
          "text": [
            "\n"
          ]
        },
        {
          "output_type": "stream",
          "name": "stderr",
          "text": [
            "\n",
            "Processing Frames:  43%|████▎     | 451/1048 [05:39<10:12,  1.03s/frame]\u001b[A\n",
            "Processing Frames:  45%|████▍     | 469/1048 [05:40<05:44,  1.68frame/s]\u001b[A"
          ]
        },
        {
          "output_type": "stream",
          "name": "stdout",
          "text": [
            "\n"
          ]
        },
        {
          "output_type": "stream",
          "name": "stderr",
          "text": [
            "\n",
            "Processing Frames:  46%|████▌     | 480/1048 [05:59<05:37,  1.68frame/s]\u001b[A\n",
            "Processing Frames:  46%|████▌     | 481/1048 [06:03<09:14,  1.02frame/s]\u001b[A\n",
            "Processing Frames:  47%|████▋     | 497/1048 [06:03<05:49,  1.58frame/s]\u001b[A"
          ]
        },
        {
          "output_type": "stream",
          "name": "stdout",
          "text": [
            "\n"
          ]
        },
        {
          "output_type": "stream",
          "name": "stderr",
          "text": [
            "\n",
            "Processing Frames:  49%|████▊     | 510/1048 [06:19<05:41,  1.58frame/s]\u001b[A\n",
            "Processing Frames:  49%|████▉     | 511/1048 [06:24<08:08,  1.10frame/s]\u001b[A\n",
            "Processing Frames:  50%|█████     | 529/1048 [06:24<05:03,  1.71frame/s]\u001b[A"
          ]
        },
        {
          "output_type": "stream",
          "name": "stdout",
          "text": [
            "\n"
          ]
        },
        {
          "output_type": "stream",
          "name": "stderr",
          "text": [
            "\n",
            "Processing Frames:  52%|█████▏    | 540/1048 [06:39<04:56,  1.71frame/s]\u001b[A"
          ]
        },
        {
          "output_type": "stream",
          "name": "stdout",
          "text": [
            "\n"
          ]
        },
        {
          "output_type": "stream",
          "name": "stderr",
          "text": [
            "\n",
            "Processing Frames:  52%|█████▏    | 541/1048 [06:48<07:50,  1.08frame/s]\u001b[A\n",
            "Processing Frames:  53%|█████▎    | 559/1048 [06:48<04:54,  1.66frame/s]\u001b[A\n",
            "Processing Frames:  54%|█████▍    | 570/1048 [06:59<04:47,  1.66frame/s]\u001b[A"
          ]
        },
        {
          "output_type": "stream",
          "name": "stdout",
          "text": [
            "\n"
          ]
        },
        {
          "output_type": "stream",
          "name": "stderr",
          "text": [
            "\n",
            "Processing Frames:  54%|█████▍    | 571/1048 [07:09<07:11,  1.11frame/s]\u001b[A\n",
            "Processing Frames:  55%|█████▌    | 581/1048 [07:09<05:25,  1.43frame/s]\u001b[A\n",
            "Processing Frames:  57%|█████▋    | 595/1048 [07:09<03:37,  2.08frame/s]\u001b[A"
          ]
        },
        {
          "output_type": "stream",
          "name": "stdout",
          "text": [
            "\n"
          ]
        },
        {
          "output_type": "stream",
          "name": "stderr",
          "text": [
            "\n",
            "Processing Frames:  57%|█████▋    | 600/1048 [07:29<03:35,  2.08frame/s]\u001b[A\n",
            "Processing Frames:  57%|█████▋    | 601/1048 [07:33<07:38,  1.03s/frame]\u001b[A\n",
            "Processing Frames:  59%|█████▉    | 621/1048 [07:33<04:08,  1.72frame/s]\u001b[A\n",
            "Processing Frames:  60%|██████    | 630/1048 [07:49<04:02,  1.72frame/s]\u001b[A\n",
            "Processing Frames:  60%|██████    | 631/1048 [07:56<06:54,  1.01frame/s]\u001b[A\n",
            "Processing Frames:  61%|██████▏   | 642/1048 [07:56<04:55,  1.38frame/s]\u001b[A\n",
            "Processing Frames:  63%|██████▎   | 656/1048 [07:56<03:11,  2.04frame/s]\u001b[A\n",
            "Processing Frames:  63%|██████▎   | 660/1048 [08:09<03:09,  2.04frame/s]\u001b[A\n",
            "Processing Frames:  63%|██████▎   | 661/1048 [08:18<06:42,  1.04s/frame]\u001b[A\n",
            "Processing Frames:  65%|██████▍   | 680/1048 [08:18<03:35,  1.71frame/s]\u001b[A\n",
            "Processing Frames:  66%|██████▌   | 690/1048 [08:29<03:29,  1.71frame/s]\u001b[A\n",
            "Processing Frames:  66%|██████▌   | 691/1048 [08:41<05:54,  1.01frame/s]\u001b[A\n",
            "Processing Frames:  68%|██████▊   | 710/1048 [08:41<03:23,  1.66frame/s]\u001b[A"
          ]
        },
        {
          "output_type": "stream",
          "name": "stdout",
          "text": [
            "\n"
          ]
        },
        {
          "output_type": "stream",
          "name": "stderr",
          "text": [
            "\n",
            "Processing Frames:  69%|██████▊   | 720/1048 [08:59<03:17,  1.66frame/s]\u001b[A\n",
            "Processing Frames:  69%|██████▉   | 721/1048 [09:03<05:07,  1.06frame/s]\u001b[A\n",
            "Processing Frames:  71%|███████   | 739/1048 [09:03<03:04,  1.67frame/s]\u001b[A"
          ]
        },
        {
          "output_type": "stream",
          "name": "stdout",
          "text": [
            "\n"
          ]
        },
        {
          "output_type": "stream",
          "name": "stderr",
          "text": [
            "\n",
            "Processing Frames:  72%|███████▏  | 750/1048 [09:19<02:58,  1.67frame/s]\u001b[A\n",
            "Processing Frames:  72%|███████▏  | 751/1048 [09:26<04:41,  1.06frame/s]\u001b[A\n",
            "Processing Frames:  73%|███████▎  | 770/1048 [09:26<02:46,  1.67frame/s]\u001b[A\n",
            "Processing Frames:  74%|███████▍  | 780/1048 [09:39<02:40,  1.67frame/s]\u001b[A"
          ]
        },
        {
          "output_type": "stream",
          "name": "stdout",
          "text": [
            "\n"
          ]
        },
        {
          "output_type": "stream",
          "name": "stderr",
          "text": [
            "\n",
            "Processing Frames:  75%|███████▍  | 781/1048 [09:49<04:09,  1.07frame/s]\u001b[A\n",
            "Processing Frames:  76%|███████▌  | 792/1048 [09:49<02:59,  1.42frame/s]\u001b[A\n",
            "Processing Frames:  77%|███████▋  | 807/1048 [09:49<01:54,  2.10frame/s]\u001b[A\n",
            "Processing Frames:  77%|███████▋  | 810/1048 [09:59<01:53,  2.10frame/s]\u001b[A\n",
            "Processing Frames:  77%|███████▋  | 811/1048 [10:11<04:07,  1.05s/frame]\u001b[A\n",
            "Processing Frames:  79%|███████▉  | 831/1048 [10:12<02:07,  1.71frame/s]\u001b[A\n",
            "Processing Frames:  80%|████████  | 840/1048 [10:29<02:01,  1.71frame/s]\u001b[A\n",
            "Processing Frames:  80%|████████  | 841/1048 [10:35<03:27,  1.00s/frame]\u001b[A\n",
            "Processing Frames:  82%|████████▏ | 860/1048 [10:35<01:54,  1.65frame/s]\u001b[A"
          ]
        },
        {
          "output_type": "stream",
          "name": "stdout",
          "text": [
            "\n"
          ]
        },
        {
          "output_type": "stream",
          "name": "stderr",
          "text": [
            "\n",
            "Processing Frames:  83%|████████▎ | 870/1048 [10:49<01:48,  1.65frame/s]\u001b[A\n",
            "Processing Frames:  83%|████████▎ | 871/1048 [10:56<02:46,  1.07frame/s]\u001b[A\n",
            "Processing Frames:  85%|████████▌ | 892/1048 [10:56<01:27,  1.77frame/s]\u001b[A\n",
            "Processing Frames:  86%|████████▌ | 900/1048 [11:09<01:23,  1.77frame/s]\u001b[A"
          ]
        },
        {
          "output_type": "stream",
          "name": "stdout",
          "text": [
            "\n"
          ]
        },
        {
          "output_type": "stream",
          "name": "stderr",
          "text": [
            "\n",
            "Processing Frames:  86%|████████▌ | 901/1048 [11:20<02:21,  1.04frame/s]\u001b[A\n",
            "Processing Frames:  88%|████████▊ | 919/1048 [11:20<01:19,  1.62frame/s]\u001b[A"
          ]
        },
        {
          "output_type": "stream",
          "name": "stdout",
          "text": [
            "\n"
          ]
        },
        {
          "output_type": "stream",
          "name": "stderr",
          "text": [
            "\n",
            "Processing Frames:  89%|████████▊ | 930/1048 [11:39<01:12,  1.62frame/s]\u001b[A\n",
            "Processing Frames:  89%|████████▉ | 931/1048 [11:41<01:47,  1.09frame/s]\u001b[A\n",
            "Processing Frames:  91%|█████████ | 950/1048 [11:41<00:57,  1.72frame/s]\u001b[A"
          ]
        },
        {
          "output_type": "stream",
          "name": "stdout",
          "text": [
            "\n"
          ]
        },
        {
          "output_type": "stream",
          "name": "stderr",
          "text": [
            "\n",
            "Processing Frames:  92%|█████████▏| 960/1048 [11:59<00:51,  1.72frame/s]\u001b[A\n",
            "Processing Frames:  92%|█████████▏| 961/1048 [12:04<01:21,  1.07frame/s]\u001b[A\n",
            "Processing Frames:  93%|█████████▎| 979/1048 [12:04<00:41,  1.64frame/s]\u001b[A"
          ]
        },
        {
          "output_type": "stream",
          "name": "stdout",
          "text": [
            "\n"
          ]
        },
        {
          "output_type": "stream",
          "name": "stderr",
          "text": [
            "\n",
            "Processing Frames:  94%|█████████▍| 990/1048 [12:19<00:35,  1.64frame/s]\u001b[A\n",
            "Processing Frames:  95%|█████████▍| 991/1048 [12:26<00:51,  1.10frame/s]\u001b[A\n",
            "Processing Frames:  97%|█████████▋| 1012/1048 [12:26<00:20,  1.79frame/s]\u001b[A\n",
            "Processing Frames:  97%|█████████▋| 1020/1048 [12:39<00:15,  1.79frame/s]\u001b[A"
          ]
        },
        {
          "output_type": "stream",
          "name": "stdout",
          "text": [
            "\n",
            "array_of_dict\n",
            "[{'highway': 31, 'washington': 1, 'rural': 1, 'airport': 1}, {'6 : 00 pm': 4, '3 : 00 pm': 2, '6 : 00': 3, 'evening': 16, '6 : 00 am': 6, 'late afternoon': 2, 'night': 1}, {'sunny': 10, 'cloudy': 23, 'rainy': 1}, {'winter': 2, 'fall': 31, 'summer': 1}]\n",
            "{'The vehicle involved in the accident was truck.', 'The road had cars.', 'The road had motorcycles.', 'The accident happened under weather condition, cloudy.', 'The road had suvs.', 'The vehicle sustained damage on its back.', 'The accident occurred on highway.', 'The vehicle involved in the accident was car.', 'The vehicle involved in the accident was bus.', 'The number of vehicles are 3.', 'The road had truck and car.', 'The accident took place at evening.', 'The incident took place during fall.', 'The road had trucks.', 'The vehicle involved in the accident was suv.', 'The number of vehicles are 2.'}\n",
            "frame 30, The road had suvs.The vehicle involved in the accident was suv.The vehicle sustained damage on its back.frame 60, The road had cars.The vehicle involved in the accident was car.The vehicle sustained damage on its back.frame 90, The road had cars.The vehicle involved in the accident was car.The vehicle sustained damage on its back.frame 120, The number of vehicles are 3.The road had trucks.The vehicle involved in the accident was car.The vehicle sustained damage on its back.frame 150, The number of vehicles are 2.The road had truck and car.The vehicle involved in the accident was truck.The vehicle sustained damage on its back.frame 180, The road had cars.The vehicle involved in the accident was car.The vehicle sustained damage on its back.frame 210, The road had cars.The vehicle involved in the accident was car.The vehicle sustained damage on its back.frame 240, The number of vehicles are 3.The road had cars.The vehicle involved in the accident was truck.The vehicle sustained damage on its back.frame 270, The road had cars.The vehicle involved in the accident was car.The vehicle sustained damage on its back.frame 300, The road had cars.The vehicle involved in the accident was car.The vehicle sustained damage on its back.frame 330, The road had trucks.The vehicle involved in the accident was truck.The vehicle sustained damage on its back.frame 360, The road had trucks.The vehicle involved in the accident was truck.The vehicle sustained damage on its back.frame 390, The road had cars.The vehicle involved in the accident was car.The vehicle sustained damage on its back.frame 420, The road had cars.The vehicle involved in the accident was bus.The vehicle sustained damage on its back.frame 450, The road had cars.The vehicle involved in the accident was car.The vehicle sustained damage on its back.frame 480, The road had cars.The vehicle involved in the accident was car.The vehicle sustained damage on its back.frame 510, The road had cars.The vehicle involved in the accident was car.The vehicle sustained damage on its back.frame 540, The road had cars.The vehicle sustained damage on its back.frame 570, The road had trucks.The vehicle involved in the accident was truck.The vehicle sustained damage on its back.frame 600, The road had trucks.The vehicle involved in the accident was truck.The vehicle sustained damage on its back.frame 630, The number of vehicles are 3.The road had cars.The vehicle involved in the accident was car.The vehicle sustained damage on its back.frame 660, The number of vehicles are 2.The road had trucks.The vehicle involved in the accident was bus.The vehicle sustained damage on its back.frame 690, The number of vehicles are 2.The road had trucks.The vehicle involved in the accident was car.The vehicle sustained damage on its back.frame 720, The road had cars.The vehicle involved in the accident was car.The vehicle sustained damage on its back.frame 750, The road had cars.The vehicle involved in the accident was car.The vehicle sustained damage on its back.frame 780, The road had cars.The vehicle involved in the accident was car.The vehicle sustained damage on its back.frame 810, The number of vehicles are 3.The road had trucks.The vehicle involved in the accident was truck.The vehicle sustained damage on its back.frame 840, The number of vehicles are 3.The road had cars.The vehicle involved in the accident was car.The vehicle sustained damage on its back.frame 870, The road had cars.The vehicle involved in the accident was bus.The vehicle sustained damage on its back.frame 900, The road had trucks.The vehicle involved in the accident was car.The vehicle sustained damage on its back.frame 930, The road had trucks.The vehicle involved in the accident was car.The vehicle sustained damage on its back.frame 960, The road had cars.The vehicle involved in the accident was car.The vehicle sustained damage on its back.frame 990, The road had cars.The vehicle involved in the accident was car.The vehicle sustained damage on its back.frame 1020, The road had motorcycles.The vehicle involved in the accident was car.The vehicle sustained damage on its back.common for all frames, The accident occurred on highway.common for all frames, The accident took place at evening.common for all frames, The accident happened under weather condition, cloudy.common for all frames, The incident took place during fall.\n",
            "CLIP_252.mp4\n"
          ]
        },
        {
          "output_type": "stream",
          "name": "stderr",
          "text": [
            "Processing Frames:  97%|█████████▋| 1020/1048 [12:49<00:21,  1.33frame/s]\n",
            "Processing Frames:   2%|▏         | 30/1286 [00:10<00:05, 229.82frame/s]"
          ]
        },
        {
          "output_type": "stream",
          "name": "stdout",
          "text": [
            "\n",
            "\n"
          ]
        },
        {
          "output_type": "stream",
          "name": "stderr",
          "text": [
            "Processing Frames:   3%|▎         | 45/1286 [00:22<10:40,  1.94frame/s]"
          ]
        },
        {
          "output_type": "stream",
          "name": "stdout",
          "text": [
            "\n"
          ]
        },
        {
          "output_type": "stream",
          "name": "stderr",
          "text": [
            "\rProcessing Frames:   5%|▍         | 60/1286 [00:40<10:32,  1.94frame/s]"
          ]
        },
        {
          "output_type": "stream",
          "name": "stdout",
          "text": [
            "\n"
          ]
        },
        {
          "output_type": "stream",
          "name": "stderr",
          "text": [
            "Processing Frames:   7%|▋         | 89/1286 [00:45<08:35,  2.32frame/s]"
          ]
        },
        {
          "output_type": "stream",
          "name": "stdout",
          "text": [
            "\n"
          ]
        },
        {
          "output_type": "stream",
          "name": "stderr",
          "text": [
            "\rProcessing Frames:   7%|▋         | 90/1286 [01:00<08:35,  2.32frame/s]"
          ]
        },
        {
          "output_type": "stream",
          "name": "stdout",
          "text": [
            "\n"
          ]
        },
        {
          "output_type": "stream",
          "name": "stderr",
          "text": [
            "Processing Frames:   9%|▉         | 120/1286 [01:20<10:21,  1.88frame/s]"
          ]
        },
        {
          "output_type": "stream",
          "name": "stdout",
          "text": [
            "\n",
            "\n"
          ]
        },
        {
          "output_type": "stream",
          "name": "stderr",
          "text": [
            "Processing Frames:  12%|█▏        | 150/1286 [01:40<09:45,  1.94frame/s]"
          ]
        },
        {
          "output_type": "stream",
          "name": "stdout",
          "text": [
            "\n",
            "\n"
          ]
        },
        {
          "output_type": "stream",
          "name": "stderr",
          "text": [
            "Processing Frames:  14%|█▎        | 175/1286 [01:52<10:23,  1.78frame/s]"
          ]
        },
        {
          "output_type": "stream",
          "name": "stdout",
          "text": [
            "\n"
          ]
        },
        {
          "output_type": "stream",
          "name": "stderr",
          "text": [
            "\rProcessing Frames:  14%|█▍        | 180/1286 [02:10<10:20,  1.78frame/s]"
          ]
        },
        {
          "output_type": "stream",
          "name": "stdout",
          "text": [
            "\n"
          ]
        },
        {
          "output_type": "stream",
          "name": "stderr",
          "text": [
            "Processing Frames:  16%|█▌        | 206/1286 [02:14<09:41,  1.86frame/s]"
          ]
        },
        {
          "output_type": "stream",
          "name": "stdout",
          "text": [
            "\n"
          ]
        },
        {
          "output_type": "stream",
          "name": "stderr",
          "text": [
            "Processing Frames:  19%|█▊        | 240/1286 [02:50<10:01,  1.74frame/s]"
          ]
        },
        {
          "output_type": "stream",
          "name": "stdout",
          "text": [
            "\n"
          ]
        },
        {
          "output_type": "stream",
          "name": "stderr",
          "text": [
            "Processing Frames:  23%|██▎       | 294/1286 [03:22<09:05,  1.82frame/s]"
          ]
        },
        {
          "output_type": "stream",
          "name": "stdout",
          "text": [
            "\n"
          ]
        },
        {
          "output_type": "stream",
          "name": "stderr",
          "text": [
            "Processing Frames:  25%|██▌       | 325/1286 [03:45<08:55,  1.79frame/s]"
          ]
        },
        {
          "output_type": "stream",
          "name": "stdout",
          "text": [
            "\n"
          ]
        },
        {
          "output_type": "stream",
          "name": "stderr",
          "text": [
            "Processing Frames:  28%|██▊       | 360/1286 [04:20<08:34,  1.80frame/s]"
          ]
        },
        {
          "output_type": "stream",
          "name": "stdout",
          "text": [
            "\n",
            "\n"
          ]
        },
        {
          "output_type": "stream",
          "name": "stderr",
          "text": [
            "Processing Frames:  30%|██▉       | 384/1286 [04:30<08:34,  1.75frame/s]"
          ]
        },
        {
          "output_type": "stream",
          "name": "stdout",
          "text": [
            "\n",
            "\n"
          ]
        },
        {
          "output_type": "stream",
          "name": "stderr",
          "text": [
            "Processing Frames:  32%|███▏      | 416/1286 [04:51<07:46,  1.87frame/s]"
          ]
        },
        {
          "output_type": "stream",
          "name": "stdout",
          "text": [
            "\n"
          ]
        },
        {
          "output_type": "stream",
          "name": "stderr",
          "text": [
            "\rProcessing Frames:  33%|███▎      | 420/1286 [05:10<07:44,  1.87frame/s]"
          ]
        },
        {
          "output_type": "stream",
          "name": "stdout",
          "text": [
            "\n"
          ]
        },
        {
          "output_type": "stream",
          "name": "stderr",
          "text": [
            "Processing Frames:  35%|███▍      | 447/1286 [05:15<07:36,  1.84frame/s]"
          ]
        },
        {
          "output_type": "stream",
          "name": "stdout",
          "text": [
            "\n"
          ]
        },
        {
          "output_type": "stream",
          "name": "stderr",
          "text": [
            "\rProcessing Frames:  35%|███▍      | 450/1286 [05:30<07:34,  1.84frame/s]"
          ]
        },
        {
          "output_type": "stream",
          "name": "stdout",
          "text": [
            "\n"
          ]
        },
        {
          "output_type": "stream",
          "name": "stderr",
          "text": [
            "Processing Frames:  37%|███▋      | 480/1286 [05:50<09:07,  1.47frame/s]"
          ]
        },
        {
          "output_type": "stream",
          "name": "stdout",
          "text": [
            "\n"
          ]
        },
        {
          "output_type": "stream",
          "name": "stderr",
          "text": [
            "Processing Frames:  40%|███▉      | 510/1286 [06:10<07:17,  1.77frame/s]"
          ]
        },
        {
          "output_type": "stream",
          "name": "stdout",
          "text": [
            "\n"
          ]
        },
        {
          "output_type": "stream",
          "name": "stderr",
          "text": [
            "Processing Frames:  41%|████      | 526/1286 [06:22<08:17,  1.53frame/s]"
          ]
        },
        {
          "output_type": "stream",
          "name": "stdout",
          "text": [
            "\n"
          ]
        },
        {
          "output_type": "stream",
          "name": "stderr",
          "text": [
            "Processing Frames:  44%|████▍     | 566/1286 [06:44<06:15,  1.91frame/s]"
          ]
        },
        {
          "output_type": "stream",
          "name": "stdout",
          "text": [
            "\n"
          ]
        },
        {
          "output_type": "stream",
          "name": "stderr",
          "text": [
            "Processing Frames:  47%|████▋     | 600/1286 [07:20<06:21,  1.80frame/s]"
          ]
        },
        {
          "output_type": "stream",
          "name": "stdout",
          "text": [
            "\n"
          ]
        },
        {
          "output_type": "stream",
          "name": "stderr",
          "text": [
            "Processing Frames:  49%|████▉     | 630/1286 [07:40<06:11,  1.76frame/s]"
          ]
        },
        {
          "output_type": "stream",
          "name": "stdout",
          "text": [
            "\n"
          ]
        },
        {
          "output_type": "stream",
          "name": "stderr",
          "text": [
            "Processing Frames:  51%|█████     | 655/1286 [07:52<05:52,  1.79frame/s]"
          ]
        },
        {
          "output_type": "stream",
          "name": "stdout",
          "text": [
            "\n"
          ]
        },
        {
          "output_type": "stream",
          "name": "stderr",
          "text": [
            "Processing Frames:  62%|██████▏   | 803/1286 [09:45<04:39,  1.73frame/s]"
          ]
        },
        {
          "output_type": "stream",
          "name": "stdout",
          "text": [
            "\n"
          ]
        },
        {
          "output_type": "stream",
          "name": "stderr",
          "text": [
            "Processing Frames:  65%|██████▌   | 840/1286 [10:20<04:25,  1.68frame/s]"
          ]
        },
        {
          "output_type": "stream",
          "name": "stdout",
          "text": [
            "\n"
          ]
        },
        {
          "output_type": "stream",
          "name": "stderr",
          "text": [
            "Processing Frames:  67%|██████▋   | 864/1286 [10:30<03:56,  1.78frame/s]"
          ]
        },
        {
          "output_type": "stream",
          "name": "stdout",
          "text": [
            "\n"
          ]
        },
        {
          "output_type": "stream",
          "name": "stderr",
          "text": [
            "Processing Frames:  70%|██████▉   | 896/1286 [10:52<03:28,  1.87frame/s]"
          ]
        },
        {
          "output_type": "stream",
          "name": "stdout",
          "text": [
            "\n"
          ]
        },
        {
          "output_type": "stream",
          "name": "stderr",
          "text": [
            "Processing Frames:  72%|███████▏  | 926/1286 [11:15<03:18,  1.81frame/s]"
          ]
        },
        {
          "output_type": "stream",
          "name": "stdout",
          "text": [
            "\n"
          ]
        },
        {
          "output_type": "stream",
          "name": "stderr",
          "text": [
            "Processing Frames:  75%|███████▍  | 960/1286 [11:50<03:33,  1.53frame/s]"
          ]
        },
        {
          "output_type": "stream",
          "name": "stdout",
          "text": [
            "\n"
          ]
        },
        {
          "output_type": "stream",
          "name": "stderr",
          "text": [
            "Processing Frames:  77%|███████▋  | 990/1286 [12:10<02:32,  1.94frame/s]"
          ]
        },
        {
          "output_type": "stream",
          "name": "stdout",
          "text": [
            "\n"
          ]
        },
        {
          "output_type": "stream",
          "name": "stderr",
          "text": [
            "Processing Frames:  79%|███████▊  | 1011/1286 [12:23<02:47,  1.64frame/s]"
          ]
        },
        {
          "output_type": "stream",
          "name": "stdout",
          "text": [
            "\n"
          ]
        },
        {
          "output_type": "stream",
          "name": "stderr",
          "text": [
            "Processing Frames:  81%|████████  | 1044/1286 [12:45<02:13,  1.81frame/s]"
          ]
        },
        {
          "output_type": "stream",
          "name": "stdout",
          "text": [
            "\n"
          ]
        },
        {
          "output_type": "stream",
          "name": "stderr",
          "text": [
            "Processing Frames:  84%|████████▍ | 1080/1286 [13:20<01:55,  1.79frame/s]"
          ]
        },
        {
          "output_type": "stream",
          "name": "stdout",
          "text": [
            "\n"
          ]
        },
        {
          "output_type": "stream",
          "name": "stderr",
          "text": [
            "Processing Frames:  86%|████████▋ | 1110/1286 [13:40<01:31,  1.92frame/s]"
          ]
        },
        {
          "output_type": "stream",
          "name": "stdout",
          "text": [
            "\n"
          ]
        },
        {
          "output_type": "stream",
          "name": "stderr",
          "text": [
            "Processing Frames:  88%|████████▊ | 1136/1286 [13:53<01:24,  1.78frame/s]"
          ]
        },
        {
          "output_type": "stream",
          "name": "stdout",
          "text": [
            "\n"
          ]
        },
        {
          "output_type": "stream",
          "name": "stderr",
          "text": [
            "\rProcessing Frames:  89%|████████▊ | 1140/1286 [14:10<01:21,  1.78frame/s]"
          ]
        },
        {
          "output_type": "stream",
          "name": "stdout",
          "text": [
            "\n"
          ]
        },
        {
          "output_type": "stream",
          "name": "stderr",
          "text": [
            "Processing Frames:  90%|████████▉ | 1154/1286 [14:15<01:32,  1.43frame/s]"
          ]
        },
        {
          "output_type": "stream",
          "name": "stdout",
          "text": [
            "\n"
          ]
        },
        {
          "output_type": "stream",
          "name": "stderr",
          "text": [
            "\rProcessing Frames:  91%|█████████ | 1170/1286 [14:30<01:21,  1.43frame/s]"
          ]
        },
        {
          "output_type": "stream",
          "name": "stdout",
          "text": [
            "\n"
          ]
        },
        {
          "output_type": "stream",
          "name": "stderr",
          "text": [
            "Processing Frames:  93%|█████████▎| 1200/1286 [14:50<00:44,  1.95frame/s]"
          ]
        },
        {
          "output_type": "stream",
          "name": "stdout",
          "text": [
            "\n",
            "\n"
          ]
        },
        {
          "output_type": "stream",
          "name": "stderr",
          "text": [
            "Processing Frames:  94%|█████████▍| 1215/1286 [15:00<00:48,  1.46frame/s]"
          ]
        },
        {
          "output_type": "stream",
          "name": "stdout",
          "text": [
            "\n",
            "\n"
          ]
        },
        {
          "output_type": "stream",
          "name": "stderr",
          "text": [
            "Processing Frames:  98%|█████████▊| 1256/1286 [15:22<00:15,  1.90frame/s]"
          ]
        },
        {
          "output_type": "stream",
          "name": "stdout",
          "text": [
            "\n"
          ]
        },
        {
          "output_type": "stream",
          "name": "stderr",
          "text": [
            "\rProcessing Frames:  98%|█████████▊| 1260/1286 [15:40<00:13,  1.90frame/s]"
          ]
        },
        {
          "output_type": "stream",
          "name": "stdout",
          "text": [
            "array_of_dict\n",
            "[{'highway': 8, 'intersection': 32, 'downtown': 2}, {'night': 41, '7 : 00 pm': 1}, {'rainy': 28, 'snow': 10, 'snowy': 3, 'cold': 1}, {'winter': 41, 'fall': 1}]\n",
            "{'The road had cars.', 'The accident occurred on intersection.', 'The accident took place at night.', 'The road had motorcycles.', 'The road had suvs.', 'The vehicle sustained damage on its back.', 'The accident happened under weather condition, rainy.', 'The incident took place during winter.', 'The vehicle involved in the accident was car.', 'The vehicle involved in the accident was bus.', 'The number of vehicles are 3.', 'The road had trucks.', 'The vehicle involved in the accident was suv.', 'The number of vehicles are 2.'}\n",
            "frame 30, The road had cars.The vehicle sustained damage on its back.frame 60, The road had cars.The vehicle sustained damage on its back.frame 90, The road had cars.The vehicle sustained damage on its back.frame 120, The road had cars.The vehicle sustained damage on its back.frame 150, The road had cars.The vehicle sustained damage on its back.frame 180, The road had cars.The vehicle sustained damage on its back.frame 210, The road had cars.The vehicle involved in the accident was car.The vehicle sustained damage on its back.frame 240, The road had cars.The vehicle involved in the accident was car.The vehicle sustained damage on its back.frame 270, The number of vehicles are 2.The road had trucks.The vehicle involved in the accident was bus.The vehicle sustained damage on its back.frame 300, The road had cars.The vehicle involved in the accident was car.The vehicle sustained damage on its back.frame 330, The road had cars.The vehicle involved in the accident was car.The vehicle sustained damage on its back.frame 360, The road had cars.The vehicle sustained damage on its back.frame 390, The road had cars.The vehicle sustained damage on its back.frame 420, The road had cars.The vehicle sustained damage on its back.frame 450, The road had cars.The vehicle sustained damage on its back.frame 480, The road had cars.The vehicle involved in the accident was car.The vehicle sustained damage on its back.frame 510, The road had cars.The vehicle involved in the accident was car.The vehicle sustained damage on its back.frame 540, The road had cars.The vehicle involved in the accident was car.The vehicle sustained damage on its back.frame 570, The road had cars.The vehicle involved in the accident was car.The vehicle sustained damage on its back.frame 600, The road had cars.The vehicle involved in the accident was car.The vehicle sustained damage on its back.frame 630, The road had cars.The vehicle involved in the accident was car.The vehicle sustained damage on its back.frame 660, The road had cars.The vehicle involved in the accident was car.The vehicle sustained damage on its back.frame 690, The number of vehicles are 3.The road had cars.The vehicle involved in the accident was car.The vehicle sustained damage on its back.frame 720, The number of vehicles are 3.The road had cars.The vehicle involved in the accident was car.The vehicle sustained damage on its back.frame 750, The number of vehicles are 3.The road had cars.The vehicle involved in the accident was car.The vehicle sustained damage on its back.frame 780, The number of vehicles are 3.The road had cars.The vehicle involved in the accident was car.The vehicle sustained damage on its back.frame 810, The road had cars.The vehicle involved in the accident was car.The vehicle sustained damage on its back.frame 840, The road had suvs.The vehicle involved in the accident was suv.The vehicle sustained damage on its back.frame 870, The road had suvs.The vehicle involved in the accident was car.The vehicle sustained damage on its back.frame 900, The road had motorcycles.The vehicle involved in the accident was car.The vehicle sustained damage on its back.frame 930, The road had motorcycles.The vehicle involved in the accident was bus.The vehicle sustained damage on its back.frame 960, The road had motorcycles.The vehicle involved in the accident was bus.The vehicle sustained damage on its back.frame 990, The road had cars.The vehicle involved in the accident was car.The vehicle sustained damage on its back.frame 1020, The road had cars.The vehicle involved in the accident was car.The vehicle sustained damage on its back.frame 1050, The road had cars.The vehicle involved in the accident was car.The vehicle sustained damage on its back.frame 1080, The road had cars.The vehicle involved in the accident was car.The vehicle sustained damage on its back.frame 1110, The road had cars.The vehicle involved in the accident was car.The vehicle sustained damage on its back.frame 1140, The road had cars.The vehicle sustained damage on its back.frame 1170, The road had cars.The vehicle sustained damage on its back.frame 1200, The road had cars.The vehicle sustained damage on its back.frame 1230, The road had cars.The vehicle sustained damage on its back.frame 1260, The road had cars.The vehicle involved in the accident was car.The vehicle sustained damage on its back.common for all frames, The accident occurred on intersection.common for all frames, The accident took place at night.common for all frames, The accident happened under weather condition, rainy.common for all frames, The incident took place during winter.\n",
            "CLIP_324.mp4\n"
          ]
        },
        {
          "output_type": "stream",
          "name": "stderr",
          "text": [
            "\n",
            "Processing Frames:  98%|█████████▊| 1260/1286 [15:46<00:19,  1.33frame/s]\n",
            "\n",
            "Processing Frames:   1%|          | 9/1408 [00:00<00:16, 87.12frame/s]\u001b[A"
          ]
        },
        {
          "output_type": "stream",
          "name": "stdout",
          "text": [
            "\n"
          ]
        },
        {
          "output_type": "stream",
          "name": "stderr",
          "text": [
            "\n",
            "Processing Frames:   2%|▏         | 30/1408 [00:14<00:15, 87.12frame/s]\u001b[A"
          ]
        },
        {
          "output_type": "stream",
          "name": "stdout",
          "text": [
            "\n"
          ]
        },
        {
          "output_type": "stream",
          "name": "stderr",
          "text": [
            "\n",
            "Processing Frames:   2%|▏         | 31/1408 [00:21<17:31,  1.31frame/s]\u001b[A\n",
            "Processing Frames:   4%|▎         | 50/1408 [00:21<08:52,  2.55frame/s]\u001b[A\n",
            "Processing Frames:   4%|▍         | 60/1408 [00:34<08:48,  2.55frame/s]\u001b[A"
          ]
        },
        {
          "output_type": "stream",
          "name": "stdout",
          "text": [
            "\n",
            "\n"
          ]
        },
        {
          "output_type": "stream",
          "name": "stderr",
          "text": [
            "\n",
            "Processing Frames:   4%|▍         | 61/1408 [00:45<19:59,  1.12frame/s]\u001b[A\n",
            "Processing Frames:   6%|▌         | 81/1408 [00:45<11:18,  1.96frame/s]\u001b[A"
          ]
        },
        {
          "output_type": "stream",
          "name": "stdout",
          "text": [
            "\n"
          ]
        },
        {
          "output_type": "stream",
          "name": "stderr",
          "text": [
            "\n",
            "Processing Frames:   6%|▋         | 90/1408 [01:04<11:13,  1.96frame/s]\u001b[A\n",
            "Processing Frames:   6%|▋         | 91/1408 [01:07<19:52,  1.10frame/s]\u001b[A\n",
            "Processing Frames:   7%|▋         | 103/1408 [01:07<14:06,  1.54frame/s]\u001b[A\n",
            "Processing Frames:   8%|▊         | 118/1408 [01:07<09:16,  2.32frame/s]\u001b[A"
          ]
        },
        {
          "output_type": "stream",
          "name": "stdout",
          "text": [
            "\n"
          ]
        },
        {
          "output_type": "stream",
          "name": "stderr",
          "text": [
            "\n",
            "Processing Frames:   9%|▊         | 120/1408 [01:24<09:15,  2.32frame/s]\u001b[A"
          ]
        },
        {
          "output_type": "stream",
          "name": "stdout",
          "text": [
            "\n"
          ]
        },
        {
          "output_type": "stream",
          "name": "stderr",
          "text": [
            "\n",
            "Processing Frames:   9%|▊         | 121/1408 [01:30<22:56,  1.07s/frame]\u001b[A\n",
            "Processing Frames:  10%|▉         | 139/1408 [01:30<12:56,  1.64frame/s]\u001b[A\n",
            "Processing Frames:  11%|█         | 150/1408 [01:44<12:49,  1.64frame/s]\u001b[A"
          ]
        },
        {
          "output_type": "stream",
          "name": "stdout",
          "text": [
            "\n",
            "\n"
          ]
        },
        {
          "output_type": "stream",
          "name": "stderr",
          "text": [
            "\n",
            "Processing Frames:  11%|█         | 151/1408 [01:53<20:46,  1.01frame/s]\u001b[A\n",
            "Processing Frames:  12%|█▏        | 162/1408 [01:53<14:58,  1.39frame/s]\u001b[A\n",
            "Processing Frames:  12%|█▎        | 176/1408 [01:53<09:54,  2.07frame/s]\u001b[A\n",
            "Processing Frames:  13%|█▎        | 180/1408 [02:04<09:52,  2.07frame/s]\u001b[A"
          ]
        },
        {
          "output_type": "stream",
          "name": "stdout",
          "text": [
            "\n",
            "\n"
          ]
        },
        {
          "output_type": "stream",
          "name": "stderr",
          "text": [
            "\n",
            "Processing Frames:  13%|█▎        | 181/1408 [02:15<21:30,  1.05s/frame]\u001b[A\n",
            "Processing Frames:  14%|█▍        | 199/1408 [02:15<12:10,  1.66frame/s]\u001b[A"
          ]
        },
        {
          "output_type": "stream",
          "name": "stdout",
          "text": [
            "\n"
          ]
        },
        {
          "output_type": "stream",
          "name": "stderr",
          "text": [
            "\n",
            "Processing Frames:  15%|█▍        | 210/1408 [02:34<12:03,  1.66frame/s]\u001b[A"
          ]
        },
        {
          "output_type": "stream",
          "name": "stdout",
          "text": [
            "\n"
          ]
        },
        {
          "output_type": "stream",
          "name": "stderr",
          "text": [
            "\n",
            "Processing Frames:  15%|█▍        | 211/1408 [02:39<19:46,  1.01frame/s]\u001b[A\n",
            "Processing Frames:  16%|█▋        | 229/1408 [02:39<12:03,  1.63frame/s]\u001b[A"
          ]
        },
        {
          "output_type": "stream",
          "name": "stdout",
          "text": [
            "\n"
          ]
        },
        {
          "output_type": "stream",
          "name": "stderr",
          "text": [
            "\n",
            "Processing Frames:  17%|█▋        | 240/1408 [02:54<11:57,  1.63frame/s]\u001b[A"
          ]
        },
        {
          "output_type": "stream",
          "name": "stdout",
          "text": [
            "\n"
          ]
        },
        {
          "output_type": "stream",
          "name": "stderr",
          "text": [
            "\n",
            "Processing Frames:  17%|█▋        | 241/1408 [03:00<18:10,  1.07frame/s]\u001b[A\n",
            "Processing Frames:  18%|█▊        | 256/1408 [03:00<12:11,  1.57frame/s]\u001b[A\n",
            "Processing Frames:  19%|█▉        | 270/1408 [03:14<12:02,  1.57frame/s]\u001b[A"
          ]
        },
        {
          "output_type": "stream",
          "name": "stdout",
          "text": [
            "\n",
            "\n"
          ]
        },
        {
          "output_type": "stream",
          "name": "stderr",
          "text": [
            "\n",
            "Processing Frames:  19%|█▉        | 271/1408 [03:24<17:32,  1.08frame/s]\u001b[A\n",
            "Processing Frames:  21%|██        | 290/1408 [03:24<11:00,  1.69frame/s]\u001b[A\n",
            "Processing Frames:  21%|██▏       | 300/1408 [03:34<10:54,  1.69frame/s]\u001b[A"
          ]
        },
        {
          "output_type": "stream",
          "name": "stdout",
          "text": [
            "\n",
            "\n"
          ]
        },
        {
          "output_type": "stream",
          "name": "stderr",
          "text": [
            "\n",
            "Processing Frames:  21%|██▏       | 301/1408 [03:46<16:55,  1.09frame/s]\u001b[A\n",
            "Processing Frames:  22%|██▏       | 312/1408 [03:46<12:38,  1.45frame/s]\u001b[A\n",
            "Processing Frames:  23%|██▎       | 327/1408 [03:46<08:27,  2.13frame/s]\u001b[A"
          ]
        },
        {
          "output_type": "stream",
          "name": "stdout",
          "text": [
            "\n"
          ]
        },
        {
          "output_type": "stream",
          "name": "stderr",
          "text": [
            "\n",
            "Processing Frames:  23%|██▎       | 330/1408 [04:04<08:25,  2.13frame/s]\u001b[A"
          ]
        },
        {
          "output_type": "stream",
          "name": "stdout",
          "text": [
            "\n"
          ]
        },
        {
          "output_type": "stream",
          "name": "stderr",
          "text": [
            "\n",
            "Processing Frames:  24%|██▎       | 331/1408 [04:09<18:49,  1.05s/frame]\u001b[A\n",
            "Processing Frames:  25%|██▍       | 351/1408 [04:09<10:21,  1.70frame/s]\u001b[A"
          ]
        },
        {
          "output_type": "stream",
          "name": "stdout",
          "text": [
            "\n"
          ]
        },
        {
          "output_type": "stream",
          "name": "stderr",
          "text": [
            "\n",
            "Processing Frames:  26%|██▌       | 360/1408 [04:24<10:16,  1.70frame/s]\u001b[A"
          ]
        },
        {
          "output_type": "stream",
          "name": "stdout",
          "text": [
            "\n"
          ]
        },
        {
          "output_type": "stream",
          "name": "stderr",
          "text": [
            "\n",
            "Processing Frames:  26%|██▌       | 361/1408 [04:32<17:31,  1.00s/frame]\u001b[A\n",
            "Processing Frames:  26%|██▋       | 372/1408 [04:32<12:38,  1.37frame/s]\u001b[A\n",
            "Processing Frames:  27%|██▋       | 387/1408 [04:33<08:10,  2.08frame/s]\u001b[A\n",
            "Processing Frames:  28%|██▊       | 390/1408 [04:44<08:08,  2.08frame/s]\u001b[A"
          ]
        },
        {
          "output_type": "stream",
          "name": "stdout",
          "text": [
            "\n"
          ]
        },
        {
          "output_type": "stream",
          "name": "stderr",
          "text": [
            "\n",
            "Processing Frames:  28%|██▊       | 391/1408 [04:54<17:54,  1.06s/frame]\u001b[A\n",
            "Processing Frames:  29%|██▉       | 412/1408 [04:54<09:22,  1.77frame/s]\u001b[A"
          ]
        },
        {
          "output_type": "stream",
          "name": "stdout",
          "text": [
            "\n"
          ]
        },
        {
          "output_type": "stream",
          "name": "stderr",
          "text": [
            "\n",
            "Processing Frames:  30%|██▉       | 420/1408 [05:14<09:18,  1.77frame/s]\u001b[A\n",
            "Processing Frames:  30%|██▉       | 421/1408 [05:18<16:42,  1.02s/frame]\u001b[A\n",
            "Processing Frames:  31%|███▏      | 442/1408 [05:18<09:25,  1.71frame/s]\u001b[A"
          ]
        },
        {
          "output_type": "stream",
          "name": "stdout",
          "text": [
            "\n"
          ]
        },
        {
          "output_type": "stream",
          "name": "stderr",
          "text": [
            "\n",
            "Processing Frames:  32%|███▏      | 450/1408 [05:34<09:20,  1.71frame/s]\u001b[A\n",
            "Processing Frames:  32%|███▏      | 451/1408 [05:39<15:18,  1.04frame/s]\u001b[A\n",
            "Processing Frames:  33%|███▎      | 470/1408 [05:39<09:16,  1.69frame/s]\u001b[A"
          ]
        },
        {
          "output_type": "stream",
          "name": "stdout",
          "text": [
            "\n"
          ]
        },
        {
          "output_type": "stream",
          "name": "stderr",
          "text": [
            "\n",
            "Processing Frames:  34%|███▍      | 480/1408 [05:54<09:10,  1.69frame/s]\u001b[A\n",
            "Processing Frames:  34%|███▍      | 481/1408 [06:03<14:49,  1.04frame/s]\u001b[A\n",
            "Processing Frames:  36%|███▌      | 501/1408 [06:03<08:57,  1.69frame/s]\u001b[A\n",
            "Processing Frames:  36%|███▌      | 510/1408 [06:14<08:51,  1.69frame/s]\u001b[A"
          ]
        },
        {
          "output_type": "stream",
          "name": "stdout",
          "text": [
            "\n"
          ]
        },
        {
          "output_type": "stream",
          "name": "stderr",
          "text": [
            "\n",
            "Processing Frames:  36%|███▋      | 511/1408 [06:25<14:09,  1.06frame/s]\u001b[A\n",
            "Processing Frames:  37%|███▋      | 523/1408 [06:25<10:14,  1.44frame/s]\u001b[A\n",
            "Processing Frames:  38%|███▊      | 540/1408 [06:25<06:32,  2.21frame/s]\u001b[A"
          ]
        },
        {
          "output_type": "stream",
          "name": "stdout",
          "text": [
            "\n"
          ]
        },
        {
          "output_type": "stream",
          "name": "stderr",
          "text": [
            "\n",
            "Processing Frames:  38%|███▊      | 540/1408 [06:44<06:32,  2.21frame/s]\u001b[A\n",
            "Processing Frames:  38%|███▊      | 541/1408 [06:48<15:47,  1.09s/frame]\u001b[A\n",
            "Processing Frames:  40%|███▉      | 558/1408 [06:48<09:08,  1.55frame/s]\u001b[A\n",
            "Processing Frames:  40%|████      | 570/1408 [07:04<09:00,  1.55frame/s]\u001b[A\n",
            "Processing Frames:  41%|████      | 571/1408 [07:12<14:01,  1.01s/frame]\u001b[A\n",
            "Processing Frames:  42%|████▏     | 591/1408 [07:12<08:09,  1.67frame/s]\u001b[A\n",
            "Processing Frames:  43%|████▎     | 600/1408 [07:24<08:04,  1.67frame/s]\u001b[A\n",
            "Processing Frames:  43%|████▎     | 601/1408 [07:33<12:47,  1.05frame/s]\u001b[A\n",
            "Processing Frames:  44%|████▍     | 620/1408 [07:34<07:47,  1.69frame/s]\u001b[A\n",
            "Processing Frames:  45%|████▍     | 630/1408 [07:44<07:41,  1.69frame/s]\u001b[A\n",
            "Processing Frames:  45%|████▍     | 631/1408 [07:57<12:26,  1.04frame/s]\u001b[A\n",
            "Processing Frames:  46%|████▌     | 650/1408 [07:57<07:39,  1.65frame/s]\u001b[A\n",
            "Processing Frames:  47%|████▋     | 660/1408 [08:14<07:33,  1.65frame/s]\u001b[A\n",
            "Processing Frames:  47%|████▋     | 661/1408 [08:19<11:34,  1.08frame/s]\u001b[A\n",
            "Processing Frames:  48%|████▊     | 676/1408 [08:19<07:48,  1.56frame/s]\u001b[A\n",
            "Processing Frames:  49%|████▉     | 690/1408 [08:34<07:39,  1.56frame/s]\u001b[A\n",
            "Processing Frames:  49%|████▉     | 691/1408 [08:42<11:03,  1.08frame/s]\u001b[A\n",
            "Processing Frames:  50%|█████     | 707/1408 [08:43<07:22,  1.58frame/s]\u001b[A\n",
            "Processing Frames:  51%|█████     | 720/1408 [08:54<07:14,  1.58frame/s]\u001b[A"
          ]
        },
        {
          "output_type": "stream",
          "name": "stdout",
          "text": [
            "\n",
            "\n"
          ]
        },
        {
          "output_type": "stream",
          "name": "stderr",
          "text": [
            "\n",
            "Processing Frames:  51%|█████     | 721/1408 [09:06<10:31,  1.09frame/s]\u001b[A\n",
            "Processing Frames:  52%|█████▏    | 735/1408 [09:06<07:20,  1.53frame/s]\u001b[A"
          ]
        },
        {
          "output_type": "stream",
          "name": "stdout",
          "text": [
            "\n"
          ]
        },
        {
          "output_type": "stream",
          "name": "stderr",
          "text": [
            "\n",
            "Processing Frames:  53%|█████▎    | 750/1408 [09:24<07:10,  1.53frame/s]\u001b[A\n",
            "Processing Frames:  53%|█████▎    | 751/1408 [09:28<09:41,  1.13frame/s]\u001b[A\n",
            "Processing Frames:  55%|█████▍    | 774/1408 [09:28<05:39,  1.87frame/s]\u001b[A"
          ]
        },
        {
          "output_type": "stream",
          "name": "stdout",
          "text": [
            "\n"
          ]
        },
        {
          "output_type": "stream",
          "name": "stderr",
          "text": [
            "\n",
            "Processing Frames:  55%|█████▌    | 780/1408 [09:44<05:35,  1.87frame/s]\u001b[A"
          ]
        },
        {
          "output_type": "stream",
          "name": "stdout",
          "text": [
            "\n"
          ]
        },
        {
          "output_type": "stream",
          "name": "stderr",
          "text": [
            "\n",
            "Processing Frames:  55%|█████▌    | 781/1408 [09:51<09:52,  1.06frame/s]\u001b[A\n",
            "Processing Frames:  57%|█████▋    | 803/1408 [09:51<05:45,  1.75frame/s]\u001b[A\n",
            "Processing Frames:  58%|█████▊    | 810/1408 [10:04<05:41,  1.75frame/s]\u001b[A"
          ]
        },
        {
          "output_type": "stream",
          "name": "stdout",
          "text": [
            "\n",
            "\n"
          ]
        },
        {
          "output_type": "stream",
          "name": "stderr",
          "text": [
            "\n",
            "Processing Frames:  58%|█████▊    | 811/1408 [10:13<09:18,  1.07frame/s]\u001b[A\n",
            "Processing Frames:  59%|█████▉    | 835/1408 [10:13<05:10,  1.85frame/s]\u001b[A\n",
            "Processing Frames:  60%|█████▉    | 840/1408 [10:24<05:07,  1.85frame/s]\u001b[A"
          ]
        },
        {
          "output_type": "stream",
          "name": "stdout",
          "text": [
            "\n",
            "\n"
          ]
        },
        {
          "output_type": "stream",
          "name": "stderr",
          "text": [
            "\n",
            "Processing Frames:  60%|█████▉    | 841/1408 [10:36<09:14,  1.02frame/s]\u001b[A\n",
            "Processing Frames:  61%|██████▏   | 863/1408 [10:36<05:16,  1.72frame/s]\u001b[A"
          ]
        },
        {
          "output_type": "stream",
          "name": "stdout",
          "text": [
            "\n"
          ]
        },
        {
          "output_type": "stream",
          "name": "stderr",
          "text": [
            "\n",
            "Processing Frames:  62%|██████▏   | 870/1408 [10:54<05:12,  1.72frame/s]\u001b[A"
          ]
        },
        {
          "output_type": "stream",
          "name": "stdout",
          "text": [
            "\n"
          ]
        },
        {
          "output_type": "stream",
          "name": "stderr",
          "text": [
            "\n",
            "Processing Frames:  62%|██████▏   | 871/1408 [10:58<08:31,  1.05frame/s]\u001b[A\n",
            "Processing Frames:  63%|██████▎   | 883/1408 [10:58<06:05,  1.44frame/s]\u001b[A"
          ]
        },
        {
          "output_type": "stream",
          "name": "stdout",
          "text": [
            "\n"
          ]
        },
        {
          "output_type": "stream",
          "name": "stderr",
          "text": [
            "\n",
            "Processing Frames:  64%|██████▍   | 900/1408 [11:14<05:53,  1.44frame/s]\u001b[A"
          ]
        },
        {
          "output_type": "stream",
          "name": "stdout",
          "text": [
            "\n"
          ]
        },
        {
          "output_type": "stream",
          "name": "stderr",
          "text": [
            "\n",
            "Processing Frames:  64%|██████▍   | 901/1408 [11:21<07:43,  1.09frame/s]\u001b[A\n",
            "Processing Frames:  66%|██████▌   | 925/1408 [11:21<04:20,  1.86frame/s]\u001b[A\n",
            "Processing Frames:  66%|██████▌   | 930/1408 [11:34<04:17,  1.86frame/s]\u001b[A"
          ]
        },
        {
          "output_type": "stream",
          "name": "stdout",
          "text": [
            "\n",
            "\n"
          ]
        },
        {
          "output_type": "stream",
          "name": "stderr",
          "text": [
            "\n",
            "Processing Frames:  66%|██████▌   | 931/1408 [11:44<07:37,  1.04frame/s]\u001b[A\n",
            "Processing Frames:  67%|██████▋   | 946/1408 [11:44<05:04,  1.52frame/s]\u001b[A\n",
            "Processing Frames:  68%|██████▊   | 960/1408 [11:54<04:55,  1.52frame/s]\u001b[A"
          ]
        },
        {
          "output_type": "stream",
          "name": "stdout",
          "text": [
            "\n",
            "\n"
          ]
        },
        {
          "output_type": "stream",
          "name": "stderr",
          "text": [
            "\n",
            "Processing Frames:  68%|██████▊   | 961/1408 [12:06<06:46,  1.10frame/s]\u001b[A\n",
            "Processing Frames:  70%|██████▉   | 981/1408 [12:06<04:05,  1.74frame/s]\u001b[A"
          ]
        },
        {
          "output_type": "stream",
          "name": "stdout",
          "text": [
            "\n"
          ]
        },
        {
          "output_type": "stream",
          "name": "stderr",
          "text": [
            "\n",
            "Processing Frames:  70%|███████   | 990/1408 [12:24<04:00,  1.74frame/s]\u001b[A"
          ]
        },
        {
          "output_type": "stream",
          "name": "stdout",
          "text": [
            "\n"
          ]
        },
        {
          "output_type": "stream",
          "name": "stderr",
          "text": [
            "\n",
            "Processing Frames:  70%|███████   | 991/1408 [12:29<06:32,  1.06frame/s]\u001b[A\n",
            "Processing Frames:  72%|███████▏  | 1011/1408 [12:29<03:54,  1.69frame/s]\u001b[A"
          ]
        },
        {
          "output_type": "stream",
          "name": "stdout",
          "text": [
            "\n"
          ]
        },
        {
          "output_type": "stream",
          "name": "stderr",
          "text": [
            "\n",
            "Processing Frames:  72%|███████▏  | 1020/1408 [12:44<03:49,  1.69frame/s]\u001b[A"
          ]
        },
        {
          "output_type": "stream",
          "name": "stdout",
          "text": [
            "\n"
          ]
        },
        {
          "output_type": "stream",
          "name": "stderr",
          "text": [
            "\n",
            "Processing Frames:  73%|███████▎  | 1021/1408 [12:51<05:57,  1.08frame/s]\u001b[A\n",
            "Processing Frames:  74%|███████▍  | 1045/1408 [12:51<03:14,  1.86frame/s]\u001b[A\n",
            "Processing Frames:  75%|███████▍  | 1050/1408 [13:04<03:12,  1.86frame/s]\u001b[A"
          ]
        },
        {
          "output_type": "stream",
          "name": "stdout",
          "text": [
            "\n",
            "\n"
          ]
        },
        {
          "output_type": "stream",
          "name": "stderr",
          "text": [
            "\n",
            "Processing Frames:  75%|███████▍  | 1051/1408 [13:15<05:47,  1.03frame/s]\u001b[A\n",
            "Processing Frames:  76%|███████▋  | 1077/1408 [13:15<02:58,  1.85frame/s]\u001b[A"
          ]
        },
        {
          "output_type": "stream",
          "name": "stdout",
          "text": [
            "\n",
            "\n"
          ]
        },
        {
          "output_type": "stream",
          "name": "stderr",
          "text": [
            "\n",
            "Processing Frames:  77%|███████▋  | 1080/1408 [13:34<02:57,  1.85frame/s]\u001b[A\n",
            "Processing Frames:  77%|███████▋  | 1081/1408 [13:36<05:19,  1.02frame/s]\u001b[A\n",
            "Processing Frames:  78%|███████▊  | 1093/1408 [13:36<03:43,  1.41frame/s]\u001b[A"
          ]
        },
        {
          "output_type": "stream",
          "name": "stdout",
          "text": [
            "\n"
          ]
        },
        {
          "output_type": "stream",
          "name": "stderr",
          "text": [
            "\n",
            "Processing Frames:  79%|███████▉  | 1110/1408 [13:54<03:31,  1.41frame/s]\u001b[A"
          ]
        },
        {
          "output_type": "stream",
          "name": "stdout",
          "text": [
            "\n"
          ]
        },
        {
          "output_type": "stream",
          "name": "stderr",
          "text": [
            "\n",
            "Processing Frames:  79%|███████▉  | 1111/1408 [14:00<04:34,  1.08frame/s]\u001b[A\n",
            "Processing Frames:  81%|████████  | 1135/1408 [14:00<02:28,  1.84frame/s]\u001b[A"
          ]
        },
        {
          "output_type": "stream",
          "name": "stdout",
          "text": [
            "\n"
          ]
        },
        {
          "output_type": "stream",
          "name": "stderr",
          "text": [
            "\n",
            "Processing Frames:  81%|████████  | 1140/1408 [14:14<02:25,  1.84frame/s]\u001b[A"
          ]
        },
        {
          "output_type": "stream",
          "name": "stdout",
          "text": [
            "\n"
          ]
        },
        {
          "output_type": "stream",
          "name": "stderr",
          "text": [
            "\n",
            "Processing Frames:  81%|████████  | 1141/1408 [14:23<04:17,  1.04frame/s]\u001b[A\n",
            "Processing Frames:  82%|████████▏ | 1155/1408 [14:23<02:51,  1.48frame/s]\u001b[A\n",
            "Processing Frames:  83%|████████▎ | 1170/1408 [14:34<02:41,  1.48frame/s]\u001b[A"
          ]
        },
        {
          "output_type": "stream",
          "name": "stdout",
          "text": [
            "\n"
          ]
        },
        {
          "output_type": "stream",
          "name": "stderr",
          "text": [
            "\n",
            "Processing Frames:  83%|████████▎ | 1171/1408 [14:45<03:35,  1.10frame/s]\u001b[A\n",
            "Processing Frames:  85%|████████▍ | 1193/1408 [14:45<01:58,  1.81frame/s]\u001b[A"
          ]
        },
        {
          "output_type": "stream",
          "name": "stdout",
          "text": [
            "\n"
          ]
        },
        {
          "output_type": "stream",
          "name": "stderr",
          "text": [
            "\n",
            "Processing Frames:  85%|████████▌ | 1200/1408 [15:04<01:54,  1.81frame/s]\u001b[A\n",
            "Processing Frames:  85%|████████▌ | 1201/1408 [15:08<03:16,  1.05frame/s]\u001b[A\n",
            "Processing Frames:  87%|████████▋ | 1224/1408 [15:08<01:43,  1.78frame/s]\u001b[A"
          ]
        },
        {
          "output_type": "stream",
          "name": "stdout",
          "text": [
            "\n"
          ]
        },
        {
          "output_type": "stream",
          "name": "stderr",
          "text": [
            "\n",
            "Processing Frames:  87%|████████▋ | 1230/1408 [15:24<01:40,  1.78frame/s]\u001b[A\n",
            "Processing Frames:  87%|████████▋ | 1231/1408 [15:30<02:46,  1.06frame/s]\u001b[A\n",
            "Processing Frames:  89%|████████▉ | 1250/1408 [15:30<01:34,  1.68frame/s]\u001b[A"
          ]
        },
        {
          "output_type": "stream",
          "name": "stdout",
          "text": [
            "\n"
          ]
        },
        {
          "output_type": "stream",
          "name": "stderr",
          "text": [
            "\n",
            "Processing Frames:  89%|████████▉ | 1260/1408 [15:44<01:28,  1.68frame/s]\u001b[A\n",
            "Processing Frames:  90%|████████▉ | 1261/1408 [15:53<02:19,  1.05frame/s]\u001b[A\n",
            "Processing Frames:  91%|█████████ | 1281/1408 [15:53<01:15,  1.68frame/s]\u001b[A\n",
            "Processing Frames:  92%|█████████▏| 1290/1408 [16:04<01:10,  1.68frame/s]\u001b[A"
          ]
        },
        {
          "output_type": "stream",
          "name": "stdout",
          "text": [
            "\n",
            "\n"
          ]
        },
        {
          "output_type": "stream",
          "name": "stderr",
          "text": [
            "\n",
            "Processing Frames:  92%|█████████▏| 1291/1408 [16:15<01:49,  1.07frame/s]\u001b[A\n",
            "Processing Frames:  92%|█████████▏| 1301/1408 [16:15<01:16,  1.39frame/s]\u001b[A\n",
            "Processing Frames:  94%|█████████▎| 1318/1408 [16:15<00:41,  2.17frame/s]\u001b[A"
          ]
        },
        {
          "output_type": "stream",
          "name": "stdout",
          "text": [
            "\n"
          ]
        },
        {
          "output_type": "stream",
          "name": "stderr",
          "text": [
            "\n",
            "Processing Frames:  94%|█████████▍| 1320/1408 [16:35<00:40,  2.17frame/s]\u001b[A\n",
            "Processing Frames:  94%|█████████▍| 1321/1408 [16:38<01:32,  1.06s/frame]\u001b[A\n",
            "Processing Frames:  95%|█████████▌| 1343/1408 [16:38<00:36,  1.76frame/s]\u001b[A"
          ]
        },
        {
          "output_type": "stream",
          "name": "stdout",
          "text": [
            "\n"
          ]
        },
        {
          "output_type": "stream",
          "name": "stderr",
          "text": [
            "\n",
            "Processing Frames:  96%|█████████▌| 1350/1408 [16:55<00:33,  1.76frame/s]\u001b[A\n",
            "Processing Frames:  96%|█████████▌| 1351/1408 [17:01<00:58,  1.02s/frame]\u001b[A\n",
            "Processing Frames:  97%|█████████▋| 1363/1408 [17:02<00:32,  1.38frame/s]\u001b[A\n",
            "Processing Frames:  98%|█████████▊| 1380/1408 [17:15<00:20,  1.38frame/s]\u001b[A"
          ]
        },
        {
          "output_type": "stream",
          "name": "stdout",
          "text": [
            "\n",
            "array_of_dict\n",
            "[{'highway': 28, 'los angeles': 4, 'snow': 1, 'snowy': 2, 'winter': 2, 'accident': 2, 'north': 1, 'intersection': 2, 'colorado': 1, 'mountain': 2, 'airport': 1}, {'night': 42, '6 : 00 pm': 1, '6 : 15': 1, '7 : 00': 2}, {'rainy': 11, 'snow': 27, 'snowing': 4, 'stormy': 3, 'clear': 1}, {'winter': 45, 'fall': 1}]\n",
            "{'The road had cars.', 'The accident took place at night.', 'The road had motorcycles.', 'The vehicle involved in the accident was crash test.', 'The vehicle sustained damage on its back.', 'The road had suv and car.', 'The incident took place during winter.', 'The road had truck.', 'The road had car.', 'The vehicle involved in the accident was car.', 'The road had car and suv.', 'The vehicle involved in the accident was bus.', 'The accident happened under weather condition, snow.', 'The road had trucks.', 'The accident occurred on highway.', 'The road had car and motorcycle.', 'The number of vehicles are 2.'}\n",
            "frame 30, The road had car.The vehicle sustained damage on its back.frame 60, The road had cars.The vehicle sustained damage on its back.frame 90, The road had truck.The vehicle involved in the accident was crash test.The vehicle sustained damage on its back.frame 120, The road had cars.The vehicle sustained damage on its back.frame 150, The road had car.The vehicle sustained damage on its back.frame 180, The road had car.The vehicle sustained damage on its back.frame 210, The road had truck.The vehicle sustained damage on its back.frame 240, The road had truck.The vehicle sustained damage on its back.frame 270, The road had cars.The vehicle sustained damage on its back.frame 300, The road had cars.The vehicle sustained damage on its back.frame 330, The road had cars.The vehicle sustained damage on its back.frame 360, The road had trucks.The vehicle sustained damage on its back.frame 390, The road had cars.The vehicle involved in the accident was car.The vehicle sustained damage on its back.frame 420, The road had cars.The vehicle involved in the accident was car.The vehicle sustained damage on its back.frame 450, The road had cars.The vehicle involved in the accident was car.The vehicle sustained damage on its back.frame 480, The road had cars.The vehicle involved in the accident was car.The vehicle sustained damage on its back.frame 510, The road had cars.The vehicle involved in the accident was car.The vehicle sustained damage on its back.frame 540, The road had cars.The vehicle involved in the accident was car.The vehicle sustained damage on its back.frame 570, The number of vehicles are 2.The road had car and motorcycle.The vehicle involved in the accident was car.The vehicle sustained damage on its back.frame 600, The number of vehicles are 2.The road had car and motorcycle.The vehicle involved in the accident was car.The vehicle sustained damage on its back.frame 630, The number of vehicles are 2.The road had suv and car.The vehicle involved in the accident was car.The vehicle sustained damage on its back.frame 660, The number of vehicles are 2.The road had car and suv.The vehicle involved in the accident was car.The vehicle sustained damage on its back.frame 690, The number of vehicles are 2.The road had car and suv.The vehicle involved in the accident was car.The vehicle sustained damage on its back.frame 720, The road had truck.The vehicle sustained damage on its back.frame 750, The road had truck.The vehicle involved in the accident was car.The vehicle sustained damage on its back.frame 780, The road had cars.The vehicle sustained damage on its back.frame 810, The road had cars.The vehicle sustained damage on its back.frame 840, The road had cars.The vehicle sustained damage on its back.frame 870, The road had trucks.The vehicle sustained damage on its back.frame 900, The road had cars.The vehicle sustained damage on its back.frame 930, The road had cars.The vehicle sustained damage on its back.frame 960, The road had trucks.The vehicle sustained damage on its back.frame 990, The road had cars.The vehicle sustained damage on its back.frame 1020, The road had cars.The vehicle sustained damage on its back.frame 1050, The road had cars.The vehicle sustained damage on its back.frame 1080, The road had cars.The vehicle sustained damage on its back.frame 1110, The road had cars.The vehicle sustained damage on its back.frame 1140, The road had cars.The vehicle sustained damage on its back.frame 1170, The road had cars.The vehicle involved in the accident was car.The vehicle sustained damage on its back.frame 1200, The road had cars.The vehicle involved in the accident was car.The vehicle sustained damage on its back.frame 1230, The road had trucks.The vehicle involved in the accident was car.The vehicle sustained damage on its back.frame 1260, The road had motorcycles.The vehicle involved in the accident was car.The vehicle sustained damage on its back.frame 1290, The road had trucks.The vehicle sustained damage on its back.frame 1320, The road had motorcycles.The vehicle involved in the accident was car.The vehicle sustained damage on its back.frame 1350, The road had motorcycles.The vehicle involved in the accident was car.The vehicle sustained damage on its back.frame 1380, The road had motorcycles.The vehicle involved in the accident was bus.The vehicle sustained damage on its back.common for all frames, The accident occurred on highway.common for all frames, The accident took place at night.common for all frames, The accident happened under weather condition, snow.common for all frames, The incident took place during winter.\n",
            "CLIP_312.mp4\n"
          ]
        },
        {
          "output_type": "stream",
          "name": "stderr",
          "text": [
            "Processing Frames:  98%|█████████▊| 1380/1408 [17:24<00:21,  1.32frame/s]\n",
            "Processing Frames:   0%|          | 1/677 [00:00<01:53,  5.96frame/s]"
          ]
        },
        {
          "output_type": "stream",
          "name": "stdout",
          "text": [
            "\n"
          ]
        },
        {
          "output_type": "stream",
          "name": "stderr",
          "text": [
            "\rProcessing Frames:   4%|▍         | 30/677 [00:23<08:28,  1.27frame/s]"
          ]
        },
        {
          "output_type": "stream",
          "name": "stdout",
          "text": [
            "\n"
          ]
        },
        {
          "output_type": "stream",
          "name": "stderr",
          "text": [
            "\rProcessing Frames:   9%|▊         | 59/677 [00:45<07:54,  1.30frame/s]"
          ]
        },
        {
          "output_type": "stream",
          "name": "stdout",
          "text": [
            "\n"
          ]
        },
        {
          "output_type": "stream",
          "name": "stderr",
          "text": [
            "Processing Frames:  17%|█▋        | 116/677 [01:20<05:06,  1.83frame/s]"
          ]
        },
        {
          "output_type": "stream",
          "name": "stdout",
          "text": [
            "\n"
          ]
        },
        {
          "output_type": "stream",
          "name": "stderr",
          "text": [
            "Processing Frames:  21%|██        | 140/677 [01:31<04:29,  1.99frame/s]"
          ]
        },
        {
          "output_type": "stream",
          "name": "stdout",
          "text": [
            "\n"
          ]
        },
        {
          "output_type": "stream",
          "name": "stderr",
          "text": [
            "Processing Frames:  24%|██▍       | 164/677 [01:54<05:14,  1.63frame/s]"
          ]
        },
        {
          "output_type": "stream",
          "name": "stdout",
          "text": [
            "\n"
          ]
        },
        {
          "output_type": "stream",
          "name": "stderr",
          "text": [
            "Processing Frames:  30%|██▉       | 203/677 [02:30<05:11,  1.52frame/s]"
          ]
        },
        {
          "output_type": "stream",
          "name": "stdout",
          "text": [
            "\n"
          ]
        },
        {
          "output_type": "stream",
          "name": "stderr",
          "text": [
            "Processing Frames:  43%|████▎     | 290/677 [03:25<02:59,  2.16frame/s]"
          ]
        },
        {
          "output_type": "stream",
          "name": "stdout",
          "text": [
            "\n"
          ]
        },
        {
          "output_type": "stream",
          "name": "stderr",
          "text": [
            "Processing Frames:  47%|████▋     | 319/677 [04:00<03:35,  1.66frame/s]"
          ]
        },
        {
          "output_type": "stream",
          "name": "stdout",
          "text": [
            "\n"
          ]
        },
        {
          "output_type": "stream",
          "name": "stderr",
          "text": [
            "Processing Frames:  51%|█████     | 345/677 [04:11<02:45,  2.01frame/s]"
          ]
        },
        {
          "output_type": "stream",
          "name": "stdout",
          "text": [
            "\n"
          ]
        },
        {
          "output_type": "stream",
          "name": "stderr",
          "text": [
            "Processing Frames:  86%|████████▌ | 580/677 [07:12<00:48,  1.99frame/s]"
          ]
        },
        {
          "output_type": "stream",
          "name": "stdout",
          "text": [
            "\n",
            "\n"
          ]
        },
        {
          "output_type": "stream",
          "name": "stderr",
          "text": [
            "\rProcessing Frames:  86%|████████▌ | 580/677 [07:30<00:48,  1.99frame/s]"
          ]
        },
        {
          "output_type": "stream",
          "name": "stdout",
          "text": [
            "\n"
          ]
        },
        {
          "output_type": "stream",
          "name": "stderr",
          "text": [
            "\rProcessing Frames:  86%|████████▌ | 581/677 [07:35<01:38,  1.02s/frame]"
          ]
        },
        {
          "output_type": "stream",
          "name": "stdout",
          "text": [
            "array_of_dict\n",
            "[{'airport': 1, 'central area': 2, 'north': 7, 'intersection': 8, 'highway': 1, 'none': 1}, {'night': 2, '7 : 00 am': 2, '12 : 00 am': 5, 'evening': 5, '3 : 00 pm': 3, 'afternoon': 2, '6 : 00': 1}, {'rainy': 3, 'cloudy': 16, 'clear': 1}, {'winter': 11, 'fall': 9}]\n",
            "{'The road had cars.', 'The accident occurred on intersection.', 'The road had motorcycles.', 'The accident happened under weather condition, cloudy.', 'The vehicle sustained damage on its back.', 'The incident took place during winter.', 'The vehicle involved in the accident was car.', 'The road had car.', 'The vehicle involved in the accident was bus.', 'The number of vehicles are 3.', 'The vehicle sustained damage on its front.', 'The accident took place at 12 : 00 am.', 'The vehicle involved in the accident was suv.', 'The number of vehicles are 2.'}\n",
            "frame 29, The road had motorcycles.The vehicle involved in the accident was car.The vehicle sustained damage on its back.frame 58, The road had motorcycles.The vehicle involved in the accident was bus.The vehicle sustained damage on its back.frame 87, The road had motorcycles.The vehicle involved in the accident was bus.The vehicle sustained damage on its back.frame 116, The road had cars.The vehicle involved in the accident was car.The vehicle sustained damage on its back.frame 145, The road had cars.The vehicle involved in the accident was car.The vehicle sustained damage on its back.frame 174, The road had cars.The vehicle involved in the accident was car.The vehicle sustained damage on its back.frame 203, The road had cars.The vehicle involved in the accident was car.The vehicle sustained damage on its back.frame 232, The number of vehicles are 2.The road had cars.The vehicle involved in the accident was car.The vehicle sustained damage on its back.frame 261, The number of vehicles are 2.The road had cars.The vehicle involved in the accident was car.The vehicle sustained damage on its back.frame 290, The road had cars.The vehicle involved in the accident was car.The vehicle sustained damage on its back.frame 319, The road had car.The vehicle involved in the accident was car.The vehicle sustained damage on its back.frame 348, The road had cars.The vehicle involved in the accident was suv.The vehicle sustained damage on its front.frame 377, The number of vehicles are 2.The road had cars.The vehicle involved in the accident was car.The vehicle sustained damage on its front.frame 406, The number of vehicles are 3.The road had cars.The vehicle involved in the accident was car.The vehicle sustained damage on its back.frame 435, The number of vehicles are 3.The road had cars.The vehicle involved in the accident was suv.The vehicle sustained damage on its back.frame 464, The number of vehicles are 3.The road had cars.The vehicle involved in the accident was suv.The vehicle sustained damage on its back.frame 493, The number of vehicles are 3.The road had cars.The vehicle involved in the accident was suv.The vehicle sustained damage on its front.frame 522, The number of vehicles are 3.The road had cars.The vehicle involved in the accident was car.The vehicle sustained damage on its back.frame 551, The number of vehicles are 3.The road had cars.The vehicle involved in the accident was car.The vehicle sustained damage on its back.frame 580, The vehicle sustained damage on its back.common for all frames, The accident occurred on intersection.common for all frames, The accident took place at 12 : 00 am.common for all frames, The accident happened under weather condition, cloudy.common for all frames, The incident took place during winter.\n",
            "CLIP_286.mp4\n"
          ]
        },
        {
          "output_type": "stream",
          "name": "stderr",
          "text": [
            "\n",
            "Processing Frames:   0%|          | 0/946 [00:00<?, ?frame/s]\u001b[A\n",
            "Processing Frames:  89%|████████▉ | 601/677 [07:35<00:57,  1.32frame/s]\n"
          ]
        },
        {
          "output_type": "stream",
          "name": "stdout",
          "text": [
            "\n"
          ]
        },
        {
          "output_type": "stream",
          "name": "stderr",
          "text": [
            "\n",
            "Processing Frames:   3%|▎         | 30/946 [00:15<00:04, 186.22frame/s]\u001b[A\n",
            "Processing Frames:   3%|▎         | 31/946 [00:21<13:09,  1.16frame/s] \u001b[A\n",
            "Processing Frames:   5%|▍         | 47/946 [00:21<06:50,  2.19frame/s]\u001b[A\n",
            "Processing Frames:   6%|▋         | 60/946 [00:35<06:44,  2.19frame/s]\u001b[A\n",
            "Processing Frames:   6%|▋         | 61/946 [00:45<13:27,  1.10frame/s]\u001b[A\n",
            "Processing Frames:   9%|▉         | 86/946 [00:45<06:44,  2.13frame/s]\u001b[A"
          ]
        },
        {
          "output_type": "stream",
          "name": "stdout",
          "text": [
            "\n"
          ]
        },
        {
          "output_type": "stream",
          "name": "stderr",
          "text": [
            "\n",
            "Processing Frames:  10%|▉         | 90/946 [01:05<06:42,  2.13frame/s]\u001b[A\n",
            "Processing Frames:  10%|▉         | 91/946 [01:08<13:49,  1.03frame/s]\u001b[A\n",
            "Processing Frames:  12%|█▏        | 110/946 [01:08<08:09,  1.71frame/s]\u001b[A\n",
            "Processing Frames:  13%|█▎        | 120/946 [01:25<08:03,  1.71frame/s]\u001b[A\n",
            "Processing Frames:  13%|█▎        | 121/946 [01:31<13:01,  1.06frame/s]\u001b[A\n",
            "Processing Frames:  15%|█▌        | 146/946 [01:31<07:01,  1.90frame/s]\u001b[A\n",
            "Processing Frames:  16%|█▌        | 150/946 [01:45<06:59,  1.90frame/s]\u001b[A"
          ]
        },
        {
          "output_type": "stream",
          "name": "stdout",
          "text": [
            "\n"
          ]
        },
        {
          "output_type": "stream",
          "name": "stderr",
          "text": [
            "\n",
            "Processing Frames:  16%|█▌        | 151/946 [01:54<13:12,  1.00frame/s]\u001b[A\n",
            "Processing Frames:  18%|█▊        | 169/946 [01:54<08:11,  1.58frame/s]\u001b[A\n",
            "Processing Frames:  19%|█▉        | 180/946 [02:05<08:04,  1.58frame/s]\u001b[A\n",
            "Processing Frames:  19%|█▉        | 181/946 [02:16<12:01,  1.06frame/s]\u001b[A\n",
            "Processing Frames:  22%|██▏       | 205/946 [02:16<06:42,  1.84frame/s]\u001b[A\n",
            "Processing Frames:  22%|██▏       | 210/946 [02:35<06:39,  1.84frame/s]\u001b[A\n",
            "Processing Frames:  22%|██▏       | 211/946 [02:40<12:05,  1.01frame/s]\u001b[A\n",
            "Processing Frames:  25%|██▍       | 236/946 [02:40<06:33,  1.80frame/s]\u001b[A\n",
            "Processing Frames:  25%|██▌       | 240/946 [02:55<06:31,  1.80frame/s]\u001b[A\n",
            "Processing Frames:  25%|██▌       | 241/946 [03:02<11:43,  1.00frame/s]\u001b[A\n",
            "Processing Frames:  27%|██▋       | 251/946 [03:03<08:47,  1.32frame/s]\u001b[A\n",
            "Processing Frames:  29%|██▊       | 270/946 [03:03<05:11,  2.17frame/s]\u001b[A\n",
            "Processing Frames:  29%|██▊       | 270/946 [03:15<05:11,  2.17frame/s]\u001b[A\n",
            "Processing Frames:  29%|██▊       | 271/946 [03:25<12:24,  1.10s/frame]\u001b[A\n",
            "Processing Frames:  32%|███▏      | 298/946 [03:25<05:38,  1.91frame/s]\u001b[A\n",
            "Processing Frames:  32%|███▏      | 300/946 [03:45<05:37,  1.91frame/s]\u001b[A\n",
            "Processing Frames:  32%|███▏      | 301/946 [03:49<11:40,  1.09s/frame]\u001b[A\n",
            "Processing Frames:  34%|███▍      | 324/946 [03:49<06:07,  1.69frame/s]\u001b[A\n",
            "Processing Frames:  35%|███▍      | 330/946 [04:05<06:03,  1.69frame/s]\u001b[A\n",
            "Processing Frames:  35%|███▍      | 331/946 [04:11<10:21,  1.01s/frame]\u001b[A\n",
            "Processing Frames:  38%|███▊      | 359/946 [04:11<05:05,  1.92frame/s]\u001b[A\n",
            "Processing Frames:  38%|███▊      | 360/946 [04:25<05:04,  1.92frame/s]\u001b[A\n",
            "Processing Frames:  38%|███▊      | 361/946 [04:34<10:14,  1.05s/frame]\u001b[A\n",
            "Processing Frames:  41%|████      | 390/946 [04:34<04:56,  1.88frame/s]\u001b[A\n",
            "Processing Frames:  41%|████      | 390/946 [04:45<04:56,  1.88frame/s]\u001b[A\n",
            "Processing Frames:  41%|████▏     | 391/946 [04:56<09:38,  1.04s/frame]\u001b[A\n",
            "Processing Frames:  43%|████▎     | 403/946 [04:56<06:43,  1.35frame/s]\u001b[A\n",
            "Processing Frames:  44%|████▍     | 420/946 [05:15<06:30,  1.35frame/s]\u001b[A\n",
            "Processing Frames:  45%|████▍     | 421/946 [05:20<08:21,  1.05frame/s]\u001b[A\n",
            "Processing Frames:  47%|████▋     | 449/946 [05:20<04:17,  1.93frame/s]\u001b[A"
          ]
        },
        {
          "output_type": "stream",
          "name": "stdout",
          "text": [
            "\n"
          ]
        },
        {
          "output_type": "stream",
          "name": "stderr",
          "text": [
            "\n",
            "Processing Frames:  48%|████▊     | 450/946 [05:35<04:16,  1.93frame/s]\u001b[A\n",
            "Processing Frames:  48%|████▊     | 451/946 [05:43<08:23,  1.02s/frame]\u001b[A\n",
            "Processing Frames:  49%|████▉     | 465/946 [05:43<05:38,  1.42frame/s]\u001b[A\n",
            "Processing Frames:  51%|█████     | 480/946 [05:55<05:28,  1.42frame/s]\u001b[A"
          ]
        },
        {
          "output_type": "stream",
          "name": "stdout",
          "text": [
            "\n"
          ]
        },
        {
          "output_type": "stream",
          "name": "stderr",
          "text": [
            "\n",
            "Processing Frames:  51%|█████     | 481/946 [06:05<07:12,  1.07frame/s]\u001b[A\n",
            "Processing Frames:  54%|█████▎    | 508/946 [06:05<03:46,  1.94frame/s]\u001b[A"
          ]
        },
        {
          "output_type": "stream",
          "name": "stdout",
          "text": [
            "\n"
          ]
        },
        {
          "output_type": "stream",
          "name": "stderr",
          "text": [
            "\n",
            "Processing Frames:  54%|█████▍    | 510/946 [06:25<03:45,  1.94frame/s]\u001b[A\n",
            "Processing Frames:  54%|█████▍    | 511/946 [06:29<07:16,  1.00s/frame]\u001b[A\n",
            "Processing Frames:  57%|█████▋    | 537/946 [06:29<03:46,  1.81frame/s]\u001b[A"
          ]
        },
        {
          "output_type": "stream",
          "name": "stdout",
          "text": [
            "\n"
          ]
        },
        {
          "output_type": "stream",
          "name": "stderr",
          "text": [
            "\n",
            "Processing Frames:  57%|█████▋    | 540/946 [06:45<03:44,  1.81frame/s]\u001b[A\n",
            "Processing Frames:  57%|█████▋    | 541/946 [06:51<06:44,  1.00frame/s]\u001b[A\n",
            "Processing Frames:  60%|█████▉    | 563/946 [06:51<03:44,  1.71frame/s]\u001b[A\n",
            "Processing Frames:  60%|██████    | 570/946 [07:05<03:40,  1.71frame/s]\u001b[A"
          ]
        },
        {
          "output_type": "stream",
          "name": "stdout",
          "text": [
            "\n"
          ]
        },
        {
          "output_type": "stream",
          "name": "stderr",
          "text": [
            "\n",
            "Processing Frames:  60%|██████    | 571/946 [07:15<06:16,  1.00s/frame]\u001b[A\n",
            "Processing Frames:  63%|██████▎   | 596/946 [07:15<03:16,  1.78frame/s]\u001b[A\n",
            "Processing Frames:  63%|██████▎   | 600/946 [07:25<03:14,  1.78frame/s]\u001b[A"
          ]
        },
        {
          "output_type": "stream",
          "name": "stdout",
          "text": [
            "\n"
          ]
        },
        {
          "output_type": "stream",
          "name": "stderr",
          "text": [
            "\n",
            "Processing Frames:  64%|██████▎   | 601/946 [07:38<05:50,  1.02s/frame]\u001b[A\n",
            "Processing Frames:  65%|██████▌   | 619/946 [07:38<03:31,  1.55frame/s]\u001b[A"
          ]
        },
        {
          "output_type": "stream",
          "name": "stdout",
          "text": [
            "\n"
          ]
        },
        {
          "output_type": "stream",
          "name": "stderr",
          "text": [
            "\n",
            "Processing Frames:  67%|██████▋   | 630/946 [07:55<03:24,  1.55frame/s]\u001b[A\n",
            "Processing Frames:  67%|██████▋   | 631/946 [08:00<05:01,  1.04frame/s]\u001b[A\n",
            "Processing Frames:  70%|██████▉   | 660/946 [08:00<02:25,  1.97frame/s]\u001b[A"
          ]
        },
        {
          "output_type": "stream",
          "name": "stdout",
          "text": [
            "\n"
          ]
        },
        {
          "output_type": "stream",
          "name": "stderr",
          "text": [
            "\n",
            "Processing Frames:  70%|██████▉   | 660/946 [08:15<02:25,  1.97frame/s]\u001b[A\n",
            "Processing Frames:  70%|██████▉   | 661/946 [08:24<04:52,  1.03s/frame]\u001b[A\n",
            "Processing Frames:  73%|███████▎  | 690/946 [08:24<02:16,  1.88frame/s]\u001b[A\n",
            "Processing Frames:  73%|███████▎  | 690/946 [08:35<02:16,  1.88frame/s]\u001b[A"
          ]
        },
        {
          "output_type": "stream",
          "name": "stdout",
          "text": [
            "\n"
          ]
        },
        {
          "output_type": "stream",
          "name": "stderr",
          "text": [
            "\n",
            "Processing Frames:  73%|███████▎  | 691/946 [08:46<04:21,  1.03s/frame]\u001b[A"
          ]
        },
        {
          "output_type": "stream",
          "name": "stdout",
          "text": [
            "\n"
          ]
        },
        {
          "output_type": "stream",
          "name": "stderr",
          "text": [
            "\n",
            "Processing Frames:  76%|███████▌  | 721/946 [09:09<03:23,  1.10frame/s]\u001b[A\n",
            "Processing Frames:  79%|███████▉  | 745/946 [09:09<01:56,  1.73frame/s]\u001b[A"
          ]
        },
        {
          "output_type": "stream",
          "name": "stdout",
          "text": [
            "\n"
          ]
        },
        {
          "output_type": "stream",
          "name": "stderr",
          "text": [
            "\n",
            "Processing Frames:  79%|███████▉  | 750/946 [09:25<01:53,  1.73frame/s]\u001b[A\n",
            "Processing Frames:  79%|███████▉  | 751/946 [09:32<03:03,  1.06frame/s]\u001b[A\n",
            "Processing Frames:  81%|████████▏ | 769/946 [09:32<01:52,  1.58frame/s]\u001b[A\n",
            "Processing Frames:  82%|████████▏ | 780/946 [09:45<01:45,  1.58frame/s]\u001b[A"
          ]
        },
        {
          "output_type": "stream",
          "name": "stdout",
          "text": [
            "\n"
          ]
        },
        {
          "output_type": "stream",
          "name": "stderr",
          "text": [
            "\n",
            "Processing Frames:  83%|████████▎ | 781/946 [09:55<02:34,  1.07frame/s]\u001b[A\n",
            "Processing Frames:  86%|████████▌ | 809/946 [09:55<01:11,  1.92frame/s]\u001b[A\n",
            "Processing Frames:  86%|████████▌ | 810/946 [10:05<01:10,  1.92frame/s]\u001b[A"
          ]
        },
        {
          "output_type": "stream",
          "name": "stdout",
          "text": [
            "\n"
          ]
        },
        {
          "output_type": "stream",
          "name": "stderr",
          "text": [
            "\n",
            "Processing Frames:  86%|████████▌ | 811/946 [10:18<02:15,  1.01s/frame]\u001b[A\n",
            "Processing Frames:  88%|████████▊ | 831/946 [10:18<01:11,  1.61frame/s]\u001b[A"
          ]
        },
        {
          "output_type": "stream",
          "name": "stdout",
          "text": [
            "\n"
          ]
        },
        {
          "output_type": "stream",
          "name": "stderr",
          "text": [
            "\n",
            "Processing Frames:  89%|████████▉ | 840/946 [10:35<01:06,  1.61frame/s]\u001b[A\n",
            "Processing Frames:  89%|████████▉ | 841/946 [10:40<01:40,  1.04frame/s]\u001b[A\n",
            "Processing Frames:  92%|█████████▏| 867/946 [10:40<00:42,  1.87frame/s]\u001b[A"
          ]
        },
        {
          "output_type": "stream",
          "name": "stdout",
          "text": [
            "\n"
          ]
        },
        {
          "output_type": "stream",
          "name": "stderr",
          "text": [
            "\n",
            "Processing Frames:  92%|█████████▏| 870/946 [10:55<00:40,  1.87frame/s]\u001b[A\n",
            "Processing Frames:  92%|█████████▏| 871/946 [11:04<01:15,  1.01s/frame]\u001b[A"
          ]
        },
        {
          "output_type": "stream",
          "name": "stdout",
          "text": [
            "\n"
          ]
        },
        {
          "output_type": "stream",
          "name": "stderr",
          "text": [
            "\n",
            "Processing Frames:  95%|█████████▌| 901/946 [11:26<00:39,  1.15frame/s]\u001b[A\n",
            "Processing Frames:  98%|█████████▊| 926/946 [11:26<00:11,  1.81frame/s]\u001b[A"
          ]
        },
        {
          "output_type": "stream",
          "name": "stdout",
          "text": [
            "\n"
          ]
        },
        {
          "output_type": "stream",
          "name": "stderr",
          "text": [
            "\n",
            "Processing Frames:  98%|█████████▊| 930/946 [11:45<00:08,  1.81frame/s]\u001b[A\n",
            "Processing Frames:  98%|█████████▊| 931/946 [11:49<00:14,  1.06frame/s]\u001b[A"
          ]
        },
        {
          "output_type": "stream",
          "name": "stdout",
          "text": [
            "array_of_dict\n",
            "[{'airport': 2, 'highway': 4, 'intersection': 21, 'mountain': 3, 'tunnel': 1}, {'7 : 00': 2, '12 : 00 am': 3, '12 : 43 am': 5, '2 : 24 pm': 1, '6 : 26 am': 1, '3 : 24 pm': 2, '3 : 23 pm': 2, '3 : 00 pm': 1, '11 : 43 am': 3, '6 : 00 am': 2, '2 : 43 pm': 1, '3 : 18 am': 2, '3 : 43 pm': 1, '6 : 41 am': 2, '3 : 35 pm': 1, '6 : 35 am': 1, 'night': 1}, {'rainy': 4, 'snow': 8, 'snowy': 19}, {'winter': 31}]\n",
            "{'The road had cars.', 'The accident occurred on intersection.', 'The road had motorcycles.', 'The vehicle sustained damage on its back.', 'The accident took place at 12 : 43 am.', 'The incident took place during winter.', 'The vehicle involved in the accident was car.', 'The road had car.', 'The vehicle involved in the accident was bus.', 'The road had car and suv.', 'The road had trains.', 'The accident happened under weather condition, snowy.', 'The vehicle sustained damage on its front.', 'The road had car and truck.', 'The number of vehicles are 2.'}\n",
            "frame 30, The road had motorcycles.The vehicle involved in the accident was bus.The vehicle sustained damage on its back.frame 60, The number of vehicles are 2.The road had cars.The vehicle involved in the accident was car.The vehicle sustained damage on its front.frame 90, The road had cars.The vehicle involved in the accident was car.The vehicle sustained damage on its front.frame 120, The number of vehicles are 2.The road had cars.The vehicle involved in the accident was car.The vehicle sustained damage on its front.frame 150, The road had cars.The vehicle involved in the accident was car.The vehicle sustained damage on its front.frame 180, The number of vehicles are 2.The road had cars.The vehicle involved in the accident was car.The vehicle sustained damage on its front.frame 210, The number of vehicles are 2.The road had cars.The vehicle involved in the accident was car.The vehicle sustained damage on its front.frame 240, The number of vehicles are 2.The road had cars.The vehicle involved in the accident was car.The vehicle sustained damage on its front.frame 270, The number of vehicles are 2.The road had cars.The vehicle involved in the accident was car.The vehicle sustained damage on its front.frame 300, The number of vehicles are 2.The road had cars.The vehicle involved in the accident was car.The vehicle sustained damage on its front.frame 330, The number of vehicles are 2.The road had cars.The vehicle involved in the accident was car.The vehicle sustained damage on its front.frame 360, The number of vehicles are 2.The road had cars.The vehicle involved in the accident was car.The vehicle sustained damage on its front.frame 390, The number of vehicles are 2.The road had cars.The vehicle involved in the accident was car.The vehicle sustained damage on its front.frame 420, The number of vehicles are 2.The road had cars.The vehicle involved in the accident was car.The vehicle sustained damage on its front.frame 450, The road had car.The vehicle involved in the accident was car.The vehicle sustained damage on its front.frame 480, The road had car and truck.The vehicle involved in the accident was car.The vehicle sustained damage on its front.frame 510, The road had car and truck.The vehicle involved in the accident was car.The vehicle sustained damage on its back.frame 540, The road had car and suv.The vehicle involved in the accident was car.The vehicle sustained damage on its back.frame 570, The road had car.The vehicle involved in the accident was car.The vehicle sustained damage on its front.frame 600, The road had car.The vehicle involved in the accident was car.The vehicle sustained damage on its back.frame 630, The road had car.The vehicle involved in the accident was car.The vehicle sustained damage on its back.frame 660, The road had cars.The vehicle involved in the accident was car.The vehicle sustained damage on its back.frame 690, The road had cars.The vehicle involved in the accident was car.The vehicle sustained damage on its back.frame 720, The road had cars.The vehicle involved in the accident was car.The vehicle sustained damage on its back.frame 750, The road had cars.The vehicle involved in the accident was car.The vehicle sustained damage on its back.frame 780, The road had cars.The vehicle involved in the accident was car.The vehicle sustained damage on its back.frame 810, The road had cars.The vehicle involved in the accident was car.The vehicle sustained damage on its back.frame 840, The road had cars.The vehicle involved in the accident was car.The vehicle sustained damage on its back.frame 870, The road had car.The vehicle involved in the accident was car.The vehicle sustained damage on its front.frame 900, The road had motorcycles.The vehicle involved in the accident was bus.The vehicle sustained damage on its back.frame 930, The road had trains.The vehicle involved in the accident was bus.The vehicle sustained damage on its back.common for all frames, The accident occurred on intersection.common for all frames, The accident took place at 12 : 43 am.common for all frames, The accident happened under weather condition, snowy.common for all frames, The incident took place during winter.\n",
            "CLIP_301.mp4\n"
          ]
        },
        {
          "output_type": "stream",
          "name": "stderr",
          "text": [
            "Processing Frames:  98%|█████████▊| 931/946 [11:49<00:11,  1.31frame/s]\n",
            "Processing Frames:  38%|███▊      | 336/890 [05:06<06:47,  1.36frame/s]"
          ]
        },
        {
          "output_type": "stream",
          "name": "stdout",
          "text": [
            "\n"
          ]
        },
        {
          "output_type": "stream",
          "name": "stderr",
          "text": [
            "\rProcessing Frames:  38%|███▊      | 337/890 [05:17<09:26,  1.03s/frame]"
          ]
        },
        {
          "output_type": "stream",
          "name": "stdout",
          "text": [
            "\n"
          ]
        },
        {
          "output_type": "stream",
          "name": "stderr",
          "text": [
            "Processing Frames:  76%|███████▌  | 673/890 [10:32<03:44,  1.03s/frame]"
          ]
        },
        {
          "output_type": "stream",
          "name": "stdout",
          "text": [
            "\n"
          ]
        },
        {
          "output_type": "stream",
          "name": "stderr",
          "text": [
            "Processing Frames:  81%|████████  | 720/890 [11:06<01:59,  1.42frame/s]"
          ]
        },
        {
          "output_type": "stream",
          "name": "stdout",
          "text": [
            "\n"
          ]
        },
        {
          "output_type": "stream",
          "name": "stderr",
          "text": [
            "\rProcessing Frames:  81%|████████  | 721/890 [11:17<03:01,  1.07s/frame]"
          ]
        },
        {
          "output_type": "stream",
          "name": "stdout",
          "text": [
            "\n"
          ]
        },
        {
          "output_type": "stream",
          "name": "stderr",
          "text": [
            "\rProcessing Frames:  84%|████████▎ | 745/890 [11:40<02:29,  1.03s/frame]"
          ]
        },
        {
          "output_type": "stream",
          "name": "stdout",
          "text": [
            "\n"
          ]
        },
        {
          "output_type": "stream",
          "name": "stderr",
          "text": [
            "\rProcessing Frames:  86%|████████▋ | 769/890 [12:02<01:58,  1.02frame/s]"
          ]
        },
        {
          "output_type": "stream",
          "name": "stdout",
          "text": [
            "\n"
          ]
        },
        {
          "output_type": "stream",
          "name": "stderr",
          "text": [
            "\rProcessing Frames:  89%|████████▉ | 793/890 [12:25<01:35,  1.02frame/s]"
          ]
        },
        {
          "output_type": "stream",
          "name": "stdout",
          "text": [
            "\n"
          ]
        },
        {
          "output_type": "stream",
          "name": "stderr",
          "text": [
            "Processing Frames:  94%|█████████▎| 834/890 [12:47<00:40,  1.39frame/s]"
          ]
        },
        {
          "output_type": "stream",
          "name": "stdout",
          "text": [
            "\n"
          ]
        },
        {
          "output_type": "stream",
          "name": "stderr",
          "text": [
            "Processing Frames:  94%|█████████▍| 841/890 [13:10<00:51,  1.05s/frame]"
          ]
        },
        {
          "output_type": "stream",
          "name": "stdout",
          "text": [
            "array_of_dict\n",
            "[{'washington': 4, 'highway': 30, 'airport': 1}, {'7 : 00 am': 13, '6 : 00 am': 1, '6 : 00 pm': 5, 'evening': 3, 'late': 1, '3 : 00 pm': 4, 'late afternoon': 7, 'night': 1}, {'stormy': 14, 'rainy': 17, 'cloudy': 4}, {'fall': 28, 'summer': 4, 'winter': 3}]\n",
            "{'The vehicle involved in the accident was truck.', 'The road had cars.', 'The incident took place during fall.', 'The road had motorcycles.', 'The vehicle sustained damage on its back.', 'The accident happened under weather condition, rainy.', 'The accident occurred on highway.', 'The vehicle involved in the accident was car.', 'The road had truck.', 'The vehicle involved in the accident was bus.', 'The number of vehicles are 3.', 'The accident took place at 7 : 00 am.', 'The road had vans.', 'The road had trucks.', 'The vehicle involved in the accident was suv.', 'The number of vehicles are 2.'}\n",
            "frame 24, The number of vehicles are 2.The road had cars.The vehicle involved in the accident was suv.The vehicle sustained damage on its back.frame 48, The number of vehicles are 2.The road had vans.The vehicle involved in the accident was suv.The vehicle sustained damage on its back.frame 72, The number of vehicles are 2.The road had cars.The vehicle involved in the accident was suv.The vehicle sustained damage on its back.frame 96, The number of vehicles are 3.The road had cars.The vehicle involved in the accident was car.The vehicle sustained damage on its back.frame 120, The number of vehicles are 2.The road had cars.The vehicle involved in the accident was car.The vehicle sustained damage on its back.frame 144, The number of vehicles are 3.The road had truck.The vehicle involved in the accident was car.The vehicle sustained damage on its back.frame 168, The number of vehicles are 2.The road had trucks.The vehicle involved in the accident was truck.The vehicle sustained damage on its back.frame 192, The number of vehicles are 2.The road had trucks.The vehicle involved in the accident was bus.The vehicle sustained damage on its back.frame 216, The number of vehicles are 3.The road had trucks.The vehicle involved in the accident was car.The vehicle sustained damage on its back.frame 240, The number of vehicles are 3.The road had trucks.The vehicle involved in the accident was car.The vehicle sustained damage on its back.frame 264, The number of vehicles are 2.The road had trucks.The vehicle involved in the accident was car.The vehicle sustained damage on its back.frame 288, The number of vehicles are 2.The road had cars.The vehicle involved in the accident was car.The vehicle sustained damage on its back.frame 312, The number of vehicles are 2.The road had trucks.The vehicle involved in the accident was truck.The vehicle sustained damage on its back.frame 336, The road had truck.The vehicle involved in the accident was car.The vehicle sustained damage on its back.frame 360, The road had truck.The vehicle involved in the accident was car.The vehicle sustained damage on its back.frame 384, The number of vehicles are 3.The road had cars.The vehicle involved in the accident was car.The vehicle sustained damage on its back.frame 408, The number of vehicles are 2.The road had trucks.The vehicle involved in the accident was car.The vehicle sustained damage on its back.frame 432, The number of vehicles are 3.The road had trucks.The vehicle involved in the accident was car.The vehicle sustained damage on its back.frame 456, The number of vehicles are 3.The road had trucks.The vehicle involved in the accident was car.The vehicle sustained damage on its back.frame 480, The number of vehicles are 3.The road had trucks.The vehicle involved in the accident was truck.The vehicle sustained damage on its back.frame 504, The number of vehicles are 2.The road had trucks.The vehicle involved in the accident was car.The vehicle sustained damage on its back.frame 528, The number of vehicles are 2.The road had trucks.The vehicle involved in the accident was car.The vehicle sustained damage on its back.frame 552, The number of vehicles are 3.The road had trucks.The vehicle involved in the accident was car.The vehicle sustained damage on its back.frame 576, The number of vehicles are 2.The road had trucks.The vehicle involved in the accident was car.The vehicle sustained damage on its back.frame 600, The number of vehicles are 2.The road had cars.The vehicle involved in the accident was car.The vehicle sustained damage on its back.frame 624, The number of vehicles are 2.The road had cars.The vehicle involved in the accident was car.The vehicle sustained damage on its back.frame 648, The number of vehicles are 2.The road had cars.The vehicle involved in the accident was car.The vehicle sustained damage on its back.frame 672, The number of vehicles are 2.The road had cars.The vehicle involved in the accident was car.The vehicle sustained damage on its back.frame 696, The road had cars.The vehicle involved in the accident was car.The vehicle sustained damage on its back.frame 720, The road had truck.The vehicle involved in the accident was car.The vehicle sustained damage on its back.frame 744, The road had cars.The vehicle involved in the accident was car.The vehicle sustained damage on its back.frame 768, The road had cars.The vehicle involved in the accident was car.The vehicle sustained damage on its back.frame 792, The road had cars.The vehicle involved in the accident was car.The vehicle sustained damage on its back.frame 816, The road had cars.The vehicle involved in the accident was car.The vehicle sustained damage on its back.frame 840, The road had motorcycles.The vehicle involved in the accident was bus.The vehicle sustained damage on its back.common for all frames, The accident occurred on highway.common for all frames, The accident took place at 7 : 00 am.common for all frames, The accident happened under weather condition, rainy.common for all frames, The incident took place during fall.\n"
          ]
        }
      ],
      "source": [
        "directory_path = '/content/videos'\n",
        "directory_files = os.listdir(directory_path)\n",
        "#video_list = ['1.mp4','2.mp4','3.mp4','4.mp4']\n",
        "#The input and outputAppend sentences must match.\n",
        "#\"What is the make and model of the vehicle in the provided image?\",  \"What is the Make/model of the damaged car in the provided image?\",\n",
        "inputSentences = [\"In which area did this accident happen?\", \"What is the time of the day when this accident happened?\", \"What is the weather condition in this accident?\",\n",
        "                  \"What is the season of\",\n",
        "                  \"How many vehicles are in involved in this accident?\", \"What type of vehicles are in the provided image?\",\n",
        "                  \"What is the damaged vehicle in the provided image?\",\n",
        "                  \"Which side of vehicle is damaged in the provided image? Front or Back?\"]\n",
        "outputAppendText = [\"The accident occurred on \", \"The accident took place at \",\n",
        "                    \"The accident happened under weather condition, \", \"The incident took place during \",\n",
        "                    \"The number of vehicles are \",\n",
        "                    \"The road had \", \"The vehicle involved in the accident was \",\n",
        "                    \"The vehicle sustained damage on its \"]\n",
        "#outputSentence = []\n",
        "for video in directory_files:\n",
        "  #outputText = []\n",
        "  outputText = set()\n",
        "  array_of_dict = [{},{},{},{}]\n",
        "  print(video)\n",
        "  # Create a VideoCapture object and read from input file\n",
        "  cap = cv2.VideoCapture(\"/content/videos/\" + video)\n",
        "\n",
        "  # Get the frame rate of the video\n",
        "  fps = cap.get(cv2.CAP_PROP_FPS)\n",
        "\n",
        "  # Define the desired frame interval (e.g., every second)\n",
        "  frame_interval = int(fps)  # Extract one frame per second\n",
        "\n",
        "  # Get the total number of frames in the video\n",
        "  total_frames = int(cap.get(cv2.CAP_PROP_FRAME_COUNT))\n",
        "\n",
        "  # Create a tqdm progress bar\n",
        "  progress_bar = tqdm(total=total_frames, desc='Processing Frames', unit='frame')\n",
        "\n",
        "  if (cap.isOpened()== False):\n",
        "  # Give a error message\n",
        "    print(\"Error opening video file\")\n",
        "\n",
        "  progress = 0\n",
        "  frame_count = 0\n",
        "  final_caption = \"\"\n",
        "  final_frames_output = \"\"\n",
        "  # Read until video is completed\n",
        "  while(cap.isOpened()):\n",
        "\n",
        "  # Capture frame-by-frame\n",
        "      ret, frame = cap.read()\n",
        "      if ret == True:\n",
        "        progress_bar.update(1)\n",
        "        progress = progress + 1\n",
        "        if(progress > total_frames):\n",
        "          break\n",
        "        frame_count = frame_count + 1\n",
        "        if frame_count%(frame_interval) == 0:\n",
        "          # process image to text\n",
        "          device = \"cuda\" if torch.cuda.is_available() else \"cpu\"\n",
        "          pixel_values = processor(images=frame, return_tensors=\"pt\").pixel_values\n",
        "          #cv2_imshow(frame)\n",
        "          #outputFrameCount = 0\n",
        "          frame_output = \"\"\n",
        "          for i in range(0, len(inputSentences)):\n",
        "            #outputFrameCount = 1\n",
        "            inputs = processor(images=frame, text=inputSentences[i], return_tensors=\"pt\")\n",
        "            outputs = model.generate(**inputs)\n",
        "            #print(processor.decode(outputs[0], skip_special_tokens=True))\n",
        "            outputLabel = processor.decode(outputs[0], skip_special_tokens=True)\n",
        "            if i <= 3:\n",
        "              if outputLabel not in array_of_dict[i]:\n",
        "                array_of_dict[i][outputLabel] = 0\n",
        "              array_of_dict[i][outputLabel] = array_of_dict[i][outputLabel] + 1\n",
        "            else:\n",
        "              if outputLabel == 'none' or outputLabel == 'no' or outputLabel == 'no vehicle' or outputLabel == 0 or outputLabel == '0' or outputLabel == 'no car' or outputLabel == 1 or outputLabel == '1':\n",
        "                print(\"\")\n",
        "              else:\n",
        "                outputText.add(outputAppendText[i] + outputLabel + \".\")\n",
        "                frame_output = frame_output + outputAppendText[i] + outputLabel + \".\"\n",
        "            #if(outputFrameCount <= 1):\n",
        "              #if not outputText:\n",
        "                #new_dict = {outputLabel: 1}\n",
        "              #else:\n",
        "                #new_dict = {outputLabel: 1}\n",
        "              #outputText.append(new_dict)\n",
        "            #else:\n",
        "              #for dictionary in outputText:\n",
        "                #if outputLabel not in dictionary:\n",
        "                  #dictionary[outputLabel] = 0\n",
        "                #dictionary[outputLabel] = dictionary[outputLabel] + 1\n",
        "            #final_caption = final_caption + generated_caption\n",
        "            cv2.waitKey(0)\n",
        "\n",
        "          final_frames_output = final_frames_output + \"frame \" + str(frame_count) + \", \" + frame_output\n",
        "      # Press Q on keyboard to exit\n",
        "          if cv2.waitKey(25) & 0xFF == ord('q'):\n",
        "              break\n",
        "\n",
        "  # Break the loop\n",
        "      else:\n",
        "          break\n",
        "  #print(final_caption)\n",
        "  #Iterate through each dictionary and find the key with the highest value\n",
        "  if array_of_dict:\n",
        "    print(\"array_of_dict\")\n",
        "    print(array_of_dict)\n",
        "    outputLabelText = [max(d, key=d.get) for d in array_of_dict if d]\n",
        "    for text, appendText in zip(outputLabelText, outputAppendText):\n",
        "      outputText.add(appendText + text + \".\")\n",
        "      final_frames_output = final_frames_output + \"common for all frames, \" + appendText + text + \".\"\n",
        "  # When everything done, release\n",
        "  # the video capture object\n",
        "  cap.release()\n",
        "\n",
        "  # Closes all the frames\n",
        "  cv2.destroyAllWindows()\n",
        "  # Iterate through the dictionaries in the input list\n",
        "  #for dictionary in outputText:\n",
        "      # Remove the \"none\" key if it exists\n",
        "  #    dictionary.pop(\"none\", None)\n",
        "\n",
        "  # Iterate through each dictionary and find the key with the highest value\n",
        "  #outputLabelText = [max(d, key=d.get) if d else None for d in outputText]\n",
        "  #for text, appendText in zip(outputLabelText, outputAppendText):\n",
        "  #  outputSentence.append(appendText + text)\n",
        "  #print('\\n')\n",
        "  #print(''.join(outputSentence))\n",
        "  print(outputText)\n",
        "  f = open(\"/content/blip_output/\" + video.split(\".\")[0] + \".txt\", \"w\")\n",
        "  f.write(final_frames_output)\n",
        "  f.close()\n",
        "  print(final_frames_output)"
      ]
    },
    {
      "cell_type": "code",
      "source": [
        "!zip -r /content/blip_output.zip /content/blip_output/"
      ],
      "metadata": {
        "colab": {
          "base_uri": "https://localhost:8080/"
        },
        "id": "SrZPpFNX4wDS",
        "outputId": "cd61b167-a950-4f5a-aab4-8b7ced9594d1"
      },
      "execution_count": null,
      "outputs": [
        {
          "output_type": "stream",
          "name": "stdout",
          "text": [
            "  adding: content/blip_output/ (stored 0%)\n",
            "  adding: content/blip_output/CLIP_286.txt (deflated 91%)\n",
            "  adding: content/blip_output/CLIP_324.txt (deflated 90%)\n",
            "  adding: content/blip_output/CLIP_301.txt (deflated 91%)\n",
            "  adding: content/blip_output/.ipynb_checkpoints/ (stored 0%)\n",
            "  adding: content/blip_output/CLIP_312.txt (deflated 88%)\n"
          ]
        }
      ]
    }
  ],
  "metadata": {
    "colab": {
      "provenance": []
    },
    "kernelspec": {
      "display_name": "Python 3",
      "name": "python3"
    },
    "language_info": {
      "name": "python"
    },
    "widgets": {
      "application/vnd.jupyter.widget-state+json": {
        "65109d11bed54760a7c3d87282a5c151": {
          "model_module": "@jupyter-widgets/controls",
          "model_name": "HBoxModel",
          "model_module_version": "1.5.0",
          "state": {
            "_dom_classes": [],
            "_model_module": "@jupyter-widgets/controls",
            "_model_module_version": "1.5.0",
            "_model_name": "HBoxModel",
            "_view_count": null,
            "_view_module": "@jupyter-widgets/controls",
            "_view_module_version": "1.5.0",
            "_view_name": "HBoxView",
            "box_style": "",
            "children": [
              "IPY_MODEL_3fcbdf43af5f428cba9ec13b6eb4c4a4",
              "IPY_MODEL_de3594b02f464333ad710c48bba32b4a",
              "IPY_MODEL_b7ed1aee09554cb1998dd9eb894cb691"
            ],
            "layout": "IPY_MODEL_0781eb6d7fa94288adb420da15d5c3a1"
          }
        },
        "3fcbdf43af5f428cba9ec13b6eb4c4a4": {
          "model_module": "@jupyter-widgets/controls",
          "model_name": "HTMLModel",
          "model_module_version": "1.5.0",
          "state": {
            "_dom_classes": [],
            "_model_module": "@jupyter-widgets/controls",
            "_model_module_version": "1.5.0",
            "_model_name": "HTMLModel",
            "_view_count": null,
            "_view_module": "@jupyter-widgets/controls",
            "_view_module_version": "1.5.0",
            "_view_name": "HTMLView",
            "description": "",
            "description_tooltip": null,
            "layout": "IPY_MODEL_5b24953fce244e5cab01c2b8596f21eb",
            "placeholder": "​",
            "style": "IPY_MODEL_397c723c34f24597acca39a74b7e1135",
            "value": "config.json: 100%"
          }
        },
        "de3594b02f464333ad710c48bba32b4a": {
          "model_module": "@jupyter-widgets/controls",
          "model_name": "FloatProgressModel",
          "model_module_version": "1.5.0",
          "state": {
            "_dom_classes": [],
            "_model_module": "@jupyter-widgets/controls",
            "_model_module_version": "1.5.0",
            "_model_name": "FloatProgressModel",
            "_view_count": null,
            "_view_module": "@jupyter-widgets/controls",
            "_view_module_version": "1.5.0",
            "_view_name": "ProgressView",
            "bar_style": "success",
            "description": "",
            "description_tooltip": null,
            "layout": "IPY_MODEL_aafa8dfb113a4050a2a8f893c4f0cd22",
            "max": 4559,
            "min": 0,
            "orientation": "horizontal",
            "style": "IPY_MODEL_a6a52871d702491d8f7827b11c502036",
            "value": 4559
          }
        },
        "b7ed1aee09554cb1998dd9eb894cb691": {
          "model_module": "@jupyter-widgets/controls",
          "model_name": "HTMLModel",
          "model_module_version": "1.5.0",
          "state": {
            "_dom_classes": [],
            "_model_module": "@jupyter-widgets/controls",
            "_model_module_version": "1.5.0",
            "_model_name": "HTMLModel",
            "_view_count": null,
            "_view_module": "@jupyter-widgets/controls",
            "_view_module_version": "1.5.0",
            "_view_name": "HTMLView",
            "description": "",
            "description_tooltip": null,
            "layout": "IPY_MODEL_a29e67c512464108bc99350ec4337ae7",
            "placeholder": "​",
            "style": "IPY_MODEL_3ff6bc13e57a45da9087c3e385074e71",
            "value": " 4.56k/4.56k [00:00&lt;00:00, 181kB/s]"
          }
        },
        "0781eb6d7fa94288adb420da15d5c3a1": {
          "model_module": "@jupyter-widgets/base",
          "model_name": "LayoutModel",
          "model_module_version": "1.2.0",
          "state": {
            "_model_module": "@jupyter-widgets/base",
            "_model_module_version": "1.2.0",
            "_model_name": "LayoutModel",
            "_view_count": null,
            "_view_module": "@jupyter-widgets/base",
            "_view_module_version": "1.2.0",
            "_view_name": "LayoutView",
            "align_content": null,
            "align_items": null,
            "align_self": null,
            "border": null,
            "bottom": null,
            "display": null,
            "flex": null,
            "flex_flow": null,
            "grid_area": null,
            "grid_auto_columns": null,
            "grid_auto_flow": null,
            "grid_auto_rows": null,
            "grid_column": null,
            "grid_gap": null,
            "grid_row": null,
            "grid_template_areas": null,
            "grid_template_columns": null,
            "grid_template_rows": null,
            "height": null,
            "justify_content": null,
            "justify_items": null,
            "left": null,
            "margin": null,
            "max_height": null,
            "max_width": null,
            "min_height": null,
            "min_width": null,
            "object_fit": null,
            "object_position": null,
            "order": null,
            "overflow": null,
            "overflow_x": null,
            "overflow_y": null,
            "padding": null,
            "right": null,
            "top": null,
            "visibility": null,
            "width": null
          }
        },
        "5b24953fce244e5cab01c2b8596f21eb": {
          "model_module": "@jupyter-widgets/base",
          "model_name": "LayoutModel",
          "model_module_version": "1.2.0",
          "state": {
            "_model_module": "@jupyter-widgets/base",
            "_model_module_version": "1.2.0",
            "_model_name": "LayoutModel",
            "_view_count": null,
            "_view_module": "@jupyter-widgets/base",
            "_view_module_version": "1.2.0",
            "_view_name": "LayoutView",
            "align_content": null,
            "align_items": null,
            "align_self": null,
            "border": null,
            "bottom": null,
            "display": null,
            "flex": null,
            "flex_flow": null,
            "grid_area": null,
            "grid_auto_columns": null,
            "grid_auto_flow": null,
            "grid_auto_rows": null,
            "grid_column": null,
            "grid_gap": null,
            "grid_row": null,
            "grid_template_areas": null,
            "grid_template_columns": null,
            "grid_template_rows": null,
            "height": null,
            "justify_content": null,
            "justify_items": null,
            "left": null,
            "margin": null,
            "max_height": null,
            "max_width": null,
            "min_height": null,
            "min_width": null,
            "object_fit": null,
            "object_position": null,
            "order": null,
            "overflow": null,
            "overflow_x": null,
            "overflow_y": null,
            "padding": null,
            "right": null,
            "top": null,
            "visibility": null,
            "width": null
          }
        },
        "397c723c34f24597acca39a74b7e1135": {
          "model_module": "@jupyter-widgets/controls",
          "model_name": "DescriptionStyleModel",
          "model_module_version": "1.5.0",
          "state": {
            "_model_module": "@jupyter-widgets/controls",
            "_model_module_version": "1.5.0",
            "_model_name": "DescriptionStyleModel",
            "_view_count": null,
            "_view_module": "@jupyter-widgets/base",
            "_view_module_version": "1.2.0",
            "_view_name": "StyleView",
            "description_width": ""
          }
        },
        "aafa8dfb113a4050a2a8f893c4f0cd22": {
          "model_module": "@jupyter-widgets/base",
          "model_name": "LayoutModel",
          "model_module_version": "1.2.0",
          "state": {
            "_model_module": "@jupyter-widgets/base",
            "_model_module_version": "1.2.0",
            "_model_name": "LayoutModel",
            "_view_count": null,
            "_view_module": "@jupyter-widgets/base",
            "_view_module_version": "1.2.0",
            "_view_name": "LayoutView",
            "align_content": null,
            "align_items": null,
            "align_self": null,
            "border": null,
            "bottom": null,
            "display": null,
            "flex": null,
            "flex_flow": null,
            "grid_area": null,
            "grid_auto_columns": null,
            "grid_auto_flow": null,
            "grid_auto_rows": null,
            "grid_column": null,
            "grid_gap": null,
            "grid_row": null,
            "grid_template_areas": null,
            "grid_template_columns": null,
            "grid_template_rows": null,
            "height": null,
            "justify_content": null,
            "justify_items": null,
            "left": null,
            "margin": null,
            "max_height": null,
            "max_width": null,
            "min_height": null,
            "min_width": null,
            "object_fit": null,
            "object_position": null,
            "order": null,
            "overflow": null,
            "overflow_x": null,
            "overflow_y": null,
            "padding": null,
            "right": null,
            "top": null,
            "visibility": null,
            "width": null
          }
        },
        "a6a52871d702491d8f7827b11c502036": {
          "model_module": "@jupyter-widgets/controls",
          "model_name": "ProgressStyleModel",
          "model_module_version": "1.5.0",
          "state": {
            "_model_module": "@jupyter-widgets/controls",
            "_model_module_version": "1.5.0",
            "_model_name": "ProgressStyleModel",
            "_view_count": null,
            "_view_module": "@jupyter-widgets/base",
            "_view_module_version": "1.2.0",
            "_view_name": "StyleView",
            "bar_color": null,
            "description_width": ""
          }
        },
        "a29e67c512464108bc99350ec4337ae7": {
          "model_module": "@jupyter-widgets/base",
          "model_name": "LayoutModel",
          "model_module_version": "1.2.0",
          "state": {
            "_model_module": "@jupyter-widgets/base",
            "_model_module_version": "1.2.0",
            "_model_name": "LayoutModel",
            "_view_count": null,
            "_view_module": "@jupyter-widgets/base",
            "_view_module_version": "1.2.0",
            "_view_name": "LayoutView",
            "align_content": null,
            "align_items": null,
            "align_self": null,
            "border": null,
            "bottom": null,
            "display": null,
            "flex": null,
            "flex_flow": null,
            "grid_area": null,
            "grid_auto_columns": null,
            "grid_auto_flow": null,
            "grid_auto_rows": null,
            "grid_column": null,
            "grid_gap": null,
            "grid_row": null,
            "grid_template_areas": null,
            "grid_template_columns": null,
            "grid_template_rows": null,
            "height": null,
            "justify_content": null,
            "justify_items": null,
            "left": null,
            "margin": null,
            "max_height": null,
            "max_width": null,
            "min_height": null,
            "min_width": null,
            "object_fit": null,
            "object_position": null,
            "order": null,
            "overflow": null,
            "overflow_x": null,
            "overflow_y": null,
            "padding": null,
            "right": null,
            "top": null,
            "visibility": null,
            "width": null
          }
        },
        "3ff6bc13e57a45da9087c3e385074e71": {
          "model_module": "@jupyter-widgets/controls",
          "model_name": "DescriptionStyleModel",
          "model_module_version": "1.5.0",
          "state": {
            "_model_module": "@jupyter-widgets/controls",
            "_model_module_version": "1.5.0",
            "_model_name": "DescriptionStyleModel",
            "_view_count": null,
            "_view_module": "@jupyter-widgets/base",
            "_view_module_version": "1.2.0",
            "_view_name": "StyleView",
            "description_width": ""
          }
        },
        "a8e5606a6a4d47b288c8235c179af837": {
          "model_module": "@jupyter-widgets/controls",
          "model_name": "HBoxModel",
          "model_module_version": "1.5.0",
          "state": {
            "_dom_classes": [],
            "_model_module": "@jupyter-widgets/controls",
            "_model_module_version": "1.5.0",
            "_model_name": "HBoxModel",
            "_view_count": null,
            "_view_module": "@jupyter-widgets/controls",
            "_view_module_version": "1.5.0",
            "_view_name": "HBoxView",
            "box_style": "",
            "children": [
              "IPY_MODEL_4773a672281447e8ab1cffcd883e1725",
              "IPY_MODEL_fae7366336ba4b3cb030ce948113c05b",
              "IPY_MODEL_5139320033934bfb8f16d191f14a1cb0"
            ],
            "layout": "IPY_MODEL_aa133b3f87414f1285c77b5b385b1c4e"
          }
        },
        "4773a672281447e8ab1cffcd883e1725": {
          "model_module": "@jupyter-widgets/controls",
          "model_name": "HTMLModel",
          "model_module_version": "1.5.0",
          "state": {
            "_dom_classes": [],
            "_model_module": "@jupyter-widgets/controls",
            "_model_module_version": "1.5.0",
            "_model_name": "HTMLModel",
            "_view_count": null,
            "_view_module": "@jupyter-widgets/controls",
            "_view_module_version": "1.5.0",
            "_view_name": "HTMLView",
            "description": "",
            "description_tooltip": null,
            "layout": "IPY_MODEL_4ccb6a9a41024559b7d57bc271a97f47",
            "placeholder": "​",
            "style": "IPY_MODEL_2efe5a6a60a64310a7726f3551637da5",
            "value": "pytorch_model.bin: 100%"
          }
        },
        "fae7366336ba4b3cb030ce948113c05b": {
          "model_module": "@jupyter-widgets/controls",
          "model_name": "FloatProgressModel",
          "model_module_version": "1.5.0",
          "state": {
            "_dom_classes": [],
            "_model_module": "@jupyter-widgets/controls",
            "_model_module_version": "1.5.0",
            "_model_name": "FloatProgressModel",
            "_view_count": null,
            "_view_module": "@jupyter-widgets/controls",
            "_view_module_version": "1.5.0",
            "_view_name": "ProgressView",
            "bar_style": "success",
            "description": "",
            "description_tooltip": null,
            "layout": "IPY_MODEL_941bcabc739b4fb091bd328ed2603977",
            "max": 1538966629,
            "min": 0,
            "orientation": "horizontal",
            "style": "IPY_MODEL_7344d25d0c214e82bb28639c0a9b003b",
            "value": 1538966629
          }
        },
        "5139320033934bfb8f16d191f14a1cb0": {
          "model_module": "@jupyter-widgets/controls",
          "model_name": "HTMLModel",
          "model_module_version": "1.5.0",
          "state": {
            "_dom_classes": [],
            "_model_module": "@jupyter-widgets/controls",
            "_model_module_version": "1.5.0",
            "_model_name": "HTMLModel",
            "_view_count": null,
            "_view_module": "@jupyter-widgets/controls",
            "_view_module_version": "1.5.0",
            "_view_name": "HTMLView",
            "description": "",
            "description_tooltip": null,
            "layout": "IPY_MODEL_dd42c136dd4246efa2230ac597221df7",
            "placeholder": "​",
            "style": "IPY_MODEL_157f55f5c110433d98438b9a25e6bf66",
            "value": " 1.54G/1.54G [01:17&lt;00:00, 21.1MB/s]"
          }
        },
        "aa133b3f87414f1285c77b5b385b1c4e": {
          "model_module": "@jupyter-widgets/base",
          "model_name": "LayoutModel",
          "model_module_version": "1.2.0",
          "state": {
            "_model_module": "@jupyter-widgets/base",
            "_model_module_version": "1.2.0",
            "_model_name": "LayoutModel",
            "_view_count": null,
            "_view_module": "@jupyter-widgets/base",
            "_view_module_version": "1.2.0",
            "_view_name": "LayoutView",
            "align_content": null,
            "align_items": null,
            "align_self": null,
            "border": null,
            "bottom": null,
            "display": null,
            "flex": null,
            "flex_flow": null,
            "grid_area": null,
            "grid_auto_columns": null,
            "grid_auto_flow": null,
            "grid_auto_rows": null,
            "grid_column": null,
            "grid_gap": null,
            "grid_row": null,
            "grid_template_areas": null,
            "grid_template_columns": null,
            "grid_template_rows": null,
            "height": null,
            "justify_content": null,
            "justify_items": null,
            "left": null,
            "margin": null,
            "max_height": null,
            "max_width": null,
            "min_height": null,
            "min_width": null,
            "object_fit": null,
            "object_position": null,
            "order": null,
            "overflow": null,
            "overflow_x": null,
            "overflow_y": null,
            "padding": null,
            "right": null,
            "top": null,
            "visibility": null,
            "width": null
          }
        },
        "4ccb6a9a41024559b7d57bc271a97f47": {
          "model_module": "@jupyter-widgets/base",
          "model_name": "LayoutModel",
          "model_module_version": "1.2.0",
          "state": {
            "_model_module": "@jupyter-widgets/base",
            "_model_module_version": "1.2.0",
            "_model_name": "LayoutModel",
            "_view_count": null,
            "_view_module": "@jupyter-widgets/base",
            "_view_module_version": "1.2.0",
            "_view_name": "LayoutView",
            "align_content": null,
            "align_items": null,
            "align_self": null,
            "border": null,
            "bottom": null,
            "display": null,
            "flex": null,
            "flex_flow": null,
            "grid_area": null,
            "grid_auto_columns": null,
            "grid_auto_flow": null,
            "grid_auto_rows": null,
            "grid_column": null,
            "grid_gap": null,
            "grid_row": null,
            "grid_template_areas": null,
            "grid_template_columns": null,
            "grid_template_rows": null,
            "height": null,
            "justify_content": null,
            "justify_items": null,
            "left": null,
            "margin": null,
            "max_height": null,
            "max_width": null,
            "min_height": null,
            "min_width": null,
            "object_fit": null,
            "object_position": null,
            "order": null,
            "overflow": null,
            "overflow_x": null,
            "overflow_y": null,
            "padding": null,
            "right": null,
            "top": null,
            "visibility": null,
            "width": null
          }
        },
        "2efe5a6a60a64310a7726f3551637da5": {
          "model_module": "@jupyter-widgets/controls",
          "model_name": "DescriptionStyleModel",
          "model_module_version": "1.5.0",
          "state": {
            "_model_module": "@jupyter-widgets/controls",
            "_model_module_version": "1.5.0",
            "_model_name": "DescriptionStyleModel",
            "_view_count": null,
            "_view_module": "@jupyter-widgets/base",
            "_view_module_version": "1.2.0",
            "_view_name": "StyleView",
            "description_width": ""
          }
        },
        "941bcabc739b4fb091bd328ed2603977": {
          "model_module": "@jupyter-widgets/base",
          "model_name": "LayoutModel",
          "model_module_version": "1.2.0",
          "state": {
            "_model_module": "@jupyter-widgets/base",
            "_model_module_version": "1.2.0",
            "_model_name": "LayoutModel",
            "_view_count": null,
            "_view_module": "@jupyter-widgets/base",
            "_view_module_version": "1.2.0",
            "_view_name": "LayoutView",
            "align_content": null,
            "align_items": null,
            "align_self": null,
            "border": null,
            "bottom": null,
            "display": null,
            "flex": null,
            "flex_flow": null,
            "grid_area": null,
            "grid_auto_columns": null,
            "grid_auto_flow": null,
            "grid_auto_rows": null,
            "grid_column": null,
            "grid_gap": null,
            "grid_row": null,
            "grid_template_areas": null,
            "grid_template_columns": null,
            "grid_template_rows": null,
            "height": null,
            "justify_content": null,
            "justify_items": null,
            "left": null,
            "margin": null,
            "max_height": null,
            "max_width": null,
            "min_height": null,
            "min_width": null,
            "object_fit": null,
            "object_position": null,
            "order": null,
            "overflow": null,
            "overflow_x": null,
            "overflow_y": null,
            "padding": null,
            "right": null,
            "top": null,
            "visibility": null,
            "width": null
          }
        },
        "7344d25d0c214e82bb28639c0a9b003b": {
          "model_module": "@jupyter-widgets/controls",
          "model_name": "ProgressStyleModel",
          "model_module_version": "1.5.0",
          "state": {
            "_model_module": "@jupyter-widgets/controls",
            "_model_module_version": "1.5.0",
            "_model_name": "ProgressStyleModel",
            "_view_count": null,
            "_view_module": "@jupyter-widgets/base",
            "_view_module_version": "1.2.0",
            "_view_name": "StyleView",
            "bar_color": null,
            "description_width": ""
          }
        },
        "dd42c136dd4246efa2230ac597221df7": {
          "model_module": "@jupyter-widgets/base",
          "model_name": "LayoutModel",
          "model_module_version": "1.2.0",
          "state": {
            "_model_module": "@jupyter-widgets/base",
            "_model_module_version": "1.2.0",
            "_model_name": "LayoutModel",
            "_view_count": null,
            "_view_module": "@jupyter-widgets/base",
            "_view_module_version": "1.2.0",
            "_view_name": "LayoutView",
            "align_content": null,
            "align_items": null,
            "align_self": null,
            "border": null,
            "bottom": null,
            "display": null,
            "flex": null,
            "flex_flow": null,
            "grid_area": null,
            "grid_auto_columns": null,
            "grid_auto_flow": null,
            "grid_auto_rows": null,
            "grid_column": null,
            "grid_gap": null,
            "grid_row": null,
            "grid_template_areas": null,
            "grid_template_columns": null,
            "grid_template_rows": null,
            "height": null,
            "justify_content": null,
            "justify_items": null,
            "left": null,
            "margin": null,
            "max_height": null,
            "max_width": null,
            "min_height": null,
            "min_width": null,
            "object_fit": null,
            "object_position": null,
            "order": null,
            "overflow": null,
            "overflow_x": null,
            "overflow_y": null,
            "padding": null,
            "right": null,
            "top": null,
            "visibility": null,
            "width": null
          }
        },
        "157f55f5c110433d98438b9a25e6bf66": {
          "model_module": "@jupyter-widgets/controls",
          "model_name": "DescriptionStyleModel",
          "model_module_version": "1.5.0",
          "state": {
            "_model_module": "@jupyter-widgets/controls",
            "_model_module_version": "1.5.0",
            "_model_name": "DescriptionStyleModel",
            "_view_count": null,
            "_view_module": "@jupyter-widgets/base",
            "_view_module_version": "1.2.0",
            "_view_name": "StyleView",
            "description_width": ""
          }
        },
        "91ea6bac115c47a2b29979b3ed6a6eef": {
          "model_module": "@jupyter-widgets/controls",
          "model_name": "HBoxModel",
          "model_module_version": "1.5.0",
          "state": {
            "_dom_classes": [],
            "_model_module": "@jupyter-widgets/controls",
            "_model_module_version": "1.5.0",
            "_model_name": "HBoxModel",
            "_view_count": null,
            "_view_module": "@jupyter-widgets/controls",
            "_view_module_version": "1.5.0",
            "_view_name": "HBoxView",
            "box_style": "",
            "children": [
              "IPY_MODEL_d6c6452871b447b8b283bd0a527baff6",
              "IPY_MODEL_64d409a79a81414e846b1d432a240b05",
              "IPY_MODEL_01497dcddbba4a3a8240c6c2e62f961e"
            ],
            "layout": "IPY_MODEL_ba9b42b0cfb746eb9e577a811657817a"
          }
        },
        "d6c6452871b447b8b283bd0a527baff6": {
          "model_module": "@jupyter-widgets/controls",
          "model_name": "HTMLModel",
          "model_module_version": "1.5.0",
          "state": {
            "_dom_classes": [],
            "_model_module": "@jupyter-widgets/controls",
            "_model_module_version": "1.5.0",
            "_model_name": "HTMLModel",
            "_view_count": null,
            "_view_module": "@jupyter-widgets/controls",
            "_view_module_version": "1.5.0",
            "_view_name": "HTMLView",
            "description": "",
            "description_tooltip": null,
            "layout": "IPY_MODEL_0c7009bf7b7049329dd56d152bcf1af5",
            "placeholder": "​",
            "style": "IPY_MODEL_db8a07c399a54f3bb4e9830df92b4e1c",
            "value": "preprocessor_config.json: 100%"
          }
        },
        "64d409a79a81414e846b1d432a240b05": {
          "model_module": "@jupyter-widgets/controls",
          "model_name": "FloatProgressModel",
          "model_module_version": "1.5.0",
          "state": {
            "_dom_classes": [],
            "_model_module": "@jupyter-widgets/controls",
            "_model_module_version": "1.5.0",
            "_model_name": "FloatProgressModel",
            "_view_count": null,
            "_view_module": "@jupyter-widgets/controls",
            "_view_module_version": "1.5.0",
            "_view_name": "ProgressView",
            "bar_style": "success",
            "description": "",
            "description_tooltip": null,
            "layout": "IPY_MODEL_0918821f5f334b61b29a17a81470e3fd",
            "max": 445,
            "min": 0,
            "orientation": "horizontal",
            "style": "IPY_MODEL_a804f4c23fa74660bccb0a4de8c4e83d",
            "value": 445
          }
        },
        "01497dcddbba4a3a8240c6c2e62f961e": {
          "model_module": "@jupyter-widgets/controls",
          "model_name": "HTMLModel",
          "model_module_version": "1.5.0",
          "state": {
            "_dom_classes": [],
            "_model_module": "@jupyter-widgets/controls",
            "_model_module_version": "1.5.0",
            "_model_name": "HTMLModel",
            "_view_count": null,
            "_view_module": "@jupyter-widgets/controls",
            "_view_module_version": "1.5.0",
            "_view_name": "HTMLView",
            "description": "",
            "description_tooltip": null,
            "layout": "IPY_MODEL_ab07ee272bb846c9972954ad78ca33dd",
            "placeholder": "​",
            "style": "IPY_MODEL_541ff7cca7e44a08817c7e502cce9d6b",
            "value": " 445/445 [00:00&lt;00:00, 7.75kB/s]"
          }
        },
        "ba9b42b0cfb746eb9e577a811657817a": {
          "model_module": "@jupyter-widgets/base",
          "model_name": "LayoutModel",
          "model_module_version": "1.2.0",
          "state": {
            "_model_module": "@jupyter-widgets/base",
            "_model_module_version": "1.2.0",
            "_model_name": "LayoutModel",
            "_view_count": null,
            "_view_module": "@jupyter-widgets/base",
            "_view_module_version": "1.2.0",
            "_view_name": "LayoutView",
            "align_content": null,
            "align_items": null,
            "align_self": null,
            "border": null,
            "bottom": null,
            "display": null,
            "flex": null,
            "flex_flow": null,
            "grid_area": null,
            "grid_auto_columns": null,
            "grid_auto_flow": null,
            "grid_auto_rows": null,
            "grid_column": null,
            "grid_gap": null,
            "grid_row": null,
            "grid_template_areas": null,
            "grid_template_columns": null,
            "grid_template_rows": null,
            "height": null,
            "justify_content": null,
            "justify_items": null,
            "left": null,
            "margin": null,
            "max_height": null,
            "max_width": null,
            "min_height": null,
            "min_width": null,
            "object_fit": null,
            "object_position": null,
            "order": null,
            "overflow": null,
            "overflow_x": null,
            "overflow_y": null,
            "padding": null,
            "right": null,
            "top": null,
            "visibility": null,
            "width": null
          }
        },
        "0c7009bf7b7049329dd56d152bcf1af5": {
          "model_module": "@jupyter-widgets/base",
          "model_name": "LayoutModel",
          "model_module_version": "1.2.0",
          "state": {
            "_model_module": "@jupyter-widgets/base",
            "_model_module_version": "1.2.0",
            "_model_name": "LayoutModel",
            "_view_count": null,
            "_view_module": "@jupyter-widgets/base",
            "_view_module_version": "1.2.0",
            "_view_name": "LayoutView",
            "align_content": null,
            "align_items": null,
            "align_self": null,
            "border": null,
            "bottom": null,
            "display": null,
            "flex": null,
            "flex_flow": null,
            "grid_area": null,
            "grid_auto_columns": null,
            "grid_auto_flow": null,
            "grid_auto_rows": null,
            "grid_column": null,
            "grid_gap": null,
            "grid_row": null,
            "grid_template_areas": null,
            "grid_template_columns": null,
            "grid_template_rows": null,
            "height": null,
            "justify_content": null,
            "justify_items": null,
            "left": null,
            "margin": null,
            "max_height": null,
            "max_width": null,
            "min_height": null,
            "min_width": null,
            "object_fit": null,
            "object_position": null,
            "order": null,
            "overflow": null,
            "overflow_x": null,
            "overflow_y": null,
            "padding": null,
            "right": null,
            "top": null,
            "visibility": null,
            "width": null
          }
        },
        "db8a07c399a54f3bb4e9830df92b4e1c": {
          "model_module": "@jupyter-widgets/controls",
          "model_name": "DescriptionStyleModel",
          "model_module_version": "1.5.0",
          "state": {
            "_model_module": "@jupyter-widgets/controls",
            "_model_module_version": "1.5.0",
            "_model_name": "DescriptionStyleModel",
            "_view_count": null,
            "_view_module": "@jupyter-widgets/base",
            "_view_module_version": "1.2.0",
            "_view_name": "StyleView",
            "description_width": ""
          }
        },
        "0918821f5f334b61b29a17a81470e3fd": {
          "model_module": "@jupyter-widgets/base",
          "model_name": "LayoutModel",
          "model_module_version": "1.2.0",
          "state": {
            "_model_module": "@jupyter-widgets/base",
            "_model_module_version": "1.2.0",
            "_model_name": "LayoutModel",
            "_view_count": null,
            "_view_module": "@jupyter-widgets/base",
            "_view_module_version": "1.2.0",
            "_view_name": "LayoutView",
            "align_content": null,
            "align_items": null,
            "align_self": null,
            "border": null,
            "bottom": null,
            "display": null,
            "flex": null,
            "flex_flow": null,
            "grid_area": null,
            "grid_auto_columns": null,
            "grid_auto_flow": null,
            "grid_auto_rows": null,
            "grid_column": null,
            "grid_gap": null,
            "grid_row": null,
            "grid_template_areas": null,
            "grid_template_columns": null,
            "grid_template_rows": null,
            "height": null,
            "justify_content": null,
            "justify_items": null,
            "left": null,
            "margin": null,
            "max_height": null,
            "max_width": null,
            "min_height": null,
            "min_width": null,
            "object_fit": null,
            "object_position": null,
            "order": null,
            "overflow": null,
            "overflow_x": null,
            "overflow_y": null,
            "padding": null,
            "right": null,
            "top": null,
            "visibility": null,
            "width": null
          }
        },
        "a804f4c23fa74660bccb0a4de8c4e83d": {
          "model_module": "@jupyter-widgets/controls",
          "model_name": "ProgressStyleModel",
          "model_module_version": "1.5.0",
          "state": {
            "_model_module": "@jupyter-widgets/controls",
            "_model_module_version": "1.5.0",
            "_model_name": "ProgressStyleModel",
            "_view_count": null,
            "_view_module": "@jupyter-widgets/base",
            "_view_module_version": "1.2.0",
            "_view_name": "StyleView",
            "bar_color": null,
            "description_width": ""
          }
        },
        "ab07ee272bb846c9972954ad78ca33dd": {
          "model_module": "@jupyter-widgets/base",
          "model_name": "LayoutModel",
          "model_module_version": "1.2.0",
          "state": {
            "_model_module": "@jupyter-widgets/base",
            "_model_module_version": "1.2.0",
            "_model_name": "LayoutModel",
            "_view_count": null,
            "_view_module": "@jupyter-widgets/base",
            "_view_module_version": "1.2.0",
            "_view_name": "LayoutView",
            "align_content": null,
            "align_items": null,
            "align_self": null,
            "border": null,
            "bottom": null,
            "display": null,
            "flex": null,
            "flex_flow": null,
            "grid_area": null,
            "grid_auto_columns": null,
            "grid_auto_flow": null,
            "grid_auto_rows": null,
            "grid_column": null,
            "grid_gap": null,
            "grid_row": null,
            "grid_template_areas": null,
            "grid_template_columns": null,
            "grid_template_rows": null,
            "height": null,
            "justify_content": null,
            "justify_items": null,
            "left": null,
            "margin": null,
            "max_height": null,
            "max_width": null,
            "min_height": null,
            "min_width": null,
            "object_fit": null,
            "object_position": null,
            "order": null,
            "overflow": null,
            "overflow_x": null,
            "overflow_y": null,
            "padding": null,
            "right": null,
            "top": null,
            "visibility": null,
            "width": null
          }
        },
        "541ff7cca7e44a08817c7e502cce9d6b": {
          "model_module": "@jupyter-widgets/controls",
          "model_name": "DescriptionStyleModel",
          "model_module_version": "1.5.0",
          "state": {
            "_model_module": "@jupyter-widgets/controls",
            "_model_module_version": "1.5.0",
            "_model_name": "DescriptionStyleModel",
            "_view_count": null,
            "_view_module": "@jupyter-widgets/base",
            "_view_module_version": "1.2.0",
            "_view_name": "StyleView",
            "description_width": ""
          }
        },
        "6995844864fa499b94095c93dca68e0c": {
          "model_module": "@jupyter-widgets/controls",
          "model_name": "HBoxModel",
          "model_module_version": "1.5.0",
          "state": {
            "_dom_classes": [],
            "_model_module": "@jupyter-widgets/controls",
            "_model_module_version": "1.5.0",
            "_model_name": "HBoxModel",
            "_view_count": null,
            "_view_module": "@jupyter-widgets/controls",
            "_view_module_version": "1.5.0",
            "_view_name": "HBoxView",
            "box_style": "",
            "children": [
              "IPY_MODEL_0088268906ea4b9f9afcd8416c76672f",
              "IPY_MODEL_01ef9cf6e20a4406a1fc9fab321dbe58",
              "IPY_MODEL_ca0ad44883ae4978adff55449b99b5e6"
            ],
            "layout": "IPY_MODEL_71575d98e04043e68921af6f124dde7b"
          }
        },
        "0088268906ea4b9f9afcd8416c76672f": {
          "model_module": "@jupyter-widgets/controls",
          "model_name": "HTMLModel",
          "model_module_version": "1.5.0",
          "state": {
            "_dom_classes": [],
            "_model_module": "@jupyter-widgets/controls",
            "_model_module_version": "1.5.0",
            "_model_name": "HTMLModel",
            "_view_count": null,
            "_view_module": "@jupyter-widgets/controls",
            "_view_module_version": "1.5.0",
            "_view_name": "HTMLView",
            "description": "",
            "description_tooltip": null,
            "layout": "IPY_MODEL_319baaade86347ea9c76116a2f732c8e",
            "placeholder": "​",
            "style": "IPY_MODEL_2d53219b42794e8bbb61ec01a128a73d",
            "value": "tokenizer_config.json: 100%"
          }
        },
        "01ef9cf6e20a4406a1fc9fab321dbe58": {
          "model_module": "@jupyter-widgets/controls",
          "model_name": "FloatProgressModel",
          "model_module_version": "1.5.0",
          "state": {
            "_dom_classes": [],
            "_model_module": "@jupyter-widgets/controls",
            "_model_module_version": "1.5.0",
            "_model_name": "FloatProgressModel",
            "_view_count": null,
            "_view_module": "@jupyter-widgets/controls",
            "_view_module_version": "1.5.0",
            "_view_name": "ProgressView",
            "bar_style": "success",
            "description": "",
            "description_tooltip": null,
            "layout": "IPY_MODEL_f4e46044b491422bb40d438dac1eec30",
            "max": 592,
            "min": 0,
            "orientation": "horizontal",
            "style": "IPY_MODEL_4029de93c76342c6ac99ad6f88027eb1",
            "value": 592
          }
        },
        "ca0ad44883ae4978adff55449b99b5e6": {
          "model_module": "@jupyter-widgets/controls",
          "model_name": "HTMLModel",
          "model_module_version": "1.5.0",
          "state": {
            "_dom_classes": [],
            "_model_module": "@jupyter-widgets/controls",
            "_model_module_version": "1.5.0",
            "_model_name": "HTMLModel",
            "_view_count": null,
            "_view_module": "@jupyter-widgets/controls",
            "_view_module_version": "1.5.0",
            "_view_name": "HTMLView",
            "description": "",
            "description_tooltip": null,
            "layout": "IPY_MODEL_7e34862e288046ee9e78fcea31cbe2cb",
            "placeholder": "​",
            "style": "IPY_MODEL_a2529f7cec7b40b487555b7988bd0352",
            "value": " 592/592 [00:00&lt;00:00, 7.09kB/s]"
          }
        },
        "71575d98e04043e68921af6f124dde7b": {
          "model_module": "@jupyter-widgets/base",
          "model_name": "LayoutModel",
          "model_module_version": "1.2.0",
          "state": {
            "_model_module": "@jupyter-widgets/base",
            "_model_module_version": "1.2.0",
            "_model_name": "LayoutModel",
            "_view_count": null,
            "_view_module": "@jupyter-widgets/base",
            "_view_module_version": "1.2.0",
            "_view_name": "LayoutView",
            "align_content": null,
            "align_items": null,
            "align_self": null,
            "border": null,
            "bottom": null,
            "display": null,
            "flex": null,
            "flex_flow": null,
            "grid_area": null,
            "grid_auto_columns": null,
            "grid_auto_flow": null,
            "grid_auto_rows": null,
            "grid_column": null,
            "grid_gap": null,
            "grid_row": null,
            "grid_template_areas": null,
            "grid_template_columns": null,
            "grid_template_rows": null,
            "height": null,
            "justify_content": null,
            "justify_items": null,
            "left": null,
            "margin": null,
            "max_height": null,
            "max_width": null,
            "min_height": null,
            "min_width": null,
            "object_fit": null,
            "object_position": null,
            "order": null,
            "overflow": null,
            "overflow_x": null,
            "overflow_y": null,
            "padding": null,
            "right": null,
            "top": null,
            "visibility": null,
            "width": null
          }
        },
        "319baaade86347ea9c76116a2f732c8e": {
          "model_module": "@jupyter-widgets/base",
          "model_name": "LayoutModel",
          "model_module_version": "1.2.0",
          "state": {
            "_model_module": "@jupyter-widgets/base",
            "_model_module_version": "1.2.0",
            "_model_name": "LayoutModel",
            "_view_count": null,
            "_view_module": "@jupyter-widgets/base",
            "_view_module_version": "1.2.0",
            "_view_name": "LayoutView",
            "align_content": null,
            "align_items": null,
            "align_self": null,
            "border": null,
            "bottom": null,
            "display": null,
            "flex": null,
            "flex_flow": null,
            "grid_area": null,
            "grid_auto_columns": null,
            "grid_auto_flow": null,
            "grid_auto_rows": null,
            "grid_column": null,
            "grid_gap": null,
            "grid_row": null,
            "grid_template_areas": null,
            "grid_template_columns": null,
            "grid_template_rows": null,
            "height": null,
            "justify_content": null,
            "justify_items": null,
            "left": null,
            "margin": null,
            "max_height": null,
            "max_width": null,
            "min_height": null,
            "min_width": null,
            "object_fit": null,
            "object_position": null,
            "order": null,
            "overflow": null,
            "overflow_x": null,
            "overflow_y": null,
            "padding": null,
            "right": null,
            "top": null,
            "visibility": null,
            "width": null
          }
        },
        "2d53219b42794e8bbb61ec01a128a73d": {
          "model_module": "@jupyter-widgets/controls",
          "model_name": "DescriptionStyleModel",
          "model_module_version": "1.5.0",
          "state": {
            "_model_module": "@jupyter-widgets/controls",
            "_model_module_version": "1.5.0",
            "_model_name": "DescriptionStyleModel",
            "_view_count": null,
            "_view_module": "@jupyter-widgets/base",
            "_view_module_version": "1.2.0",
            "_view_name": "StyleView",
            "description_width": ""
          }
        },
        "f4e46044b491422bb40d438dac1eec30": {
          "model_module": "@jupyter-widgets/base",
          "model_name": "LayoutModel",
          "model_module_version": "1.2.0",
          "state": {
            "_model_module": "@jupyter-widgets/base",
            "_model_module_version": "1.2.0",
            "_model_name": "LayoutModel",
            "_view_count": null,
            "_view_module": "@jupyter-widgets/base",
            "_view_module_version": "1.2.0",
            "_view_name": "LayoutView",
            "align_content": null,
            "align_items": null,
            "align_self": null,
            "border": null,
            "bottom": null,
            "display": null,
            "flex": null,
            "flex_flow": null,
            "grid_area": null,
            "grid_auto_columns": null,
            "grid_auto_flow": null,
            "grid_auto_rows": null,
            "grid_column": null,
            "grid_gap": null,
            "grid_row": null,
            "grid_template_areas": null,
            "grid_template_columns": null,
            "grid_template_rows": null,
            "height": null,
            "justify_content": null,
            "justify_items": null,
            "left": null,
            "margin": null,
            "max_height": null,
            "max_width": null,
            "min_height": null,
            "min_width": null,
            "object_fit": null,
            "object_position": null,
            "order": null,
            "overflow": null,
            "overflow_x": null,
            "overflow_y": null,
            "padding": null,
            "right": null,
            "top": null,
            "visibility": null,
            "width": null
          }
        },
        "4029de93c76342c6ac99ad6f88027eb1": {
          "model_module": "@jupyter-widgets/controls",
          "model_name": "ProgressStyleModel",
          "model_module_version": "1.5.0",
          "state": {
            "_model_module": "@jupyter-widgets/controls",
            "_model_module_version": "1.5.0",
            "_model_name": "ProgressStyleModel",
            "_view_count": null,
            "_view_module": "@jupyter-widgets/base",
            "_view_module_version": "1.2.0",
            "_view_name": "StyleView",
            "bar_color": null,
            "description_width": ""
          }
        },
        "7e34862e288046ee9e78fcea31cbe2cb": {
          "model_module": "@jupyter-widgets/base",
          "model_name": "LayoutModel",
          "model_module_version": "1.2.0",
          "state": {
            "_model_module": "@jupyter-widgets/base",
            "_model_module_version": "1.2.0",
            "_model_name": "LayoutModel",
            "_view_count": null,
            "_view_module": "@jupyter-widgets/base",
            "_view_module_version": "1.2.0",
            "_view_name": "LayoutView",
            "align_content": null,
            "align_items": null,
            "align_self": null,
            "border": null,
            "bottom": null,
            "display": null,
            "flex": null,
            "flex_flow": null,
            "grid_area": null,
            "grid_auto_columns": null,
            "grid_auto_flow": null,
            "grid_auto_rows": null,
            "grid_column": null,
            "grid_gap": null,
            "grid_row": null,
            "grid_template_areas": null,
            "grid_template_columns": null,
            "grid_template_rows": null,
            "height": null,
            "justify_content": null,
            "justify_items": null,
            "left": null,
            "margin": null,
            "max_height": null,
            "max_width": null,
            "min_height": null,
            "min_width": null,
            "object_fit": null,
            "object_position": null,
            "order": null,
            "overflow": null,
            "overflow_x": null,
            "overflow_y": null,
            "padding": null,
            "right": null,
            "top": null,
            "visibility": null,
            "width": null
          }
        },
        "a2529f7cec7b40b487555b7988bd0352": {
          "model_module": "@jupyter-widgets/controls",
          "model_name": "DescriptionStyleModel",
          "model_module_version": "1.5.0",
          "state": {
            "_model_module": "@jupyter-widgets/controls",
            "_model_module_version": "1.5.0",
            "_model_name": "DescriptionStyleModel",
            "_view_count": null,
            "_view_module": "@jupyter-widgets/base",
            "_view_module_version": "1.2.0",
            "_view_name": "StyleView",
            "description_width": ""
          }
        },
        "c80f0641426944bc934eda312795d84e": {
          "model_module": "@jupyter-widgets/controls",
          "model_name": "HBoxModel",
          "model_module_version": "1.5.0",
          "state": {
            "_dom_classes": [],
            "_model_module": "@jupyter-widgets/controls",
            "_model_module_version": "1.5.0",
            "_model_name": "HBoxModel",
            "_view_count": null,
            "_view_module": "@jupyter-widgets/controls",
            "_view_module_version": "1.5.0",
            "_view_name": "HBoxView",
            "box_style": "",
            "children": [
              "IPY_MODEL_8e9c52d4e1884efeae4aa6afda8f8da8",
              "IPY_MODEL_4f3d733a85204087a0f4e942b11a93cc",
              "IPY_MODEL_1f601dd5fda2477b84717160296de7e6"
            ],
            "layout": "IPY_MODEL_26b611f5b7164748883abf09fd68a466"
          }
        },
        "8e9c52d4e1884efeae4aa6afda8f8da8": {
          "model_module": "@jupyter-widgets/controls",
          "model_name": "HTMLModel",
          "model_module_version": "1.5.0",
          "state": {
            "_dom_classes": [],
            "_model_module": "@jupyter-widgets/controls",
            "_model_module_version": "1.5.0",
            "_model_name": "HTMLModel",
            "_view_count": null,
            "_view_module": "@jupyter-widgets/controls",
            "_view_module_version": "1.5.0",
            "_view_name": "HTMLView",
            "description": "",
            "description_tooltip": null,
            "layout": "IPY_MODEL_3baeecb73c7344a7885270bf679b4285",
            "placeholder": "​",
            "style": "IPY_MODEL_b3551999e46a405d8133cabe0d589fe3",
            "value": "vocab.txt: 100%"
          }
        },
        "4f3d733a85204087a0f4e942b11a93cc": {
          "model_module": "@jupyter-widgets/controls",
          "model_name": "FloatProgressModel",
          "model_module_version": "1.5.0",
          "state": {
            "_dom_classes": [],
            "_model_module": "@jupyter-widgets/controls",
            "_model_module_version": "1.5.0",
            "_model_name": "FloatProgressModel",
            "_view_count": null,
            "_view_module": "@jupyter-widgets/controls",
            "_view_module_version": "1.5.0",
            "_view_name": "ProgressView",
            "bar_style": "success",
            "description": "",
            "description_tooltip": null,
            "layout": "IPY_MODEL_2f44fd5dd24f4e8e85ef755fd2d5f7f5",
            "max": 231508,
            "min": 0,
            "orientation": "horizontal",
            "style": "IPY_MODEL_8897cf5fcf274c2082aa6727cd9f7f3f",
            "value": 231508
          }
        },
        "1f601dd5fda2477b84717160296de7e6": {
          "model_module": "@jupyter-widgets/controls",
          "model_name": "HTMLModel",
          "model_module_version": "1.5.0",
          "state": {
            "_dom_classes": [],
            "_model_module": "@jupyter-widgets/controls",
            "_model_module_version": "1.5.0",
            "_model_name": "HTMLModel",
            "_view_count": null,
            "_view_module": "@jupyter-widgets/controls",
            "_view_module_version": "1.5.0",
            "_view_name": "HTMLView",
            "description": "",
            "description_tooltip": null,
            "layout": "IPY_MODEL_0c433c94fbaf462e812f0ac16ee05060",
            "placeholder": "​",
            "style": "IPY_MODEL_048e69298c964249807c6bd690db08c8",
            "value": " 232k/232k [00:00&lt;00:00, 599kB/s]"
          }
        },
        "26b611f5b7164748883abf09fd68a466": {
          "model_module": "@jupyter-widgets/base",
          "model_name": "LayoutModel",
          "model_module_version": "1.2.0",
          "state": {
            "_model_module": "@jupyter-widgets/base",
            "_model_module_version": "1.2.0",
            "_model_name": "LayoutModel",
            "_view_count": null,
            "_view_module": "@jupyter-widgets/base",
            "_view_module_version": "1.2.0",
            "_view_name": "LayoutView",
            "align_content": null,
            "align_items": null,
            "align_self": null,
            "border": null,
            "bottom": null,
            "display": null,
            "flex": null,
            "flex_flow": null,
            "grid_area": null,
            "grid_auto_columns": null,
            "grid_auto_flow": null,
            "grid_auto_rows": null,
            "grid_column": null,
            "grid_gap": null,
            "grid_row": null,
            "grid_template_areas": null,
            "grid_template_columns": null,
            "grid_template_rows": null,
            "height": null,
            "justify_content": null,
            "justify_items": null,
            "left": null,
            "margin": null,
            "max_height": null,
            "max_width": null,
            "min_height": null,
            "min_width": null,
            "object_fit": null,
            "object_position": null,
            "order": null,
            "overflow": null,
            "overflow_x": null,
            "overflow_y": null,
            "padding": null,
            "right": null,
            "top": null,
            "visibility": null,
            "width": null
          }
        },
        "3baeecb73c7344a7885270bf679b4285": {
          "model_module": "@jupyter-widgets/base",
          "model_name": "LayoutModel",
          "model_module_version": "1.2.0",
          "state": {
            "_model_module": "@jupyter-widgets/base",
            "_model_module_version": "1.2.0",
            "_model_name": "LayoutModel",
            "_view_count": null,
            "_view_module": "@jupyter-widgets/base",
            "_view_module_version": "1.2.0",
            "_view_name": "LayoutView",
            "align_content": null,
            "align_items": null,
            "align_self": null,
            "border": null,
            "bottom": null,
            "display": null,
            "flex": null,
            "flex_flow": null,
            "grid_area": null,
            "grid_auto_columns": null,
            "grid_auto_flow": null,
            "grid_auto_rows": null,
            "grid_column": null,
            "grid_gap": null,
            "grid_row": null,
            "grid_template_areas": null,
            "grid_template_columns": null,
            "grid_template_rows": null,
            "height": null,
            "justify_content": null,
            "justify_items": null,
            "left": null,
            "margin": null,
            "max_height": null,
            "max_width": null,
            "min_height": null,
            "min_width": null,
            "object_fit": null,
            "object_position": null,
            "order": null,
            "overflow": null,
            "overflow_x": null,
            "overflow_y": null,
            "padding": null,
            "right": null,
            "top": null,
            "visibility": null,
            "width": null
          }
        },
        "b3551999e46a405d8133cabe0d589fe3": {
          "model_module": "@jupyter-widgets/controls",
          "model_name": "DescriptionStyleModel",
          "model_module_version": "1.5.0",
          "state": {
            "_model_module": "@jupyter-widgets/controls",
            "_model_module_version": "1.5.0",
            "_model_name": "DescriptionStyleModel",
            "_view_count": null,
            "_view_module": "@jupyter-widgets/base",
            "_view_module_version": "1.2.0",
            "_view_name": "StyleView",
            "description_width": ""
          }
        },
        "2f44fd5dd24f4e8e85ef755fd2d5f7f5": {
          "model_module": "@jupyter-widgets/base",
          "model_name": "LayoutModel",
          "model_module_version": "1.2.0",
          "state": {
            "_model_module": "@jupyter-widgets/base",
            "_model_module_version": "1.2.0",
            "_model_name": "LayoutModel",
            "_view_count": null,
            "_view_module": "@jupyter-widgets/base",
            "_view_module_version": "1.2.0",
            "_view_name": "LayoutView",
            "align_content": null,
            "align_items": null,
            "align_self": null,
            "border": null,
            "bottom": null,
            "display": null,
            "flex": null,
            "flex_flow": null,
            "grid_area": null,
            "grid_auto_columns": null,
            "grid_auto_flow": null,
            "grid_auto_rows": null,
            "grid_column": null,
            "grid_gap": null,
            "grid_row": null,
            "grid_template_areas": null,
            "grid_template_columns": null,
            "grid_template_rows": null,
            "height": null,
            "justify_content": null,
            "justify_items": null,
            "left": null,
            "margin": null,
            "max_height": null,
            "max_width": null,
            "min_height": null,
            "min_width": null,
            "object_fit": null,
            "object_position": null,
            "order": null,
            "overflow": null,
            "overflow_x": null,
            "overflow_y": null,
            "padding": null,
            "right": null,
            "top": null,
            "visibility": null,
            "width": null
          }
        },
        "8897cf5fcf274c2082aa6727cd9f7f3f": {
          "model_module": "@jupyter-widgets/controls",
          "model_name": "ProgressStyleModel",
          "model_module_version": "1.5.0",
          "state": {
            "_model_module": "@jupyter-widgets/controls",
            "_model_module_version": "1.5.0",
            "_model_name": "ProgressStyleModel",
            "_view_count": null,
            "_view_module": "@jupyter-widgets/base",
            "_view_module_version": "1.2.0",
            "_view_name": "StyleView",
            "bar_color": null,
            "description_width": ""
          }
        },
        "0c433c94fbaf462e812f0ac16ee05060": {
          "model_module": "@jupyter-widgets/base",
          "model_name": "LayoutModel",
          "model_module_version": "1.2.0",
          "state": {
            "_model_module": "@jupyter-widgets/base",
            "_model_module_version": "1.2.0",
            "_model_name": "LayoutModel",
            "_view_count": null,
            "_view_module": "@jupyter-widgets/base",
            "_view_module_version": "1.2.0",
            "_view_name": "LayoutView",
            "align_content": null,
            "align_items": null,
            "align_self": null,
            "border": null,
            "bottom": null,
            "display": null,
            "flex": null,
            "flex_flow": null,
            "grid_area": null,
            "grid_auto_columns": null,
            "grid_auto_flow": null,
            "grid_auto_rows": null,
            "grid_column": null,
            "grid_gap": null,
            "grid_row": null,
            "grid_template_areas": null,
            "grid_template_columns": null,
            "grid_template_rows": null,
            "height": null,
            "justify_content": null,
            "justify_items": null,
            "left": null,
            "margin": null,
            "max_height": null,
            "max_width": null,
            "min_height": null,
            "min_width": null,
            "object_fit": null,
            "object_position": null,
            "order": null,
            "overflow": null,
            "overflow_x": null,
            "overflow_y": null,
            "padding": null,
            "right": null,
            "top": null,
            "visibility": null,
            "width": null
          }
        },
        "048e69298c964249807c6bd690db08c8": {
          "model_module": "@jupyter-widgets/controls",
          "model_name": "DescriptionStyleModel",
          "model_module_version": "1.5.0",
          "state": {
            "_model_module": "@jupyter-widgets/controls",
            "_model_module_version": "1.5.0",
            "_model_name": "DescriptionStyleModel",
            "_view_count": null,
            "_view_module": "@jupyter-widgets/base",
            "_view_module_version": "1.2.0",
            "_view_name": "StyleView",
            "description_width": ""
          }
        },
        "9972e25c573f402f8d7cf48d445654b4": {
          "model_module": "@jupyter-widgets/controls",
          "model_name": "HBoxModel",
          "model_module_version": "1.5.0",
          "state": {
            "_dom_classes": [],
            "_model_module": "@jupyter-widgets/controls",
            "_model_module_version": "1.5.0",
            "_model_name": "HBoxModel",
            "_view_count": null,
            "_view_module": "@jupyter-widgets/controls",
            "_view_module_version": "1.5.0",
            "_view_name": "HBoxView",
            "box_style": "",
            "children": [
              "IPY_MODEL_405560a45e44405894beba31804970e2",
              "IPY_MODEL_efb6def92e6148d7984c2fabfb53a475",
              "IPY_MODEL_ab6f601a5cdb48c5b6f1e7d0fb968976"
            ],
            "layout": "IPY_MODEL_c44192ca5c5445a297bf5b56f30164ad"
          }
        },
        "405560a45e44405894beba31804970e2": {
          "model_module": "@jupyter-widgets/controls",
          "model_name": "HTMLModel",
          "model_module_version": "1.5.0",
          "state": {
            "_dom_classes": [],
            "_model_module": "@jupyter-widgets/controls",
            "_model_module_version": "1.5.0",
            "_model_name": "HTMLModel",
            "_view_count": null,
            "_view_module": "@jupyter-widgets/controls",
            "_view_module_version": "1.5.0",
            "_view_name": "HTMLView",
            "description": "",
            "description_tooltip": null,
            "layout": "IPY_MODEL_58e7165b82294e5a8639f3e71bfe8c8c",
            "placeholder": "​",
            "style": "IPY_MODEL_1ff481e5d05648158bd6c01e4fe9787d",
            "value": "tokenizer.json: 100%"
          }
        },
        "efb6def92e6148d7984c2fabfb53a475": {
          "model_module": "@jupyter-widgets/controls",
          "model_name": "FloatProgressModel",
          "model_module_version": "1.5.0",
          "state": {
            "_dom_classes": [],
            "_model_module": "@jupyter-widgets/controls",
            "_model_module_version": "1.5.0",
            "_model_name": "FloatProgressModel",
            "_view_count": null,
            "_view_module": "@jupyter-widgets/controls",
            "_view_module_version": "1.5.0",
            "_view_name": "ProgressView",
            "bar_style": "success",
            "description": "",
            "description_tooltip": null,
            "layout": "IPY_MODEL_19ed053732994a269cbd71d8084fa3dc",
            "max": 711396,
            "min": 0,
            "orientation": "horizontal",
            "style": "IPY_MODEL_a73fdc758edc47baa02ff50ca070129e",
            "value": 711396
          }
        },
        "ab6f601a5cdb48c5b6f1e7d0fb968976": {
          "model_module": "@jupyter-widgets/controls",
          "model_name": "HTMLModel",
          "model_module_version": "1.5.0",
          "state": {
            "_dom_classes": [],
            "_model_module": "@jupyter-widgets/controls",
            "_model_module_version": "1.5.0",
            "_model_name": "HTMLModel",
            "_view_count": null,
            "_view_module": "@jupyter-widgets/controls",
            "_view_module_version": "1.5.0",
            "_view_name": "HTMLView",
            "description": "",
            "description_tooltip": null,
            "layout": "IPY_MODEL_d074fa1a67784b4b9a1ec98ed890002e",
            "placeholder": "​",
            "style": "IPY_MODEL_4e4d0e549fae4055830a06798081b25b",
            "value": " 711k/711k [00:00&lt;00:00, 909kB/s]"
          }
        },
        "c44192ca5c5445a297bf5b56f30164ad": {
          "model_module": "@jupyter-widgets/base",
          "model_name": "LayoutModel",
          "model_module_version": "1.2.0",
          "state": {
            "_model_module": "@jupyter-widgets/base",
            "_model_module_version": "1.2.0",
            "_model_name": "LayoutModel",
            "_view_count": null,
            "_view_module": "@jupyter-widgets/base",
            "_view_module_version": "1.2.0",
            "_view_name": "LayoutView",
            "align_content": null,
            "align_items": null,
            "align_self": null,
            "border": null,
            "bottom": null,
            "display": null,
            "flex": null,
            "flex_flow": null,
            "grid_area": null,
            "grid_auto_columns": null,
            "grid_auto_flow": null,
            "grid_auto_rows": null,
            "grid_column": null,
            "grid_gap": null,
            "grid_row": null,
            "grid_template_areas": null,
            "grid_template_columns": null,
            "grid_template_rows": null,
            "height": null,
            "justify_content": null,
            "justify_items": null,
            "left": null,
            "margin": null,
            "max_height": null,
            "max_width": null,
            "min_height": null,
            "min_width": null,
            "object_fit": null,
            "object_position": null,
            "order": null,
            "overflow": null,
            "overflow_x": null,
            "overflow_y": null,
            "padding": null,
            "right": null,
            "top": null,
            "visibility": null,
            "width": null
          }
        },
        "58e7165b82294e5a8639f3e71bfe8c8c": {
          "model_module": "@jupyter-widgets/base",
          "model_name": "LayoutModel",
          "model_module_version": "1.2.0",
          "state": {
            "_model_module": "@jupyter-widgets/base",
            "_model_module_version": "1.2.0",
            "_model_name": "LayoutModel",
            "_view_count": null,
            "_view_module": "@jupyter-widgets/base",
            "_view_module_version": "1.2.0",
            "_view_name": "LayoutView",
            "align_content": null,
            "align_items": null,
            "align_self": null,
            "border": null,
            "bottom": null,
            "display": null,
            "flex": null,
            "flex_flow": null,
            "grid_area": null,
            "grid_auto_columns": null,
            "grid_auto_flow": null,
            "grid_auto_rows": null,
            "grid_column": null,
            "grid_gap": null,
            "grid_row": null,
            "grid_template_areas": null,
            "grid_template_columns": null,
            "grid_template_rows": null,
            "height": null,
            "justify_content": null,
            "justify_items": null,
            "left": null,
            "margin": null,
            "max_height": null,
            "max_width": null,
            "min_height": null,
            "min_width": null,
            "object_fit": null,
            "object_position": null,
            "order": null,
            "overflow": null,
            "overflow_x": null,
            "overflow_y": null,
            "padding": null,
            "right": null,
            "top": null,
            "visibility": null,
            "width": null
          }
        },
        "1ff481e5d05648158bd6c01e4fe9787d": {
          "model_module": "@jupyter-widgets/controls",
          "model_name": "DescriptionStyleModel",
          "model_module_version": "1.5.0",
          "state": {
            "_model_module": "@jupyter-widgets/controls",
            "_model_module_version": "1.5.0",
            "_model_name": "DescriptionStyleModel",
            "_view_count": null,
            "_view_module": "@jupyter-widgets/base",
            "_view_module_version": "1.2.0",
            "_view_name": "StyleView",
            "description_width": ""
          }
        },
        "19ed053732994a269cbd71d8084fa3dc": {
          "model_module": "@jupyter-widgets/base",
          "model_name": "LayoutModel",
          "model_module_version": "1.2.0",
          "state": {
            "_model_module": "@jupyter-widgets/base",
            "_model_module_version": "1.2.0",
            "_model_name": "LayoutModel",
            "_view_count": null,
            "_view_module": "@jupyter-widgets/base",
            "_view_module_version": "1.2.0",
            "_view_name": "LayoutView",
            "align_content": null,
            "align_items": null,
            "align_self": null,
            "border": null,
            "bottom": null,
            "display": null,
            "flex": null,
            "flex_flow": null,
            "grid_area": null,
            "grid_auto_columns": null,
            "grid_auto_flow": null,
            "grid_auto_rows": null,
            "grid_column": null,
            "grid_gap": null,
            "grid_row": null,
            "grid_template_areas": null,
            "grid_template_columns": null,
            "grid_template_rows": null,
            "height": null,
            "justify_content": null,
            "justify_items": null,
            "left": null,
            "margin": null,
            "max_height": null,
            "max_width": null,
            "min_height": null,
            "min_width": null,
            "object_fit": null,
            "object_position": null,
            "order": null,
            "overflow": null,
            "overflow_x": null,
            "overflow_y": null,
            "padding": null,
            "right": null,
            "top": null,
            "visibility": null,
            "width": null
          }
        },
        "a73fdc758edc47baa02ff50ca070129e": {
          "model_module": "@jupyter-widgets/controls",
          "model_name": "ProgressStyleModel",
          "model_module_version": "1.5.0",
          "state": {
            "_model_module": "@jupyter-widgets/controls",
            "_model_module_version": "1.5.0",
            "_model_name": "ProgressStyleModel",
            "_view_count": null,
            "_view_module": "@jupyter-widgets/base",
            "_view_module_version": "1.2.0",
            "_view_name": "StyleView",
            "bar_color": null,
            "description_width": ""
          }
        },
        "d074fa1a67784b4b9a1ec98ed890002e": {
          "model_module": "@jupyter-widgets/base",
          "model_name": "LayoutModel",
          "model_module_version": "1.2.0",
          "state": {
            "_model_module": "@jupyter-widgets/base",
            "_model_module_version": "1.2.0",
            "_model_name": "LayoutModel",
            "_view_count": null,
            "_view_module": "@jupyter-widgets/base",
            "_view_module_version": "1.2.0",
            "_view_name": "LayoutView",
            "align_content": null,
            "align_items": null,
            "align_self": null,
            "border": null,
            "bottom": null,
            "display": null,
            "flex": null,
            "flex_flow": null,
            "grid_area": null,
            "grid_auto_columns": null,
            "grid_auto_flow": null,
            "grid_auto_rows": null,
            "grid_column": null,
            "grid_gap": null,
            "grid_row": null,
            "grid_template_areas": null,
            "grid_template_columns": null,
            "grid_template_rows": null,
            "height": null,
            "justify_content": null,
            "justify_items": null,
            "left": null,
            "margin": null,
            "max_height": null,
            "max_width": null,
            "min_height": null,
            "min_width": null,
            "object_fit": null,
            "object_position": null,
            "order": null,
            "overflow": null,
            "overflow_x": null,
            "overflow_y": null,
            "padding": null,
            "right": null,
            "top": null,
            "visibility": null,
            "width": null
          }
        },
        "4e4d0e549fae4055830a06798081b25b": {
          "model_module": "@jupyter-widgets/controls",
          "model_name": "DescriptionStyleModel",
          "model_module_version": "1.5.0",
          "state": {
            "_model_module": "@jupyter-widgets/controls",
            "_model_module_version": "1.5.0",
            "_model_name": "DescriptionStyleModel",
            "_view_count": null,
            "_view_module": "@jupyter-widgets/base",
            "_view_module_version": "1.2.0",
            "_view_name": "StyleView",
            "description_width": ""
          }
        },
        "47b523d0a56649d18b954facc1b3f79a": {
          "model_module": "@jupyter-widgets/controls",
          "model_name": "HBoxModel",
          "model_module_version": "1.5.0",
          "state": {
            "_dom_classes": [],
            "_model_module": "@jupyter-widgets/controls",
            "_model_module_version": "1.5.0",
            "_model_name": "HBoxModel",
            "_view_count": null,
            "_view_module": "@jupyter-widgets/controls",
            "_view_module_version": "1.5.0",
            "_view_name": "HBoxView",
            "box_style": "",
            "children": [
              "IPY_MODEL_0c1156bd36aa47038291971f249ff4aa",
              "IPY_MODEL_976ae67b1de84221bf00a469cfed23e6",
              "IPY_MODEL_1e9d9cbae6df4514b723e6a5846149f6"
            ],
            "layout": "IPY_MODEL_c4af8ed87cb34bc6837db64b42d834ab"
          }
        },
        "0c1156bd36aa47038291971f249ff4aa": {
          "model_module": "@jupyter-widgets/controls",
          "model_name": "HTMLModel",
          "model_module_version": "1.5.0",
          "state": {
            "_dom_classes": [],
            "_model_module": "@jupyter-widgets/controls",
            "_model_module_version": "1.5.0",
            "_model_name": "HTMLModel",
            "_view_count": null,
            "_view_module": "@jupyter-widgets/controls",
            "_view_module_version": "1.5.0",
            "_view_name": "HTMLView",
            "description": "",
            "description_tooltip": null,
            "layout": "IPY_MODEL_c4fd1ee493ba4aef89ea488e89869c08",
            "placeholder": "​",
            "style": "IPY_MODEL_8be8f8716690451c8af2aacbb871b494",
            "value": "special_tokens_map.json: 100%"
          }
        },
        "976ae67b1de84221bf00a469cfed23e6": {
          "model_module": "@jupyter-widgets/controls",
          "model_name": "FloatProgressModel",
          "model_module_version": "1.5.0",
          "state": {
            "_dom_classes": [],
            "_model_module": "@jupyter-widgets/controls",
            "_model_module_version": "1.5.0",
            "_model_name": "FloatProgressModel",
            "_view_count": null,
            "_view_module": "@jupyter-widgets/controls",
            "_view_module_version": "1.5.0",
            "_view_name": "ProgressView",
            "bar_style": "success",
            "description": "",
            "description_tooltip": null,
            "layout": "IPY_MODEL_a5e31823ebeb4664a8742c1f98831d5a",
            "max": 125,
            "min": 0,
            "orientation": "horizontal",
            "style": "IPY_MODEL_28d4cff6c64643d882de5a4df9f7086a",
            "value": 125
          }
        },
        "1e9d9cbae6df4514b723e6a5846149f6": {
          "model_module": "@jupyter-widgets/controls",
          "model_name": "HTMLModel",
          "model_module_version": "1.5.0",
          "state": {
            "_dom_classes": [],
            "_model_module": "@jupyter-widgets/controls",
            "_model_module_version": "1.5.0",
            "_model_name": "HTMLModel",
            "_view_count": null,
            "_view_module": "@jupyter-widgets/controls",
            "_view_module_version": "1.5.0",
            "_view_name": "HTMLView",
            "description": "",
            "description_tooltip": null,
            "layout": "IPY_MODEL_008a895d64ab411faf7a2027e45795b4",
            "placeholder": "​",
            "style": "IPY_MODEL_c53835bdd1324a7ebfef458d35dbead2",
            "value": " 125/125 [00:00&lt;00:00, 3.97kB/s]"
          }
        },
        "c4af8ed87cb34bc6837db64b42d834ab": {
          "model_module": "@jupyter-widgets/base",
          "model_name": "LayoutModel",
          "model_module_version": "1.2.0",
          "state": {
            "_model_module": "@jupyter-widgets/base",
            "_model_module_version": "1.2.0",
            "_model_name": "LayoutModel",
            "_view_count": null,
            "_view_module": "@jupyter-widgets/base",
            "_view_module_version": "1.2.0",
            "_view_name": "LayoutView",
            "align_content": null,
            "align_items": null,
            "align_self": null,
            "border": null,
            "bottom": null,
            "display": null,
            "flex": null,
            "flex_flow": null,
            "grid_area": null,
            "grid_auto_columns": null,
            "grid_auto_flow": null,
            "grid_auto_rows": null,
            "grid_column": null,
            "grid_gap": null,
            "grid_row": null,
            "grid_template_areas": null,
            "grid_template_columns": null,
            "grid_template_rows": null,
            "height": null,
            "justify_content": null,
            "justify_items": null,
            "left": null,
            "margin": null,
            "max_height": null,
            "max_width": null,
            "min_height": null,
            "min_width": null,
            "object_fit": null,
            "object_position": null,
            "order": null,
            "overflow": null,
            "overflow_x": null,
            "overflow_y": null,
            "padding": null,
            "right": null,
            "top": null,
            "visibility": null,
            "width": null
          }
        },
        "c4fd1ee493ba4aef89ea488e89869c08": {
          "model_module": "@jupyter-widgets/base",
          "model_name": "LayoutModel",
          "model_module_version": "1.2.0",
          "state": {
            "_model_module": "@jupyter-widgets/base",
            "_model_module_version": "1.2.0",
            "_model_name": "LayoutModel",
            "_view_count": null,
            "_view_module": "@jupyter-widgets/base",
            "_view_module_version": "1.2.0",
            "_view_name": "LayoutView",
            "align_content": null,
            "align_items": null,
            "align_self": null,
            "border": null,
            "bottom": null,
            "display": null,
            "flex": null,
            "flex_flow": null,
            "grid_area": null,
            "grid_auto_columns": null,
            "grid_auto_flow": null,
            "grid_auto_rows": null,
            "grid_column": null,
            "grid_gap": null,
            "grid_row": null,
            "grid_template_areas": null,
            "grid_template_columns": null,
            "grid_template_rows": null,
            "height": null,
            "justify_content": null,
            "justify_items": null,
            "left": null,
            "margin": null,
            "max_height": null,
            "max_width": null,
            "min_height": null,
            "min_width": null,
            "object_fit": null,
            "object_position": null,
            "order": null,
            "overflow": null,
            "overflow_x": null,
            "overflow_y": null,
            "padding": null,
            "right": null,
            "top": null,
            "visibility": null,
            "width": null
          }
        },
        "8be8f8716690451c8af2aacbb871b494": {
          "model_module": "@jupyter-widgets/controls",
          "model_name": "DescriptionStyleModel",
          "model_module_version": "1.5.0",
          "state": {
            "_model_module": "@jupyter-widgets/controls",
            "_model_module_version": "1.5.0",
            "_model_name": "DescriptionStyleModel",
            "_view_count": null,
            "_view_module": "@jupyter-widgets/base",
            "_view_module_version": "1.2.0",
            "_view_name": "StyleView",
            "description_width": ""
          }
        },
        "a5e31823ebeb4664a8742c1f98831d5a": {
          "model_module": "@jupyter-widgets/base",
          "model_name": "LayoutModel",
          "model_module_version": "1.2.0",
          "state": {
            "_model_module": "@jupyter-widgets/base",
            "_model_module_version": "1.2.0",
            "_model_name": "LayoutModel",
            "_view_count": null,
            "_view_module": "@jupyter-widgets/base",
            "_view_module_version": "1.2.0",
            "_view_name": "LayoutView",
            "align_content": null,
            "align_items": null,
            "align_self": null,
            "border": null,
            "bottom": null,
            "display": null,
            "flex": null,
            "flex_flow": null,
            "grid_area": null,
            "grid_auto_columns": null,
            "grid_auto_flow": null,
            "grid_auto_rows": null,
            "grid_column": null,
            "grid_gap": null,
            "grid_row": null,
            "grid_template_areas": null,
            "grid_template_columns": null,
            "grid_template_rows": null,
            "height": null,
            "justify_content": null,
            "justify_items": null,
            "left": null,
            "margin": null,
            "max_height": null,
            "max_width": null,
            "min_height": null,
            "min_width": null,
            "object_fit": null,
            "object_position": null,
            "order": null,
            "overflow": null,
            "overflow_x": null,
            "overflow_y": null,
            "padding": null,
            "right": null,
            "top": null,
            "visibility": null,
            "width": null
          }
        },
        "28d4cff6c64643d882de5a4df9f7086a": {
          "model_module": "@jupyter-widgets/controls",
          "model_name": "ProgressStyleModel",
          "model_module_version": "1.5.0",
          "state": {
            "_model_module": "@jupyter-widgets/controls",
            "_model_module_version": "1.5.0",
            "_model_name": "ProgressStyleModel",
            "_view_count": null,
            "_view_module": "@jupyter-widgets/base",
            "_view_module_version": "1.2.0",
            "_view_name": "StyleView",
            "bar_color": null,
            "description_width": ""
          }
        },
        "008a895d64ab411faf7a2027e45795b4": {
          "model_module": "@jupyter-widgets/base",
          "model_name": "LayoutModel",
          "model_module_version": "1.2.0",
          "state": {
            "_model_module": "@jupyter-widgets/base",
            "_model_module_version": "1.2.0",
            "_model_name": "LayoutModel",
            "_view_count": null,
            "_view_module": "@jupyter-widgets/base",
            "_view_module_version": "1.2.0",
            "_view_name": "LayoutView",
            "align_content": null,
            "align_items": null,
            "align_self": null,
            "border": null,
            "bottom": null,
            "display": null,
            "flex": null,
            "flex_flow": null,
            "grid_area": null,
            "grid_auto_columns": null,
            "grid_auto_flow": null,
            "grid_auto_rows": null,
            "grid_column": null,
            "grid_gap": null,
            "grid_row": null,
            "grid_template_areas": null,
            "grid_template_columns": null,
            "grid_template_rows": null,
            "height": null,
            "justify_content": null,
            "justify_items": null,
            "left": null,
            "margin": null,
            "max_height": null,
            "max_width": null,
            "min_height": null,
            "min_width": null,
            "object_fit": null,
            "object_position": null,
            "order": null,
            "overflow": null,
            "overflow_x": null,
            "overflow_y": null,
            "padding": null,
            "right": null,
            "top": null,
            "visibility": null,
            "width": null
          }
        },
        "c53835bdd1324a7ebfef458d35dbead2": {
          "model_module": "@jupyter-widgets/controls",
          "model_name": "DescriptionStyleModel",
          "model_module_version": "1.5.0",
          "state": {
            "_model_module": "@jupyter-widgets/controls",
            "_model_module_version": "1.5.0",
            "_model_name": "DescriptionStyleModel",
            "_view_count": null,
            "_view_module": "@jupyter-widgets/base",
            "_view_module_version": "1.2.0",
            "_view_name": "StyleView",
            "description_width": ""
          }
        }
      }
    }
  },
  "nbformat": 4,
  "nbformat_minor": 0
}