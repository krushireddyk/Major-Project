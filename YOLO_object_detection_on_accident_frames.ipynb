{
  "nbformat": 4,
  "nbformat_minor": 0,
  "metadata": {
    "colab": {
      "provenance": []
    },
    "kernelspec": {
      "name": "python3",
      "display_name": "Python 3"
    },
    "language_info": {
      "name": "python"
    },
    "widgets": {
      "application/vnd.jupyter.widget-state+json": {
        "420a519eca1f4da99eebee6b892fa960": {
          "model_module": "@jupyter-widgets/controls",
          "model_name": "HBoxModel",
          "model_module_version": "1.5.0",
          "state": {
            "_dom_classes": [],
            "_model_module": "@jupyter-widgets/controls",
            "_model_module_version": "1.5.0",
            "_model_name": "HBoxModel",
            "_view_count": null,
            "_view_module": "@jupyter-widgets/controls",
            "_view_module_version": "1.5.0",
            "_view_name": "HBoxView",
            "box_style": "",
            "children": [
              "IPY_MODEL_91d4b39dc90e4b8b80a1e4562125b6cb",
              "IPY_MODEL_69fca3852992435ea9cbf28de3e0a8af",
              "IPY_MODEL_3757c9eb35d046858889e7be0ba248b5"
            ],
            "layout": "IPY_MODEL_e75679d69b8f4ac6a9b7d9ab88907723"
          }
        },
        "91d4b39dc90e4b8b80a1e4562125b6cb": {
          "model_module": "@jupyter-widgets/controls",
          "model_name": "HTMLModel",
          "model_module_version": "1.5.0",
          "state": {
            "_dom_classes": [],
            "_model_module": "@jupyter-widgets/controls",
            "_model_module_version": "1.5.0",
            "_model_name": "HTMLModel",
            "_view_count": null,
            "_view_module": "@jupyter-widgets/controls",
            "_view_module_version": "1.5.0",
            "_view_name": "HTMLView",
            "description": "",
            "description_tooltip": null,
            "layout": "IPY_MODEL_2a77bc9b128548098e434a6c66b9384d",
            "placeholder": "​",
            "style": "IPY_MODEL_98d985beeb5d4848a9a09b5bb2138dce",
            "value": "config.json: 100%"
          }
        },
        "69fca3852992435ea9cbf28de3e0a8af": {
          "model_module": "@jupyter-widgets/controls",
          "model_name": "FloatProgressModel",
          "model_module_version": "1.5.0",
          "state": {
            "_dom_classes": [],
            "_model_module": "@jupyter-widgets/controls",
            "_model_module_version": "1.5.0",
            "_model_name": "FloatProgressModel",
            "_view_count": null,
            "_view_module": "@jupyter-widgets/controls",
            "_view_module_version": "1.5.0",
            "_view_name": "ProgressView",
            "bar_style": "success",
            "description": "",
            "description_tooltip": null,
            "layout": "IPY_MODEL_a84986348f7b4ca2b3f34e0333e40f1b",
            "max": 4133,
            "min": 0,
            "orientation": "horizontal",
            "style": "IPY_MODEL_aeee185f2e364c72b11ecd4fcc5fc9a9",
            "value": 4133
          }
        },
        "3757c9eb35d046858889e7be0ba248b5": {
          "model_module": "@jupyter-widgets/controls",
          "model_name": "HTMLModel",
          "model_module_version": "1.5.0",
          "state": {
            "_dom_classes": [],
            "_model_module": "@jupyter-widgets/controls",
            "_model_module_version": "1.5.0",
            "_model_name": "HTMLModel",
            "_view_count": null,
            "_view_module": "@jupyter-widgets/controls",
            "_view_module_version": "1.5.0",
            "_view_name": "HTMLView",
            "description": "",
            "description_tooltip": null,
            "layout": "IPY_MODEL_f941684a6910431cb96af6acab6afc70",
            "placeholder": "​",
            "style": "IPY_MODEL_b3b86478b2d74457a4446674a90602d0",
            "value": " 4.13k/4.13k [00:00&lt;00:00, 59.5kB/s]"
          }
        },
        "e75679d69b8f4ac6a9b7d9ab88907723": {
          "model_module": "@jupyter-widgets/base",
          "model_name": "LayoutModel",
          "model_module_version": "1.2.0",
          "state": {
            "_model_module": "@jupyter-widgets/base",
            "_model_module_version": "1.2.0",
            "_model_name": "LayoutModel",
            "_view_count": null,
            "_view_module": "@jupyter-widgets/base",
            "_view_module_version": "1.2.0",
            "_view_name": "LayoutView",
            "align_content": null,
            "align_items": null,
            "align_self": null,
            "border": null,
            "bottom": null,
            "display": null,
            "flex": null,
            "flex_flow": null,
            "grid_area": null,
            "grid_auto_columns": null,
            "grid_auto_flow": null,
            "grid_auto_rows": null,
            "grid_column": null,
            "grid_gap": null,
            "grid_row": null,
            "grid_template_areas": null,
            "grid_template_columns": null,
            "grid_template_rows": null,
            "height": null,
            "justify_content": null,
            "justify_items": null,
            "left": null,
            "margin": null,
            "max_height": null,
            "max_width": null,
            "min_height": null,
            "min_width": null,
            "object_fit": null,
            "object_position": null,
            "order": null,
            "overflow": null,
            "overflow_x": null,
            "overflow_y": null,
            "padding": null,
            "right": null,
            "top": null,
            "visibility": null,
            "width": null
          }
        },
        "2a77bc9b128548098e434a6c66b9384d": {
          "model_module": "@jupyter-widgets/base",
          "model_name": "LayoutModel",
          "model_module_version": "1.2.0",
          "state": {
            "_model_module": "@jupyter-widgets/base",
            "_model_module_version": "1.2.0",
            "_model_name": "LayoutModel",
            "_view_count": null,
            "_view_module": "@jupyter-widgets/base",
            "_view_module_version": "1.2.0",
            "_view_name": "LayoutView",
            "align_content": null,
            "align_items": null,
            "align_self": null,
            "border": null,
            "bottom": null,
            "display": null,
            "flex": null,
            "flex_flow": null,
            "grid_area": null,
            "grid_auto_columns": null,
            "grid_auto_flow": null,
            "grid_auto_rows": null,
            "grid_column": null,
            "grid_gap": null,
            "grid_row": null,
            "grid_template_areas": null,
            "grid_template_columns": null,
            "grid_template_rows": null,
            "height": null,
            "justify_content": null,
            "justify_items": null,
            "left": null,
            "margin": null,
            "max_height": null,
            "max_width": null,
            "min_height": null,
            "min_width": null,
            "object_fit": null,
            "object_position": null,
            "order": null,
            "overflow": null,
            "overflow_x": null,
            "overflow_y": null,
            "padding": null,
            "right": null,
            "top": null,
            "visibility": null,
            "width": null
          }
        },
        "98d985beeb5d4848a9a09b5bb2138dce": {
          "model_module": "@jupyter-widgets/controls",
          "model_name": "DescriptionStyleModel",
          "model_module_version": "1.5.0",
          "state": {
            "_model_module": "@jupyter-widgets/controls",
            "_model_module_version": "1.5.0",
            "_model_name": "DescriptionStyleModel",
            "_view_count": null,
            "_view_module": "@jupyter-widgets/base",
            "_view_module_version": "1.2.0",
            "_view_name": "StyleView",
            "description_width": ""
          }
        },
        "a84986348f7b4ca2b3f34e0333e40f1b": {
          "model_module": "@jupyter-widgets/base",
          "model_name": "LayoutModel",
          "model_module_version": "1.2.0",
          "state": {
            "_model_module": "@jupyter-widgets/base",
            "_model_module_version": "1.2.0",
            "_model_name": "LayoutModel",
            "_view_count": null,
            "_view_module": "@jupyter-widgets/base",
            "_view_module_version": "1.2.0",
            "_view_name": "LayoutView",
            "align_content": null,
            "align_items": null,
            "align_self": null,
            "border": null,
            "bottom": null,
            "display": null,
            "flex": null,
            "flex_flow": null,
            "grid_area": null,
            "grid_auto_columns": null,
            "grid_auto_flow": null,
            "grid_auto_rows": null,
            "grid_column": null,
            "grid_gap": null,
            "grid_row": null,
            "grid_template_areas": null,
            "grid_template_columns": null,
            "grid_template_rows": null,
            "height": null,
            "justify_content": null,
            "justify_items": null,
            "left": null,
            "margin": null,
            "max_height": null,
            "max_width": null,
            "min_height": null,
            "min_width": null,
            "object_fit": null,
            "object_position": null,
            "order": null,
            "overflow": null,
            "overflow_x": null,
            "overflow_y": null,
            "padding": null,
            "right": null,
            "top": null,
            "visibility": null,
            "width": null
          }
        },
        "aeee185f2e364c72b11ecd4fcc5fc9a9": {
          "model_module": "@jupyter-widgets/controls",
          "model_name": "ProgressStyleModel",
          "model_module_version": "1.5.0",
          "state": {
            "_model_module": "@jupyter-widgets/controls",
            "_model_module_version": "1.5.0",
            "_model_name": "ProgressStyleModel",
            "_view_count": null,
            "_view_module": "@jupyter-widgets/base",
            "_view_module_version": "1.2.0",
            "_view_name": "StyleView",
            "bar_color": null,
            "description_width": ""
          }
        },
        "f941684a6910431cb96af6acab6afc70": {
          "model_module": "@jupyter-widgets/base",
          "model_name": "LayoutModel",
          "model_module_version": "1.2.0",
          "state": {
            "_model_module": "@jupyter-widgets/base",
            "_model_module_version": "1.2.0",
            "_model_name": "LayoutModel",
            "_view_count": null,
            "_view_module": "@jupyter-widgets/base",
            "_view_module_version": "1.2.0",
            "_view_name": "LayoutView",
            "align_content": null,
            "align_items": null,
            "align_self": null,
            "border": null,
            "bottom": null,
            "display": null,
            "flex": null,
            "flex_flow": null,
            "grid_area": null,
            "grid_auto_columns": null,
            "grid_auto_flow": null,
            "grid_auto_rows": null,
            "grid_column": null,
            "grid_gap": null,
            "grid_row": null,
            "grid_template_areas": null,
            "grid_template_columns": null,
            "grid_template_rows": null,
            "height": null,
            "justify_content": null,
            "justify_items": null,
            "left": null,
            "margin": null,
            "max_height": null,
            "max_width": null,
            "min_height": null,
            "min_width": null,
            "object_fit": null,
            "object_position": null,
            "order": null,
            "overflow": null,
            "overflow_x": null,
            "overflow_y": null,
            "padding": null,
            "right": null,
            "top": null,
            "visibility": null,
            "width": null
          }
        },
        "b3b86478b2d74457a4446674a90602d0": {
          "model_module": "@jupyter-widgets/controls",
          "model_name": "DescriptionStyleModel",
          "model_module_version": "1.5.0",
          "state": {
            "_model_module": "@jupyter-widgets/controls",
            "_model_module_version": "1.5.0",
            "_model_name": "DescriptionStyleModel",
            "_view_count": null,
            "_view_module": "@jupyter-widgets/base",
            "_view_module_version": "1.2.0",
            "_view_name": "StyleView",
            "description_width": ""
          }
        },
        "ee39cf8dd78a4992982e214e0cae3098": {
          "model_module": "@jupyter-widgets/controls",
          "model_name": "HBoxModel",
          "model_module_version": "1.5.0",
          "state": {
            "_dom_classes": [],
            "_model_module": "@jupyter-widgets/controls",
            "_model_module_version": "1.5.0",
            "_model_name": "HBoxModel",
            "_view_count": null,
            "_view_module": "@jupyter-widgets/controls",
            "_view_module_version": "1.5.0",
            "_view_name": "HBoxView",
            "box_style": "",
            "children": [
              "IPY_MODEL_ccd1e106df554967a8f266b0cb95e6c2",
              "IPY_MODEL_a6cfdbd0ff4343869e96b16767e4ec59",
              "IPY_MODEL_4e5df29371b0427380a5b52f6ec84972"
            ],
            "layout": "IPY_MODEL_bb93df3b616945e88b09e0dd4b950b03"
          }
        },
        "ccd1e106df554967a8f266b0cb95e6c2": {
          "model_module": "@jupyter-widgets/controls",
          "model_name": "HTMLModel",
          "model_module_version": "1.5.0",
          "state": {
            "_dom_classes": [],
            "_model_module": "@jupyter-widgets/controls",
            "_model_module_version": "1.5.0",
            "_model_name": "HTMLModel",
            "_view_count": null,
            "_view_module": "@jupyter-widgets/controls",
            "_view_module_version": "1.5.0",
            "_view_name": "HTMLView",
            "description": "",
            "description_tooltip": null,
            "layout": "IPY_MODEL_18f8aba75ad54fa39241fe8c85aa4e95",
            "placeholder": "​",
            "style": "IPY_MODEL_598af9f6c0464ef0935245a6cf072a30",
            "value": "model.safetensors: 100%"
          }
        },
        "a6cfdbd0ff4343869e96b16767e4ec59": {
          "model_module": "@jupyter-widgets/controls",
          "model_name": "FloatProgressModel",
          "model_module_version": "1.5.0",
          "state": {
            "_dom_classes": [],
            "_model_module": "@jupyter-widgets/controls",
            "_model_module_version": "1.5.0",
            "_model_name": "FloatProgressModel",
            "_view_count": null,
            "_view_module": "@jupyter-widgets/controls",
            "_view_module_version": "1.5.0",
            "_view_name": "ProgressView",
            "bar_style": "success",
            "description": "",
            "description_tooltip": null,
            "layout": "IPY_MODEL_9128a101e7ff48a58273c301b9281ac8",
            "max": 25978888,
            "min": 0,
            "orientation": "horizontal",
            "style": "IPY_MODEL_f42b1e96c06c42b1a308cedcab037856",
            "value": 25978888
          }
        },
        "4e5df29371b0427380a5b52f6ec84972": {
          "model_module": "@jupyter-widgets/controls",
          "model_name": "HTMLModel",
          "model_module_version": "1.5.0",
          "state": {
            "_dom_classes": [],
            "_model_module": "@jupyter-widgets/controls",
            "_model_module_version": "1.5.0",
            "_model_name": "HTMLModel",
            "_view_count": null,
            "_view_module": "@jupyter-widgets/controls",
            "_view_module_version": "1.5.0",
            "_view_name": "HTMLView",
            "description": "",
            "description_tooltip": null,
            "layout": "IPY_MODEL_5620f155d1b14552a903fc74a5d8e6de",
            "placeholder": "​",
            "style": "IPY_MODEL_5877e89231864e198ea2184ec553805d",
            "value": " 26.0M/26.0M [00:00&lt;00:00, 30.9MB/s]"
          }
        },
        "bb93df3b616945e88b09e0dd4b950b03": {
          "model_module": "@jupyter-widgets/base",
          "model_name": "LayoutModel",
          "model_module_version": "1.2.0",
          "state": {
            "_model_module": "@jupyter-widgets/base",
            "_model_module_version": "1.2.0",
            "_model_name": "LayoutModel",
            "_view_count": null,
            "_view_module": "@jupyter-widgets/base",
            "_view_module_version": "1.2.0",
            "_view_name": "LayoutView",
            "align_content": null,
            "align_items": null,
            "align_self": null,
            "border": null,
            "bottom": null,
            "display": null,
            "flex": null,
            "flex_flow": null,
            "grid_area": null,
            "grid_auto_columns": null,
            "grid_auto_flow": null,
            "grid_auto_rows": null,
            "grid_column": null,
            "grid_gap": null,
            "grid_row": null,
            "grid_template_areas": null,
            "grid_template_columns": null,
            "grid_template_rows": null,
            "height": null,
            "justify_content": null,
            "justify_items": null,
            "left": null,
            "margin": null,
            "max_height": null,
            "max_width": null,
            "min_height": null,
            "min_width": null,
            "object_fit": null,
            "object_position": null,
            "order": null,
            "overflow": null,
            "overflow_x": null,
            "overflow_y": null,
            "padding": null,
            "right": null,
            "top": null,
            "visibility": null,
            "width": null
          }
        },
        "18f8aba75ad54fa39241fe8c85aa4e95": {
          "model_module": "@jupyter-widgets/base",
          "model_name": "LayoutModel",
          "model_module_version": "1.2.0",
          "state": {
            "_model_module": "@jupyter-widgets/base",
            "_model_module_version": "1.2.0",
            "_model_name": "LayoutModel",
            "_view_count": null,
            "_view_module": "@jupyter-widgets/base",
            "_view_module_version": "1.2.0",
            "_view_name": "LayoutView",
            "align_content": null,
            "align_items": null,
            "align_self": null,
            "border": null,
            "bottom": null,
            "display": null,
            "flex": null,
            "flex_flow": null,
            "grid_area": null,
            "grid_auto_columns": null,
            "grid_auto_flow": null,
            "grid_auto_rows": null,
            "grid_column": null,
            "grid_gap": null,
            "grid_row": null,
            "grid_template_areas": null,
            "grid_template_columns": null,
            "grid_template_rows": null,
            "height": null,
            "justify_content": null,
            "justify_items": null,
            "left": null,
            "margin": null,
            "max_height": null,
            "max_width": null,
            "min_height": null,
            "min_width": null,
            "object_fit": null,
            "object_position": null,
            "order": null,
            "overflow": null,
            "overflow_x": null,
            "overflow_y": null,
            "padding": null,
            "right": null,
            "top": null,
            "visibility": null,
            "width": null
          }
        },
        "598af9f6c0464ef0935245a6cf072a30": {
          "model_module": "@jupyter-widgets/controls",
          "model_name": "DescriptionStyleModel",
          "model_module_version": "1.5.0",
          "state": {
            "_model_module": "@jupyter-widgets/controls",
            "_model_module_version": "1.5.0",
            "_model_name": "DescriptionStyleModel",
            "_view_count": null,
            "_view_module": "@jupyter-widgets/base",
            "_view_module_version": "1.2.0",
            "_view_name": "StyleView",
            "description_width": ""
          }
        },
        "9128a101e7ff48a58273c301b9281ac8": {
          "model_module": "@jupyter-widgets/base",
          "model_name": "LayoutModel",
          "model_module_version": "1.2.0",
          "state": {
            "_model_module": "@jupyter-widgets/base",
            "_model_module_version": "1.2.0",
            "_model_name": "LayoutModel",
            "_view_count": null,
            "_view_module": "@jupyter-widgets/base",
            "_view_module_version": "1.2.0",
            "_view_name": "LayoutView",
            "align_content": null,
            "align_items": null,
            "align_self": null,
            "border": null,
            "bottom": null,
            "display": null,
            "flex": null,
            "flex_flow": null,
            "grid_area": null,
            "grid_auto_columns": null,
            "grid_auto_flow": null,
            "grid_auto_rows": null,
            "grid_column": null,
            "grid_gap": null,
            "grid_row": null,
            "grid_template_areas": null,
            "grid_template_columns": null,
            "grid_template_rows": null,
            "height": null,
            "justify_content": null,
            "justify_items": null,
            "left": null,
            "margin": null,
            "max_height": null,
            "max_width": null,
            "min_height": null,
            "min_width": null,
            "object_fit": null,
            "object_position": null,
            "order": null,
            "overflow": null,
            "overflow_x": null,
            "overflow_y": null,
            "padding": null,
            "right": null,
            "top": null,
            "visibility": null,
            "width": null
          }
        },
        "f42b1e96c06c42b1a308cedcab037856": {
          "model_module": "@jupyter-widgets/controls",
          "model_name": "ProgressStyleModel",
          "model_module_version": "1.5.0",
          "state": {
            "_model_module": "@jupyter-widgets/controls",
            "_model_module_version": "1.5.0",
            "_model_name": "ProgressStyleModel",
            "_view_count": null,
            "_view_module": "@jupyter-widgets/base",
            "_view_module_version": "1.2.0",
            "_view_name": "StyleView",
            "bar_color": null,
            "description_width": ""
          }
        },
        "5620f155d1b14552a903fc74a5d8e6de": {
          "model_module": "@jupyter-widgets/base",
          "model_name": "LayoutModel",
          "model_module_version": "1.2.0",
          "state": {
            "_model_module": "@jupyter-widgets/base",
            "_model_module_version": "1.2.0",
            "_model_name": "LayoutModel",
            "_view_count": null,
            "_view_module": "@jupyter-widgets/base",
            "_view_module_version": "1.2.0",
            "_view_name": "LayoutView",
            "align_content": null,
            "align_items": null,
            "align_self": null,
            "border": null,
            "bottom": null,
            "display": null,
            "flex": null,
            "flex_flow": null,
            "grid_area": null,
            "grid_auto_columns": null,
            "grid_auto_flow": null,
            "grid_auto_rows": null,
            "grid_column": null,
            "grid_gap": null,
            "grid_row": null,
            "grid_template_areas": null,
            "grid_template_columns": null,
            "grid_template_rows": null,
            "height": null,
            "justify_content": null,
            "justify_items": null,
            "left": null,
            "margin": null,
            "max_height": null,
            "max_width": null,
            "min_height": null,
            "min_width": null,
            "object_fit": null,
            "object_position": null,
            "order": null,
            "overflow": null,
            "overflow_x": null,
            "overflow_y": null,
            "padding": null,
            "right": null,
            "top": null,
            "visibility": null,
            "width": null
          }
        },
        "5877e89231864e198ea2184ec553805d": {
          "model_module": "@jupyter-widgets/controls",
          "model_name": "DescriptionStyleModel",
          "model_module_version": "1.5.0",
          "state": {
            "_model_module": "@jupyter-widgets/controls",
            "_model_module_version": "1.5.0",
            "_model_name": "DescriptionStyleModel",
            "_view_count": null,
            "_view_module": "@jupyter-widgets/base",
            "_view_module_version": "1.2.0",
            "_view_name": "StyleView",
            "description_width": ""
          }
        },
        "0b4a0e65e3a04cf7abbfa2c55c611055": {
          "model_module": "@jupyter-widgets/controls",
          "model_name": "HBoxModel",
          "model_module_version": "1.5.0",
          "state": {
            "_dom_classes": [],
            "_model_module": "@jupyter-widgets/controls",
            "_model_module_version": "1.5.0",
            "_model_name": "HBoxModel",
            "_view_count": null,
            "_view_module": "@jupyter-widgets/controls",
            "_view_module_version": "1.5.0",
            "_view_name": "HBoxView",
            "box_style": "",
            "children": [
              "IPY_MODEL_c5f2b9c96e7d4c149fc218921c8cb816",
              "IPY_MODEL_6271379c81cf491eb928be3a9c1e0409",
              "IPY_MODEL_d5d07522e7014e83ac086c8c543b326e"
            ],
            "layout": "IPY_MODEL_cc1b0b2ce13f4129ac38cf09ce612721"
          }
        },
        "c5f2b9c96e7d4c149fc218921c8cb816": {
          "model_module": "@jupyter-widgets/controls",
          "model_name": "HTMLModel",
          "model_module_version": "1.5.0",
          "state": {
            "_dom_classes": [],
            "_model_module": "@jupyter-widgets/controls",
            "_model_module_version": "1.5.0",
            "_model_name": "HTMLModel",
            "_view_count": null,
            "_view_module": "@jupyter-widgets/controls",
            "_view_module_version": "1.5.0",
            "_view_name": "HTMLView",
            "description": "",
            "description_tooltip": null,
            "layout": "IPY_MODEL_c16e32b7250843c78e2164fce71b1a54",
            "placeholder": "​",
            "style": "IPY_MODEL_8f26bf2c29614a008cb40f3f1b6a8cc8",
            "value": "preprocessor_config.json: 100%"
          }
        },
        "6271379c81cf491eb928be3a9c1e0409": {
          "model_module": "@jupyter-widgets/controls",
          "model_name": "FloatProgressModel",
          "model_module_version": "1.5.0",
          "state": {
            "_dom_classes": [],
            "_model_module": "@jupyter-widgets/controls",
            "_model_module_version": "1.5.0",
            "_model_name": "FloatProgressModel",
            "_view_count": null,
            "_view_module": "@jupyter-widgets/controls",
            "_view_module_version": "1.5.0",
            "_view_name": "ProgressView",
            "bar_style": "success",
            "description": "",
            "description_tooltip": null,
            "layout": "IPY_MODEL_4cc03db6919c43d4aa8c072e886cd14a",
            "max": 275,
            "min": 0,
            "orientation": "horizontal",
            "style": "IPY_MODEL_693d406e3cc84f1dbee978ef8959478b",
            "value": 275
          }
        },
        "d5d07522e7014e83ac086c8c543b326e": {
          "model_module": "@jupyter-widgets/controls",
          "model_name": "HTMLModel",
          "model_module_version": "1.5.0",
          "state": {
            "_dom_classes": [],
            "_model_module": "@jupyter-widgets/controls",
            "_model_module_version": "1.5.0",
            "_model_name": "HTMLModel",
            "_view_count": null,
            "_view_module": "@jupyter-widgets/controls",
            "_view_module_version": "1.5.0",
            "_view_name": "HTMLView",
            "description": "",
            "description_tooltip": null,
            "layout": "IPY_MODEL_39ad3d5340344d638f58833157bb5698",
            "placeholder": "​",
            "style": "IPY_MODEL_f8b67c3405094e5fb1eca107d14ba2a3",
            "value": " 275/275 [00:00&lt;00:00, 3.31kB/s]"
          }
        },
        "cc1b0b2ce13f4129ac38cf09ce612721": {
          "model_module": "@jupyter-widgets/base",
          "model_name": "LayoutModel",
          "model_module_version": "1.2.0",
          "state": {
            "_model_module": "@jupyter-widgets/base",
            "_model_module_version": "1.2.0",
            "_model_name": "LayoutModel",
            "_view_count": null,
            "_view_module": "@jupyter-widgets/base",
            "_view_module_version": "1.2.0",
            "_view_name": "LayoutView",
            "align_content": null,
            "align_items": null,
            "align_self": null,
            "border": null,
            "bottom": null,
            "display": null,
            "flex": null,
            "flex_flow": null,
            "grid_area": null,
            "grid_auto_columns": null,
            "grid_auto_flow": null,
            "grid_auto_rows": null,
            "grid_column": null,
            "grid_gap": null,
            "grid_row": null,
            "grid_template_areas": null,
            "grid_template_columns": null,
            "grid_template_rows": null,
            "height": null,
            "justify_content": null,
            "justify_items": null,
            "left": null,
            "margin": null,
            "max_height": null,
            "max_width": null,
            "min_height": null,
            "min_width": null,
            "object_fit": null,
            "object_position": null,
            "order": null,
            "overflow": null,
            "overflow_x": null,
            "overflow_y": null,
            "padding": null,
            "right": null,
            "top": null,
            "visibility": null,
            "width": null
          }
        },
        "c16e32b7250843c78e2164fce71b1a54": {
          "model_module": "@jupyter-widgets/base",
          "model_name": "LayoutModel",
          "model_module_version": "1.2.0",
          "state": {
            "_model_module": "@jupyter-widgets/base",
            "_model_module_version": "1.2.0",
            "_model_name": "LayoutModel",
            "_view_count": null,
            "_view_module": "@jupyter-widgets/base",
            "_view_module_version": "1.2.0",
            "_view_name": "LayoutView",
            "align_content": null,
            "align_items": null,
            "align_self": null,
            "border": null,
            "bottom": null,
            "display": null,
            "flex": null,
            "flex_flow": null,
            "grid_area": null,
            "grid_auto_columns": null,
            "grid_auto_flow": null,
            "grid_auto_rows": null,
            "grid_column": null,
            "grid_gap": null,
            "grid_row": null,
            "grid_template_areas": null,
            "grid_template_columns": null,
            "grid_template_rows": null,
            "height": null,
            "justify_content": null,
            "justify_items": null,
            "left": null,
            "margin": null,
            "max_height": null,
            "max_width": null,
            "min_height": null,
            "min_width": null,
            "object_fit": null,
            "object_position": null,
            "order": null,
            "overflow": null,
            "overflow_x": null,
            "overflow_y": null,
            "padding": null,
            "right": null,
            "top": null,
            "visibility": null,
            "width": null
          }
        },
        "8f26bf2c29614a008cb40f3f1b6a8cc8": {
          "model_module": "@jupyter-widgets/controls",
          "model_name": "DescriptionStyleModel",
          "model_module_version": "1.5.0",
          "state": {
            "_model_module": "@jupyter-widgets/controls",
            "_model_module_version": "1.5.0",
            "_model_name": "DescriptionStyleModel",
            "_view_count": null,
            "_view_module": "@jupyter-widgets/base",
            "_view_module_version": "1.2.0",
            "_view_name": "StyleView",
            "description_width": ""
          }
        },
        "4cc03db6919c43d4aa8c072e886cd14a": {
          "model_module": "@jupyter-widgets/base",
          "model_name": "LayoutModel",
          "model_module_version": "1.2.0",
          "state": {
            "_model_module": "@jupyter-widgets/base",
            "_model_module_version": "1.2.0",
            "_model_name": "LayoutModel",
            "_view_count": null,
            "_view_module": "@jupyter-widgets/base",
            "_view_module_version": "1.2.0",
            "_view_name": "LayoutView",
            "align_content": null,
            "align_items": null,
            "align_self": null,
            "border": null,
            "bottom": null,
            "display": null,
            "flex": null,
            "flex_flow": null,
            "grid_area": null,
            "grid_auto_columns": null,
            "grid_auto_flow": null,
            "grid_auto_rows": null,
            "grid_column": null,
            "grid_gap": null,
            "grid_row": null,
            "grid_template_areas": null,
            "grid_template_columns": null,
            "grid_template_rows": null,
            "height": null,
            "justify_content": null,
            "justify_items": null,
            "left": null,
            "margin": null,
            "max_height": null,
            "max_width": null,
            "min_height": null,
            "min_width": null,
            "object_fit": null,
            "object_position": null,
            "order": null,
            "overflow": null,
            "overflow_x": null,
            "overflow_y": null,
            "padding": null,
            "right": null,
            "top": null,
            "visibility": null,
            "width": null
          }
        },
        "693d406e3cc84f1dbee978ef8959478b": {
          "model_module": "@jupyter-widgets/controls",
          "model_name": "ProgressStyleModel",
          "model_module_version": "1.5.0",
          "state": {
            "_model_module": "@jupyter-widgets/controls",
            "_model_module_version": "1.5.0",
            "_model_name": "ProgressStyleModel",
            "_view_count": null,
            "_view_module": "@jupyter-widgets/base",
            "_view_module_version": "1.2.0",
            "_view_name": "StyleView",
            "bar_color": null,
            "description_width": ""
          }
        },
        "39ad3d5340344d638f58833157bb5698": {
          "model_module": "@jupyter-widgets/base",
          "model_name": "LayoutModel",
          "model_module_version": "1.2.0",
          "state": {
            "_model_module": "@jupyter-widgets/base",
            "_model_module_version": "1.2.0",
            "_model_name": "LayoutModel",
            "_view_count": null,
            "_view_module": "@jupyter-widgets/base",
            "_view_module_version": "1.2.0",
            "_view_name": "LayoutView",
            "align_content": null,
            "align_items": null,
            "align_self": null,
            "border": null,
            "bottom": null,
            "display": null,
            "flex": null,
            "flex_flow": null,
            "grid_area": null,
            "grid_auto_columns": null,
            "grid_auto_flow": null,
            "grid_auto_rows": null,
            "grid_column": null,
            "grid_gap": null,
            "grid_row": null,
            "grid_template_areas": null,
            "grid_template_columns": null,
            "grid_template_rows": null,
            "height": null,
            "justify_content": null,
            "justify_items": null,
            "left": null,
            "margin": null,
            "max_height": null,
            "max_width": null,
            "min_height": null,
            "min_width": null,
            "object_fit": null,
            "object_position": null,
            "order": null,
            "overflow": null,
            "overflow_x": null,
            "overflow_y": null,
            "padding": null,
            "right": null,
            "top": null,
            "visibility": null,
            "width": null
          }
        },
        "f8b67c3405094e5fb1eca107d14ba2a3": {
          "model_module": "@jupyter-widgets/controls",
          "model_name": "DescriptionStyleModel",
          "model_module_version": "1.5.0",
          "state": {
            "_model_module": "@jupyter-widgets/controls",
            "_model_module_version": "1.5.0",
            "_model_name": "DescriptionStyleModel",
            "_view_count": null,
            "_view_module": "@jupyter-widgets/base",
            "_view_module_version": "1.2.0",
            "_view_name": "StyleView",
            "description_width": ""
          }
        }
      }
    }
  },
  "cells": [
    {
      "cell_type": "code",
      "execution_count": null,
      "metadata": {
        "colab": {
          "base_uri": "https://localhost:8080/"
        },
        "id": "ckVN0Svtm7kd",
        "outputId": "fb9ac984-c08c-4fad-d30f-4b7b7f987a98"
      },
      "outputs": [
        {
          "output_type": "stream",
          "name": "stdout",
          "text": [
            "Requirement already satisfied: transformers in /usr/local/lib/python3.10/dist-packages (4.35.2)\n",
            "Requirement already satisfied: filelock in /usr/local/lib/python3.10/dist-packages (from transformers) (3.13.1)\n",
            "Requirement already satisfied: huggingface-hub<1.0,>=0.16.4 in /usr/local/lib/python3.10/dist-packages (from transformers) (0.19.3)\n",
            "Requirement already satisfied: numpy>=1.17 in /usr/local/lib/python3.10/dist-packages (from transformers) (1.23.5)\n",
            "Requirement already satisfied: packaging>=20.0 in /usr/local/lib/python3.10/dist-packages (from transformers) (23.2)\n",
            "Requirement already satisfied: pyyaml>=5.1 in /usr/local/lib/python3.10/dist-packages (from transformers) (6.0.1)\n",
            "Requirement already satisfied: regex!=2019.12.17 in /usr/local/lib/python3.10/dist-packages (from transformers) (2023.6.3)\n",
            "Requirement already satisfied: requests in /usr/local/lib/python3.10/dist-packages (from transformers) (2.31.0)\n",
            "Requirement already satisfied: tokenizers<0.19,>=0.14 in /usr/local/lib/python3.10/dist-packages (from transformers) (0.15.0)\n",
            "Requirement already satisfied: safetensors>=0.3.1 in /usr/local/lib/python3.10/dist-packages (from transformers) (0.4.0)\n",
            "Requirement already satisfied: tqdm>=4.27 in /usr/local/lib/python3.10/dist-packages (from transformers) (4.66.1)\n",
            "Requirement already satisfied: fsspec>=2023.5.0 in /usr/local/lib/python3.10/dist-packages (from huggingface-hub<1.0,>=0.16.4->transformers) (2023.6.0)\n",
            "Requirement already satisfied: typing-extensions>=3.7.4.3 in /usr/local/lib/python3.10/dist-packages (from huggingface-hub<1.0,>=0.16.4->transformers) (4.5.0)\n",
            "Requirement already satisfied: charset-normalizer<4,>=2 in /usr/local/lib/python3.10/dist-packages (from requests->transformers) (3.3.2)\n",
            "Requirement already satisfied: idna<4,>=2.5 in /usr/local/lib/python3.10/dist-packages (from requests->transformers) (3.4)\n",
            "Requirement already satisfied: urllib3<3,>=1.21.1 in /usr/local/lib/python3.10/dist-packages (from requests->transformers) (2.0.7)\n",
            "Requirement already satisfied: certifi>=2017.4.17 in /usr/local/lib/python3.10/dist-packages (from requests->transformers) (2023.7.22)\n"
          ]
        }
      ],
      "source": [
        "!pip install transformers"
      ]
    },
    {
      "cell_type": "code",
      "source": [
        "import os\n",
        "import cv2\n",
        "from tqdm import tqdm\n",
        "from google.colab.patches import cv2_imshow\n",
        "import requests\n",
        "from PIL import Image, ImageDraw, ImageFont\n",
        "import numpy as np\n",
        "from transformers import YolosImageProcessor, YolosForObjectDetection\n",
        "from PIL import Image\n",
        "import torch\n",
        "import requests"
      ],
      "metadata": {
        "id": "9KMFdGkonAlj"
      },
      "execution_count": null,
      "outputs": []
    },
    {
      "cell_type": "code",
      "source": [
        "model = YolosForObjectDetection.from_pretrained('hustvl/yolos-tiny')\n",
        "image_processor = YolosImageProcessor.from_pretrained(\"hustvl/yolos-tiny\")"
      ],
      "metadata": {
        "colab": {
          "base_uri": "https://localhost:8080/",
          "height": 151,
          "referenced_widgets": [
            "420a519eca1f4da99eebee6b892fa960",
            "91d4b39dc90e4b8b80a1e4562125b6cb",
            "69fca3852992435ea9cbf28de3e0a8af",
            "3757c9eb35d046858889e7be0ba248b5",
            "e75679d69b8f4ac6a9b7d9ab88907723",
            "2a77bc9b128548098e434a6c66b9384d",
            "98d985beeb5d4848a9a09b5bb2138dce",
            "a84986348f7b4ca2b3f34e0333e40f1b",
            "aeee185f2e364c72b11ecd4fcc5fc9a9",
            "f941684a6910431cb96af6acab6afc70",
            "b3b86478b2d74457a4446674a90602d0",
            "ee39cf8dd78a4992982e214e0cae3098",
            "ccd1e106df554967a8f266b0cb95e6c2",
            "a6cfdbd0ff4343869e96b16767e4ec59",
            "4e5df29371b0427380a5b52f6ec84972",
            "bb93df3b616945e88b09e0dd4b950b03",
            "18f8aba75ad54fa39241fe8c85aa4e95",
            "598af9f6c0464ef0935245a6cf072a30",
            "9128a101e7ff48a58273c301b9281ac8",
            "f42b1e96c06c42b1a308cedcab037856",
            "5620f155d1b14552a903fc74a5d8e6de",
            "5877e89231864e198ea2184ec553805d",
            "0b4a0e65e3a04cf7abbfa2c55c611055",
            "c5f2b9c96e7d4c149fc218921c8cb816",
            "6271379c81cf491eb928be3a9c1e0409",
            "d5d07522e7014e83ac086c8c543b326e",
            "cc1b0b2ce13f4129ac38cf09ce612721",
            "c16e32b7250843c78e2164fce71b1a54",
            "8f26bf2c29614a008cb40f3f1b6a8cc8",
            "4cc03db6919c43d4aa8c072e886cd14a",
            "693d406e3cc84f1dbee978ef8959478b",
            "39ad3d5340344d638f58833157bb5698",
            "f8b67c3405094e5fb1eca107d14ba2a3"
          ]
        },
        "id": "kmMTLD-fnMMh",
        "outputId": "975a997d-6e38-4552-cee9-7e8b3b35a7eb"
      },
      "execution_count": null,
      "outputs": [
        {
          "output_type": "display_data",
          "data": {
            "text/plain": [
              "config.json:   0%|          | 0.00/4.13k [00:00<?, ?B/s]"
            ],
            "application/vnd.jupyter.widget-view+json": {
              "version_major": 2,
              "version_minor": 0,
              "model_id": "420a519eca1f4da99eebee6b892fa960"
            }
          },
          "metadata": {}
        },
        {
          "output_type": "display_data",
          "data": {
            "text/plain": [
              "model.safetensors:   0%|          | 0.00/26.0M [00:00<?, ?B/s]"
            ],
            "application/vnd.jupyter.widget-view+json": {
              "version_major": 2,
              "version_minor": 0,
              "model_id": "ee39cf8dd78a4992982e214e0cae3098"
            }
          },
          "metadata": {}
        },
        {
          "output_type": "display_data",
          "data": {
            "text/plain": [
              "preprocessor_config.json:   0%|          | 0.00/275 [00:00<?, ?B/s]"
            ],
            "application/vnd.jupyter.widget-view+json": {
              "version_major": 2,
              "version_minor": 0,
              "model_id": "0b4a0e65e3a04cf7abbfa2c55c611055"
            }
          },
          "metadata": {}
        },
        {
          "output_type": "stream",
          "name": "stderr",
          "text": [
            "The `max_size` parameter is deprecated and will be removed in v4.26. Please specify in `size['longest_edge'] instead`.\n"
          ]
        }
      ]
    },
    {
      "cell_type": "code",
      "source": [
        "!rm -rf YOLO_bounding_box_images\n",
        "!rm -rf YOLO_output"
      ],
      "metadata": {
        "id": "h-3aRVUD2HOE"
      },
      "execution_count": null,
      "outputs": []
    },
    {
      "cell_type": "code",
      "source": [
        "!mkdir YOLO_bounding_box_images\n",
        "!mkdir YOLO_output"
      ],
      "metadata": {
        "id": "9VZkaGtEoO1K",
        "colab": {
          "base_uri": "https://localhost:8080/"
        },
        "outputId": "34ef87f6-4795-46a2-d2ea-8b8f08326a80"
      },
      "execution_count": null,
      "outputs": [
        {
          "output_type": "stream",
          "name": "stdout",
          "text": [
            "mkdir: cannot create directory ‘YOLO_bounding_box_images’: File exists\n"
          ]
        }
      ]
    },
    {
      "cell_type": "code",
      "source": [
        "!unzip accident_frames.zip"
      ],
      "metadata": {
        "colab": {
          "base_uri": "https://localhost:8080/"
        },
        "id": "wSYtZ8kuveJw",
        "outputId": "20ecc9e0-86b5-4a97-b2e6-c75d1db2433b"
      },
      "execution_count": null,
      "outputs": [
        {
          "output_type": "stream",
          "name": "stdout",
          "text": [
            "Archive:  accident_frames.zip\n",
            "   creating: accident_frames/\n",
            "   creating: accident_frames/CLIP_183/\n",
            "  inflating: __MACOSX/accident_frames/._CLIP_183  \n",
            "   creating: accident_frames/CLIP_43/\n",
            "  inflating: __MACOSX/accident_frames/._CLIP_43  \n",
            "   creating: accident_frames/CLIP_88/\n",
            "  inflating: __MACOSX/accident_frames/._CLIP_88  \n",
            "   creating: accident_frames/CLIP_28/\n",
            "  inflating: __MACOSX/accident_frames/._CLIP_28  \n",
            "   creating: accident_frames/CLIP_311/\n",
            "  inflating: __MACOSX/accident_frames/._CLIP_311  \n",
            "   creating: accident_frames/CLIP_19/\n",
            "  inflating: __MACOSX/accident_frames/._CLIP_19  \n",
            "   creating: accident_frames/CLIP_124/\n",
            "  inflating: __MACOSX/accident_frames/._CLIP_124  \n",
            "   creating: accident_frames/CLIP_26/\n",
            "  inflating: __MACOSX/accident_frames/._CLIP_26  \n",
            "   creating: accident_frames/CLIP_89/\n",
            "  inflating: __MACOSX/accident_frames/._CLIP_89  \n",
            "   creating: accident_frames/CLIP_20/\n",
            "  inflating: __MACOSX/accident_frames/._CLIP_20  \n",
            "   creating: accident_frames/CLIP_298/\n",
            "  inflating: __MACOSX/accident_frames/._CLIP_298  \n",
            "  inflating: accident_frames/.DS_Store  \n",
            "  inflating: __MACOSX/accident_frames/._.DS_Store  \n",
            "   creating: accident_frames/CLIP_264/\n",
            "  inflating: __MACOSX/accident_frames/._CLIP_264  \n",
            "   creating: accident_frames/CLIP_5/\n",
            "  inflating: __MACOSX/accident_frames/._CLIP_5  \n",
            "   creating: accident_frames/CLIP_252/\n",
            "  inflating: __MACOSX/accident_frames/._CLIP_252  \n",
            "   creating: accident_frames/CLIP_201/\n",
            "  inflating: __MACOSX/accident_frames/._CLIP_201  \n",
            "   creating: accident_frames/CLIP_208/\n",
            "  inflating: __MACOSX/accident_frames/._CLIP_208  \n",
            "   creating: accident_frames/CLIP_283/\n",
            "  inflating: __MACOSX/accident_frames/._CLIP_283  \n",
            "   creating: accident_frames/CLIP_247/\n",
            "  inflating: __MACOSX/accident_frames/._CLIP_247  \n",
            "   creating: accident_frames/CLIP_304/\n",
            "  inflating: __MACOSX/accident_frames/._CLIP_304  \n",
            "   creating: accident_frames/CLIP_198/\n",
            "  inflating: __MACOSX/accident_frames/._CLIP_198  \n",
            "   creating: accident_frames/CLIP_165/\n",
            "  inflating: __MACOSX/accident_frames/._CLIP_165  \n",
            "   creating: accident_frames/CLIP_58/\n",
            "  inflating: __MACOSX/accident_frames/._CLIP_58  \n",
            "   creating: accident_frames/CLIP_66/\n",
            "  inflating: __MACOSX/accident_frames/._CLIP_66  \n",
            "   creating: accident_frames/CLIP_95/\n",
            "  inflating: __MACOSX/accident_frames/._CLIP_95  \n",
            "   creating: accident_frames/CLIP_152/\n",
            "  inflating: __MACOSX/accident_frames/._CLIP_152  \n",
            "   creating: accident_frames/CLIP_199/\n",
            "  inflating: __MACOSX/accident_frames/._CLIP_199  \n",
            "   creating: accident_frames/CLIP_324/\n",
            "  inflating: __MACOSX/accident_frames/._CLIP_324  \n",
            "   creating: accident_frames/CLIP_116/\n",
            "  inflating: __MACOSX/accident_frames/._CLIP_116  \n",
            "   creating: accident_frames/CLIP_127/\n",
            "  inflating: __MACOSX/accident_frames/._CLIP_127  \n",
            "   creating: accident_frames/CLIP_315/\n",
            "  inflating: __MACOSX/accident_frames/._CLIP_315  \n",
            "   creating: accident_frames/CLIP_312/\n",
            "  inflating: __MACOSX/accident_frames/._CLIP_312  \n",
            "   creating: accident_frames/CLIP_85/\n",
            "  inflating: __MACOSX/accident_frames/._CLIP_85  \n",
            "   creating: accident_frames/CLIP_40/\n",
            "  inflating: __MACOSX/accident_frames/._CLIP_40  \n",
            "   creating: accident_frames/CLIP_322/\n",
            "  inflating: __MACOSX/accident_frames/._CLIP_322  \n",
            "   creating: accident_frames/CLIP_84/\n",
            "  inflating: __MACOSX/accident_frames/._CLIP_84  \n",
            "   creating: accident_frames/CLIP_83/\n",
            "  inflating: __MACOSX/accident_frames/._CLIP_83  \n",
            "   creating: accident_frames/CLIP_9/\n",
            "  inflating: __MACOSX/accident_frames/._CLIP_9  \n",
            "   creating: accident_frames/CLIP_261/\n",
            "  inflating: __MACOSX/accident_frames/._CLIP_261  \n",
            "   creating: accident_frames/CLIP_289/\n",
            "  inflating: __MACOSX/accident_frames/._CLIP_289  \n",
            "   creating: accident_frames/CLIP_243/\n",
            "  inflating: __MACOSX/accident_frames/._CLIP_243  \n",
            "   creating: accident_frames/CLIP_226/\n",
            "  inflating: __MACOSX/accident_frames/._CLIP_226  \n",
            "   creating: accident_frames/CLIP_168/\n",
            "  inflating: __MACOSX/accident_frames/._CLIP_168  \n",
            "   creating: accident_frames/CLIP_150/\n",
            "  inflating: __MACOSX/accident_frames/._CLIP_150  \n",
            "   creating: accident_frames/CLIP_52/\n",
            "  inflating: __MACOSX/accident_frames/._CLIP_52  \n",
            "   creating: accident_frames/CLIP_37/\n",
            "  inflating: __MACOSX/accident_frames/._CLIP_37  \n",
            "   creating: accident_frames/CLIP_307/\n",
            "  inflating: __MACOSX/accident_frames/._CLIP_307  \n",
            "   creating: accident_frames/CLIP_30/\n",
            "  inflating: __MACOSX/accident_frames/._CLIP_30  \n",
            "   creating: accident_frames/CLIP_336/\n",
            "  inflating: __MACOSX/accident_frames/._CLIP_336  \n",
            "   creating: accident_frames/CLIP_169/\n",
            "  inflating: __MACOSX/accident_frames/._CLIP_169  \n",
            "   creating: accident_frames/CLIP_308/\n",
            "  inflating: __MACOSX/accident_frames/._CLIP_308  \n",
            "  inflating: accident_frames/CLIP_183/frame45.jpg  \n",
            "  inflating: __MACOSX/accident_frames/CLIP_183/._frame45.jpg  \n",
            "  inflating: accident_frames/CLIP_183/frame30.jpg  \n",
            "  inflating: __MACOSX/accident_frames/CLIP_183/._frame30.jpg  \n",
            "  inflating: accident_frames/CLIP_183/frame15.jpg  \n",
            "  inflating: __MACOSX/accident_frames/CLIP_183/._frame15.jpg  \n",
            "  inflating: accident_frames/CLIP_183/frame60.jpg  \n",
            "  inflating: __MACOSX/accident_frames/CLIP_183/._frame60.jpg  \n",
            "  inflating: accident_frames/CLIP_43/frame45.jpg  \n",
            "  inflating: __MACOSX/accident_frames/CLIP_43/._frame45.jpg  \n",
            "  inflating: accident_frames/CLIP_43/frame30.jpg  \n",
            "  inflating: __MACOSX/accident_frames/CLIP_43/._frame30.jpg  \n",
            "  inflating: accident_frames/CLIP_43/frame15.jpg  \n",
            "  inflating: __MACOSX/accident_frames/CLIP_43/._frame15.jpg  \n",
            "  inflating: accident_frames/CLIP_43/frame60.jpg  \n",
            "  inflating: __MACOSX/accident_frames/CLIP_43/._frame60.jpg  \n",
            "  inflating: accident_frames/CLIP_88/frame90.jpg  \n",
            "  inflating: __MACOSX/accident_frames/CLIP_88/._frame90.jpg  \n",
            "  inflating: accident_frames/CLIP_88/frame45.jpg  \n",
            "  inflating: __MACOSX/accident_frames/CLIP_88/._frame45.jpg  \n",
            "  inflating: accident_frames/CLIP_88/frame30.jpg  \n",
            "  inflating: __MACOSX/accident_frames/CLIP_88/._frame30.jpg  \n",
            "  inflating: accident_frames/CLIP_88/frame15.jpg  \n",
            "  inflating: __MACOSX/accident_frames/CLIP_88/._frame15.jpg  \n",
            "  inflating: accident_frames/CLIP_88/frame75.jpg  \n",
            "  inflating: __MACOSX/accident_frames/CLIP_88/._frame75.jpg  \n",
            "  inflating: accident_frames/CLIP_88/frame60.jpg  \n",
            "  inflating: __MACOSX/accident_frames/CLIP_88/._frame60.jpg  \n",
            "  inflating: accident_frames/CLIP_28/frame45.jpg  \n",
            "  inflating: __MACOSX/accident_frames/CLIP_28/._frame45.jpg  \n",
            "  inflating: accident_frames/CLIP_28/frame30.jpg  \n",
            "  inflating: __MACOSX/accident_frames/CLIP_28/._frame30.jpg  \n",
            "  inflating: accident_frames/CLIP_28/frame15.jpg  \n",
            "  inflating: __MACOSX/accident_frames/CLIP_28/._frame15.jpg  \n",
            "  inflating: accident_frames/CLIP_28/frame60.jpg  \n",
            "  inflating: __MACOSX/accident_frames/CLIP_28/._frame60.jpg  \n",
            "  inflating: accident_frames/CLIP_311/frame29.jpg  \n",
            "  inflating: __MACOSX/accident_frames/CLIP_311/._frame29.jpg  \n",
            "  inflating: accident_frames/CLIP_311/frame58.jpg  \n",
            "  inflating: __MACOSX/accident_frames/CLIP_311/._frame58.jpg  \n",
            "  inflating: accident_frames/CLIP_19/frame45.jpg  \n",
            "  inflating: __MACOSX/accident_frames/CLIP_19/._frame45.jpg  \n",
            "  inflating: accident_frames/CLIP_19/frame30.jpg  \n",
            "  inflating: __MACOSX/accident_frames/CLIP_19/._frame30.jpg  \n",
            "  inflating: accident_frames/CLIP_19/frame15.jpg  \n",
            "  inflating: __MACOSX/accident_frames/CLIP_19/._frame15.jpg  \n",
            "  inflating: accident_frames/CLIP_19/frame60.jpg  \n",
            "  inflating: __MACOSX/accident_frames/CLIP_19/._frame60.jpg  \n",
            "  inflating: accident_frames/CLIP_124/frame45.jpg  \n",
            "  inflating: __MACOSX/accident_frames/CLIP_124/._frame45.jpg  \n",
            "  inflating: accident_frames/CLIP_124/frame30.jpg  \n",
            "  inflating: __MACOSX/accident_frames/CLIP_124/._frame30.jpg  \n",
            "  inflating: accident_frames/CLIP_124/frame15.jpg  \n",
            "  inflating: __MACOSX/accident_frames/CLIP_124/._frame15.jpg  \n",
            "  inflating: accident_frames/CLIP_124/frame60.jpg  \n",
            "  inflating: __MACOSX/accident_frames/CLIP_124/._frame60.jpg  \n",
            "  inflating: accident_frames/CLIP_26/frame45.jpg  \n",
            "  inflating: __MACOSX/accident_frames/CLIP_26/._frame45.jpg  \n",
            "  inflating: accident_frames/CLIP_26/frame30.jpg  \n",
            "  inflating: __MACOSX/accident_frames/CLIP_26/._frame30.jpg  \n",
            "  inflating: accident_frames/CLIP_26/frame15.jpg  \n",
            "  inflating: __MACOSX/accident_frames/CLIP_26/._frame15.jpg  \n",
            "  inflating: accident_frames/CLIP_26/frame60.jpg  \n",
            "  inflating: __MACOSX/accident_frames/CLIP_26/._frame60.jpg  \n",
            "  inflating: accident_frames/CLIP_89/frame45.jpg  \n",
            "  inflating: __MACOSX/accident_frames/CLIP_89/._frame45.jpg  \n",
            "  inflating: accident_frames/CLIP_89/frame30.jpg  \n",
            "  inflating: __MACOSX/accident_frames/CLIP_89/._frame30.jpg  \n",
            "  inflating: accident_frames/CLIP_89/frame15.jpg  \n",
            "  inflating: __MACOSX/accident_frames/CLIP_89/._frame15.jpg  \n",
            "  inflating: accident_frames/CLIP_89/frame60.jpg  \n",
            "  inflating: __MACOSX/accident_frames/CLIP_89/._frame60.jpg  \n",
            "  inflating: accident_frames/CLIP_20/frame45.jpg  \n",
            "  inflating: __MACOSX/accident_frames/CLIP_20/._frame45.jpg  \n",
            "  inflating: accident_frames/CLIP_20/frame30.jpg  \n",
            "  inflating: __MACOSX/accident_frames/CLIP_20/._frame30.jpg  \n",
            "  inflating: accident_frames/CLIP_20/frame15.jpg  \n",
            "  inflating: __MACOSX/accident_frames/CLIP_20/._frame15.jpg  \n",
            "  inflating: accident_frames/CLIP_20/frame60.jpg  \n",
            "  inflating: __MACOSX/accident_frames/CLIP_20/._frame60.jpg  \n",
            "  inflating: accident_frames/CLIP_298/frame24.jpg  \n",
            "  inflating: __MACOSX/accident_frames/CLIP_298/._frame24.jpg  \n",
            "  inflating: accident_frames/CLIP_298/frame36.jpg  \n",
            "  inflating: __MACOSX/accident_frames/CLIP_298/._frame36.jpg  \n",
            "  inflating: accident_frames/CLIP_298/frame12.jpg  \n",
            "  inflating: __MACOSX/accident_frames/CLIP_298/._frame12.jpg  \n",
            "  inflating: accident_frames/CLIP_298/frame48.jpg  \n",
            "  inflating: __MACOSX/accident_frames/CLIP_298/._frame48.jpg  \n",
            "  inflating: accident_frames/CLIP_264/frame45.jpg  \n",
            "  inflating: __MACOSX/accident_frames/CLIP_264/._frame45.jpg  \n",
            "  inflating: accident_frames/CLIP_264/frame30.jpg  \n",
            "  inflating: __MACOSX/accident_frames/CLIP_264/._frame30.jpg  \n",
            "  inflating: accident_frames/CLIP_264/frame15.jpg  \n",
            "  inflating: __MACOSX/accident_frames/CLIP_264/._frame15.jpg  \n",
            "  inflating: accident_frames/CLIP_264/frame60.jpg  \n",
            "  inflating: __MACOSX/accident_frames/CLIP_264/._frame60.jpg  \n",
            "  inflating: accident_frames/CLIP_5/frame45.jpg  \n",
            "  inflating: __MACOSX/accident_frames/CLIP_5/._frame45.jpg  \n",
            "  inflating: accident_frames/CLIP_5/frame30.jpg  \n",
            "  inflating: __MACOSX/accident_frames/CLIP_5/._frame30.jpg  \n",
            "  inflating: accident_frames/CLIP_5/frame15.jpg  \n",
            "  inflating: __MACOSX/accident_frames/CLIP_5/._frame15.jpg  \n",
            "  inflating: accident_frames/CLIP_5/frame60.jpg  \n",
            "  inflating: __MACOSX/accident_frames/CLIP_5/._frame60.jpg  \n",
            "  inflating: accident_frames/CLIP_252/frame45.jpg  \n",
            "  inflating: __MACOSX/accident_frames/CLIP_252/._frame45.jpg  \n",
            "  inflating: accident_frames/CLIP_252/frame30.jpg  \n",
            "  inflating: __MACOSX/accident_frames/CLIP_252/._frame30.jpg  \n",
            "  inflating: accident_frames/CLIP_252/frame15.jpg  \n",
            "  inflating: __MACOSX/accident_frames/CLIP_252/._frame15.jpg  \n",
            "  inflating: accident_frames/CLIP_252/frame60.jpg  \n",
            "  inflating: __MACOSX/accident_frames/CLIP_252/._frame60.jpg  \n",
            "  inflating: accident_frames/CLIP_201/frame45.jpg  \n",
            "  inflating: __MACOSX/accident_frames/CLIP_201/._frame45.jpg  \n",
            "  inflating: accident_frames/CLIP_201/frame30.jpg  \n",
            "  inflating: __MACOSX/accident_frames/CLIP_201/._frame30.jpg  \n",
            "  inflating: accident_frames/CLIP_201/frame15.jpg  \n",
            "  inflating: __MACOSX/accident_frames/CLIP_201/._frame15.jpg  \n",
            "  inflating: accident_frames/CLIP_201/frame60.jpg  \n",
            "  inflating: __MACOSX/accident_frames/CLIP_201/._frame60.jpg  \n",
            "  inflating: accident_frames/CLIP_208/frame45.jpg  \n",
            "  inflating: __MACOSX/accident_frames/CLIP_208/._frame45.jpg  \n",
            "  inflating: accident_frames/CLIP_208/frame30.jpg  \n",
            "  inflating: __MACOSX/accident_frames/CLIP_208/._frame30.jpg  \n",
            "  inflating: accident_frames/CLIP_208/frame15.jpg  \n",
            "  inflating: __MACOSX/accident_frames/CLIP_208/._frame15.jpg  \n",
            "  inflating: accident_frames/CLIP_208/frame60.jpg  \n",
            "  inflating: __MACOSX/accident_frames/CLIP_208/._frame60.jpg  \n",
            "  inflating: accident_frames/CLIP_283/frame45.jpg  \n",
            "  inflating: __MACOSX/accident_frames/CLIP_283/._frame45.jpg  \n",
            "  inflating: accident_frames/CLIP_283/frame30.jpg  \n",
            "  inflating: __MACOSX/accident_frames/CLIP_283/._frame30.jpg  \n",
            "  inflating: accident_frames/CLIP_283/frame15.jpg  \n",
            "  inflating: __MACOSX/accident_frames/CLIP_283/._frame15.jpg  \n",
            "  inflating: accident_frames/CLIP_283/frame60.jpg  \n",
            "  inflating: __MACOSX/accident_frames/CLIP_283/._frame60.jpg  \n",
            "  inflating: accident_frames/CLIP_247/frame29.jpg  \n",
            "  inflating: __MACOSX/accident_frames/CLIP_247/._frame29.jpg  \n",
            "  inflating: accident_frames/CLIP_247/frame58.jpg  \n",
            "  inflating: __MACOSX/accident_frames/CLIP_247/._frame58.jpg  \n",
            "  inflating: accident_frames/CLIP_304/frame24.jpg  \n",
            "  inflating: __MACOSX/accident_frames/CLIP_304/._frame24.jpg  \n",
            "  inflating: accident_frames/CLIP_304/frame36.jpg  \n",
            "  inflating: __MACOSX/accident_frames/CLIP_304/._frame36.jpg  \n",
            "  inflating: accident_frames/CLIP_304/frame12.jpg  \n",
            "  inflating: __MACOSX/accident_frames/CLIP_304/._frame12.jpg  \n",
            "  inflating: accident_frames/CLIP_304/frame48.jpg  \n",
            "  inflating: __MACOSX/accident_frames/CLIP_304/._frame48.jpg  \n",
            "  inflating: accident_frames/CLIP_198/frame45.jpg  \n",
            "  inflating: __MACOSX/accident_frames/CLIP_198/._frame45.jpg  \n",
            "  inflating: accident_frames/CLIP_198/frame30.jpg  \n",
            "  inflating: __MACOSX/accident_frames/CLIP_198/._frame30.jpg  \n",
            "  inflating: accident_frames/CLIP_198/frame15.jpg  \n",
            "  inflating: __MACOSX/accident_frames/CLIP_198/._frame15.jpg  \n",
            "  inflating: accident_frames/CLIP_198/frame60.jpg  \n",
            "  inflating: __MACOSX/accident_frames/CLIP_198/._frame60.jpg  \n",
            "  inflating: accident_frames/CLIP_165/frame29.jpg  \n",
            "  inflating: __MACOSX/accident_frames/CLIP_165/._frame29.jpg  \n",
            "  inflating: accident_frames/CLIP_165/frame58.jpg  \n",
            "  inflating: __MACOSX/accident_frames/CLIP_165/._frame58.jpg  \n",
            "  inflating: accident_frames/CLIP_58/frame45.jpg  \n",
            "  inflating: __MACOSX/accident_frames/CLIP_58/._frame45.jpg  \n",
            "  inflating: accident_frames/CLIP_58/frame30.jpg  \n",
            "  inflating: __MACOSX/accident_frames/CLIP_58/._frame30.jpg  \n",
            "  inflating: accident_frames/CLIP_58/frame15.jpg  \n",
            "  inflating: __MACOSX/accident_frames/CLIP_58/._frame15.jpg  \n",
            "  inflating: accident_frames/CLIP_58/frame60.jpg  \n",
            "  inflating: __MACOSX/accident_frames/CLIP_58/._frame60.jpg  \n",
            "  inflating: accident_frames/CLIP_66/frame45.jpg  \n",
            "  inflating: __MACOSX/accident_frames/CLIP_66/._frame45.jpg  \n",
            "  inflating: accident_frames/CLIP_66/frame30.jpg  \n",
            "  inflating: __MACOSX/accident_frames/CLIP_66/._frame30.jpg  \n",
            "  inflating: accident_frames/CLIP_66/frame15.jpg  \n",
            "  inflating: __MACOSX/accident_frames/CLIP_66/._frame15.jpg  \n",
            "  inflating: accident_frames/CLIP_66/frame60.jpg  \n",
            "  inflating: __MACOSX/accident_frames/CLIP_66/._frame60.jpg  \n",
            "  inflating: accident_frames/CLIP_95/frame45.jpg  \n",
            "  inflating: __MACOSX/accident_frames/CLIP_95/._frame45.jpg  \n",
            "  inflating: accident_frames/CLIP_95/frame30.jpg  \n",
            "  inflating: __MACOSX/accident_frames/CLIP_95/._frame30.jpg  \n",
            "  inflating: accident_frames/CLIP_95/frame15.jpg  \n",
            "  inflating: __MACOSX/accident_frames/CLIP_95/._frame15.jpg  \n",
            "  inflating: accident_frames/CLIP_95/frame60.jpg  \n",
            "  inflating: __MACOSX/accident_frames/CLIP_95/._frame60.jpg  \n",
            "  inflating: accident_frames/CLIP_152/frame29.jpg  \n",
            "  inflating: __MACOSX/accident_frames/CLIP_152/._frame29.jpg  \n",
            "  inflating: accident_frames/CLIP_152/frame58.jpg  \n",
            "  inflating: __MACOSX/accident_frames/CLIP_152/._frame58.jpg  \n",
            "  inflating: accident_frames/CLIP_199/frame45.jpg  \n",
            "  inflating: __MACOSX/accident_frames/CLIP_199/._frame45.jpg  \n",
            "  inflating: accident_frames/CLIP_199/frame30.jpg  \n",
            "  inflating: __MACOSX/accident_frames/CLIP_199/._frame30.jpg  \n",
            "  inflating: accident_frames/CLIP_199/frame15.jpg  \n",
            "  inflating: __MACOSX/accident_frames/CLIP_199/._frame15.jpg  \n",
            "  inflating: accident_frames/CLIP_199/frame60.jpg  \n",
            "  inflating: __MACOSX/accident_frames/CLIP_199/._frame60.jpg  \n",
            "  inflating: accident_frames/CLIP_324/frame45.jpg  \n",
            "  inflating: __MACOSX/accident_frames/CLIP_324/._frame45.jpg  \n",
            "  inflating: accident_frames/CLIP_324/frame30.jpg  \n",
            "  inflating: __MACOSX/accident_frames/CLIP_324/._frame30.jpg  \n",
            "  inflating: accident_frames/CLIP_324/frame15.jpg  \n",
            "  inflating: __MACOSX/accident_frames/CLIP_324/._frame15.jpg  \n",
            "  inflating: accident_frames/CLIP_324/frame60.jpg  \n",
            "  inflating: __MACOSX/accident_frames/CLIP_324/._frame60.jpg  \n",
            "  inflating: accident_frames/CLIP_116/frame45.jpg  \n",
            "  inflating: __MACOSX/accident_frames/CLIP_116/._frame45.jpg  \n",
            "  inflating: accident_frames/CLIP_116/frame30.jpg  \n",
            "  inflating: __MACOSX/accident_frames/CLIP_116/._frame30.jpg  \n",
            "  inflating: accident_frames/CLIP_116/frame15.jpg  \n",
            "  inflating: __MACOSX/accident_frames/CLIP_116/._frame15.jpg  \n",
            "  inflating: accident_frames/CLIP_116/frame60.jpg  \n",
            "  inflating: __MACOSX/accident_frames/CLIP_116/._frame60.jpg  \n",
            "  inflating: accident_frames/CLIP_127/frame45.jpg  \n",
            "  inflating: __MACOSX/accident_frames/CLIP_127/._frame45.jpg  \n",
            "  inflating: accident_frames/CLIP_127/frame30.jpg  \n",
            "  inflating: __MACOSX/accident_frames/CLIP_127/._frame30.jpg  \n",
            "  inflating: accident_frames/CLIP_127/frame15.jpg  \n",
            "  inflating: __MACOSX/accident_frames/CLIP_127/._frame15.jpg  \n",
            "  inflating: accident_frames/CLIP_127/frame60.jpg  \n",
            "  inflating: __MACOSX/accident_frames/CLIP_127/._frame60.jpg  \n",
            "  inflating: accident_frames/CLIP_315/frame29.jpg  \n",
            "  inflating: __MACOSX/accident_frames/CLIP_315/._frame29.jpg  \n",
            "  inflating: accident_frames/CLIP_315/frame58.jpg  \n",
            "  inflating: __MACOSX/accident_frames/CLIP_315/._frame58.jpg  \n",
            "  inflating: accident_frames/CLIP_312/frame29.jpg  \n",
            "  inflating: __MACOSX/accident_frames/CLIP_312/._frame29.jpg  \n",
            "  inflating: accident_frames/CLIP_312/frame58.jpg  \n",
            "  inflating: __MACOSX/accident_frames/CLIP_312/._frame58.jpg  \n",
            "  inflating: accident_frames/CLIP_85/frame45.jpg  \n",
            "  inflating: __MACOSX/accident_frames/CLIP_85/._frame45.jpg  \n",
            "  inflating: accident_frames/CLIP_85/frame30.jpg  \n",
            "  inflating: __MACOSX/accident_frames/CLIP_85/._frame30.jpg  \n",
            "  inflating: accident_frames/CLIP_85/frame15.jpg  \n",
            "  inflating: __MACOSX/accident_frames/CLIP_85/._frame15.jpg  \n",
            "  inflating: accident_frames/CLIP_85/frame60.jpg  \n",
            "  inflating: __MACOSX/accident_frames/CLIP_85/._frame60.jpg  \n",
            "  inflating: accident_frames/CLIP_40/frame45.jpg  \n",
            "  inflating: __MACOSX/accident_frames/CLIP_40/._frame45.jpg  \n",
            "  inflating: accident_frames/CLIP_40/frame30.jpg  \n",
            "  inflating: __MACOSX/accident_frames/CLIP_40/._frame30.jpg  \n",
            "  inflating: accident_frames/CLIP_40/frame15.jpg  \n",
            "  inflating: __MACOSX/accident_frames/CLIP_40/._frame15.jpg  \n",
            "  inflating: accident_frames/CLIP_40/frame60.jpg  \n",
            "  inflating: __MACOSX/accident_frames/CLIP_40/._frame60.jpg  \n",
            "  inflating: accident_frames/CLIP_322/frame45.jpg  \n",
            "  inflating: __MACOSX/accident_frames/CLIP_322/._frame45.jpg  \n",
            "  inflating: accident_frames/CLIP_322/frame30.jpg  \n",
            "  inflating: __MACOSX/accident_frames/CLIP_322/._frame30.jpg  \n",
            "  inflating: accident_frames/CLIP_322/frame15.jpg  \n",
            "  inflating: __MACOSX/accident_frames/CLIP_322/._frame15.jpg  \n",
            "  inflating: accident_frames/CLIP_322/frame60.jpg  \n",
            "  inflating: __MACOSX/accident_frames/CLIP_322/._frame60.jpg  \n",
            "  inflating: accident_frames/CLIP_84/frame45.jpg  \n",
            "  inflating: __MACOSX/accident_frames/CLIP_84/._frame45.jpg  \n",
            "  inflating: accident_frames/CLIP_84/frame30.jpg  \n",
            "  inflating: __MACOSX/accident_frames/CLIP_84/._frame30.jpg  \n",
            "  inflating: accident_frames/CLIP_84/frame15.jpg  \n",
            "  inflating: __MACOSX/accident_frames/CLIP_84/._frame15.jpg  \n",
            "  inflating: accident_frames/CLIP_84/frame60.jpg  \n",
            "  inflating: __MACOSX/accident_frames/CLIP_84/._frame60.jpg  \n",
            "  inflating: accident_frames/CLIP_83/frame45.jpg  \n",
            "  inflating: __MACOSX/accident_frames/CLIP_83/._frame45.jpg  \n",
            "  inflating: accident_frames/CLIP_83/frame30.jpg  \n",
            "  inflating: __MACOSX/accident_frames/CLIP_83/._frame30.jpg  \n",
            "  inflating: accident_frames/CLIP_83/frame15.jpg  \n",
            "  inflating: __MACOSX/accident_frames/CLIP_83/._frame15.jpg  \n",
            "  inflating: accident_frames/CLIP_83/frame60.jpg  \n",
            "  inflating: __MACOSX/accident_frames/CLIP_83/._frame60.jpg  \n",
            "  inflating: accident_frames/CLIP_9/frame45.jpg  \n",
            "  inflating: __MACOSX/accident_frames/CLIP_9/._frame45.jpg  \n",
            "  inflating: accident_frames/CLIP_9/frame30.jpg  \n",
            "  inflating: __MACOSX/accident_frames/CLIP_9/._frame30.jpg  \n",
            "  inflating: accident_frames/CLIP_9/frame15.jpg  \n",
            "  inflating: __MACOSX/accident_frames/CLIP_9/._frame15.jpg  \n",
            "  inflating: accident_frames/CLIP_9/frame60.jpg  \n",
            "  inflating: __MACOSX/accident_frames/CLIP_9/._frame60.jpg  \n",
            "  inflating: accident_frames/CLIP_261/frame45.jpg  \n",
            "  inflating: __MACOSX/accident_frames/CLIP_261/._frame45.jpg  \n",
            "  inflating: accident_frames/CLIP_261/frame30.jpg  \n",
            "  inflating: __MACOSX/accident_frames/CLIP_261/._frame30.jpg  \n",
            "  inflating: accident_frames/CLIP_261/frame15.jpg  \n",
            "  inflating: __MACOSX/accident_frames/CLIP_261/._frame15.jpg  \n",
            "  inflating: accident_frames/CLIP_261/frame60.jpg  \n",
            "  inflating: __MACOSX/accident_frames/CLIP_261/._frame60.jpg  \n",
            "  inflating: accident_frames/CLIP_289/frame24.jpg  \n",
            "  inflating: __MACOSX/accident_frames/CLIP_289/._frame24.jpg  \n",
            "  inflating: accident_frames/CLIP_289/frame36.jpg  \n",
            "  inflating: __MACOSX/accident_frames/CLIP_289/._frame36.jpg  \n",
            "  inflating: accident_frames/CLIP_289/frame12.jpg  \n",
            "  inflating: __MACOSX/accident_frames/CLIP_289/._frame12.jpg  \n",
            "  inflating: accident_frames/CLIP_289/frame48.jpg  \n",
            "  inflating: __MACOSX/accident_frames/CLIP_289/._frame48.jpg  \n",
            "  inflating: accident_frames/CLIP_243/frame29.jpg  \n",
            "  inflating: __MACOSX/accident_frames/CLIP_243/._frame29.jpg  \n",
            "  inflating: accident_frames/CLIP_243/frame58.jpg  \n",
            "  inflating: __MACOSX/accident_frames/CLIP_243/._frame58.jpg  \n",
            "  inflating: accident_frames/CLIP_226/frame45.jpg  \n",
            "  inflating: __MACOSX/accident_frames/CLIP_226/._frame45.jpg  \n",
            "  inflating: accident_frames/CLIP_226/frame30.jpg  \n",
            "  inflating: __MACOSX/accident_frames/CLIP_226/._frame30.jpg  \n",
            "  inflating: accident_frames/CLIP_226/frame15.jpg  \n",
            "  inflating: __MACOSX/accident_frames/CLIP_226/._frame15.jpg  \n",
            "  inflating: accident_frames/CLIP_226/frame60.jpg  \n",
            "  inflating: __MACOSX/accident_frames/CLIP_226/._frame60.jpg  \n",
            "  inflating: accident_frames/CLIP_168/frame45.jpg  \n",
            "  inflating: __MACOSX/accident_frames/CLIP_168/._frame45.jpg  \n",
            "  inflating: accident_frames/CLIP_168/frame30.jpg  \n",
            "  inflating: __MACOSX/accident_frames/CLIP_168/._frame30.jpg  \n",
            "  inflating: accident_frames/CLIP_168/frame15.jpg  \n",
            "  inflating: __MACOSX/accident_frames/CLIP_168/._frame15.jpg  \n",
            "  inflating: accident_frames/CLIP_168/frame60.jpg  \n",
            "  inflating: __MACOSX/accident_frames/CLIP_168/._frame60.jpg  \n",
            "  inflating: accident_frames/CLIP_150/frame45.jpg  \n",
            "  inflating: __MACOSX/accident_frames/CLIP_150/._frame45.jpg  \n",
            "  inflating: accident_frames/CLIP_150/frame30.jpg  \n",
            "  inflating: __MACOSX/accident_frames/CLIP_150/._frame30.jpg  \n",
            "  inflating: accident_frames/CLIP_150/frame15.jpg  \n",
            "  inflating: __MACOSX/accident_frames/CLIP_150/._frame15.jpg  \n",
            "  inflating: accident_frames/CLIP_150/frame60.jpg  \n",
            "  inflating: __MACOSX/accident_frames/CLIP_150/._frame60.jpg  \n",
            "  inflating: accident_frames/CLIP_52/frame45.jpg  \n",
            "  inflating: __MACOSX/accident_frames/CLIP_52/._frame45.jpg  \n",
            "  inflating: accident_frames/CLIP_52/frame30.jpg  \n",
            "  inflating: __MACOSX/accident_frames/CLIP_52/._frame30.jpg  \n",
            "  inflating: accident_frames/CLIP_52/frame15.jpg  \n",
            "  inflating: __MACOSX/accident_frames/CLIP_52/._frame15.jpg  \n",
            "  inflating: accident_frames/CLIP_52/frame60.jpg  \n",
            "  inflating: __MACOSX/accident_frames/CLIP_52/._frame60.jpg  \n",
            "  inflating: accident_frames/CLIP_37/frame45.jpg  \n",
            "  inflating: __MACOSX/accident_frames/CLIP_37/._frame45.jpg  \n",
            "  inflating: accident_frames/CLIP_37/frame30.jpg  \n",
            "  inflating: __MACOSX/accident_frames/CLIP_37/._frame30.jpg  \n",
            "  inflating: accident_frames/CLIP_37/frame15.jpg  \n",
            "  inflating: __MACOSX/accident_frames/CLIP_37/._frame15.jpg  \n",
            "  inflating: accident_frames/CLIP_37/frame60.jpg  \n",
            "  inflating: __MACOSX/accident_frames/CLIP_37/._frame60.jpg  \n",
            "  inflating: accident_frames/CLIP_307/frame24.jpg  \n",
            "  inflating: __MACOSX/accident_frames/CLIP_307/._frame24.jpg  \n",
            "  inflating: accident_frames/CLIP_307/frame36.jpg  \n",
            "  inflating: __MACOSX/accident_frames/CLIP_307/._frame36.jpg  \n",
            "  inflating: accident_frames/CLIP_307/frame12.jpg  \n",
            "  inflating: __MACOSX/accident_frames/CLIP_307/._frame12.jpg  \n",
            "  inflating: accident_frames/CLIP_307/frame48.jpg  \n",
            "  inflating: __MACOSX/accident_frames/CLIP_307/._frame48.jpg  \n",
            "  inflating: accident_frames/CLIP_30/frame45.jpg  \n",
            "  inflating: __MACOSX/accident_frames/CLIP_30/._frame45.jpg  \n",
            "  inflating: accident_frames/CLIP_30/frame30.jpg  \n",
            "  inflating: __MACOSX/accident_frames/CLIP_30/._frame30.jpg  \n",
            "  inflating: accident_frames/CLIP_30/frame15.jpg  \n",
            "  inflating: __MACOSX/accident_frames/CLIP_30/._frame15.jpg  \n",
            "  inflating: accident_frames/CLIP_30/frame60.jpg  \n",
            "  inflating: __MACOSX/accident_frames/CLIP_30/._frame60.jpg  \n",
            "  inflating: accident_frames/CLIP_336/frame45.jpg  \n",
            "  inflating: __MACOSX/accident_frames/CLIP_336/._frame45.jpg  \n",
            "  inflating: accident_frames/CLIP_336/frame30.jpg  \n",
            "  inflating: __MACOSX/accident_frames/CLIP_336/._frame30.jpg  \n",
            "  inflating: accident_frames/CLIP_336/frame15.jpg  \n",
            "  inflating: __MACOSX/accident_frames/CLIP_336/._frame15.jpg  \n",
            "  inflating: accident_frames/CLIP_336/frame60.jpg  \n",
            "  inflating: __MACOSX/accident_frames/CLIP_336/._frame60.jpg  \n",
            "  inflating: accident_frames/CLIP_169/frame45.jpg  \n",
            "  inflating: __MACOSX/accident_frames/CLIP_169/._frame45.jpg  \n",
            "  inflating: accident_frames/CLIP_169/frame30.jpg  \n",
            "  inflating: __MACOSX/accident_frames/CLIP_169/._frame30.jpg  \n",
            "  inflating: accident_frames/CLIP_169/frame15.jpg  \n",
            "  inflating: __MACOSX/accident_frames/CLIP_169/._frame15.jpg  \n",
            "  inflating: accident_frames/CLIP_169/frame60.jpg  \n",
            "  inflating: __MACOSX/accident_frames/CLIP_169/._frame60.jpg  \n",
            "  inflating: accident_frames/CLIP_308/frame29.jpg  \n",
            "  inflating: __MACOSX/accident_frames/CLIP_308/._frame29.jpg  \n",
            "  inflating: accident_frames/CLIP_308/frame58.jpg  \n",
            "  inflating: __MACOSX/accident_frames/CLIP_308/._frame58.jpg  \n"
          ]
        }
      ]
    },
    {
      "cell_type": "code",
      "source": [
        "directory_path = '/content/accident_frames/'\n",
        "directory_files = os.listdir(directory_path)\n",
        "\n",
        "# Use a default font\n",
        "font = ImageFont.load_default()\n",
        "\n",
        "for video in directory_files:\n",
        "  print(video)\n",
        "  if not video.startswith('.'):\n",
        "    try:\n",
        "      os.mkdir(\"/content/YOLO_bounding_box_images/\" + video.split(\".\")[0])\n",
        "    except OSError as error:\n",
        "      print(error)\n",
        "    list_of_objects = []\n",
        "\n",
        "    image_files = os.listdir(directory_path + \"/\" + video + \"/\")\n",
        "    for image in image_files:\n",
        "        image_path = os.path.join(directory_path + \"/\" + video + \"/\", image)\n",
        "        pil_image = Image.open(image_path)\n",
        "        object_count = {}\n",
        "        device = \"cuda\" if torch.cuda.is_available() else \"cpu\"\n",
        "        # Make a copy of the image to draw bounding boxes without affecting the original clarity\n",
        "        image_with_boxes = pil_image.copy()\n",
        "        inputs = image_processor(images=pil_image, return_tensors=\"pt\")\n",
        "        outputs = model(**inputs)\n",
        "\n",
        "        # model predicts bounding boxes and corresponding COCO classes\n",
        "        logits = outputs.logits\n",
        "        bboxes = outputs.pred_boxes\n",
        "\n",
        "\n",
        "        # print results\n",
        "        target_sizes = torch.tensor([pil_image.size[::-1]])\n",
        "        results = image_processor.post_process_object_detection(outputs, threshold=0.9, target_sizes=target_sizes)[0]\n",
        "        for score, label, box in zip(results[\"scores\"], results[\"labels\"], results[\"boxes\"]):\n",
        "            box = [round(i, 2) for i in box.tolist()]\n",
        "            print(\n",
        "                f\"Detected {model.config.id2label[label.item()]} with confidence \"\n",
        "                f\"{round(score.item(), 3)} at location {box}\"\n",
        "            )\n",
        "            predicted_label = model.config.id2label[label.item()]\n",
        "            if(round(score.item(), 3) > 0.65):\n",
        "                if predicted_label not in object_count:\n",
        "                  object_count[predicted_label] = 0\n",
        "                object_count[predicted_label] = object_count[predicted_label] + 1\n",
        "            bbox = [int(coord) for coord in box]\n",
        "            # Add a bounding box to the image\n",
        "            draw = ImageDraw.Draw(image_with_boxes)\n",
        "            draw.rectangle(bbox, outline='red', width=2)\n",
        "\n",
        "            text_width, text_height = draw.textsize(model.config.id2label[label.item()], font=font)\n",
        "            draw.rectangle(\n",
        "                (bbox[0], bbox[1] - text_height, bbox[0] + text_width, bbox[1]),\n",
        "                fill='red'\n",
        "            )\n",
        "            draw.text((bbox[0], bbox[1] - text_height), model.config.id2label[label.item()], fill='white', font=font)\n",
        "\n",
        "            Y=bbox[1]\n",
        "            X=bbox[0]\n",
        "            # Crop the image using the bounding box coordinates\n",
        "            #cropped_image_pil = pil_image.crop((X, Y, bbox[2], bbox[3]))\n",
        "            #cropped_image_pil.save(\"/content/images_cropped/\" + video.split('.')[0] + \"_cropped_image_\"+ image.split(\".\")[0] +\".png\")\n",
        "        # Convert the PIL Image back to a NumPy array\n",
        "        image_with_boxes.save(\"/content/YOLO_bounding_box_images/\" + video.split('.')[0] + \"/\" + image.split(\".\")[0] + \".png\")\n",
        "        list_of_objects.append({image.split(\".\")[0]:object_count})\n",
        "    print(list_of_objects)\n",
        "    f = open(\"/content/YOLO_output/\" + video.split(\".\")[0] + \".txt\", \"w\")\n",
        "    f.write(str(list_of_objects))\n",
        "    f.close()"
      ],
      "metadata": {
        "colab": {
          "base_uri": "https://localhost:8080/"
        },
        "id": "eQDS9HwPnMv-",
        "outputId": "79663aca-ac05-49fc-e1d7-c4d8cdfc3532"
      },
      "execution_count": null,
      "outputs": [
        {
          "output_type": "stream",
          "name": "stdout",
          "text": [
            "CLIP_127\n",
            "[Errno 17] File exists: '/content/YOLO_bounding_box_images/CLIP_127'\n",
            "Detected car with confidence 0.917 at location [526.46, 361.36, 564.88, 384.27]\n",
            "Detected car with confidence 0.961 at location [630.33, 363.74, 714.65, 402.76]\n"
          ]
        },
        {
          "output_type": "stream",
          "name": "stderr",
          "text": [
            "<ipython-input-27-e399afaa81b4>:51: DeprecationWarning: textsize is deprecated and will be removed in Pillow 10 (2023-07-01). Use textbbox or textlength instead.\n",
            "  text_width, text_height = draw.textsize(model.config.id2label[label.item()], font=font)\n",
            "<ipython-input-27-e399afaa81b4>:51: DeprecationWarning: textsize is deprecated and will be removed in Pillow 10 (2023-07-01). Use textbbox or textlength instead.\n",
            "  text_width, text_height = draw.textsize(model.config.id2label[label.item()], font=font)\n"
          ]
        },
        {
          "output_type": "stream",
          "name": "stdout",
          "text": [
            "Detected person with confidence 0.992 at location [911.12, 243.28, 980.87, 381.38]\n",
            "Detected car with confidence 0.903 at location [494.49, 363.98, 535.81, 385.49]\n",
            "Detected car with confidence 0.993 at location [589.25, 367.55, 681.29, 406.7]\n"
          ]
        },
        {
          "output_type": "stream",
          "name": "stderr",
          "text": [
            "<ipython-input-27-e399afaa81b4>:51: DeprecationWarning: textsize is deprecated and will be removed in Pillow 10 (2023-07-01). Use textbbox or textlength instead.\n",
            "  text_width, text_height = draw.textsize(model.config.id2label[label.item()], font=font)\n",
            "<ipython-input-27-e399afaa81b4>:51: DeprecationWarning: textsize is deprecated and will be removed in Pillow 10 (2023-07-01). Use textbbox or textlength instead.\n",
            "  text_width, text_height = draw.textsize(model.config.id2label[label.item()], font=font)\n",
            "<ipython-input-27-e399afaa81b4>:51: DeprecationWarning: textsize is deprecated and will be removed in Pillow 10 (2023-07-01). Use textbbox or textlength instead.\n",
            "  text_width, text_height = draw.textsize(model.config.id2label[label.item()], font=font)\n"
          ]
        },
        {
          "output_type": "stream",
          "name": "stdout",
          "text": [
            "Detected car with confidence 0.949 at location [529.64, 370.46, 588.78, 400.39]\n",
            "Detected traffic light with confidence 0.985 at location [379.2, 334.9, 403.57, 362.59]\n",
            "Detected car with confidence 0.965 at location [537.71, 370.56, 631.43, 405.24]\n"
          ]
        },
        {
          "output_type": "stream",
          "name": "stderr",
          "text": [
            "<ipython-input-27-e399afaa81b4>:51: DeprecationWarning: textsize is deprecated and will be removed in Pillow 10 (2023-07-01). Use textbbox or textlength instead.\n",
            "  text_width, text_height = draw.textsize(model.config.id2label[label.item()], font=font)\n",
            "<ipython-input-27-e399afaa81b4>:51: DeprecationWarning: textsize is deprecated and will be removed in Pillow 10 (2023-07-01). Use textbbox or textlength instead.\n",
            "  text_width, text_height = draw.textsize(model.config.id2label[label.item()], font=font)\n",
            "<ipython-input-27-e399afaa81b4>:51: DeprecationWarning: textsize is deprecated and will be removed in Pillow 10 (2023-07-01). Use textbbox or textlength instead.\n",
            "  text_width, text_height = draw.textsize(model.config.id2label[label.item()], font=font)\n"
          ]
        },
        {
          "output_type": "stream",
          "name": "stdout",
          "text": [
            "Detected traffic light with confidence 0.957 at location [344.15, 337.99, 366.89, 362.73]\n",
            "Detected car with confidence 0.909 at location [493.66, 376.02, 542.33, 403.04]\n",
            "Detected traffic light with confidence 0.991 at location [440.87, 330.74, 462.98, 362.67]\n",
            "Detected car with confidence 0.91 at location [416.69, 370.88, 450.68, 389.25]\n",
            "Detected person with confidence 0.909 at location [815.9, 253.47, 876.42, 340.02]\n"
          ]
        },
        {
          "output_type": "stream",
          "name": "stderr",
          "text": [
            "<ipython-input-27-e399afaa81b4>:51: DeprecationWarning: textsize is deprecated and will be removed in Pillow 10 (2023-07-01). Use textbbox or textlength instead.\n",
            "  text_width, text_height = draw.textsize(model.config.id2label[label.item()], font=font)\n",
            "<ipython-input-27-e399afaa81b4>:51: DeprecationWarning: textsize is deprecated and will be removed in Pillow 10 (2023-07-01). Use textbbox or textlength instead.\n",
            "  text_width, text_height = draw.textsize(model.config.id2label[label.item()], font=font)\n",
            "<ipython-input-27-e399afaa81b4>:51: DeprecationWarning: textsize is deprecated and will be removed in Pillow 10 (2023-07-01). Use textbbox or textlength instead.\n",
            "  text_width, text_height = draw.textsize(model.config.id2label[label.item()], font=font)\n",
            "<ipython-input-27-e399afaa81b4>:51: DeprecationWarning: textsize is deprecated and will be removed in Pillow 10 (2023-07-01). Use textbbox or textlength instead.\n",
            "  text_width, text_height = draw.textsize(model.config.id2label[label.item()], font=font)\n",
            "<ipython-input-27-e399afaa81b4>:51: DeprecationWarning: textsize is deprecated and will be removed in Pillow 10 (2023-07-01). Use textbbox or textlength instead.\n",
            "  text_width, text_height = draw.textsize(model.config.id2label[label.item()], font=font)\n"
          ]
        },
        {
          "output_type": "stream",
          "name": "stdout",
          "text": [
            "[{'frame60': {'car': 2}}, {'frame45': {'person': 1, 'car': 2}}, {'frame30': {'car': 2, 'traffic light': 1}}, {'frame15': {'traffic light': 2, 'car': 2, 'person': 1}}]\n",
            "CLIP_308\n",
            "[Errno 17] File exists: '/content/YOLO_bounding_box_images/CLIP_308'\n",
            "Detected car with confidence 0.968 at location [599.98, 359.8, 764.7, 484.81]\n",
            "Detected car with confidence 0.951 at location [518.28, 349.82, 630.96, 447.8]\n",
            "Detected car with confidence 0.985 at location [909.83, 369.89, 1261.82, 559.76]\n"
          ]
        },
        {
          "output_type": "stream",
          "name": "stderr",
          "text": [
            "<ipython-input-27-e399afaa81b4>:51: DeprecationWarning: textsize is deprecated and will be removed in Pillow 10 (2023-07-01). Use textbbox or textlength instead.\n",
            "  text_width, text_height = draw.textsize(model.config.id2label[label.item()], font=font)\n",
            "<ipython-input-27-e399afaa81b4>:51: DeprecationWarning: textsize is deprecated and will be removed in Pillow 10 (2023-07-01). Use textbbox or textlength instead.\n",
            "  text_width, text_height = draw.textsize(model.config.id2label[label.item()], font=font)\n",
            "<ipython-input-27-e399afaa81b4>:51: DeprecationWarning: textsize is deprecated and will be removed in Pillow 10 (2023-07-01). Use textbbox or textlength instead.\n",
            "  text_width, text_height = draw.textsize(model.config.id2label[label.item()], font=font)\n"
          ]
        },
        {
          "output_type": "stream",
          "name": "stdout",
          "text": [
            "Detected car with confidence 0.947 at location [541.81, 381.06, 656.1, 483.27]\n",
            "Detected car with confidence 0.964 at location [724.1, 350.77, 1276.82, 587.76]\n",
            "Detected car with confidence 0.906 at location [691.27, 393.54, 750.99, 450.81]\n"
          ]
        },
        {
          "output_type": "stream",
          "name": "stderr",
          "text": [
            "<ipython-input-27-e399afaa81b4>:51: DeprecationWarning: textsize is deprecated and will be removed in Pillow 10 (2023-07-01). Use textbbox or textlength instead.\n",
            "  text_width, text_height = draw.textsize(model.config.id2label[label.item()], font=font)\n",
            "<ipython-input-27-e399afaa81b4>:51: DeprecationWarning: textsize is deprecated and will be removed in Pillow 10 (2023-07-01). Use textbbox or textlength instead.\n",
            "  text_width, text_height = draw.textsize(model.config.id2label[label.item()], font=font)\n",
            "<ipython-input-27-e399afaa81b4>:51: DeprecationWarning: textsize is deprecated and will be removed in Pillow 10 (2023-07-01). Use textbbox or textlength instead.\n",
            "  text_width, text_height = draw.textsize(model.config.id2label[label.item()], font=font)\n"
          ]
        },
        {
          "output_type": "stream",
          "name": "stdout",
          "text": [
            "[{'frame29': {'car': 3}}, {'frame58': {'car': 3}}]\n",
            "CLIP_169\n",
            "[Errno 17] File exists: '/content/YOLO_bounding_box_images/CLIP_169'\n",
            "Detected car with confidence 0.998 at location [679.27, 352.66, 889.78, 446.5]\n",
            "Detected car with confidence 0.981 at location [27.47, 361.16, 64.87, 386.15]\n",
            "Detected car with confidence 0.998 at location [407.42, 358.38, 627.28, 484.11]\n",
            "Detected car with confidence 0.966 at location [389.3, 360.45, 439.61, 398.24]\n",
            "Detected car with confidence 0.98 at location [304.59, 353.0, 349.15, 386.84]\n"
          ]
        },
        {
          "output_type": "stream",
          "name": "stderr",
          "text": [
            "<ipython-input-27-e399afaa81b4>:51: DeprecationWarning: textsize is deprecated and will be removed in Pillow 10 (2023-07-01). Use textbbox or textlength instead.\n",
            "  text_width, text_height = draw.textsize(model.config.id2label[label.item()], font=font)\n",
            "<ipython-input-27-e399afaa81b4>:51: DeprecationWarning: textsize is deprecated and will be removed in Pillow 10 (2023-07-01). Use textbbox or textlength instead.\n",
            "  text_width, text_height = draw.textsize(model.config.id2label[label.item()], font=font)\n",
            "<ipython-input-27-e399afaa81b4>:51: DeprecationWarning: textsize is deprecated and will be removed in Pillow 10 (2023-07-01). Use textbbox or textlength instead.\n",
            "  text_width, text_height = draw.textsize(model.config.id2label[label.item()], font=font)\n",
            "<ipython-input-27-e399afaa81b4>:51: DeprecationWarning: textsize is deprecated and will be removed in Pillow 10 (2023-07-01). Use textbbox or textlength instead.\n",
            "  text_width, text_height = draw.textsize(model.config.id2label[label.item()], font=font)\n",
            "<ipython-input-27-e399afaa81b4>:51: DeprecationWarning: textsize is deprecated and will be removed in Pillow 10 (2023-07-01). Use textbbox or textlength instead.\n",
            "  text_width, text_height = draw.textsize(model.config.id2label[label.item()], font=font)\n"
          ]
        },
        {
          "output_type": "stream",
          "name": "stdout",
          "text": [
            "Detected car with confidence 0.996 at location [695.71, 356.13, 915.06, 456.12]\n",
            "Detected car with confidence 0.914 at location [25.8, 348.05, 64.03, 389.08]\n",
            "Detected car with confidence 0.929 at location [288.38, 358.03, 323.48, 387.49]\n",
            "Detected car with confidence 0.994 at location [463.61, 358.27, 730.83, 500.04]\n",
            "Detected car with confidence 0.925 at location [361.9, 363.31, 392.95, 389.65]\n",
            "Detected car with confidence 0.929 at location [307.12, 357.12, 344.1, 387.27]\n"
          ]
        },
        {
          "output_type": "stream",
          "name": "stderr",
          "text": [
            "<ipython-input-27-e399afaa81b4>:51: DeprecationWarning: textsize is deprecated and will be removed in Pillow 10 (2023-07-01). Use textbbox or textlength instead.\n",
            "  text_width, text_height = draw.textsize(model.config.id2label[label.item()], font=font)\n",
            "<ipython-input-27-e399afaa81b4>:51: DeprecationWarning: textsize is deprecated and will be removed in Pillow 10 (2023-07-01). Use textbbox or textlength instead.\n",
            "  text_width, text_height = draw.textsize(model.config.id2label[label.item()], font=font)\n",
            "<ipython-input-27-e399afaa81b4>:51: DeprecationWarning: textsize is deprecated and will be removed in Pillow 10 (2023-07-01). Use textbbox or textlength instead.\n",
            "  text_width, text_height = draw.textsize(model.config.id2label[label.item()], font=font)\n",
            "<ipython-input-27-e399afaa81b4>:51: DeprecationWarning: textsize is deprecated and will be removed in Pillow 10 (2023-07-01). Use textbbox or textlength instead.\n",
            "  text_width, text_height = draw.textsize(model.config.id2label[label.item()], font=font)\n",
            "<ipython-input-27-e399afaa81b4>:51: DeprecationWarning: textsize is deprecated and will be removed in Pillow 10 (2023-07-01). Use textbbox or textlength instead.\n",
            "  text_width, text_height = draw.textsize(model.config.id2label[label.item()], font=font)\n",
            "<ipython-input-27-e399afaa81b4>:51: DeprecationWarning: textsize is deprecated and will be removed in Pillow 10 (2023-07-01). Use textbbox or textlength instead.\n",
            "  text_width, text_height = draw.textsize(model.config.id2label[label.item()], font=font)\n"
          ]
        },
        {
          "output_type": "stream",
          "name": "stdout",
          "text": [
            "Detected car with confidence 0.912 at location [443.96, 363.72, 474.5, 384.17]\n",
            "Detected car with confidence 0.971 at location [502.14, 350.25, 859.21, 517.11]\n",
            "Detected car with confidence 0.919 at location [355.49, 362.71, 381.05, 383.86]\n",
            "Detected car with confidence 0.932 at location [67.73, 342.18, 208.55, 452.98]\n",
            "Detected car with confidence 0.957 at location [389.34, 361.24, 441.23, 397.97]\n"
          ]
        },
        {
          "output_type": "stream",
          "name": "stderr",
          "text": [
            "<ipython-input-27-e399afaa81b4>:51: DeprecationWarning: textsize is deprecated and will be removed in Pillow 10 (2023-07-01). Use textbbox or textlength instead.\n",
            "  text_width, text_height = draw.textsize(model.config.id2label[label.item()], font=font)\n",
            "<ipython-input-27-e399afaa81b4>:51: DeprecationWarning: textsize is deprecated and will be removed in Pillow 10 (2023-07-01). Use textbbox or textlength instead.\n",
            "  text_width, text_height = draw.textsize(model.config.id2label[label.item()], font=font)\n",
            "<ipython-input-27-e399afaa81b4>:51: DeprecationWarning: textsize is deprecated and will be removed in Pillow 10 (2023-07-01). Use textbbox or textlength instead.\n",
            "  text_width, text_height = draw.textsize(model.config.id2label[label.item()], font=font)\n",
            "<ipython-input-27-e399afaa81b4>:51: DeprecationWarning: textsize is deprecated and will be removed in Pillow 10 (2023-07-01). Use textbbox or textlength instead.\n",
            "  text_width, text_height = draw.textsize(model.config.id2label[label.item()], font=font)\n",
            "<ipython-input-27-e399afaa81b4>:51: DeprecationWarning: textsize is deprecated and will be removed in Pillow 10 (2023-07-01). Use textbbox or textlength instead.\n",
            "  text_width, text_height = draw.textsize(model.config.id2label[label.item()], font=font)\n"
          ]
        },
        {
          "output_type": "stream",
          "name": "stdout",
          "text": [
            "Detected car with confidence 0.997 at location [500.07, 353.02, 848.19, 529.56]\n",
            "Detected car with confidence 0.931 at location [353.25, 363.76, 381.35, 387.86]\n",
            "[{'frame60': {'car': 5}}, {'frame45': {'car': 6}}, {'frame30': {'car': 5}}, {'frame15': {'car': 2}}]\n",
            "CLIP_124\n",
            "[Errno 17] File exists: '/content/YOLO_bounding_box_images/CLIP_124'\n"
          ]
        },
        {
          "output_type": "stream",
          "name": "stderr",
          "text": [
            "<ipython-input-27-e399afaa81b4>:51: DeprecationWarning: textsize is deprecated and will be removed in Pillow 10 (2023-07-01). Use textbbox or textlength instead.\n",
            "  text_width, text_height = draw.textsize(model.config.id2label[label.item()], font=font)\n",
            "<ipython-input-27-e399afaa81b4>:51: DeprecationWarning: textsize is deprecated and will be removed in Pillow 10 (2023-07-01). Use textbbox or textlength instead.\n",
            "  text_width, text_height = draw.textsize(model.config.id2label[label.item()], font=font)\n"
          ]
        },
        {
          "output_type": "stream",
          "name": "stdout",
          "text": [
            "Detected car with confidence 0.931 at location [587.22, 409.46, 621.6, 433.98]\n"
          ]
        },
        {
          "output_type": "stream",
          "name": "stderr",
          "text": [
            "<ipython-input-27-e399afaa81b4>:51: DeprecationWarning: textsize is deprecated and will be removed in Pillow 10 (2023-07-01). Use textbbox or textlength instead.\n",
            "  text_width, text_height = draw.textsize(model.config.id2label[label.item()], font=font)\n"
          ]
        },
        {
          "output_type": "stream",
          "name": "stdout",
          "text": [
            "Detected car with confidence 0.911 at location [584.0, 409.26, 615.72, 427.73]\n",
            "Detected car with confidence 0.953 at location [624.22, 407.11, 700.28, 459.66]\n"
          ]
        },
        {
          "output_type": "stream",
          "name": "stderr",
          "text": [
            "<ipython-input-27-e399afaa81b4>:51: DeprecationWarning: textsize is deprecated and will be removed in Pillow 10 (2023-07-01). Use textbbox or textlength instead.\n",
            "  text_width, text_height = draw.textsize(model.config.id2label[label.item()], font=font)\n",
            "<ipython-input-27-e399afaa81b4>:51: DeprecationWarning: textsize is deprecated and will be removed in Pillow 10 (2023-07-01). Use textbbox or textlength instead.\n",
            "  text_width, text_height = draw.textsize(model.config.id2label[label.item()], font=font)\n"
          ]
        },
        {
          "output_type": "stream",
          "name": "stdout",
          "text": [
            "Detected car with confidence 0.965 at location [576.03, 400.97, 628.13, 430.6]\n",
            "Detected car with confidence 0.971 at location [747.7, 401.57, 824.22, 458.08]\n",
            "Detected car with confidence 0.906 at location [576.34, 399.47, 642.15, 430.18]\n"
          ]
        },
        {
          "output_type": "stream",
          "name": "stderr",
          "text": [
            "<ipython-input-27-e399afaa81b4>:51: DeprecationWarning: textsize is deprecated and will be removed in Pillow 10 (2023-07-01). Use textbbox or textlength instead.\n",
            "  text_width, text_height = draw.textsize(model.config.id2label[label.item()], font=font)\n",
            "<ipython-input-27-e399afaa81b4>:51: DeprecationWarning: textsize is deprecated and will be removed in Pillow 10 (2023-07-01). Use textbbox or textlength instead.\n",
            "  text_width, text_height = draw.textsize(model.config.id2label[label.item()], font=font)\n",
            "<ipython-input-27-e399afaa81b4>:51: DeprecationWarning: textsize is deprecated and will be removed in Pillow 10 (2023-07-01). Use textbbox or textlength instead.\n",
            "  text_width, text_height = draw.textsize(model.config.id2label[label.item()], font=font)\n"
          ]
        },
        {
          "output_type": "stream",
          "name": "stdout",
          "text": [
            "Detected car with confidence 0.918 at location [697.55, 401.63, 755.73, 436.05]\n",
            "Detected car with confidence 0.904 at location [703.91, 418.39, 757.42, 456.6]\n",
            "Detected person with confidence 0.913 at location [1131.02, 508.06, 1279.37, 715.08]\n",
            "Detected car with confidence 0.913 at location [585.19, 409.99, 617.21, 431.53]\n",
            "Detected person with confidence 0.912 at location [1119.54, 515.91, 1258.46, 716.01]\n"
          ]
        },
        {
          "output_type": "stream",
          "name": "stderr",
          "text": [
            "<ipython-input-27-e399afaa81b4>:51: DeprecationWarning: textsize is deprecated and will be removed in Pillow 10 (2023-07-01). Use textbbox or textlength instead.\n",
            "  text_width, text_height = draw.textsize(model.config.id2label[label.item()], font=font)\n",
            "<ipython-input-27-e399afaa81b4>:51: DeprecationWarning: textsize is deprecated and will be removed in Pillow 10 (2023-07-01). Use textbbox or textlength instead.\n",
            "  text_width, text_height = draw.textsize(model.config.id2label[label.item()], font=font)\n",
            "<ipython-input-27-e399afaa81b4>:51: DeprecationWarning: textsize is deprecated and will be removed in Pillow 10 (2023-07-01). Use textbbox or textlength instead.\n",
            "  text_width, text_height = draw.textsize(model.config.id2label[label.item()], font=font)\n",
            "<ipython-input-27-e399afaa81b4>:51: DeprecationWarning: textsize is deprecated and will be removed in Pillow 10 (2023-07-01). Use textbbox or textlength instead.\n",
            "  text_width, text_height = draw.textsize(model.config.id2label[label.item()], font=font)\n",
            "<ipython-input-27-e399afaa81b4>:51: DeprecationWarning: textsize is deprecated and will be removed in Pillow 10 (2023-07-01). Use textbbox or textlength instead.\n",
            "  text_width, text_height = draw.textsize(model.config.id2label[label.item()], font=font)\n"
          ]
        },
        {
          "output_type": "stream",
          "name": "stdout",
          "text": [
            "[{'frame60': {'car': 1}}, {'frame45': {'car': 2}}, {'frame30': {'car': 3}}, {'frame15': {'car': 3, 'person': 2}}]\n",
            "CLIP_89\n",
            "[Errno 17] File exists: '/content/YOLO_bounding_box_images/CLIP_89'\n",
            "Detected person with confidence 0.99 at location [1056.3, 324.12, 1124.9, 429.55]\n"
          ]
        },
        {
          "output_type": "stream",
          "name": "stderr",
          "text": [
            "<ipython-input-27-e399afaa81b4>:51: DeprecationWarning: textsize is deprecated and will be removed in Pillow 10 (2023-07-01). Use textbbox or textlength instead.\n",
            "  text_width, text_height = draw.textsize(model.config.id2label[label.item()], font=font)\n"
          ]
        },
        {
          "output_type": "stream",
          "name": "stdout",
          "text": [
            "Detected person with confidence 0.992 at location [1023.37, 329.77, 1086.16, 432.33]\n"
          ]
        },
        {
          "output_type": "stream",
          "name": "stderr",
          "text": [
            "<ipython-input-27-e399afaa81b4>:51: DeprecationWarning: textsize is deprecated and will be removed in Pillow 10 (2023-07-01). Use textbbox or textlength instead.\n",
            "  text_width, text_height = draw.textsize(model.config.id2label[label.item()], font=font)\n"
          ]
        },
        {
          "output_type": "stream",
          "name": "stdout",
          "text": [
            "Detected person with confidence 0.91 at location [830.91, 322.19, 858.9, 384.14]\n",
            "Detected motorcycle with confidence 0.943 at location [1003.31, 376.29, 1057.16, 427.21]\n",
            "Detected car with confidence 0.992 at location [1142.09, 363.77, 1279.48, 504.57]\n",
            "Detected person with confidence 0.974 at location [995.27, 326.15, 1051.24, 418.24]\n"
          ]
        },
        {
          "output_type": "stream",
          "name": "stderr",
          "text": [
            "<ipython-input-27-e399afaa81b4>:51: DeprecationWarning: textsize is deprecated and will be removed in Pillow 10 (2023-07-01). Use textbbox or textlength instead.\n",
            "  text_width, text_height = draw.textsize(model.config.id2label[label.item()], font=font)\n",
            "<ipython-input-27-e399afaa81b4>:51: DeprecationWarning: textsize is deprecated and will be removed in Pillow 10 (2023-07-01). Use textbbox or textlength instead.\n",
            "  text_width, text_height = draw.textsize(model.config.id2label[label.item()], font=font)\n",
            "<ipython-input-27-e399afaa81b4>:51: DeprecationWarning: textsize is deprecated and will be removed in Pillow 10 (2023-07-01). Use textbbox or textlength instead.\n",
            "  text_width, text_height = draw.textsize(model.config.id2label[label.item()], font=font)\n",
            "<ipython-input-27-e399afaa81b4>:51: DeprecationWarning: textsize is deprecated and will be removed in Pillow 10 (2023-07-01). Use textbbox or textlength instead.\n",
            "  text_width, text_height = draw.textsize(model.config.id2label[label.item()], font=font)\n"
          ]
        },
        {
          "output_type": "stream",
          "name": "stdout",
          "text": [
            "Detected motorcycle with confidence 0.946 at location [742.77, 354.18, 769.47, 389.17]\n",
            "Detected motorcycle with confidence 0.989 at location [980.82, 373.38, 1029.84, 425.3]\n",
            "Detected stop sign with confidence 0.932 at location [1100.01, 35.6, 1154.46, 104.38]\n",
            "Detected person with confidence 0.913 at location [739.08, 339.5, 759.04, 381.67]\n",
            "Detected car with confidence 0.996 at location [1101.64, 359.18, 1279.32, 499.73]\n",
            "Detected person with confidence 0.97 at location [972.7, 331.1, 1024.39, 417.73]\n"
          ]
        },
        {
          "output_type": "stream",
          "name": "stderr",
          "text": [
            "<ipython-input-27-e399afaa81b4>:51: DeprecationWarning: textsize is deprecated and will be removed in Pillow 10 (2023-07-01). Use textbbox or textlength instead.\n",
            "  text_width, text_height = draw.textsize(model.config.id2label[label.item()], font=font)\n",
            "<ipython-input-27-e399afaa81b4>:51: DeprecationWarning: textsize is deprecated and will be removed in Pillow 10 (2023-07-01). Use textbbox or textlength instead.\n",
            "  text_width, text_height = draw.textsize(model.config.id2label[label.item()], font=font)\n",
            "<ipython-input-27-e399afaa81b4>:51: DeprecationWarning: textsize is deprecated and will be removed in Pillow 10 (2023-07-01). Use textbbox or textlength instead.\n",
            "  text_width, text_height = draw.textsize(model.config.id2label[label.item()], font=font)\n",
            "<ipython-input-27-e399afaa81b4>:51: DeprecationWarning: textsize is deprecated and will be removed in Pillow 10 (2023-07-01). Use textbbox or textlength instead.\n",
            "  text_width, text_height = draw.textsize(model.config.id2label[label.item()], font=font)\n",
            "<ipython-input-27-e399afaa81b4>:51: DeprecationWarning: textsize is deprecated and will be removed in Pillow 10 (2023-07-01). Use textbbox or textlength instead.\n",
            "  text_width, text_height = draw.textsize(model.config.id2label[label.item()], font=font)\n",
            "<ipython-input-27-e399afaa81b4>:51: DeprecationWarning: textsize is deprecated and will be removed in Pillow 10 (2023-07-01). Use textbbox or textlength instead.\n",
            "  text_width, text_height = draw.textsize(model.config.id2label[label.item()], font=font)\n"
          ]
        },
        {
          "output_type": "stream",
          "name": "stdout",
          "text": [
            "[{'frame60': {'person': 1}}, {'frame45': {'person': 1}}, {'frame30': {'person': 2, 'motorcycle': 1, 'car': 1}}, {'frame15': {'motorcycle': 2, 'stop sign': 1, 'person': 2, 'car': 1}}]\n",
            "CLIP_28\n",
            "[Errno 17] File exists: '/content/YOLO_bounding_box_images/CLIP_28'\n",
            "Detected car with confidence 0.957 at location [936.21, 217.77, 1041.33, 262.24]\n",
            "Detected car with confidence 0.911 at location [368.77, 214.83, 443.02, 255.49]\n",
            "Detected car with confidence 0.964 at location [499.65, 222.29, 610.25, 256.21]\n"
          ]
        },
        {
          "output_type": "stream",
          "name": "stderr",
          "text": [
            "<ipython-input-27-e399afaa81b4>:51: DeprecationWarning: textsize is deprecated and will be removed in Pillow 10 (2023-07-01). Use textbbox or textlength instead.\n",
            "  text_width, text_height = draw.textsize(model.config.id2label[label.item()], font=font)\n",
            "<ipython-input-27-e399afaa81b4>:51: DeprecationWarning: textsize is deprecated and will be removed in Pillow 10 (2023-07-01). Use textbbox or textlength instead.\n",
            "  text_width, text_height = draw.textsize(model.config.id2label[label.item()], font=font)\n",
            "<ipython-input-27-e399afaa81b4>:51: DeprecationWarning: textsize is deprecated and will be removed in Pillow 10 (2023-07-01). Use textbbox or textlength instead.\n",
            "  text_width, text_height = draw.textsize(model.config.id2label[label.item()], font=font)\n"
          ]
        },
        {
          "output_type": "stream",
          "name": "stdout",
          "text": [
            "Detected car with confidence 0.913 at location [641.78, 215.37, 691.72, 245.64]\n",
            "Detected truck with confidence 0.981 at location [804.27, 187.79, 1239.8, 427.83]\n",
            "Detected car with confidence 0.948 at location [660.34, 214.56, 841.79, 315.26]\n",
            "Detected car with confidence 0.926 at location [604.13, 218.42, 670.64, 251.09]\n",
            "Detected car with confidence 0.925 at location [331.23, 211.06, 404.75, 243.92]\n",
            "Detected car with confidence 0.911 at location [262.45, 206.75, 318.35, 230.07]\n"
          ]
        },
        {
          "output_type": "stream",
          "name": "stderr",
          "text": [
            "<ipython-input-27-e399afaa81b4>:51: DeprecationWarning: textsize is deprecated and will be removed in Pillow 10 (2023-07-01). Use textbbox or textlength instead.\n",
            "  text_width, text_height = draw.textsize(model.config.id2label[label.item()], font=font)\n",
            "<ipython-input-27-e399afaa81b4>:51: DeprecationWarning: textsize is deprecated and will be removed in Pillow 10 (2023-07-01). Use textbbox or textlength instead.\n",
            "  text_width, text_height = draw.textsize(model.config.id2label[label.item()], font=font)\n",
            "<ipython-input-27-e399afaa81b4>:51: DeprecationWarning: textsize is deprecated and will be removed in Pillow 10 (2023-07-01). Use textbbox or textlength instead.\n",
            "  text_width, text_height = draw.textsize(model.config.id2label[label.item()], font=font)\n",
            "<ipython-input-27-e399afaa81b4>:51: DeprecationWarning: textsize is deprecated and will be removed in Pillow 10 (2023-07-01). Use textbbox or textlength instead.\n",
            "  text_width, text_height = draw.textsize(model.config.id2label[label.item()], font=font)\n",
            "<ipython-input-27-e399afaa81b4>:51: DeprecationWarning: textsize is deprecated and will be removed in Pillow 10 (2023-07-01). Use textbbox or textlength instead.\n",
            "  text_width, text_height = draw.textsize(model.config.id2label[label.item()], font=font)\n",
            "<ipython-input-27-e399afaa81b4>:51: DeprecationWarning: textsize is deprecated and will be removed in Pillow 10 (2023-07-01). Use textbbox or textlength instead.\n",
            "  text_width, text_height = draw.textsize(model.config.id2label[label.item()], font=font)\n"
          ]
        },
        {
          "output_type": "stream",
          "name": "stdout",
          "text": [
            "Detected car with confidence 0.914 at location [390.56, 225.09, 464.47, 258.5]\n",
            "Detected truck with confidence 0.976 at location [878.15, 128.59, 1278.2, 430.33]\n",
            "Detected car with confidence 0.946 at location [498.94, 233.4, 551.85, 260.35]\n"
          ]
        },
        {
          "output_type": "stream",
          "name": "stderr",
          "text": [
            "<ipython-input-27-e399afaa81b4>:51: DeprecationWarning: textsize is deprecated and will be removed in Pillow 10 (2023-07-01). Use textbbox or textlength instead.\n",
            "  text_width, text_height = draw.textsize(model.config.id2label[label.item()], font=font)\n",
            "<ipython-input-27-e399afaa81b4>:51: DeprecationWarning: textsize is deprecated and will be removed in Pillow 10 (2023-07-01). Use textbbox or textlength instead.\n",
            "  text_width, text_height = draw.textsize(model.config.id2label[label.item()], font=font)\n",
            "<ipython-input-27-e399afaa81b4>:51: DeprecationWarning: textsize is deprecated and will be removed in Pillow 10 (2023-07-01). Use textbbox or textlength instead.\n",
            "  text_width, text_height = draw.textsize(model.config.id2label[label.item()], font=font)\n"
          ]
        },
        {
          "output_type": "stream",
          "name": "stdout",
          "text": [
            "Detected truck with confidence 0.995 at location [656.34, 160.57, 1125.06, 375.06]\n",
            "Detected car with confidence 0.942 at location [359.46, 233.44, 428.0, 262.02]\n",
            "Detected truck with confidence 0.934 at location [0.38, 224.33, 168.04, 298.55]\n",
            "Detected car with confidence 0.972 at location [443.62, 230.57, 540.94, 288.07]\n"
          ]
        },
        {
          "output_type": "stream",
          "name": "stderr",
          "text": [
            "<ipython-input-27-e399afaa81b4>:51: DeprecationWarning: textsize is deprecated and will be removed in Pillow 10 (2023-07-01). Use textbbox or textlength instead.\n",
            "  text_width, text_height = draw.textsize(model.config.id2label[label.item()], font=font)\n",
            "<ipython-input-27-e399afaa81b4>:51: DeprecationWarning: textsize is deprecated and will be removed in Pillow 10 (2023-07-01). Use textbbox or textlength instead.\n",
            "  text_width, text_height = draw.textsize(model.config.id2label[label.item()], font=font)\n",
            "<ipython-input-27-e399afaa81b4>:51: DeprecationWarning: textsize is deprecated and will be removed in Pillow 10 (2023-07-01). Use textbbox or textlength instead.\n",
            "  text_width, text_height = draw.textsize(model.config.id2label[label.item()], font=font)\n",
            "<ipython-input-27-e399afaa81b4>:51: DeprecationWarning: textsize is deprecated and will be removed in Pillow 10 (2023-07-01). Use textbbox or textlength instead.\n",
            "  text_width, text_height = draw.textsize(model.config.id2label[label.item()], font=font)\n"
          ]
        },
        {
          "output_type": "stream",
          "name": "stdout",
          "text": [
            "[{'frame60': {'car': 3}}, {'frame45': {'car': 5, 'truck': 1}}, {'frame30': {'car': 2, 'truck': 1}}, {'frame15': {'truck': 2, 'car': 2}}]\n",
            "CLIP_95\n",
            "[Errno 17] File exists: '/content/YOLO_bounding_box_images/CLIP_95'\n",
            "Detected traffic light with confidence 0.94 at location [511.45, 297.94, 521.92, 320.26]\n",
            "Detected car with confidence 0.975 at location [568.22, 374.93, 640.94, 447.9]\n",
            "Detected car with confidence 0.981 at location [372.29, 388.15, 446.0, 441.59]\n",
            "Detected traffic light with confidence 0.927 at location [579.25, 296.47, 589.66, 316.94]\n",
            "Detected traffic light with confidence 0.97 at location [412.33, 300.09, 424.36, 321.04]\n",
            "Detected car with confidence 0.982 at location [229.98, 368.93, 377.97, 466.18]\n",
            "Detected traffic light with confidence 0.994 at location [1105.96, 133.06, 1143.79, 197.16]\n",
            "Detected traffic light with confidence 0.912 at location [513.38, 297.7, 524.74, 320.27]\n",
            "Detected car with confidence 0.937 at location [639.25, 396.01, 659.69, 411.48]\n",
            "Detected car with confidence 0.921 at location [443.08, 383.89, 501.49, 426.65]\n",
            "Detected traffic light with confidence 0.911 at location [574.62, 296.85, 584.81, 317.31]\n",
            "Detected car with confidence 0.964 at location [7.06, 370.81, 243.12, 511.32]\n",
            "Detected traffic light with confidence 0.972 at location [416.63, 301.49, 430.31, 322.09]\n",
            "Detected traffic light with confidence 0.906 at location [1040.26, 176.31, 1074.38, 225.96]\n",
            "Detected car with confidence 0.934 at location [513.78, 394.49, 544.12, 415.65]\n",
            "Detected car with confidence 0.952 at location [445.06, 383.7, 507.97, 425.81]\n"
          ]
        },
        {
          "output_type": "stream",
          "name": "stderr",
          "text": [
            "<ipython-input-27-e399afaa81b4>:51: DeprecationWarning: textsize is deprecated and will be removed in Pillow 10 (2023-07-01). Use textbbox or textlength instead.\n",
            "  text_width, text_height = draw.textsize(model.config.id2label[label.item()], font=font)\n",
            "<ipython-input-27-e399afaa81b4>:51: DeprecationWarning: textsize is deprecated and will be removed in Pillow 10 (2023-07-01). Use textbbox or textlength instead.\n",
            "  text_width, text_height = draw.textsize(model.config.id2label[label.item()], font=font)\n",
            "<ipython-input-27-e399afaa81b4>:51: DeprecationWarning: textsize is deprecated and will be removed in Pillow 10 (2023-07-01). Use textbbox or textlength instead.\n",
            "  text_width, text_height = draw.textsize(model.config.id2label[label.item()], font=font)\n",
            "<ipython-input-27-e399afaa81b4>:51: DeprecationWarning: textsize is deprecated and will be removed in Pillow 10 (2023-07-01). Use textbbox or textlength instead.\n",
            "  text_width, text_height = draw.textsize(model.config.id2label[label.item()], font=font)\n",
            "<ipython-input-27-e399afaa81b4>:51: DeprecationWarning: textsize is deprecated and will be removed in Pillow 10 (2023-07-01). Use textbbox or textlength instead.\n",
            "  text_width, text_height = draw.textsize(model.config.id2label[label.item()], font=font)\n",
            "<ipython-input-27-e399afaa81b4>:51: DeprecationWarning: textsize is deprecated and will be removed in Pillow 10 (2023-07-01). Use textbbox or textlength instead.\n",
            "  text_width, text_height = draw.textsize(model.config.id2label[label.item()], font=font)\n",
            "<ipython-input-27-e399afaa81b4>:51: DeprecationWarning: textsize is deprecated and will be removed in Pillow 10 (2023-07-01). Use textbbox or textlength instead.\n",
            "  text_width, text_height = draw.textsize(model.config.id2label[label.item()], font=font)\n",
            "<ipython-input-27-e399afaa81b4>:51: DeprecationWarning: textsize is deprecated and will be removed in Pillow 10 (2023-07-01). Use textbbox or textlength instead.\n",
            "  text_width, text_height = draw.textsize(model.config.id2label[label.item()], font=font)\n",
            "<ipython-input-27-e399afaa81b4>:51: DeprecationWarning: textsize is deprecated and will be removed in Pillow 10 (2023-07-01). Use textbbox or textlength instead.\n",
            "  text_width, text_height = draw.textsize(model.config.id2label[label.item()], font=font)\n",
            "<ipython-input-27-e399afaa81b4>:51: DeprecationWarning: textsize is deprecated and will be removed in Pillow 10 (2023-07-01). Use textbbox or textlength instead.\n",
            "  text_width, text_height = draw.textsize(model.config.id2label[label.item()], font=font)\n",
            "<ipython-input-27-e399afaa81b4>:51: DeprecationWarning: textsize is deprecated and will be removed in Pillow 10 (2023-07-01). Use textbbox or textlength instead.\n",
            "  text_width, text_height = draw.textsize(model.config.id2label[label.item()], font=font)\n",
            "<ipython-input-27-e399afaa81b4>:51: DeprecationWarning: textsize is deprecated and will be removed in Pillow 10 (2023-07-01). Use textbbox or textlength instead.\n",
            "  text_width, text_height = draw.textsize(model.config.id2label[label.item()], font=font)\n",
            "<ipython-input-27-e399afaa81b4>:51: DeprecationWarning: textsize is deprecated and will be removed in Pillow 10 (2023-07-01). Use textbbox or textlength instead.\n",
            "  text_width, text_height = draw.textsize(model.config.id2label[label.item()], font=font)\n",
            "<ipython-input-27-e399afaa81b4>:51: DeprecationWarning: textsize is deprecated and will be removed in Pillow 10 (2023-07-01). Use textbbox or textlength instead.\n",
            "  text_width, text_height = draw.textsize(model.config.id2label[label.item()], font=font)\n",
            "<ipython-input-27-e399afaa81b4>:51: DeprecationWarning: textsize is deprecated and will be removed in Pillow 10 (2023-07-01). Use textbbox or textlength instead.\n",
            "  text_width, text_height = draw.textsize(model.config.id2label[label.item()], font=font)\n",
            "<ipython-input-27-e399afaa81b4>:51: DeprecationWarning: textsize is deprecated and will be removed in Pillow 10 (2023-07-01). Use textbbox or textlength instead.\n",
            "  text_width, text_height = draw.textsize(model.config.id2label[label.item()], font=font)\n"
          ]
        },
        {
          "output_type": "stream",
          "name": "stdout",
          "text": [
            "Detected traffic light with confidence 0.965 at location [588.35, 311.93, 598.01, 329.07]\n",
            "Detected traffic light with confidence 0.905 at location [583.73, 312.46, 592.76, 329.01]\n",
            "Detected car with confidence 0.987 at location [0.47, 583.54, 1280.47, 715.16]\n",
            "Detected traffic light with confidence 0.93 at location [522.45, 310.3, 532.69, 327.78]\n",
            "Detected traffic light with confidence 0.99 at location [982.71, 206.92, 1009.07, 253.55]\n",
            "Detected car with confidence 0.967 at location [0.56, 362.02, 116.28, 511.67]\n",
            "Detected traffic light with confidence 0.985 at location [437.63, 313.33, 448.84, 329.76]\n",
            "Detected traffic light with confidence 0.923 at location [1050.18, 192.38, 1076.18, 237.01]\n",
            "Detected traffic light with confidence 0.962 at location [1034.95, 200.42, 1063.57, 240.15]\n",
            "Detected car with confidence 0.976 at location [465.45, 386.29, 519.49, 426.4]\n"
          ]
        },
        {
          "output_type": "stream",
          "name": "stderr",
          "text": [
            "<ipython-input-27-e399afaa81b4>:51: DeprecationWarning: textsize is deprecated and will be removed in Pillow 10 (2023-07-01). Use textbbox or textlength instead.\n",
            "  text_width, text_height = draw.textsize(model.config.id2label[label.item()], font=font)\n",
            "<ipython-input-27-e399afaa81b4>:51: DeprecationWarning: textsize is deprecated and will be removed in Pillow 10 (2023-07-01). Use textbbox or textlength instead.\n",
            "  text_width, text_height = draw.textsize(model.config.id2label[label.item()], font=font)\n",
            "<ipython-input-27-e399afaa81b4>:51: DeprecationWarning: textsize is deprecated and will be removed in Pillow 10 (2023-07-01). Use textbbox or textlength instead.\n",
            "  text_width, text_height = draw.textsize(model.config.id2label[label.item()], font=font)\n",
            "<ipython-input-27-e399afaa81b4>:51: DeprecationWarning: textsize is deprecated and will be removed in Pillow 10 (2023-07-01). Use textbbox or textlength instead.\n",
            "  text_width, text_height = draw.textsize(model.config.id2label[label.item()], font=font)\n",
            "<ipython-input-27-e399afaa81b4>:51: DeprecationWarning: textsize is deprecated and will be removed in Pillow 10 (2023-07-01). Use textbbox or textlength instead.\n",
            "  text_width, text_height = draw.textsize(model.config.id2label[label.item()], font=font)\n",
            "<ipython-input-27-e399afaa81b4>:51: DeprecationWarning: textsize is deprecated and will be removed in Pillow 10 (2023-07-01). Use textbbox or textlength instead.\n",
            "  text_width, text_height = draw.textsize(model.config.id2label[label.item()], font=font)\n",
            "<ipython-input-27-e399afaa81b4>:51: DeprecationWarning: textsize is deprecated and will be removed in Pillow 10 (2023-07-01). Use textbbox or textlength instead.\n",
            "  text_width, text_height = draw.textsize(model.config.id2label[label.item()], font=font)\n",
            "<ipython-input-27-e399afaa81b4>:51: DeprecationWarning: textsize is deprecated and will be removed in Pillow 10 (2023-07-01). Use textbbox or textlength instead.\n",
            "  text_width, text_height = draw.textsize(model.config.id2label[label.item()], font=font)\n",
            "<ipython-input-27-e399afaa81b4>:51: DeprecationWarning: textsize is deprecated and will be removed in Pillow 10 (2023-07-01). Use textbbox or textlength instead.\n",
            "  text_width, text_height = draw.textsize(model.config.id2label[label.item()], font=font)\n",
            "<ipython-input-27-e399afaa81b4>:51: DeprecationWarning: textsize is deprecated and will be removed in Pillow 10 (2023-07-01). Use textbbox or textlength instead.\n",
            "  text_width, text_height = draw.textsize(model.config.id2label[label.item()], font=font)\n"
          ]
        },
        {
          "output_type": "stream",
          "name": "stdout",
          "text": [
            "Detected traffic light with confidence 0.936 at location [976.3, 212.83, 1002.2, 258.43]\n",
            "Detected traffic light with confidence 0.922 at location [591.02, 317.63, 599.95, 333.98]\n",
            "Detected traffic light with confidence 0.978 at location [931.53, 237.64, 953.33, 274.9]\n",
            "Detected car with confidence 0.989 at location [375.58, 389.01, 457.65, 443.19]\n",
            "Detected car with confidence 0.937 at location [231.43, 378.84, 380.24, 470.81]\n",
            "Detected traffic light with confidence 0.914 at location [33.42, 201.77, 54.38, 237.54]\n",
            "Detected car with confidence 0.971 at location [0.4, 593.67, 1280.38, 715.7]\n",
            "Detected car with confidence 0.944 at location [448.17, 388.48, 500.24, 429.83]\n",
            "Detected car with confidence 0.93 at location [0.96, 358.56, 227.99, 504.16]\n",
            "Detected traffic light with confidence 0.967 at location [457.04, 320.24, 466.24, 335.82]\n",
            "Detected car with confidence 0.974 at location [1209.1, 408.04, 1279.77, 450.76]\n",
            "Detected traffic light with confidence 0.963 at location [978.35, 214.27, 1003.88, 258.08]\n",
            "Detected car with confidence 0.969 at location [493.7, 386.61, 540.45, 421.15]\n",
            "Detected traffic light with confidence 0.907 at location [543.1, 319.81, 551.99, 334.31]\n",
            "Detected car with confidence 0.965 at location [471.36, 386.45, 523.66, 427.09]\n"
          ]
        },
        {
          "output_type": "stream",
          "name": "stderr",
          "text": [
            "<ipython-input-27-e399afaa81b4>:51: DeprecationWarning: textsize is deprecated and will be removed in Pillow 10 (2023-07-01). Use textbbox or textlength instead.\n",
            "  text_width, text_height = draw.textsize(model.config.id2label[label.item()], font=font)\n",
            "<ipython-input-27-e399afaa81b4>:51: DeprecationWarning: textsize is deprecated and will be removed in Pillow 10 (2023-07-01). Use textbbox or textlength instead.\n",
            "  text_width, text_height = draw.textsize(model.config.id2label[label.item()], font=font)\n",
            "<ipython-input-27-e399afaa81b4>:51: DeprecationWarning: textsize is deprecated and will be removed in Pillow 10 (2023-07-01). Use textbbox or textlength instead.\n",
            "  text_width, text_height = draw.textsize(model.config.id2label[label.item()], font=font)\n",
            "<ipython-input-27-e399afaa81b4>:51: DeprecationWarning: textsize is deprecated and will be removed in Pillow 10 (2023-07-01). Use textbbox or textlength instead.\n",
            "  text_width, text_height = draw.textsize(model.config.id2label[label.item()], font=font)\n",
            "<ipython-input-27-e399afaa81b4>:51: DeprecationWarning: textsize is deprecated and will be removed in Pillow 10 (2023-07-01). Use textbbox or textlength instead.\n",
            "  text_width, text_height = draw.textsize(model.config.id2label[label.item()], font=font)\n",
            "<ipython-input-27-e399afaa81b4>:51: DeprecationWarning: textsize is deprecated and will be removed in Pillow 10 (2023-07-01). Use textbbox or textlength instead.\n",
            "  text_width, text_height = draw.textsize(model.config.id2label[label.item()], font=font)\n",
            "<ipython-input-27-e399afaa81b4>:51: DeprecationWarning: textsize is deprecated and will be removed in Pillow 10 (2023-07-01). Use textbbox or textlength instead.\n",
            "  text_width, text_height = draw.textsize(model.config.id2label[label.item()], font=font)\n",
            "<ipython-input-27-e399afaa81b4>:51: DeprecationWarning: textsize is deprecated and will be removed in Pillow 10 (2023-07-01). Use textbbox or textlength instead.\n",
            "  text_width, text_height = draw.textsize(model.config.id2label[label.item()], font=font)\n",
            "<ipython-input-27-e399afaa81b4>:51: DeprecationWarning: textsize is deprecated and will be removed in Pillow 10 (2023-07-01). Use textbbox or textlength instead.\n",
            "  text_width, text_height = draw.textsize(model.config.id2label[label.item()], font=font)\n",
            "<ipython-input-27-e399afaa81b4>:51: DeprecationWarning: textsize is deprecated and will be removed in Pillow 10 (2023-07-01). Use textbbox or textlength instead.\n",
            "  text_width, text_height = draw.textsize(model.config.id2label[label.item()], font=font)\n",
            "<ipython-input-27-e399afaa81b4>:51: DeprecationWarning: textsize is deprecated and will be removed in Pillow 10 (2023-07-01). Use textbbox or textlength instead.\n",
            "  text_width, text_height = draw.textsize(model.config.id2label[label.item()], font=font)\n",
            "<ipython-input-27-e399afaa81b4>:51: DeprecationWarning: textsize is deprecated and will be removed in Pillow 10 (2023-07-01). Use textbbox or textlength instead.\n",
            "  text_width, text_height = draw.textsize(model.config.id2label[label.item()], font=font)\n",
            "<ipython-input-27-e399afaa81b4>:51: DeprecationWarning: textsize is deprecated and will be removed in Pillow 10 (2023-07-01). Use textbbox or textlength instead.\n",
            "  text_width, text_height = draw.textsize(model.config.id2label[label.item()], font=font)\n",
            "<ipython-input-27-e399afaa81b4>:51: DeprecationWarning: textsize is deprecated and will be removed in Pillow 10 (2023-07-01). Use textbbox or textlength instead.\n",
            "  text_width, text_height = draw.textsize(model.config.id2label[label.item()], font=font)\n",
            "<ipython-input-27-e399afaa81b4>:51: DeprecationWarning: textsize is deprecated and will be removed in Pillow 10 (2023-07-01). Use textbbox or textlength instead.\n",
            "  text_width, text_height = draw.textsize(model.config.id2label[label.item()], font=font)\n"
          ]
        },
        {
          "output_type": "stream",
          "name": "stdout",
          "text": [
            "Detected traffic light with confidence 0.91 at location [113.28, 223.38, 133.17, 255.44]\n",
            "Detected traffic light with confidence 0.971 at location [476.77, 328.15, 484.93, 342.87]\n",
            "Detected traffic light with confidence 0.911 at location [598.05, 324.01, 606.45, 337.83]\n",
            "Detected car with confidence 0.988 at location [412.31, 385.32, 482.35, 440.52]\n",
            "Detected car with confidence 0.964 at location [270.24, 385.05, 393.95, 465.52]\n",
            "Detected car with confidence 0.985 at location [0.35, 586.81, 1280.34, 715.47]\n",
            "Detected car with confidence 0.941 at location [467.09, 390.6, 505.42, 426.34]\n",
            "Detected traffic light with confidence 0.921 at location [473.06, 326.9, 480.89, 341.06]\n",
            "Detected car with confidence 0.982 at location [-0.08, 394.3, 40.24, 433.49]\n",
            "Detected traffic light with confidence 0.91 at location [953.5, 336.92, 969.88, 353.16]\n",
            "Detected traffic light with confidence 0.988 at location [935.23, 242.54, 954.71, 277.59]\n",
            "Detected car with confidence 0.987 at location [509.05, 390.01, 545.44, 420.27]\n",
            "Detected traffic light with confidence 0.927 at location [544.78, 324.03, 553.62, 339.75]\n"
          ]
        },
        {
          "output_type": "stream",
          "name": "stderr",
          "text": [
            "<ipython-input-27-e399afaa81b4>:51: DeprecationWarning: textsize is deprecated and will be removed in Pillow 10 (2023-07-01). Use textbbox or textlength instead.\n",
            "  text_width, text_height = draw.textsize(model.config.id2label[label.item()], font=font)\n",
            "<ipython-input-27-e399afaa81b4>:51: DeprecationWarning: textsize is deprecated and will be removed in Pillow 10 (2023-07-01). Use textbbox or textlength instead.\n",
            "  text_width, text_height = draw.textsize(model.config.id2label[label.item()], font=font)\n",
            "<ipython-input-27-e399afaa81b4>:51: DeprecationWarning: textsize is deprecated and will be removed in Pillow 10 (2023-07-01). Use textbbox or textlength instead.\n",
            "  text_width, text_height = draw.textsize(model.config.id2label[label.item()], font=font)\n",
            "<ipython-input-27-e399afaa81b4>:51: DeprecationWarning: textsize is deprecated and will be removed in Pillow 10 (2023-07-01). Use textbbox or textlength instead.\n",
            "  text_width, text_height = draw.textsize(model.config.id2label[label.item()], font=font)\n",
            "<ipython-input-27-e399afaa81b4>:51: DeprecationWarning: textsize is deprecated and will be removed in Pillow 10 (2023-07-01). Use textbbox or textlength instead.\n",
            "  text_width, text_height = draw.textsize(model.config.id2label[label.item()], font=font)\n",
            "<ipython-input-27-e399afaa81b4>:51: DeprecationWarning: textsize is deprecated and will be removed in Pillow 10 (2023-07-01). Use textbbox or textlength instead.\n",
            "  text_width, text_height = draw.textsize(model.config.id2label[label.item()], font=font)\n",
            "<ipython-input-27-e399afaa81b4>:51: DeprecationWarning: textsize is deprecated and will be removed in Pillow 10 (2023-07-01). Use textbbox or textlength instead.\n",
            "  text_width, text_height = draw.textsize(model.config.id2label[label.item()], font=font)\n",
            "<ipython-input-27-e399afaa81b4>:51: DeprecationWarning: textsize is deprecated and will be removed in Pillow 10 (2023-07-01). Use textbbox or textlength instead.\n",
            "  text_width, text_height = draw.textsize(model.config.id2label[label.item()], font=font)\n",
            "<ipython-input-27-e399afaa81b4>:51: DeprecationWarning: textsize is deprecated and will be removed in Pillow 10 (2023-07-01). Use textbbox or textlength instead.\n",
            "  text_width, text_height = draw.textsize(model.config.id2label[label.item()], font=font)\n",
            "<ipython-input-27-e399afaa81b4>:51: DeprecationWarning: textsize is deprecated and will be removed in Pillow 10 (2023-07-01). Use textbbox or textlength instead.\n",
            "  text_width, text_height = draw.textsize(model.config.id2label[label.item()], font=font)\n",
            "<ipython-input-27-e399afaa81b4>:51: DeprecationWarning: textsize is deprecated and will be removed in Pillow 10 (2023-07-01). Use textbbox or textlength instead.\n",
            "  text_width, text_height = draw.textsize(model.config.id2label[label.item()], font=font)\n",
            "<ipython-input-27-e399afaa81b4>:51: DeprecationWarning: textsize is deprecated and will be removed in Pillow 10 (2023-07-01). Use textbbox or textlength instead.\n",
            "  text_width, text_height = draw.textsize(model.config.id2label[label.item()], font=font)\n",
            "<ipython-input-27-e399afaa81b4>:51: DeprecationWarning: textsize is deprecated and will be removed in Pillow 10 (2023-07-01). Use textbbox or textlength instead.\n",
            "  text_width, text_height = draw.textsize(model.config.id2label[label.item()], font=font)\n"
          ]
        },
        {
          "output_type": "stream",
          "name": "stdout",
          "text": [
            "[{'frame60': {'traffic light': 8, 'car': 8}}, {'frame45': {'traffic light': 7, 'car': 3}}, {'frame30': {'traffic light': 7, 'car': 8}}, {'frame15': {'traffic light': 7, 'car': 6}}]\n",
            "CLIP_322\n",
            "[Errno 17] File exists: '/content/YOLO_bounding_box_images/CLIP_322'\n",
            "Detected car with confidence 0.957 at location [524.38, 384.93, 574.26, 418.11]\n",
            "Detected car with confidence 0.93 at location [2.75, 304.41, 513.12, 680.98]\n"
          ]
        },
        {
          "output_type": "stream",
          "name": "stderr",
          "text": [
            "<ipython-input-27-e399afaa81b4>:51: DeprecationWarning: textsize is deprecated and will be removed in Pillow 10 (2023-07-01). Use textbbox or textlength instead.\n",
            "  text_width, text_height = draw.textsize(model.config.id2label[label.item()], font=font)\n",
            "<ipython-input-27-e399afaa81b4>:51: DeprecationWarning: textsize is deprecated and will be removed in Pillow 10 (2023-07-01). Use textbbox or textlength instead.\n",
            "  text_width, text_height = draw.textsize(model.config.id2label[label.item()], font=font)\n"
          ]
        },
        {
          "output_type": "stream",
          "name": "stdout",
          "text": [
            "Detected car with confidence 0.934 at location [1.64, 230.92, 402.79, 658.15]\n"
          ]
        },
        {
          "output_type": "stream",
          "name": "stderr",
          "text": [
            "<ipython-input-27-e399afaa81b4>:51: DeprecationWarning: textsize is deprecated and will be removed in Pillow 10 (2023-07-01). Use textbbox or textlength instead.\n",
            "  text_width, text_height = draw.textsize(model.config.id2label[label.item()], font=font)\n"
          ]
        },
        {
          "output_type": "stream",
          "name": "stdout",
          "text": [
            "Detected car with confidence 0.934 at location [1.15, 340.92, 351.29, 673.14]\n",
            "[{'frame60': {'car': 2}}, {'frame45': {}}, {'frame30': {'car': 1}}, {'frame15': {'car': 1}}]\n",
            "CLIP_183\n",
            "[Errno 17] File exists: '/content/YOLO_bounding_box_images/CLIP_183'\n"
          ]
        },
        {
          "output_type": "stream",
          "name": "stderr",
          "text": [
            "<ipython-input-27-e399afaa81b4>:51: DeprecationWarning: textsize is deprecated and will be removed in Pillow 10 (2023-07-01). Use textbbox or textlength instead.\n",
            "  text_width, text_height = draw.textsize(model.config.id2label[label.item()], font=font)\n"
          ]
        },
        {
          "output_type": "stream",
          "name": "stdout",
          "text": [
            "Detected car with confidence 0.914 at location [893.72, 368.52, 1143.27, 492.77]\n"
          ]
        },
        {
          "output_type": "stream",
          "name": "stderr",
          "text": [
            "<ipython-input-27-e399afaa81b4>:51: DeprecationWarning: textsize is deprecated and will be removed in Pillow 10 (2023-07-01). Use textbbox or textlength instead.\n",
            "  text_width, text_height = draw.textsize(model.config.id2label[label.item()], font=font)\n"
          ]
        },
        {
          "output_type": "stream",
          "name": "stdout",
          "text": [
            "Detected car with confidence 0.928 at location [782.08, 359.69, 856.24, 412.5]\n",
            "Detected car with confidence 0.998 at location [1007.04, 345.7, 1278.89, 548.39]\n"
          ]
        },
        {
          "output_type": "stream",
          "name": "stderr",
          "text": [
            "<ipython-input-27-e399afaa81b4>:51: DeprecationWarning: textsize is deprecated and will be removed in Pillow 10 (2023-07-01). Use textbbox or textlength instead.\n",
            "  text_width, text_height = draw.textsize(model.config.id2label[label.item()], font=font)\n",
            "<ipython-input-27-e399afaa81b4>:51: DeprecationWarning: textsize is deprecated and will be removed in Pillow 10 (2023-07-01). Use textbbox or textlength instead.\n",
            "  text_width, text_height = draw.textsize(model.config.id2label[label.item()], font=font)\n"
          ]
        },
        {
          "output_type": "stream",
          "name": "stdout",
          "text": [
            "Detected car with confidence 0.957 at location [782.9, 360.91, 894.77, 429.35]\n",
            "Detected car with confidence 0.997 at location [1120.78, 357.05, 1279.36, 555.47]\n"
          ]
        },
        {
          "output_type": "stream",
          "name": "stderr",
          "text": [
            "<ipython-input-27-e399afaa81b4>:51: DeprecationWarning: textsize is deprecated and will be removed in Pillow 10 (2023-07-01). Use textbbox or textlength instead.\n",
            "  text_width, text_height = draw.textsize(model.config.id2label[label.item()], font=font)\n",
            "<ipython-input-27-e399afaa81b4>:51: DeprecationWarning: textsize is deprecated and will be removed in Pillow 10 (2023-07-01). Use textbbox or textlength instead.\n",
            "  text_width, text_height = draw.textsize(model.config.id2label[label.item()], font=font)\n"
          ]
        },
        {
          "output_type": "stream",
          "name": "stdout",
          "text": [
            "Detected car with confidence 0.982 at location [1131.76, 384.13, 1279.24, 557.83]\n",
            "Detected car with confidence 0.971 at location [806.68, 364.32, 897.67, 436.5]\n"
          ]
        },
        {
          "output_type": "stream",
          "name": "stderr",
          "text": [
            "<ipython-input-27-e399afaa81b4>:51: DeprecationWarning: textsize is deprecated and will be removed in Pillow 10 (2023-07-01). Use textbbox or textlength instead.\n",
            "  text_width, text_height = draw.textsize(model.config.id2label[label.item()], font=font)\n",
            "<ipython-input-27-e399afaa81b4>:51: DeprecationWarning: textsize is deprecated and will be removed in Pillow 10 (2023-07-01). Use textbbox or textlength instead.\n",
            "  text_width, text_height = draw.textsize(model.config.id2label[label.item()], font=font)\n"
          ]
        },
        {
          "output_type": "stream",
          "name": "stdout",
          "text": [
            "[{'frame60': {'car': 1}}, {'frame45': {'car': 2}}, {'frame30': {'car': 2}}, {'frame15': {'car': 2}}]\n",
            "CLIP_52\n",
            "[Errno 17] File exists: '/content/YOLO_bounding_box_images/CLIP_52'\n",
            "Detected traffic light with confidence 0.984 at location [565.0, 264.97, 587.41, 297.41]\n",
            "Detected car with confidence 0.992 at location [741.88, 360.39, 832.38, 416.64]\n",
            "Detected traffic light with confidence 0.96 at location [702.36, 275.23, 725.96, 299.76]\n",
            "Detected traffic light with confidence 0.991 at location [1185.12, 143.05, 1218.3, 190.59]\n",
            "Detected traffic light with confidence 0.963 at location [34.96, 262.64, 54.82, 298.92]\n",
            "Detected car with confidence 0.965 at location [454.63, 369.34, 544.57, 430.24]\n",
            "Detected car with confidence 0.986 at location [5.17, 586.85, 1272.22, 716.32]\n",
            "Detected traffic light with confidence 0.918 at location [646.31, 271.07, 667.33, 296.15]\n",
            "Detected traffic light with confidence 0.957 at location [1267.77, 111.36, 1279.97, 156.08]\n",
            "Detected car with confidence 0.939 at location [388.08, 371.26, 447.71, 404.83]\n",
            "Detected traffic light with confidence 0.99 at location [1122.13, 169.33, 1148.54, 208.73]\n",
            "Detected car with confidence 0.976 at location [963.71, 287.75, 1278.44, 569.4]\n",
            "Detected traffic light with confidence 0.967 at location [648.83, 270.18, 672.51, 295.42]\n"
          ]
        },
        {
          "output_type": "stream",
          "name": "stderr",
          "text": [
            "<ipython-input-27-e399afaa81b4>:51: DeprecationWarning: textsize is deprecated and will be removed in Pillow 10 (2023-07-01). Use textbbox or textlength instead.\n",
            "  text_width, text_height = draw.textsize(model.config.id2label[label.item()], font=font)\n",
            "<ipython-input-27-e399afaa81b4>:51: DeprecationWarning: textsize is deprecated and will be removed in Pillow 10 (2023-07-01). Use textbbox or textlength instead.\n",
            "  text_width, text_height = draw.textsize(model.config.id2label[label.item()], font=font)\n",
            "<ipython-input-27-e399afaa81b4>:51: DeprecationWarning: textsize is deprecated and will be removed in Pillow 10 (2023-07-01). Use textbbox or textlength instead.\n",
            "  text_width, text_height = draw.textsize(model.config.id2label[label.item()], font=font)\n",
            "<ipython-input-27-e399afaa81b4>:51: DeprecationWarning: textsize is deprecated and will be removed in Pillow 10 (2023-07-01). Use textbbox or textlength instead.\n",
            "  text_width, text_height = draw.textsize(model.config.id2label[label.item()], font=font)\n",
            "<ipython-input-27-e399afaa81b4>:51: DeprecationWarning: textsize is deprecated and will be removed in Pillow 10 (2023-07-01). Use textbbox or textlength instead.\n",
            "  text_width, text_height = draw.textsize(model.config.id2label[label.item()], font=font)\n",
            "<ipython-input-27-e399afaa81b4>:51: DeprecationWarning: textsize is deprecated and will be removed in Pillow 10 (2023-07-01). Use textbbox or textlength instead.\n",
            "  text_width, text_height = draw.textsize(model.config.id2label[label.item()], font=font)\n",
            "<ipython-input-27-e399afaa81b4>:51: DeprecationWarning: textsize is deprecated and will be removed in Pillow 10 (2023-07-01). Use textbbox or textlength instead.\n",
            "  text_width, text_height = draw.textsize(model.config.id2label[label.item()], font=font)\n",
            "<ipython-input-27-e399afaa81b4>:51: DeprecationWarning: textsize is deprecated and will be removed in Pillow 10 (2023-07-01). Use textbbox or textlength instead.\n",
            "  text_width, text_height = draw.textsize(model.config.id2label[label.item()], font=font)\n",
            "<ipython-input-27-e399afaa81b4>:51: DeprecationWarning: textsize is deprecated and will be removed in Pillow 10 (2023-07-01). Use textbbox or textlength instead.\n",
            "  text_width, text_height = draw.textsize(model.config.id2label[label.item()], font=font)\n",
            "<ipython-input-27-e399afaa81b4>:51: DeprecationWarning: textsize is deprecated and will be removed in Pillow 10 (2023-07-01). Use textbbox or textlength instead.\n",
            "  text_width, text_height = draw.textsize(model.config.id2label[label.item()], font=font)\n",
            "<ipython-input-27-e399afaa81b4>:51: DeprecationWarning: textsize is deprecated and will be removed in Pillow 10 (2023-07-01). Use textbbox or textlength instead.\n",
            "  text_width, text_height = draw.textsize(model.config.id2label[label.item()], font=font)\n",
            "<ipython-input-27-e399afaa81b4>:51: DeprecationWarning: textsize is deprecated and will be removed in Pillow 10 (2023-07-01). Use textbbox or textlength instead.\n",
            "  text_width, text_height = draw.textsize(model.config.id2label[label.item()], font=font)\n",
            "<ipython-input-27-e399afaa81b4>:51: DeprecationWarning: textsize is deprecated and will be removed in Pillow 10 (2023-07-01). Use textbbox or textlength instead.\n",
            "  text_width, text_height = draw.textsize(model.config.id2label[label.item()], font=font)\n"
          ]
        },
        {
          "output_type": "stream",
          "name": "stdout",
          "text": [
            "Detected traffic light with confidence 0.991 at location [567.25, 271.4, 590.37, 300.76]\n",
            "Detected traffic light with confidence 0.918 at location [698.28, 277.09, 722.59, 301.57]\n",
            "Detected traffic light with confidence 0.975 at location [1177.33, 149.48, 1203.49, 193.74]\n",
            "Detected traffic light with confidence 0.935 at location [83.19, 267.95, 100.55, 297.07]\n",
            "Detected traffic light with confidence 0.957 at location [694.54, 277.05, 717.45, 301.11]\n",
            "Detected car with confidence 0.984 at location [54.86, 601.89, 1092.02, 716.33]\n",
            "Detected traffic light with confidence 0.941 at location [1269.51, 121.93, 1279.99, 156.04]\n",
            "Detected traffic light with confidence 0.98 at location [1065.99, 191.7, 1088.67, 226.84]\n",
            "Detected car with confidence 0.979 at location [0.33, 355.14, 131.12, 493.04]\n",
            "Detected traffic light with confidence 0.901 at location [1173.72, 151.77, 1197.89, 193.51]\n",
            "Detected traffic light with confidence 0.977 at location [1110.32, 173.33, 1134.84, 213.22]\n",
            "Detected traffic light with confidence 0.962 at location [32.43, 259.86, 52.45, 290.25]\n",
            "Detected car with confidence 0.96 at location [959.65, 291.06, 1278.78, 547.87]\n",
            "Detected traffic light with confidence 0.975 at location [644.45, 273.84, 668.01, 297.74]\n"
          ]
        },
        {
          "output_type": "stream",
          "name": "stderr",
          "text": [
            "<ipython-input-27-e399afaa81b4>:51: DeprecationWarning: textsize is deprecated and will be removed in Pillow 10 (2023-07-01). Use textbbox or textlength instead.\n",
            "  text_width, text_height = draw.textsize(model.config.id2label[label.item()], font=font)\n",
            "<ipython-input-27-e399afaa81b4>:51: DeprecationWarning: textsize is deprecated and will be removed in Pillow 10 (2023-07-01). Use textbbox or textlength instead.\n",
            "  text_width, text_height = draw.textsize(model.config.id2label[label.item()], font=font)\n",
            "<ipython-input-27-e399afaa81b4>:51: DeprecationWarning: textsize is deprecated and will be removed in Pillow 10 (2023-07-01). Use textbbox or textlength instead.\n",
            "  text_width, text_height = draw.textsize(model.config.id2label[label.item()], font=font)\n",
            "<ipython-input-27-e399afaa81b4>:51: DeprecationWarning: textsize is deprecated and will be removed in Pillow 10 (2023-07-01). Use textbbox or textlength instead.\n",
            "  text_width, text_height = draw.textsize(model.config.id2label[label.item()], font=font)\n",
            "<ipython-input-27-e399afaa81b4>:51: DeprecationWarning: textsize is deprecated and will be removed in Pillow 10 (2023-07-01). Use textbbox or textlength instead.\n",
            "  text_width, text_height = draw.textsize(model.config.id2label[label.item()], font=font)\n",
            "<ipython-input-27-e399afaa81b4>:51: DeprecationWarning: textsize is deprecated and will be removed in Pillow 10 (2023-07-01). Use textbbox or textlength instead.\n",
            "  text_width, text_height = draw.textsize(model.config.id2label[label.item()], font=font)\n",
            "<ipython-input-27-e399afaa81b4>:51: DeprecationWarning: textsize is deprecated and will be removed in Pillow 10 (2023-07-01). Use textbbox or textlength instead.\n",
            "  text_width, text_height = draw.textsize(model.config.id2label[label.item()], font=font)\n",
            "<ipython-input-27-e399afaa81b4>:51: DeprecationWarning: textsize is deprecated and will be removed in Pillow 10 (2023-07-01). Use textbbox or textlength instead.\n",
            "  text_width, text_height = draw.textsize(model.config.id2label[label.item()], font=font)\n",
            "<ipython-input-27-e399afaa81b4>:51: DeprecationWarning: textsize is deprecated and will be removed in Pillow 10 (2023-07-01). Use textbbox or textlength instead.\n",
            "  text_width, text_height = draw.textsize(model.config.id2label[label.item()], font=font)\n",
            "<ipython-input-27-e399afaa81b4>:51: DeprecationWarning: textsize is deprecated and will be removed in Pillow 10 (2023-07-01). Use textbbox or textlength instead.\n",
            "  text_width, text_height = draw.textsize(model.config.id2label[label.item()], font=font)\n",
            "<ipython-input-27-e399afaa81b4>:51: DeprecationWarning: textsize is deprecated and will be removed in Pillow 10 (2023-07-01). Use textbbox or textlength instead.\n",
            "  text_width, text_height = draw.textsize(model.config.id2label[label.item()], font=font)\n",
            "<ipython-input-27-e399afaa81b4>:51: DeprecationWarning: textsize is deprecated and will be removed in Pillow 10 (2023-07-01). Use textbbox or textlength instead.\n",
            "  text_width, text_height = draw.textsize(model.config.id2label[label.item()], font=font)\n",
            "<ipython-input-27-e399afaa81b4>:51: DeprecationWarning: textsize is deprecated and will be removed in Pillow 10 (2023-07-01). Use textbbox or textlength instead.\n",
            "  text_width, text_height = draw.textsize(model.config.id2label[label.item()], font=font)\n",
            "<ipython-input-27-e399afaa81b4>:51: DeprecationWarning: textsize is deprecated and will be removed in Pillow 10 (2023-07-01). Use textbbox or textlength instead.\n",
            "  text_width, text_height = draw.textsize(model.config.id2label[label.item()], font=font)\n"
          ]
        },
        {
          "output_type": "stream",
          "name": "stdout",
          "text": [
            "Detected traffic light with confidence 0.988 at location [573.45, 274.76, 598.09, 305.81]\n",
            "Detected traffic light with confidence 0.996 at location [1176.61, 158.57, 1200.73, 200.61]\n",
            "Detected car with confidence 0.99 at location [5.98, 347.38, 264.09, 473.35]\n",
            "Detected traffic light with confidence 0.983 at location [1016.44, 216.61, 1035.55, 246.03]\n",
            "Detected traffic light with confidence 0.973 at location [687.08, 282.27, 712.11, 307.43]\n",
            "Detected car with confidence 0.95 at location [429.78, 375.23, 535.65, 434.37]\n",
            "Detected traffic light with confidence 0.972 at location [1266.26, 126.49, 1279.94, 171.39]\n",
            "Detected traffic light with confidence 0.979 at location [1034.83, 209.29, 1055.06, 242.5]\n",
            "Detected traffic light with confidence 0.991 at location [1106.81, 182.5, 1129.81, 221.93]\n",
            "Detected traffic light with confidence 0.926 at location [23.56, 260.96, 42.79, 292.84]\n",
            "Detected traffic light with confidence 0.972 at location [646.03, 280.16, 670.04, 306.01]\n"
          ]
        },
        {
          "output_type": "stream",
          "name": "stderr",
          "text": [
            "<ipython-input-27-e399afaa81b4>:51: DeprecationWarning: textsize is deprecated and will be removed in Pillow 10 (2023-07-01). Use textbbox or textlength instead.\n",
            "  text_width, text_height = draw.textsize(model.config.id2label[label.item()], font=font)\n",
            "<ipython-input-27-e399afaa81b4>:51: DeprecationWarning: textsize is deprecated and will be removed in Pillow 10 (2023-07-01). Use textbbox or textlength instead.\n",
            "  text_width, text_height = draw.textsize(model.config.id2label[label.item()], font=font)\n",
            "<ipython-input-27-e399afaa81b4>:51: DeprecationWarning: textsize is deprecated and will be removed in Pillow 10 (2023-07-01). Use textbbox or textlength instead.\n",
            "  text_width, text_height = draw.textsize(model.config.id2label[label.item()], font=font)\n",
            "<ipython-input-27-e399afaa81b4>:51: DeprecationWarning: textsize is deprecated and will be removed in Pillow 10 (2023-07-01). Use textbbox or textlength instead.\n",
            "  text_width, text_height = draw.textsize(model.config.id2label[label.item()], font=font)\n",
            "<ipython-input-27-e399afaa81b4>:51: DeprecationWarning: textsize is deprecated and will be removed in Pillow 10 (2023-07-01). Use textbbox or textlength instead.\n",
            "  text_width, text_height = draw.textsize(model.config.id2label[label.item()], font=font)\n",
            "<ipython-input-27-e399afaa81b4>:51: DeprecationWarning: textsize is deprecated and will be removed in Pillow 10 (2023-07-01). Use textbbox or textlength instead.\n",
            "  text_width, text_height = draw.textsize(model.config.id2label[label.item()], font=font)\n",
            "<ipython-input-27-e399afaa81b4>:51: DeprecationWarning: textsize is deprecated and will be removed in Pillow 10 (2023-07-01). Use textbbox or textlength instead.\n",
            "  text_width, text_height = draw.textsize(model.config.id2label[label.item()], font=font)\n",
            "<ipython-input-27-e399afaa81b4>:51: DeprecationWarning: textsize is deprecated and will be removed in Pillow 10 (2023-07-01). Use textbbox or textlength instead.\n",
            "  text_width, text_height = draw.textsize(model.config.id2label[label.item()], font=font)\n",
            "<ipython-input-27-e399afaa81b4>:51: DeprecationWarning: textsize is deprecated and will be removed in Pillow 10 (2023-07-01). Use textbbox or textlength instead.\n",
            "  text_width, text_height = draw.textsize(model.config.id2label[label.item()], font=font)\n",
            "<ipython-input-27-e399afaa81b4>:51: DeprecationWarning: textsize is deprecated and will be removed in Pillow 10 (2023-07-01). Use textbbox or textlength instead.\n",
            "  text_width, text_height = draw.textsize(model.config.id2label[label.item()], font=font)\n",
            "<ipython-input-27-e399afaa81b4>:51: DeprecationWarning: textsize is deprecated and will be removed in Pillow 10 (2023-07-01). Use textbbox or textlength instead.\n",
            "  text_width, text_height = draw.textsize(model.config.id2label[label.item()], font=font)\n"
          ]
        },
        {
          "output_type": "stream",
          "name": "stdout",
          "text": [
            "Detected traffic light with confidence 0.985 at location [575.19, 281.23, 597.94, 309.44]\n",
            "Detected car with confidence 0.959 at location [898.53, 313.42, 1278.49, 530.66]\n",
            "Detected traffic light with confidence 0.953 at location [1015.39, 219.68, 1034.9, 249.34]\n",
            "Detected traffic light with confidence 0.967 at location [682.54, 286.72, 705.9, 310.75]\n",
            "Detected car with confidence 0.959 at location [418.33, 365.8, 527.11, 434.95]\n",
            "Detected car with confidence 0.94 at location [157.13, 355.66, 336.31, 447.3]\n",
            "Detected traffic light with confidence 0.942 at location [642.82, 284.45, 666.46, 311.54]\n",
            "Detected traffic light with confidence 0.983 at location [1186.45, 156.64, 1211.48, 201.97]\n",
            "Detected car with confidence 0.987 at location [740.92, 360.99, 835.51, 406.32]\n",
            "Detected traffic light with confidence 0.97 at location [1038.0, 209.06, 1058.2, 242.98]\n",
            "Detected traffic light with confidence 0.991 at location [1111.27, 185.16, 1134.27, 222.74]\n",
            "Detected traffic light with confidence 0.955 at location [1056.69, 204.45, 1075.51, 238.71]\n",
            "Detected car with confidence 0.952 at location [360.99, 362.21, 462.07, 413.75]\n",
            "Detected traffic light with confidence 0.972 at location [648.67, 284.64, 672.77, 310.29]\n",
            "Detected traffic light with confidence 0.959 at location [986.71, 227.88, 1004.32, 255.7]\n"
          ]
        },
        {
          "output_type": "stream",
          "name": "stderr",
          "text": [
            "<ipython-input-27-e399afaa81b4>:51: DeprecationWarning: textsize is deprecated and will be removed in Pillow 10 (2023-07-01). Use textbbox or textlength instead.\n",
            "  text_width, text_height = draw.textsize(model.config.id2label[label.item()], font=font)\n",
            "<ipython-input-27-e399afaa81b4>:51: DeprecationWarning: textsize is deprecated and will be removed in Pillow 10 (2023-07-01). Use textbbox or textlength instead.\n",
            "  text_width, text_height = draw.textsize(model.config.id2label[label.item()], font=font)\n",
            "<ipython-input-27-e399afaa81b4>:51: DeprecationWarning: textsize is deprecated and will be removed in Pillow 10 (2023-07-01). Use textbbox or textlength instead.\n",
            "  text_width, text_height = draw.textsize(model.config.id2label[label.item()], font=font)\n",
            "<ipython-input-27-e399afaa81b4>:51: DeprecationWarning: textsize is deprecated and will be removed in Pillow 10 (2023-07-01). Use textbbox or textlength instead.\n",
            "  text_width, text_height = draw.textsize(model.config.id2label[label.item()], font=font)\n",
            "<ipython-input-27-e399afaa81b4>:51: DeprecationWarning: textsize is deprecated and will be removed in Pillow 10 (2023-07-01). Use textbbox or textlength instead.\n",
            "  text_width, text_height = draw.textsize(model.config.id2label[label.item()], font=font)\n",
            "<ipython-input-27-e399afaa81b4>:51: DeprecationWarning: textsize is deprecated and will be removed in Pillow 10 (2023-07-01). Use textbbox or textlength instead.\n",
            "  text_width, text_height = draw.textsize(model.config.id2label[label.item()], font=font)\n",
            "<ipython-input-27-e399afaa81b4>:51: DeprecationWarning: textsize is deprecated and will be removed in Pillow 10 (2023-07-01). Use textbbox or textlength instead.\n",
            "  text_width, text_height = draw.textsize(model.config.id2label[label.item()], font=font)\n",
            "<ipython-input-27-e399afaa81b4>:51: DeprecationWarning: textsize is deprecated and will be removed in Pillow 10 (2023-07-01). Use textbbox or textlength instead.\n",
            "  text_width, text_height = draw.textsize(model.config.id2label[label.item()], font=font)\n",
            "<ipython-input-27-e399afaa81b4>:51: DeprecationWarning: textsize is deprecated and will be removed in Pillow 10 (2023-07-01). Use textbbox or textlength instead.\n",
            "  text_width, text_height = draw.textsize(model.config.id2label[label.item()], font=font)\n",
            "<ipython-input-27-e399afaa81b4>:51: DeprecationWarning: textsize is deprecated and will be removed in Pillow 10 (2023-07-01). Use textbbox or textlength instead.\n",
            "  text_width, text_height = draw.textsize(model.config.id2label[label.item()], font=font)\n",
            "<ipython-input-27-e399afaa81b4>:51: DeprecationWarning: textsize is deprecated and will be removed in Pillow 10 (2023-07-01). Use textbbox or textlength instead.\n",
            "  text_width, text_height = draw.textsize(model.config.id2label[label.item()], font=font)\n",
            "<ipython-input-27-e399afaa81b4>:51: DeprecationWarning: textsize is deprecated and will be removed in Pillow 10 (2023-07-01). Use textbbox or textlength instead.\n",
            "  text_width, text_height = draw.textsize(model.config.id2label[label.item()], font=font)\n",
            "<ipython-input-27-e399afaa81b4>:51: DeprecationWarning: textsize is deprecated and will be removed in Pillow 10 (2023-07-01). Use textbbox or textlength instead.\n",
            "  text_width, text_height = draw.textsize(model.config.id2label[label.item()], font=font)\n",
            "<ipython-input-27-e399afaa81b4>:51: DeprecationWarning: textsize is deprecated and will be removed in Pillow 10 (2023-07-01). Use textbbox or textlength instead.\n",
            "  text_width, text_height = draw.textsize(model.config.id2label[label.item()], font=font)\n",
            "<ipython-input-27-e399afaa81b4>:51: DeprecationWarning: textsize is deprecated and will be removed in Pillow 10 (2023-07-01). Use textbbox or textlength instead.\n",
            "  text_width, text_height = draw.textsize(model.config.id2label[label.item()], font=font)\n"
          ]
        },
        {
          "output_type": "stream",
          "name": "stdout",
          "text": [
            "[{'frame60': {'traffic light': 8, 'car': 5}}, {'frame45': {'traffic light': 11, 'car': 3}}, {'frame30': {'traffic light': 9, 'car': 2}}, {'frame15': {'traffic light': 10, 'car': 5}}]\n",
            "CLIP_312\n",
            "[Errno 17] File exists: '/content/YOLO_bounding_box_images/CLIP_312'\n",
            "Detected car with confidence 0.93 at location [61.34, 372.15, 108.82, 389.5]\n",
            "Detected car with confidence 0.921 at location [942.74, 399.82, 994.21, 416.72]\n",
            "Detected car with confidence 0.925 at location [36.6, 372.82, 73.03, 387.39]\n",
            "Detected car with confidence 0.995 at location [585.24, 376.9, 850.38, 586.01]\n",
            "Detected car with confidence 0.955 at location [200.96, 377.55, 251.21, 396.29]\n",
            "Detected car with confidence 0.956 at location [147.13, 375.37, 187.62, 394.66]\n",
            "Detected car with confidence 0.976 at location [371.39, 386.77, 508.81, 430.96]\n",
            "Detected car with confidence 0.953 at location [489.13, 383.89, 561.52, 433.0]\n",
            "Detected car with confidence 0.917 at location [0.02, 376.89, 28.0, 396.32]\n",
            "Detected car with confidence 0.946 at location [328.21, 384.43, 366.2, 401.16]\n",
            "Detected car with confidence 0.921 at location [976.66, 396.81, 1040.38, 417.42]\n",
            "Detected car with confidence 0.904 at location [265.6, 382.58, 300.64, 398.35]\n",
            "Detected car with confidence 0.975 at location [578.94, 394.55, 608.58, 410.84]\n",
            "Detected stop sign with confidence 0.995 at location [843.27, 319.04, 878.77, 359.23]\n"
          ]
        },
        {
          "output_type": "stream",
          "name": "stderr",
          "text": [
            "<ipython-input-27-e399afaa81b4>:51: DeprecationWarning: textsize is deprecated and will be removed in Pillow 10 (2023-07-01). Use textbbox or textlength instead.\n",
            "  text_width, text_height = draw.textsize(model.config.id2label[label.item()], font=font)\n",
            "<ipython-input-27-e399afaa81b4>:51: DeprecationWarning: textsize is deprecated and will be removed in Pillow 10 (2023-07-01). Use textbbox or textlength instead.\n",
            "  text_width, text_height = draw.textsize(model.config.id2label[label.item()], font=font)\n",
            "<ipython-input-27-e399afaa81b4>:51: DeprecationWarning: textsize is deprecated and will be removed in Pillow 10 (2023-07-01). Use textbbox or textlength instead.\n",
            "  text_width, text_height = draw.textsize(model.config.id2label[label.item()], font=font)\n",
            "<ipython-input-27-e399afaa81b4>:51: DeprecationWarning: textsize is deprecated and will be removed in Pillow 10 (2023-07-01). Use textbbox or textlength instead.\n",
            "  text_width, text_height = draw.textsize(model.config.id2label[label.item()], font=font)\n",
            "<ipython-input-27-e399afaa81b4>:51: DeprecationWarning: textsize is deprecated and will be removed in Pillow 10 (2023-07-01). Use textbbox or textlength instead.\n",
            "  text_width, text_height = draw.textsize(model.config.id2label[label.item()], font=font)\n",
            "<ipython-input-27-e399afaa81b4>:51: DeprecationWarning: textsize is deprecated and will be removed in Pillow 10 (2023-07-01). Use textbbox or textlength instead.\n",
            "  text_width, text_height = draw.textsize(model.config.id2label[label.item()], font=font)\n",
            "<ipython-input-27-e399afaa81b4>:51: DeprecationWarning: textsize is deprecated and will be removed in Pillow 10 (2023-07-01). Use textbbox or textlength instead.\n",
            "  text_width, text_height = draw.textsize(model.config.id2label[label.item()], font=font)\n",
            "<ipython-input-27-e399afaa81b4>:51: DeprecationWarning: textsize is deprecated and will be removed in Pillow 10 (2023-07-01). Use textbbox or textlength instead.\n",
            "  text_width, text_height = draw.textsize(model.config.id2label[label.item()], font=font)\n",
            "<ipython-input-27-e399afaa81b4>:51: DeprecationWarning: textsize is deprecated and will be removed in Pillow 10 (2023-07-01). Use textbbox or textlength instead.\n",
            "  text_width, text_height = draw.textsize(model.config.id2label[label.item()], font=font)\n",
            "<ipython-input-27-e399afaa81b4>:51: DeprecationWarning: textsize is deprecated and will be removed in Pillow 10 (2023-07-01). Use textbbox or textlength instead.\n",
            "  text_width, text_height = draw.textsize(model.config.id2label[label.item()], font=font)\n",
            "<ipython-input-27-e399afaa81b4>:51: DeprecationWarning: textsize is deprecated and will be removed in Pillow 10 (2023-07-01). Use textbbox or textlength instead.\n",
            "  text_width, text_height = draw.textsize(model.config.id2label[label.item()], font=font)\n",
            "<ipython-input-27-e399afaa81b4>:51: DeprecationWarning: textsize is deprecated and will be removed in Pillow 10 (2023-07-01). Use textbbox or textlength instead.\n",
            "  text_width, text_height = draw.textsize(model.config.id2label[label.item()], font=font)\n",
            "<ipython-input-27-e399afaa81b4>:51: DeprecationWarning: textsize is deprecated and will be removed in Pillow 10 (2023-07-01). Use textbbox or textlength instead.\n",
            "  text_width, text_height = draw.textsize(model.config.id2label[label.item()], font=font)\n",
            "<ipython-input-27-e399afaa81b4>:51: DeprecationWarning: textsize is deprecated and will be removed in Pillow 10 (2023-07-01). Use textbbox or textlength instead.\n",
            "  text_width, text_height = draw.textsize(model.config.id2label[label.item()], font=font)\n"
          ]
        },
        {
          "output_type": "stream",
          "name": "stdout",
          "text": [
            "Detected car with confidence 0.901 at location [945.74, 399.04, 996.82, 417.1]\n",
            "Detected car with confidence 0.996 at location [583.32, 376.87, 850.96, 585.38]\n",
            "Detected car with confidence 0.953 at location [197.27, 376.6, 250.93, 395.98]\n",
            "Detected car with confidence 0.959 at location [146.99, 374.97, 188.56, 394.91]\n",
            "Detected car with confidence 0.974 at location [372.57, 386.6, 500.4, 430.56]\n",
            "Detected car with confidence 0.978 at location [488.55, 386.85, 564.87, 431.42]\n",
            "Detected car with confidence 0.97 at location [59.78, 372.6, 138.23, 405.05]\n",
            "Detected car with confidence 0.916 at location [-0.25, 431.92, 1279.75, 711.0]\n",
            "Detected car with confidence 0.925 at location [323.72, 385.3, 363.7, 402.14]\n",
            "Detected car with confidence 0.977 at location [564.55, 392.5, 601.97, 414.36]\n",
            "Detected stop sign with confidence 0.989 at location [843.0, 317.27, 878.24, 359.11]\n"
          ]
        },
        {
          "output_type": "stream",
          "name": "stderr",
          "text": [
            "<ipython-input-27-e399afaa81b4>:51: DeprecationWarning: textsize is deprecated and will be removed in Pillow 10 (2023-07-01). Use textbbox or textlength instead.\n",
            "  text_width, text_height = draw.textsize(model.config.id2label[label.item()], font=font)\n",
            "<ipython-input-27-e399afaa81b4>:51: DeprecationWarning: textsize is deprecated and will be removed in Pillow 10 (2023-07-01). Use textbbox or textlength instead.\n",
            "  text_width, text_height = draw.textsize(model.config.id2label[label.item()], font=font)\n",
            "<ipython-input-27-e399afaa81b4>:51: DeprecationWarning: textsize is deprecated and will be removed in Pillow 10 (2023-07-01). Use textbbox or textlength instead.\n",
            "  text_width, text_height = draw.textsize(model.config.id2label[label.item()], font=font)\n",
            "<ipython-input-27-e399afaa81b4>:51: DeprecationWarning: textsize is deprecated and will be removed in Pillow 10 (2023-07-01). Use textbbox or textlength instead.\n",
            "  text_width, text_height = draw.textsize(model.config.id2label[label.item()], font=font)\n",
            "<ipython-input-27-e399afaa81b4>:51: DeprecationWarning: textsize is deprecated and will be removed in Pillow 10 (2023-07-01). Use textbbox or textlength instead.\n",
            "  text_width, text_height = draw.textsize(model.config.id2label[label.item()], font=font)\n",
            "<ipython-input-27-e399afaa81b4>:51: DeprecationWarning: textsize is deprecated and will be removed in Pillow 10 (2023-07-01). Use textbbox or textlength instead.\n",
            "  text_width, text_height = draw.textsize(model.config.id2label[label.item()], font=font)\n",
            "<ipython-input-27-e399afaa81b4>:51: DeprecationWarning: textsize is deprecated and will be removed in Pillow 10 (2023-07-01). Use textbbox or textlength instead.\n",
            "  text_width, text_height = draw.textsize(model.config.id2label[label.item()], font=font)\n",
            "<ipython-input-27-e399afaa81b4>:51: DeprecationWarning: textsize is deprecated and will be removed in Pillow 10 (2023-07-01). Use textbbox or textlength instead.\n",
            "  text_width, text_height = draw.textsize(model.config.id2label[label.item()], font=font)\n",
            "<ipython-input-27-e399afaa81b4>:51: DeprecationWarning: textsize is deprecated and will be removed in Pillow 10 (2023-07-01). Use textbbox or textlength instead.\n",
            "  text_width, text_height = draw.textsize(model.config.id2label[label.item()], font=font)\n",
            "<ipython-input-27-e399afaa81b4>:51: DeprecationWarning: textsize is deprecated and will be removed in Pillow 10 (2023-07-01). Use textbbox or textlength instead.\n",
            "  text_width, text_height = draw.textsize(model.config.id2label[label.item()], font=font)\n",
            "<ipython-input-27-e399afaa81b4>:51: DeprecationWarning: textsize is deprecated and will be removed in Pillow 10 (2023-07-01). Use textbbox or textlength instead.\n",
            "  text_width, text_height = draw.textsize(model.config.id2label[label.item()], font=font)\n"
          ]
        },
        {
          "output_type": "stream",
          "name": "stdout",
          "text": [
            "[{'frame29': {'car': 13, 'stop sign': 1}}, {'frame58': {'car': 10, 'stop sign': 1}}]\n",
            "CLIP_336\n",
            "[Errno 17] File exists: '/content/YOLO_bounding_box_images/CLIP_336'\n",
            "Detected car with confidence 0.973 at location [0.41, 335.25, 167.5, 472.41]\n"
          ]
        },
        {
          "output_type": "stream",
          "name": "stderr",
          "text": [
            "<ipython-input-27-e399afaa81b4>:51: DeprecationWarning: textsize is deprecated and will be removed in Pillow 10 (2023-07-01). Use textbbox or textlength instead.\n",
            "  text_width, text_height = draw.textsize(model.config.id2label[label.item()], font=font)\n"
          ]
        },
        {
          "output_type": "stream",
          "name": "stdout",
          "text": [
            "Detected car with confidence 0.973 at location [115.8, 320.96, 455.49, 464.52]\n",
            "Detected car with confidence 0.95 at location [763.27, 337.76, 807.81, 362.71]\n",
            "Detected car with confidence 0.903 at location [786.55, 340.98, 827.91, 365.38]\n"
          ]
        },
        {
          "output_type": "stream",
          "name": "stderr",
          "text": [
            "<ipython-input-27-e399afaa81b4>:51: DeprecationWarning: textsize is deprecated and will be removed in Pillow 10 (2023-07-01). Use textbbox or textlength instead.\n",
            "  text_width, text_height = draw.textsize(model.config.id2label[label.item()], font=font)\n",
            "<ipython-input-27-e399afaa81b4>:51: DeprecationWarning: textsize is deprecated and will be removed in Pillow 10 (2023-07-01). Use textbbox or textlength instead.\n",
            "  text_width, text_height = draw.textsize(model.config.id2label[label.item()], font=font)\n",
            "<ipython-input-27-e399afaa81b4>:51: DeprecationWarning: textsize is deprecated and will be removed in Pillow 10 (2023-07-01). Use textbbox or textlength instead.\n",
            "  text_width, text_height = draw.textsize(model.config.id2label[label.item()], font=font)\n"
          ]
        },
        {
          "output_type": "stream",
          "name": "stdout",
          "text": [
            "Detected car with confidence 0.997 at location [362.41, 323.56, 721.55, 443.05]\n",
            "Detected car with confidence 0.959 at location [156.47, 345.13, 202.86, 370.38]\n",
            "Detected car with confidence 0.965 at location [0.84, 239.52, 205.18, 533.26]\n"
          ]
        },
        {
          "output_type": "stream",
          "name": "stderr",
          "text": [
            "<ipython-input-27-e399afaa81b4>:51: DeprecationWarning: textsize is deprecated and will be removed in Pillow 10 (2023-07-01). Use textbbox or textlength instead.\n",
            "  text_width, text_height = draw.textsize(model.config.id2label[label.item()], font=font)\n",
            "<ipython-input-27-e399afaa81b4>:51: DeprecationWarning: textsize is deprecated and will be removed in Pillow 10 (2023-07-01). Use textbbox or textlength instead.\n",
            "  text_width, text_height = draw.textsize(model.config.id2label[label.item()], font=font)\n",
            "<ipython-input-27-e399afaa81b4>:51: DeprecationWarning: textsize is deprecated and will be removed in Pillow 10 (2023-07-01). Use textbbox or textlength instead.\n",
            "  text_width, text_height = draw.textsize(model.config.id2label[label.item()], font=font)\n"
          ]
        },
        {
          "output_type": "stream",
          "name": "stdout",
          "text": [
            "Detected car with confidence 0.925 at location [72.44, 343.33, 116.9, 365.77]\n",
            "Detected car with confidence 0.903 at location [63.29, 343.74, 97.99, 363.71]\n",
            "Detected car with confidence 0.992 at location [605.59, 323.77, 836.51, 408.69]\n",
            "Detected car with confidence 0.982 at location [182.73, 339.89, 241.93, 364.83]\n",
            "Detected car with confidence 0.905 at location [0.47, 482.25, 1280.47, 712.97]\n",
            "Detected fire hydrant with confidence 0.94 at location [1167.42, 356.07, 1196.53, 401.86]\n"
          ]
        },
        {
          "output_type": "stream",
          "name": "stderr",
          "text": [
            "<ipython-input-27-e399afaa81b4>:51: DeprecationWarning: textsize is deprecated and will be removed in Pillow 10 (2023-07-01). Use textbbox or textlength instead.\n",
            "  text_width, text_height = draw.textsize(model.config.id2label[label.item()], font=font)\n",
            "<ipython-input-27-e399afaa81b4>:51: DeprecationWarning: textsize is deprecated and will be removed in Pillow 10 (2023-07-01). Use textbbox or textlength instead.\n",
            "  text_width, text_height = draw.textsize(model.config.id2label[label.item()], font=font)\n",
            "<ipython-input-27-e399afaa81b4>:51: DeprecationWarning: textsize is deprecated and will be removed in Pillow 10 (2023-07-01). Use textbbox or textlength instead.\n",
            "  text_width, text_height = draw.textsize(model.config.id2label[label.item()], font=font)\n",
            "<ipython-input-27-e399afaa81b4>:51: DeprecationWarning: textsize is deprecated and will be removed in Pillow 10 (2023-07-01). Use textbbox or textlength instead.\n",
            "  text_width, text_height = draw.textsize(model.config.id2label[label.item()], font=font)\n",
            "<ipython-input-27-e399afaa81b4>:51: DeprecationWarning: textsize is deprecated and will be removed in Pillow 10 (2023-07-01). Use textbbox or textlength instead.\n",
            "  text_width, text_height = draw.textsize(model.config.id2label[label.item()], font=font)\n",
            "<ipython-input-27-e399afaa81b4>:51: DeprecationWarning: textsize is deprecated and will be removed in Pillow 10 (2023-07-01). Use textbbox or textlength instead.\n",
            "  text_width, text_height = draw.textsize(model.config.id2label[label.item()], font=font)\n"
          ]
        },
        {
          "output_type": "stream",
          "name": "stdout",
          "text": [
            "[{'frame60': {'car': 1}}, {'frame45': {'car': 3}}, {'frame30': {'car': 3}}, {'frame15': {'car': 5, 'fire hydrant': 1}}]\n",
            "CLIP_20\n",
            "[Errno 17] File exists: '/content/YOLO_bounding_box_images/CLIP_20'\n",
            "Detected car with confidence 0.985 at location [863.29, 353.46, 1058.56, 473.92]\n",
            "Detected car with confidence 0.996 at location [588.25, 367.66, 821.05, 574.68]\n",
            "Detected car with confidence 0.976 at location [218.96, 363.03, 296.56, 388.94]\n",
            "Detected car with confidence 0.913 at location [376.35, 359.53, 440.25, 385.36]\n",
            "Detected car with confidence 0.996 at location [221.67, 377.45, 512.48, 522.6]\n",
            "Detected car with confidence 0.993 at location [153.27, 591.09, 1282.56, 715.56]\n",
            "Detected car with confidence 0.983 at location [0.51, 375.93, 210.42, 498.08]\n",
            "Detected car with confidence 0.915 at location [373.83, 360.7, 436.71, 386.08]\n",
            "Detected car with confidence 0.958 at location [771.98, 379.85, 861.09, 449.99]\n",
            "Detected car with confidence 0.978 at location [559.93, 363.11, 628.36, 404.51]\n"
          ]
        },
        {
          "output_type": "stream",
          "name": "stderr",
          "text": [
            "<ipython-input-27-e399afaa81b4>:51: DeprecationWarning: textsize is deprecated and will be removed in Pillow 10 (2023-07-01). Use textbbox or textlength instead.\n",
            "  text_width, text_height = draw.textsize(model.config.id2label[label.item()], font=font)\n",
            "<ipython-input-27-e399afaa81b4>:51: DeprecationWarning: textsize is deprecated and will be removed in Pillow 10 (2023-07-01). Use textbbox or textlength instead.\n",
            "  text_width, text_height = draw.textsize(model.config.id2label[label.item()], font=font)\n",
            "<ipython-input-27-e399afaa81b4>:51: DeprecationWarning: textsize is deprecated and will be removed in Pillow 10 (2023-07-01). Use textbbox or textlength instead.\n",
            "  text_width, text_height = draw.textsize(model.config.id2label[label.item()], font=font)\n",
            "<ipython-input-27-e399afaa81b4>:51: DeprecationWarning: textsize is deprecated and will be removed in Pillow 10 (2023-07-01). Use textbbox or textlength instead.\n",
            "  text_width, text_height = draw.textsize(model.config.id2label[label.item()], font=font)\n",
            "<ipython-input-27-e399afaa81b4>:51: DeprecationWarning: textsize is deprecated and will be removed in Pillow 10 (2023-07-01). Use textbbox or textlength instead.\n",
            "  text_width, text_height = draw.textsize(model.config.id2label[label.item()], font=font)\n",
            "<ipython-input-27-e399afaa81b4>:51: DeprecationWarning: textsize is deprecated and will be removed in Pillow 10 (2023-07-01). Use textbbox or textlength instead.\n",
            "  text_width, text_height = draw.textsize(model.config.id2label[label.item()], font=font)\n",
            "<ipython-input-27-e399afaa81b4>:51: DeprecationWarning: textsize is deprecated and will be removed in Pillow 10 (2023-07-01). Use textbbox or textlength instead.\n",
            "  text_width, text_height = draw.textsize(model.config.id2label[label.item()], font=font)\n",
            "<ipython-input-27-e399afaa81b4>:51: DeprecationWarning: textsize is deprecated and will be removed in Pillow 10 (2023-07-01). Use textbbox or textlength instead.\n",
            "  text_width, text_height = draw.textsize(model.config.id2label[label.item()], font=font)\n",
            "<ipython-input-27-e399afaa81b4>:51: DeprecationWarning: textsize is deprecated and will be removed in Pillow 10 (2023-07-01). Use textbbox or textlength instead.\n",
            "  text_width, text_height = draw.textsize(model.config.id2label[label.item()], font=font)\n",
            "<ipython-input-27-e399afaa81b4>:51: DeprecationWarning: textsize is deprecated and will be removed in Pillow 10 (2023-07-01). Use textbbox or textlength instead.\n",
            "  text_width, text_height = draw.textsize(model.config.id2label[label.item()], font=font)\n"
          ]
        },
        {
          "output_type": "stream",
          "name": "stdout",
          "text": [
            "Detected car with confidence 0.966 at location [758.34, 382.34, 894.59, 467.88]\n",
            "Detected car with confidence 0.995 at location [583.65, 366.33, 825.11, 575.29]\n",
            "Detected car with confidence 0.983 at location [219.58, 362.18, 307.82, 388.53]\n",
            "Detected car with confidence 0.963 at location [405.36, 359.12, 456.48, 386.39]\n",
            "Detected car with confidence 0.996 at location [140.09, 381.56, 494.59, 544.8]\n",
            "Detected car with confidence 0.988 at location [887.11, 356.68, 1156.07, 519.67]\n",
            "Detected car with confidence 0.993 at location [141.81, 591.69, 1281.21, 715.28]\n",
            "Detected car with confidence 0.984 at location [0.47, 378.41, 165.2, 502.51]\n",
            "Detected car with confidence 0.978 at location [547.97, 364.99, 617.71, 408.23]\n"
          ]
        },
        {
          "output_type": "stream",
          "name": "stderr",
          "text": [
            "<ipython-input-27-e399afaa81b4>:51: DeprecationWarning: textsize is deprecated and will be removed in Pillow 10 (2023-07-01). Use textbbox or textlength instead.\n",
            "  text_width, text_height = draw.textsize(model.config.id2label[label.item()], font=font)\n",
            "<ipython-input-27-e399afaa81b4>:51: DeprecationWarning: textsize is deprecated and will be removed in Pillow 10 (2023-07-01). Use textbbox or textlength instead.\n",
            "  text_width, text_height = draw.textsize(model.config.id2label[label.item()], font=font)\n",
            "<ipython-input-27-e399afaa81b4>:51: DeprecationWarning: textsize is deprecated and will be removed in Pillow 10 (2023-07-01). Use textbbox or textlength instead.\n",
            "  text_width, text_height = draw.textsize(model.config.id2label[label.item()], font=font)\n",
            "<ipython-input-27-e399afaa81b4>:51: DeprecationWarning: textsize is deprecated and will be removed in Pillow 10 (2023-07-01). Use textbbox or textlength instead.\n",
            "  text_width, text_height = draw.textsize(model.config.id2label[label.item()], font=font)\n",
            "<ipython-input-27-e399afaa81b4>:51: DeprecationWarning: textsize is deprecated and will be removed in Pillow 10 (2023-07-01). Use textbbox or textlength instead.\n",
            "  text_width, text_height = draw.textsize(model.config.id2label[label.item()], font=font)\n",
            "<ipython-input-27-e399afaa81b4>:51: DeprecationWarning: textsize is deprecated and will be removed in Pillow 10 (2023-07-01). Use textbbox or textlength instead.\n",
            "  text_width, text_height = draw.textsize(model.config.id2label[label.item()], font=font)\n",
            "<ipython-input-27-e399afaa81b4>:51: DeprecationWarning: textsize is deprecated and will be removed in Pillow 10 (2023-07-01). Use textbbox or textlength instead.\n",
            "  text_width, text_height = draw.textsize(model.config.id2label[label.item()], font=font)\n",
            "<ipython-input-27-e399afaa81b4>:51: DeprecationWarning: textsize is deprecated and will be removed in Pillow 10 (2023-07-01). Use textbbox or textlength instead.\n",
            "  text_width, text_height = draw.textsize(model.config.id2label[label.item()], font=font)\n",
            "<ipython-input-27-e399afaa81b4>:51: DeprecationWarning: textsize is deprecated and will be removed in Pillow 10 (2023-07-01). Use textbbox or textlength instead.\n",
            "  text_width, text_height = draw.textsize(model.config.id2label[label.item()], font=font)\n"
          ]
        },
        {
          "output_type": "stream",
          "name": "stdout",
          "text": [
            "Detected car with confidence 0.991 at location [582.42, 364.8, 829.48, 577.4]\n",
            "Detected car with confidence 0.972 at location [1149.1, 335.82, 1215.66, 370.73]\n",
            "Detected car with confidence 0.987 at location [216.93, 361.5, 313.63, 388.39]\n",
            "Detected car with confidence 0.988 at location [418.21, 359.23, 472.92, 386.42]\n",
            "Detected car with confidence 0.996 at location [74.77, 383.25, 475.75, 570.41]\n",
            "Detected car with confidence 0.987 at location [1050.84, 386.51, 1279.9, 614.03]\n",
            "Detected car with confidence 0.991 at location [130.22, 588.39, 1283.29, 715.4]\n",
            "Detected car with confidence 0.994 at location [0.44, 376.46, 190.67, 501.88]\n",
            "Detected car with confidence 0.959 at location [976.33, 343.99, 1047.52, 370.47]\n",
            "Detected car with confidence 0.976 at location [544.75, 369.91, 613.42, 418.01]\n"
          ]
        },
        {
          "output_type": "stream",
          "name": "stderr",
          "text": [
            "<ipython-input-27-e399afaa81b4>:51: DeprecationWarning: textsize is deprecated and will be removed in Pillow 10 (2023-07-01). Use textbbox or textlength instead.\n",
            "  text_width, text_height = draw.textsize(model.config.id2label[label.item()], font=font)\n",
            "<ipython-input-27-e399afaa81b4>:51: DeprecationWarning: textsize is deprecated and will be removed in Pillow 10 (2023-07-01). Use textbbox or textlength instead.\n",
            "  text_width, text_height = draw.textsize(model.config.id2label[label.item()], font=font)\n",
            "<ipython-input-27-e399afaa81b4>:51: DeprecationWarning: textsize is deprecated and will be removed in Pillow 10 (2023-07-01). Use textbbox or textlength instead.\n",
            "  text_width, text_height = draw.textsize(model.config.id2label[label.item()], font=font)\n",
            "<ipython-input-27-e399afaa81b4>:51: DeprecationWarning: textsize is deprecated and will be removed in Pillow 10 (2023-07-01). Use textbbox or textlength instead.\n",
            "  text_width, text_height = draw.textsize(model.config.id2label[label.item()], font=font)\n",
            "<ipython-input-27-e399afaa81b4>:51: DeprecationWarning: textsize is deprecated and will be removed in Pillow 10 (2023-07-01). Use textbbox or textlength instead.\n",
            "  text_width, text_height = draw.textsize(model.config.id2label[label.item()], font=font)\n",
            "<ipython-input-27-e399afaa81b4>:51: DeprecationWarning: textsize is deprecated and will be removed in Pillow 10 (2023-07-01). Use textbbox or textlength instead.\n",
            "  text_width, text_height = draw.textsize(model.config.id2label[label.item()], font=font)\n",
            "<ipython-input-27-e399afaa81b4>:51: DeprecationWarning: textsize is deprecated and will be removed in Pillow 10 (2023-07-01). Use textbbox or textlength instead.\n",
            "  text_width, text_height = draw.textsize(model.config.id2label[label.item()], font=font)\n",
            "<ipython-input-27-e399afaa81b4>:51: DeprecationWarning: textsize is deprecated and will be removed in Pillow 10 (2023-07-01). Use textbbox or textlength instead.\n",
            "  text_width, text_height = draw.textsize(model.config.id2label[label.item()], font=font)\n",
            "<ipython-input-27-e399afaa81b4>:51: DeprecationWarning: textsize is deprecated and will be removed in Pillow 10 (2023-07-01). Use textbbox or textlength instead.\n",
            "  text_width, text_height = draw.textsize(model.config.id2label[label.item()], font=font)\n",
            "<ipython-input-27-e399afaa81b4>:51: DeprecationWarning: textsize is deprecated and will be removed in Pillow 10 (2023-07-01). Use textbbox or textlength instead.\n",
            "  text_width, text_height = draw.textsize(model.config.id2label[label.item()], font=font)\n"
          ]
        },
        {
          "output_type": "stream",
          "name": "stdout",
          "text": [
            "Detected car with confidence 0.993 at location [574.74, 364.1, 812.66, 572.13]\n",
            "Detected car with confidence 0.987 at location [217.99, 361.64, 310.27, 388.17]\n",
            "Detected car with confidence 0.991 at location [43.51, 384.73, 478.89, 575.96]\n",
            "Detected car with confidence 0.944 at location [437.33, 357.97, 484.44, 385.31]\n",
            "Detected car with confidence 0.99 at location [132.32, 596.93, 1277.45, 716.47]\n",
            "Detected car with confidence 0.994 at location [0.41, 376.04, 187.59, 503.84]\n",
            "Detected car with confidence 0.913 at location [1147.38, 337.16, 1212.82, 373.19]\n",
            "Detected car with confidence 0.985 at location [975.23, 342.94, 1046.09, 369.81]\n",
            "Detected car with confidence 0.943 at location [518.72, 361.31, 595.79, 390.08]\n",
            "Detected car with confidence 0.988 at location [507.74, 380.36, 635.83, 456.28]\n"
          ]
        },
        {
          "output_type": "stream",
          "name": "stderr",
          "text": [
            "<ipython-input-27-e399afaa81b4>:51: DeprecationWarning: textsize is deprecated and will be removed in Pillow 10 (2023-07-01). Use textbbox or textlength instead.\n",
            "  text_width, text_height = draw.textsize(model.config.id2label[label.item()], font=font)\n",
            "<ipython-input-27-e399afaa81b4>:51: DeprecationWarning: textsize is deprecated and will be removed in Pillow 10 (2023-07-01). Use textbbox or textlength instead.\n",
            "  text_width, text_height = draw.textsize(model.config.id2label[label.item()], font=font)\n",
            "<ipython-input-27-e399afaa81b4>:51: DeprecationWarning: textsize is deprecated and will be removed in Pillow 10 (2023-07-01). Use textbbox or textlength instead.\n",
            "  text_width, text_height = draw.textsize(model.config.id2label[label.item()], font=font)\n",
            "<ipython-input-27-e399afaa81b4>:51: DeprecationWarning: textsize is deprecated and will be removed in Pillow 10 (2023-07-01). Use textbbox or textlength instead.\n",
            "  text_width, text_height = draw.textsize(model.config.id2label[label.item()], font=font)\n",
            "<ipython-input-27-e399afaa81b4>:51: DeprecationWarning: textsize is deprecated and will be removed in Pillow 10 (2023-07-01). Use textbbox or textlength instead.\n",
            "  text_width, text_height = draw.textsize(model.config.id2label[label.item()], font=font)\n",
            "<ipython-input-27-e399afaa81b4>:51: DeprecationWarning: textsize is deprecated and will be removed in Pillow 10 (2023-07-01). Use textbbox or textlength instead.\n",
            "  text_width, text_height = draw.textsize(model.config.id2label[label.item()], font=font)\n",
            "<ipython-input-27-e399afaa81b4>:51: DeprecationWarning: textsize is deprecated and will be removed in Pillow 10 (2023-07-01). Use textbbox or textlength instead.\n",
            "  text_width, text_height = draw.textsize(model.config.id2label[label.item()], font=font)\n",
            "<ipython-input-27-e399afaa81b4>:51: DeprecationWarning: textsize is deprecated and will be removed in Pillow 10 (2023-07-01). Use textbbox or textlength instead.\n",
            "  text_width, text_height = draw.textsize(model.config.id2label[label.item()], font=font)\n",
            "<ipython-input-27-e399afaa81b4>:51: DeprecationWarning: textsize is deprecated and will be removed in Pillow 10 (2023-07-01). Use textbbox or textlength instead.\n",
            "  text_width, text_height = draw.textsize(model.config.id2label[label.item()], font=font)\n",
            "<ipython-input-27-e399afaa81b4>:51: DeprecationWarning: textsize is deprecated and will be removed in Pillow 10 (2023-07-01). Use textbbox or textlength instead.\n",
            "  text_width, text_height = draw.textsize(model.config.id2label[label.item()], font=font)\n"
          ]
        },
        {
          "output_type": "stream",
          "name": "stdout",
          "text": [
            "[{'frame60': {'car': 10}}, {'frame45': {'car': 9}}, {'frame30': {'car': 10}}, {'frame15': {'car': 10}}]\n",
            "CLIP_226\n",
            "[Errno 17] File exists: '/content/YOLO_bounding_box_images/CLIP_226'\n",
            "Detected car with confidence 0.987 at location [507.13, 7.24, 702.11, 96.09]\n",
            "Detected car with confidence 0.968 at location [587.24, 45.79, 866.35, 201.06]\n",
            "Detected car with confidence 0.983 at location [1010.48, 65.67, 1200.63, 125.53]\n",
            "Detected car with confidence 0.91 at location [198.09, 66.83, 364.81, 201.34]\n",
            "Detected car with confidence 0.981 at location [964.07, 125.05, 1259.38, 242.94]\n",
            "Detected car with confidence 0.944 at location [104.6, 43.07, 242.19, 110.47]\n"
          ]
        },
        {
          "output_type": "stream",
          "name": "stderr",
          "text": [
            "<ipython-input-27-e399afaa81b4>:51: DeprecationWarning: textsize is deprecated and will be removed in Pillow 10 (2023-07-01). Use textbbox or textlength instead.\n",
            "  text_width, text_height = draw.textsize(model.config.id2label[label.item()], font=font)\n",
            "<ipython-input-27-e399afaa81b4>:51: DeprecationWarning: textsize is deprecated and will be removed in Pillow 10 (2023-07-01). Use textbbox or textlength instead.\n",
            "  text_width, text_height = draw.textsize(model.config.id2label[label.item()], font=font)\n",
            "<ipython-input-27-e399afaa81b4>:51: DeprecationWarning: textsize is deprecated and will be removed in Pillow 10 (2023-07-01). Use textbbox or textlength instead.\n",
            "  text_width, text_height = draw.textsize(model.config.id2label[label.item()], font=font)\n",
            "<ipython-input-27-e399afaa81b4>:51: DeprecationWarning: textsize is deprecated and will be removed in Pillow 10 (2023-07-01). Use textbbox or textlength instead.\n",
            "  text_width, text_height = draw.textsize(model.config.id2label[label.item()], font=font)\n",
            "<ipython-input-27-e399afaa81b4>:51: DeprecationWarning: textsize is deprecated and will be removed in Pillow 10 (2023-07-01). Use textbbox or textlength instead.\n",
            "  text_width, text_height = draw.textsize(model.config.id2label[label.item()], font=font)\n",
            "<ipython-input-27-e399afaa81b4>:51: DeprecationWarning: textsize is deprecated and will be removed in Pillow 10 (2023-07-01). Use textbbox or textlength instead.\n",
            "  text_width, text_height = draw.textsize(model.config.id2label[label.item()], font=font)\n"
          ]
        },
        {
          "output_type": "stream",
          "name": "stdout",
          "text": [
            "Detected car with confidence 0.98 at location [508.01, 7.4, 701.03, 95.97]\n",
            "Detected car with confidence 0.961 at location [586.02, 45.07, 865.62, 200.98]\n",
            "Detected car with confidence 0.98 at location [1012.44, 65.74, 1200.78, 125.63]\n",
            "Detected car with confidence 0.904 at location [734.77, 0.24, 850.06, 35.56]\n",
            "Detected car with confidence 0.942 at location [189.1, 69.7, 362.33, 201.15]\n",
            "Detected car with confidence 0.981 at location [963.16, 124.4, 1260.23, 242.92]\n",
            "Detected car with confidence 0.958 at location [-0.67, 58.31, 174.48, 225.3]\n"
          ]
        },
        {
          "output_type": "stream",
          "name": "stderr",
          "text": [
            "<ipython-input-27-e399afaa81b4>:51: DeprecationWarning: textsize is deprecated and will be removed in Pillow 10 (2023-07-01). Use textbbox or textlength instead.\n",
            "  text_width, text_height = draw.textsize(model.config.id2label[label.item()], font=font)\n",
            "<ipython-input-27-e399afaa81b4>:51: DeprecationWarning: textsize is deprecated and will be removed in Pillow 10 (2023-07-01). Use textbbox or textlength instead.\n",
            "  text_width, text_height = draw.textsize(model.config.id2label[label.item()], font=font)\n",
            "<ipython-input-27-e399afaa81b4>:51: DeprecationWarning: textsize is deprecated and will be removed in Pillow 10 (2023-07-01). Use textbbox or textlength instead.\n",
            "  text_width, text_height = draw.textsize(model.config.id2label[label.item()], font=font)\n",
            "<ipython-input-27-e399afaa81b4>:51: DeprecationWarning: textsize is deprecated and will be removed in Pillow 10 (2023-07-01). Use textbbox or textlength instead.\n",
            "  text_width, text_height = draw.textsize(model.config.id2label[label.item()], font=font)\n",
            "<ipython-input-27-e399afaa81b4>:51: DeprecationWarning: textsize is deprecated and will be removed in Pillow 10 (2023-07-01). Use textbbox or textlength instead.\n",
            "  text_width, text_height = draw.textsize(model.config.id2label[label.item()], font=font)\n",
            "<ipython-input-27-e399afaa81b4>:51: DeprecationWarning: textsize is deprecated and will be removed in Pillow 10 (2023-07-01). Use textbbox or textlength instead.\n",
            "  text_width, text_height = draw.textsize(model.config.id2label[label.item()], font=font)\n",
            "<ipython-input-27-e399afaa81b4>:51: DeprecationWarning: textsize is deprecated and will be removed in Pillow 10 (2023-07-01). Use textbbox or textlength instead.\n",
            "  text_width, text_height = draw.textsize(model.config.id2label[label.item()], font=font)\n"
          ]
        },
        {
          "output_type": "stream",
          "name": "stdout",
          "text": [
            "Detected car with confidence 0.988 at location [507.87, 7.24, 702.42, 95.79]\n",
            "Detected car with confidence 0.962 at location [586.76, 44.81, 866.16, 200.88]\n",
            "Detected car with confidence 0.982 at location [1010.51, 66.03, 1199.67, 125.4]\n",
            "Detected car with confidence 0.981 at location [963.29, 125.08, 1261.53, 243.26]\n",
            "Detected car with confidence 0.98 at location [-0.62, 65.82, 172.67, 226.53]\n"
          ]
        },
        {
          "output_type": "stream",
          "name": "stderr",
          "text": [
            "<ipython-input-27-e399afaa81b4>:51: DeprecationWarning: textsize is deprecated and will be removed in Pillow 10 (2023-07-01). Use textbbox or textlength instead.\n",
            "  text_width, text_height = draw.textsize(model.config.id2label[label.item()], font=font)\n",
            "<ipython-input-27-e399afaa81b4>:51: DeprecationWarning: textsize is deprecated and will be removed in Pillow 10 (2023-07-01). Use textbbox or textlength instead.\n",
            "  text_width, text_height = draw.textsize(model.config.id2label[label.item()], font=font)\n",
            "<ipython-input-27-e399afaa81b4>:51: DeprecationWarning: textsize is deprecated and will be removed in Pillow 10 (2023-07-01). Use textbbox or textlength instead.\n",
            "  text_width, text_height = draw.textsize(model.config.id2label[label.item()], font=font)\n",
            "<ipython-input-27-e399afaa81b4>:51: DeprecationWarning: textsize is deprecated and will be removed in Pillow 10 (2023-07-01). Use textbbox or textlength instead.\n",
            "  text_width, text_height = draw.textsize(model.config.id2label[label.item()], font=font)\n",
            "<ipython-input-27-e399afaa81b4>:51: DeprecationWarning: textsize is deprecated and will be removed in Pillow 10 (2023-07-01). Use textbbox or textlength instead.\n",
            "  text_width, text_height = draw.textsize(model.config.id2label[label.item()], font=font)\n"
          ]
        },
        {
          "output_type": "stream",
          "name": "stdout",
          "text": [
            "Detected car with confidence 0.988 at location [509.78, 7.53, 703.0, 95.87]\n",
            "Detected car with confidence 0.906 at location [577.84, 39.68, 864.76, 200.73]\n",
            "Detected car with confidence 0.963 at location [1010.28, 66.01, 1200.09, 125.31]\n",
            "Detected car with confidence 0.919 at location [190.6, 68.66, 371.97, 202.79]\n",
            "Detected car with confidence 0.979 at location [964.11, 125.92, 1261.09, 243.25]\n",
            "Detected car with confidence 0.966 at location [-0.54, 62.61, 179.49, 226.19]\n"
          ]
        },
        {
          "output_type": "stream",
          "name": "stderr",
          "text": [
            "<ipython-input-27-e399afaa81b4>:51: DeprecationWarning: textsize is deprecated and will be removed in Pillow 10 (2023-07-01). Use textbbox or textlength instead.\n",
            "  text_width, text_height = draw.textsize(model.config.id2label[label.item()], font=font)\n",
            "<ipython-input-27-e399afaa81b4>:51: DeprecationWarning: textsize is deprecated and will be removed in Pillow 10 (2023-07-01). Use textbbox or textlength instead.\n",
            "  text_width, text_height = draw.textsize(model.config.id2label[label.item()], font=font)\n",
            "<ipython-input-27-e399afaa81b4>:51: DeprecationWarning: textsize is deprecated and will be removed in Pillow 10 (2023-07-01). Use textbbox or textlength instead.\n",
            "  text_width, text_height = draw.textsize(model.config.id2label[label.item()], font=font)\n",
            "<ipython-input-27-e399afaa81b4>:51: DeprecationWarning: textsize is deprecated and will be removed in Pillow 10 (2023-07-01). Use textbbox or textlength instead.\n",
            "  text_width, text_height = draw.textsize(model.config.id2label[label.item()], font=font)\n",
            "<ipython-input-27-e399afaa81b4>:51: DeprecationWarning: textsize is deprecated and will be removed in Pillow 10 (2023-07-01). Use textbbox or textlength instead.\n",
            "  text_width, text_height = draw.textsize(model.config.id2label[label.item()], font=font)\n",
            "<ipython-input-27-e399afaa81b4>:51: DeprecationWarning: textsize is deprecated and will be removed in Pillow 10 (2023-07-01). Use textbbox or textlength instead.\n",
            "  text_width, text_height = draw.textsize(model.config.id2label[label.item()], font=font)\n"
          ]
        },
        {
          "output_type": "stream",
          "name": "stdout",
          "text": [
            "[{'frame60': {'car': 6}}, {'frame45': {'car': 7}}, {'frame30': {'car': 5}}, {'frame15': {'car': 6}}]\n",
            "CLIP_307\n",
            "[Errno 17] File exists: '/content/YOLO_bounding_box_images/CLIP_307'\n",
            "Detected car with confidence 0.956 at location [0.43, 495.05, 1280.42, 710.96]\n",
            "Detected car with confidence 0.908 at location [828.65, 296.86, 941.39, 377.52]\n",
            "Detected car with confidence 0.947 at location [910.22, 296.91, 1169.96, 415.86]\n"
          ]
        },
        {
          "output_type": "stream",
          "name": "stderr",
          "text": [
            "<ipython-input-27-e399afaa81b4>:51: DeprecationWarning: textsize is deprecated and will be removed in Pillow 10 (2023-07-01). Use textbbox or textlength instead.\n",
            "  text_width, text_height = draw.textsize(model.config.id2label[label.item()], font=font)\n",
            "<ipython-input-27-e399afaa81b4>:51: DeprecationWarning: textsize is deprecated and will be removed in Pillow 10 (2023-07-01). Use textbbox or textlength instead.\n",
            "  text_width, text_height = draw.textsize(model.config.id2label[label.item()], font=font)\n",
            "<ipython-input-27-e399afaa81b4>:51: DeprecationWarning: textsize is deprecated and will be removed in Pillow 10 (2023-07-01). Use textbbox or textlength instead.\n",
            "  text_width, text_height = draw.textsize(model.config.id2label[label.item()], font=font)\n"
          ]
        },
        {
          "output_type": "stream",
          "name": "stdout",
          "text": [
            "Detected car with confidence 0.986 at location [873.66, 298.76, 1031.59, 390.44]\n",
            "Detected car with confidence 0.947 at location [7.69, 494.66, 1274.81, 708.55]\n",
            "Detected car with confidence 0.945 at location [1036.81, 292.19, 1262.15, 408.04]\n"
          ]
        },
        {
          "output_type": "stream",
          "name": "stderr",
          "text": [
            "<ipython-input-27-e399afaa81b4>:51: DeprecationWarning: textsize is deprecated and will be removed in Pillow 10 (2023-07-01). Use textbbox or textlength instead.\n",
            "  text_width, text_height = draw.textsize(model.config.id2label[label.item()], font=font)\n",
            "<ipython-input-27-e399afaa81b4>:51: DeprecationWarning: textsize is deprecated and will be removed in Pillow 10 (2023-07-01). Use textbbox or textlength instead.\n",
            "  text_width, text_height = draw.textsize(model.config.id2label[label.item()], font=font)\n",
            "<ipython-input-27-e399afaa81b4>:51: DeprecationWarning: textsize is deprecated and will be removed in Pillow 10 (2023-07-01). Use textbbox or textlength instead.\n",
            "  text_width, text_height = draw.textsize(model.config.id2label[label.item()], font=font)\n"
          ]
        },
        {
          "output_type": "stream",
          "name": "stdout",
          "text": [
            "Detected car with confidence 0.979 at location [862.35, 299.01, 1011.46, 386.02]\n",
            "Detected car with confidence 0.953 at location [471.58, 298.39, 507.87, 319.41]\n",
            "Detected truck with confidence 0.945 at location [650.39, 232.89, 783.8, 362.19]\n",
            "Detected car with confidence 0.941 at location [6.39, 497.26, 1277.51, 711.62]\n",
            "Detected car with confidence 0.969 at location [1034.9, 293.82, 1254.0, 407.08]\n"
          ]
        },
        {
          "output_type": "stream",
          "name": "stderr",
          "text": [
            "<ipython-input-27-e399afaa81b4>:51: DeprecationWarning: textsize is deprecated and will be removed in Pillow 10 (2023-07-01). Use textbbox or textlength instead.\n",
            "  text_width, text_height = draw.textsize(model.config.id2label[label.item()], font=font)\n",
            "<ipython-input-27-e399afaa81b4>:51: DeprecationWarning: textsize is deprecated and will be removed in Pillow 10 (2023-07-01). Use textbbox or textlength instead.\n",
            "  text_width, text_height = draw.textsize(model.config.id2label[label.item()], font=font)\n",
            "<ipython-input-27-e399afaa81b4>:51: DeprecationWarning: textsize is deprecated and will be removed in Pillow 10 (2023-07-01). Use textbbox or textlength instead.\n",
            "  text_width, text_height = draw.textsize(model.config.id2label[label.item()], font=font)\n",
            "<ipython-input-27-e399afaa81b4>:51: DeprecationWarning: textsize is deprecated and will be removed in Pillow 10 (2023-07-01). Use textbbox or textlength instead.\n",
            "  text_width, text_height = draw.textsize(model.config.id2label[label.item()], font=font)\n",
            "<ipython-input-27-e399afaa81b4>:51: DeprecationWarning: textsize is deprecated and will be removed in Pillow 10 (2023-07-01). Use textbbox or textlength instead.\n",
            "  text_width, text_height = draw.textsize(model.config.id2label[label.item()], font=font)\n"
          ]
        },
        {
          "output_type": "stream",
          "name": "stdout",
          "text": [
            "Detected car with confidence 0.977 at location [873.21, 301.07, 1056.93, 399.15]\n",
            "Detected truck with confidence 0.952 at location [631.94, 238.81, 770.03, 372.5]\n",
            "Detected car with confidence 0.972 at location [258.07, 294.27, 368.93, 347.51]\n",
            "Detected car with confidence 0.922 at location [92.1, 495.35, 1273.49, 707.32]\n",
            "Detected car with confidence 0.961 at location [808.11, 303.1, 899.46, 365.94]\n"
          ]
        },
        {
          "output_type": "stream",
          "name": "stderr",
          "text": [
            "<ipython-input-27-e399afaa81b4>:51: DeprecationWarning: textsize is deprecated and will be removed in Pillow 10 (2023-07-01). Use textbbox or textlength instead.\n",
            "  text_width, text_height = draw.textsize(model.config.id2label[label.item()], font=font)\n",
            "<ipython-input-27-e399afaa81b4>:51: DeprecationWarning: textsize is deprecated and will be removed in Pillow 10 (2023-07-01). Use textbbox or textlength instead.\n",
            "  text_width, text_height = draw.textsize(model.config.id2label[label.item()], font=font)\n",
            "<ipython-input-27-e399afaa81b4>:51: DeprecationWarning: textsize is deprecated and will be removed in Pillow 10 (2023-07-01). Use textbbox or textlength instead.\n",
            "  text_width, text_height = draw.textsize(model.config.id2label[label.item()], font=font)\n",
            "<ipython-input-27-e399afaa81b4>:51: DeprecationWarning: textsize is deprecated and will be removed in Pillow 10 (2023-07-01). Use textbbox or textlength instead.\n",
            "  text_width, text_height = draw.textsize(model.config.id2label[label.item()], font=font)\n",
            "<ipython-input-27-e399afaa81b4>:51: DeprecationWarning: textsize is deprecated and will be removed in Pillow 10 (2023-07-01). Use textbbox or textlength instead.\n",
            "  text_width, text_height = draw.textsize(model.config.id2label[label.item()], font=font)\n"
          ]
        },
        {
          "output_type": "stream",
          "name": "stdout",
          "text": [
            "[{'frame48': {'car': 3}}, {'frame24': {'car': 3}}, {'frame12': {'car': 4, 'truck': 1}}, {'frame36': {'car': 4, 'truck': 1}}]\n",
            "CLIP_247\n",
            "[Errno 17] File exists: '/content/YOLO_bounding_box_images/CLIP_247'\n",
            "Detected car with confidence 0.982 at location [859.66, 428.19, 921.47, 456.1]\n",
            "Detected car with confidence 0.98 at location [288.84, 448.12, 348.14, 477.78]\n",
            "Detected traffic light with confidence 0.93 at location [1008.94, 331.79, 1027.11, 350.71]\n",
            "Detected car with confidence 0.99 at location [393.97, 447.82, 439.35, 469.05]\n",
            "Detected car with confidence 0.902 at location [470.15, 445.89, 497.08, 467.4]\n",
            "Detected car with confidence 0.968 at location [751.35, 441.11, 808.97, 471.97]\n",
            "Detected car with confidence 0.969 at location [65.49, 443.75, 144.93, 488.36]\n",
            "Detected car with confidence 0.91 at location [737.81, 440.99, 783.32, 469.85]\n",
            "Detected traffic light with confidence 0.927 at location [50.1, 312.85, 81.79, 336.03]\n",
            "Detected traffic light with confidence 0.923 at location [1063.57, 317.87, 1087.19, 336.91]\n"
          ]
        },
        {
          "output_type": "stream",
          "name": "stderr",
          "text": [
            "<ipython-input-27-e399afaa81b4>:51: DeprecationWarning: textsize is deprecated and will be removed in Pillow 10 (2023-07-01). Use textbbox or textlength instead.\n",
            "  text_width, text_height = draw.textsize(model.config.id2label[label.item()], font=font)\n",
            "<ipython-input-27-e399afaa81b4>:51: DeprecationWarning: textsize is deprecated and will be removed in Pillow 10 (2023-07-01). Use textbbox or textlength instead.\n",
            "  text_width, text_height = draw.textsize(model.config.id2label[label.item()], font=font)\n",
            "<ipython-input-27-e399afaa81b4>:51: DeprecationWarning: textsize is deprecated and will be removed in Pillow 10 (2023-07-01). Use textbbox or textlength instead.\n",
            "  text_width, text_height = draw.textsize(model.config.id2label[label.item()], font=font)\n",
            "<ipython-input-27-e399afaa81b4>:51: DeprecationWarning: textsize is deprecated and will be removed in Pillow 10 (2023-07-01). Use textbbox or textlength instead.\n",
            "  text_width, text_height = draw.textsize(model.config.id2label[label.item()], font=font)\n",
            "<ipython-input-27-e399afaa81b4>:51: DeprecationWarning: textsize is deprecated and will be removed in Pillow 10 (2023-07-01). Use textbbox or textlength instead.\n",
            "  text_width, text_height = draw.textsize(model.config.id2label[label.item()], font=font)\n",
            "<ipython-input-27-e399afaa81b4>:51: DeprecationWarning: textsize is deprecated and will be removed in Pillow 10 (2023-07-01). Use textbbox or textlength instead.\n",
            "  text_width, text_height = draw.textsize(model.config.id2label[label.item()], font=font)\n",
            "<ipython-input-27-e399afaa81b4>:51: DeprecationWarning: textsize is deprecated and will be removed in Pillow 10 (2023-07-01). Use textbbox or textlength instead.\n",
            "  text_width, text_height = draw.textsize(model.config.id2label[label.item()], font=font)\n",
            "<ipython-input-27-e399afaa81b4>:51: DeprecationWarning: textsize is deprecated and will be removed in Pillow 10 (2023-07-01). Use textbbox or textlength instead.\n",
            "  text_width, text_height = draw.textsize(model.config.id2label[label.item()], font=font)\n",
            "<ipython-input-27-e399afaa81b4>:51: DeprecationWarning: textsize is deprecated and will be removed in Pillow 10 (2023-07-01). Use textbbox or textlength instead.\n",
            "  text_width, text_height = draw.textsize(model.config.id2label[label.item()], font=font)\n",
            "<ipython-input-27-e399afaa81b4>:51: DeprecationWarning: textsize is deprecated and will be removed in Pillow 10 (2023-07-01). Use textbbox or textlength instead.\n",
            "  text_width, text_height = draw.textsize(model.config.id2label[label.item()], font=font)\n"
          ]
        },
        {
          "output_type": "stream",
          "name": "stdout",
          "text": [
            "Detected car with confidence 0.916 at location [15.07, 427.95, 75.96, 468.67]\n",
            "Detected car with confidence 0.913 at location [851.33, 428.77, 922.95, 463.4]\n",
            "Detected car with confidence 0.989 at location [134.8, 444.35, 227.6, 491.87]\n",
            "Detected traffic light with confidence 0.941 at location [1044.65, 321.42, 1065.45, 340.08]\n",
            "Detected traffic light with confidence 0.906 at location [275.94, 386.01, 292.92, 400.99]\n",
            "Detected car with confidence 0.922 at location [842.69, 437.65, 893.76, 465.03]\n",
            "Detected car with confidence 0.929 at location [322.54, 449.53, 366.55, 472.1]\n"
          ]
        },
        {
          "output_type": "stream",
          "name": "stderr",
          "text": [
            "<ipython-input-27-e399afaa81b4>:51: DeprecationWarning: textsize is deprecated and will be removed in Pillow 10 (2023-07-01). Use textbbox or textlength instead.\n",
            "  text_width, text_height = draw.textsize(model.config.id2label[label.item()], font=font)\n",
            "<ipython-input-27-e399afaa81b4>:51: DeprecationWarning: textsize is deprecated and will be removed in Pillow 10 (2023-07-01). Use textbbox or textlength instead.\n",
            "  text_width, text_height = draw.textsize(model.config.id2label[label.item()], font=font)\n",
            "<ipython-input-27-e399afaa81b4>:51: DeprecationWarning: textsize is deprecated and will be removed in Pillow 10 (2023-07-01). Use textbbox or textlength instead.\n",
            "  text_width, text_height = draw.textsize(model.config.id2label[label.item()], font=font)\n",
            "<ipython-input-27-e399afaa81b4>:51: DeprecationWarning: textsize is deprecated and will be removed in Pillow 10 (2023-07-01). Use textbbox or textlength instead.\n",
            "  text_width, text_height = draw.textsize(model.config.id2label[label.item()], font=font)\n",
            "<ipython-input-27-e399afaa81b4>:51: DeprecationWarning: textsize is deprecated and will be removed in Pillow 10 (2023-07-01). Use textbbox or textlength instead.\n",
            "  text_width, text_height = draw.textsize(model.config.id2label[label.item()], font=font)\n",
            "<ipython-input-27-e399afaa81b4>:51: DeprecationWarning: textsize is deprecated and will be removed in Pillow 10 (2023-07-01). Use textbbox or textlength instead.\n",
            "  text_width, text_height = draw.textsize(model.config.id2label[label.item()], font=font)\n",
            "<ipython-input-27-e399afaa81b4>:51: DeprecationWarning: textsize is deprecated and will be removed in Pillow 10 (2023-07-01). Use textbbox or textlength instead.\n",
            "  text_width, text_height = draw.textsize(model.config.id2label[label.item()], font=font)\n"
          ]
        },
        {
          "output_type": "stream",
          "name": "stdout",
          "text": [
            "[{'frame29': {'car': 7, 'traffic light': 3}}, {'frame58': {'car': 5, 'traffic light': 2}}]\n",
            "CLIP_83\n",
            "[Errno 17] File exists: '/content/YOLO_bounding_box_images/CLIP_83'\n",
            "[{'frame60': {}}, {'frame45': {}}, {'frame30': {}}, {'frame15': {}}]\n",
            "CLIP_88\n",
            "[Errno 17] File exists: '/content/YOLO_bounding_box_images/CLIP_88'\n",
            "Detected car with confidence 0.988 at location [553.65, 323.94, 978.01, 509.08]\n"
          ]
        },
        {
          "output_type": "stream",
          "name": "stderr",
          "text": [
            "<ipython-input-27-e399afaa81b4>:51: DeprecationWarning: textsize is deprecated and will be removed in Pillow 10 (2023-07-01). Use textbbox or textlength instead.\n",
            "  text_width, text_height = draw.textsize(model.config.id2label[label.item()], font=font)\n"
          ]
        },
        {
          "output_type": "stream",
          "name": "stdout",
          "text": [
            "Detected car with confidence 0.99 at location [558.04, 324.04, 980.04, 510.2]\n"
          ]
        },
        {
          "output_type": "stream",
          "name": "stderr",
          "text": [
            "<ipython-input-27-e399afaa81b4>:51: DeprecationWarning: textsize is deprecated and will be removed in Pillow 10 (2023-07-01). Use textbbox or textlength instead.\n",
            "  text_width, text_height = draw.textsize(model.config.id2label[label.item()], font=font)\n"
          ]
        },
        {
          "output_type": "stream",
          "name": "stdout",
          "text": [
            "Detected car with confidence 0.995 at location [556.29, 325.32, 977.33, 512.56]\n",
            "Detected car with confidence 0.971 at location [1232.17, 346.16, 1279.98, 409.93]\n"
          ]
        },
        {
          "output_type": "stream",
          "name": "stderr",
          "text": [
            "<ipython-input-27-e399afaa81b4>:51: DeprecationWarning: textsize is deprecated and will be removed in Pillow 10 (2023-07-01). Use textbbox or textlength instead.\n",
            "  text_width, text_height = draw.textsize(model.config.id2label[label.item()], font=font)\n",
            "<ipython-input-27-e399afaa81b4>:51: DeprecationWarning: textsize is deprecated and will be removed in Pillow 10 (2023-07-01). Use textbbox or textlength instead.\n",
            "  text_width, text_height = draw.textsize(model.config.id2label[label.item()], font=font)\n"
          ]
        },
        {
          "output_type": "stream",
          "name": "stdout",
          "text": [
            "Detected car with confidence 0.983 at location [560.66, 324.28, 979.84, 513.22]\n"
          ]
        },
        {
          "output_type": "stream",
          "name": "stderr",
          "text": [
            "<ipython-input-27-e399afaa81b4>:51: DeprecationWarning: textsize is deprecated and will be removed in Pillow 10 (2023-07-01). Use textbbox or textlength instead.\n",
            "  text_width, text_height = draw.textsize(model.config.id2label[label.item()], font=font)\n"
          ]
        },
        {
          "output_type": "stream",
          "name": "stdout",
          "text": [
            "Detected car with confidence 0.979 at location [574.27, 323.07, 977.4, 512.39]\n",
            "Detected car with confidence 0.999 at location [1153.2, 347.69, 1267.1, 418.84]\n"
          ]
        },
        {
          "output_type": "stream",
          "name": "stderr",
          "text": [
            "<ipython-input-27-e399afaa81b4>:51: DeprecationWarning: textsize is deprecated and will be removed in Pillow 10 (2023-07-01). Use textbbox or textlength instead.\n",
            "  text_width, text_height = draw.textsize(model.config.id2label[label.item()], font=font)\n",
            "<ipython-input-27-e399afaa81b4>:51: DeprecationWarning: textsize is deprecated and will be removed in Pillow 10 (2023-07-01). Use textbbox or textlength instead.\n",
            "  text_width, text_height = draw.textsize(model.config.id2label[label.item()], font=font)\n"
          ]
        },
        {
          "output_type": "stream",
          "name": "stdout",
          "text": [
            "Detected car with confidence 0.996 at location [705.74, 319.55, 1060.52, 523.29]\n",
            "Detected car with confidence 0.998 at location [1050.52, 348.01, 1174.16, 423.17]\n"
          ]
        },
        {
          "output_type": "stream",
          "name": "stderr",
          "text": [
            "<ipython-input-27-e399afaa81b4>:51: DeprecationWarning: textsize is deprecated and will be removed in Pillow 10 (2023-07-01). Use textbbox or textlength instead.\n",
            "  text_width, text_height = draw.textsize(model.config.id2label[label.item()], font=font)\n",
            "<ipython-input-27-e399afaa81b4>:51: DeprecationWarning: textsize is deprecated and will be removed in Pillow 10 (2023-07-01). Use textbbox or textlength instead.\n",
            "  text_width, text_height = draw.textsize(model.config.id2label[label.item()], font=font)\n"
          ]
        },
        {
          "output_type": "stream",
          "name": "stdout",
          "text": [
            "[{'frame60': {'car': 1}}, {'frame75': {'car': 1}}, {'frame45': {'car': 2}}, {'frame90': {'car': 1}}, {'frame30': {'car': 2}}, {'frame15': {'car': 2}}]\n",
            "CLIP_5\n",
            "[Errno 17] File exists: '/content/YOLO_bounding_box_images/CLIP_5'\n",
            "Detected car with confidence 0.955 at location [369.07, 228.19, 517.3, 324.82]\n"
          ]
        },
        {
          "output_type": "stream",
          "name": "stderr",
          "text": [
            "<ipython-input-27-e399afaa81b4>:51: DeprecationWarning: textsize is deprecated and will be removed in Pillow 10 (2023-07-01). Use textbbox or textlength instead.\n",
            "  text_width, text_height = draw.textsize(model.config.id2label[label.item()], font=font)\n"
          ]
        },
        {
          "output_type": "stream",
          "name": "stdout",
          "text": [
            "Detected car with confidence 0.91 at location [485.86, 214.02, 586.99, 264.99]\n"
          ]
        },
        {
          "output_type": "stream",
          "name": "stderr",
          "text": [
            "<ipython-input-27-e399afaa81b4>:51: DeprecationWarning: textsize is deprecated and will be removed in Pillow 10 (2023-07-01). Use textbbox or textlength instead.\n",
            "  text_width, text_height = draw.textsize(model.config.id2label[label.item()], font=font)\n"
          ]
        },
        {
          "output_type": "stream",
          "name": "stdout",
          "text": [
            "[{'frame60': {'car': 1}}, {'frame45': {}}, {'frame30': {}}, {'frame15': {'car': 1}}]\n",
            "CLIP_315\n",
            "[Errno 17] File exists: '/content/YOLO_bounding_box_images/CLIP_315'\n",
            "Detected car with confidence 0.949 at location [270.16, 413.27, 391.02, 497.67]\n",
            "Detected car with confidence 0.999 at location [453.44, 404.84, 1022.58, 599.76]\n",
            "Detected stop sign with confidence 0.99 at location [810.77, 365.03, 840.9, 393.03]\n",
            "Detected stop sign with confidence 0.964 at location [109.97, 373.79, 134.88, 400.44]\n",
            "Detected stop sign with confidence 0.964 at location [112.28, 372.78, 137.31, 399.73]\n",
            "Detected car with confidence 0.918 at location [365.26, 421.86, 462.36, 489.85]\n",
            "Detected car with confidence 0.957 at location [144.79, 407.4, 357.89, 509.16]\n",
            "Detected car with confidence 0.946 at location [464.18, 420.17, 613.33, 479.35]\n",
            "Detected car with confidence 0.979 at location [1056.33, 386.26, 1279.78, 628.97]\n",
            "Detected car with confidence 0.986 at location [0.35, 405.24, 202.44, 561.14]\n",
            "Detected car with confidence 0.925 at location [1058.22, 386.6, 1279.28, 631.34]\n"
          ]
        },
        {
          "output_type": "stream",
          "name": "stderr",
          "text": [
            "<ipython-input-27-e399afaa81b4>:51: DeprecationWarning: textsize is deprecated and will be removed in Pillow 10 (2023-07-01). Use textbbox or textlength instead.\n",
            "  text_width, text_height = draw.textsize(model.config.id2label[label.item()], font=font)\n",
            "<ipython-input-27-e399afaa81b4>:51: DeprecationWarning: textsize is deprecated and will be removed in Pillow 10 (2023-07-01). Use textbbox or textlength instead.\n",
            "  text_width, text_height = draw.textsize(model.config.id2label[label.item()], font=font)\n",
            "<ipython-input-27-e399afaa81b4>:51: DeprecationWarning: textsize is deprecated and will be removed in Pillow 10 (2023-07-01). Use textbbox or textlength instead.\n",
            "  text_width, text_height = draw.textsize(model.config.id2label[label.item()], font=font)\n",
            "<ipython-input-27-e399afaa81b4>:51: DeprecationWarning: textsize is deprecated and will be removed in Pillow 10 (2023-07-01). Use textbbox or textlength instead.\n",
            "  text_width, text_height = draw.textsize(model.config.id2label[label.item()], font=font)\n",
            "<ipython-input-27-e399afaa81b4>:51: DeprecationWarning: textsize is deprecated and will be removed in Pillow 10 (2023-07-01). Use textbbox or textlength instead.\n",
            "  text_width, text_height = draw.textsize(model.config.id2label[label.item()], font=font)\n",
            "<ipython-input-27-e399afaa81b4>:51: DeprecationWarning: textsize is deprecated and will be removed in Pillow 10 (2023-07-01). Use textbbox or textlength instead.\n",
            "  text_width, text_height = draw.textsize(model.config.id2label[label.item()], font=font)\n",
            "<ipython-input-27-e399afaa81b4>:51: DeprecationWarning: textsize is deprecated and will be removed in Pillow 10 (2023-07-01). Use textbbox or textlength instead.\n",
            "  text_width, text_height = draw.textsize(model.config.id2label[label.item()], font=font)\n",
            "<ipython-input-27-e399afaa81b4>:51: DeprecationWarning: textsize is deprecated and will be removed in Pillow 10 (2023-07-01). Use textbbox or textlength instead.\n",
            "  text_width, text_height = draw.textsize(model.config.id2label[label.item()], font=font)\n",
            "<ipython-input-27-e399afaa81b4>:51: DeprecationWarning: textsize is deprecated and will be removed in Pillow 10 (2023-07-01). Use textbbox or textlength instead.\n",
            "  text_width, text_height = draw.textsize(model.config.id2label[label.item()], font=font)\n",
            "<ipython-input-27-e399afaa81b4>:51: DeprecationWarning: textsize is deprecated and will be removed in Pillow 10 (2023-07-01). Use textbbox or textlength instead.\n",
            "  text_width, text_height = draw.textsize(model.config.id2label[label.item()], font=font)\n",
            "<ipython-input-27-e399afaa81b4>:51: DeprecationWarning: textsize is deprecated and will be removed in Pillow 10 (2023-07-01). Use textbbox or textlength instead.\n",
            "  text_width, text_height = draw.textsize(model.config.id2label[label.item()], font=font)\n"
          ]
        },
        {
          "output_type": "stream",
          "name": "stdout",
          "text": [
            "Detected car with confidence 0.999 at location [490.38, 403.03, 1109.33, 621.67]\n",
            "Detected stop sign with confidence 0.969 at location [813.93, 362.9, 842.9, 394.31]\n",
            "Detected stop sign with confidence 0.986 at location [100.95, 374.36, 130.06, 402.71]\n",
            "Detected car with confidence 0.945 at location [351.55, 425.24, 449.4, 491.46]\n",
            "Detected car with confidence 0.989 at location [480.05, 422.27, 599.97, 499.95]\n",
            "Detected car with confidence 0.969 at location [125.26, 405.8, 353.22, 515.83]\n",
            "Detected car with confidence 0.933 at location [994.1, 385.26, 1279.53, 621.02]\n",
            "Detected car with confidence 0.961 at location [-0.11, 408.48, 185.06, 564.26]\n",
            "Detected car with confidence 0.932 at location [254.85, 415.07, 398.8, 504.33]\n"
          ]
        },
        {
          "output_type": "stream",
          "name": "stderr",
          "text": [
            "<ipython-input-27-e399afaa81b4>:51: DeprecationWarning: textsize is deprecated and will be removed in Pillow 10 (2023-07-01). Use textbbox or textlength instead.\n",
            "  text_width, text_height = draw.textsize(model.config.id2label[label.item()], font=font)\n",
            "<ipython-input-27-e399afaa81b4>:51: DeprecationWarning: textsize is deprecated and will be removed in Pillow 10 (2023-07-01). Use textbbox or textlength instead.\n",
            "  text_width, text_height = draw.textsize(model.config.id2label[label.item()], font=font)\n",
            "<ipython-input-27-e399afaa81b4>:51: DeprecationWarning: textsize is deprecated and will be removed in Pillow 10 (2023-07-01). Use textbbox or textlength instead.\n",
            "  text_width, text_height = draw.textsize(model.config.id2label[label.item()], font=font)\n",
            "<ipython-input-27-e399afaa81b4>:51: DeprecationWarning: textsize is deprecated and will be removed in Pillow 10 (2023-07-01). Use textbbox or textlength instead.\n",
            "  text_width, text_height = draw.textsize(model.config.id2label[label.item()], font=font)\n",
            "<ipython-input-27-e399afaa81b4>:51: DeprecationWarning: textsize is deprecated and will be removed in Pillow 10 (2023-07-01). Use textbbox or textlength instead.\n",
            "  text_width, text_height = draw.textsize(model.config.id2label[label.item()], font=font)\n",
            "<ipython-input-27-e399afaa81b4>:51: DeprecationWarning: textsize is deprecated and will be removed in Pillow 10 (2023-07-01). Use textbbox or textlength instead.\n",
            "  text_width, text_height = draw.textsize(model.config.id2label[label.item()], font=font)\n",
            "<ipython-input-27-e399afaa81b4>:51: DeprecationWarning: textsize is deprecated and will be removed in Pillow 10 (2023-07-01). Use textbbox or textlength instead.\n",
            "  text_width, text_height = draw.textsize(model.config.id2label[label.item()], font=font)\n",
            "<ipython-input-27-e399afaa81b4>:51: DeprecationWarning: textsize is deprecated and will be removed in Pillow 10 (2023-07-01). Use textbbox or textlength instead.\n",
            "  text_width, text_height = draw.textsize(model.config.id2label[label.item()], font=font)\n",
            "<ipython-input-27-e399afaa81b4>:51: DeprecationWarning: textsize is deprecated and will be removed in Pillow 10 (2023-07-01). Use textbbox or textlength instead.\n",
            "  text_width, text_height = draw.textsize(model.config.id2label[label.item()], font=font)\n"
          ]
        },
        {
          "output_type": "stream",
          "name": "stdout",
          "text": [
            "[{'frame29': {'car': 8, 'stop sign': 3}}, {'frame58': {'car': 7, 'stop sign': 2}}]\n",
            "CLIP_9\n",
            "[Errno 17] File exists: '/content/YOLO_bounding_box_images/CLIP_9'\n",
            "Detected car with confidence 0.959 at location [808.13, 369.64, 852.09, 404.25]\n",
            "Detected car with confidence 0.973 at location [726.14, 362.56, 817.03, 437.98]\n",
            "Detected car with confidence 0.993 at location [641.63, 365.29, 700.16, 407.71]\n",
            "Detected car with confidence 0.984 at location [953.65, 379.33, 1193.73, 496.94]\n",
            "Detected car with confidence 0.937 at location [841.98, 372.31, 891.17, 410.69]\n",
            "Detected car with confidence 0.99 at location [1186.99, 390.55, 1279.7, 522.38]\n",
            "Detected car with confidence 0.937 at location [826.88, 370.96, 872.74, 408.01]\n",
            "Detected car with confidence 0.916 at location [923.39, 378.67, 1057.84, 459.95]\n"
          ]
        },
        {
          "output_type": "stream",
          "name": "stderr",
          "text": [
            "<ipython-input-27-e399afaa81b4>:51: DeprecationWarning: textsize is deprecated and will be removed in Pillow 10 (2023-07-01). Use textbbox or textlength instead.\n",
            "  text_width, text_height = draw.textsize(model.config.id2label[label.item()], font=font)\n",
            "<ipython-input-27-e399afaa81b4>:51: DeprecationWarning: textsize is deprecated and will be removed in Pillow 10 (2023-07-01). Use textbbox or textlength instead.\n",
            "  text_width, text_height = draw.textsize(model.config.id2label[label.item()], font=font)\n",
            "<ipython-input-27-e399afaa81b4>:51: DeprecationWarning: textsize is deprecated and will be removed in Pillow 10 (2023-07-01). Use textbbox or textlength instead.\n",
            "  text_width, text_height = draw.textsize(model.config.id2label[label.item()], font=font)\n",
            "<ipython-input-27-e399afaa81b4>:51: DeprecationWarning: textsize is deprecated and will be removed in Pillow 10 (2023-07-01). Use textbbox or textlength instead.\n",
            "  text_width, text_height = draw.textsize(model.config.id2label[label.item()], font=font)\n",
            "<ipython-input-27-e399afaa81b4>:51: DeprecationWarning: textsize is deprecated and will be removed in Pillow 10 (2023-07-01). Use textbbox or textlength instead.\n",
            "  text_width, text_height = draw.textsize(model.config.id2label[label.item()], font=font)\n",
            "<ipython-input-27-e399afaa81b4>:51: DeprecationWarning: textsize is deprecated and will be removed in Pillow 10 (2023-07-01). Use textbbox or textlength instead.\n",
            "  text_width, text_height = draw.textsize(model.config.id2label[label.item()], font=font)\n",
            "<ipython-input-27-e399afaa81b4>:51: DeprecationWarning: textsize is deprecated and will be removed in Pillow 10 (2023-07-01). Use textbbox or textlength instead.\n",
            "  text_width, text_height = draw.textsize(model.config.id2label[label.item()], font=font)\n",
            "<ipython-input-27-e399afaa81b4>:51: DeprecationWarning: textsize is deprecated and will be removed in Pillow 10 (2023-07-01). Use textbbox or textlength instead.\n",
            "  text_width, text_height = draw.textsize(model.config.id2label[label.item()], font=font)\n"
          ]
        },
        {
          "output_type": "stream",
          "name": "stdout",
          "text": [
            "Detected car with confidence 0.975 at location [793.33, 366.7, 827.02, 398.37]\n",
            "Detected car with confidence 0.936 at location [810.96, 367.36, 842.21, 398.47]\n",
            "Detected car with confidence 0.987 at location [886.95, 376.69, 1056.08, 471.95]\n",
            "Detected car with confidence 0.984 at location [696.02, 357.74, 785.56, 432.04]\n",
            "Detected car with confidence 0.928 at location [839.61, 371.83, 892.54, 420.64]\n",
            "Detected car with confidence 0.995 at location [610.38, 363.41, 668.81, 404.97]\n",
            "Detected car with confidence 0.916 at location [823.49, 368.79, 864.85, 407.78]\n",
            "Detected car with confidence 0.973 at location [841.04, 369.29, 903.25, 421.64]\n",
            "Detected car with confidence 0.933 at location [1159.64, 415.08, 1279.71, 570.82]\n",
            "Detected car with confidence 0.925 at location [806.52, 367.49, 845.23, 405.01]\n",
            "Detected car with confidence 0.981 at location [1046.47, 368.25, 1279.16, 551.72]\n"
          ]
        },
        {
          "output_type": "stream",
          "name": "stderr",
          "text": [
            "<ipython-input-27-e399afaa81b4>:51: DeprecationWarning: textsize is deprecated and will be removed in Pillow 10 (2023-07-01). Use textbbox or textlength instead.\n",
            "  text_width, text_height = draw.textsize(model.config.id2label[label.item()], font=font)\n",
            "<ipython-input-27-e399afaa81b4>:51: DeprecationWarning: textsize is deprecated and will be removed in Pillow 10 (2023-07-01). Use textbbox or textlength instead.\n",
            "  text_width, text_height = draw.textsize(model.config.id2label[label.item()], font=font)\n",
            "<ipython-input-27-e399afaa81b4>:51: DeprecationWarning: textsize is deprecated and will be removed in Pillow 10 (2023-07-01). Use textbbox or textlength instead.\n",
            "  text_width, text_height = draw.textsize(model.config.id2label[label.item()], font=font)\n",
            "<ipython-input-27-e399afaa81b4>:51: DeprecationWarning: textsize is deprecated and will be removed in Pillow 10 (2023-07-01). Use textbbox or textlength instead.\n",
            "  text_width, text_height = draw.textsize(model.config.id2label[label.item()], font=font)\n",
            "<ipython-input-27-e399afaa81b4>:51: DeprecationWarning: textsize is deprecated and will be removed in Pillow 10 (2023-07-01). Use textbbox or textlength instead.\n",
            "  text_width, text_height = draw.textsize(model.config.id2label[label.item()], font=font)\n",
            "<ipython-input-27-e399afaa81b4>:51: DeprecationWarning: textsize is deprecated and will be removed in Pillow 10 (2023-07-01). Use textbbox or textlength instead.\n",
            "  text_width, text_height = draw.textsize(model.config.id2label[label.item()], font=font)\n",
            "<ipython-input-27-e399afaa81b4>:51: DeprecationWarning: textsize is deprecated and will be removed in Pillow 10 (2023-07-01). Use textbbox or textlength instead.\n",
            "  text_width, text_height = draw.textsize(model.config.id2label[label.item()], font=font)\n",
            "<ipython-input-27-e399afaa81b4>:51: DeprecationWarning: textsize is deprecated and will be removed in Pillow 10 (2023-07-01). Use textbbox or textlength instead.\n",
            "  text_width, text_height = draw.textsize(model.config.id2label[label.item()], font=font)\n",
            "<ipython-input-27-e399afaa81b4>:51: DeprecationWarning: textsize is deprecated and will be removed in Pillow 10 (2023-07-01). Use textbbox or textlength instead.\n",
            "  text_width, text_height = draw.textsize(model.config.id2label[label.item()], font=font)\n",
            "<ipython-input-27-e399afaa81b4>:51: DeprecationWarning: textsize is deprecated and will be removed in Pillow 10 (2023-07-01). Use textbbox or textlength instead.\n",
            "  text_width, text_height = draw.textsize(model.config.id2label[label.item()], font=font)\n",
            "<ipython-input-27-e399afaa81b4>:51: DeprecationWarning: textsize is deprecated and will be removed in Pillow 10 (2023-07-01). Use textbbox or textlength instead.\n",
            "  text_width, text_height = draw.textsize(model.config.id2label[label.item()], font=font)\n"
          ]
        },
        {
          "output_type": "stream",
          "name": "stdout",
          "text": [
            "Detected car with confidence 0.975 at location [783.0, 368.51, 816.94, 400.78]\n",
            "Detected car with confidence 0.989 at location [872.72, 375.39, 1080.17, 480.04]\n",
            "Detected car with confidence 0.959 at location [672.51, 359.7, 763.15, 433.28]\n",
            "Detected car with confidence 0.994 at location [580.87, 363.3, 645.11, 409.48]\n",
            "Detected car with confidence 0.995 at location [817.19, 378.57, 875.43, 429.48]\n",
            "Detected car with confidence 0.942 at location [1170.37, 438.79, 1279.45, 599.77]\n",
            "Detected car with confidence 0.995 at location [1103.79, 368.85, 1278.18, 470.49]\n",
            "Detected car with confidence 0.983 at location [768.41, 367.89, 801.14, 396.89]\n"
          ]
        },
        {
          "output_type": "stream",
          "name": "stderr",
          "text": [
            "<ipython-input-27-e399afaa81b4>:51: DeprecationWarning: textsize is deprecated and will be removed in Pillow 10 (2023-07-01). Use textbbox or textlength instead.\n",
            "  text_width, text_height = draw.textsize(model.config.id2label[label.item()], font=font)\n",
            "<ipython-input-27-e399afaa81b4>:51: DeprecationWarning: textsize is deprecated and will be removed in Pillow 10 (2023-07-01). Use textbbox or textlength instead.\n",
            "  text_width, text_height = draw.textsize(model.config.id2label[label.item()], font=font)\n",
            "<ipython-input-27-e399afaa81b4>:51: DeprecationWarning: textsize is deprecated and will be removed in Pillow 10 (2023-07-01). Use textbbox or textlength instead.\n",
            "  text_width, text_height = draw.textsize(model.config.id2label[label.item()], font=font)\n",
            "<ipython-input-27-e399afaa81b4>:51: DeprecationWarning: textsize is deprecated and will be removed in Pillow 10 (2023-07-01). Use textbbox or textlength instead.\n",
            "  text_width, text_height = draw.textsize(model.config.id2label[label.item()], font=font)\n",
            "<ipython-input-27-e399afaa81b4>:51: DeprecationWarning: textsize is deprecated and will be removed in Pillow 10 (2023-07-01). Use textbbox or textlength instead.\n",
            "  text_width, text_height = draw.textsize(model.config.id2label[label.item()], font=font)\n",
            "<ipython-input-27-e399afaa81b4>:51: DeprecationWarning: textsize is deprecated and will be removed in Pillow 10 (2023-07-01). Use textbbox or textlength instead.\n",
            "  text_width, text_height = draw.textsize(model.config.id2label[label.item()], font=font)\n",
            "<ipython-input-27-e399afaa81b4>:51: DeprecationWarning: textsize is deprecated and will be removed in Pillow 10 (2023-07-01). Use textbbox or textlength instead.\n",
            "  text_width, text_height = draw.textsize(model.config.id2label[label.item()], font=font)\n",
            "<ipython-input-27-e399afaa81b4>:51: DeprecationWarning: textsize is deprecated and will be removed in Pillow 10 (2023-07-01). Use textbbox or textlength instead.\n",
            "  text_width, text_height = draw.textsize(model.config.id2label[label.item()], font=font)\n"
          ]
        },
        {
          "output_type": "stream",
          "name": "stdout",
          "text": [
            "Detected car with confidence 0.935 at location [766.84, 373.74, 791.15, 398.24]\n",
            "Detected car with confidence 0.911 at location [779.48, 372.03, 803.16, 394.63]\n",
            "Detected car with confidence 0.987 at location [894.4, 379.83, 1045.73, 477.38]\n",
            "Detected car with confidence 0.977 at location [658.58, 363.48, 752.71, 433.33]\n",
            "Detected car with confidence 0.918 at location [728.09, 369.62, 751.4, 389.68]\n",
            "Detected car with confidence 0.983 at location [820.34, 378.51, 904.92, 437.43]\n",
            "Detected car with confidence 0.926 at location [770.38, 372.53, 790.63, 390.9]\n",
            "Detected car with confidence 0.965 at location [803.4, 376.21, 842.8, 415.3]\n",
            "Detected car with confidence 0.997 at location [563.58, 363.76, 630.6, 412.0]\n",
            "Detected car with confidence 0.929 at location [347.9, 347.84, 391.92, 360.46]\n",
            "Detected car with confidence 0.931 at location [0.1, 547.22, 1280.1, 713.72]\n",
            "Detected car with confidence 0.9 at location [739.19, 369.69, 760.92, 387.96]\n",
            "Detected car with confidence 0.944 at location [792.5, 373.43, 828.48, 409.45]\n",
            "Detected car with confidence 0.98 at location [795.73, 376.35, 835.52, 416.19]\n",
            "Detected car with confidence 0.974 at location [1146.58, 430.12, 1279.58, 637.12]\n",
            "Detected car with confidence 0.924 at location [780.12, 375.68, 809.82, 408.38]\n",
            "Detected car with confidence 0.993 at location [1094.76, 368.91, 1276.42, 470.51]\n",
            "Detected car with confidence 0.956 at location [1143.14, 415.62, 1279.58, 632.63]\n",
            "Detected car with confidence 0.955 at location [755.76, 372.59, 777.84, 392.11]\n"
          ]
        },
        {
          "output_type": "stream",
          "name": "stderr",
          "text": [
            "<ipython-input-27-e399afaa81b4>:51: DeprecationWarning: textsize is deprecated and will be removed in Pillow 10 (2023-07-01). Use textbbox or textlength instead.\n",
            "  text_width, text_height = draw.textsize(model.config.id2label[label.item()], font=font)\n",
            "<ipython-input-27-e399afaa81b4>:51: DeprecationWarning: textsize is deprecated and will be removed in Pillow 10 (2023-07-01). Use textbbox or textlength instead.\n",
            "  text_width, text_height = draw.textsize(model.config.id2label[label.item()], font=font)\n",
            "<ipython-input-27-e399afaa81b4>:51: DeprecationWarning: textsize is deprecated and will be removed in Pillow 10 (2023-07-01). Use textbbox or textlength instead.\n",
            "  text_width, text_height = draw.textsize(model.config.id2label[label.item()], font=font)\n",
            "<ipython-input-27-e399afaa81b4>:51: DeprecationWarning: textsize is deprecated and will be removed in Pillow 10 (2023-07-01). Use textbbox or textlength instead.\n",
            "  text_width, text_height = draw.textsize(model.config.id2label[label.item()], font=font)\n",
            "<ipython-input-27-e399afaa81b4>:51: DeprecationWarning: textsize is deprecated and will be removed in Pillow 10 (2023-07-01). Use textbbox or textlength instead.\n",
            "  text_width, text_height = draw.textsize(model.config.id2label[label.item()], font=font)\n",
            "<ipython-input-27-e399afaa81b4>:51: DeprecationWarning: textsize is deprecated and will be removed in Pillow 10 (2023-07-01). Use textbbox or textlength instead.\n",
            "  text_width, text_height = draw.textsize(model.config.id2label[label.item()], font=font)\n",
            "<ipython-input-27-e399afaa81b4>:51: DeprecationWarning: textsize is deprecated and will be removed in Pillow 10 (2023-07-01). Use textbbox or textlength instead.\n",
            "  text_width, text_height = draw.textsize(model.config.id2label[label.item()], font=font)\n",
            "<ipython-input-27-e399afaa81b4>:51: DeprecationWarning: textsize is deprecated and will be removed in Pillow 10 (2023-07-01). Use textbbox or textlength instead.\n",
            "  text_width, text_height = draw.textsize(model.config.id2label[label.item()], font=font)\n",
            "<ipython-input-27-e399afaa81b4>:51: DeprecationWarning: textsize is deprecated and will be removed in Pillow 10 (2023-07-01). Use textbbox or textlength instead.\n",
            "  text_width, text_height = draw.textsize(model.config.id2label[label.item()], font=font)\n",
            "<ipython-input-27-e399afaa81b4>:51: DeprecationWarning: textsize is deprecated and will be removed in Pillow 10 (2023-07-01). Use textbbox or textlength instead.\n",
            "  text_width, text_height = draw.textsize(model.config.id2label[label.item()], font=font)\n",
            "<ipython-input-27-e399afaa81b4>:51: DeprecationWarning: textsize is deprecated and will be removed in Pillow 10 (2023-07-01). Use textbbox or textlength instead.\n",
            "  text_width, text_height = draw.textsize(model.config.id2label[label.item()], font=font)\n",
            "<ipython-input-27-e399afaa81b4>:51: DeprecationWarning: textsize is deprecated and will be removed in Pillow 10 (2023-07-01). Use textbbox or textlength instead.\n",
            "  text_width, text_height = draw.textsize(model.config.id2label[label.item()], font=font)\n",
            "<ipython-input-27-e399afaa81b4>:51: DeprecationWarning: textsize is deprecated and will be removed in Pillow 10 (2023-07-01). Use textbbox or textlength instead.\n",
            "  text_width, text_height = draw.textsize(model.config.id2label[label.item()], font=font)\n",
            "<ipython-input-27-e399afaa81b4>:51: DeprecationWarning: textsize is deprecated and will be removed in Pillow 10 (2023-07-01). Use textbbox or textlength instead.\n",
            "  text_width, text_height = draw.textsize(model.config.id2label[label.item()], font=font)\n",
            "<ipython-input-27-e399afaa81b4>:51: DeprecationWarning: textsize is deprecated and will be removed in Pillow 10 (2023-07-01). Use textbbox or textlength instead.\n",
            "  text_width, text_height = draw.textsize(model.config.id2label[label.item()], font=font)\n",
            "<ipython-input-27-e399afaa81b4>:51: DeprecationWarning: textsize is deprecated and will be removed in Pillow 10 (2023-07-01). Use textbbox or textlength instead.\n",
            "  text_width, text_height = draw.textsize(model.config.id2label[label.item()], font=font)\n",
            "<ipython-input-27-e399afaa81b4>:51: DeprecationWarning: textsize is deprecated and will be removed in Pillow 10 (2023-07-01). Use textbbox or textlength instead.\n",
            "  text_width, text_height = draw.textsize(model.config.id2label[label.item()], font=font)\n",
            "<ipython-input-27-e399afaa81b4>:51: DeprecationWarning: textsize is deprecated and will be removed in Pillow 10 (2023-07-01). Use textbbox or textlength instead.\n",
            "  text_width, text_height = draw.textsize(model.config.id2label[label.item()], font=font)\n",
            "<ipython-input-27-e399afaa81b4>:51: DeprecationWarning: textsize is deprecated and will be removed in Pillow 10 (2023-07-01). Use textbbox or textlength instead.\n",
            "  text_width, text_height = draw.textsize(model.config.id2label[label.item()], font=font)\n"
          ]
        },
        {
          "output_type": "stream",
          "name": "stdout",
          "text": [
            "[{'frame60': {'car': 8}}, {'frame45': {'car': 11}}, {'frame30': {'car': 8}}, {'frame15': {'car': 19}}]\n",
            "CLIP_43\n",
            "[Errno 17] File exists: '/content/YOLO_bounding_box_images/CLIP_43'\n",
            "Detected car with confidence 0.933 at location [0.01, 564.03, 1279.39, 714.61]\n"
          ]
        },
        {
          "output_type": "stream",
          "name": "stderr",
          "text": [
            "<ipython-input-27-e399afaa81b4>:51: DeprecationWarning: textsize is deprecated and will be removed in Pillow 10 (2023-07-01). Use textbbox or textlength instead.\n",
            "  text_width, text_height = draw.textsize(model.config.id2label[label.item()], font=font)\n"
          ]
        },
        {
          "output_type": "stream",
          "name": "stdout",
          "text": [
            "Detected car with confidence 0.963 at location [0.13, 561.16, 1280.01, 714.56]\n"
          ]
        },
        {
          "output_type": "stream",
          "name": "stderr",
          "text": [
            "<ipython-input-27-e399afaa81b4>:51: DeprecationWarning: textsize is deprecated and will be removed in Pillow 10 (2023-07-01). Use textbbox or textlength instead.\n",
            "  text_width, text_height = draw.textsize(model.config.id2label[label.item()], font=font)\n"
          ]
        },
        {
          "output_type": "stream",
          "name": "stdout",
          "text": [
            "Detected car with confidence 0.971 at location [0.26, 549.01, 1280.2, 713.91]\n"
          ]
        },
        {
          "output_type": "stream",
          "name": "stderr",
          "text": [
            "<ipython-input-27-e399afaa81b4>:51: DeprecationWarning: textsize is deprecated and will be removed in Pillow 10 (2023-07-01). Use textbbox or textlength instead.\n",
            "  text_width, text_height = draw.textsize(model.config.id2label[label.item()], font=font)\n"
          ]
        },
        {
          "output_type": "stream",
          "name": "stdout",
          "text": [
            "Detected car with confidence 0.95 at location [0.08, 551.49, 1280.05, 715.88]\n",
            "Detected car with confidence 0.949 at location [444.98, 428.37, 476.38, 439.78]\n"
          ]
        },
        {
          "output_type": "stream",
          "name": "stderr",
          "text": [
            "<ipython-input-27-e399afaa81b4>:51: DeprecationWarning: textsize is deprecated and will be removed in Pillow 10 (2023-07-01). Use textbbox or textlength instead.\n",
            "  text_width, text_height = draw.textsize(model.config.id2label[label.item()], font=font)\n",
            "<ipython-input-27-e399afaa81b4>:51: DeprecationWarning: textsize is deprecated and will be removed in Pillow 10 (2023-07-01). Use textbbox or textlength instead.\n",
            "  text_width, text_height = draw.textsize(model.config.id2label[label.item()], font=font)\n"
          ]
        },
        {
          "output_type": "stream",
          "name": "stdout",
          "text": [
            "[{'frame60': {'car': 1}}, {'frame45': {'car': 1}}, {'frame30': {'car': 1}}, {'frame15': {'car': 2}}]\n",
            "CLIP_252\n",
            "[Errno 17] File exists: '/content/YOLO_bounding_box_images/CLIP_252'\n",
            "Detected car with confidence 0.9 at location [541.63, 365.24, 592.51, 417.9]\n",
            "Detected car with confidence 0.969 at location [1101.81, 364.31, 1167.69, 384.36]\n",
            "Detected car with confidence 0.979 at location [290.47, 400.15, 397.29, 458.63]\n",
            "Detected car with confidence 0.936 at location [606.48, 367.73, 664.19, 402.9]\n"
          ]
        },
        {
          "output_type": "stream",
          "name": "stderr",
          "text": [
            "<ipython-input-27-e399afaa81b4>:51: DeprecationWarning: textsize is deprecated and will be removed in Pillow 10 (2023-07-01). Use textbbox or textlength instead.\n",
            "  text_width, text_height = draw.textsize(model.config.id2label[label.item()], font=font)\n",
            "<ipython-input-27-e399afaa81b4>:51: DeprecationWarning: textsize is deprecated and will be removed in Pillow 10 (2023-07-01). Use textbbox or textlength instead.\n",
            "  text_width, text_height = draw.textsize(model.config.id2label[label.item()], font=font)\n",
            "<ipython-input-27-e399afaa81b4>:51: DeprecationWarning: textsize is deprecated and will be removed in Pillow 10 (2023-07-01). Use textbbox or textlength instead.\n",
            "  text_width, text_height = draw.textsize(model.config.id2label[label.item()], font=font)\n",
            "<ipython-input-27-e399afaa81b4>:51: DeprecationWarning: textsize is deprecated and will be removed in Pillow 10 (2023-07-01). Use textbbox or textlength instead.\n",
            "  text_width, text_height = draw.textsize(model.config.id2label[label.item()], font=font)\n"
          ]
        },
        {
          "output_type": "stream",
          "name": "stdout",
          "text": [
            "Detected car with confidence 0.958 at location [378.43, 404.78, 451.81, 447.18]\n"
          ]
        },
        {
          "output_type": "stream",
          "name": "stderr",
          "text": [
            "<ipython-input-27-e399afaa81b4>:51: DeprecationWarning: textsize is deprecated and will be removed in Pillow 10 (2023-07-01). Use textbbox or textlength instead.\n",
            "  text_width, text_height = draw.textsize(model.config.id2label[label.item()], font=font)\n"
          ]
        },
        {
          "output_type": "stream",
          "name": "stdout",
          "text": [
            "Detected car with confidence 0.917 at location [473.16, 381.35, 533.55, 425.22]\n"
          ]
        },
        {
          "output_type": "stream",
          "name": "stderr",
          "text": [
            "<ipython-input-27-e399afaa81b4>:51: DeprecationWarning: textsize is deprecated and will be removed in Pillow 10 (2023-07-01). Use textbbox or textlength instead.\n",
            "  text_width, text_height = draw.textsize(model.config.id2label[label.item()], font=font)\n"
          ]
        },
        {
          "output_type": "stream",
          "name": "stdout",
          "text": [
            "[{'frame60': {'car': 4}}, {'frame45': {'car': 1}}, {'frame30': {}}, {'frame15': {'car': 1}}]\n",
            "CLIP_208\n",
            "[Errno 17] File exists: '/content/YOLO_bounding_box_images/CLIP_208'\n",
            "Detected car with confidence 0.935 at location [191.62, 264.04, 251.51, 302.33]\n",
            "Detected car with confidence 0.973 at location [864.01, 212.89, 986.26, 265.21]\n",
            "Detected car with confidence 0.977 at location [252.73, 244.11, 302.61, 275.66]\n",
            "Detected car with confidence 0.993 at location [474.68, 204.4, 695.41, 297.89]\n",
            "Detected car with confidence 0.989 at location [402.83, 221.86, 512.41, 267.43]\n",
            "Detected traffic light with confidence 0.984 at location [356.68, 108.94, 375.56, 143.1]\n",
            "Detected traffic light with confidence 0.992 at location [289.33, 113.54, 305.69, 143.33]\n",
            "Detected car with confidence 0.966 at location [1084.36, 216.05, 1138.53, 258.77]\n",
            "Detected car with confidence 0.918 at location [237.85, 252.11, 282.36, 283.64]\n"
          ]
        },
        {
          "output_type": "stream",
          "name": "stderr",
          "text": [
            "<ipython-input-27-e399afaa81b4>:51: DeprecationWarning: textsize is deprecated and will be removed in Pillow 10 (2023-07-01). Use textbbox or textlength instead.\n",
            "  text_width, text_height = draw.textsize(model.config.id2label[label.item()], font=font)\n",
            "<ipython-input-27-e399afaa81b4>:51: DeprecationWarning: textsize is deprecated and will be removed in Pillow 10 (2023-07-01). Use textbbox or textlength instead.\n",
            "  text_width, text_height = draw.textsize(model.config.id2label[label.item()], font=font)\n",
            "<ipython-input-27-e399afaa81b4>:51: DeprecationWarning: textsize is deprecated and will be removed in Pillow 10 (2023-07-01). Use textbbox or textlength instead.\n",
            "  text_width, text_height = draw.textsize(model.config.id2label[label.item()], font=font)\n",
            "<ipython-input-27-e399afaa81b4>:51: DeprecationWarning: textsize is deprecated and will be removed in Pillow 10 (2023-07-01). Use textbbox or textlength instead.\n",
            "  text_width, text_height = draw.textsize(model.config.id2label[label.item()], font=font)\n",
            "<ipython-input-27-e399afaa81b4>:51: DeprecationWarning: textsize is deprecated and will be removed in Pillow 10 (2023-07-01). Use textbbox or textlength instead.\n",
            "  text_width, text_height = draw.textsize(model.config.id2label[label.item()], font=font)\n",
            "<ipython-input-27-e399afaa81b4>:51: DeprecationWarning: textsize is deprecated and will be removed in Pillow 10 (2023-07-01). Use textbbox or textlength instead.\n",
            "  text_width, text_height = draw.textsize(model.config.id2label[label.item()], font=font)\n",
            "<ipython-input-27-e399afaa81b4>:51: DeprecationWarning: textsize is deprecated and will be removed in Pillow 10 (2023-07-01). Use textbbox or textlength instead.\n",
            "  text_width, text_height = draw.textsize(model.config.id2label[label.item()], font=font)\n",
            "<ipython-input-27-e399afaa81b4>:51: DeprecationWarning: textsize is deprecated and will be removed in Pillow 10 (2023-07-01). Use textbbox or textlength instead.\n",
            "  text_width, text_height = draw.textsize(model.config.id2label[label.item()], font=font)\n",
            "<ipython-input-27-e399afaa81b4>:51: DeprecationWarning: textsize is deprecated and will be removed in Pillow 10 (2023-07-01). Use textbbox or textlength instead.\n",
            "  text_width, text_height = draw.textsize(model.config.id2label[label.item()], font=font)\n"
          ]
        },
        {
          "output_type": "stream",
          "name": "stdout",
          "text": [
            "Detected car with confidence 0.963 at location [1136.37, 231.88, 1185.5, 273.14]\n",
            "Detected car with confidence 0.997 at location [649.24, 207.5, 826.64, 278.53]\n",
            "Detected traffic light with confidence 0.996 at location [388.26, 113.68, 403.87, 142.81]\n",
            "Detected traffic light with confidence 0.994 at location [455.86, 111.86, 471.49, 144.53]\n",
            "Detected car with confidence 0.941 at location [975.18, 222.93, 1063.49, 261.05]\n",
            "Detected car with confidence 0.996 at location [549.18, 215.3, 670.13, 260.01]\n",
            "Detected car with confidence 0.966 at location [933.32, 214.33, 976.84, 242.11]\n"
          ]
        },
        {
          "output_type": "stream",
          "name": "stderr",
          "text": [
            "<ipython-input-27-e399afaa81b4>:51: DeprecationWarning: textsize is deprecated and will be removed in Pillow 10 (2023-07-01). Use textbbox or textlength instead.\n",
            "  text_width, text_height = draw.textsize(model.config.id2label[label.item()], font=font)\n",
            "<ipython-input-27-e399afaa81b4>:51: DeprecationWarning: textsize is deprecated and will be removed in Pillow 10 (2023-07-01). Use textbbox or textlength instead.\n",
            "  text_width, text_height = draw.textsize(model.config.id2label[label.item()], font=font)\n",
            "<ipython-input-27-e399afaa81b4>:51: DeprecationWarning: textsize is deprecated and will be removed in Pillow 10 (2023-07-01). Use textbbox or textlength instead.\n",
            "  text_width, text_height = draw.textsize(model.config.id2label[label.item()], font=font)\n",
            "<ipython-input-27-e399afaa81b4>:51: DeprecationWarning: textsize is deprecated and will be removed in Pillow 10 (2023-07-01). Use textbbox or textlength instead.\n",
            "  text_width, text_height = draw.textsize(model.config.id2label[label.item()], font=font)\n",
            "<ipython-input-27-e399afaa81b4>:51: DeprecationWarning: textsize is deprecated and will be removed in Pillow 10 (2023-07-01). Use textbbox or textlength instead.\n",
            "  text_width, text_height = draw.textsize(model.config.id2label[label.item()], font=font)\n",
            "<ipython-input-27-e399afaa81b4>:51: DeprecationWarning: textsize is deprecated and will be removed in Pillow 10 (2023-07-01). Use textbbox or textlength instead.\n",
            "  text_width, text_height = draw.textsize(model.config.id2label[label.item()], font=font)\n",
            "<ipython-input-27-e399afaa81b4>:51: DeprecationWarning: textsize is deprecated and will be removed in Pillow 10 (2023-07-01). Use textbbox or textlength instead.\n",
            "  text_width, text_height = draw.textsize(model.config.id2label[label.item()], font=font)\n"
          ]
        },
        {
          "output_type": "stream",
          "name": "stdout",
          "text": [
            "Detected traffic light with confidence 0.981 at location [542.83, 116.28, 556.37, 146.25]\n",
            "Detected car with confidence 0.989 at location [792.18, 215.3, 954.47, 270.88]\n",
            "Detected car with confidence 0.953 at location [318.75, 218.02, 529.75, 321.8]\n",
            "Detected traffic light with confidence 0.996 at location [555.98, 117.73, 570.02, 148.54]\n",
            "Detected car with confidence 0.903 at location [0.45, 287.42, 1279.56, 710.05]\n",
            "Detected car with confidence 0.991 at location [707.1, 214.81, 813.29, 253.3]\n",
            "Detected car with confidence 0.99 at location [1176.42, 242.37, 1235.12, 286.24]\n",
            "Detected traffic light with confidence 0.993 at location [494.26, 116.94, 506.95, 142.4]\n",
            "Detected car with confidence 0.961 at location [1066.69, 235.81, 1124.53, 262.57]\n"
          ]
        },
        {
          "output_type": "stream",
          "name": "stderr",
          "text": [
            "<ipython-input-27-e399afaa81b4>:51: DeprecationWarning: textsize is deprecated and will be removed in Pillow 10 (2023-07-01). Use textbbox or textlength instead.\n",
            "  text_width, text_height = draw.textsize(model.config.id2label[label.item()], font=font)\n",
            "<ipython-input-27-e399afaa81b4>:51: DeprecationWarning: textsize is deprecated and will be removed in Pillow 10 (2023-07-01). Use textbbox or textlength instead.\n",
            "  text_width, text_height = draw.textsize(model.config.id2label[label.item()], font=font)\n",
            "<ipython-input-27-e399afaa81b4>:51: DeprecationWarning: textsize is deprecated and will be removed in Pillow 10 (2023-07-01). Use textbbox or textlength instead.\n",
            "  text_width, text_height = draw.textsize(model.config.id2label[label.item()], font=font)\n",
            "<ipython-input-27-e399afaa81b4>:51: DeprecationWarning: textsize is deprecated and will be removed in Pillow 10 (2023-07-01). Use textbbox or textlength instead.\n",
            "  text_width, text_height = draw.textsize(model.config.id2label[label.item()], font=font)\n",
            "<ipython-input-27-e399afaa81b4>:51: DeprecationWarning: textsize is deprecated and will be removed in Pillow 10 (2023-07-01). Use textbbox or textlength instead.\n",
            "  text_width, text_height = draw.textsize(model.config.id2label[label.item()], font=font)\n",
            "<ipython-input-27-e399afaa81b4>:51: DeprecationWarning: textsize is deprecated and will be removed in Pillow 10 (2023-07-01). Use textbbox or textlength instead.\n",
            "  text_width, text_height = draw.textsize(model.config.id2label[label.item()], font=font)\n",
            "<ipython-input-27-e399afaa81b4>:51: DeprecationWarning: textsize is deprecated and will be removed in Pillow 10 (2023-07-01). Use textbbox or textlength instead.\n",
            "  text_width, text_height = draw.textsize(model.config.id2label[label.item()], font=font)\n",
            "<ipython-input-27-e399afaa81b4>:51: DeprecationWarning: textsize is deprecated and will be removed in Pillow 10 (2023-07-01). Use textbbox or textlength instead.\n",
            "  text_width, text_height = draw.textsize(model.config.id2label[label.item()], font=font)\n",
            "<ipython-input-27-e399afaa81b4>:51: DeprecationWarning: textsize is deprecated and will be removed in Pillow 10 (2023-07-01). Use textbbox or textlength instead.\n",
            "  text_width, text_height = draw.textsize(model.config.id2label[label.item()], font=font)\n"
          ]
        },
        {
          "output_type": "stream",
          "name": "stdout",
          "text": [
            "Detected traffic light with confidence 0.965 at location [567.34, 123.14, 580.28, 146.1]\n",
            "Detected car with confidence 0.936 at location [192.51, 444.88, 1275.25, 712.44]\n",
            "Detected traffic light with confidence 0.976 at location [60.68, 141.69, 78.2, 178.42]\n",
            "Detected traffic light with confidence 0.98 at location [615.07, 127.64, 628.05, 152.83]\n",
            "Detected car with confidence 0.983 at location [829.42, 219.01, 924.09, 250.95]\n",
            "Detected car with confidence 0.937 at location [1152.57, 239.75, 1226.07, 287.45]\n",
            "Detected traffic light with confidence 0.989 at location [1216.65, 158.75, 1237.53, 190.96]\n",
            "Detected traffic light with confidence 0.958 at location [201.72, 162.78, 215.3, 185.45]\n",
            "Detected car with confidence 0.988 at location [898.56, 219.78, 1029.09, 262.78]\n",
            "Detected car with confidence 0.945 at location [485.13, 216.21, 677.3, 296.83]\n"
          ]
        },
        {
          "output_type": "stream",
          "name": "stderr",
          "text": [
            "<ipython-input-27-e399afaa81b4>:51: DeprecationWarning: textsize is deprecated and will be removed in Pillow 10 (2023-07-01). Use textbbox or textlength instead.\n",
            "  text_width, text_height = draw.textsize(model.config.id2label[label.item()], font=font)\n",
            "<ipython-input-27-e399afaa81b4>:51: DeprecationWarning: textsize is deprecated and will be removed in Pillow 10 (2023-07-01). Use textbbox or textlength instead.\n",
            "  text_width, text_height = draw.textsize(model.config.id2label[label.item()], font=font)\n",
            "<ipython-input-27-e399afaa81b4>:51: DeprecationWarning: textsize is deprecated and will be removed in Pillow 10 (2023-07-01). Use textbbox or textlength instead.\n",
            "  text_width, text_height = draw.textsize(model.config.id2label[label.item()], font=font)\n",
            "<ipython-input-27-e399afaa81b4>:51: DeprecationWarning: textsize is deprecated and will be removed in Pillow 10 (2023-07-01). Use textbbox or textlength instead.\n",
            "  text_width, text_height = draw.textsize(model.config.id2label[label.item()], font=font)\n",
            "<ipython-input-27-e399afaa81b4>:51: DeprecationWarning: textsize is deprecated and will be removed in Pillow 10 (2023-07-01). Use textbbox or textlength instead.\n",
            "  text_width, text_height = draw.textsize(model.config.id2label[label.item()], font=font)\n",
            "<ipython-input-27-e399afaa81b4>:51: DeprecationWarning: textsize is deprecated and will be removed in Pillow 10 (2023-07-01). Use textbbox or textlength instead.\n",
            "  text_width, text_height = draw.textsize(model.config.id2label[label.item()], font=font)\n",
            "<ipython-input-27-e399afaa81b4>:51: DeprecationWarning: textsize is deprecated and will be removed in Pillow 10 (2023-07-01). Use textbbox or textlength instead.\n",
            "  text_width, text_height = draw.textsize(model.config.id2label[label.item()], font=font)\n",
            "<ipython-input-27-e399afaa81b4>:51: DeprecationWarning: textsize is deprecated and will be removed in Pillow 10 (2023-07-01). Use textbbox or textlength instead.\n",
            "  text_width, text_height = draw.textsize(model.config.id2label[label.item()], font=font)\n",
            "<ipython-input-27-e399afaa81b4>:51: DeprecationWarning: textsize is deprecated and will be removed in Pillow 10 (2023-07-01). Use textbbox or textlength instead.\n",
            "  text_width, text_height = draw.textsize(model.config.id2label[label.item()], font=font)\n",
            "<ipython-input-27-e399afaa81b4>:51: DeprecationWarning: textsize is deprecated and will be removed in Pillow 10 (2023-07-01). Use textbbox or textlength instead.\n",
            "  text_width, text_height = draw.textsize(model.config.id2label[label.item()], font=font)\n"
          ]
        },
        {
          "output_type": "stream",
          "name": "stdout",
          "text": [
            "[{'frame60': {'car': 7, 'traffic light': 2}}, {'frame45': {'car': 5, 'traffic light': 2}}, {'frame30': {'traffic light': 3, 'car': 6}}, {'frame15': {'traffic light': 5, 'car': 5}}]\n",
            "CLIP_152\n",
            "[Errno 17] File exists: '/content/YOLO_bounding_box_images/CLIP_152'\n",
            "Detected car with confidence 0.997 at location [695.6, 452.45, 788.76, 504.55]\n",
            "Detected car with confidence 0.986 at location [520.29, 465.23, 589.5, 506.2]\n",
            "Detected car with confidence 0.969 at location [277.81, 474.4, 315.37, 490.09]\n",
            "Detected car with confidence 0.943 at location [0.37, 479.77, 1280.37, 713.48]\n",
            "Detected car with confidence 0.939 at location [367.41, 473.58, 389.35, 487.65]\n"
          ]
        },
        {
          "output_type": "stream",
          "name": "stderr",
          "text": [
            "<ipython-input-27-e399afaa81b4>:51: DeprecationWarning: textsize is deprecated and will be removed in Pillow 10 (2023-07-01). Use textbbox or textlength instead.\n",
            "  text_width, text_height = draw.textsize(model.config.id2label[label.item()], font=font)\n",
            "<ipython-input-27-e399afaa81b4>:51: DeprecationWarning: textsize is deprecated and will be removed in Pillow 10 (2023-07-01). Use textbbox or textlength instead.\n",
            "  text_width, text_height = draw.textsize(model.config.id2label[label.item()], font=font)\n",
            "<ipython-input-27-e399afaa81b4>:51: DeprecationWarning: textsize is deprecated and will be removed in Pillow 10 (2023-07-01). Use textbbox or textlength instead.\n",
            "  text_width, text_height = draw.textsize(model.config.id2label[label.item()], font=font)\n",
            "<ipython-input-27-e399afaa81b4>:51: DeprecationWarning: textsize is deprecated and will be removed in Pillow 10 (2023-07-01). Use textbbox or textlength instead.\n",
            "  text_width, text_height = draw.textsize(model.config.id2label[label.item()], font=font)\n",
            "<ipython-input-27-e399afaa81b4>:51: DeprecationWarning: textsize is deprecated and will be removed in Pillow 10 (2023-07-01). Use textbbox or textlength instead.\n",
            "  text_width, text_height = draw.textsize(model.config.id2label[label.item()], font=font)\n"
          ]
        },
        {
          "output_type": "stream",
          "name": "stdout",
          "text": [
            "Detected car with confidence 0.993 at location [763.62, 443.22, 883.8, 502.97]\n",
            "Detected car with confidence 0.993 at location [322.28, 466.63, 357.83, 492.76]\n",
            "Detected car with confidence 0.984 at location [125.15, 467.09, 211.97, 505.24]\n",
            "Detected car with confidence 0.983 at location [440.14, 472.54, 498.4, 504.72]\n"
          ]
        },
        {
          "output_type": "stream",
          "name": "stderr",
          "text": [
            "<ipython-input-27-e399afaa81b4>:51: DeprecationWarning: textsize is deprecated and will be removed in Pillow 10 (2023-07-01). Use textbbox or textlength instead.\n",
            "  text_width, text_height = draw.textsize(model.config.id2label[label.item()], font=font)\n",
            "<ipython-input-27-e399afaa81b4>:51: DeprecationWarning: textsize is deprecated and will be removed in Pillow 10 (2023-07-01). Use textbbox or textlength instead.\n",
            "  text_width, text_height = draw.textsize(model.config.id2label[label.item()], font=font)\n",
            "<ipython-input-27-e399afaa81b4>:51: DeprecationWarning: textsize is deprecated and will be removed in Pillow 10 (2023-07-01). Use textbbox or textlength instead.\n",
            "  text_width, text_height = draw.textsize(model.config.id2label[label.item()], font=font)\n",
            "<ipython-input-27-e399afaa81b4>:51: DeprecationWarning: textsize is deprecated and will be removed in Pillow 10 (2023-07-01). Use textbbox or textlength instead.\n",
            "  text_width, text_height = draw.textsize(model.config.id2label[label.item()], font=font)\n"
          ]
        },
        {
          "output_type": "stream",
          "name": "stdout",
          "text": [
            "[{'frame29': {'car': 5}}, {'frame58': {'car': 4}}]\n",
            "CLIP_85\n",
            "[Errno 17] File exists: '/content/YOLO_bounding_box_images/CLIP_85'\n",
            "Detected car with confidence 0.995 at location [642.56, 513.46, 902.2, 663.11]\n",
            "Detected car with confidence 0.975 at location [389.03, 528.3, 448.25, 564.75]\n",
            "Detected car with confidence 0.975 at location [1029.51, 454.85, 1278.49, 598.59]\n"
          ]
        },
        {
          "output_type": "stream",
          "name": "stderr",
          "text": [
            "<ipython-input-27-e399afaa81b4>:51: DeprecationWarning: textsize is deprecated and will be removed in Pillow 10 (2023-07-01). Use textbbox or textlength instead.\n",
            "  text_width, text_height = draw.textsize(model.config.id2label[label.item()], font=font)\n",
            "<ipython-input-27-e399afaa81b4>:51: DeprecationWarning: textsize is deprecated and will be removed in Pillow 10 (2023-07-01). Use textbbox or textlength instead.\n",
            "  text_width, text_height = draw.textsize(model.config.id2label[label.item()], font=font)\n",
            "<ipython-input-27-e399afaa81b4>:51: DeprecationWarning: textsize is deprecated and will be removed in Pillow 10 (2023-07-01). Use textbbox or textlength instead.\n",
            "  text_width, text_height = draw.textsize(model.config.id2label[label.item()], font=font)\n"
          ]
        },
        {
          "output_type": "stream",
          "name": "stdout",
          "text": [
            "Detected car with confidence 0.979 at location [623.81, 503.68, 998.77, 680.55]\n",
            "Detected car with confidence 0.917 at location [314.76, 524.43, 421.73, 577.66]\n",
            "Detected car with confidence 0.905 at location [314.56, 525.04, 417.94, 577.59]\n",
            "Detected car with confidence 0.975 at location [647.06, 504.02, 997.11, 675.3]\n"
          ]
        },
        {
          "output_type": "stream",
          "name": "stderr",
          "text": [
            "<ipython-input-27-e399afaa81b4>:51: DeprecationWarning: textsize is deprecated and will be removed in Pillow 10 (2023-07-01). Use textbbox or textlength instead.\n",
            "  text_width, text_height = draw.textsize(model.config.id2label[label.item()], font=font)\n",
            "<ipython-input-27-e399afaa81b4>:51: DeprecationWarning: textsize is deprecated and will be removed in Pillow 10 (2023-07-01). Use textbbox or textlength instead.\n",
            "  text_width, text_height = draw.textsize(model.config.id2label[label.item()], font=font)\n",
            "<ipython-input-27-e399afaa81b4>:51: DeprecationWarning: textsize is deprecated and will be removed in Pillow 10 (2023-07-01). Use textbbox or textlength instead.\n",
            "  text_width, text_height = draw.textsize(model.config.id2label[label.item()], font=font)\n",
            "<ipython-input-27-e399afaa81b4>:51: DeprecationWarning: textsize is deprecated and will be removed in Pillow 10 (2023-07-01). Use textbbox or textlength instead.\n",
            "  text_width, text_height = draw.textsize(model.config.id2label[label.item()], font=font)\n"
          ]
        },
        {
          "output_type": "stream",
          "name": "stdout",
          "text": [
            "Detected car with confidence 0.984 at location [366.51, 521.54, 480.73, 592.69]\n",
            "Detected car with confidence 0.994 at location [23.46, 483.91, 241.19, 590.3]\n",
            "Detected car with confidence 0.923 at location [474.32, 479.14, 704.73, 666.74]\n",
            "Detected car with confidence 0.973 at location [660.2, 484.77, 1114.98, 703.92]\n"
          ]
        },
        {
          "output_type": "stream",
          "name": "stderr",
          "text": [
            "<ipython-input-27-e399afaa81b4>:51: DeprecationWarning: textsize is deprecated and will be removed in Pillow 10 (2023-07-01). Use textbbox or textlength instead.\n",
            "  text_width, text_height = draw.textsize(model.config.id2label[label.item()], font=font)\n",
            "<ipython-input-27-e399afaa81b4>:51: DeprecationWarning: textsize is deprecated and will be removed in Pillow 10 (2023-07-01). Use textbbox or textlength instead.\n",
            "  text_width, text_height = draw.textsize(model.config.id2label[label.item()], font=font)\n",
            "<ipython-input-27-e399afaa81b4>:51: DeprecationWarning: textsize is deprecated and will be removed in Pillow 10 (2023-07-01). Use textbbox or textlength instead.\n",
            "  text_width, text_height = draw.textsize(model.config.id2label[label.item()], font=font)\n",
            "<ipython-input-27-e399afaa81b4>:51: DeprecationWarning: textsize is deprecated and will be removed in Pillow 10 (2023-07-01). Use textbbox or textlength instead.\n",
            "  text_width, text_height = draw.textsize(model.config.id2label[label.item()], font=font)\n"
          ]
        },
        {
          "output_type": "stream",
          "name": "stdout",
          "text": [
            "Detected car with confidence 0.992 at location [542.47, 501.87, 977.95, 668.91]\n",
            "Detected car with confidence 0.987 at location [427.03, 535.46, 497.22, 570.69]\n",
            "Detected car with confidence 0.969 at location [122.49, 509.8, 402.27, 641.12]\n"
          ]
        },
        {
          "output_type": "stream",
          "name": "stderr",
          "text": [
            "<ipython-input-27-e399afaa81b4>:51: DeprecationWarning: textsize is deprecated and will be removed in Pillow 10 (2023-07-01). Use textbbox or textlength instead.\n",
            "  text_width, text_height = draw.textsize(model.config.id2label[label.item()], font=font)\n",
            "<ipython-input-27-e399afaa81b4>:51: DeprecationWarning: textsize is deprecated and will be removed in Pillow 10 (2023-07-01). Use textbbox or textlength instead.\n",
            "  text_width, text_height = draw.textsize(model.config.id2label[label.item()], font=font)\n",
            "<ipython-input-27-e399afaa81b4>:51: DeprecationWarning: textsize is deprecated and will be removed in Pillow 10 (2023-07-01). Use textbbox or textlength instead.\n",
            "  text_width, text_height = draw.textsize(model.config.id2label[label.item()], font=font)\n"
          ]
        },
        {
          "output_type": "stream",
          "name": "stdout",
          "text": [
            "[{'frame60': {'car': 3}}, {'frame45': {'car': 4}}, {'frame30': {'car': 4}}, {'frame15': {'car': 3}}]\n",
            "CLIP_30\n",
            "[Errno 17] File exists: '/content/YOLO_bounding_box_images/CLIP_30'\n",
            "Detected car with confidence 0.938 at location [291.46, 187.33, 461.71, 264.18]\n",
            "Detected car with confidence 0.997 at location [512.0, 198.45, 758.33, 372.35]\n",
            "Detected car with confidence 0.978 at location [352.16, 189.58, 562.24, 297.72]\n",
            "Detected car with confidence 0.998 at location [1058.48, 203.26, 1279.46, 307.22]\n",
            "Detected car with confidence 0.949 at location [928.51, 166.49, 993.78, 192.52]\n",
            "Detected car with confidence 0.962 at location [825.43, 200.33, 1005.69, 288.38]\n"
          ]
        },
        {
          "output_type": "stream",
          "name": "stderr",
          "text": [
            "<ipython-input-27-e399afaa81b4>:51: DeprecationWarning: textsize is deprecated and will be removed in Pillow 10 (2023-07-01). Use textbbox or textlength instead.\n",
            "  text_width, text_height = draw.textsize(model.config.id2label[label.item()], font=font)\n",
            "<ipython-input-27-e399afaa81b4>:51: DeprecationWarning: textsize is deprecated and will be removed in Pillow 10 (2023-07-01). Use textbbox or textlength instead.\n",
            "  text_width, text_height = draw.textsize(model.config.id2label[label.item()], font=font)\n",
            "<ipython-input-27-e399afaa81b4>:51: DeprecationWarning: textsize is deprecated and will be removed in Pillow 10 (2023-07-01). Use textbbox or textlength instead.\n",
            "  text_width, text_height = draw.textsize(model.config.id2label[label.item()], font=font)\n",
            "<ipython-input-27-e399afaa81b4>:51: DeprecationWarning: textsize is deprecated and will be removed in Pillow 10 (2023-07-01). Use textbbox or textlength instead.\n",
            "  text_width, text_height = draw.textsize(model.config.id2label[label.item()], font=font)\n",
            "<ipython-input-27-e399afaa81b4>:51: DeprecationWarning: textsize is deprecated and will be removed in Pillow 10 (2023-07-01). Use textbbox or textlength instead.\n",
            "  text_width, text_height = draw.textsize(model.config.id2label[label.item()], font=font)\n",
            "<ipython-input-27-e399afaa81b4>:51: DeprecationWarning: textsize is deprecated and will be removed in Pillow 10 (2023-07-01). Use textbbox or textlength instead.\n",
            "  text_width, text_height = draw.textsize(model.config.id2label[label.item()], font=font)\n"
          ]
        },
        {
          "output_type": "stream",
          "name": "stdout",
          "text": [
            "Detected car with confidence 0.953 at location [505.15, 198.65, 784.06, 394.04]\n",
            "Detected truck with confidence 0.937 at location [-0.87, 4.94, 303.53, 300.69]\n",
            "Detected car with confidence 0.944 at location [724.39, 201.25, 772.45, 223.61]\n",
            "Detected car with confidence 0.928 at location [312.71, 184.12, 563.16, 286.14]\n",
            "Detected car with confidence 0.91 at location [1000.27, 165.97, 1077.81, 198.27]\n"
          ]
        },
        {
          "output_type": "stream",
          "name": "stderr",
          "text": [
            "<ipython-input-27-e399afaa81b4>:51: DeprecationWarning: textsize is deprecated and will be removed in Pillow 10 (2023-07-01). Use textbbox or textlength instead.\n",
            "  text_width, text_height = draw.textsize(model.config.id2label[label.item()], font=font)\n",
            "<ipython-input-27-e399afaa81b4>:51: DeprecationWarning: textsize is deprecated and will be removed in Pillow 10 (2023-07-01). Use textbbox or textlength instead.\n",
            "  text_width, text_height = draw.textsize(model.config.id2label[label.item()], font=font)\n",
            "<ipython-input-27-e399afaa81b4>:51: DeprecationWarning: textsize is deprecated and will be removed in Pillow 10 (2023-07-01). Use textbbox or textlength instead.\n",
            "  text_width, text_height = draw.textsize(model.config.id2label[label.item()], font=font)\n",
            "<ipython-input-27-e399afaa81b4>:51: DeprecationWarning: textsize is deprecated and will be removed in Pillow 10 (2023-07-01). Use textbbox or textlength instead.\n",
            "  text_width, text_height = draw.textsize(model.config.id2label[label.item()], font=font)\n",
            "<ipython-input-27-e399afaa81b4>:51: DeprecationWarning: textsize is deprecated and will be removed in Pillow 10 (2023-07-01). Use textbbox or textlength instead.\n",
            "  text_width, text_height = draw.textsize(model.config.id2label[label.item()], font=font)\n"
          ]
        },
        {
          "output_type": "stream",
          "name": "stdout",
          "text": [
            "Detected car with confidence 0.972 at location [473.51, 197.17, 825.07, 448.36]\n",
            "Detected car with confidence 0.927 at location [1113.58, 156.88, 1182.38, 179.89]\n",
            "Detected car with confidence 0.992 at location [-0.4, 203.85, 267.54, 664.19]\n",
            "Detected car with confidence 0.967 at location [360.56, 188.59, 573.32, 310.76]\n",
            "Detected car with confidence 0.982 at location [754.69, 201.7, 790.72, 221.28]\n",
            "Detected car with confidence 0.944 at location [268.86, 188.28, 416.56, 277.08]\n"
          ]
        },
        {
          "output_type": "stream",
          "name": "stderr",
          "text": [
            "<ipython-input-27-e399afaa81b4>:51: DeprecationWarning: textsize is deprecated and will be removed in Pillow 10 (2023-07-01). Use textbbox or textlength instead.\n",
            "  text_width, text_height = draw.textsize(model.config.id2label[label.item()], font=font)\n",
            "<ipython-input-27-e399afaa81b4>:51: DeprecationWarning: textsize is deprecated and will be removed in Pillow 10 (2023-07-01). Use textbbox or textlength instead.\n",
            "  text_width, text_height = draw.textsize(model.config.id2label[label.item()], font=font)\n",
            "<ipython-input-27-e399afaa81b4>:51: DeprecationWarning: textsize is deprecated and will be removed in Pillow 10 (2023-07-01). Use textbbox or textlength instead.\n",
            "  text_width, text_height = draw.textsize(model.config.id2label[label.item()], font=font)\n",
            "<ipython-input-27-e399afaa81b4>:51: DeprecationWarning: textsize is deprecated and will be removed in Pillow 10 (2023-07-01). Use textbbox or textlength instead.\n",
            "  text_width, text_height = draw.textsize(model.config.id2label[label.item()], font=font)\n",
            "<ipython-input-27-e399afaa81b4>:51: DeprecationWarning: textsize is deprecated and will be removed in Pillow 10 (2023-07-01). Use textbbox or textlength instead.\n",
            "  text_width, text_height = draw.textsize(model.config.id2label[label.item()], font=font)\n",
            "<ipython-input-27-e399afaa81b4>:51: DeprecationWarning: textsize is deprecated and will be removed in Pillow 10 (2023-07-01). Use textbbox or textlength instead.\n",
            "  text_width, text_height = draw.textsize(model.config.id2label[label.item()], font=font)\n"
          ]
        },
        {
          "output_type": "stream",
          "name": "stdout",
          "text": [
            "Detected car with confidence 0.998 at location [479.9, 183.15, 895.08, 531.27]\n",
            "Detected car with confidence 0.914 at location [489.17, 218.87, 912.72, 530.9]\n",
            "Detected car with confidence 0.994 at location [790.2, 190.7, 840.98, 217.61]\n",
            "Detected car with confidence 0.972 at location [383.17, 172.71, 598.89, 316.59]\n",
            "Detected car with confidence 0.961 at location [0.62, 169.89, 418.28, 645.71]\n",
            "Detected person with confidence 0.974 at location [1110.37, 132.22, 1150.35, 187.58]\n",
            "Detected car with confidence 0.902 at location [1077.87, 167.62, 1122.15, 185.28]\n"
          ]
        },
        {
          "output_type": "stream",
          "name": "stderr",
          "text": [
            "<ipython-input-27-e399afaa81b4>:51: DeprecationWarning: textsize is deprecated and will be removed in Pillow 10 (2023-07-01). Use textbbox or textlength instead.\n",
            "  text_width, text_height = draw.textsize(model.config.id2label[label.item()], font=font)\n",
            "<ipython-input-27-e399afaa81b4>:51: DeprecationWarning: textsize is deprecated and will be removed in Pillow 10 (2023-07-01). Use textbbox or textlength instead.\n",
            "  text_width, text_height = draw.textsize(model.config.id2label[label.item()], font=font)\n",
            "<ipython-input-27-e399afaa81b4>:51: DeprecationWarning: textsize is deprecated and will be removed in Pillow 10 (2023-07-01). Use textbbox or textlength instead.\n",
            "  text_width, text_height = draw.textsize(model.config.id2label[label.item()], font=font)\n",
            "<ipython-input-27-e399afaa81b4>:51: DeprecationWarning: textsize is deprecated and will be removed in Pillow 10 (2023-07-01). Use textbbox or textlength instead.\n",
            "  text_width, text_height = draw.textsize(model.config.id2label[label.item()], font=font)\n",
            "<ipython-input-27-e399afaa81b4>:51: DeprecationWarning: textsize is deprecated and will be removed in Pillow 10 (2023-07-01). Use textbbox or textlength instead.\n",
            "  text_width, text_height = draw.textsize(model.config.id2label[label.item()], font=font)\n",
            "<ipython-input-27-e399afaa81b4>:51: DeprecationWarning: textsize is deprecated and will be removed in Pillow 10 (2023-07-01). Use textbbox or textlength instead.\n",
            "  text_width, text_height = draw.textsize(model.config.id2label[label.item()], font=font)\n",
            "<ipython-input-27-e399afaa81b4>:51: DeprecationWarning: textsize is deprecated and will be removed in Pillow 10 (2023-07-01). Use textbbox or textlength instead.\n",
            "  text_width, text_height = draw.textsize(model.config.id2label[label.item()], font=font)\n"
          ]
        },
        {
          "output_type": "stream",
          "name": "stdout",
          "text": [
            "[{'frame60': {'car': 6}}, {'frame45': {'car': 4, 'truck': 1}}, {'frame30': {'car': 6}}, {'frame15': {'car': 6, 'person': 1}}]\n",
            "CLIP_264\n",
            "[Errno 17] File exists: '/content/YOLO_bounding_box_images/CLIP_264'\n",
            "Detected car with confidence 0.987 at location [332.97, 298.09, 421.7, 341.88]\n",
            "Detected car with confidence 0.998 at location [469.44, 309.42, 700.56, 391.82]\n",
            "Detected car with confidence 0.978 at location [3.64, 275.66, 268.36, 424.5]\n",
            "Detected car with confidence 0.959 at location [1026.3, 365.11, 1280.17, 617.79]\n",
            "Detected traffic light with confidence 0.916 at location [1159.12, 90.81, 1213.24, 122.75]\n",
            "Detected stop sign with confidence 0.991 at location [1114.93, 241.31, 1143.37, 265.94]\n",
            "Detected traffic light with confidence 0.952 at location [1046.97, 121.15, 1095.81, 149.29]\n"
          ]
        },
        {
          "output_type": "stream",
          "name": "stderr",
          "text": [
            "<ipython-input-27-e399afaa81b4>:51: DeprecationWarning: textsize is deprecated and will be removed in Pillow 10 (2023-07-01). Use textbbox or textlength instead.\n",
            "  text_width, text_height = draw.textsize(model.config.id2label[label.item()], font=font)\n",
            "<ipython-input-27-e399afaa81b4>:51: DeprecationWarning: textsize is deprecated and will be removed in Pillow 10 (2023-07-01). Use textbbox or textlength instead.\n",
            "  text_width, text_height = draw.textsize(model.config.id2label[label.item()], font=font)\n",
            "<ipython-input-27-e399afaa81b4>:51: DeprecationWarning: textsize is deprecated and will be removed in Pillow 10 (2023-07-01). Use textbbox or textlength instead.\n",
            "  text_width, text_height = draw.textsize(model.config.id2label[label.item()], font=font)\n",
            "<ipython-input-27-e399afaa81b4>:51: DeprecationWarning: textsize is deprecated and will be removed in Pillow 10 (2023-07-01). Use textbbox or textlength instead.\n",
            "  text_width, text_height = draw.textsize(model.config.id2label[label.item()], font=font)\n",
            "<ipython-input-27-e399afaa81b4>:51: DeprecationWarning: textsize is deprecated and will be removed in Pillow 10 (2023-07-01). Use textbbox or textlength instead.\n",
            "  text_width, text_height = draw.textsize(model.config.id2label[label.item()], font=font)\n",
            "<ipython-input-27-e399afaa81b4>:51: DeprecationWarning: textsize is deprecated and will be removed in Pillow 10 (2023-07-01). Use textbbox or textlength instead.\n",
            "  text_width, text_height = draw.textsize(model.config.id2label[label.item()], font=font)\n",
            "<ipython-input-27-e399afaa81b4>:51: DeprecationWarning: textsize is deprecated and will be removed in Pillow 10 (2023-07-01). Use textbbox or textlength instead.\n",
            "  text_width, text_height = draw.textsize(model.config.id2label[label.item()], font=font)\n"
          ]
        },
        {
          "output_type": "stream",
          "name": "stdout",
          "text": [
            "Detected car with confidence 0.922 at location [358.09, 303.86, 422.78, 337.76]\n",
            "Detected car with confidence 0.994 at location [400.17, 310.11, 631.44, 385.59]\n",
            "Detected car with confidence 0.989 at location [102.22, 280.63, 293.07, 394.12]\n",
            "Detected car with confidence 0.981 at location [1028.41, 366.17, 1280.05, 616.03]\n",
            "Detected traffic light with confidence 0.903 at location [1151.62, 92.86, 1209.34, 123.07]\n",
            "Detected stop sign with confidence 0.995 at location [1115.96, 240.47, 1142.92, 265.46]\n",
            "Detected car with confidence 0.961 at location [350.33, 306.15, 399.38, 334.77]\n"
          ]
        },
        {
          "output_type": "stream",
          "name": "stderr",
          "text": [
            "<ipython-input-27-e399afaa81b4>:51: DeprecationWarning: textsize is deprecated and will be removed in Pillow 10 (2023-07-01). Use textbbox or textlength instead.\n",
            "  text_width, text_height = draw.textsize(model.config.id2label[label.item()], font=font)\n",
            "<ipython-input-27-e399afaa81b4>:51: DeprecationWarning: textsize is deprecated and will be removed in Pillow 10 (2023-07-01). Use textbbox or textlength instead.\n",
            "  text_width, text_height = draw.textsize(model.config.id2label[label.item()], font=font)\n",
            "<ipython-input-27-e399afaa81b4>:51: DeprecationWarning: textsize is deprecated and will be removed in Pillow 10 (2023-07-01). Use textbbox or textlength instead.\n",
            "  text_width, text_height = draw.textsize(model.config.id2label[label.item()], font=font)\n",
            "<ipython-input-27-e399afaa81b4>:51: DeprecationWarning: textsize is deprecated and will be removed in Pillow 10 (2023-07-01). Use textbbox or textlength instead.\n",
            "  text_width, text_height = draw.textsize(model.config.id2label[label.item()], font=font)\n",
            "<ipython-input-27-e399afaa81b4>:51: DeprecationWarning: textsize is deprecated and will be removed in Pillow 10 (2023-07-01). Use textbbox or textlength instead.\n",
            "  text_width, text_height = draw.textsize(model.config.id2label[label.item()], font=font)\n",
            "<ipython-input-27-e399afaa81b4>:51: DeprecationWarning: textsize is deprecated and will be removed in Pillow 10 (2023-07-01). Use textbbox or textlength instead.\n",
            "  text_width, text_height = draw.textsize(model.config.id2label[label.item()], font=font)\n",
            "<ipython-input-27-e399afaa81b4>:51: DeprecationWarning: textsize is deprecated and will be removed in Pillow 10 (2023-07-01). Use textbbox or textlength instead.\n",
            "  text_width, text_height = draw.textsize(model.config.id2label[label.item()], font=font)\n"
          ]
        },
        {
          "output_type": "stream",
          "name": "stdout",
          "text": [
            "Detected stop sign with confidence 0.961 at location [1118.28, 238.52, 1143.91, 263.61]\n",
            "Detected car with confidence 0.996 at location [242.72, 310.25, 459.79, 386.24]\n",
            "Detected car with confidence 0.978 at location [1028.05, 365.97, 1279.95, 613.11]\n",
            "Detected car with confidence 0.956 at location [123.68, 298.53, 195.33, 329.82]\n",
            "Detected stop sign with confidence 0.955 at location [1116.12, 239.99, 1141.91, 266.53]\n",
            "Detected traffic light with confidence 0.96 at location [1047.18, 122.49, 1093.94, 150.02]\n",
            "Detected car with confidence 0.93 at location [549.95, 310.75, 586.55, 328.4]\n"
          ]
        },
        {
          "output_type": "stream",
          "name": "stderr",
          "text": [
            "<ipython-input-27-e399afaa81b4>:51: DeprecationWarning: textsize is deprecated and will be removed in Pillow 10 (2023-07-01). Use textbbox or textlength instead.\n",
            "  text_width, text_height = draw.textsize(model.config.id2label[label.item()], font=font)\n",
            "<ipython-input-27-e399afaa81b4>:51: DeprecationWarning: textsize is deprecated and will be removed in Pillow 10 (2023-07-01). Use textbbox or textlength instead.\n",
            "  text_width, text_height = draw.textsize(model.config.id2label[label.item()], font=font)\n",
            "<ipython-input-27-e399afaa81b4>:51: DeprecationWarning: textsize is deprecated and will be removed in Pillow 10 (2023-07-01). Use textbbox or textlength instead.\n",
            "  text_width, text_height = draw.textsize(model.config.id2label[label.item()], font=font)\n",
            "<ipython-input-27-e399afaa81b4>:51: DeprecationWarning: textsize is deprecated and will be removed in Pillow 10 (2023-07-01). Use textbbox or textlength instead.\n",
            "  text_width, text_height = draw.textsize(model.config.id2label[label.item()], font=font)\n",
            "<ipython-input-27-e399afaa81b4>:51: DeprecationWarning: textsize is deprecated and will be removed in Pillow 10 (2023-07-01). Use textbbox or textlength instead.\n",
            "  text_width, text_height = draw.textsize(model.config.id2label[label.item()], font=font)\n",
            "<ipython-input-27-e399afaa81b4>:51: DeprecationWarning: textsize is deprecated and will be removed in Pillow 10 (2023-07-01). Use textbbox or textlength instead.\n",
            "  text_width, text_height = draw.textsize(model.config.id2label[label.item()], font=font)\n",
            "<ipython-input-27-e399afaa81b4>:51: DeprecationWarning: textsize is deprecated and will be removed in Pillow 10 (2023-07-01). Use textbbox or textlength instead.\n",
            "  text_width, text_height = draw.textsize(model.config.id2label[label.item()], font=font)\n"
          ]
        },
        {
          "output_type": "stream",
          "name": "stdout",
          "text": [
            "Detected car with confidence 0.983 at location [54.79, 297.98, 148.25, 330.09]\n",
            "Detected truck with confidence 0.969 at location [592.23, 237.05, 752.72, 341.86]\n",
            "Detected car with confidence 0.992 at location [143.38, 301.87, 375.76, 372.74]\n",
            "Detected car with confidence 0.978 at location [1027.38, 365.34, 1279.88, 613.36]\n",
            "Detected car with confidence 0.926 at location [497.4, 309.48, 534.65, 327.55]\n",
            "Detected stop sign with confidence 0.984 at location [1114.25, 240.14, 1142.03, 265.22]\n",
            "Detected traffic light with confidence 0.948 at location [1046.96, 121.65, 1094.85, 149.97]\n",
            "[{'frame60': {'car': 4, 'traffic light': 2, 'stop sign': 1}}, {'frame45': {'car': 5, 'traffic light': 1, 'stop sign': 1}}, {'frame30': {'stop sign': 2, 'car': 4, 'traffic light': 1}}, {'frame15': {'car': 4, 'truck': 1, 'stop sign': 1, 'traffic light': 1}}]\n",
            "CLIP_37\n",
            "[Errno 17] File exists: '/content/YOLO_bounding_box_images/CLIP_37'\n"
          ]
        },
        {
          "output_type": "stream",
          "name": "stderr",
          "text": [
            "<ipython-input-27-e399afaa81b4>:51: DeprecationWarning: textsize is deprecated and will be removed in Pillow 10 (2023-07-01). Use textbbox or textlength instead.\n",
            "  text_width, text_height = draw.textsize(model.config.id2label[label.item()], font=font)\n",
            "<ipython-input-27-e399afaa81b4>:51: DeprecationWarning: textsize is deprecated and will be removed in Pillow 10 (2023-07-01). Use textbbox or textlength instead.\n",
            "  text_width, text_height = draw.textsize(model.config.id2label[label.item()], font=font)\n",
            "<ipython-input-27-e399afaa81b4>:51: DeprecationWarning: textsize is deprecated and will be removed in Pillow 10 (2023-07-01). Use textbbox or textlength instead.\n",
            "  text_width, text_height = draw.textsize(model.config.id2label[label.item()], font=font)\n",
            "<ipython-input-27-e399afaa81b4>:51: DeprecationWarning: textsize is deprecated and will be removed in Pillow 10 (2023-07-01). Use textbbox or textlength instead.\n",
            "  text_width, text_height = draw.textsize(model.config.id2label[label.item()], font=font)\n",
            "<ipython-input-27-e399afaa81b4>:51: DeprecationWarning: textsize is deprecated and will be removed in Pillow 10 (2023-07-01). Use textbbox or textlength instead.\n",
            "  text_width, text_height = draw.textsize(model.config.id2label[label.item()], font=font)\n",
            "<ipython-input-27-e399afaa81b4>:51: DeprecationWarning: textsize is deprecated and will be removed in Pillow 10 (2023-07-01). Use textbbox or textlength instead.\n",
            "  text_width, text_height = draw.textsize(model.config.id2label[label.item()], font=font)\n",
            "<ipython-input-27-e399afaa81b4>:51: DeprecationWarning: textsize is deprecated and will be removed in Pillow 10 (2023-07-01). Use textbbox or textlength instead.\n",
            "  text_width, text_height = draw.textsize(model.config.id2label[label.item()], font=font)\n"
          ]
        },
        {
          "output_type": "stream",
          "name": "stdout",
          "text": [
            "Detected person with confidence 0.901 at location [41.28, 592.31, 58.17, 627.33]\n"
          ]
        },
        {
          "output_type": "stream",
          "name": "stderr",
          "text": [
            "<ipython-input-27-e399afaa81b4>:51: DeprecationWarning: textsize is deprecated and will be removed in Pillow 10 (2023-07-01). Use textbbox or textlength instead.\n",
            "  text_width, text_height = draw.textsize(model.config.id2label[label.item()], font=font)\n"
          ]
        },
        {
          "output_type": "stream",
          "name": "stdout",
          "text": [
            "Detected airplane with confidence 0.963 at location [704.72, 423.15, 756.11, 447.97]\n"
          ]
        },
        {
          "output_type": "stream",
          "name": "stderr",
          "text": [
            "<ipython-input-27-e399afaa81b4>:51: DeprecationWarning: textsize is deprecated and will be removed in Pillow 10 (2023-07-01). Use textbbox or textlength instead.\n",
            "  text_width, text_height = draw.textsize(model.config.id2label[label.item()], font=font)\n"
          ]
        },
        {
          "output_type": "stream",
          "name": "stdout",
          "text": [
            "[{'frame60': {}}, {'frame45': {'person': 1}}, {'frame30': {'airplane': 1}}, {'frame15': {}}]\n",
            "CLIP_116\n",
            "[Errno 17] File exists: '/content/YOLO_bounding_box_images/CLIP_116'\n",
            "Detected traffic light with confidence 0.988 at location [544.49, 165.41, 567.9, 212.64]\n",
            "Detected traffic light with confidence 0.918 at location [411.32, 173.68, 432.13, 212.68]\n",
            "Detected traffic light with confidence 0.941 at location [674.09, 266.11, 683.94, 284.21]\n",
            "Detected traffic light with confidence 0.955 at location [720.01, 264.51, 730.63, 281.69]\n",
            "Detected traffic light with confidence 0.923 at location [654.87, 264.21, 665.92, 282.58]\n",
            "Detected car with confidence 0.992 at location [174.69, 328.81, 257.68, 363.51]\n",
            "Detected car with confidence 0.964 at location [79.34, 597.23, 1274.72, 715.98]\n",
            "Detected car with confidence 0.951 at location [565.13, 325.01, 597.16, 347.22]\n",
            "Detected traffic light with confidence 0.917 at location [984.68, 228.48, 999.44, 257.69]\n",
            "Detected fire hydrant with confidence 0.954 at location [1062.53, 357.29, 1082.21, 382.87]\n",
            "Detected traffic light with confidence 0.988 at location [317.7, 174.18, 338.4, 213.04]\n",
            "Detected traffic light with confidence 0.918 at location [991.38, 227.27, 1006.82, 256.3]\n"
          ]
        },
        {
          "output_type": "stream",
          "name": "stderr",
          "text": [
            "<ipython-input-27-e399afaa81b4>:51: DeprecationWarning: textsize is deprecated and will be removed in Pillow 10 (2023-07-01). Use textbbox or textlength instead.\n",
            "  text_width, text_height = draw.textsize(model.config.id2label[label.item()], font=font)\n",
            "<ipython-input-27-e399afaa81b4>:51: DeprecationWarning: textsize is deprecated and will be removed in Pillow 10 (2023-07-01). Use textbbox or textlength instead.\n",
            "  text_width, text_height = draw.textsize(model.config.id2label[label.item()], font=font)\n",
            "<ipython-input-27-e399afaa81b4>:51: DeprecationWarning: textsize is deprecated and will be removed in Pillow 10 (2023-07-01). Use textbbox or textlength instead.\n",
            "  text_width, text_height = draw.textsize(model.config.id2label[label.item()], font=font)\n",
            "<ipython-input-27-e399afaa81b4>:51: DeprecationWarning: textsize is deprecated and will be removed in Pillow 10 (2023-07-01). Use textbbox or textlength instead.\n",
            "  text_width, text_height = draw.textsize(model.config.id2label[label.item()], font=font)\n",
            "<ipython-input-27-e399afaa81b4>:51: DeprecationWarning: textsize is deprecated and will be removed in Pillow 10 (2023-07-01). Use textbbox or textlength instead.\n",
            "  text_width, text_height = draw.textsize(model.config.id2label[label.item()], font=font)\n",
            "<ipython-input-27-e399afaa81b4>:51: DeprecationWarning: textsize is deprecated and will be removed in Pillow 10 (2023-07-01). Use textbbox or textlength instead.\n",
            "  text_width, text_height = draw.textsize(model.config.id2label[label.item()], font=font)\n",
            "<ipython-input-27-e399afaa81b4>:51: DeprecationWarning: textsize is deprecated and will be removed in Pillow 10 (2023-07-01). Use textbbox or textlength instead.\n",
            "  text_width, text_height = draw.textsize(model.config.id2label[label.item()], font=font)\n",
            "<ipython-input-27-e399afaa81b4>:51: DeprecationWarning: textsize is deprecated and will be removed in Pillow 10 (2023-07-01). Use textbbox or textlength instead.\n",
            "  text_width, text_height = draw.textsize(model.config.id2label[label.item()], font=font)\n",
            "<ipython-input-27-e399afaa81b4>:51: DeprecationWarning: textsize is deprecated and will be removed in Pillow 10 (2023-07-01). Use textbbox or textlength instead.\n",
            "  text_width, text_height = draw.textsize(model.config.id2label[label.item()], font=font)\n",
            "<ipython-input-27-e399afaa81b4>:51: DeprecationWarning: textsize is deprecated and will be removed in Pillow 10 (2023-07-01). Use textbbox or textlength instead.\n",
            "  text_width, text_height = draw.textsize(model.config.id2label[label.item()], font=font)\n",
            "<ipython-input-27-e399afaa81b4>:51: DeprecationWarning: textsize is deprecated and will be removed in Pillow 10 (2023-07-01). Use textbbox or textlength instead.\n",
            "  text_width, text_height = draw.textsize(model.config.id2label[label.item()], font=font)\n",
            "<ipython-input-27-e399afaa81b4>:51: DeprecationWarning: textsize is deprecated and will be removed in Pillow 10 (2023-07-01). Use textbbox or textlength instead.\n",
            "  text_width, text_height = draw.textsize(model.config.id2label[label.item()], font=font)\n"
          ]
        },
        {
          "output_type": "stream",
          "name": "stdout",
          "text": [
            "Detected traffic light with confidence 0.957 at location [567.58, 199.86, 588.07, 236.1]\n",
            "Detected traffic light with confidence 0.98 at location [460.34, 206.17, 476.28, 238.83]\n",
            "Detected car with confidence 0.928 at location [743.4, 319.91, 806.22, 364.81]\n",
            "Detected traffic light with confidence 0.97 at location [678.15, 272.42, 688.41, 289.51]\n",
            "Detected car with confidence 0.944 at location [573.52, 330.7, 602.43, 348.73]\n",
            "Detected traffic light with confidence 0.942 at location [644.75, 271.95, 654.88, 289.39]\n",
            "Detected car with confidence 0.959 at location [213.99, 328.35, 309.83, 362.94]\n",
            "Detected car with confidence 0.969 at location [99.69, 596.15, 1249.48, 715.89]\n",
            "Detected traffic light with confidence 0.99 at location [388.28, 205.45, 405.08, 236.55]\n",
            "Detected traffic light with confidence 0.905 at location [637.47, 271.69, 647.84, 289.2]\n",
            "Detected traffic light with confidence 0.93 at location [721.06, 271.06, 730.69, 287.26]\n"
          ]
        },
        {
          "output_type": "stream",
          "name": "stderr",
          "text": [
            "<ipython-input-27-e399afaa81b4>:51: DeprecationWarning: textsize is deprecated and will be removed in Pillow 10 (2023-07-01). Use textbbox or textlength instead.\n",
            "  text_width, text_height = draw.textsize(model.config.id2label[label.item()], font=font)\n",
            "<ipython-input-27-e399afaa81b4>:51: DeprecationWarning: textsize is deprecated and will be removed in Pillow 10 (2023-07-01). Use textbbox or textlength instead.\n",
            "  text_width, text_height = draw.textsize(model.config.id2label[label.item()], font=font)\n",
            "<ipython-input-27-e399afaa81b4>:51: DeprecationWarning: textsize is deprecated and will be removed in Pillow 10 (2023-07-01). Use textbbox or textlength instead.\n",
            "  text_width, text_height = draw.textsize(model.config.id2label[label.item()], font=font)\n",
            "<ipython-input-27-e399afaa81b4>:51: DeprecationWarning: textsize is deprecated and will be removed in Pillow 10 (2023-07-01). Use textbbox or textlength instead.\n",
            "  text_width, text_height = draw.textsize(model.config.id2label[label.item()], font=font)\n",
            "<ipython-input-27-e399afaa81b4>:51: DeprecationWarning: textsize is deprecated and will be removed in Pillow 10 (2023-07-01). Use textbbox or textlength instead.\n",
            "  text_width, text_height = draw.textsize(model.config.id2label[label.item()], font=font)\n",
            "<ipython-input-27-e399afaa81b4>:51: DeprecationWarning: textsize is deprecated and will be removed in Pillow 10 (2023-07-01). Use textbbox or textlength instead.\n",
            "  text_width, text_height = draw.textsize(model.config.id2label[label.item()], font=font)\n",
            "<ipython-input-27-e399afaa81b4>:51: DeprecationWarning: textsize is deprecated and will be removed in Pillow 10 (2023-07-01). Use textbbox or textlength instead.\n",
            "  text_width, text_height = draw.textsize(model.config.id2label[label.item()], font=font)\n",
            "<ipython-input-27-e399afaa81b4>:51: DeprecationWarning: textsize is deprecated and will be removed in Pillow 10 (2023-07-01). Use textbbox or textlength instead.\n",
            "  text_width, text_height = draw.textsize(model.config.id2label[label.item()], font=font)\n",
            "<ipython-input-27-e399afaa81b4>:51: DeprecationWarning: textsize is deprecated and will be removed in Pillow 10 (2023-07-01). Use textbbox or textlength instead.\n",
            "  text_width, text_height = draw.textsize(model.config.id2label[label.item()], font=font)\n",
            "<ipython-input-27-e399afaa81b4>:51: DeprecationWarning: textsize is deprecated and will be removed in Pillow 10 (2023-07-01). Use textbbox or textlength instead.\n",
            "  text_width, text_height = draw.textsize(model.config.id2label[label.item()], font=font)\n",
            "<ipython-input-27-e399afaa81b4>:51: DeprecationWarning: textsize is deprecated and will be removed in Pillow 10 (2023-07-01). Use textbbox or textlength instead.\n",
            "  text_width, text_height = draw.textsize(model.config.id2label[label.item()], font=font)\n"
          ]
        },
        {
          "output_type": "stream",
          "name": "stdout",
          "text": [
            "Detected traffic light with confidence 0.988 at location [589.32, 217.31, 604.13, 252.52]\n",
            "Detected traffic light with confidence 0.969 at location [495.89, 224.18, 508.46, 253.13]\n",
            "Detected car with confidence 0.936 at location [660.95, 319.12, 719.82, 361.67]\n",
            "Detected traffic light with confidence 0.933 at location [675.9, 276.72, 685.8, 290.82]\n",
            "Detected traffic light with confidence 0.916 at location [433.61, 225.78, 448.06, 253.7]\n",
            "Detected car with confidence 0.98 at location [270.22, 329.05, 333.44, 357.17]\n",
            "Detected car with confidence 0.966 at location [120.54, 591.9, 1274.13, 715.29]\n",
            "Detected car with confidence 0.954 at location [612.25, 323.82, 645.36, 348.6]\n",
            "Detected car with confidence 0.947 at location [626.86, 323.43, 655.72, 346.24]\n"
          ]
        },
        {
          "output_type": "stream",
          "name": "stderr",
          "text": [
            "<ipython-input-27-e399afaa81b4>:51: DeprecationWarning: textsize is deprecated and will be removed in Pillow 10 (2023-07-01). Use textbbox or textlength instead.\n",
            "  text_width, text_height = draw.textsize(model.config.id2label[label.item()], font=font)\n",
            "<ipython-input-27-e399afaa81b4>:51: DeprecationWarning: textsize is deprecated and will be removed in Pillow 10 (2023-07-01). Use textbbox or textlength instead.\n",
            "  text_width, text_height = draw.textsize(model.config.id2label[label.item()], font=font)\n",
            "<ipython-input-27-e399afaa81b4>:51: DeprecationWarning: textsize is deprecated and will be removed in Pillow 10 (2023-07-01). Use textbbox or textlength instead.\n",
            "  text_width, text_height = draw.textsize(model.config.id2label[label.item()], font=font)\n",
            "<ipython-input-27-e399afaa81b4>:51: DeprecationWarning: textsize is deprecated and will be removed in Pillow 10 (2023-07-01). Use textbbox or textlength instead.\n",
            "  text_width, text_height = draw.textsize(model.config.id2label[label.item()], font=font)\n",
            "<ipython-input-27-e399afaa81b4>:51: DeprecationWarning: textsize is deprecated and will be removed in Pillow 10 (2023-07-01). Use textbbox or textlength instead.\n",
            "  text_width, text_height = draw.textsize(model.config.id2label[label.item()], font=font)\n",
            "<ipython-input-27-e399afaa81b4>:51: DeprecationWarning: textsize is deprecated and will be removed in Pillow 10 (2023-07-01). Use textbbox or textlength instead.\n",
            "  text_width, text_height = draw.textsize(model.config.id2label[label.item()], font=font)\n",
            "<ipython-input-27-e399afaa81b4>:51: DeprecationWarning: textsize is deprecated and will be removed in Pillow 10 (2023-07-01). Use textbbox or textlength instead.\n",
            "  text_width, text_height = draw.textsize(model.config.id2label[label.item()], font=font)\n",
            "<ipython-input-27-e399afaa81b4>:51: DeprecationWarning: textsize is deprecated and will be removed in Pillow 10 (2023-07-01). Use textbbox or textlength instead.\n",
            "  text_width, text_height = draw.textsize(model.config.id2label[label.item()], font=font)\n",
            "<ipython-input-27-e399afaa81b4>:51: DeprecationWarning: textsize is deprecated and will be removed in Pillow 10 (2023-07-01). Use textbbox or textlength instead.\n",
            "  text_width, text_height = draw.textsize(model.config.id2label[label.item()], font=font)\n"
          ]
        },
        {
          "output_type": "stream",
          "name": "stdout",
          "text": [
            "Detected traffic light with confidence 0.975 at location [518.39, 239.9, 532.36, 262.92]\n",
            "Detected car with confidence 0.972 at location [740.69, 315.9, 792.63, 357.71]\n",
            "Detected car with confidence 0.96 at location [659.9, 318.19, 715.38, 355.68]\n",
            "Detected traffic light with confidence 0.948 at location [676.86, 280.59, 686.25, 294.45]\n",
            "Detected traffic light with confidence 0.932 at location [641.5, 278.41, 650.96, 295.28]\n",
            "Detected traffic light with confidence 0.932 at location [464.89, 239.49, 476.12, 262.01]\n",
            "Detected car with confidence 0.984 at location [289.33, 329.44, 354.39, 354.29]\n",
            "Detected car with confidence 0.983 at location [119.05, 591.92, 1275.75, 714.86]\n",
            "Detected traffic light with confidence 0.914 at location [895.61, 257.12, 912.06, 278.0]\n",
            "Detected car with confidence 0.92 at location [404.68, 325.38, 435.1, 341.99]\n",
            "Detected car with confidence 0.952 at location [632.69, 320.45, 656.95, 341.51]\n",
            "Detected traffic light with confidence 0.928 at location [471.43, 240.65, 483.56, 263.27]\n",
            "Detected traffic light with confidence 0.977 at location [599.69, 235.66, 614.58, 264.28]\n",
            "Detected car with confidence 0.913 at location [563.41, 322.24, 604.87, 346.23]\n",
            "Detected traffic light with confidence 0.909 at location [715.37, 277.61, 724.37, 292.03]\n"
          ]
        },
        {
          "output_type": "stream",
          "name": "stderr",
          "text": [
            "<ipython-input-27-e399afaa81b4>:51: DeprecationWarning: textsize is deprecated and will be removed in Pillow 10 (2023-07-01). Use textbbox or textlength instead.\n",
            "  text_width, text_height = draw.textsize(model.config.id2label[label.item()], font=font)\n",
            "<ipython-input-27-e399afaa81b4>:51: DeprecationWarning: textsize is deprecated and will be removed in Pillow 10 (2023-07-01). Use textbbox or textlength instead.\n",
            "  text_width, text_height = draw.textsize(model.config.id2label[label.item()], font=font)\n",
            "<ipython-input-27-e399afaa81b4>:51: DeprecationWarning: textsize is deprecated and will be removed in Pillow 10 (2023-07-01). Use textbbox or textlength instead.\n",
            "  text_width, text_height = draw.textsize(model.config.id2label[label.item()], font=font)\n",
            "<ipython-input-27-e399afaa81b4>:51: DeprecationWarning: textsize is deprecated and will be removed in Pillow 10 (2023-07-01). Use textbbox or textlength instead.\n",
            "  text_width, text_height = draw.textsize(model.config.id2label[label.item()], font=font)\n",
            "<ipython-input-27-e399afaa81b4>:51: DeprecationWarning: textsize is deprecated and will be removed in Pillow 10 (2023-07-01). Use textbbox or textlength instead.\n",
            "  text_width, text_height = draw.textsize(model.config.id2label[label.item()], font=font)\n",
            "<ipython-input-27-e399afaa81b4>:51: DeprecationWarning: textsize is deprecated and will be removed in Pillow 10 (2023-07-01). Use textbbox or textlength instead.\n",
            "  text_width, text_height = draw.textsize(model.config.id2label[label.item()], font=font)\n",
            "<ipython-input-27-e399afaa81b4>:51: DeprecationWarning: textsize is deprecated and will be removed in Pillow 10 (2023-07-01). Use textbbox or textlength instead.\n",
            "  text_width, text_height = draw.textsize(model.config.id2label[label.item()], font=font)\n",
            "<ipython-input-27-e399afaa81b4>:51: DeprecationWarning: textsize is deprecated and will be removed in Pillow 10 (2023-07-01). Use textbbox or textlength instead.\n",
            "  text_width, text_height = draw.textsize(model.config.id2label[label.item()], font=font)\n",
            "<ipython-input-27-e399afaa81b4>:51: DeprecationWarning: textsize is deprecated and will be removed in Pillow 10 (2023-07-01). Use textbbox or textlength instead.\n",
            "  text_width, text_height = draw.textsize(model.config.id2label[label.item()], font=font)\n",
            "<ipython-input-27-e399afaa81b4>:51: DeprecationWarning: textsize is deprecated and will be removed in Pillow 10 (2023-07-01). Use textbbox or textlength instead.\n",
            "  text_width, text_height = draw.textsize(model.config.id2label[label.item()], font=font)\n",
            "<ipython-input-27-e399afaa81b4>:51: DeprecationWarning: textsize is deprecated and will be removed in Pillow 10 (2023-07-01). Use textbbox or textlength instead.\n",
            "  text_width, text_height = draw.textsize(model.config.id2label[label.item()], font=font)\n",
            "<ipython-input-27-e399afaa81b4>:51: DeprecationWarning: textsize is deprecated and will be removed in Pillow 10 (2023-07-01). Use textbbox or textlength instead.\n",
            "  text_width, text_height = draw.textsize(model.config.id2label[label.item()], font=font)\n",
            "<ipython-input-27-e399afaa81b4>:51: DeprecationWarning: textsize is deprecated and will be removed in Pillow 10 (2023-07-01). Use textbbox or textlength instead.\n",
            "  text_width, text_height = draw.textsize(model.config.id2label[label.item()], font=font)\n",
            "<ipython-input-27-e399afaa81b4>:51: DeprecationWarning: textsize is deprecated and will be removed in Pillow 10 (2023-07-01). Use textbbox or textlength instead.\n",
            "  text_width, text_height = draw.textsize(model.config.id2label[label.item()], font=font)\n",
            "<ipython-input-27-e399afaa81b4>:51: DeprecationWarning: textsize is deprecated and will be removed in Pillow 10 (2023-07-01). Use textbbox or textlength instead.\n",
            "  text_width, text_height = draw.textsize(model.config.id2label[label.item()], font=font)\n"
          ]
        },
        {
          "output_type": "stream",
          "name": "stdout",
          "text": [
            "[{'frame60': {'traffic light': 8, 'car': 3, 'fire hydrant': 1}}, {'frame45': {'traffic light': 7, 'car': 4}}, {'frame30': {'traffic light': 4, 'car': 5}}, {'frame15': {'traffic light': 8, 'car': 7}}]\n",
            "CLIP_243\n",
            "[Errno 17] File exists: '/content/YOLO_bounding_box_images/CLIP_243'\n",
            "Detected traffic light with confidence 0.96 at location [168.59, 53.45, 194.67, 103.74]\n",
            "Detected traffic light with confidence 0.957 at location [92.05, 76.25, 118.3, 114.24]\n",
            "Detected car with confidence 0.978 at location [103.4, 225.72, 395.94, 368.68]\n",
            "Detected car with confidence 0.902 at location [0.35, 403.61, 1280.35, 712.57]\n",
            "Detected car with confidence 0.924 at location [1059.33, 224.41, 1092.39, 249.51]\n",
            "Detected car with confidence 0.906 at location [0.12, 321.59, 131.74, 470.89]\n",
            "Detected car with confidence 0.991 at location [959.52, 211.97, 1279.31, 362.62]\n"
          ]
        },
        {
          "output_type": "stream",
          "name": "stderr",
          "text": [
            "<ipython-input-27-e399afaa81b4>:51: DeprecationWarning: textsize is deprecated and will be removed in Pillow 10 (2023-07-01). Use textbbox or textlength instead.\n",
            "  text_width, text_height = draw.textsize(model.config.id2label[label.item()], font=font)\n",
            "<ipython-input-27-e399afaa81b4>:51: DeprecationWarning: textsize is deprecated and will be removed in Pillow 10 (2023-07-01). Use textbbox or textlength instead.\n",
            "  text_width, text_height = draw.textsize(model.config.id2label[label.item()], font=font)\n",
            "<ipython-input-27-e399afaa81b4>:51: DeprecationWarning: textsize is deprecated and will be removed in Pillow 10 (2023-07-01). Use textbbox or textlength instead.\n",
            "  text_width, text_height = draw.textsize(model.config.id2label[label.item()], font=font)\n",
            "<ipython-input-27-e399afaa81b4>:51: DeprecationWarning: textsize is deprecated and will be removed in Pillow 10 (2023-07-01). Use textbbox or textlength instead.\n",
            "  text_width, text_height = draw.textsize(model.config.id2label[label.item()], font=font)\n",
            "<ipython-input-27-e399afaa81b4>:51: DeprecationWarning: textsize is deprecated and will be removed in Pillow 10 (2023-07-01). Use textbbox or textlength instead.\n",
            "  text_width, text_height = draw.textsize(model.config.id2label[label.item()], font=font)\n",
            "<ipython-input-27-e399afaa81b4>:51: DeprecationWarning: textsize is deprecated and will be removed in Pillow 10 (2023-07-01). Use textbbox or textlength instead.\n",
            "  text_width, text_height = draw.textsize(model.config.id2label[label.item()], font=font)\n",
            "<ipython-input-27-e399afaa81b4>:51: DeprecationWarning: textsize is deprecated and will be removed in Pillow 10 (2023-07-01). Use textbbox or textlength instead.\n",
            "  text_width, text_height = draw.textsize(model.config.id2label[label.item()], font=font)\n"
          ]
        },
        {
          "output_type": "stream",
          "name": "stdout",
          "text": [
            "Detected car with confidence 0.954 at location [168.02, 226.15, 363.23, 364.93]\n",
            "Detected car with confidence 0.928 at location [0.29, 324.49, 128.48, 470.98]\n",
            "Detected car with confidence 0.985 at location [959.65, 211.41, 1279.11, 363.74]\n"
          ]
        },
        {
          "output_type": "stream",
          "name": "stderr",
          "text": [
            "<ipython-input-27-e399afaa81b4>:51: DeprecationWarning: textsize is deprecated and will be removed in Pillow 10 (2023-07-01). Use textbbox or textlength instead.\n",
            "  text_width, text_height = draw.textsize(model.config.id2label[label.item()], font=font)\n",
            "<ipython-input-27-e399afaa81b4>:51: DeprecationWarning: textsize is deprecated and will be removed in Pillow 10 (2023-07-01). Use textbbox or textlength instead.\n",
            "  text_width, text_height = draw.textsize(model.config.id2label[label.item()], font=font)\n",
            "<ipython-input-27-e399afaa81b4>:51: DeprecationWarning: textsize is deprecated and will be removed in Pillow 10 (2023-07-01). Use textbbox or textlength instead.\n",
            "  text_width, text_height = draw.textsize(model.config.id2label[label.item()], font=font)\n"
          ]
        },
        {
          "output_type": "stream",
          "name": "stdout",
          "text": [
            "[{'frame29': {'traffic light': 2, 'car': 5}}, {'frame58': {'car': 3}}]\n",
            "CLIP_66\n",
            "[Errno 17] File exists: '/content/YOLO_bounding_box_images/CLIP_66'\n",
            "Detected car with confidence 0.995 at location [0.02, 317.24, 45.41, 361.97]\n",
            "Detected car with confidence 0.985 at location [402.59, 367.22, 492.17, 398.0]\n",
            "Detected traffic light with confidence 0.927 at location [543.18, 297.27, 564.04, 309.05]\n",
            "Detected car with confidence 0.916 at location [299.23, 352.98, 379.3, 381.02]\n"
          ]
        },
        {
          "output_type": "stream",
          "name": "stderr",
          "text": [
            "<ipython-input-27-e399afaa81b4>:51: DeprecationWarning: textsize is deprecated and will be removed in Pillow 10 (2023-07-01). Use textbbox or textlength instead.\n",
            "  text_width, text_height = draw.textsize(model.config.id2label[label.item()], font=font)\n",
            "<ipython-input-27-e399afaa81b4>:51: DeprecationWarning: textsize is deprecated and will be removed in Pillow 10 (2023-07-01). Use textbbox or textlength instead.\n",
            "  text_width, text_height = draw.textsize(model.config.id2label[label.item()], font=font)\n",
            "<ipython-input-27-e399afaa81b4>:51: DeprecationWarning: textsize is deprecated and will be removed in Pillow 10 (2023-07-01). Use textbbox or textlength instead.\n",
            "  text_width, text_height = draw.textsize(model.config.id2label[label.item()], font=font)\n",
            "<ipython-input-27-e399afaa81b4>:51: DeprecationWarning: textsize is deprecated and will be removed in Pillow 10 (2023-07-01). Use textbbox or textlength instead.\n",
            "  text_width, text_height = draw.textsize(model.config.id2label[label.item()], font=font)\n"
          ]
        },
        {
          "output_type": "stream",
          "name": "stdout",
          "text": [
            "Detected car with confidence 0.99 at location [0.06, 317.58, 49.4, 362.49]\n",
            "Detected car with confidence 0.973 at location [356.47, 363.43, 458.45, 396.02]\n",
            "Detected traffic light with confidence 0.932 at location [542.52, 297.15, 563.06, 309.08]\n",
            "Detected traffic light with confidence 0.914 at location [595.79, 292.2, 613.2, 304.45]\n"
          ]
        },
        {
          "output_type": "stream",
          "name": "stderr",
          "text": [
            "<ipython-input-27-e399afaa81b4>:51: DeprecationWarning: textsize is deprecated and will be removed in Pillow 10 (2023-07-01). Use textbbox or textlength instead.\n",
            "  text_width, text_height = draw.textsize(model.config.id2label[label.item()], font=font)\n",
            "<ipython-input-27-e399afaa81b4>:51: DeprecationWarning: textsize is deprecated and will be removed in Pillow 10 (2023-07-01). Use textbbox or textlength instead.\n",
            "  text_width, text_height = draw.textsize(model.config.id2label[label.item()], font=font)\n",
            "<ipython-input-27-e399afaa81b4>:51: DeprecationWarning: textsize is deprecated and will be removed in Pillow 10 (2023-07-01). Use textbbox or textlength instead.\n",
            "  text_width, text_height = draw.textsize(model.config.id2label[label.item()], font=font)\n",
            "<ipython-input-27-e399afaa81b4>:51: DeprecationWarning: textsize is deprecated and will be removed in Pillow 10 (2023-07-01). Use textbbox or textlength instead.\n",
            "  text_width, text_height = draw.textsize(model.config.id2label[label.item()], font=font)\n"
          ]
        },
        {
          "output_type": "stream",
          "name": "stdout",
          "text": [
            "Detected car with confidence 0.999 at location [0.0, 317.84, 48.15, 361.64]\n",
            "Detected car with confidence 0.997 at location [291.52, 355.21, 458.77, 421.6]\n",
            "Detected traffic light with confidence 0.925 at location [489.93, 298.61, 508.52, 311.43]\n",
            "Detected traffic light with confidence 0.93 at location [546.44, 297.72, 564.32, 310.11]\n"
          ]
        },
        {
          "output_type": "stream",
          "name": "stderr",
          "text": [
            "<ipython-input-27-e399afaa81b4>:51: DeprecationWarning: textsize is deprecated and will be removed in Pillow 10 (2023-07-01). Use textbbox or textlength instead.\n",
            "  text_width, text_height = draw.textsize(model.config.id2label[label.item()], font=font)\n",
            "<ipython-input-27-e399afaa81b4>:51: DeprecationWarning: textsize is deprecated and will be removed in Pillow 10 (2023-07-01). Use textbbox or textlength instead.\n",
            "  text_width, text_height = draw.textsize(model.config.id2label[label.item()], font=font)\n",
            "<ipython-input-27-e399afaa81b4>:51: DeprecationWarning: textsize is deprecated and will be removed in Pillow 10 (2023-07-01). Use textbbox or textlength instead.\n",
            "  text_width, text_height = draw.textsize(model.config.id2label[label.item()], font=font)\n",
            "<ipython-input-27-e399afaa81b4>:51: DeprecationWarning: textsize is deprecated and will be removed in Pillow 10 (2023-07-01). Use textbbox or textlength instead.\n",
            "  text_width, text_height = draw.textsize(model.config.id2label[label.item()], font=font)\n"
          ]
        },
        {
          "output_type": "stream",
          "name": "stdout",
          "text": [
            "Detected car with confidence 0.998 at location [-0.0, 318.49, 47.65, 362.93]\n",
            "Detected traffic light with confidence 0.919 at location [489.33, 299.06, 509.1, 311.98]\n",
            "Detected traffic light with confidence 0.935 at location [546.19, 297.6, 564.81, 310.15]\n",
            "Detected car with confidence 0.994 at location [391.91, 365.09, 462.88, 401.74]\n"
          ]
        },
        {
          "output_type": "stream",
          "name": "stderr",
          "text": [
            "<ipython-input-27-e399afaa81b4>:51: DeprecationWarning: textsize is deprecated and will be removed in Pillow 10 (2023-07-01). Use textbbox or textlength instead.\n",
            "  text_width, text_height = draw.textsize(model.config.id2label[label.item()], font=font)\n",
            "<ipython-input-27-e399afaa81b4>:51: DeprecationWarning: textsize is deprecated and will be removed in Pillow 10 (2023-07-01). Use textbbox or textlength instead.\n",
            "  text_width, text_height = draw.textsize(model.config.id2label[label.item()], font=font)\n",
            "<ipython-input-27-e399afaa81b4>:51: DeprecationWarning: textsize is deprecated and will be removed in Pillow 10 (2023-07-01). Use textbbox or textlength instead.\n",
            "  text_width, text_height = draw.textsize(model.config.id2label[label.item()], font=font)\n",
            "<ipython-input-27-e399afaa81b4>:51: DeprecationWarning: textsize is deprecated and will be removed in Pillow 10 (2023-07-01). Use textbbox or textlength instead.\n",
            "  text_width, text_height = draw.textsize(model.config.id2label[label.item()], font=font)\n"
          ]
        },
        {
          "output_type": "stream",
          "name": "stdout",
          "text": [
            "[{'frame60': {'car': 3, 'traffic light': 1}}, {'frame45': {'car': 2, 'traffic light': 2}}, {'frame30': {'car': 2, 'traffic light': 2}}, {'frame15': {'car': 2, 'traffic light': 2}}]\n",
            "CLIP_289\n",
            "[Errno 17] File exists: '/content/YOLO_bounding_box_images/CLIP_289'\n",
            "Detected traffic light with confidence 0.964 at location [17.91, 185.1, 38.05, 234.53]\n",
            "Detected traffic light with confidence 0.905 at location [908.15, 258.13, 926.06, 279.62]\n",
            "Detected traffic light with confidence 0.902 at location [1068.83, 24.03, 1103.08, 93.98]\n",
            "Detected traffic light with confidence 0.961 at location [88.51, 56.87, 119.95, 115.97]\n",
            "Detected traffic light with confidence 0.906 at location [91.71, 57.03, 123.94, 116.76]\n",
            "Detected car with confidence 0.958 at location [98.36, 297.1, 405.77, 446.82]\n",
            "Detected traffic light with confidence 0.957 at location [1041.05, 79.74, 1066.41, 130.77]\n",
            "Detected traffic light with confidence 0.958 at location [720.93, 127.42, 736.42, 168.87]\n",
            "Detected traffic light with confidence 0.92 at location [1033.43, 79.2, 1057.94, 122.84]\n",
            "Detected traffic light with confidence 0.908 at location [608.16, 147.46, 627.7, 182.15]\n",
            "Detected car with confidence 0.95 at location [0.23, 414.86, 1280.23, 709.14]\n",
            "Detected traffic light with confidence 0.947 at location [1190.43, 92.88, 1235.56, 199.87]\n",
            "Detected car with confidence 0.954 at location [776.89, 277.63, 836.72, 320.28]\n",
            "Detected car with confidence 0.905 at location [99.57, 294.91, 413.44, 450.37]\n",
            "Detected traffic light with confidence 0.989 at location [171.85, 5.87, 211.2, 72.16]\n",
            "Detected traffic light with confidence 0.99 at location [520.4, 141.12, 542.04, 177.0]\n",
            "Detected traffic light with confidence 0.907 at location [1079.63, 52.17, 1107.66, 100.74]\n",
            "Detected traffic light with confidence 0.942 at location [707.78, 112.81, 726.41, 161.3]\n"
          ]
        },
        {
          "output_type": "stream",
          "name": "stderr",
          "text": [
            "<ipython-input-27-e399afaa81b4>:51: DeprecationWarning: textsize is deprecated and will be removed in Pillow 10 (2023-07-01). Use textbbox or textlength instead.\n",
            "  text_width, text_height = draw.textsize(model.config.id2label[label.item()], font=font)\n",
            "<ipython-input-27-e399afaa81b4>:51: DeprecationWarning: textsize is deprecated and will be removed in Pillow 10 (2023-07-01). Use textbbox or textlength instead.\n",
            "  text_width, text_height = draw.textsize(model.config.id2label[label.item()], font=font)\n",
            "<ipython-input-27-e399afaa81b4>:51: DeprecationWarning: textsize is deprecated and will be removed in Pillow 10 (2023-07-01). Use textbbox or textlength instead.\n",
            "  text_width, text_height = draw.textsize(model.config.id2label[label.item()], font=font)\n",
            "<ipython-input-27-e399afaa81b4>:51: DeprecationWarning: textsize is deprecated and will be removed in Pillow 10 (2023-07-01). Use textbbox or textlength instead.\n",
            "  text_width, text_height = draw.textsize(model.config.id2label[label.item()], font=font)\n",
            "<ipython-input-27-e399afaa81b4>:51: DeprecationWarning: textsize is deprecated and will be removed in Pillow 10 (2023-07-01). Use textbbox or textlength instead.\n",
            "  text_width, text_height = draw.textsize(model.config.id2label[label.item()], font=font)\n",
            "<ipython-input-27-e399afaa81b4>:51: DeprecationWarning: textsize is deprecated and will be removed in Pillow 10 (2023-07-01). Use textbbox or textlength instead.\n",
            "  text_width, text_height = draw.textsize(model.config.id2label[label.item()], font=font)\n",
            "<ipython-input-27-e399afaa81b4>:51: DeprecationWarning: textsize is deprecated and will be removed in Pillow 10 (2023-07-01). Use textbbox or textlength instead.\n",
            "  text_width, text_height = draw.textsize(model.config.id2label[label.item()], font=font)\n",
            "<ipython-input-27-e399afaa81b4>:51: DeprecationWarning: textsize is deprecated and will be removed in Pillow 10 (2023-07-01). Use textbbox or textlength instead.\n",
            "  text_width, text_height = draw.textsize(model.config.id2label[label.item()], font=font)\n",
            "<ipython-input-27-e399afaa81b4>:51: DeprecationWarning: textsize is deprecated and will be removed in Pillow 10 (2023-07-01). Use textbbox or textlength instead.\n",
            "  text_width, text_height = draw.textsize(model.config.id2label[label.item()], font=font)\n",
            "<ipython-input-27-e399afaa81b4>:51: DeprecationWarning: textsize is deprecated and will be removed in Pillow 10 (2023-07-01). Use textbbox or textlength instead.\n",
            "  text_width, text_height = draw.textsize(model.config.id2label[label.item()], font=font)\n",
            "<ipython-input-27-e399afaa81b4>:51: DeprecationWarning: textsize is deprecated and will be removed in Pillow 10 (2023-07-01). Use textbbox or textlength instead.\n",
            "  text_width, text_height = draw.textsize(model.config.id2label[label.item()], font=font)\n",
            "<ipython-input-27-e399afaa81b4>:51: DeprecationWarning: textsize is deprecated and will be removed in Pillow 10 (2023-07-01). Use textbbox or textlength instead.\n",
            "  text_width, text_height = draw.textsize(model.config.id2label[label.item()], font=font)\n",
            "<ipython-input-27-e399afaa81b4>:51: DeprecationWarning: textsize is deprecated and will be removed in Pillow 10 (2023-07-01). Use textbbox or textlength instead.\n",
            "  text_width, text_height = draw.textsize(model.config.id2label[label.item()], font=font)\n",
            "<ipython-input-27-e399afaa81b4>:51: DeprecationWarning: textsize is deprecated and will be removed in Pillow 10 (2023-07-01). Use textbbox or textlength instead.\n",
            "  text_width, text_height = draw.textsize(model.config.id2label[label.item()], font=font)\n",
            "<ipython-input-27-e399afaa81b4>:51: DeprecationWarning: textsize is deprecated and will be removed in Pillow 10 (2023-07-01). Use textbbox or textlength instead.\n",
            "  text_width, text_height = draw.textsize(model.config.id2label[label.item()], font=font)\n",
            "<ipython-input-27-e399afaa81b4>:51: DeprecationWarning: textsize is deprecated and will be removed in Pillow 10 (2023-07-01). Use textbbox or textlength instead.\n",
            "  text_width, text_height = draw.textsize(model.config.id2label[label.item()], font=font)\n",
            "<ipython-input-27-e399afaa81b4>:51: DeprecationWarning: textsize is deprecated and will be removed in Pillow 10 (2023-07-01). Use textbbox or textlength instead.\n",
            "  text_width, text_height = draw.textsize(model.config.id2label[label.item()], font=font)\n",
            "<ipython-input-27-e399afaa81b4>:51: DeprecationWarning: textsize is deprecated and will be removed in Pillow 10 (2023-07-01). Use textbbox or textlength instead.\n",
            "  text_width, text_height = draw.textsize(model.config.id2label[label.item()], font=font)\n"
          ]
        },
        {
          "output_type": "stream",
          "name": "stdout",
          "text": [
            "Detected traffic light with confidence 0.952 at location [17.57, 185.5, 37.54, 234.45]\n",
            "Detected traffic light with confidence 0.944 at location [607.05, 147.23, 626.38, 181.93]\n",
            "Detected traffic light with confidence 0.984 at location [91.4, 58.01, 123.1, 114.37]\n",
            "Detected traffic light with confidence 0.959 at location [1039.99, 79.48, 1065.35, 130.37]\n",
            "Detected traffic light with confidence 0.948 at location [720.68, 127.5, 736.18, 169.39]\n",
            "Detected car with confidence 0.978 at location [428.66, 283.47, 536.11, 341.21]\n",
            "Detected traffic light with confidence 0.903 at location [1032.4, 79.04, 1056.56, 122.49]\n",
            "Detected car with confidence 0.996 at location [208.94, 287.52, 396.8, 358.56]\n",
            "Detected car with confidence 0.924 at location [1044.53, 298.34, 1074.13, 321.39]\n",
            "Detected car with confidence 0.926 at location [0.22, 446.49, 1280.22, 710.34]\n",
            "Detected traffic light with confidence 0.935 at location [1190.95, 92.9, 1235.04, 198.43]\n",
            "Detected car with confidence 0.915 at location [542.82, 277.61, 582.94, 303.82]\n",
            "Detected car with confidence 0.943 at location [777.31, 278.34, 836.48, 320.91]\n",
            "Detected traffic light with confidence 0.991 at location [174.28, 5.79, 212.48, 72.28]\n",
            "Detected traffic light with confidence 0.994 at location [520.12, 141.16, 541.92, 176.67]\n",
            "Detected traffic light with confidence 0.902 at location [1079.25, 51.8, 1107.47, 101.21]\n",
            "Detected traffic light with confidence 0.93 at location [707.53, 113.04, 726.1, 162.15]\n",
            "Detected car with confidence 0.985 at location [558.18, 279.14, 595.68, 303.95]\n"
          ]
        },
        {
          "output_type": "stream",
          "name": "stderr",
          "text": [
            "<ipython-input-27-e399afaa81b4>:51: DeprecationWarning: textsize is deprecated and will be removed in Pillow 10 (2023-07-01). Use textbbox or textlength instead.\n",
            "  text_width, text_height = draw.textsize(model.config.id2label[label.item()], font=font)\n",
            "<ipython-input-27-e399afaa81b4>:51: DeprecationWarning: textsize is deprecated and will be removed in Pillow 10 (2023-07-01). Use textbbox or textlength instead.\n",
            "  text_width, text_height = draw.textsize(model.config.id2label[label.item()], font=font)\n",
            "<ipython-input-27-e399afaa81b4>:51: DeprecationWarning: textsize is deprecated and will be removed in Pillow 10 (2023-07-01). Use textbbox or textlength instead.\n",
            "  text_width, text_height = draw.textsize(model.config.id2label[label.item()], font=font)\n",
            "<ipython-input-27-e399afaa81b4>:51: DeprecationWarning: textsize is deprecated and will be removed in Pillow 10 (2023-07-01). Use textbbox or textlength instead.\n",
            "  text_width, text_height = draw.textsize(model.config.id2label[label.item()], font=font)\n",
            "<ipython-input-27-e399afaa81b4>:51: DeprecationWarning: textsize is deprecated and will be removed in Pillow 10 (2023-07-01). Use textbbox or textlength instead.\n",
            "  text_width, text_height = draw.textsize(model.config.id2label[label.item()], font=font)\n",
            "<ipython-input-27-e399afaa81b4>:51: DeprecationWarning: textsize is deprecated and will be removed in Pillow 10 (2023-07-01). Use textbbox or textlength instead.\n",
            "  text_width, text_height = draw.textsize(model.config.id2label[label.item()], font=font)\n",
            "<ipython-input-27-e399afaa81b4>:51: DeprecationWarning: textsize is deprecated and will be removed in Pillow 10 (2023-07-01). Use textbbox or textlength instead.\n",
            "  text_width, text_height = draw.textsize(model.config.id2label[label.item()], font=font)\n",
            "<ipython-input-27-e399afaa81b4>:51: DeprecationWarning: textsize is deprecated and will be removed in Pillow 10 (2023-07-01). Use textbbox or textlength instead.\n",
            "  text_width, text_height = draw.textsize(model.config.id2label[label.item()], font=font)\n",
            "<ipython-input-27-e399afaa81b4>:51: DeprecationWarning: textsize is deprecated and will be removed in Pillow 10 (2023-07-01). Use textbbox or textlength instead.\n",
            "  text_width, text_height = draw.textsize(model.config.id2label[label.item()], font=font)\n",
            "<ipython-input-27-e399afaa81b4>:51: DeprecationWarning: textsize is deprecated and will be removed in Pillow 10 (2023-07-01). Use textbbox or textlength instead.\n",
            "  text_width, text_height = draw.textsize(model.config.id2label[label.item()], font=font)\n",
            "<ipython-input-27-e399afaa81b4>:51: DeprecationWarning: textsize is deprecated and will be removed in Pillow 10 (2023-07-01). Use textbbox or textlength instead.\n",
            "  text_width, text_height = draw.textsize(model.config.id2label[label.item()], font=font)\n",
            "<ipython-input-27-e399afaa81b4>:51: DeprecationWarning: textsize is deprecated and will be removed in Pillow 10 (2023-07-01). Use textbbox or textlength instead.\n",
            "  text_width, text_height = draw.textsize(model.config.id2label[label.item()], font=font)\n",
            "<ipython-input-27-e399afaa81b4>:51: DeprecationWarning: textsize is deprecated and will be removed in Pillow 10 (2023-07-01). Use textbbox or textlength instead.\n",
            "  text_width, text_height = draw.textsize(model.config.id2label[label.item()], font=font)\n",
            "<ipython-input-27-e399afaa81b4>:51: DeprecationWarning: textsize is deprecated and will be removed in Pillow 10 (2023-07-01). Use textbbox or textlength instead.\n",
            "  text_width, text_height = draw.textsize(model.config.id2label[label.item()], font=font)\n",
            "<ipython-input-27-e399afaa81b4>:51: DeprecationWarning: textsize is deprecated and will be removed in Pillow 10 (2023-07-01). Use textbbox or textlength instead.\n",
            "  text_width, text_height = draw.textsize(model.config.id2label[label.item()], font=font)\n",
            "<ipython-input-27-e399afaa81b4>:51: DeprecationWarning: textsize is deprecated and will be removed in Pillow 10 (2023-07-01). Use textbbox or textlength instead.\n",
            "  text_width, text_height = draw.textsize(model.config.id2label[label.item()], font=font)\n",
            "<ipython-input-27-e399afaa81b4>:51: DeprecationWarning: textsize is deprecated and will be removed in Pillow 10 (2023-07-01). Use textbbox or textlength instead.\n",
            "  text_width, text_height = draw.textsize(model.config.id2label[label.item()], font=font)\n",
            "<ipython-input-27-e399afaa81b4>:51: DeprecationWarning: textsize is deprecated and will be removed in Pillow 10 (2023-07-01). Use textbbox or textlength instead.\n",
            "  text_width, text_height = draw.textsize(model.config.id2label[label.item()], font=font)\n"
          ]
        },
        {
          "output_type": "stream",
          "name": "stdout",
          "text": [
            "Detected traffic light with confidence 0.953 at location [17.24, 186.05, 37.7, 234.27]\n",
            "Detected traffic light with confidence 0.901 at location [604.69, 147.41, 624.16, 181.34]\n",
            "Detected car with confidence 0.946 at location [565.26, 280.38, 638.09, 320.11]\n",
            "Detected traffic light with confidence 0.925 at location [907.14, 258.68, 925.53, 280.13]\n",
            "Detected traffic light with confidence 0.901 at location [1068.72, 24.99, 1103.32, 92.9]\n",
            "Detected traffic light with confidence 0.978 at location [89.15, 59.04, 120.86, 114.78]\n",
            "Detected traffic light with confidence 0.955 at location [1039.99, 79.78, 1065.79, 129.36]\n",
            "Detected traffic light with confidence 0.962 at location [721.27, 128.35, 737.15, 169.3]\n",
            "Detected traffic light with confidence 0.906 at location [1032.46, 79.32, 1057.03, 122.19]\n",
            "Detected car with confidence 0.987 at location [136.21, 286.87, 334.21, 348.1]\n",
            "Detected car with confidence 0.976 at location [1053.62, 300.37, 1092.02, 323.32]\n",
            "Detected traffic light with confidence 0.94 at location [606.88, 147.8, 627.88, 181.26]\n",
            "Detected traffic light with confidence 0.932 at location [1193.58, 93.3, 1236.98, 196.82]\n",
            "Detected car with confidence 0.954 at location [775.79, 278.56, 838.09, 321.11]\n",
            "Detected car with confidence 0.903 at location [121.24, 288.39, 310.12, 351.54]\n",
            "Detected traffic light with confidence 0.99 at location [173.14, 6.24, 211.72, 71.74]\n",
            "Detected traffic light with confidence 0.987 at location [517.95, 141.46, 539.33, 176.71]\n",
            "Detected traffic light with confidence 0.903 at location [1079.08, 51.48, 1107.66, 100.06]\n",
            "Detected traffic light with confidence 0.95 at location [709.71, 114.37, 728.86, 162.38]\n"
          ]
        },
        {
          "output_type": "stream",
          "name": "stderr",
          "text": [
            "<ipython-input-27-e399afaa81b4>:51: DeprecationWarning: textsize is deprecated and will be removed in Pillow 10 (2023-07-01). Use textbbox or textlength instead.\n",
            "  text_width, text_height = draw.textsize(model.config.id2label[label.item()], font=font)\n",
            "<ipython-input-27-e399afaa81b4>:51: DeprecationWarning: textsize is deprecated and will be removed in Pillow 10 (2023-07-01). Use textbbox or textlength instead.\n",
            "  text_width, text_height = draw.textsize(model.config.id2label[label.item()], font=font)\n",
            "<ipython-input-27-e399afaa81b4>:51: DeprecationWarning: textsize is deprecated and will be removed in Pillow 10 (2023-07-01). Use textbbox or textlength instead.\n",
            "  text_width, text_height = draw.textsize(model.config.id2label[label.item()], font=font)\n",
            "<ipython-input-27-e399afaa81b4>:51: DeprecationWarning: textsize is deprecated and will be removed in Pillow 10 (2023-07-01). Use textbbox or textlength instead.\n",
            "  text_width, text_height = draw.textsize(model.config.id2label[label.item()], font=font)\n",
            "<ipython-input-27-e399afaa81b4>:51: DeprecationWarning: textsize is deprecated and will be removed in Pillow 10 (2023-07-01). Use textbbox or textlength instead.\n",
            "  text_width, text_height = draw.textsize(model.config.id2label[label.item()], font=font)\n",
            "<ipython-input-27-e399afaa81b4>:51: DeprecationWarning: textsize is deprecated and will be removed in Pillow 10 (2023-07-01). Use textbbox or textlength instead.\n",
            "  text_width, text_height = draw.textsize(model.config.id2label[label.item()], font=font)\n",
            "<ipython-input-27-e399afaa81b4>:51: DeprecationWarning: textsize is deprecated and will be removed in Pillow 10 (2023-07-01). Use textbbox or textlength instead.\n",
            "  text_width, text_height = draw.textsize(model.config.id2label[label.item()], font=font)\n",
            "<ipython-input-27-e399afaa81b4>:51: DeprecationWarning: textsize is deprecated and will be removed in Pillow 10 (2023-07-01). Use textbbox or textlength instead.\n",
            "  text_width, text_height = draw.textsize(model.config.id2label[label.item()], font=font)\n",
            "<ipython-input-27-e399afaa81b4>:51: DeprecationWarning: textsize is deprecated and will be removed in Pillow 10 (2023-07-01). Use textbbox or textlength instead.\n",
            "  text_width, text_height = draw.textsize(model.config.id2label[label.item()], font=font)\n",
            "<ipython-input-27-e399afaa81b4>:51: DeprecationWarning: textsize is deprecated and will be removed in Pillow 10 (2023-07-01). Use textbbox or textlength instead.\n",
            "  text_width, text_height = draw.textsize(model.config.id2label[label.item()], font=font)\n",
            "<ipython-input-27-e399afaa81b4>:51: DeprecationWarning: textsize is deprecated and will be removed in Pillow 10 (2023-07-01). Use textbbox or textlength instead.\n",
            "  text_width, text_height = draw.textsize(model.config.id2label[label.item()], font=font)\n",
            "<ipython-input-27-e399afaa81b4>:51: DeprecationWarning: textsize is deprecated and will be removed in Pillow 10 (2023-07-01). Use textbbox or textlength instead.\n",
            "  text_width, text_height = draw.textsize(model.config.id2label[label.item()], font=font)\n",
            "<ipython-input-27-e399afaa81b4>:51: DeprecationWarning: textsize is deprecated and will be removed in Pillow 10 (2023-07-01). Use textbbox or textlength instead.\n",
            "  text_width, text_height = draw.textsize(model.config.id2label[label.item()], font=font)\n",
            "<ipython-input-27-e399afaa81b4>:51: DeprecationWarning: textsize is deprecated and will be removed in Pillow 10 (2023-07-01). Use textbbox or textlength instead.\n",
            "  text_width, text_height = draw.textsize(model.config.id2label[label.item()], font=font)\n",
            "<ipython-input-27-e399afaa81b4>:51: DeprecationWarning: textsize is deprecated and will be removed in Pillow 10 (2023-07-01). Use textbbox or textlength instead.\n",
            "  text_width, text_height = draw.textsize(model.config.id2label[label.item()], font=font)\n",
            "<ipython-input-27-e399afaa81b4>:51: DeprecationWarning: textsize is deprecated and will be removed in Pillow 10 (2023-07-01). Use textbbox or textlength instead.\n",
            "  text_width, text_height = draw.textsize(model.config.id2label[label.item()], font=font)\n",
            "<ipython-input-27-e399afaa81b4>:51: DeprecationWarning: textsize is deprecated and will be removed in Pillow 10 (2023-07-01). Use textbbox or textlength instead.\n",
            "  text_width, text_height = draw.textsize(model.config.id2label[label.item()], font=font)\n",
            "<ipython-input-27-e399afaa81b4>:51: DeprecationWarning: textsize is deprecated and will be removed in Pillow 10 (2023-07-01). Use textbbox or textlength instead.\n",
            "  text_width, text_height = draw.textsize(model.config.id2label[label.item()], font=font)\n",
            "<ipython-input-27-e399afaa81b4>:51: DeprecationWarning: textsize is deprecated and will be removed in Pillow 10 (2023-07-01). Use textbbox or textlength instead.\n",
            "  text_width, text_height = draw.textsize(model.config.id2label[label.item()], font=font)\n"
          ]
        },
        {
          "output_type": "stream",
          "name": "stdout",
          "text": [
            "Detected traffic light with confidence 0.96 at location [18.02, 184.94, 37.71, 233.82]\n",
            "Detected traffic light with confidence 0.908 at location [908.35, 258.13, 926.37, 279.95]\n",
            "Detected traffic light with confidence 0.986 at location [90.12, 57.9, 121.55, 114.51]\n",
            "Detected traffic light with confidence 0.955 at location [1040.37, 79.37, 1065.7, 130.15]\n",
            "Detected traffic light with confidence 0.957 at location [720.38, 126.97, 736.05, 168.65]\n",
            "Detected car with confidence 0.977 at location [486.05, 273.83, 559.24, 307.24]\n",
            "Detected car with confidence 0.902 at location [209.9, 281.79, 423.69, 376.53]\n",
            "Detected traffic light with confidence 0.908 at location [1032.68, 78.92, 1057.09, 122.53]\n",
            "Detected car with confidence 0.993 at location [202.52, 284.82, 429.8, 381.42]\n",
            "Detected car with confidence 0.946 at location [1030.37, 296.95, 1059.64, 317.35]\n",
            "Detected traffic light with confidence 0.928 at location [608.72, 147.27, 628.59, 181.81]\n",
            "Detected car with confidence 0.931 at location [0.25, 432.44, 1280.25, 709.75]\n",
            "Detected traffic light with confidence 0.942 at location [1192.12, 92.32, 1236.04, 198.01]\n",
            "Detected car with confidence 0.944 at location [775.24, 277.73, 838.18, 320.82]\n",
            "Detected traffic light with confidence 0.99 at location [173.39, 5.93, 211.54, 71.82]\n",
            "Detected traffic light with confidence 0.991 at location [520.06, 141.09, 541.25, 176.9]\n",
            "Detected traffic light with confidence 0.907 at location [1079.23, 52.01, 1107.29, 100.65]\n",
            "Detected traffic light with confidence 0.937 at location [707.1, 112.0, 725.91, 160.69]\n"
          ]
        },
        {
          "output_type": "stream",
          "name": "stderr",
          "text": [
            "<ipython-input-27-e399afaa81b4>:51: DeprecationWarning: textsize is deprecated and will be removed in Pillow 10 (2023-07-01). Use textbbox or textlength instead.\n",
            "  text_width, text_height = draw.textsize(model.config.id2label[label.item()], font=font)\n",
            "<ipython-input-27-e399afaa81b4>:51: DeprecationWarning: textsize is deprecated and will be removed in Pillow 10 (2023-07-01). Use textbbox or textlength instead.\n",
            "  text_width, text_height = draw.textsize(model.config.id2label[label.item()], font=font)\n",
            "<ipython-input-27-e399afaa81b4>:51: DeprecationWarning: textsize is deprecated and will be removed in Pillow 10 (2023-07-01). Use textbbox or textlength instead.\n",
            "  text_width, text_height = draw.textsize(model.config.id2label[label.item()], font=font)\n",
            "<ipython-input-27-e399afaa81b4>:51: DeprecationWarning: textsize is deprecated and will be removed in Pillow 10 (2023-07-01). Use textbbox or textlength instead.\n",
            "  text_width, text_height = draw.textsize(model.config.id2label[label.item()], font=font)\n",
            "<ipython-input-27-e399afaa81b4>:51: DeprecationWarning: textsize is deprecated and will be removed in Pillow 10 (2023-07-01). Use textbbox or textlength instead.\n",
            "  text_width, text_height = draw.textsize(model.config.id2label[label.item()], font=font)\n",
            "<ipython-input-27-e399afaa81b4>:51: DeprecationWarning: textsize is deprecated and will be removed in Pillow 10 (2023-07-01). Use textbbox or textlength instead.\n",
            "  text_width, text_height = draw.textsize(model.config.id2label[label.item()], font=font)\n",
            "<ipython-input-27-e399afaa81b4>:51: DeprecationWarning: textsize is deprecated and will be removed in Pillow 10 (2023-07-01). Use textbbox or textlength instead.\n",
            "  text_width, text_height = draw.textsize(model.config.id2label[label.item()], font=font)\n",
            "<ipython-input-27-e399afaa81b4>:51: DeprecationWarning: textsize is deprecated and will be removed in Pillow 10 (2023-07-01). Use textbbox or textlength instead.\n",
            "  text_width, text_height = draw.textsize(model.config.id2label[label.item()], font=font)\n",
            "<ipython-input-27-e399afaa81b4>:51: DeprecationWarning: textsize is deprecated and will be removed in Pillow 10 (2023-07-01). Use textbbox or textlength instead.\n",
            "  text_width, text_height = draw.textsize(model.config.id2label[label.item()], font=font)\n",
            "<ipython-input-27-e399afaa81b4>:51: DeprecationWarning: textsize is deprecated and will be removed in Pillow 10 (2023-07-01). Use textbbox or textlength instead.\n",
            "  text_width, text_height = draw.textsize(model.config.id2label[label.item()], font=font)\n",
            "<ipython-input-27-e399afaa81b4>:51: DeprecationWarning: textsize is deprecated and will be removed in Pillow 10 (2023-07-01). Use textbbox or textlength instead.\n",
            "  text_width, text_height = draw.textsize(model.config.id2label[label.item()], font=font)\n",
            "<ipython-input-27-e399afaa81b4>:51: DeprecationWarning: textsize is deprecated and will be removed in Pillow 10 (2023-07-01). Use textbbox or textlength instead.\n",
            "  text_width, text_height = draw.textsize(model.config.id2label[label.item()], font=font)\n",
            "<ipython-input-27-e399afaa81b4>:51: DeprecationWarning: textsize is deprecated and will be removed in Pillow 10 (2023-07-01). Use textbbox or textlength instead.\n",
            "  text_width, text_height = draw.textsize(model.config.id2label[label.item()], font=font)\n",
            "<ipython-input-27-e399afaa81b4>:51: DeprecationWarning: textsize is deprecated and will be removed in Pillow 10 (2023-07-01). Use textbbox or textlength instead.\n",
            "  text_width, text_height = draw.textsize(model.config.id2label[label.item()], font=font)\n",
            "<ipython-input-27-e399afaa81b4>:51: DeprecationWarning: textsize is deprecated and will be removed in Pillow 10 (2023-07-01). Use textbbox or textlength instead.\n",
            "  text_width, text_height = draw.textsize(model.config.id2label[label.item()], font=font)\n",
            "<ipython-input-27-e399afaa81b4>:51: DeprecationWarning: textsize is deprecated and will be removed in Pillow 10 (2023-07-01). Use textbbox or textlength instead.\n",
            "  text_width, text_height = draw.textsize(model.config.id2label[label.item()], font=font)\n",
            "<ipython-input-27-e399afaa81b4>:51: DeprecationWarning: textsize is deprecated and will be removed in Pillow 10 (2023-07-01). Use textbbox or textlength instead.\n",
            "  text_width, text_height = draw.textsize(model.config.id2label[label.item()], font=font)\n",
            "<ipython-input-27-e399afaa81b4>:51: DeprecationWarning: textsize is deprecated and will be removed in Pillow 10 (2023-07-01). Use textbbox or textlength instead.\n",
            "  text_width, text_height = draw.textsize(model.config.id2label[label.item()], font=font)\n"
          ]
        },
        {
          "output_type": "stream",
          "name": "stdout",
          "text": [
            "[{'frame48': {'traffic light': 14, 'car': 4}}, {'frame24': {'traffic light': 11, 'car': 7}}, {'frame12': {'traffic light': 14, 'car': 5}}, {'frame36': {'traffic light': 12, 'car': 6}}]\n",
            ".DS_Store\n",
            "CLIP_324\n",
            "[{'frame60': {}}, {'frame45': {}}, {'frame30': {}}, {'frame15': {}}]\n",
            "CLIP_165\n",
            "Detected car with confidence 0.921 at location [0.2, 279.46, 177.46, 480.59]\n",
            "Detected car with confidence 0.989 at location [272.59, 343.17, 337.32, 386.42]\n",
            "Detected car with confidence 0.995 at location [0.66, 277.82, 172.29, 480.89]\n",
            "Detected car with confidence 0.998 at location [314.51, 321.46, 665.59, 547.49]\n",
            "Detected car with confidence 0.962 at location [557.15, 342.2, 641.6, 391.2]\n",
            "Detected car with confidence 0.984 at location [653.66, 355.08, 811.31, 410.67]\n",
            "Detected car with confidence 0.929 at location [0.1, 4.04, 1280.04, 712.93]\n",
            "Detected car with confidence 0.962 at location [645.74, 356.77, 761.83, 404.93]\n",
            "Detected car with confidence 0.911 at location [775.02, 368.04, 854.15, 416.17]\n"
          ]
        },
        {
          "output_type": "stream",
          "name": "stderr",
          "text": [
            "<ipython-input-27-e399afaa81b4>:51: DeprecationWarning: textsize is deprecated and will be removed in Pillow 10 (2023-07-01). Use textbbox or textlength instead.\n",
            "  text_width, text_height = draw.textsize(model.config.id2label[label.item()], font=font)\n",
            "<ipython-input-27-e399afaa81b4>:51: DeprecationWarning: textsize is deprecated and will be removed in Pillow 10 (2023-07-01). Use textbbox or textlength instead.\n",
            "  text_width, text_height = draw.textsize(model.config.id2label[label.item()], font=font)\n",
            "<ipython-input-27-e399afaa81b4>:51: DeprecationWarning: textsize is deprecated and will be removed in Pillow 10 (2023-07-01). Use textbbox or textlength instead.\n",
            "  text_width, text_height = draw.textsize(model.config.id2label[label.item()], font=font)\n",
            "<ipython-input-27-e399afaa81b4>:51: DeprecationWarning: textsize is deprecated and will be removed in Pillow 10 (2023-07-01). Use textbbox or textlength instead.\n",
            "  text_width, text_height = draw.textsize(model.config.id2label[label.item()], font=font)\n",
            "<ipython-input-27-e399afaa81b4>:51: DeprecationWarning: textsize is deprecated and will be removed in Pillow 10 (2023-07-01). Use textbbox or textlength instead.\n",
            "  text_width, text_height = draw.textsize(model.config.id2label[label.item()], font=font)\n",
            "<ipython-input-27-e399afaa81b4>:51: DeprecationWarning: textsize is deprecated and will be removed in Pillow 10 (2023-07-01). Use textbbox or textlength instead.\n",
            "  text_width, text_height = draw.textsize(model.config.id2label[label.item()], font=font)\n",
            "<ipython-input-27-e399afaa81b4>:51: DeprecationWarning: textsize is deprecated and will be removed in Pillow 10 (2023-07-01). Use textbbox or textlength instead.\n",
            "  text_width, text_height = draw.textsize(model.config.id2label[label.item()], font=font)\n",
            "<ipython-input-27-e399afaa81b4>:51: DeprecationWarning: textsize is deprecated and will be removed in Pillow 10 (2023-07-01). Use textbbox or textlength instead.\n",
            "  text_width, text_height = draw.textsize(model.config.id2label[label.item()], font=font)\n",
            "<ipython-input-27-e399afaa81b4>:51: DeprecationWarning: textsize is deprecated and will be removed in Pillow 10 (2023-07-01). Use textbbox or textlength instead.\n",
            "  text_width, text_height = draw.textsize(model.config.id2label[label.item()], font=font)\n"
          ]
        },
        {
          "output_type": "stream",
          "name": "stdout",
          "text": [
            "Detected car with confidence 0.914 at location [182.26, 3.49, 1273.89, 680.02]\n",
            "Detected car with confidence 0.994 at location [69.7, 314.31, 261.87, 462.24]\n",
            "Detected car with confidence 0.956 at location [197.36, 319.2, 699.95, 567.38]\n"
          ]
        },
        {
          "output_type": "stream",
          "name": "stderr",
          "text": [
            "<ipython-input-27-e399afaa81b4>:51: DeprecationWarning: textsize is deprecated and will be removed in Pillow 10 (2023-07-01). Use textbbox or textlength instead.\n",
            "  text_width, text_height = draw.textsize(model.config.id2label[label.item()], font=font)\n",
            "<ipython-input-27-e399afaa81b4>:51: DeprecationWarning: textsize is deprecated and will be removed in Pillow 10 (2023-07-01). Use textbbox or textlength instead.\n",
            "  text_width, text_height = draw.textsize(model.config.id2label[label.item()], font=font)\n",
            "<ipython-input-27-e399afaa81b4>:51: DeprecationWarning: textsize is deprecated and will be removed in Pillow 10 (2023-07-01). Use textbbox or textlength instead.\n",
            "  text_width, text_height = draw.textsize(model.config.id2label[label.item()], font=font)\n"
          ]
        },
        {
          "output_type": "stream",
          "name": "stdout",
          "text": [
            "[{'frame29': {'car': 9}}, {'frame58': {'car': 3}}]\n",
            "CLIP_84\n",
            "Detected car with confidence 0.981 at location [986.62, 225.56, 1248.67, 412.8]\n",
            "Detected car with confidence 0.937 at location [789.24, 274.11, 818.14, 301.35]\n",
            "Detected car with confidence 0.941 at location [848.73, 286.59, 920.47, 331.52]\n",
            "Detected car with confidence 0.989 at location [934.23, 277.2, 1009.5, 352.04]\n"
          ]
        },
        {
          "output_type": "stream",
          "name": "stderr",
          "text": [
            "<ipython-input-27-e399afaa81b4>:51: DeprecationWarning: textsize is deprecated and will be removed in Pillow 10 (2023-07-01). Use textbbox or textlength instead.\n",
            "  text_width, text_height = draw.textsize(model.config.id2label[label.item()], font=font)\n",
            "<ipython-input-27-e399afaa81b4>:51: DeprecationWarning: textsize is deprecated and will be removed in Pillow 10 (2023-07-01). Use textbbox or textlength instead.\n",
            "  text_width, text_height = draw.textsize(model.config.id2label[label.item()], font=font)\n",
            "<ipython-input-27-e399afaa81b4>:51: DeprecationWarning: textsize is deprecated and will be removed in Pillow 10 (2023-07-01). Use textbbox or textlength instead.\n",
            "  text_width, text_height = draw.textsize(model.config.id2label[label.item()], font=font)\n",
            "<ipython-input-27-e399afaa81b4>:51: DeprecationWarning: textsize is deprecated and will be removed in Pillow 10 (2023-07-01). Use textbbox or textlength instead.\n",
            "  text_width, text_height = draw.textsize(model.config.id2label[label.item()], font=font)\n"
          ]
        },
        {
          "output_type": "stream",
          "name": "stdout",
          "text": [
            "Detected car with confidence 0.954 at location [921.68, 268.62, 1035.04, 359.31]\n",
            "Detected car with confidence 0.973 at location [812.88, 273.1, 898.3, 331.44]\n"
          ]
        },
        {
          "output_type": "stream",
          "name": "stderr",
          "text": [
            "<ipython-input-27-e399afaa81b4>:51: DeprecationWarning: textsize is deprecated and will be removed in Pillow 10 (2023-07-01). Use textbbox or textlength instead.\n",
            "  text_width, text_height = draw.textsize(model.config.id2label[label.item()], font=font)\n",
            "<ipython-input-27-e399afaa81b4>:51: DeprecationWarning: textsize is deprecated and will be removed in Pillow 10 (2023-07-01). Use textbbox or textlength instead.\n",
            "  text_width, text_height = draw.textsize(model.config.id2label[label.item()], font=font)\n"
          ]
        },
        {
          "output_type": "stream",
          "name": "stdout",
          "text": [
            "Detected car with confidence 0.996 at location [919.83, 266.72, 1098.74, 385.31]\n",
            "Detected car with confidence 0.989 at location [783.81, 270.79, 889.72, 338.94]\n",
            "Detected person with confidence 0.927 at location [1196.02, 313.15, 1245.19, 402.78]\n",
            "Detected person with confidence 0.952 at location [1147.56, 292.26, 1202.01, 408.27]\n"
          ]
        },
        {
          "output_type": "stream",
          "name": "stderr",
          "text": [
            "<ipython-input-27-e399afaa81b4>:51: DeprecationWarning: textsize is deprecated and will be removed in Pillow 10 (2023-07-01). Use textbbox or textlength instead.\n",
            "  text_width, text_height = draw.textsize(model.config.id2label[label.item()], font=font)\n",
            "<ipython-input-27-e399afaa81b4>:51: DeprecationWarning: textsize is deprecated and will be removed in Pillow 10 (2023-07-01). Use textbbox or textlength instead.\n",
            "  text_width, text_height = draw.textsize(model.config.id2label[label.item()], font=font)\n",
            "<ipython-input-27-e399afaa81b4>:51: DeprecationWarning: textsize is deprecated and will be removed in Pillow 10 (2023-07-01). Use textbbox or textlength instead.\n",
            "  text_width, text_height = draw.textsize(model.config.id2label[label.item()], font=font)\n",
            "<ipython-input-27-e399afaa81b4>:51: DeprecationWarning: textsize is deprecated and will be removed in Pillow 10 (2023-07-01). Use textbbox or textlength instead.\n",
            "  text_width, text_height = draw.textsize(model.config.id2label[label.item()], font=font)\n"
          ]
        },
        {
          "output_type": "stream",
          "name": "stdout",
          "text": [
            "Detected car with confidence 0.998 at location [892.04, 256.73, 1163.34, 423.73]\n"
          ]
        },
        {
          "output_type": "stream",
          "name": "stderr",
          "text": [
            "<ipython-input-27-e399afaa81b4>:51: DeprecationWarning: textsize is deprecated and will be removed in Pillow 10 (2023-07-01). Use textbbox or textlength instead.\n",
            "  text_width, text_height = draw.textsize(model.config.id2label[label.item()], font=font)\n"
          ]
        },
        {
          "output_type": "stream",
          "name": "stdout",
          "text": [
            "[{'frame60': {'car': 4}}, {'frame45': {'car': 2}}, {'frame30': {'car': 2, 'person': 2}}, {'frame15': {'car': 1}}]\n",
            "CLIP_283\n",
            "Detected car with confidence 0.985 at location [481.13, 381.69, 525.02, 399.36]\n",
            "Detected truck with confidence 0.903 at location [546.28, 357.45, 720.66, 481.39]\n",
            "Detected traffic light with confidence 0.959 at location [456.26, 288.88, 480.4, 302.57]\n",
            "Detected traffic light with confidence 0.965 at location [645.92, 246.69, 671.73, 270.03]\n"
          ]
        },
        {
          "output_type": "stream",
          "name": "stderr",
          "text": [
            "<ipython-input-27-e399afaa81b4>:51: DeprecationWarning: textsize is deprecated and will be removed in Pillow 10 (2023-07-01). Use textbbox or textlength instead.\n",
            "  text_width, text_height = draw.textsize(model.config.id2label[label.item()], font=font)\n",
            "<ipython-input-27-e399afaa81b4>:51: DeprecationWarning: textsize is deprecated and will be removed in Pillow 10 (2023-07-01). Use textbbox or textlength instead.\n",
            "  text_width, text_height = draw.textsize(model.config.id2label[label.item()], font=font)\n",
            "<ipython-input-27-e399afaa81b4>:51: DeprecationWarning: textsize is deprecated and will be removed in Pillow 10 (2023-07-01). Use textbbox or textlength instead.\n",
            "  text_width, text_height = draw.textsize(model.config.id2label[label.item()], font=font)\n",
            "<ipython-input-27-e399afaa81b4>:51: DeprecationWarning: textsize is deprecated and will be removed in Pillow 10 (2023-07-01). Use textbbox or textlength instead.\n",
            "  text_width, text_height = draw.textsize(model.config.id2label[label.item()], font=font)\n"
          ]
        },
        {
          "output_type": "stream",
          "name": "stdout",
          "text": [
            "Detected car with confidence 0.959 at location [512.62, 381.42, 551.98, 402.25]\n",
            "Detected truck with confidence 0.955 at location [539.81, 354.65, 727.94, 488.47]\n",
            "Detected traffic light with confidence 0.938 at location [647.04, 258.1, 670.09, 278.85]\n",
            "Detected truck with confidence 0.907 at location [744.4, 364.5, 866.75, 468.49]\n"
          ]
        },
        {
          "output_type": "stream",
          "name": "stderr",
          "text": [
            "<ipython-input-27-e399afaa81b4>:51: DeprecationWarning: textsize is deprecated and will be removed in Pillow 10 (2023-07-01). Use textbbox or textlength instead.\n",
            "  text_width, text_height = draw.textsize(model.config.id2label[label.item()], font=font)\n",
            "<ipython-input-27-e399afaa81b4>:51: DeprecationWarning: textsize is deprecated and will be removed in Pillow 10 (2023-07-01). Use textbbox or textlength instead.\n",
            "  text_width, text_height = draw.textsize(model.config.id2label[label.item()], font=font)\n",
            "<ipython-input-27-e399afaa81b4>:51: DeprecationWarning: textsize is deprecated and will be removed in Pillow 10 (2023-07-01). Use textbbox or textlength instead.\n",
            "  text_width, text_height = draw.textsize(model.config.id2label[label.item()], font=font)\n",
            "<ipython-input-27-e399afaa81b4>:51: DeprecationWarning: textsize is deprecated and will be removed in Pillow 10 (2023-07-01). Use textbbox or textlength instead.\n",
            "  text_width, text_height = draw.textsize(model.config.id2label[label.item()], font=font)\n"
          ]
        },
        {
          "output_type": "stream",
          "name": "stdout",
          "text": [
            "Detected truck with confidence 0.971 at location [822.07, 301.07, 1175.79, 539.55]\n",
            "Detected car with confidence 0.963 at location [400.48, 373.66, 442.96, 393.56]\n",
            "Detected truck with confidence 0.979 at location [543.27, 343.88, 736.9, 492.44]\n",
            "Detected truck with confidence 0.907 at location [738.6, 361.18, 846.87, 462.19]\n"
          ]
        },
        {
          "output_type": "stream",
          "name": "stderr",
          "text": [
            "<ipython-input-27-e399afaa81b4>:51: DeprecationWarning: textsize is deprecated and will be removed in Pillow 10 (2023-07-01). Use textbbox or textlength instead.\n",
            "  text_width, text_height = draw.textsize(model.config.id2label[label.item()], font=font)\n",
            "<ipython-input-27-e399afaa81b4>:51: DeprecationWarning: textsize is deprecated and will be removed in Pillow 10 (2023-07-01). Use textbbox or textlength instead.\n",
            "  text_width, text_height = draw.textsize(model.config.id2label[label.item()], font=font)\n",
            "<ipython-input-27-e399afaa81b4>:51: DeprecationWarning: textsize is deprecated and will be removed in Pillow 10 (2023-07-01). Use textbbox or textlength instead.\n",
            "  text_width, text_height = draw.textsize(model.config.id2label[label.item()], font=font)\n",
            "<ipython-input-27-e399afaa81b4>:51: DeprecationWarning: textsize is deprecated and will be removed in Pillow 10 (2023-07-01). Use textbbox or textlength instead.\n",
            "  text_width, text_height = draw.textsize(model.config.id2label[label.item()], font=font)\n"
          ]
        },
        {
          "output_type": "stream",
          "name": "stdout",
          "text": [
            "Detected truck with confidence 0.98 at location [814.33, 321.05, 1089.52, 520.15]\n",
            "Detected truck with confidence 0.975 at location [534.14, 334.31, 752.48, 502.96]\n",
            "Detected car with confidence 0.97 at location [450.22, 374.74, 484.5, 391.97]\n"
          ]
        },
        {
          "output_type": "stream",
          "name": "stderr",
          "text": [
            "<ipython-input-27-e399afaa81b4>:51: DeprecationWarning: textsize is deprecated and will be removed in Pillow 10 (2023-07-01). Use textbbox or textlength instead.\n",
            "  text_width, text_height = draw.textsize(model.config.id2label[label.item()], font=font)\n",
            "<ipython-input-27-e399afaa81b4>:51: DeprecationWarning: textsize is deprecated and will be removed in Pillow 10 (2023-07-01). Use textbbox or textlength instead.\n",
            "  text_width, text_height = draw.textsize(model.config.id2label[label.item()], font=font)\n",
            "<ipython-input-27-e399afaa81b4>:51: DeprecationWarning: textsize is deprecated and will be removed in Pillow 10 (2023-07-01). Use textbbox or textlength instead.\n",
            "  text_width, text_height = draw.textsize(model.config.id2label[label.item()], font=font)\n"
          ]
        },
        {
          "output_type": "stream",
          "name": "stdout",
          "text": [
            "[{'frame60': {'car': 1, 'truck': 1, 'traffic light': 2}}, {'frame45': {'car': 1, 'truck': 2, 'traffic light': 1}}, {'frame30': {'truck': 3, 'car': 1}}, {'frame15': {'truck': 2, 'car': 1}}]\n",
            "CLIP_168\n",
            "Detected traffic light with confidence 0.902 at location [284.51, 379.85, 313.03, 406.72]\n",
            "Detected car with confidence 0.947 at location [667.94, 434.5, 787.94, 529.35]\n",
            "Detected traffic light with confidence 0.942 at location [1007.03, 284.79, 1036.65, 323.74]\n",
            "Detected traffic light with confidence 0.959 at location [985.3, 293.17, 1012.72, 332.0]\n",
            "Detected traffic light with confidence 0.996 at location [436.19, 241.75, 461.74, 290.93]\n"
          ]
        },
        {
          "output_type": "stream",
          "name": "stderr",
          "text": [
            "<ipython-input-27-e399afaa81b4>:51: DeprecationWarning: textsize is deprecated and will be removed in Pillow 10 (2023-07-01). Use textbbox or textlength instead.\n",
            "  text_width, text_height = draw.textsize(model.config.id2label[label.item()], font=font)\n",
            "<ipython-input-27-e399afaa81b4>:51: DeprecationWarning: textsize is deprecated and will be removed in Pillow 10 (2023-07-01). Use textbbox or textlength instead.\n",
            "  text_width, text_height = draw.textsize(model.config.id2label[label.item()], font=font)\n",
            "<ipython-input-27-e399afaa81b4>:51: DeprecationWarning: textsize is deprecated and will be removed in Pillow 10 (2023-07-01). Use textbbox or textlength instead.\n",
            "  text_width, text_height = draw.textsize(model.config.id2label[label.item()], font=font)\n",
            "<ipython-input-27-e399afaa81b4>:51: DeprecationWarning: textsize is deprecated and will be removed in Pillow 10 (2023-07-01). Use textbbox or textlength instead.\n",
            "  text_width, text_height = draw.textsize(model.config.id2label[label.item()], font=font)\n",
            "<ipython-input-27-e399afaa81b4>:51: DeprecationWarning: textsize is deprecated and will be removed in Pillow 10 (2023-07-01). Use textbbox or textlength instead.\n",
            "  text_width, text_height = draw.textsize(model.config.id2label[label.item()], font=font)\n"
          ]
        },
        {
          "output_type": "stream",
          "name": "stdout",
          "text": [
            "Detected traffic light with confidence 0.952 at location [367.08, 271.01, 386.72, 298.44]\n",
            "Detected traffic light with confidence 0.995 at location [442.48, 247.65, 465.34, 293.97]\n",
            "Detected car with confidence 0.966 at location [666.09, 436.78, 786.6, 520.56]\n"
          ]
        },
        {
          "output_type": "stream",
          "name": "stderr",
          "text": [
            "<ipython-input-27-e399afaa81b4>:51: DeprecationWarning: textsize is deprecated and will be removed in Pillow 10 (2023-07-01). Use textbbox or textlength instead.\n",
            "  text_width, text_height = draw.textsize(model.config.id2label[label.item()], font=font)\n",
            "<ipython-input-27-e399afaa81b4>:51: DeprecationWarning: textsize is deprecated and will be removed in Pillow 10 (2023-07-01). Use textbbox or textlength instead.\n",
            "  text_width, text_height = draw.textsize(model.config.id2label[label.item()], font=font)\n",
            "<ipython-input-27-e399afaa81b4>:51: DeprecationWarning: textsize is deprecated and will be removed in Pillow 10 (2023-07-01). Use textbbox or textlength instead.\n",
            "  text_width, text_height = draw.textsize(model.config.id2label[label.item()], font=font)\n"
          ]
        },
        {
          "output_type": "stream",
          "name": "stdout",
          "text": [
            "Detected car with confidence 0.989 at location [689.67, 442.79, 778.96, 508.55]\n",
            "Detected traffic light with confidence 0.91 at location [801.28, 347.15, 822.51, 374.5]\n",
            "Detected traffic light with confidence 0.932 at location [718.98, 330.09, 740.14, 355.35]\n",
            "Detected traffic light with confidence 0.933 at location [293.23, 369.14, 318.33, 403.49]\n",
            "Detected traffic light with confidence 0.993 at location [450.33, 259.98, 473.87, 302.96]\n"
          ]
        },
        {
          "output_type": "stream",
          "name": "stderr",
          "text": [
            "<ipython-input-27-e399afaa81b4>:51: DeprecationWarning: textsize is deprecated and will be removed in Pillow 10 (2023-07-01). Use textbbox or textlength instead.\n",
            "  text_width, text_height = draw.textsize(model.config.id2label[label.item()], font=font)\n",
            "<ipython-input-27-e399afaa81b4>:51: DeprecationWarning: textsize is deprecated and will be removed in Pillow 10 (2023-07-01). Use textbbox or textlength instead.\n",
            "  text_width, text_height = draw.textsize(model.config.id2label[label.item()], font=font)\n",
            "<ipython-input-27-e399afaa81b4>:51: DeprecationWarning: textsize is deprecated and will be removed in Pillow 10 (2023-07-01). Use textbbox or textlength instead.\n",
            "  text_width, text_height = draw.textsize(model.config.id2label[label.item()], font=font)\n",
            "<ipython-input-27-e399afaa81b4>:51: DeprecationWarning: textsize is deprecated and will be removed in Pillow 10 (2023-07-01). Use textbbox or textlength instead.\n",
            "  text_width, text_height = draw.textsize(model.config.id2label[label.item()], font=font)\n",
            "<ipython-input-27-e399afaa81b4>:51: DeprecationWarning: textsize is deprecated and will be removed in Pillow 10 (2023-07-01). Use textbbox or textlength instead.\n",
            "  text_width, text_height = draw.textsize(model.config.id2label[label.item()], font=font)\n"
          ]
        },
        {
          "output_type": "stream",
          "name": "stdout",
          "text": [
            "Detected car with confidence 0.902 at location [681.75, 436.58, 765.62, 506.68]\n",
            "Detected traffic light with confidence 0.916 at location [719.97, 330.64, 742.96, 358.03]\n",
            "Detected traffic light with confidence 0.994 at location [465.1, 270.39, 489.5, 318.25]\n"
          ]
        },
        {
          "output_type": "stream",
          "name": "stderr",
          "text": [
            "<ipython-input-27-e399afaa81b4>:51: DeprecationWarning: textsize is deprecated and will be removed in Pillow 10 (2023-07-01). Use textbbox or textlength instead.\n",
            "  text_width, text_height = draw.textsize(model.config.id2label[label.item()], font=font)\n",
            "<ipython-input-27-e399afaa81b4>:51: DeprecationWarning: textsize is deprecated and will be removed in Pillow 10 (2023-07-01). Use textbbox or textlength instead.\n",
            "  text_width, text_height = draw.textsize(model.config.id2label[label.item()], font=font)\n",
            "<ipython-input-27-e399afaa81b4>:51: DeprecationWarning: textsize is deprecated and will be removed in Pillow 10 (2023-07-01). Use textbbox or textlength instead.\n",
            "  text_width, text_height = draw.textsize(model.config.id2label[label.item()], font=font)\n"
          ]
        },
        {
          "output_type": "stream",
          "name": "stdout",
          "text": [
            "[{'frame60': {'traffic light': 4, 'car': 1}}, {'frame45': {'traffic light': 2, 'car': 1}}, {'frame30': {'car': 1, 'traffic light': 4}}, {'frame15': {'car': 1, 'traffic light': 2}}]\n",
            "CLIP_40\n",
            "Detected car with confidence 0.963 at location [656.7, 467.55, 738.54, 508.86]\n",
            "Detected tv with confidence 0.93 at location [331.4, 66.07, 515.44, 160.62]\n"
          ]
        },
        {
          "output_type": "stream",
          "name": "stderr",
          "text": [
            "<ipython-input-27-e399afaa81b4>:51: DeprecationWarning: textsize is deprecated and will be removed in Pillow 10 (2023-07-01). Use textbbox or textlength instead.\n",
            "  text_width, text_height = draw.textsize(model.config.id2label[label.item()], font=font)\n",
            "<ipython-input-27-e399afaa81b4>:51: DeprecationWarning: textsize is deprecated and will be removed in Pillow 10 (2023-07-01). Use textbbox or textlength instead.\n",
            "  text_width, text_height = draw.textsize(model.config.id2label[label.item()], font=font)\n"
          ]
        },
        {
          "output_type": "stream",
          "name": "stdout",
          "text": [
            "Detected car with confidence 0.969 at location [422.18, 461.48, 521.53, 574.96]\n",
            "Detected car with confidence 0.969 at location [11.07, 445.33, 480.48, 658.12]\n",
            "Detected car with confidence 0.9 at location [610.95, 472.6, 646.03, 495.98]\n"
          ]
        },
        {
          "output_type": "stream",
          "name": "stderr",
          "text": [
            "<ipython-input-27-e399afaa81b4>:51: DeprecationWarning: textsize is deprecated and will be removed in Pillow 10 (2023-07-01). Use textbbox or textlength instead.\n",
            "  text_width, text_height = draw.textsize(model.config.id2label[label.item()], font=font)\n",
            "<ipython-input-27-e399afaa81b4>:51: DeprecationWarning: textsize is deprecated and will be removed in Pillow 10 (2023-07-01). Use textbbox or textlength instead.\n",
            "  text_width, text_height = draw.textsize(model.config.id2label[label.item()], font=font)\n",
            "<ipython-input-27-e399afaa81b4>:51: DeprecationWarning: textsize is deprecated and will be removed in Pillow 10 (2023-07-01). Use textbbox or textlength instead.\n",
            "  text_width, text_height = draw.textsize(model.config.id2label[label.item()], font=font)\n"
          ]
        },
        {
          "output_type": "stream",
          "name": "stdout",
          "text": [
            "Detected car with confidence 0.99 at location [664.9, 473.7, 747.49, 514.22]\n",
            "Detected car with confidence 0.902 at location [1.76, 448.38, 414.21, 671.94]\n",
            "[{'frame60': {'car': 1, 'tv': 1}}, {'frame45': {}}, {'frame30': {'car': 3}}, {'frame15': {'car': 2}}]\n",
            "CLIP_201\n"
          ]
        },
        {
          "output_type": "stream",
          "name": "stderr",
          "text": [
            "<ipython-input-27-e399afaa81b4>:51: DeprecationWarning: textsize is deprecated and will be removed in Pillow 10 (2023-07-01). Use textbbox or textlength instead.\n",
            "  text_width, text_height = draw.textsize(model.config.id2label[label.item()], font=font)\n",
            "<ipython-input-27-e399afaa81b4>:51: DeprecationWarning: textsize is deprecated and will be removed in Pillow 10 (2023-07-01). Use textbbox or textlength instead.\n",
            "  text_width, text_height = draw.textsize(model.config.id2label[label.item()], font=font)\n"
          ]
        },
        {
          "output_type": "stream",
          "name": "stdout",
          "text": [
            "Detected traffic light with confidence 0.906 at location [599.03, 310.18, 610.49, 334.06]\n",
            "Detected car with confidence 0.971 at location [713.73, 364.52, 909.62, 435.86]\n",
            "Detected traffic light with confidence 0.962 at location [681.71, 302.56, 695.2, 332.16]\n",
            "Detected car with confidence 0.918 at location [952.42, 382.54, 1056.03, 423.98]\n",
            "Detected traffic light with confidence 0.913 at location [168.05, 239.52, 186.38, 272.59]\n",
            "Detected traffic light with confidence 0.932 at location [685.62, 301.02, 698.74, 326.99]\n",
            "Detected traffic light with confidence 0.902 at location [607.07, 301.81, 618.94, 326.64]\n",
            "Detected traffic light with confidence 0.919 at location [560.29, 333.09, 573.15, 352.55]\n",
            "Detected traffic light with confidence 0.938 at location [83.94, 212.03, 102.65, 244.12]\n",
            "Detected car with confidence 0.928 at location [429.21, 386.99, 465.54, 410.01]\n",
            "Detected car with confidence 0.934 at location [545.82, 385.5, 602.11, 420.52]\n",
            "Detected car with confidence 0.907 at location [333.99, 386.96, 379.4, 413.37]\n"
          ]
        },
        {
          "output_type": "stream",
          "name": "stderr",
          "text": [
            "<ipython-input-27-e399afaa81b4>:51: DeprecationWarning: textsize is deprecated and will be removed in Pillow 10 (2023-07-01). Use textbbox or textlength instead.\n",
            "  text_width, text_height = draw.textsize(model.config.id2label[label.item()], font=font)\n",
            "<ipython-input-27-e399afaa81b4>:51: DeprecationWarning: textsize is deprecated and will be removed in Pillow 10 (2023-07-01). Use textbbox or textlength instead.\n",
            "  text_width, text_height = draw.textsize(model.config.id2label[label.item()], font=font)\n",
            "<ipython-input-27-e399afaa81b4>:51: DeprecationWarning: textsize is deprecated and will be removed in Pillow 10 (2023-07-01). Use textbbox or textlength instead.\n",
            "  text_width, text_height = draw.textsize(model.config.id2label[label.item()], font=font)\n",
            "<ipython-input-27-e399afaa81b4>:51: DeprecationWarning: textsize is deprecated and will be removed in Pillow 10 (2023-07-01). Use textbbox or textlength instead.\n",
            "  text_width, text_height = draw.textsize(model.config.id2label[label.item()], font=font)\n",
            "<ipython-input-27-e399afaa81b4>:51: DeprecationWarning: textsize is deprecated and will be removed in Pillow 10 (2023-07-01). Use textbbox or textlength instead.\n",
            "  text_width, text_height = draw.textsize(model.config.id2label[label.item()], font=font)\n",
            "<ipython-input-27-e399afaa81b4>:51: DeprecationWarning: textsize is deprecated and will be removed in Pillow 10 (2023-07-01). Use textbbox or textlength instead.\n",
            "  text_width, text_height = draw.textsize(model.config.id2label[label.item()], font=font)\n",
            "<ipython-input-27-e399afaa81b4>:51: DeprecationWarning: textsize is deprecated and will be removed in Pillow 10 (2023-07-01). Use textbbox or textlength instead.\n",
            "  text_width, text_height = draw.textsize(model.config.id2label[label.item()], font=font)\n",
            "<ipython-input-27-e399afaa81b4>:51: DeprecationWarning: textsize is deprecated and will be removed in Pillow 10 (2023-07-01). Use textbbox or textlength instead.\n",
            "  text_width, text_height = draw.textsize(model.config.id2label[label.item()], font=font)\n",
            "<ipython-input-27-e399afaa81b4>:51: DeprecationWarning: textsize is deprecated and will be removed in Pillow 10 (2023-07-01). Use textbbox or textlength instead.\n",
            "  text_width, text_height = draw.textsize(model.config.id2label[label.item()], font=font)\n",
            "<ipython-input-27-e399afaa81b4>:51: DeprecationWarning: textsize is deprecated and will be removed in Pillow 10 (2023-07-01). Use textbbox or textlength instead.\n",
            "  text_width, text_height = draw.textsize(model.config.id2label[label.item()], font=font)\n",
            "<ipython-input-27-e399afaa81b4>:51: DeprecationWarning: textsize is deprecated and will be removed in Pillow 10 (2023-07-01). Use textbbox or textlength instead.\n",
            "  text_width, text_height = draw.textsize(model.config.id2label[label.item()], font=font)\n",
            "<ipython-input-27-e399afaa81b4>:51: DeprecationWarning: textsize is deprecated and will be removed in Pillow 10 (2023-07-01). Use textbbox or textlength instead.\n",
            "  text_width, text_height = draw.textsize(model.config.id2label[label.item()], font=font)\n"
          ]
        },
        {
          "output_type": "stream",
          "name": "stdout",
          "text": [
            "Detected car with confidence 0.97 at location [648.3, 367.4, 801.47, 430.45]\n",
            "Detected traffic light with confidence 0.945 at location [677.95, 308.27, 690.83, 335.28]\n",
            "Detected traffic light with confidence 0.947 at location [166.49, 241.68, 184.82, 274.79]\n",
            "Detected car with confidence 0.94 at location [324.14, 386.02, 371.5, 413.33]\n",
            "Detected car with confidence 0.962 at location [425.7, 384.07, 471.76, 411.91]\n",
            "Detected traffic light with confidence 0.909 at location [682.9, 302.32, 696.0, 329.31]\n",
            "Detected car with confidence 0.953 at location [1229.29, 391.63, 1272.68, 412.36]\n",
            "Detected car with confidence 0.934 at location [1067.69, 379.97, 1143.38, 420.27]\n",
            "Detected traffic light with confidence 0.983 at location [85.53, 214.12, 103.49, 246.8]\n",
            "Detected traffic light with confidence 0.906 at location [611.15, 304.56, 625.0, 328.88]\n",
            "Detected car with confidence 0.909 at location [332.59, 386.65, 375.33, 412.95]\n"
          ]
        },
        {
          "output_type": "stream",
          "name": "stderr",
          "text": [
            "<ipython-input-27-e399afaa81b4>:51: DeprecationWarning: textsize is deprecated and will be removed in Pillow 10 (2023-07-01). Use textbbox or textlength instead.\n",
            "  text_width, text_height = draw.textsize(model.config.id2label[label.item()], font=font)\n",
            "<ipython-input-27-e399afaa81b4>:51: DeprecationWarning: textsize is deprecated and will be removed in Pillow 10 (2023-07-01). Use textbbox or textlength instead.\n",
            "  text_width, text_height = draw.textsize(model.config.id2label[label.item()], font=font)\n",
            "<ipython-input-27-e399afaa81b4>:51: DeprecationWarning: textsize is deprecated and will be removed in Pillow 10 (2023-07-01). Use textbbox or textlength instead.\n",
            "  text_width, text_height = draw.textsize(model.config.id2label[label.item()], font=font)\n",
            "<ipython-input-27-e399afaa81b4>:51: DeprecationWarning: textsize is deprecated and will be removed in Pillow 10 (2023-07-01). Use textbbox or textlength instead.\n",
            "  text_width, text_height = draw.textsize(model.config.id2label[label.item()], font=font)\n",
            "<ipython-input-27-e399afaa81b4>:51: DeprecationWarning: textsize is deprecated and will be removed in Pillow 10 (2023-07-01). Use textbbox or textlength instead.\n",
            "  text_width, text_height = draw.textsize(model.config.id2label[label.item()], font=font)\n",
            "<ipython-input-27-e399afaa81b4>:51: DeprecationWarning: textsize is deprecated and will be removed in Pillow 10 (2023-07-01). Use textbbox or textlength instead.\n",
            "  text_width, text_height = draw.textsize(model.config.id2label[label.item()], font=font)\n",
            "<ipython-input-27-e399afaa81b4>:51: DeprecationWarning: textsize is deprecated and will be removed in Pillow 10 (2023-07-01). Use textbbox or textlength instead.\n",
            "  text_width, text_height = draw.textsize(model.config.id2label[label.item()], font=font)\n",
            "<ipython-input-27-e399afaa81b4>:51: DeprecationWarning: textsize is deprecated and will be removed in Pillow 10 (2023-07-01). Use textbbox or textlength instead.\n",
            "  text_width, text_height = draw.textsize(model.config.id2label[label.item()], font=font)\n",
            "<ipython-input-27-e399afaa81b4>:51: DeprecationWarning: textsize is deprecated and will be removed in Pillow 10 (2023-07-01). Use textbbox or textlength instead.\n",
            "  text_width, text_height = draw.textsize(model.config.id2label[label.item()], font=font)\n",
            "<ipython-input-27-e399afaa81b4>:51: DeprecationWarning: textsize is deprecated and will be removed in Pillow 10 (2023-07-01). Use textbbox or textlength instead.\n",
            "  text_width, text_height = draw.textsize(model.config.id2label[label.item()], font=font)\n",
            "<ipython-input-27-e399afaa81b4>:51: DeprecationWarning: textsize is deprecated and will be removed in Pillow 10 (2023-07-01). Use textbbox or textlength instead.\n",
            "  text_width, text_height = draw.textsize(model.config.id2label[label.item()], font=font)\n"
          ]
        },
        {
          "output_type": "stream",
          "name": "stdout",
          "text": [
            "Detected traffic light with confidence 0.964 at location [602.78, 302.36, 616.29, 327.88]\n",
            "Detected car with confidence 0.982 at location [584.31, 359.22, 832.39, 445.66]\n",
            "Detected car with confidence 0.932 at location [234.03, 365.37, 359.17, 440.73]\n",
            "Detected car with confidence 0.955 at location [783.7, 380.86, 827.56, 408.55]\n",
            "Detected car with confidence 0.964 at location [488.98, 382.49, 540.73, 413.14]\n",
            "Detected car with confidence 0.98 at location [421.59, 384.7, 458.68, 407.96]\n",
            "Detected car with confidence 0.926 at location [1038.76, 378.24, 1141.05, 420.77]\n",
            "Detected car with confidence 0.938 at location [959.84, 385.41, 1051.72, 422.04]\n",
            "Detected car with confidence 0.964 at location [1240.32, 388.91, 1279.97, 413.13]\n",
            "Detected traffic light with confidence 0.972 at location [90.02, 213.31, 107.93, 247.8]\n",
            "Detected car with confidence 0.939 at location [544.33, 385.26, 592.59, 415.28]\n",
            "Detected car with confidence 0.982 at location [873.03, 391.28, 953.63, 423.78]\n"
          ]
        },
        {
          "output_type": "stream",
          "name": "stderr",
          "text": [
            "<ipython-input-27-e399afaa81b4>:51: DeprecationWarning: textsize is deprecated and will be removed in Pillow 10 (2023-07-01). Use textbbox or textlength instead.\n",
            "  text_width, text_height = draw.textsize(model.config.id2label[label.item()], font=font)\n",
            "<ipython-input-27-e399afaa81b4>:51: DeprecationWarning: textsize is deprecated and will be removed in Pillow 10 (2023-07-01). Use textbbox or textlength instead.\n",
            "  text_width, text_height = draw.textsize(model.config.id2label[label.item()], font=font)\n",
            "<ipython-input-27-e399afaa81b4>:51: DeprecationWarning: textsize is deprecated and will be removed in Pillow 10 (2023-07-01). Use textbbox or textlength instead.\n",
            "  text_width, text_height = draw.textsize(model.config.id2label[label.item()], font=font)\n",
            "<ipython-input-27-e399afaa81b4>:51: DeprecationWarning: textsize is deprecated and will be removed in Pillow 10 (2023-07-01). Use textbbox or textlength instead.\n",
            "  text_width, text_height = draw.textsize(model.config.id2label[label.item()], font=font)\n",
            "<ipython-input-27-e399afaa81b4>:51: DeprecationWarning: textsize is deprecated and will be removed in Pillow 10 (2023-07-01). Use textbbox or textlength instead.\n",
            "  text_width, text_height = draw.textsize(model.config.id2label[label.item()], font=font)\n",
            "<ipython-input-27-e399afaa81b4>:51: DeprecationWarning: textsize is deprecated and will be removed in Pillow 10 (2023-07-01). Use textbbox or textlength instead.\n",
            "  text_width, text_height = draw.textsize(model.config.id2label[label.item()], font=font)\n",
            "<ipython-input-27-e399afaa81b4>:51: DeprecationWarning: textsize is deprecated and will be removed in Pillow 10 (2023-07-01). Use textbbox or textlength instead.\n",
            "  text_width, text_height = draw.textsize(model.config.id2label[label.item()], font=font)\n",
            "<ipython-input-27-e399afaa81b4>:51: DeprecationWarning: textsize is deprecated and will be removed in Pillow 10 (2023-07-01). Use textbbox or textlength instead.\n",
            "  text_width, text_height = draw.textsize(model.config.id2label[label.item()], font=font)\n",
            "<ipython-input-27-e399afaa81b4>:51: DeprecationWarning: textsize is deprecated and will be removed in Pillow 10 (2023-07-01). Use textbbox or textlength instead.\n",
            "  text_width, text_height = draw.textsize(model.config.id2label[label.item()], font=font)\n",
            "<ipython-input-27-e399afaa81b4>:51: DeprecationWarning: textsize is deprecated and will be removed in Pillow 10 (2023-07-01). Use textbbox or textlength instead.\n",
            "  text_width, text_height = draw.textsize(model.config.id2label[label.item()], font=font)\n",
            "<ipython-input-27-e399afaa81b4>:51: DeprecationWarning: textsize is deprecated and will be removed in Pillow 10 (2023-07-01). Use textbbox or textlength instead.\n",
            "  text_width, text_height = draw.textsize(model.config.id2label[label.item()], font=font)\n",
            "<ipython-input-27-e399afaa81b4>:51: DeprecationWarning: textsize is deprecated and will be removed in Pillow 10 (2023-07-01). Use textbbox or textlength instead.\n",
            "  text_width, text_height = draw.textsize(model.config.id2label[label.item()], font=font)\n"
          ]
        },
        {
          "output_type": "stream",
          "name": "stdout",
          "text": [
            "Detected traffic light with confidence 0.94 at location [601.14, 301.59, 614.0, 325.83]\n",
            "Detected car with confidence 0.953 at location [537.53, 361.13, 656.3, 427.97]\n",
            "Detected car with confidence 0.994 at location [311.19, 368.47, 435.4, 430.3]\n",
            "Detected traffic light with confidence 0.913 at location [597.96, 302.9, 610.39, 326.24]\n",
            "Detected traffic light with confidence 0.983 at location [674.15, 299.05, 685.88, 325.86]\n",
            "Detected car with confidence 0.955 at location [1.17, 281.6, 256.72, 536.96]\n",
            "Detected truck with confidence 0.904 at location [547.68, 361.93, 656.7, 429.45]\n",
            "Detected car with confidence 0.94 at location [1046.91, 376.82, 1132.7, 419.86]\n",
            "Detected car with confidence 0.923 at location [444.94, 382.55, 474.98, 405.96]\n"
          ]
        },
        {
          "output_type": "stream",
          "name": "stderr",
          "text": [
            "<ipython-input-27-e399afaa81b4>:51: DeprecationWarning: textsize is deprecated and will be removed in Pillow 10 (2023-07-01). Use textbbox or textlength instead.\n",
            "  text_width, text_height = draw.textsize(model.config.id2label[label.item()], font=font)\n",
            "<ipython-input-27-e399afaa81b4>:51: DeprecationWarning: textsize is deprecated and will be removed in Pillow 10 (2023-07-01). Use textbbox or textlength instead.\n",
            "  text_width, text_height = draw.textsize(model.config.id2label[label.item()], font=font)\n",
            "<ipython-input-27-e399afaa81b4>:51: DeprecationWarning: textsize is deprecated and will be removed in Pillow 10 (2023-07-01). Use textbbox or textlength instead.\n",
            "  text_width, text_height = draw.textsize(model.config.id2label[label.item()], font=font)\n",
            "<ipython-input-27-e399afaa81b4>:51: DeprecationWarning: textsize is deprecated and will be removed in Pillow 10 (2023-07-01). Use textbbox or textlength instead.\n",
            "  text_width, text_height = draw.textsize(model.config.id2label[label.item()], font=font)\n",
            "<ipython-input-27-e399afaa81b4>:51: DeprecationWarning: textsize is deprecated and will be removed in Pillow 10 (2023-07-01). Use textbbox or textlength instead.\n",
            "  text_width, text_height = draw.textsize(model.config.id2label[label.item()], font=font)\n",
            "<ipython-input-27-e399afaa81b4>:51: DeprecationWarning: textsize is deprecated and will be removed in Pillow 10 (2023-07-01). Use textbbox or textlength instead.\n",
            "  text_width, text_height = draw.textsize(model.config.id2label[label.item()], font=font)\n",
            "<ipython-input-27-e399afaa81b4>:51: DeprecationWarning: textsize is deprecated and will be removed in Pillow 10 (2023-07-01). Use textbbox or textlength instead.\n",
            "  text_width, text_height = draw.textsize(model.config.id2label[label.item()], font=font)\n",
            "<ipython-input-27-e399afaa81b4>:51: DeprecationWarning: textsize is deprecated and will be removed in Pillow 10 (2023-07-01). Use textbbox or textlength instead.\n",
            "  text_width, text_height = draw.textsize(model.config.id2label[label.item()], font=font)\n",
            "<ipython-input-27-e399afaa81b4>:51: DeprecationWarning: textsize is deprecated and will be removed in Pillow 10 (2023-07-01). Use textbbox or textlength instead.\n",
            "  text_width, text_height = draw.textsize(model.config.id2label[label.item()], font=font)\n"
          ]
        },
        {
          "output_type": "stream",
          "name": "stdout",
          "text": [
            "[{'frame60': {'traffic light': 7, 'car': 5}}, {'frame45': {'car': 6, 'traffic light': 5}}, {'frame30': {'traffic light': 2, 'car': 10}}, {'frame15': {'traffic light': 3, 'car': 5, 'truck': 1}}]\n",
            "CLIP_19\n",
            "Detected car with confidence 0.979 at location [961.04, 302.32, 1039.59, 342.76]\n",
            "Detected traffic light with confidence 0.977 at location [968.29, 134.75, 1014.0, 215.44]\n",
            "Detected car with confidence 0.976 at location [710.08, 321.33, 751.05, 346.38]\n",
            "Detected car with confidence 0.977 at location [0.6, 227.39, 309.38, 511.64]\n",
            "Detected car with confidence 0.943 at location [1095.9, 282.13, 1240.25, 344.64]\n",
            "Detected car with confidence 0.921 at location [562.12, 318.0, 624.39, 364.47]\n",
            "Detected car with confidence 0.939 at location [610.99, 315.02, 659.59, 354.68]\n"
          ]
        },
        {
          "output_type": "stream",
          "name": "stderr",
          "text": [
            "<ipython-input-27-e399afaa81b4>:51: DeprecationWarning: textsize is deprecated and will be removed in Pillow 10 (2023-07-01). Use textbbox or textlength instead.\n",
            "  text_width, text_height = draw.textsize(model.config.id2label[label.item()], font=font)\n",
            "<ipython-input-27-e399afaa81b4>:51: DeprecationWarning: textsize is deprecated and will be removed in Pillow 10 (2023-07-01). Use textbbox or textlength instead.\n",
            "  text_width, text_height = draw.textsize(model.config.id2label[label.item()], font=font)\n",
            "<ipython-input-27-e399afaa81b4>:51: DeprecationWarning: textsize is deprecated and will be removed in Pillow 10 (2023-07-01). Use textbbox or textlength instead.\n",
            "  text_width, text_height = draw.textsize(model.config.id2label[label.item()], font=font)\n",
            "<ipython-input-27-e399afaa81b4>:51: DeprecationWarning: textsize is deprecated and will be removed in Pillow 10 (2023-07-01). Use textbbox or textlength instead.\n",
            "  text_width, text_height = draw.textsize(model.config.id2label[label.item()], font=font)\n",
            "<ipython-input-27-e399afaa81b4>:51: DeprecationWarning: textsize is deprecated and will be removed in Pillow 10 (2023-07-01). Use textbbox or textlength instead.\n",
            "  text_width, text_height = draw.textsize(model.config.id2label[label.item()], font=font)\n",
            "<ipython-input-27-e399afaa81b4>:51: DeprecationWarning: textsize is deprecated and will be removed in Pillow 10 (2023-07-01). Use textbbox or textlength instead.\n",
            "  text_width, text_height = draw.textsize(model.config.id2label[label.item()], font=font)\n",
            "<ipython-input-27-e399afaa81b4>:51: DeprecationWarning: textsize is deprecated and will be removed in Pillow 10 (2023-07-01). Use textbbox or textlength instead.\n",
            "  text_width, text_height = draw.textsize(model.config.id2label[label.item()], font=font)\n"
          ]
        },
        {
          "output_type": "stream",
          "name": "stdout",
          "text": [
            "Detected car with confidence 0.944 at location [1132.06, 314.93, 1225.68, 354.71]\n",
            "Detected car with confidence 0.967 at location [145.84, 272.24, 522.65, 456.76]\n",
            "Detected car with confidence 0.967 at location [763.74, 327.82, 818.37, 351.67]\n",
            "Detected car with confidence 0.904 at location [659.87, 320.48, 724.63, 362.4]\n",
            "Detected car with confidence 0.975 at location [1036.41, 318.65, 1103.45, 348.9]\n"
          ]
        },
        {
          "output_type": "stream",
          "name": "stderr",
          "text": [
            "<ipython-input-27-e399afaa81b4>:51: DeprecationWarning: textsize is deprecated and will be removed in Pillow 10 (2023-07-01). Use textbbox or textlength instead.\n",
            "  text_width, text_height = draw.textsize(model.config.id2label[label.item()], font=font)\n",
            "<ipython-input-27-e399afaa81b4>:51: DeprecationWarning: textsize is deprecated and will be removed in Pillow 10 (2023-07-01). Use textbbox or textlength instead.\n",
            "  text_width, text_height = draw.textsize(model.config.id2label[label.item()], font=font)\n",
            "<ipython-input-27-e399afaa81b4>:51: DeprecationWarning: textsize is deprecated and will be removed in Pillow 10 (2023-07-01). Use textbbox or textlength instead.\n",
            "  text_width, text_height = draw.textsize(model.config.id2label[label.item()], font=font)\n",
            "<ipython-input-27-e399afaa81b4>:51: DeprecationWarning: textsize is deprecated and will be removed in Pillow 10 (2023-07-01). Use textbbox or textlength instead.\n",
            "  text_width, text_height = draw.textsize(model.config.id2label[label.item()], font=font)\n",
            "<ipython-input-27-e399afaa81b4>:51: DeprecationWarning: textsize is deprecated and will be removed in Pillow 10 (2023-07-01). Use textbbox or textlength instead.\n",
            "  text_width, text_height = draw.textsize(model.config.id2label[label.item()], font=font)\n"
          ]
        },
        {
          "output_type": "stream",
          "name": "stdout",
          "text": [
            "Detected car with confidence 0.972 at location [218.02, 342.13, 282.15, 368.3]\n",
            "Detected car with confidence 0.934 at location [784.63, 332.13, 840.47, 370.32]\n",
            "Detected car with confidence 0.917 at location [815.76, 328.47, 865.38, 366.37]\n",
            "Detected car with confidence 0.99 at location [122.05, 339.04, 198.97, 363.41]\n",
            "Detected car with confidence 0.92 at location [823.27, 329.28, 869.89, 364.41]\n",
            "Detected car with confidence 0.934 at location [900.01, 333.92, 943.46, 363.07]\n",
            "Detected car with confidence 0.919 at location [684.33, 315.36, 806.93, 383.71]\n"
          ]
        },
        {
          "output_type": "stream",
          "name": "stderr",
          "text": [
            "<ipython-input-27-e399afaa81b4>:51: DeprecationWarning: textsize is deprecated and will be removed in Pillow 10 (2023-07-01). Use textbbox or textlength instead.\n",
            "  text_width, text_height = draw.textsize(model.config.id2label[label.item()], font=font)\n",
            "<ipython-input-27-e399afaa81b4>:51: DeprecationWarning: textsize is deprecated and will be removed in Pillow 10 (2023-07-01). Use textbbox or textlength instead.\n",
            "  text_width, text_height = draw.textsize(model.config.id2label[label.item()], font=font)\n",
            "<ipython-input-27-e399afaa81b4>:51: DeprecationWarning: textsize is deprecated and will be removed in Pillow 10 (2023-07-01). Use textbbox or textlength instead.\n",
            "  text_width, text_height = draw.textsize(model.config.id2label[label.item()], font=font)\n",
            "<ipython-input-27-e399afaa81b4>:51: DeprecationWarning: textsize is deprecated and will be removed in Pillow 10 (2023-07-01). Use textbbox or textlength instead.\n",
            "  text_width, text_height = draw.textsize(model.config.id2label[label.item()], font=font)\n",
            "<ipython-input-27-e399afaa81b4>:51: DeprecationWarning: textsize is deprecated and will be removed in Pillow 10 (2023-07-01). Use textbbox or textlength instead.\n",
            "  text_width, text_height = draw.textsize(model.config.id2label[label.item()], font=font)\n",
            "<ipython-input-27-e399afaa81b4>:51: DeprecationWarning: textsize is deprecated and will be removed in Pillow 10 (2023-07-01). Use textbbox or textlength instead.\n",
            "  text_width, text_height = draw.textsize(model.config.id2label[label.item()], font=font)\n",
            "<ipython-input-27-e399afaa81b4>:51: DeprecationWarning: textsize is deprecated and will be removed in Pillow 10 (2023-07-01). Use textbbox or textlength instead.\n",
            "  text_width, text_height = draw.textsize(model.config.id2label[label.item()], font=font)\n"
          ]
        },
        {
          "output_type": "stream",
          "name": "stdout",
          "text": [
            "Detected car with confidence 0.983 at location [828.69, 311.72, 948.43, 380.94]\n",
            "Detected car with confidence 0.948 at location [418.46, 340.56, 469.13, 362.35]\n",
            "Detected car with confidence 0.987 at location [0.42, 295.04, 219.77, 394.04]\n",
            "Detected car with confidence 0.958 at location [937.44, 329.07, 995.51, 366.81]\n",
            "Detected car with confidence 0.975 at location [1036.51, 330.87, 1091.99, 368.86]\n",
            "Detected car with confidence 0.932 at location [973.49, 321.77, 1030.75, 361.7]\n",
            "Detected car with confidence 0.948 at location [1105.19, 323.89, 1135.13, 343.19]\n",
            "Detected car with confidence 0.98 at location [631.59, 307.91, 829.43, 399.23]\n"
          ]
        },
        {
          "output_type": "stream",
          "name": "stderr",
          "text": [
            "<ipython-input-27-e399afaa81b4>:51: DeprecationWarning: textsize is deprecated and will be removed in Pillow 10 (2023-07-01). Use textbbox or textlength instead.\n",
            "  text_width, text_height = draw.textsize(model.config.id2label[label.item()], font=font)\n",
            "<ipython-input-27-e399afaa81b4>:51: DeprecationWarning: textsize is deprecated and will be removed in Pillow 10 (2023-07-01). Use textbbox or textlength instead.\n",
            "  text_width, text_height = draw.textsize(model.config.id2label[label.item()], font=font)\n",
            "<ipython-input-27-e399afaa81b4>:51: DeprecationWarning: textsize is deprecated and will be removed in Pillow 10 (2023-07-01). Use textbbox or textlength instead.\n",
            "  text_width, text_height = draw.textsize(model.config.id2label[label.item()], font=font)\n",
            "<ipython-input-27-e399afaa81b4>:51: DeprecationWarning: textsize is deprecated and will be removed in Pillow 10 (2023-07-01). Use textbbox or textlength instead.\n",
            "  text_width, text_height = draw.textsize(model.config.id2label[label.item()], font=font)\n",
            "<ipython-input-27-e399afaa81b4>:51: DeprecationWarning: textsize is deprecated and will be removed in Pillow 10 (2023-07-01). Use textbbox or textlength instead.\n",
            "  text_width, text_height = draw.textsize(model.config.id2label[label.item()], font=font)\n",
            "<ipython-input-27-e399afaa81b4>:51: DeprecationWarning: textsize is deprecated and will be removed in Pillow 10 (2023-07-01). Use textbbox or textlength instead.\n",
            "  text_width, text_height = draw.textsize(model.config.id2label[label.item()], font=font)\n",
            "<ipython-input-27-e399afaa81b4>:51: DeprecationWarning: textsize is deprecated and will be removed in Pillow 10 (2023-07-01). Use textbbox or textlength instead.\n",
            "  text_width, text_height = draw.textsize(model.config.id2label[label.item()], font=font)\n",
            "<ipython-input-27-e399afaa81b4>:51: DeprecationWarning: textsize is deprecated and will be removed in Pillow 10 (2023-07-01). Use textbbox or textlength instead.\n",
            "  text_width, text_height = draw.textsize(model.config.id2label[label.item()], font=font)\n"
          ]
        },
        {
          "output_type": "stream",
          "name": "stdout",
          "text": [
            "[{'frame60': {'car': 6, 'traffic light': 1}}, {'frame45': {'car': 5}}, {'frame30': {'car': 7}}, {'frame15': {'car': 8}}]\n",
            "CLIP_199\n",
            "Detected car with confidence 0.966 at location [817.14, 296.16, 1270.74, 571.7]\n"
          ]
        },
        {
          "output_type": "stream",
          "name": "stderr",
          "text": [
            "<ipython-input-27-e399afaa81b4>:51: DeprecationWarning: textsize is deprecated and will be removed in Pillow 10 (2023-07-01). Use textbbox or textlength instead.\n",
            "  text_width, text_height = draw.textsize(model.config.id2label[label.item()], font=font)\n"
          ]
        },
        {
          "output_type": "stream",
          "name": "stdout",
          "text": [
            "Detected car with confidence 0.95 at location [1180.22, 476.96, 1279.98, 700.75]\n",
            "Detected car with confidence 0.943 at location [400.05, 195.02, 754.64, 371.07]\n",
            "Detected car with confidence 0.964 at location [803.8, 291.71, 1276.95, 568.15]\n"
          ]
        },
        {
          "output_type": "stream",
          "name": "stderr",
          "text": [
            "<ipython-input-27-e399afaa81b4>:51: DeprecationWarning: textsize is deprecated and will be removed in Pillow 10 (2023-07-01). Use textbbox or textlength instead.\n",
            "  text_width, text_height = draw.textsize(model.config.id2label[label.item()], font=font)\n",
            "<ipython-input-27-e399afaa81b4>:51: DeprecationWarning: textsize is deprecated and will be removed in Pillow 10 (2023-07-01). Use textbbox or textlength instead.\n",
            "  text_width, text_height = draw.textsize(model.config.id2label[label.item()], font=font)\n",
            "<ipython-input-27-e399afaa81b4>:51: DeprecationWarning: textsize is deprecated and will be removed in Pillow 10 (2023-07-01). Use textbbox or textlength instead.\n",
            "  text_width, text_height = draw.textsize(model.config.id2label[label.item()], font=font)\n"
          ]
        },
        {
          "output_type": "stream",
          "name": "stdout",
          "text": [
            "Detected car with confidence 0.958 at location [761.81, 249.35, 1219.23, 544.54]\n",
            "Detected car with confidence 0.921 at location [561.83, 251.36, 791.34, 375.23]\n",
            "Detected car with confidence 0.984 at location [1078.03, 342.3, 1279.65, 617.96]\n"
          ]
        },
        {
          "output_type": "stream",
          "name": "stderr",
          "text": [
            "<ipython-input-27-e399afaa81b4>:51: DeprecationWarning: textsize is deprecated and will be removed in Pillow 10 (2023-07-01). Use textbbox or textlength instead.\n",
            "  text_width, text_height = draw.textsize(model.config.id2label[label.item()], font=font)\n",
            "<ipython-input-27-e399afaa81b4>:51: DeprecationWarning: textsize is deprecated and will be removed in Pillow 10 (2023-07-01). Use textbbox or textlength instead.\n",
            "  text_width, text_height = draw.textsize(model.config.id2label[label.item()], font=font)\n",
            "<ipython-input-27-e399afaa81b4>:51: DeprecationWarning: textsize is deprecated and will be removed in Pillow 10 (2023-07-01). Use textbbox or textlength instead.\n",
            "  text_width, text_height = draw.textsize(model.config.id2label[label.item()], font=font)\n"
          ]
        },
        {
          "output_type": "stream",
          "name": "stdout",
          "text": [
            "[{'frame60': {'car': 1}}, {'frame45': {'car': 3}}, {'frame30': {}}, {'frame15': {'car': 3}}]\n",
            "CLIP_311\n",
            "Detected car with confidence 0.941 at location [646.42, 392.81, 675.41, 419.24]\n",
            "Detected car with confidence 0.981 at location [952.93, 402.74, 1010.09, 428.37]\n"
          ]
        },
        {
          "output_type": "stream",
          "name": "stderr",
          "text": [
            "<ipython-input-27-e399afaa81b4>:51: DeprecationWarning: textsize is deprecated and will be removed in Pillow 10 (2023-07-01). Use textbbox or textlength instead.\n",
            "  text_width, text_height = draw.textsize(model.config.id2label[label.item()], font=font)\n",
            "<ipython-input-27-e399afaa81b4>:51: DeprecationWarning: textsize is deprecated and will be removed in Pillow 10 (2023-07-01). Use textbbox or textlength instead.\n",
            "  text_width, text_height = draw.textsize(model.config.id2label[label.item()], font=font)\n"
          ]
        },
        {
          "output_type": "stream",
          "name": "stdout",
          "text": [
            "Detected car with confidence 0.944 at location [665.93, 373.64, 693.89, 390.19]\n",
            "Detected car with confidence 0.979 at location [833.77, 393.43, 877.54, 414.64]\n",
            "Detected car with confidence 0.989 at location [1127.57, 404.6, 1279.86, 467.03]\n",
            "Detected car with confidence 0.92 at location [894.2, 400.19, 922.08, 413.78]\n",
            "Detected car with confidence 0.956 at location [710.78, 388.25, 743.72, 409.72]\n",
            "[{'frame29': {'car': 2}}, {'frame58': {'car': 5}}]\n",
            "CLIP_261\n"
          ]
        },
        {
          "output_type": "stream",
          "name": "stderr",
          "text": [
            "<ipython-input-27-e399afaa81b4>:51: DeprecationWarning: textsize is deprecated and will be removed in Pillow 10 (2023-07-01). Use textbbox or textlength instead.\n",
            "  text_width, text_height = draw.textsize(model.config.id2label[label.item()], font=font)\n",
            "<ipython-input-27-e399afaa81b4>:51: DeprecationWarning: textsize is deprecated and will be removed in Pillow 10 (2023-07-01). Use textbbox or textlength instead.\n",
            "  text_width, text_height = draw.textsize(model.config.id2label[label.item()], font=font)\n",
            "<ipython-input-27-e399afaa81b4>:51: DeprecationWarning: textsize is deprecated and will be removed in Pillow 10 (2023-07-01). Use textbbox or textlength instead.\n",
            "  text_width, text_height = draw.textsize(model.config.id2label[label.item()], font=font)\n",
            "<ipython-input-27-e399afaa81b4>:51: DeprecationWarning: textsize is deprecated and will be removed in Pillow 10 (2023-07-01). Use textbbox or textlength instead.\n",
            "  text_width, text_height = draw.textsize(model.config.id2label[label.item()], font=font)\n",
            "<ipython-input-27-e399afaa81b4>:51: DeprecationWarning: textsize is deprecated and will be removed in Pillow 10 (2023-07-01). Use textbbox or textlength instead.\n",
            "  text_width, text_height = draw.textsize(model.config.id2label[label.item()], font=font)\n"
          ]
        },
        {
          "output_type": "stream",
          "name": "stdout",
          "text": [
            "Detected car with confidence 0.965 at location [389.08, 480.49, 424.15, 496.6]\n",
            "Detected car with confidence 0.936 at location [788.51, 486.19, 823.88, 510.31]\n",
            "Detected car with confidence 0.977 at location [362.57, 478.36, 414.78, 499.23]\n",
            "Detected car with confidence 0.98 at location [538.49, 481.2, 590.19, 516.86]\n",
            "Detected car with confidence 0.919 at location [569.31, 477.85, 601.26, 500.3]\n",
            "Detected car with confidence 0.929 at location [903.85, 480.33, 1196.13, 585.05]\n"
          ]
        },
        {
          "output_type": "stream",
          "name": "stderr",
          "text": [
            "<ipython-input-27-e399afaa81b4>:51: DeprecationWarning: textsize is deprecated and will be removed in Pillow 10 (2023-07-01). Use textbbox or textlength instead.\n",
            "  text_width, text_height = draw.textsize(model.config.id2label[label.item()], font=font)\n",
            "<ipython-input-27-e399afaa81b4>:51: DeprecationWarning: textsize is deprecated and will be removed in Pillow 10 (2023-07-01). Use textbbox or textlength instead.\n",
            "  text_width, text_height = draw.textsize(model.config.id2label[label.item()], font=font)\n",
            "<ipython-input-27-e399afaa81b4>:51: DeprecationWarning: textsize is deprecated and will be removed in Pillow 10 (2023-07-01). Use textbbox or textlength instead.\n",
            "  text_width, text_height = draw.textsize(model.config.id2label[label.item()], font=font)\n",
            "<ipython-input-27-e399afaa81b4>:51: DeprecationWarning: textsize is deprecated and will be removed in Pillow 10 (2023-07-01). Use textbbox or textlength instead.\n",
            "  text_width, text_height = draw.textsize(model.config.id2label[label.item()], font=font)\n",
            "<ipython-input-27-e399afaa81b4>:51: DeprecationWarning: textsize is deprecated and will be removed in Pillow 10 (2023-07-01). Use textbbox or textlength instead.\n",
            "  text_width, text_height = draw.textsize(model.config.id2label[label.item()], font=font)\n",
            "<ipython-input-27-e399afaa81b4>:51: DeprecationWarning: textsize is deprecated and will be removed in Pillow 10 (2023-07-01). Use textbbox or textlength instead.\n",
            "  text_width, text_height = draw.textsize(model.config.id2label[label.item()], font=font)\n"
          ]
        },
        {
          "output_type": "stream",
          "name": "stdout",
          "text": [
            "Detected car with confidence 0.941 at location [801.94, 484.73, 836.46, 506.79]\n",
            "Detected car with confidence 0.906 at location [543.61, 474.02, 575.06, 497.96]\n",
            "Detected car with confidence 0.996 at location [391.8, 480.69, 424.71, 495.31]\n",
            "Detected car with confidence 0.918 at location [730.2, 479.77, 753.66, 497.32]\n",
            "Detected car with confidence 0.929 at location [347.18, 478.02, 385.54, 497.92]\n",
            "Detected car with confidence 0.934 at location [342.79, 477.06, 386.03, 498.64]\n",
            "Detected car with confidence 0.902 at location [522.85, 481.15, 549.85, 498.7]\n",
            "Detected car with confidence 0.992 at location [877.74, 488.75, 940.86, 527.85]\n"
          ]
        },
        {
          "output_type": "stream",
          "name": "stderr",
          "text": [
            "<ipython-input-27-e399afaa81b4>:51: DeprecationWarning: textsize is deprecated and will be removed in Pillow 10 (2023-07-01). Use textbbox or textlength instead.\n",
            "  text_width, text_height = draw.textsize(model.config.id2label[label.item()], font=font)\n",
            "<ipython-input-27-e399afaa81b4>:51: DeprecationWarning: textsize is deprecated and will be removed in Pillow 10 (2023-07-01). Use textbbox or textlength instead.\n",
            "  text_width, text_height = draw.textsize(model.config.id2label[label.item()], font=font)\n",
            "<ipython-input-27-e399afaa81b4>:51: DeprecationWarning: textsize is deprecated and will be removed in Pillow 10 (2023-07-01). Use textbbox or textlength instead.\n",
            "  text_width, text_height = draw.textsize(model.config.id2label[label.item()], font=font)\n",
            "<ipython-input-27-e399afaa81b4>:51: DeprecationWarning: textsize is deprecated and will be removed in Pillow 10 (2023-07-01). Use textbbox or textlength instead.\n",
            "  text_width, text_height = draw.textsize(model.config.id2label[label.item()], font=font)\n",
            "<ipython-input-27-e399afaa81b4>:51: DeprecationWarning: textsize is deprecated and will be removed in Pillow 10 (2023-07-01). Use textbbox or textlength instead.\n",
            "  text_width, text_height = draw.textsize(model.config.id2label[label.item()], font=font)\n",
            "<ipython-input-27-e399afaa81b4>:51: DeprecationWarning: textsize is deprecated and will be removed in Pillow 10 (2023-07-01). Use textbbox or textlength instead.\n",
            "  text_width, text_height = draw.textsize(model.config.id2label[label.item()], font=font)\n",
            "<ipython-input-27-e399afaa81b4>:51: DeprecationWarning: textsize is deprecated and will be removed in Pillow 10 (2023-07-01). Use textbbox or textlength instead.\n",
            "  text_width, text_height = draw.textsize(model.config.id2label[label.item()], font=font)\n",
            "<ipython-input-27-e399afaa81b4>:51: DeprecationWarning: textsize is deprecated and will be removed in Pillow 10 (2023-07-01). Use textbbox or textlength instead.\n",
            "  text_width, text_height = draw.textsize(model.config.id2label[label.item()], font=font)\n"
          ]
        },
        {
          "output_type": "stream",
          "name": "stdout",
          "text": [
            "Detected car with confidence 0.901 at location [344.97, 481.38, 403.6, 502.48]\n",
            "Detected car with confidence 0.971 at location [671.9, 472.02, 735.28, 519.5]\n",
            "Detected car with confidence 0.98 at location [321.54, 479.43, 378.4, 503.2]\n",
            "Detected car with confidence 0.948 at location [756.84, 471.52, 802.95, 509.5]\n"
          ]
        },
        {
          "output_type": "stream",
          "name": "stderr",
          "text": [
            "<ipython-input-27-e399afaa81b4>:51: DeprecationWarning: textsize is deprecated and will be removed in Pillow 10 (2023-07-01). Use textbbox or textlength instead.\n",
            "  text_width, text_height = draw.textsize(model.config.id2label[label.item()], font=font)\n",
            "<ipython-input-27-e399afaa81b4>:51: DeprecationWarning: textsize is deprecated and will be removed in Pillow 10 (2023-07-01). Use textbbox or textlength instead.\n",
            "  text_width, text_height = draw.textsize(model.config.id2label[label.item()], font=font)\n",
            "<ipython-input-27-e399afaa81b4>:51: DeprecationWarning: textsize is deprecated and will be removed in Pillow 10 (2023-07-01). Use textbbox or textlength instead.\n",
            "  text_width, text_height = draw.textsize(model.config.id2label[label.item()], font=font)\n",
            "<ipython-input-27-e399afaa81b4>:51: DeprecationWarning: textsize is deprecated and will be removed in Pillow 10 (2023-07-01). Use textbbox or textlength instead.\n",
            "  text_width, text_height = draw.textsize(model.config.id2label[label.item()], font=font)\n"
          ]
        },
        {
          "output_type": "stream",
          "name": "stdout",
          "text": [
            "Detected car with confidence 0.987 at location [353.86, 492.39, 393.11, 509.59]\n",
            "Detected car with confidence 0.902 at location [476.62, 471.06, 539.21, 500.85]\n",
            "Detected car with confidence 0.995 at location [626.03, 475.69, 696.03, 528.54]\n",
            "Detected car with confidence 0.916 at location [619.92, 482.09, 639.99, 496.04]\n",
            "Detected car with confidence 0.99 at location [421.75, 483.34, 592.95, 541.99]\n",
            "Detected car with confidence 0.903 at location [592.19, 474.66, 625.92, 495.19]\n",
            "Detected car with confidence 0.963 at location [291.73, 488.96, 345.49, 509.93]\n",
            "Detected car with confidence 0.98 at location [955.99, 424.96, 1277.85, 624.8]\n",
            "[{'frame60': {'car': 6}}, {'frame45': {'car': 8}}, {'frame30': {'car': 4}}, {'frame15': {'car': 8}}]\n",
            "CLIP_58\n"
          ]
        },
        {
          "output_type": "stream",
          "name": "stderr",
          "text": [
            "<ipython-input-27-e399afaa81b4>:51: DeprecationWarning: textsize is deprecated and will be removed in Pillow 10 (2023-07-01). Use textbbox or textlength instead.\n",
            "  text_width, text_height = draw.textsize(model.config.id2label[label.item()], font=font)\n",
            "<ipython-input-27-e399afaa81b4>:51: DeprecationWarning: textsize is deprecated and will be removed in Pillow 10 (2023-07-01). Use textbbox or textlength instead.\n",
            "  text_width, text_height = draw.textsize(model.config.id2label[label.item()], font=font)\n",
            "<ipython-input-27-e399afaa81b4>:51: DeprecationWarning: textsize is deprecated and will be removed in Pillow 10 (2023-07-01). Use textbbox or textlength instead.\n",
            "  text_width, text_height = draw.textsize(model.config.id2label[label.item()], font=font)\n",
            "<ipython-input-27-e399afaa81b4>:51: DeprecationWarning: textsize is deprecated and will be removed in Pillow 10 (2023-07-01). Use textbbox or textlength instead.\n",
            "  text_width, text_height = draw.textsize(model.config.id2label[label.item()], font=font)\n",
            "<ipython-input-27-e399afaa81b4>:51: DeprecationWarning: textsize is deprecated and will be removed in Pillow 10 (2023-07-01). Use textbbox or textlength instead.\n",
            "  text_width, text_height = draw.textsize(model.config.id2label[label.item()], font=font)\n",
            "<ipython-input-27-e399afaa81b4>:51: DeprecationWarning: textsize is deprecated and will be removed in Pillow 10 (2023-07-01). Use textbbox or textlength instead.\n",
            "  text_width, text_height = draw.textsize(model.config.id2label[label.item()], font=font)\n",
            "<ipython-input-27-e399afaa81b4>:51: DeprecationWarning: textsize is deprecated and will be removed in Pillow 10 (2023-07-01). Use textbbox or textlength instead.\n",
            "  text_width, text_height = draw.textsize(model.config.id2label[label.item()], font=font)\n",
            "<ipython-input-27-e399afaa81b4>:51: DeprecationWarning: textsize is deprecated and will be removed in Pillow 10 (2023-07-01). Use textbbox or textlength instead.\n",
            "  text_width, text_height = draw.textsize(model.config.id2label[label.item()], font=font)\n"
          ]
        },
        {
          "output_type": "stream",
          "name": "stdout",
          "text": [
            "Detected car with confidence 0.958 at location [652.73, 319.42, 1274.8, 708.29]\n",
            "Detected car with confidence 0.994 at location [343.91, 375.13, 703.9, 611.25]\n"
          ]
        },
        {
          "output_type": "stream",
          "name": "stderr",
          "text": [
            "<ipython-input-27-e399afaa81b4>:51: DeprecationWarning: textsize is deprecated and will be removed in Pillow 10 (2023-07-01). Use textbbox or textlength instead.\n",
            "  text_width, text_height = draw.textsize(model.config.id2label[label.item()], font=font)\n",
            "<ipython-input-27-e399afaa81b4>:51: DeprecationWarning: textsize is deprecated and will be removed in Pillow 10 (2023-07-01). Use textbbox or textlength instead.\n",
            "  text_width, text_height = draw.textsize(model.config.id2label[label.item()], font=font)\n"
          ]
        },
        {
          "output_type": "stream",
          "name": "stdout",
          "text": [
            "Detected car with confidence 0.917 at location [649.1, 336.1, 1275.63, 711.62]\n",
            "Detected car with confidence 0.961 at location [271.39, 370.38, 339.77, 401.86]\n",
            "Detected car with confidence 0.993 at location [383.27, 378.41, 673.67, 595.6]\n",
            "Detected car with confidence 0.908 at location [389.06, 384.21, 447.81, 414.76]\n"
          ]
        },
        {
          "output_type": "stream",
          "name": "stderr",
          "text": [
            "<ipython-input-27-e399afaa81b4>:51: DeprecationWarning: textsize is deprecated and will be removed in Pillow 10 (2023-07-01). Use textbbox or textlength instead.\n",
            "  text_width, text_height = draw.textsize(model.config.id2label[label.item()], font=font)\n",
            "<ipython-input-27-e399afaa81b4>:51: DeprecationWarning: textsize is deprecated and will be removed in Pillow 10 (2023-07-01). Use textbbox or textlength instead.\n",
            "  text_width, text_height = draw.textsize(model.config.id2label[label.item()], font=font)\n",
            "<ipython-input-27-e399afaa81b4>:51: DeprecationWarning: textsize is deprecated and will be removed in Pillow 10 (2023-07-01). Use textbbox or textlength instead.\n",
            "  text_width, text_height = draw.textsize(model.config.id2label[label.item()], font=font)\n",
            "<ipython-input-27-e399afaa81b4>:51: DeprecationWarning: textsize is deprecated and will be removed in Pillow 10 (2023-07-01). Use textbbox or textlength instead.\n",
            "  text_width, text_height = draw.textsize(model.config.id2label[label.item()], font=font)\n"
          ]
        },
        {
          "output_type": "stream",
          "name": "stdout",
          "text": [
            "Detected car with confidence 0.96 at location [10.46, 256.26, 137.09, 301.61]\n"
          ]
        },
        {
          "output_type": "stream",
          "name": "stderr",
          "text": [
            "<ipython-input-27-e399afaa81b4>:51: DeprecationWarning: textsize is deprecated and will be removed in Pillow 10 (2023-07-01). Use textbbox or textlength instead.\n",
            "  text_width, text_height = draw.textsize(model.config.id2label[label.item()], font=font)\n"
          ]
        },
        {
          "output_type": "stream",
          "name": "stdout",
          "text": [
            "Detected car with confidence 0.995 at location [493.94, 300.05, 817.74, 501.0]\n"
          ]
        },
        {
          "output_type": "stream",
          "name": "stderr",
          "text": [
            "<ipython-input-27-e399afaa81b4>:51: DeprecationWarning: textsize is deprecated and will be removed in Pillow 10 (2023-07-01). Use textbbox or textlength instead.\n",
            "  text_width, text_height = draw.textsize(model.config.id2label[label.item()], font=font)\n"
          ]
        },
        {
          "output_type": "stream",
          "name": "stdout",
          "text": [
            "[{'frame60': {'car': 2}}, {'frame45': {'car': 4}}, {'frame30': {'car': 1}}, {'frame15': {'car': 1}}]\n",
            "CLIP_304\n",
            "Detected car with confidence 0.971 at location [662.19, 257.34, 716.43, 279.0]\n",
            "Detected car with confidence 0.916 at location [0.21, 464.84, 1280.21, 711.83]\n",
            "Detected car with confidence 0.904 at location [735.3, 267.96, 782.37, 288.85]\n"
          ]
        },
        {
          "output_type": "stream",
          "name": "stderr",
          "text": [
            "<ipython-input-27-e399afaa81b4>:51: DeprecationWarning: textsize is deprecated and will be removed in Pillow 10 (2023-07-01). Use textbbox or textlength instead.\n",
            "  text_width, text_height = draw.textsize(model.config.id2label[label.item()], font=font)\n",
            "<ipython-input-27-e399afaa81b4>:51: DeprecationWarning: textsize is deprecated and will be removed in Pillow 10 (2023-07-01). Use textbbox or textlength instead.\n",
            "  text_width, text_height = draw.textsize(model.config.id2label[label.item()], font=font)\n",
            "<ipython-input-27-e399afaa81b4>:51: DeprecationWarning: textsize is deprecated and will be removed in Pillow 10 (2023-07-01). Use textbbox or textlength instead.\n",
            "  text_width, text_height = draw.textsize(model.config.id2label[label.item()], font=font)\n"
          ]
        },
        {
          "output_type": "stream",
          "name": "stdout",
          "text": [
            "Detected car with confidence 0.955 at location [715.99, 264.23, 759.96, 285.39]\n"
          ]
        },
        {
          "output_type": "stream",
          "name": "stderr",
          "text": [
            "<ipython-input-27-e399afaa81b4>:51: DeprecationWarning: textsize is deprecated and will be removed in Pillow 10 (2023-07-01). Use textbbox or textlength instead.\n",
            "  text_width, text_height = draw.textsize(model.config.id2label[label.item()], font=font)\n"
          ]
        },
        {
          "output_type": "stream",
          "name": "stdout",
          "text": [
            "Detected car with confidence 0.913 at location [676.75, 259.24, 729.35, 280.57]\n"
          ]
        },
        {
          "output_type": "stream",
          "name": "stderr",
          "text": [
            "<ipython-input-27-e399afaa81b4>:51: DeprecationWarning: textsize is deprecated and will be removed in Pillow 10 (2023-07-01). Use textbbox or textlength instead.\n",
            "  text_width, text_height = draw.textsize(model.config.id2label[label.item()], font=font)\n"
          ]
        },
        {
          "output_type": "stream",
          "name": "stdout",
          "text": [
            "[{'frame48': {}}, {'frame24': {'car': 3}}, {'frame12': {'car': 1}}, {'frame36': {'car': 1}}]\n",
            "CLIP_198\n",
            "Detected traffic light with confidence 0.932 at location [191.64, 51.43, 220.71, 111.81]\n",
            "Detected car with confidence 0.941 at location [163.08, 373.27, 192.76, 390.04]\n",
            "Detected car with confidence 0.972 at location [748.88, 367.5, 961.29, 423.67]\n",
            "Detected car with confidence 0.99 at location [631.9, 361.75, 719.18, 413.53]\n",
            "Detected traffic light with confidence 0.985 at location [786.52, 219.58, 799.97, 248.93]\n",
            "Detected traffic light with confidence 0.933 at location [145.33, 164.46, 166.42, 205.66]\n",
            "Detected car with confidence 0.986 at location [237.73, 375.43, 280.07, 392.05]\n",
            "Detected traffic light with confidence 0.946 at location [690.4, 220.67, 706.49, 254.13]\n",
            "Detected car with confidence 0.945 at location [359.47, 368.44, 399.73, 387.97]\n",
            "Detected car with confidence 0.97 at location [866.97, 372.92, 1010.36, 423.0]\n",
            "Detected traffic light with confidence 0.976 at location [379.43, 44.66, 409.97, 111.6]\n",
            "Detected truck with confidence 0.983 at location [553.61, 326.04, 621.66, 392.38]\n",
            "Detected car with confidence 0.969 at location [1121.38, 368.51, 1225.35, 408.61]\n",
            "Detected traffic light with confidence 0.966 at location [1069.37, 170.29, 1089.33, 213.65]\n",
            "Detected car with confidence 0.969 at location [1245.45, 369.7, 1280.01, 407.43]\n",
            "Detected traffic light with confidence 0.912 at location [143.07, 159.64, 162.61, 204.9]\n",
            "Detected traffic light with confidence 0.924 at location [1058.71, 166.36, 1079.57, 215.74]\n",
            "Detected traffic light with confidence 0.973 at location [186.6, 174.59, 208.98, 215.41]\n",
            "Detected traffic light with confidence 0.903 at location [685.51, 221.47, 701.1, 254.14]\n"
          ]
        },
        {
          "output_type": "stream",
          "name": "stderr",
          "text": [
            "<ipython-input-27-e399afaa81b4>:51: DeprecationWarning: textsize is deprecated and will be removed in Pillow 10 (2023-07-01). Use textbbox or textlength instead.\n",
            "  text_width, text_height = draw.textsize(model.config.id2label[label.item()], font=font)\n",
            "<ipython-input-27-e399afaa81b4>:51: DeprecationWarning: textsize is deprecated and will be removed in Pillow 10 (2023-07-01). Use textbbox or textlength instead.\n",
            "  text_width, text_height = draw.textsize(model.config.id2label[label.item()], font=font)\n",
            "<ipython-input-27-e399afaa81b4>:51: DeprecationWarning: textsize is deprecated and will be removed in Pillow 10 (2023-07-01). Use textbbox or textlength instead.\n",
            "  text_width, text_height = draw.textsize(model.config.id2label[label.item()], font=font)\n",
            "<ipython-input-27-e399afaa81b4>:51: DeprecationWarning: textsize is deprecated and will be removed in Pillow 10 (2023-07-01). Use textbbox or textlength instead.\n",
            "  text_width, text_height = draw.textsize(model.config.id2label[label.item()], font=font)\n",
            "<ipython-input-27-e399afaa81b4>:51: DeprecationWarning: textsize is deprecated and will be removed in Pillow 10 (2023-07-01). Use textbbox or textlength instead.\n",
            "  text_width, text_height = draw.textsize(model.config.id2label[label.item()], font=font)\n",
            "<ipython-input-27-e399afaa81b4>:51: DeprecationWarning: textsize is deprecated and will be removed in Pillow 10 (2023-07-01). Use textbbox or textlength instead.\n",
            "  text_width, text_height = draw.textsize(model.config.id2label[label.item()], font=font)\n",
            "<ipython-input-27-e399afaa81b4>:51: DeprecationWarning: textsize is deprecated and will be removed in Pillow 10 (2023-07-01). Use textbbox or textlength instead.\n",
            "  text_width, text_height = draw.textsize(model.config.id2label[label.item()], font=font)\n",
            "<ipython-input-27-e399afaa81b4>:51: DeprecationWarning: textsize is deprecated and will be removed in Pillow 10 (2023-07-01). Use textbbox or textlength instead.\n",
            "  text_width, text_height = draw.textsize(model.config.id2label[label.item()], font=font)\n",
            "<ipython-input-27-e399afaa81b4>:51: DeprecationWarning: textsize is deprecated and will be removed in Pillow 10 (2023-07-01). Use textbbox or textlength instead.\n",
            "  text_width, text_height = draw.textsize(model.config.id2label[label.item()], font=font)\n",
            "<ipython-input-27-e399afaa81b4>:51: DeprecationWarning: textsize is deprecated and will be removed in Pillow 10 (2023-07-01). Use textbbox or textlength instead.\n",
            "  text_width, text_height = draw.textsize(model.config.id2label[label.item()], font=font)\n",
            "<ipython-input-27-e399afaa81b4>:51: DeprecationWarning: textsize is deprecated and will be removed in Pillow 10 (2023-07-01). Use textbbox or textlength instead.\n",
            "  text_width, text_height = draw.textsize(model.config.id2label[label.item()], font=font)\n",
            "<ipython-input-27-e399afaa81b4>:51: DeprecationWarning: textsize is deprecated and will be removed in Pillow 10 (2023-07-01). Use textbbox or textlength instead.\n",
            "  text_width, text_height = draw.textsize(model.config.id2label[label.item()], font=font)\n",
            "<ipython-input-27-e399afaa81b4>:51: DeprecationWarning: textsize is deprecated and will be removed in Pillow 10 (2023-07-01). Use textbbox or textlength instead.\n",
            "  text_width, text_height = draw.textsize(model.config.id2label[label.item()], font=font)\n",
            "<ipython-input-27-e399afaa81b4>:51: DeprecationWarning: textsize is deprecated and will be removed in Pillow 10 (2023-07-01). Use textbbox or textlength instead.\n",
            "  text_width, text_height = draw.textsize(model.config.id2label[label.item()], font=font)\n",
            "<ipython-input-27-e399afaa81b4>:51: DeprecationWarning: textsize is deprecated and will be removed in Pillow 10 (2023-07-01). Use textbbox or textlength instead.\n",
            "  text_width, text_height = draw.textsize(model.config.id2label[label.item()], font=font)\n",
            "<ipython-input-27-e399afaa81b4>:51: DeprecationWarning: textsize is deprecated and will be removed in Pillow 10 (2023-07-01). Use textbbox or textlength instead.\n",
            "  text_width, text_height = draw.textsize(model.config.id2label[label.item()], font=font)\n",
            "<ipython-input-27-e399afaa81b4>:51: DeprecationWarning: textsize is deprecated and will be removed in Pillow 10 (2023-07-01). Use textbbox or textlength instead.\n",
            "  text_width, text_height = draw.textsize(model.config.id2label[label.item()], font=font)\n",
            "<ipython-input-27-e399afaa81b4>:51: DeprecationWarning: textsize is deprecated and will be removed in Pillow 10 (2023-07-01). Use textbbox or textlength instead.\n",
            "  text_width, text_height = draw.textsize(model.config.id2label[label.item()], font=font)\n",
            "<ipython-input-27-e399afaa81b4>:51: DeprecationWarning: textsize is deprecated and will be removed in Pillow 10 (2023-07-01). Use textbbox or textlength instead.\n",
            "  text_width, text_height = draw.textsize(model.config.id2label[label.item()], font=font)\n"
          ]
        },
        {
          "output_type": "stream",
          "name": "stdout",
          "text": [
            "Detected traffic light with confidence 0.981 at location [197.11, 40.83, 227.69, 104.24]\n",
            "Detected traffic light with confidence 0.922 at location [188.01, 158.28, 211.01, 201.2]\n",
            "Detected car with confidence 0.957 at location [168.97, 360.78, 197.03, 376.12]\n",
            "Detected truck with confidence 0.955 at location [563.1, 309.71, 626.13, 375.71]\n",
            "Detected traffic light with confidence 0.981 at location [783.9, 202.04, 796.54, 230.62]\n",
            "Detected traffic light with confidence 0.933 at location [149.79, 153.3, 169.61, 189.8]\n",
            "Detected car with confidence 0.979 at location [247.01, 360.51, 294.86, 376.68]\n",
            "Detected traffic light with confidence 0.975 at location [694.77, 205.86, 709.25, 236.55]\n",
            "Detected car with confidence 0.947 at location [463.19, 338.14, 521.07, 378.11]\n",
            "Detected car with confidence 0.934 at location [425.36, 349.54, 462.52, 373.24]\n",
            "Detected car with confidence 0.97 at location [700.34, 352.01, 833.2, 396.68]\n",
            "Detected traffic light with confidence 0.983 at location [388.13, 35.14, 417.92, 101.29]\n",
            "Detected car with confidence 0.962 at location [1130.66, 352.01, 1226.96, 391.12]\n",
            "Detected traffic light with confidence 0.986 at location [1067.72, 159.58, 1086.33, 193.97]\n",
            "Detected car with confidence 0.973 at location [1243.96, 356.14, 1280.0, 389.98]\n",
            "Detected traffic light with confidence 0.957 at location [196.53, 158.34, 219.66, 199.25]\n",
            "Detected traffic light with confidence 0.943 at location [689.99, 206.61, 704.22, 236.93]\n"
          ]
        },
        {
          "output_type": "stream",
          "name": "stderr",
          "text": [
            "<ipython-input-27-e399afaa81b4>:51: DeprecationWarning: textsize is deprecated and will be removed in Pillow 10 (2023-07-01). Use textbbox or textlength instead.\n",
            "  text_width, text_height = draw.textsize(model.config.id2label[label.item()], font=font)\n",
            "<ipython-input-27-e399afaa81b4>:51: DeprecationWarning: textsize is deprecated and will be removed in Pillow 10 (2023-07-01). Use textbbox or textlength instead.\n",
            "  text_width, text_height = draw.textsize(model.config.id2label[label.item()], font=font)\n",
            "<ipython-input-27-e399afaa81b4>:51: DeprecationWarning: textsize is deprecated and will be removed in Pillow 10 (2023-07-01). Use textbbox or textlength instead.\n",
            "  text_width, text_height = draw.textsize(model.config.id2label[label.item()], font=font)\n",
            "<ipython-input-27-e399afaa81b4>:51: DeprecationWarning: textsize is deprecated and will be removed in Pillow 10 (2023-07-01). Use textbbox or textlength instead.\n",
            "  text_width, text_height = draw.textsize(model.config.id2label[label.item()], font=font)\n",
            "<ipython-input-27-e399afaa81b4>:51: DeprecationWarning: textsize is deprecated and will be removed in Pillow 10 (2023-07-01). Use textbbox or textlength instead.\n",
            "  text_width, text_height = draw.textsize(model.config.id2label[label.item()], font=font)\n",
            "<ipython-input-27-e399afaa81b4>:51: DeprecationWarning: textsize is deprecated and will be removed in Pillow 10 (2023-07-01). Use textbbox or textlength instead.\n",
            "  text_width, text_height = draw.textsize(model.config.id2label[label.item()], font=font)\n",
            "<ipython-input-27-e399afaa81b4>:51: DeprecationWarning: textsize is deprecated and will be removed in Pillow 10 (2023-07-01). Use textbbox or textlength instead.\n",
            "  text_width, text_height = draw.textsize(model.config.id2label[label.item()], font=font)\n",
            "<ipython-input-27-e399afaa81b4>:51: DeprecationWarning: textsize is deprecated and will be removed in Pillow 10 (2023-07-01). Use textbbox or textlength instead.\n",
            "  text_width, text_height = draw.textsize(model.config.id2label[label.item()], font=font)\n",
            "<ipython-input-27-e399afaa81b4>:51: DeprecationWarning: textsize is deprecated and will be removed in Pillow 10 (2023-07-01). Use textbbox or textlength instead.\n",
            "  text_width, text_height = draw.textsize(model.config.id2label[label.item()], font=font)\n",
            "<ipython-input-27-e399afaa81b4>:51: DeprecationWarning: textsize is deprecated and will be removed in Pillow 10 (2023-07-01). Use textbbox or textlength instead.\n",
            "  text_width, text_height = draw.textsize(model.config.id2label[label.item()], font=font)\n",
            "<ipython-input-27-e399afaa81b4>:51: DeprecationWarning: textsize is deprecated and will be removed in Pillow 10 (2023-07-01). Use textbbox or textlength instead.\n",
            "  text_width, text_height = draw.textsize(model.config.id2label[label.item()], font=font)\n",
            "<ipython-input-27-e399afaa81b4>:51: DeprecationWarning: textsize is deprecated and will be removed in Pillow 10 (2023-07-01). Use textbbox or textlength instead.\n",
            "  text_width, text_height = draw.textsize(model.config.id2label[label.item()], font=font)\n",
            "<ipython-input-27-e399afaa81b4>:51: DeprecationWarning: textsize is deprecated and will be removed in Pillow 10 (2023-07-01). Use textbbox or textlength instead.\n",
            "  text_width, text_height = draw.textsize(model.config.id2label[label.item()], font=font)\n",
            "<ipython-input-27-e399afaa81b4>:51: DeprecationWarning: textsize is deprecated and will be removed in Pillow 10 (2023-07-01). Use textbbox or textlength instead.\n",
            "  text_width, text_height = draw.textsize(model.config.id2label[label.item()], font=font)\n",
            "<ipython-input-27-e399afaa81b4>:51: DeprecationWarning: textsize is deprecated and will be removed in Pillow 10 (2023-07-01). Use textbbox or textlength instead.\n",
            "  text_width, text_height = draw.textsize(model.config.id2label[label.item()], font=font)\n",
            "<ipython-input-27-e399afaa81b4>:51: DeprecationWarning: textsize is deprecated and will be removed in Pillow 10 (2023-07-01). Use textbbox or textlength instead.\n",
            "  text_width, text_height = draw.textsize(model.config.id2label[label.item()], font=font)\n",
            "<ipython-input-27-e399afaa81b4>:51: DeprecationWarning: textsize is deprecated and will be removed in Pillow 10 (2023-07-01). Use textbbox or textlength instead.\n",
            "  text_width, text_height = draw.textsize(model.config.id2label[label.item()], font=font)\n"
          ]
        },
        {
          "output_type": "stream",
          "name": "stdout",
          "text": [
            "Detected car with confidence 0.939 at location [178.35, 355.2, 208.96, 371.36]\n",
            "Detected car with confidence 0.917 at location [798.82, 354.77, 984.42, 402.61]\n",
            "Detected truck with confidence 0.963 at location [566.84, 310.01, 642.16, 372.33]\n",
            "Detected traffic light with confidence 0.98 at location [791.96, 205.88, 805.08, 233.22]\n",
            "Detected traffic light with confidence 0.985 at location [171.91, 152.26, 191.78, 190.55]\n",
            "Detected traffic light with confidence 0.902 at location [701.94, 207.3, 716.89, 237.35]\n",
            "Detected traffic light with confidence 0.976 at location [227.1, 54.28, 254.78, 114.55]\n",
            "Detected car with confidence 0.954 at location [438.73, 347.78, 473.78, 368.86]\n",
            "Detected traffic light with confidence 0.951 at location [1021.46, 175.53, 1040.94, 217.58]\n",
            "Detected traffic light with confidence 0.983 at location [409.12, 48.22, 435.49, 109.51]\n",
            "Detected car with confidence 0.978 at location [1152.41, 355.39, 1239.56, 392.06]\n",
            "Detected traffic light with confidence 0.922 at location [1068.65, 163.31, 1087.32, 204.94]\n",
            "Detected traffic light with confidence 0.979 at location [215.81, 154.81, 241.2, 199.54]\n",
            "Detected car with confidence 0.945 at location [374.85, 346.84, 412.03, 367.77]\n",
            "Detected car with confidence 0.95 at location [796.9, 361.83, 880.71, 395.82]\n",
            "Detected traffic light with confidence 0.911 at location [1058.85, 158.13, 1079.55, 205.24]\n",
            "Detected traffic light with confidence 0.962 at location [695.71, 207.71, 710.74, 237.04]\n",
            "Detected car with confidence 0.922 at location [262.34, 354.37, 304.86, 372.56]\n",
            "Detected car with confidence 0.972 at location [948.36, 359.81, 1021.79, 392.67]\n"
          ]
        },
        {
          "output_type": "stream",
          "name": "stderr",
          "text": [
            "<ipython-input-27-e399afaa81b4>:51: DeprecationWarning: textsize is deprecated and will be removed in Pillow 10 (2023-07-01). Use textbbox or textlength instead.\n",
            "  text_width, text_height = draw.textsize(model.config.id2label[label.item()], font=font)\n",
            "<ipython-input-27-e399afaa81b4>:51: DeprecationWarning: textsize is deprecated and will be removed in Pillow 10 (2023-07-01). Use textbbox or textlength instead.\n",
            "  text_width, text_height = draw.textsize(model.config.id2label[label.item()], font=font)\n",
            "<ipython-input-27-e399afaa81b4>:51: DeprecationWarning: textsize is deprecated and will be removed in Pillow 10 (2023-07-01). Use textbbox or textlength instead.\n",
            "  text_width, text_height = draw.textsize(model.config.id2label[label.item()], font=font)\n",
            "<ipython-input-27-e399afaa81b4>:51: DeprecationWarning: textsize is deprecated and will be removed in Pillow 10 (2023-07-01). Use textbbox or textlength instead.\n",
            "  text_width, text_height = draw.textsize(model.config.id2label[label.item()], font=font)\n",
            "<ipython-input-27-e399afaa81b4>:51: DeprecationWarning: textsize is deprecated and will be removed in Pillow 10 (2023-07-01). Use textbbox or textlength instead.\n",
            "  text_width, text_height = draw.textsize(model.config.id2label[label.item()], font=font)\n",
            "<ipython-input-27-e399afaa81b4>:51: DeprecationWarning: textsize is deprecated and will be removed in Pillow 10 (2023-07-01). Use textbbox or textlength instead.\n",
            "  text_width, text_height = draw.textsize(model.config.id2label[label.item()], font=font)\n",
            "<ipython-input-27-e399afaa81b4>:51: DeprecationWarning: textsize is deprecated and will be removed in Pillow 10 (2023-07-01). Use textbbox or textlength instead.\n",
            "  text_width, text_height = draw.textsize(model.config.id2label[label.item()], font=font)\n",
            "<ipython-input-27-e399afaa81b4>:51: DeprecationWarning: textsize is deprecated and will be removed in Pillow 10 (2023-07-01). Use textbbox or textlength instead.\n",
            "  text_width, text_height = draw.textsize(model.config.id2label[label.item()], font=font)\n",
            "<ipython-input-27-e399afaa81b4>:51: DeprecationWarning: textsize is deprecated and will be removed in Pillow 10 (2023-07-01). Use textbbox or textlength instead.\n",
            "  text_width, text_height = draw.textsize(model.config.id2label[label.item()], font=font)\n",
            "<ipython-input-27-e399afaa81b4>:51: DeprecationWarning: textsize is deprecated and will be removed in Pillow 10 (2023-07-01). Use textbbox or textlength instead.\n",
            "  text_width, text_height = draw.textsize(model.config.id2label[label.item()], font=font)\n",
            "<ipython-input-27-e399afaa81b4>:51: DeprecationWarning: textsize is deprecated and will be removed in Pillow 10 (2023-07-01). Use textbbox or textlength instead.\n",
            "  text_width, text_height = draw.textsize(model.config.id2label[label.item()], font=font)\n",
            "<ipython-input-27-e399afaa81b4>:51: DeprecationWarning: textsize is deprecated and will be removed in Pillow 10 (2023-07-01). Use textbbox or textlength instead.\n",
            "  text_width, text_height = draw.textsize(model.config.id2label[label.item()], font=font)\n",
            "<ipython-input-27-e399afaa81b4>:51: DeprecationWarning: textsize is deprecated and will be removed in Pillow 10 (2023-07-01). Use textbbox or textlength instead.\n",
            "  text_width, text_height = draw.textsize(model.config.id2label[label.item()], font=font)\n",
            "<ipython-input-27-e399afaa81b4>:51: DeprecationWarning: textsize is deprecated and will be removed in Pillow 10 (2023-07-01). Use textbbox or textlength instead.\n",
            "  text_width, text_height = draw.textsize(model.config.id2label[label.item()], font=font)\n",
            "<ipython-input-27-e399afaa81b4>:51: DeprecationWarning: textsize is deprecated and will be removed in Pillow 10 (2023-07-01). Use textbbox or textlength instead.\n",
            "  text_width, text_height = draw.textsize(model.config.id2label[label.item()], font=font)\n",
            "<ipython-input-27-e399afaa81b4>:51: DeprecationWarning: textsize is deprecated and will be removed in Pillow 10 (2023-07-01). Use textbbox or textlength instead.\n",
            "  text_width, text_height = draw.textsize(model.config.id2label[label.item()], font=font)\n",
            "<ipython-input-27-e399afaa81b4>:51: DeprecationWarning: textsize is deprecated and will be removed in Pillow 10 (2023-07-01). Use textbbox or textlength instead.\n",
            "  text_width, text_height = draw.textsize(model.config.id2label[label.item()], font=font)\n",
            "<ipython-input-27-e399afaa81b4>:51: DeprecationWarning: textsize is deprecated and will be removed in Pillow 10 (2023-07-01). Use textbbox or textlength instead.\n",
            "  text_width, text_height = draw.textsize(model.config.id2label[label.item()], font=font)\n",
            "<ipython-input-27-e399afaa81b4>:51: DeprecationWarning: textsize is deprecated and will be removed in Pillow 10 (2023-07-01). Use textbbox or textlength instead.\n",
            "  text_width, text_height = draw.textsize(model.config.id2label[label.item()], font=font)\n"
          ]
        },
        {
          "output_type": "stream",
          "name": "stdout",
          "text": [
            "Detected traffic light with confidence 0.975 at location [276.25, 78.37, 303.94, 134.9]\n",
            "Detected car with confidence 0.95 at location [195.76, 356.57, 226.4, 373.23]\n",
            "Detected traffic light with confidence 0.955 at location [443.76, 78.06, 469.67, 136.29]\n",
            "Detected truck with confidence 0.906 at location [592.37, 320.02, 654.68, 378.79]\n",
            "Detected traffic light with confidence 0.963 at location [790.06, 215.69, 803.85, 242.7]\n",
            "Detected traffic light with confidence 0.977 at location [202.32, 159.79, 220.65, 198.55]\n",
            "Detected traffic light with confidence 0.94 at location [704.69, 217.86, 720.35, 246.23]\n",
            "Detected car with confidence 0.985 at location [921.13, 363.59, 1083.59, 433.17]\n",
            "Detected car with confidence 0.919 at location [447.42, 350.3, 485.7, 373.58]\n",
            "Detected car with confidence 0.993 at location [1179.51, 357.93, 1260.08, 393.81]\n",
            "Detected traffic light with confidence 0.983 at location [243.84, 170.4, 264.16, 209.61]\n",
            "Detected car with confidence 0.905 at location [1240.36, 360.48, 1280.03, 392.92]\n",
            "Detected car with confidence 0.921 at location [505.15, 344.98, 557.84, 377.53]\n"
          ]
        },
        {
          "output_type": "stream",
          "name": "stderr",
          "text": [
            "<ipython-input-27-e399afaa81b4>:51: DeprecationWarning: textsize is deprecated and will be removed in Pillow 10 (2023-07-01). Use textbbox or textlength instead.\n",
            "  text_width, text_height = draw.textsize(model.config.id2label[label.item()], font=font)\n",
            "<ipython-input-27-e399afaa81b4>:51: DeprecationWarning: textsize is deprecated and will be removed in Pillow 10 (2023-07-01). Use textbbox or textlength instead.\n",
            "  text_width, text_height = draw.textsize(model.config.id2label[label.item()], font=font)\n",
            "<ipython-input-27-e399afaa81b4>:51: DeprecationWarning: textsize is deprecated and will be removed in Pillow 10 (2023-07-01). Use textbbox or textlength instead.\n",
            "  text_width, text_height = draw.textsize(model.config.id2label[label.item()], font=font)\n",
            "<ipython-input-27-e399afaa81b4>:51: DeprecationWarning: textsize is deprecated and will be removed in Pillow 10 (2023-07-01). Use textbbox or textlength instead.\n",
            "  text_width, text_height = draw.textsize(model.config.id2label[label.item()], font=font)\n",
            "<ipython-input-27-e399afaa81b4>:51: DeprecationWarning: textsize is deprecated and will be removed in Pillow 10 (2023-07-01). Use textbbox or textlength instead.\n",
            "  text_width, text_height = draw.textsize(model.config.id2label[label.item()], font=font)\n",
            "<ipython-input-27-e399afaa81b4>:51: DeprecationWarning: textsize is deprecated and will be removed in Pillow 10 (2023-07-01). Use textbbox or textlength instead.\n",
            "  text_width, text_height = draw.textsize(model.config.id2label[label.item()], font=font)\n",
            "<ipython-input-27-e399afaa81b4>:51: DeprecationWarning: textsize is deprecated and will be removed in Pillow 10 (2023-07-01). Use textbbox or textlength instead.\n",
            "  text_width, text_height = draw.textsize(model.config.id2label[label.item()], font=font)\n",
            "<ipython-input-27-e399afaa81b4>:51: DeprecationWarning: textsize is deprecated and will be removed in Pillow 10 (2023-07-01). Use textbbox or textlength instead.\n",
            "  text_width, text_height = draw.textsize(model.config.id2label[label.item()], font=font)\n",
            "<ipython-input-27-e399afaa81b4>:51: DeprecationWarning: textsize is deprecated and will be removed in Pillow 10 (2023-07-01). Use textbbox or textlength instead.\n",
            "  text_width, text_height = draw.textsize(model.config.id2label[label.item()], font=font)\n",
            "<ipython-input-27-e399afaa81b4>:51: DeprecationWarning: textsize is deprecated and will be removed in Pillow 10 (2023-07-01). Use textbbox or textlength instead.\n",
            "  text_width, text_height = draw.textsize(model.config.id2label[label.item()], font=font)\n",
            "<ipython-input-27-e399afaa81b4>:51: DeprecationWarning: textsize is deprecated and will be removed in Pillow 10 (2023-07-01). Use textbbox or textlength instead.\n",
            "  text_width, text_height = draw.textsize(model.config.id2label[label.item()], font=font)\n",
            "<ipython-input-27-e399afaa81b4>:51: DeprecationWarning: textsize is deprecated and will be removed in Pillow 10 (2023-07-01). Use textbbox or textlength instead.\n",
            "  text_width, text_height = draw.textsize(model.config.id2label[label.item()], font=font)\n",
            "<ipython-input-27-e399afaa81b4>:51: DeprecationWarning: textsize is deprecated and will be removed in Pillow 10 (2023-07-01). Use textbbox or textlength instead.\n",
            "  text_width, text_height = draw.textsize(model.config.id2label[label.item()], font=font)\n"
          ]
        },
        {
          "output_type": "stream",
          "name": "stdout",
          "text": [
            "[{'frame60': {'traffic light': 10, 'car': 8, 'truck': 1}}, {'frame45': {'traffic light': 9, 'car': 7, 'truck': 1}}, {'frame30': {'car': 8, 'truck': 1, 'traffic light': 10}}, {'frame15': {'traffic light': 6, 'car': 6, 'truck': 1}}]\n",
            "CLIP_298\n",
            "Detected car with confidence 0.979 at location [0.7, 576.85, 1280.7, 716.18]\n",
            "Detected car with confidence 0.993 at location [647.59, 380.71, 681.99, 406.16]\n"
          ]
        },
        {
          "output_type": "stream",
          "name": "stderr",
          "text": [
            "<ipython-input-27-e399afaa81b4>:51: DeprecationWarning: textsize is deprecated and will be removed in Pillow 10 (2023-07-01). Use textbbox or textlength instead.\n",
            "  text_width, text_height = draw.textsize(model.config.id2label[label.item()], font=font)\n",
            "<ipython-input-27-e399afaa81b4>:51: DeprecationWarning: textsize is deprecated and will be removed in Pillow 10 (2023-07-01). Use textbbox or textlength instead.\n",
            "  text_width, text_height = draw.textsize(model.config.id2label[label.item()], font=font)\n"
          ]
        },
        {
          "output_type": "stream",
          "name": "stdout",
          "text": [
            "Detected car with confidence 0.935 at location [0.49, 572.28, 1280.48, 716.48]\n",
            "Detected car with confidence 0.959 at location [644.02, 402.28, 673.07, 421.92]\n",
            "Detected car with confidence 0.91 at location [638.06, 402.91, 665.38, 421.9]\n"
          ]
        },
        {
          "output_type": "stream",
          "name": "stderr",
          "text": [
            "<ipython-input-27-e399afaa81b4>:51: DeprecationWarning: textsize is deprecated and will be removed in Pillow 10 (2023-07-01). Use textbbox or textlength instead.\n",
            "  text_width, text_height = draw.textsize(model.config.id2label[label.item()], font=font)\n",
            "<ipython-input-27-e399afaa81b4>:51: DeprecationWarning: textsize is deprecated and will be removed in Pillow 10 (2023-07-01). Use textbbox or textlength instead.\n",
            "  text_width, text_height = draw.textsize(model.config.id2label[label.item()], font=font)\n",
            "<ipython-input-27-e399afaa81b4>:51: DeprecationWarning: textsize is deprecated and will be removed in Pillow 10 (2023-07-01). Use textbbox or textlength instead.\n",
            "  text_width, text_height = draw.textsize(model.config.id2label[label.item()], font=font)\n"
          ]
        },
        {
          "output_type": "stream",
          "name": "stdout",
          "text": [
            "Detected car with confidence 0.91 at location [621.61, 403.22, 647.02, 421.2]\n",
            "Detected stop sign with confidence 0.914 at location [38.23, 272.37, 160.71, 352.06]\n",
            "Detected car with confidence 0.965 at location [639.49, 403.08, 664.23, 420.34]\n"
          ]
        },
        {
          "output_type": "stream",
          "name": "stderr",
          "text": [
            "<ipython-input-27-e399afaa81b4>:51: DeprecationWarning: textsize is deprecated and will be removed in Pillow 10 (2023-07-01). Use textbbox or textlength instead.\n",
            "  text_width, text_height = draw.textsize(model.config.id2label[label.item()], font=font)\n",
            "<ipython-input-27-e399afaa81b4>:51: DeprecationWarning: textsize is deprecated and will be removed in Pillow 10 (2023-07-01). Use textbbox or textlength instead.\n",
            "  text_width, text_height = draw.textsize(model.config.id2label[label.item()], font=font)\n",
            "<ipython-input-27-e399afaa81b4>:51: DeprecationWarning: textsize is deprecated and will be removed in Pillow 10 (2023-07-01). Use textbbox or textlength instead.\n",
            "  text_width, text_height = draw.textsize(model.config.id2label[label.item()], font=font)\n"
          ]
        },
        {
          "output_type": "stream",
          "name": "stdout",
          "text": [
            "Detected car with confidence 0.908 at location [497.4, 393.01, 556.99, 430.17]\n",
            "Detected car with confidence 0.993 at location [0.54, 571.19, 1280.53, 714.88]\n",
            "Detected car with confidence 0.987 at location [650.03, 401.99, 680.91, 424.77]\n"
          ]
        },
        {
          "output_type": "stream",
          "name": "stderr",
          "text": [
            "<ipython-input-27-e399afaa81b4>:51: DeprecationWarning: textsize is deprecated and will be removed in Pillow 10 (2023-07-01). Use textbbox or textlength instead.\n",
            "  text_width, text_height = draw.textsize(model.config.id2label[label.item()], font=font)\n",
            "<ipython-input-27-e399afaa81b4>:51: DeprecationWarning: textsize is deprecated and will be removed in Pillow 10 (2023-07-01). Use textbbox or textlength instead.\n",
            "  text_width, text_height = draw.textsize(model.config.id2label[label.item()], font=font)\n",
            "<ipython-input-27-e399afaa81b4>:51: DeprecationWarning: textsize is deprecated and will be removed in Pillow 10 (2023-07-01). Use textbbox or textlength instead.\n",
            "  text_width, text_height = draw.textsize(model.config.id2label[label.item()], font=font)\n"
          ]
        },
        {
          "output_type": "stream",
          "name": "stdout",
          "text": [
            "[{'frame48': {'car': 2}}, {'frame24': {'car': 3}}, {'frame12': {'car': 2, 'stop sign': 1}}, {'frame36': {'car': 3}}]\n",
            "CLIP_26\n",
            "Detected traffic light with confidence 0.987 at location [883.31, 298.32, 912.45, 334.66]\n",
            "Detected traffic light with confidence 0.957 at location [994.29, 299.9, 1020.21, 335.08]\n"
          ]
        },
        {
          "output_type": "stream",
          "name": "stderr",
          "text": [
            "<ipython-input-27-e399afaa81b4>:51: DeprecationWarning: textsize is deprecated and will be removed in Pillow 10 (2023-07-01). Use textbbox or textlength instead.\n",
            "  text_width, text_height = draw.textsize(model.config.id2label[label.item()], font=font)\n",
            "<ipython-input-27-e399afaa81b4>:51: DeprecationWarning: textsize is deprecated and will be removed in Pillow 10 (2023-07-01). Use textbbox or textlength instead.\n",
            "  text_width, text_height = draw.textsize(model.config.id2label[label.item()], font=font)\n"
          ]
        },
        {
          "output_type": "stream",
          "name": "stdout",
          "text": [
            "Detected car with confidence 0.914 at location [277.16, 412.15, 427.18, 483.45]\n",
            "Detected truck with confidence 0.931 at location [797.84, 286.21, 1276.86, 636.13]\n"
          ]
        },
        {
          "output_type": "stream",
          "name": "stderr",
          "text": [
            "<ipython-input-27-e399afaa81b4>:51: DeprecationWarning: textsize is deprecated and will be removed in Pillow 10 (2023-07-01). Use textbbox or textlength instead.\n",
            "  text_width, text_height = draw.textsize(model.config.id2label[label.item()], font=font)\n",
            "<ipython-input-27-e399afaa81b4>:51: DeprecationWarning: textsize is deprecated and will be removed in Pillow 10 (2023-07-01). Use textbbox or textlength instead.\n",
            "  text_width, text_height = draw.textsize(model.config.id2label[label.item()], font=font)\n"
          ]
        },
        {
          "output_type": "stream",
          "name": "stdout",
          "text": [
            "Detected person with confidence 0.973 at location [395.31, 402.08, 436.83, 486.27]\n"
          ]
        },
        {
          "output_type": "stream",
          "name": "stderr",
          "text": [
            "<ipython-input-27-e399afaa81b4>:51: DeprecationWarning: textsize is deprecated and will be removed in Pillow 10 (2023-07-01). Use textbbox or textlength instead.\n",
            "  text_width, text_height = draw.textsize(model.config.id2label[label.item()], font=font)\n"
          ]
        },
        {
          "output_type": "stream",
          "name": "stdout",
          "text": [
            "[{'frame60': {'traffic light': 2}}, {'frame45': {'car': 1, 'truck': 1}}, {'frame30': {}}, {'frame15': {'person': 1}}]\n",
            "CLIP_150\n",
            "Detected car with confidence 0.954 at location [351.5, 367.71, 511.28, 427.13]\n",
            "Detected car with confidence 0.935 at location [0.33, 520.64, 1280.33, 713.12]\n",
            "Detected car with confidence 0.913 at location [834.58, 338.88, 858.14, 351.87]\n",
            "Detected car with confidence 0.965 at location [520.39, 366.42, 689.13, 428.83]\n"
          ]
        },
        {
          "output_type": "stream",
          "name": "stderr",
          "text": [
            "<ipython-input-27-e399afaa81b4>:51: DeprecationWarning: textsize is deprecated and will be removed in Pillow 10 (2023-07-01). Use textbbox or textlength instead.\n",
            "  text_width, text_height = draw.textsize(model.config.id2label[label.item()], font=font)\n",
            "<ipython-input-27-e399afaa81b4>:51: DeprecationWarning: textsize is deprecated and will be removed in Pillow 10 (2023-07-01). Use textbbox or textlength instead.\n",
            "  text_width, text_height = draw.textsize(model.config.id2label[label.item()], font=font)\n",
            "<ipython-input-27-e399afaa81b4>:51: DeprecationWarning: textsize is deprecated and will be removed in Pillow 10 (2023-07-01). Use textbbox or textlength instead.\n",
            "  text_width, text_height = draw.textsize(model.config.id2label[label.item()], font=font)\n",
            "<ipython-input-27-e399afaa81b4>:51: DeprecationWarning: textsize is deprecated and will be removed in Pillow 10 (2023-07-01). Use textbbox or textlength instead.\n",
            "  text_width, text_height = draw.textsize(model.config.id2label[label.item()], font=font)\n"
          ]
        },
        {
          "output_type": "stream",
          "name": "stdout",
          "text": [
            "Detected car with confidence 0.921 at location [0.42, 523.79, 1280.42, 713.6]\n",
            "Detected car with confidence 0.938 at location [611.87, 361.21, 726.63, 412.03]\n"
          ]
        },
        {
          "output_type": "stream",
          "name": "stderr",
          "text": [
            "<ipython-input-27-e399afaa81b4>:51: DeprecationWarning: textsize is deprecated and will be removed in Pillow 10 (2023-07-01). Use textbbox or textlength instead.\n",
            "  text_width, text_height = draw.textsize(model.config.id2label[label.item()], font=font)\n",
            "<ipython-input-27-e399afaa81b4>:51: DeprecationWarning: textsize is deprecated and will be removed in Pillow 10 (2023-07-01). Use textbbox or textlength instead.\n",
            "  text_width, text_height = draw.textsize(model.config.id2label[label.item()], font=font)\n"
          ]
        },
        {
          "output_type": "stream",
          "name": "stdout",
          "text": [
            "Detected car with confidence 0.97 at location [555.45, 361.68, 625.86, 403.25]\n",
            "Detected car with confidence 0.928 at location [0.33, 525.49, 1280.33, 713.66]\n",
            "Detected car with confidence 0.964 at location [648.52, 358.28, 732.13, 401.07]\n"
          ]
        },
        {
          "output_type": "stream",
          "name": "stderr",
          "text": [
            "<ipython-input-27-e399afaa81b4>:51: DeprecationWarning: textsize is deprecated and will be removed in Pillow 10 (2023-07-01). Use textbbox or textlength instead.\n",
            "  text_width, text_height = draw.textsize(model.config.id2label[label.item()], font=font)\n",
            "<ipython-input-27-e399afaa81b4>:51: DeprecationWarning: textsize is deprecated and will be removed in Pillow 10 (2023-07-01). Use textbbox or textlength instead.\n",
            "  text_width, text_height = draw.textsize(model.config.id2label[label.item()], font=font)\n",
            "<ipython-input-27-e399afaa81b4>:51: DeprecationWarning: textsize is deprecated and will be removed in Pillow 10 (2023-07-01). Use textbbox or textlength instead.\n",
            "  text_width, text_height = draw.textsize(model.config.id2label[label.item()], font=font)\n"
          ]
        },
        {
          "output_type": "stream",
          "name": "stdout",
          "text": [
            "Detected car with confidence 0.966 at location [612.9, 363.48, 678.42, 397.55]\n"
          ]
        },
        {
          "output_type": "stream",
          "name": "stderr",
          "text": [
            "<ipython-input-27-e399afaa81b4>:51: DeprecationWarning: textsize is deprecated and will be removed in Pillow 10 (2023-07-01). Use textbbox or textlength instead.\n",
            "  text_width, text_height = draw.textsize(model.config.id2label[label.item()], font=font)\n"
          ]
        },
        {
          "output_type": "stream",
          "name": "stdout",
          "text": [
            "[{'frame60': {'car': 4}}, {'frame45': {'car': 2}}, {'frame30': {'car': 3}}, {'frame15': {'car': 1}}]\n"
          ]
        }
      ]
    },
    {
      "cell_type": "code",
      "source": [
        "!zip -r /content/YOLO_bounding_box_images.zip /content/YOLO_bounding_box_images\n",
        "!zip -r /content/YOLO_output.zip /content/YOLO_output"
      ],
      "metadata": {
        "id": "4-OhPbmOoZO3",
        "outputId": "30c68510-ca68-4545-f1f4-53a411a6a29e",
        "colab": {
          "base_uri": "https://localhost:8080/"
        }
      },
      "execution_count": null,
      "outputs": [
        {
          "output_type": "stream",
          "name": "stdout",
          "text": [
            "  adding: content/YOLO_bounding_box_images/ (stored 0%)\n",
            "  adding: content/YOLO_bounding_box_images/CLIP_127/ (stored 0%)\n",
            "  adding: content/YOLO_bounding_box_images/CLIP_127/frame60.png (deflated 0%)\n",
            "  adding: content/YOLO_bounding_box_images/CLIP_127/frame45.png (deflated 0%)\n",
            "  adding: content/YOLO_bounding_box_images/CLIP_127/frame15.png (deflated 0%)\n",
            "  adding: content/YOLO_bounding_box_images/CLIP_127/frame30.png (deflated 0%)\n",
            "  adding: content/YOLO_bounding_box_images/CLIP_308/ (stored 0%)\n",
            "  adding: content/YOLO_bounding_box_images/CLIP_308/frame29.png (deflated 1%)\n",
            "  adding: content/YOLO_bounding_box_images/CLIP_308/frame58.png (deflated 0%)\n",
            "  adding: content/YOLO_bounding_box_images/CLIP_169/ (stored 0%)\n",
            "  adding: content/YOLO_bounding_box_images/CLIP_169/frame60.png (deflated 0%)\n",
            "  adding: content/YOLO_bounding_box_images/CLIP_169/frame45.png (deflated 0%)\n",
            "  adding: content/YOLO_bounding_box_images/CLIP_169/frame15.png (deflated 0%)\n",
            "  adding: content/YOLO_bounding_box_images/CLIP_169/frame30.png (deflated 0%)\n",
            "  adding: content/YOLO_bounding_box_images/CLIP_124/ (stored 0%)\n",
            "  adding: content/YOLO_bounding_box_images/CLIP_124/frame60.png (deflated 0%)\n",
            "  adding: content/YOLO_bounding_box_images/CLIP_124/frame45.png (deflated 0%)\n",
            "  adding: content/YOLO_bounding_box_images/CLIP_124/frame15.png (deflated 0%)\n",
            "  adding: content/YOLO_bounding_box_images/CLIP_124/frame30.png (deflated 0%)\n",
            "  adding: content/YOLO_bounding_box_images/CLIP_89/ (stored 0%)\n",
            "  adding: content/YOLO_bounding_box_images/CLIP_89/frame60.png (deflated 1%)\n",
            "  adding: content/YOLO_bounding_box_images/CLIP_89/frame45.png (deflated 1%)\n",
            "  adding: content/YOLO_bounding_box_images/CLIP_89/frame15.png (deflated 1%)\n",
            "  adding: content/YOLO_bounding_box_images/CLIP_89/frame30.png (deflated 1%)\n",
            "  adding: content/YOLO_bounding_box_images/CLIP_28/ (stored 0%)\n",
            "  adding: content/YOLO_bounding_box_images/CLIP_28/frame60.png (deflated 1%)\n",
            "  adding: content/YOLO_bounding_box_images/CLIP_28/frame45.png (deflated 0%)\n",
            "  adding: content/YOLO_bounding_box_images/CLIP_28/frame15.png (deflated 1%)\n",
            "  adding: content/YOLO_bounding_box_images/CLIP_28/frame30.png (deflated 0%)\n",
            "  adding: content/YOLO_bounding_box_images/CLIP_95/ (stored 0%)\n",
            "  adding: content/YOLO_bounding_box_images/CLIP_95/frame60.png (deflated 0%)\n",
            "  adding: content/YOLO_bounding_box_images/CLIP_95/frame45.png (deflated 0%)\n",
            "  adding: content/YOLO_bounding_box_images/CLIP_95/frame15.png (deflated 0%)\n",
            "  adding: content/YOLO_bounding_box_images/CLIP_95/frame30.png (deflated 0%)\n",
            "  adding: content/YOLO_bounding_box_images/CLIP_322/ (stored 0%)\n",
            "  adding: content/YOLO_bounding_box_images/CLIP_322/frame60.png (deflated 0%)\n",
            "  adding: content/YOLO_bounding_box_images/CLIP_322/frame45.png (deflated 0%)\n",
            "  adding: content/YOLO_bounding_box_images/CLIP_322/frame15.png (deflated 0%)\n",
            "  adding: content/YOLO_bounding_box_images/CLIP_322/frame30.png (deflated 0%)\n",
            "  adding: content/YOLO_bounding_box_images/CLIP_183/ (stored 0%)\n",
            "  adding: content/YOLO_bounding_box_images/CLIP_183/frame60.png (deflated 0%)\n",
            "  adding: content/YOLO_bounding_box_images/CLIP_183/frame45.png (deflated 0%)\n",
            "  adding: content/YOLO_bounding_box_images/CLIP_183/frame15.png (deflated 0%)\n",
            "  adding: content/YOLO_bounding_box_images/CLIP_183/frame30.png (deflated 0%)\n",
            "  adding: content/YOLO_bounding_box_images/CLIP_52/ (stored 0%)\n",
            "  adding: content/YOLO_bounding_box_images/CLIP_52/frame60.png (deflated 0%)\n",
            "  adding: content/YOLO_bounding_box_images/CLIP_52/frame45.png (deflated 0%)\n",
            "  adding: content/YOLO_bounding_box_images/CLIP_52/frame15.png (deflated 0%)\n",
            "  adding: content/YOLO_bounding_box_images/CLIP_52/frame30.png (deflated 0%)\n",
            "  adding: content/YOLO_bounding_box_images/CLIP_312/ (stored 0%)\n",
            "  adding: content/YOLO_bounding_box_images/CLIP_312/frame29.png (deflated 1%)\n",
            "  adding: content/YOLO_bounding_box_images/CLIP_312/frame58.png (deflated 1%)\n",
            "  adding: content/YOLO_bounding_box_images/CLIP_336/ (stored 0%)\n",
            "  adding: content/YOLO_bounding_box_images/CLIP_336/frame60.png (deflated 0%)\n",
            "  adding: content/YOLO_bounding_box_images/CLIP_336/frame45.png (deflated 0%)\n",
            "  adding: content/YOLO_bounding_box_images/CLIP_336/frame15.png (deflated 0%)\n",
            "  adding: content/YOLO_bounding_box_images/CLIP_336/frame30.png (deflated 0%)\n",
            "  adding: content/YOLO_bounding_box_images/CLIP_20/ (stored 0%)\n",
            "  adding: content/YOLO_bounding_box_images/CLIP_20/frame60.png (deflated 0%)\n",
            "  adding: content/YOLO_bounding_box_images/CLIP_20/frame45.png (deflated 0%)\n",
            "  adding: content/YOLO_bounding_box_images/CLIP_20/frame15.png (deflated 0%)\n",
            "  adding: content/YOLO_bounding_box_images/CLIP_20/frame30.png (deflated 0%)\n",
            "  adding: content/YOLO_bounding_box_images/CLIP_226/ (stored 0%)\n",
            "  adding: content/YOLO_bounding_box_images/CLIP_226/frame60.png (deflated 0%)\n",
            "  adding: content/YOLO_bounding_box_images/CLIP_226/frame45.png (deflated 0%)\n",
            "  adding: content/YOLO_bounding_box_images/CLIP_226/frame15.png (deflated 0%)\n",
            "  adding: content/YOLO_bounding_box_images/CLIP_226/frame30.png (deflated 0%)\n",
            "  adding: content/YOLO_bounding_box_images/CLIP_307/ (stored 0%)\n",
            "  adding: content/YOLO_bounding_box_images/CLIP_307/frame24.png (deflated 0%)\n",
            "  adding: content/YOLO_bounding_box_images/CLIP_307/frame36.png (deflated 0%)\n",
            "  adding: content/YOLO_bounding_box_images/CLIP_307/frame12.png (deflated 0%)\n",
            "  adding: content/YOLO_bounding_box_images/CLIP_307/frame48.png (deflated 0%)\n",
            "  adding: content/YOLO_bounding_box_images/CLIP_247/ (stored 0%)\n",
            "  adding: content/YOLO_bounding_box_images/CLIP_247/frame29.png (deflated 0%)\n",
            "  adding: content/YOLO_bounding_box_images/CLIP_247/frame58.png (deflated 0%)\n",
            "  adding: content/YOLO_bounding_box_images/CLIP_83/ (stored 0%)\n",
            "  adding: content/YOLO_bounding_box_images/CLIP_83/frame60.png (deflated 1%)\n",
            "  adding: content/YOLO_bounding_box_images/CLIP_83/frame45.png (deflated 1%)\n",
            "  adding: content/YOLO_bounding_box_images/CLIP_83/frame15.png (deflated 1%)\n",
            "  adding: content/YOLO_bounding_box_images/CLIP_83/frame30.png (deflated 1%)\n",
            "  adding: content/YOLO_bounding_box_images/CLIP_88/ (stored 0%)\n",
            "  adding: content/YOLO_bounding_box_images/CLIP_88/frame60.png (deflated 0%)\n",
            "  adding: content/YOLO_bounding_box_images/CLIP_88/frame90.png (deflated 0%)\n",
            "  adding: content/YOLO_bounding_box_images/CLIP_88/frame45.png (deflated 0%)\n",
            "  adding: content/YOLO_bounding_box_images/CLIP_88/frame15.png (deflated 0%)\n",
            "  adding: content/YOLO_bounding_box_images/CLIP_88/frame30.png (deflated 0%)\n",
            "  adding: content/YOLO_bounding_box_images/CLIP_88/frame75.png (deflated 0%)\n",
            "  adding: content/YOLO_bounding_box_images/CLIP_5/ (stored 0%)\n",
            "  adding: content/YOLO_bounding_box_images/CLIP_5/frame60.png (deflated 0%)\n",
            "  adding: content/YOLO_bounding_box_images/CLIP_5/frame45.png (deflated 0%)\n",
            "  adding: content/YOLO_bounding_box_images/CLIP_5/frame15.png (deflated 0%)\n",
            "  adding: content/YOLO_bounding_box_images/CLIP_5/frame30.png (deflated 0%)\n",
            "  adding: content/YOLO_bounding_box_images/CLIP_315/ (stored 0%)\n",
            "  adding: content/YOLO_bounding_box_images/CLIP_315/frame29.png (deflated 0%)\n",
            "  adding: content/YOLO_bounding_box_images/CLIP_315/frame58.png (deflated 0%)\n",
            "  adding: content/YOLO_bounding_box_images/CLIP_9/ (stored 0%)\n",
            "  adding: content/YOLO_bounding_box_images/CLIP_9/frame60.png (deflated 1%)\n",
            "  adding: content/YOLO_bounding_box_images/CLIP_9/frame45.png (deflated 1%)\n",
            "  adding: content/YOLO_bounding_box_images/CLIP_9/frame15.png (deflated 1%)\n",
            "  adding: content/YOLO_bounding_box_images/CLIP_9/frame30.png (deflated 1%)\n",
            "  adding: content/YOLO_bounding_box_images/CLIP_43/ (stored 0%)\n",
            "  adding: content/YOLO_bounding_box_images/CLIP_43/frame60.png (deflated 0%)\n",
            "  adding: content/YOLO_bounding_box_images/CLIP_43/frame45.png (deflated 0%)\n",
            "  adding: content/YOLO_bounding_box_images/CLIP_43/frame15.png (deflated 0%)\n",
            "  adding: content/YOLO_bounding_box_images/CLIP_43/frame30.png (deflated 0%)\n",
            "  adding: content/YOLO_bounding_box_images/CLIP_252/ (stored 0%)\n",
            "  adding: content/YOLO_bounding_box_images/CLIP_252/frame60.png (deflated 0%)\n",
            "  adding: content/YOLO_bounding_box_images/CLIP_252/frame45.png (deflated 1%)\n",
            "  adding: content/YOLO_bounding_box_images/CLIP_252/frame15.png (deflated 1%)\n",
            "  adding: content/YOLO_bounding_box_images/CLIP_252/frame30.png (deflated 1%)\n",
            "  adding: content/YOLO_bounding_box_images/CLIP_208/ (stored 0%)\n",
            "  adding: content/YOLO_bounding_box_images/CLIP_208/frame60.png (deflated 0%)\n",
            "  adding: content/YOLO_bounding_box_images/CLIP_208/frame45.png (deflated 1%)\n",
            "  adding: content/YOLO_bounding_box_images/CLIP_208/frame15.png (deflated 1%)\n",
            "  adding: content/YOLO_bounding_box_images/CLIP_208/frame30.png (deflated 1%)\n",
            "  adding: content/YOLO_bounding_box_images/CLIP_152/ (stored 0%)\n",
            "  adding: content/YOLO_bounding_box_images/CLIP_152/frame29.png (deflated 0%)\n",
            "  adding: content/YOLO_bounding_box_images/CLIP_152/frame58.png (deflated 0%)\n",
            "  adding: content/YOLO_bounding_box_images/CLIP_85/ (stored 0%)\n",
            "  adding: content/YOLO_bounding_box_images/CLIP_85/frame60.png (deflated 0%)\n",
            "  adding: content/YOLO_bounding_box_images/CLIP_85/frame45.png (deflated 0%)\n",
            "  adding: content/YOLO_bounding_box_images/CLIP_85/frame15.png (deflated 0%)\n",
            "  adding: content/YOLO_bounding_box_images/CLIP_85/frame30.png (deflated 0%)\n",
            "  adding: content/YOLO_bounding_box_images/CLIP_30/ (stored 0%)\n",
            "  adding: content/YOLO_bounding_box_images/CLIP_30/frame60.png (deflated 1%)\n",
            "  adding: content/YOLO_bounding_box_images/CLIP_30/frame45.png (deflated 0%)\n",
            "  adding: content/YOLO_bounding_box_images/CLIP_30/frame15.png (deflated 0%)\n",
            "  adding: content/YOLO_bounding_box_images/CLIP_30/frame30.png (deflated 0%)\n",
            "  adding: content/YOLO_bounding_box_images/CLIP_264/ (stored 0%)\n",
            "  adding: content/YOLO_bounding_box_images/CLIP_264/frame60.png (deflated 0%)\n",
            "  adding: content/YOLO_bounding_box_images/CLIP_264/frame45.png (deflated 0%)\n",
            "  adding: content/YOLO_bounding_box_images/CLIP_264/frame15.png (deflated 0%)\n",
            "  adding: content/YOLO_bounding_box_images/CLIP_264/frame30.png (deflated 0%)\n",
            "  adding: content/YOLO_bounding_box_images/CLIP_37/ (stored 0%)\n",
            "  adding: content/YOLO_bounding_box_images/CLIP_37/frame60.png (deflated 0%)\n",
            "  adding: content/YOLO_bounding_box_images/CLIP_37/frame45.png (deflated 0%)\n",
            "  adding: content/YOLO_bounding_box_images/CLIP_37/frame15.png (deflated 0%)\n",
            "  adding: content/YOLO_bounding_box_images/CLIP_37/frame30.png (deflated 0%)\n",
            "  adding: content/YOLO_bounding_box_images/CLIP_116/ (stored 0%)\n",
            "  adding: content/YOLO_bounding_box_images/CLIP_116/frame60.png (deflated 0%)\n",
            "  adding: content/YOLO_bounding_box_images/CLIP_116/frame45.png (deflated 0%)\n",
            "  adding: content/YOLO_bounding_box_images/CLIP_116/frame15.png (deflated 0%)\n",
            "  adding: content/YOLO_bounding_box_images/CLIP_116/frame30.png (deflated 0%)\n",
            "  adding: content/YOLO_bounding_box_images/CLIP_243/ (stored 0%)\n",
            "  adding: content/YOLO_bounding_box_images/CLIP_243/frame29.png (deflated 1%)\n",
            "  adding: content/YOLO_bounding_box_images/CLIP_243/frame58.png (deflated 1%)\n",
            "  adding: content/YOLO_bounding_box_images/CLIP_66/ (stored 0%)\n",
            "  adding: content/YOLO_bounding_box_images/CLIP_66/frame60.png (deflated 1%)\n",
            "  adding: content/YOLO_bounding_box_images/CLIP_66/frame45.png (deflated 1%)\n",
            "  adding: content/YOLO_bounding_box_images/CLIP_66/frame15.png (deflated 0%)\n",
            "  adding: content/YOLO_bounding_box_images/CLIP_66/frame30.png (deflated 0%)\n",
            "  adding: content/YOLO_bounding_box_images/CLIP_289/ (stored 0%)\n",
            "  adding: content/YOLO_bounding_box_images/CLIP_289/frame24.png (deflated 0%)\n",
            "  adding: content/YOLO_bounding_box_images/CLIP_289/frame36.png (deflated 0%)\n",
            "  adding: content/YOLO_bounding_box_images/CLIP_289/frame12.png (deflated 1%)\n",
            "  adding: content/YOLO_bounding_box_images/CLIP_289/frame48.png (deflated 0%)\n",
            "  adding: content/YOLO_bounding_box_images/CLIP_324/ (stored 0%)\n",
            "  adding: content/YOLO_bounding_box_images/CLIP_324/frame60.png (deflated 0%)\n",
            "  adding: content/YOLO_bounding_box_images/CLIP_324/frame45.png (deflated 0%)\n",
            "  adding: content/YOLO_bounding_box_images/CLIP_324/frame15.png (deflated 0%)\n",
            "  adding: content/YOLO_bounding_box_images/CLIP_324/frame30.png (deflated 0%)\n",
            "  adding: content/YOLO_bounding_box_images/CLIP_165/ (stored 0%)\n",
            "  adding: content/YOLO_bounding_box_images/CLIP_165/frame29.png (deflated 0%)\n",
            "  adding: content/YOLO_bounding_box_images/CLIP_165/frame58.png (deflated 0%)\n",
            "  adding: content/YOLO_bounding_box_images/CLIP_84/ (stored 0%)\n",
            "  adding: content/YOLO_bounding_box_images/CLIP_84/frame60.png (deflated 1%)\n",
            "  adding: content/YOLO_bounding_box_images/CLIP_84/frame45.png (deflated 1%)\n",
            "  adding: content/YOLO_bounding_box_images/CLIP_84/frame15.png (deflated 1%)\n",
            "  adding: content/YOLO_bounding_box_images/CLIP_84/frame30.png (deflated 1%)\n",
            "  adding: content/YOLO_bounding_box_images/CLIP_283/ (stored 0%)\n",
            "  adding: content/YOLO_bounding_box_images/CLIP_283/frame60.png (deflated 0%)\n",
            "  adding: content/YOLO_bounding_box_images/CLIP_283/frame45.png (deflated 0%)\n",
            "  adding: content/YOLO_bounding_box_images/CLIP_283/frame15.png (deflated 0%)\n",
            "  adding: content/YOLO_bounding_box_images/CLIP_283/frame30.png (deflated 0%)\n",
            "  adding: content/YOLO_bounding_box_images/CLIP_168/ (stored 0%)\n",
            "  adding: content/YOLO_bounding_box_images/CLIP_168/frame60.png (deflated 0%)\n",
            "  adding: content/YOLO_bounding_box_images/CLIP_168/frame45.png (deflated 0%)\n",
            "  adding: content/YOLO_bounding_box_images/CLIP_168/frame15.png (deflated 0%)\n",
            "  adding: content/YOLO_bounding_box_images/CLIP_168/frame30.png (deflated 0%)\n",
            "  adding: content/YOLO_bounding_box_images/CLIP_40/ (stored 0%)\n",
            "  adding: content/YOLO_bounding_box_images/CLIP_40/frame60.png (deflated 0%)\n",
            "  adding: content/YOLO_bounding_box_images/CLIP_40/frame45.png (deflated 0%)\n",
            "  adding: content/YOLO_bounding_box_images/CLIP_40/frame15.png (deflated 0%)\n",
            "  adding: content/YOLO_bounding_box_images/CLIP_40/frame30.png (deflated 0%)\n",
            "  adding: content/YOLO_bounding_box_images/CLIP_201/ (stored 0%)\n",
            "  adding: content/YOLO_bounding_box_images/CLIP_201/frame60.png (deflated 0%)\n",
            "  adding: content/YOLO_bounding_box_images/CLIP_201/frame45.png (deflated 0%)\n",
            "  adding: content/YOLO_bounding_box_images/CLIP_201/frame15.png (deflated 0%)\n",
            "  adding: content/YOLO_bounding_box_images/CLIP_201/frame30.png (deflated 0%)\n",
            "  adding: content/YOLO_bounding_box_images/CLIP_19/ (stored 0%)\n",
            "  adding: content/YOLO_bounding_box_images/CLIP_19/frame60.png (deflated 0%)\n",
            "  adding: content/YOLO_bounding_box_images/CLIP_19/frame45.png (deflated 0%)\n",
            "  adding: content/YOLO_bounding_box_images/CLIP_19/frame15.png (deflated 0%)\n",
            "  adding: content/YOLO_bounding_box_images/CLIP_19/frame30.png (deflated 0%)\n",
            "  adding: content/YOLO_bounding_box_images/CLIP_199/ (stored 0%)\n",
            "  adding: content/YOLO_bounding_box_images/CLIP_199/frame60.png (deflated 0%)\n",
            "  adding: content/YOLO_bounding_box_images/CLIP_199/frame45.png (deflated 0%)\n",
            "  adding: content/YOLO_bounding_box_images/CLIP_199/frame15.png (deflated 0%)\n",
            "  adding: content/YOLO_bounding_box_images/CLIP_199/frame30.png (deflated 0%)\n",
            "  adding: content/YOLO_bounding_box_images/CLIP_311/ (stored 0%)\n",
            "  adding: content/YOLO_bounding_box_images/CLIP_311/frame29.png (deflated 0%)\n",
            "  adding: content/YOLO_bounding_box_images/CLIP_311/frame58.png (deflated 0%)\n",
            "  adding: content/YOLO_bounding_box_images/CLIP_261/ (stored 0%)\n",
            "  adding: content/YOLO_bounding_box_images/CLIP_261/frame60.png (deflated 0%)\n",
            "  adding: content/YOLO_bounding_box_images/CLIP_261/frame45.png (deflated 0%)\n",
            "  adding: content/YOLO_bounding_box_images/CLIP_261/frame15.png (deflated 0%)\n",
            "  adding: content/YOLO_bounding_box_images/CLIP_261/frame30.png (deflated 0%)\n",
            "  adding: content/YOLO_bounding_box_images/CLIP_58/ (stored 0%)\n",
            "  adding: content/YOLO_bounding_box_images/CLIP_58/frame60.png (deflated 0%)\n",
            "  adding: content/YOLO_bounding_box_images/CLIP_58/frame45.png (deflated 0%)\n",
            "  adding: content/YOLO_bounding_box_images/CLIP_58/frame15.png (deflated 0%)\n",
            "  adding: content/YOLO_bounding_box_images/CLIP_58/frame30.png (deflated 0%)\n",
            "  adding: content/YOLO_bounding_box_images/CLIP_304/ (stored 0%)\n",
            "  adding: content/YOLO_bounding_box_images/CLIP_304/frame24.png (deflated 0%)\n",
            "  adding: content/YOLO_bounding_box_images/CLIP_304/frame36.png (deflated 0%)\n",
            "  adding: content/YOLO_bounding_box_images/CLIP_304/frame12.png (deflated 0%)\n",
            "  adding: content/YOLO_bounding_box_images/CLIP_304/frame48.png (deflated 0%)\n",
            "  adding: content/YOLO_bounding_box_images/CLIP_198/ (stored 0%)\n",
            "  adding: content/YOLO_bounding_box_images/CLIP_198/frame60.png (deflated 0%)\n",
            "  adding: content/YOLO_bounding_box_images/CLIP_198/frame45.png (deflated 0%)\n",
            "  adding: content/YOLO_bounding_box_images/CLIP_198/frame15.png (deflated 0%)\n",
            "  adding: content/YOLO_bounding_box_images/CLIP_198/frame30.png (deflated 0%)\n",
            "  adding: content/YOLO_bounding_box_images/CLIP_298/ (stored 0%)\n",
            "  adding: content/YOLO_bounding_box_images/CLIP_298/frame24.png (deflated 0%)\n",
            "  adding: content/YOLO_bounding_box_images/CLIP_298/frame36.png (deflated 0%)\n",
            "  adding: content/YOLO_bounding_box_images/CLIP_298/frame12.png (deflated 0%)\n",
            "  adding: content/YOLO_bounding_box_images/CLIP_298/frame48.png (deflated 0%)\n",
            "  adding: content/YOLO_bounding_box_images/CLIP_26/ (stored 0%)\n",
            "  adding: content/YOLO_bounding_box_images/CLIP_26/frame60.png (deflated 0%)\n",
            "  adding: content/YOLO_bounding_box_images/CLIP_26/frame45.png (deflated 0%)\n",
            "  adding: content/YOLO_bounding_box_images/CLIP_26/frame15.png (deflated 0%)\n",
            "  adding: content/YOLO_bounding_box_images/CLIP_26/frame30.png (deflated 0%)\n",
            "  adding: content/YOLO_bounding_box_images/CLIP_150/ (stored 0%)\n",
            "  adding: content/YOLO_bounding_box_images/CLIP_150/frame60.png (deflated 0%)\n",
            "  adding: content/YOLO_bounding_box_images/CLIP_150/frame45.png (deflated 0%)\n",
            "  adding: content/YOLO_bounding_box_images/CLIP_150/frame15.png (deflated 0%)\n",
            "  adding: content/YOLO_bounding_box_images/CLIP_150/frame30.png (deflated 0%)\n",
            "  adding: content/YOLO_output/ (stored 0%)\n",
            "  adding: content/YOLO_output/CLIP_298.txt (deflated 47%)\n",
            "  adding: content/YOLO_output/CLIP_247.txt (deflated 34%)\n",
            "  adding: content/YOLO_output/CLIP_322.txt (deflated 51%)\n",
            "  adding: content/YOLO_output/CLIP_127.txt (deflated 50%)\n",
            "  adding: content/YOLO_output/CLIP_315.txt (deflated 34%)\n",
            "  adding: content/YOLO_output/CLIP_226.txt (deflated 53%)\n",
            "  adding: content/YOLO_output/CLIP_199.txt (deflated 52%)\n",
            "  adding: content/YOLO_output/CLIP_169.txt (deflated 54%)\n",
            "  adding: content/YOLO_output/CLIP_88.txt (deflated 67%)\n",
            "  adding: content/YOLO_output/CLIP_28.txt (deflated 53%)\n",
            "  adding: content/YOLO_output/CLIP_20.txt (deflated 57%)\n",
            "  adding: content/YOLO_output/CLIP_243.txt (deflated 19%)\n",
            "  adding: content/YOLO_output/CLIP_30.txt (deflated 49%)\n",
            "  adding: content/YOLO_output/CLIP_52.txt (deflated 58%)\n",
            "  adding: content/YOLO_output/CLIP_9.txt (deflated 54%)\n",
            "  adding: content/YOLO_output/CLIP_89.txt (deflated 53%)\n",
            "  adding: content/YOLO_output/CLIP_261.txt (deflated 55%)\n",
            "  adding: content/YOLO_output/CLIP_289.txt (deflated 58%)\n",
            "  adding: content/YOLO_output/CLIP_116.txt (deflated 54%)\n",
            "  adding: content/YOLO_output/CLIP_83.txt (deflated 51%)\n",
            "  adding: content/YOLO_output/CLIP_283.txt (deflated 56%)\n",
            "  adding: content/YOLO_output/CLIP_324.txt (deflated 51%)\n",
            "  adding: content/YOLO_output/CLIP_124.txt (deflated 50%)\n",
            "  adding: content/YOLO_output/CLIP_19.txt (deflated 43%)\n",
            "  adding: content/YOLO_output/CLIP_304.txt (deflated 50%)\n",
            "  adding: content/YOLO_output/CLIP_165.txt (deflated 28%)\n",
            "  adding: content/YOLO_output/CLIP_264.txt (deflated 63%)\n",
            "  adding: content/YOLO_output/CLIP_26.txt (deflated 35%)\n",
            "  adding: content/YOLO_output/CLIP_43.txt (deflated 57%)\n",
            "  adding: content/YOLO_output/CLIP_308.txt (deflated 34%)\n",
            "  adding: content/YOLO_output/CLIP_208.txt (deflated 56%)\n",
            "  adding: content/YOLO_output/CLIP_58.txt (deflated 54%)\n",
            "  adding: content/YOLO_output/CLIP_40.txt (deflated 46%)\n",
            "  adding: content/YOLO_output/CLIP_95.txt (deflated 61%)\n",
            "  adding: content/YOLO_output/CLIP_66.txt (deflated 63%)\n",
            "  adding: content/YOLO_output/CLIP_37.txt (deflated 39%)\n",
            "  adding: content/YOLO_output/CLIP_5.txt (deflated 49%)\n",
            "  adding: content/YOLO_output/CLIP_85.txt (deflated 55%)\n",
            "  adding: content/YOLO_output/CLIP_168.txt (deflated 59%)\n",
            "  adding: content/YOLO_output/CLIP_312.txt (deflated 39%)\n",
            "  adding: content/YOLO_output/CLIP_152.txt (deflated 28%)\n",
            "  adding: content/YOLO_output/CLIP_201.txt (deflated 54%)\n",
            "  adding: content/YOLO_output/CLIP_84.txt (deflated 49%)\n",
            "  adding: content/YOLO_output/CLIP_183.txt (deflated 57%)\n",
            "  adding: content/YOLO_output/CLIP_336.txt (deflated 48%)\n",
            "  adding: content/YOLO_output/CLIP_150.txt (deflated 52%)\n",
            "  adding: content/YOLO_output/CLIP_311.txt (deflated 28%)\n",
            "  adding: content/YOLO_output/CLIP_307.txt (deflated 56%)\n",
            "  adding: content/YOLO_output/CLIP_198.txt (deflated 61%)\n",
            "  adding: content/YOLO_output/CLIP_252.txt (deflated 52%)\n"
          ]
        }
      ]
    }
  ]
}